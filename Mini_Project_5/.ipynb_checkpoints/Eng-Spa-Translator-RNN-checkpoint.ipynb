{
 "cells": [
  {
   "cell_type": "code",
   "execution_count": 1,
   "metadata": {},
   "outputs": [],
   "source": [
    "import string\n",
    "import re\n",
    "import numpy as np #import array, argmax, random, take\n",
    "import pandas as pd\n",
    "from keras.models import Sequential\n",
    "from keras.layers import Dense, LSTM, Embedding, RepeatVector\n",
    "from keras.preprocessing.text import Tokenizer\n",
    "from keras.callbacks import ModelCheckpoint\n",
    "from keras.preprocessing.sequence import pad_sequences\n",
    "from keras.models import load_model\n",
    "from keras import optimizers\n",
    "import matplotlib.pyplot as plt\n",
    "from sklearn.model_selection import train_test_split\n",
    "%matplotlib inline\n",
    "pd.set_option('display.max_colwidth', 200)"
   ]
  },
  {
   "cell_type": "code",
   "execution_count": 2,
   "metadata": {},
   "outputs": [],
   "source": [
    "# read raw text file\n",
    "def read_text(filename):\n",
    "    file = open(filename, mode='rt', encoding='utf-8')\n",
    "    text = file.read()\n",
    "    file.close()\n",
    "    return text"
   ]
  },
  {
   "cell_type": "code",
   "execution_count": 3,
   "metadata": {},
   "outputs": [],
   "source": [
    "# parse into sentences\n",
    "def to_sentences(text):\n",
    "    sentences = text.strip().split('\\n') # split lines of bilingual pairs\n",
    "    sentences = [i.split('\\t') for i in sentences] # split sentences\n",
    "    return sentences"
   ]
  },
  {
   "cell_type": "code",
   "execution_count": 4,
   "metadata": {},
   "outputs": [],
   "source": [
    "data = read_text('spa-eng/spa.txt')\n",
    "spa_eng = to_sentences(data)"
   ]
  },
  {
   "cell_type": "code",
   "execution_count": 5,
   "metadata": {},
   "outputs": [
    {
     "data": {
      "text/plain": [
       "array([['Go.', 'Ve.',\n",
       "        'CC-BY 2.0 (France) Attribution: tatoeba.org #2877272 (CM) & #4986655 (cueyayotl)'],\n",
       "       ['Go.', 'Vete.',\n",
       "        'CC-BY 2.0 (France) Attribution: tatoeba.org #2877272 (CM) & #4986656 (cueyayotl)'],\n",
       "       ['Go.', 'Vaya.',\n",
       "        'CC-BY 2.0 (France) Attribution: tatoeba.org #2877272 (CM) & #4986657 (cueyayotl)'],\n",
       "       ...,\n",
       "       ['If you want to sound like a native speaker, you must be willing to practice saying the same sentence over and over in the same way that banjo players practice the same phrase over and over until they can play it correctly and at the desired tempo.',\n",
       "        'Si quieres sonar como un hablante nativo, debes estar dispuesto a practicar diciendo la misma frase una y otra vez de la misma manera en que un músico de banjo practica el mismo fraseo una y otra vez hasta que lo puedan tocar correctamente y en el tiempo esperado.',\n",
       "        'CC-BY 2.0 (France) Attribution: tatoeba.org #953962 (CK) & #1218695 (marcelostockle)'],\n",
       "       ['It may be impossible to get a completely error-free corpus due to the nature of this kind of collaborative effort. However, if we encourage members to contribute sentences in their own languages rather than experiment in languages they are learning, we might be able to minimize errors.',\n",
       "        'Puede que sea imposible obtener un corpus completamente libre de errores debido a la naturaleza de este tipo de esfuerzo de colaboración. Sin embargo, si animamos a los miembros a contribuir frases en sus propios idiomas en lugar de experimentar con los idiomas que están aprendiendo, podríamos ser capaces de minimizar los errores.',\n",
       "        'CC-BY 2.0 (France) Attribution: tatoeba.org #2024159 (CK) & #4463195 (cueyayotl)'],\n",
       "       [\"One day, I woke up to find that God had put hair on my face. I shaved it off. The next day, I found that God had put it back on my face, so I shaved it off again. On the third day, when I found that God had put hair back on my face again, I decided to let God have his way. That's why I have a beard.\",\n",
       "        'Un día, me desperté y vi que Dios me había puesto pelo en la cara. Me lo afeité. Al día siguiente, vi que Dios me lo había vuelto a poner en la cara, así que me lo afeité otra vez. Al tercer día, cuando vi que Dios me había puesto pelo en la cara de nuevo, decidí que Dios se saliera con la suya. Por eso tengo barba.',\n",
       "        'CC-BY 2.0 (France) Attribution: tatoeba.org #10104877 (CK) & #10106093 (manufrutos)']],\n",
       "      dtype='<U332')"
      ]
     },
     "execution_count": 5,
     "metadata": {},
     "output_type": "execute_result"
    }
   ],
   "source": [
    "spa_eng = np.array(spa_eng)\n",
    "spa_eng"
   ]
  },
  {
   "cell_type": "code",
   "execution_count": 6,
   "metadata": {},
   "outputs": [],
   "source": [
    "spa_eng_set = spa_eng[:50000,:2]"
   ]
  },
  {
   "cell_type": "code",
   "execution_count": 7,
   "metadata": {},
   "outputs": [
    {
     "data": {
      "text/plain": [
       "array([['Go.', 'Ve.'],\n",
       "       ['Go.', 'Vete.'],\n",
       "       ['Go.', 'Vaya.'],\n",
       "       ...,\n",
       "       ['A cat can see in the dark.',\n",
       "        'Los gatos pueden ver en la oscuridad.'],\n",
       "       ['A cat can see in the dark.',\n",
       "        'Un gato puede ver en la oscuridad.'],\n",
       "       ['A cat is lying in the sun.', 'Un gato está tumbado al sol.']],\n",
       "      dtype='<U332')"
      ]
     },
     "execution_count": 7,
     "metadata": {},
     "output_type": "execute_result"
    }
   ],
   "source": [
    "spa_eng_set"
   ]
  },
  {
   "cell_type": "markdown",
   "metadata": {},
   "source": [
    "### Cleaning"
   ]
  },
  {
   "cell_type": "code",
   "execution_count": 8,
   "metadata": {},
   "outputs": [],
   "source": [
    "# remove punctuation, must be done on individual array elements because of how its been split\n",
    "spa_eng_set[:,0] = [s.translate(str.maketrans('', '', string.punctuation)) for s in spa_eng_set[:,0]]\n",
    "spa_eng_set[:,1] = [s.translate(str.maketrans('', '', string.punctuation)) for s in spa_eng_set[:,1]]"
   ]
  },
  {
   "cell_type": "code",
   "execution_count": 9,
   "metadata": {},
   "outputs": [
    {
     "data": {
      "text/plain": [
       "array([['Go', 'Ve'],\n",
       "       ['Go', 'Vete'],\n",
       "       ['Go', 'Vaya'],\n",
       "       ...,\n",
       "       ['A cat can see in the dark',\n",
       "        'Los gatos pueden ver en la oscuridad'],\n",
       "       ['A cat can see in the dark', 'Un gato puede ver en la oscuridad'],\n",
       "       ['A cat is lying in the sun', 'Un gato está tumbado al sol']],\n",
       "      dtype='<U332')"
      ]
     },
     "execution_count": 9,
     "metadata": {},
     "output_type": "execute_result"
    }
   ],
   "source": [
    "spa_eng_set"
   ]
  },
  {
   "cell_type": "code",
   "execution_count": 10,
   "metadata": {},
   "outputs": [],
   "source": [
    "# lowercase\n",
    "def lower(sentence_pairs):\n",
    "    for i in range(len(sentence_pairs)):\n",
    "        sentence_pairs[i,0] = sentence_pairs[i,0].lower()\n",
    "        sentence_pairs[i,1] = sentence_pairs[i,1].lower()\n",
    "    return sentence_pairs"
   ]
  },
  {
   "cell_type": "code",
   "execution_count": 11,
   "metadata": {},
   "outputs": [
    {
     "data": {
      "text/plain": [
       "array([['go', 've'],\n",
       "       ['go', 'vete'],\n",
       "       ['go', 'vaya'],\n",
       "       ...,\n",
       "       ['a cat can see in the dark',\n",
       "        'los gatos pueden ver en la oscuridad'],\n",
       "       ['a cat can see in the dark', 'un gato puede ver en la oscuridad'],\n",
       "       ['a cat is lying in the sun', 'un gato está tumbado al sol']],\n",
       "      dtype='<U332')"
      ]
     },
     "execution_count": 11,
     "metadata": {},
     "output_type": "execute_result"
    }
   ],
   "source": [
    "lower(spa_eng_set)"
   ]
  },
  {
   "cell_type": "code",
   "execution_count": 12,
   "metadata": {},
   "outputs": [
    {
     "data": {
      "text/plain": [
       "array([['go', 've'],\n",
       "       ['go', 'vete'],\n",
       "       ['go', 'vaya'],\n",
       "       ...,\n",
       "       ['a cat can see in the dark',\n",
       "        'los gatos pueden ver en la oscuridad'],\n",
       "       ['a cat can see in the dark', 'un gato puede ver en la oscuridad'],\n",
       "       ['a cat is lying in the sun', 'un gato está tumbado al sol']],\n",
       "      dtype='<U332')"
      ]
     },
     "execution_count": 12,
     "metadata": {},
     "output_type": "execute_result"
    }
   ],
   "source": [
    "spa_eng_set"
   ]
  },
  {
   "cell_type": "code",
   "execution_count": 13,
   "metadata": {},
   "outputs": [
    {
     "data": {
      "image/png": "[encoded data removed]",
      "text/plain": [
       "<Figure size 432x288 with 2 Axes>"
      ]
     },
     "metadata": {
      "needs_background": "light"
     },
     "output_type": "display_data"
    }
   ],
   "source": [
    "# quick visualization of sentence length\n",
    "eng_list = []\n",
    "spa_list = []\n",
    "\n",
    "for i in spa_eng_set[:,0]:\n",
    "    eng_list.append(len(i.split()))\n",
    "for i in spa_eng_set[:,1]:\n",
    "    spa_list.append(len(i.split()))\n",
    "\n",
    "length_df = pd.DataFrame({'eng':eng_list, 'spa':spa_list})\n",
    "length_df.hist(bins=15)\n",
    "plt.show()"
   ]
  },
  {
   "cell_type": "markdown",
   "metadata": {},
   "source": [
    "## Tokenization"
   ]
  },
  {
   "cell_type": "code",
   "execution_count": 14,
   "metadata": {},
   "outputs": [],
   "source": [
    "def tokenization(lines):\n",
    "    tokenizer = Tokenizer()\n",
    "    tokenizer.fit_on_texts(lines)\n",
    "    return tokenizer"
   ]
  },
  {
   "cell_type": "code",
   "execution_count": 15,
   "metadata": {},
   "outputs": [
    {
     "name": "stdout",
     "output_type": "stream",
     "text": [
      "English vocabulary size: 6879\n"
     ]
    }
   ],
   "source": [
    "# tokenizer preparation english\n",
    "eng_token = tokenization(spa_eng_set[:,0])\n",
    "eng_vocab_size = len(eng_token.word_index) + 1 # index starts at 0\n",
    "print('English vocabulary size:', eng_vocab_size)"
   ]
  },
  {
   "cell_type": "code",
   "execution_count": 16,
   "metadata": {},
   "outputs": [
    {
     "data": {
      "text/plain": [
       "<keras_preprocessing.text.Tokenizer at 0x7f8114223970>"
      ]
     },
     "execution_count": 16,
     "metadata": {},
     "output_type": "execute_result"
    }
   ],
   "source": [
    "eng_token"
   ]
  },
  {
   "cell_type": "code",
   "execution_count": 17,
   "metadata": {},
   "outputs": [
    {
     "name": "stdout",
     "output_type": "stream",
     "text": [
      "Spanish vocabulary size: 14055\n"
     ]
    }
   ],
   "source": [
    "# tokenizer preparation spanish\n",
    "spa_token = tokenization(spa_eng_set[:,1])\n",
    "spa_vocab_size = len(spa_token.word_index) + 1 # index starts at 0\n",
    "print('Spanish vocabulary size:', spa_vocab_size)"
   ]
  },
  {
   "cell_type": "code",
   "execution_count": 18,
   "metadata": {},
   "outputs": [],
   "source": [
    "# encode and pad lines\n",
    "def encode_sequences(tokenizer, length, lines):\n",
    "    seq = tokenizer.texts_to_sequences(lines) # encode as integers\n",
    "    seq = pad_sequences(seq, maxlen=length, padding='post') # pad end with 0 values\n",
    "    return seq"
   ]
  },
  {
   "cell_type": "markdown",
   "metadata": {},
   "source": [
    "### Final data prep"
   ]
  },
  {
   "cell_type": "code",
   "execution_count": 19,
   "metadata": {},
   "outputs": [],
   "source": [
    "# set variables to define max sequence length\n",
    "eng_length = 8\n",
    "spa_length = 8"
   ]
  },
  {
   "cell_type": "code",
   "execution_count": 20,
   "metadata": {},
   "outputs": [],
   "source": [
    "# train test split for model\n",
    "train, test = train_test_split(spa_eng_set, test_size=0.2, random_state=0)"
   ]
  },
  {
   "cell_type": "code",
   "execution_count": 21,
   "metadata": {},
   "outputs": [],
   "source": [
    "X_train = encode_sequences(eng_token, eng_length, train[:,0])\n",
    "Y_train = encode_sequences(spa_token, spa_length, train[:,1])\n",
    "\n",
    "X_test = encode_sequences(eng_token, eng_length, test[:,0])\n",
    "Y_test = encode_sequences(spa_token, spa_length, test[:,1])"
   ]
  },
  {
   "cell_type": "markdown",
   "metadata": {},
   "source": [
    "## Model"
   ]
  },
  {
   "cell_type": "markdown",
   "metadata": {},
   "source": [
    "### Initial Model"
   ]
  },
  {
   "cell_type": "code",
   "execution_count": 22,
   "metadata": {},
   "outputs": [],
   "source": [
    "model = Sequential([\n",
    "    Embedding(eng_vocab_size, 512, input_length=eng_length, mask_zero=True),\n",
    "    LSTM(512),\n",
    "    RepeatVector(spa_length),\n",
    "    LSTM(512, return_sequences=True),\n",
    "    Dense(spa_vocab_size, activation='softmax')\n",
    "])"
   ]
  },
  {
   "cell_type": "code",
   "execution_count": 25,
   "metadata": {},
   "outputs": [],
   "source": [
    "model.compile(optimizer='adam', loss='sparse_categorical_crossentropy')"
   ]
  },
  {
   "cell_type": "code",
   "execution_count": 26,
   "metadata": {},
   "outputs": [
    {
     "name": "stdout",
     "output_type": "stream",
     "text": [
      "Epoch 1/15\n",
      "63/63 [==============================] - 100s 1s/step - loss: 6.4413 - val_loss: 3.8585\n",
      "Epoch 2/15\n",
      "63/63 [==============================] - 89s 1s/step - loss: 3.6895 - val_loss: 3.6470\n",
      "Epoch 3/15\n",
      "63/63 [==============================] - 89s 1s/step - loss: 3.5310 - val_loss: 3.5732\n",
      "Epoch 4/15\n",
      "63/63 [==============================] - 88s 1s/step - loss: 3.4408 - val_loss: 3.5474\n",
      "Epoch 5/15\n",
      "63/63 [==============================] - 92s 1s/step - loss: 3.4003 - val_loss: 3.5317\n",
      "Epoch 6/15\n",
      "63/63 [==============================] - 88s 1s/step - loss: 3.3646 - val_loss: 3.5090\n",
      "Epoch 7/15\n",
      "63/63 [==============================] - 87s 1s/step - loss: 3.3420 - val_loss: 3.4896\n",
      "Epoch 8/15\n",
      "63/63 [==============================] - 89s 1s/step - loss: 3.2943 - val_loss: 3.4724\n",
      "Epoch 9/15\n",
      "63/63 [==============================] - 87s 1s/step - loss: 3.2788 - val_loss: 3.4302\n",
      "Epoch 10/15\n",
      "63/63 [==============================] - 84s 1s/step - loss: 3.2233 - val_loss: 3.4126\n",
      "Epoch 11/15\n",
      "63/63 [==============================] - 84s 1s/step - loss: 3.1840 - val_loss: 3.3961\n",
      "Epoch 12/15\n",
      "63/63 [==============================] - 84s 1s/step - loss: 3.1429 - val_loss: 3.3775\n",
      "Epoch 13/15\n",
      "63/63 [==============================] - 87s 1s/step - loss: 3.1154 - val_loss: 3.3489\n",
      "Epoch 14/15\n",
      "63/63 [==============================] - 87s 1s/step - loss: 3.0605 - val_loss: 3.3235\n",
      "Epoch 15/15\n",
      "63/63 [==============================] - 88s 1s/step - loss: 3.0266 - val_loss: 3.2908\n"
     ]
    }
   ],
   "source": [
    "# train model\n",
    "history = model.fit(X_train, Y_train.reshape(Y_train.shape[0], Y_train.shape[1], 1),\n",
    "                   epochs=15, batch_size=512, validation_split=0.2, verbose=1)"
   ]
  },
  {
   "cell_type": "code",
   "execution_count": 27,
   "metadata": {},
   "outputs": [
    {
     "data": {
      "image/png": "[encoded data removed]",
      "text/plain": [
       "<Figure size 432x288 with 1 Axes>"
      ]
     },
     "metadata": {
      "needs_background": "light"
     },
     "output_type": "display_data"
    }
   ],
   "source": [
    "plt.plot(history.history['loss'])\n",
    "plt.plot(history.history['val_loss'])\n",
    "plt.legend(['train', 'validation'])\n",
    "plt.show()"
   ]
  },
  {
   "cell_type": "code",
   "execution_count": 28,
   "metadata": {},
   "outputs": [
    {
     "name": "stderr",
     "output_type": "stream",
     "text": [
      "/Users/daylin/opt/anaconda3/lib/python3.8/site-packages/keras/engine/sequential.py:450: UserWarning: `model.predict_classes()` is deprecated and will be removed after 2021-01-01. Please use instead:* `np.argmax(model.predict(x), axis=-1)`,   if your model does multi-class classification   (e.g. if it uses a `softmax` last-layer activation).* `(model.predict(x) > 0.5).astype(\"int32\")`,   if your model does binary classification   (e.g. if it uses a `sigmoid` last-layer activation).\n",
      "  warnings.warn('`model.predict_classes()` is deprecated and '\n"
     ]
    }
   ],
   "source": [
    "preds = model.predict_classes(X_test.reshape((X_test.shape[0], X_test.shape[1])))"
   ]
  },
  {
   "cell_type": "code",
   "execution_count": 29,
   "metadata": {},
   "outputs": [],
   "source": [
    "def get_word(n, tokenizer):\n",
    "    for word, index in tokenizer.word_index.items():\n",
    "        if index == n:\n",
    "            return word\n",
    "    return None"
   ]
  },
  {
   "cell_type": "code",
   "execution_count": 30,
   "metadata": {},
   "outputs": [],
   "source": [
    "preds_text = []\n",
    "for i in preds:\n",
    "    temp = []\n",
    "    for j in range(len(i)):\n",
    "        t = get_word(i[j], spa_token)\n",
    "        if j > 0:\n",
    "            if (t == get_word(i[j-1], spa_token)) or (t == None):\n",
    "                temp.append('')\n",
    "            else:\n",
    "                temp.append(t)\n",
    "        else:\n",
    "            if(t == None):\n",
    "                temp.append('')\n",
    "            else:\n",
    "                temp.append(t) \n",
    "    preds_text.append(' '.join(temp))"
   ]
  },
  {
   "cell_type": "code",
   "execution_count": 31,
   "metadata": {},
   "outputs": [],
   "source": [
    "pred_df = pd.DataFrame({'actual' : test[:,1], 'predicted' : preds_text})"
   ]
  },
  {
   "cell_type": "code",
   "execution_count": 36,
   "metadata": {},
   "outputs": [
    {
     "data": {
      "text/html": [
       "<div>\n",
       "<style scoped>\n",
       "    .dataframe tbody tr th:only-of-type {\n",
       "        vertical-align: middle;\n",
       "    }\n",
       "\n",
       "    .dataframe tbody tr th {\n",
       "        vertical-align: top;\n",
       "    }\n",
       "\n",
       "    .dataframe thead th {\n",
       "        text-align: right;\n",
       "    }\n",
       "</style>\n",
       "<table border=\"1\" class=\"dataframe\">\n",
       "  <thead>\n",
       "    <tr style=\"text-align: right;\">\n",
       "      <th></th>\n",
       "      <th>actual</th>\n",
       "      <th>predicted</th>\n",
       "    </tr>\n",
       "  </thead>\n",
       "  <tbody>\n",
       "    <tr>\n",
       "      <th>2914</th>\n",
       "      <td>tom es profesor ¿verdad</td>\n",
       "      <td>tom es  un</td>\n",
       "    </tr>\n",
       "    <tr>\n",
       "      <th>7697</th>\n",
       "      <td>suelo despertarme a las seis</td>\n",
       "      <td>no que un</td>\n",
       "    </tr>\n",
       "    <tr>\n",
       "      <th>2674</th>\n",
       "      <td>déjale pagar por ello</td>\n",
       "      <td>no que de</td>\n",
       "    </tr>\n",
       "    <tr>\n",
       "      <th>8736</th>\n",
       "      <td>cierra esa puerta con cuidado</td>\n",
       "      <td>no a</td>\n",
       "    </tr>\n",
       "    <tr>\n",
       "      <th>7482</th>\n",
       "      <td>veo una luz</td>\n",
       "      <td>me a de</td>\n",
       "    </tr>\n",
       "    <tr>\n",
       "      <th>4384</th>\n",
       "      <td>me cansé de este juego</td>\n",
       "      <td>estoy un de</td>\n",
       "    </tr>\n",
       "    <tr>\n",
       "      <th>5713</th>\n",
       "      <td>todavía no lo sé</td>\n",
       "      <td>no es</td>\n",
       "    </tr>\n",
       "    <tr>\n",
       "      <th>1569</th>\n",
       "      <td>de nuevo</td>\n",
       "      <td>me a de</td>\n",
       "    </tr>\n",
       "    <tr>\n",
       "      <th>881</th>\n",
       "      <td>por favor alcanzame el azúcar</td>\n",
       "      <td>no que un de</td>\n",
       "    </tr>\n",
       "    <tr>\n",
       "      <th>5675</th>\n",
       "      <td>nos angustiábamos con esto</td>\n",
       "      <td>me a</td>\n",
       "    </tr>\n",
       "    <tr>\n",
       "      <th>1312</th>\n",
       "      <td>está a punto de morir</td>\n",
       "      <td>él es</td>\n",
       "    </tr>\n",
       "    <tr>\n",
       "      <th>698</th>\n",
       "      <td>las hojas cayeron</td>\n",
       "      <td>no es</td>\n",
       "    </tr>\n",
       "    <tr>\n",
       "      <th>8808</th>\n",
       "      <td>¿quién está en el auto</td>\n",
       "      <td>no es  a</td>\n",
       "    </tr>\n",
       "    <tr>\n",
       "      <th>2508</th>\n",
       "      <td>ellos saben qué pasó</td>\n",
       "      <td>no que el</td>\n",
       "    </tr>\n",
       "    <tr>\n",
       "      <th>4918</th>\n",
       "      <td>nadie llamó</td>\n",
       "      <td>tom es</td>\n",
       "    </tr>\n",
       "  </tbody>\n",
       "</table>\n",
       "</div>"
      ],
      "text/plain": [
       "                             actual         predicted\n",
       "2914        tom es profesor ¿verdad    tom es  un    \n",
       "7697   suelo despertarme a las seis    no que un     \n",
       "2674          déjale pagar por ello    no que de     \n",
       "8736  cierra esa puerta con cuidado        no a      \n",
       "7482                    veo una luz      me a de     \n",
       "4384         me cansé de este juego  estoy un de     \n",
       "5713               todavía no lo sé       no es      \n",
       "1569                       de nuevo      me a de     \n",
       "881   por favor alcanzame el azúcar  no que un de    \n",
       "5675     nos angustiábamos con esto        me a      \n",
       "1312          está a punto de morir       él es      \n",
       "698               las hojas cayeron       no es      \n",
       "8808         ¿quién está en el auto      no es  a    \n",
       "2508           ellos saben qué pasó    no que el     \n",
       "4918                    nadie llamó      tom es      "
      ]
     },
     "execution_count": 36,
     "metadata": {},
     "output_type": "execute_result"
    }
   ],
   "source": [
    "# print 15 rows randomly\n",
    "pred_df.sample(15)"
   ]
  },
  {
   "cell_type": "code",
   "execution_count": null,
   "metadata": {},
   "outputs": [],
   "source": []
  }
 ],
 "metadata": {
  "kernelspec": {
   "display_name": "Python 3",
   "language": "python",
   "name": "python3"
  },
  "language_info": {
   "codemirror_mode": {
    "name": "ipython",
    "version": 3
   },
   "file_extension": ".py",
   "mimetype": "text/x-python",
   "name": "python",
   "nbconvert_exporter": "python",
   "pygments_lexer": "ipython3",
   "version": "3.8.5"
  }
 },
 "nbformat": 4,
 "nbformat_minor": 4
}

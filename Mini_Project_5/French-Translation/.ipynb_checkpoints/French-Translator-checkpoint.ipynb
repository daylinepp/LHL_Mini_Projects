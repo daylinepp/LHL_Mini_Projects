{
 "cells": [
  {
   "cell_type": "code",
   "execution_count": 1,
   "metadata": {},
   "outputs": [
    {
     "data": {
      "text/plain": [
       "('small_vocab_en.txt', <http.client.HTTPMessage at 0x7fc77079d610>)"
      ]
     },
     "execution_count": 1,
     "metadata": {},
     "output_type": "execute_result"
    }
   ],
   "source": [
    "import urllib.request\n",
    "url = 'https://raw.githubusercontent.com/tommytracey/AIND-Capstone/master/data/small_vocab_en'\n",
    "filename = 'small_vocab_en.txt'\n",
    "urllib.request.urlretrieve(url, filename)"
   ]
  },
  {
   "cell_type": "code",
   "execution_count": 2,
   "metadata": {},
   "outputs": [
    {
     "data": {
      "text/plain": [
       "('small_vocab_fr.txt', <http.client.HTTPMessage at 0x7fc771a240a0>)"
      ]
     },
     "execution_count": 2,
     "metadata": {},
     "output_type": "execute_result"
    }
   ],
   "source": [
    "url = 'https://raw.githubusercontent.com/tommytracey/AIND-Capstone/master/data/small_vocab_fr'\n",
    "filename = 'small_vocab_fr.txt'\n",
    "urllib.request.urlretrieve(url, filename)"
   ]
  },
  {
   "cell_type": "code",
   "execution_count": 36,
   "metadata": {},
   "outputs": [],
   "source": [
    "import collections\n",
    "import numpy as np\n",
    "\n",
    "import tensorflow as tf\n",
    "from tensorflow.keras.optimizers import Adam\n",
    "from tensorflow.keras.preprocessing.text import Tokenizer\n",
    "from tensorflow.keras.preprocessing.sequence import pad_sequences\n",
    "from tensorflow.keras.models import Model, Sequential\n",
    "from tensorflow.keras.layers import GRU, Input, Dense, TimeDistributed, Activation, RepeatVector, Bidirectional, Dropout, LSTM\n",
    "from tensorflow.keras.losses import sparse_categorical_crossentropy\n",
    "#from keras.layers.embeddings import Embedding"
   ]
  },
  {
   "cell_type": "code",
   "execution_count": 6,
   "metadata": {},
   "outputs": [],
   "source": [
    "import os\n",
    "\n",
    "def load_data(path):\n",
    "    \"\"\"\n",
    "    Load dataset\n",
    "    \"\"\"\n",
    "    input_file = os.path.join(path)\n",
    "    with open(input_file, \"r\") as f:\n",
    "        data = f.read()\n",
    "\n",
    "    return data.split('\\n')"
   ]
  },
  {
   "cell_type": "code",
   "execution_count": 9,
   "metadata": {},
   "outputs": [
    {
     "name": "stdout",
     "output_type": "stream",
     "text": [
      "Dataset Loaded\n"
     ]
    }
   ],
   "source": [
    "# Load English data\n",
    "english_sentences = load_data('small_vocab_en.txt')\n",
    "# Load French data\n",
    "french_sentences = load_data('small_vocab_fr.txt')\n",
    "\n",
    "print('Dataset Loaded')"
   ]
  },
  {
   "cell_type": "code",
   "execution_count": 11,
   "metadata": {},
   "outputs": [
    {
     "name": "stdout",
     "output_type": "stream",
     "text": [
      "English sample 1:  new jersey is sometimes quiet during autumn , and it is snowy in april .\n",
      "French sample 1:  new jersey est parfois calme pendant l' automne , et il est neigeux en avril .\n",
      "\n",
      "English sample 2:  the united states is usually chilly during july , and it is usually freezing in november .\n",
      "French sample 2:  les états-unis est généralement froid en juillet , et il gèle habituellement en novembre .\n",
      "\n",
      "English sample 3:  california is usually quiet during march , and it is usually hot in june .\n",
      "French sample 3:  california est généralement calme en mars , et il est généralement chaud en juin .\n",
      "\n",
      "English sample 4:  the united states is sometimes mild during june , and it is cold in september .\n",
      "French sample 4:  les états-unis est parfois légère en juin , et il fait froid en septembre .\n",
      "\n",
      "English sample 5:  your least liked fruit is the grape , but my least liked is the apple .\n",
      "French sample 5:  votre moins aimé fruit est le raisin , mais mon moins aimé est la pomme .\n",
      "\n"
     ]
    }
   ],
   "source": [
    "for sample_i in range(5):\n",
    "    print('English sample {}:  {}'.format(sample_i + 1, english_sentences[sample_i]))\n",
    "    print('French sample {}:  {}\\n'.format(sample_i + 1, french_sentences[sample_i]))"
   ]
  },
  {
   "cell_type": "markdown",
   "metadata": {},
   "source": [
    "## Preprocess"
   ]
  },
  {
   "cell_type": "code",
   "execution_count": 12,
   "metadata": {},
   "outputs": [],
   "source": [
    "def tokenize(x):\n",
    "    \"\"\"\n",
    "    Tokenize x\n",
    "    :param x: List of sentences/strings to be tokenized\n",
    "    :return: Tuple of (tokenized x data, tokenizer used to tokenize x)\n",
    "    \"\"\"\n",
    "    # TODO: Implement\n",
    "    tokenizer = Tokenizer()\n",
    "    tokenizer.fit_on_texts(x)\n",
    "    return tokenizer.texts_to_sequences(x), tokenizer"
   ]
  },
  {
   "cell_type": "code",
   "execution_count": 13,
   "metadata": {},
   "outputs": [
    {
     "name": "stdout",
     "output_type": "stream",
     "text": [
      "{'the': 1, 'quick': 2, 'a': 3, 'brown': 4, 'fox': 5, 'jumps': 6, 'over': 7, 'lazy': 8, 'dog': 9, 'by': 10, 'jove': 11, 'my': 12, 'study': 13, 'of': 14, 'lexicography': 15, 'won': 16, 'prize': 17, 'this': 18, 'is': 19, 'short': 20, 'sentence': 21}\n",
      "\n",
      "Sequence 1 in x\n",
      "  Input:  The quick brown fox jumps over the lazy dog .\n",
      "  Output: [1, 2, 4, 5, 6, 7, 1, 8, 9]\n",
      "Sequence 2 in x\n",
      "  Input:  By Jove , my quick study of lexicography won a prize .\n",
      "  Output: [10, 11, 12, 2, 13, 14, 15, 16, 3, 17]\n",
      "Sequence 3 in x\n",
      "  Input:  This is a short sentence .\n",
      "  Output: [18, 19, 3, 20, 21]\n"
     ]
    }
   ],
   "source": [
    "# Tokenize Example output\n",
    "text_sentences = [\n",
    "    'The quick brown fox jumps over the lazy dog .',\n",
    "    'By Jove , my quick study of lexicography won a prize .',\n",
    "    'This is a short sentence .']\n",
    "\n",
    "text_tokenized, text_tokenizer = tokenize(text_sentences)\n",
    "print(text_tokenizer.word_index)\n",
    "print()\n",
    "for sample_i, (sent, token_sent) in enumerate(zip(text_sentences, text_tokenized)):\n",
    "    print('Sequence {} in x'.format(sample_i + 1))\n",
    "    print('  Input:  {}'.format(sent))\n",
    "    print('  Output: {}'.format(token_sent))"
   ]
  },
  {
   "cell_type": "code",
   "execution_count": 14,
   "metadata": {},
   "outputs": [],
   "source": [
    "def pad(x, length=None):\n",
    "    \"\"\"\n",
    "    Pad x\n",
    "    :param x: List of sequences.\n",
    "    :param length: Length to pad the sequence to.  If None, use length of longest sequence in x.\n",
    "    :return: Padded numpy array of sequences\n",
    "    \"\"\"\n",
    "    # TODO: Implement\n",
    "    return pad_sequences(x, maxlen=length, padding='post')"
   ]
  },
  {
   "cell_type": "code",
   "execution_count": 15,
   "metadata": {},
   "outputs": [
    {
     "name": "stdout",
     "output_type": "stream",
     "text": [
      "Sequence 1 in x\n",
      "  Input:  [1 2 4 5 6 7 1 8 9]\n",
      "  Output: [1 2 4 5 6 7 1 8 9 0]\n",
      "Sequence 2 in x\n",
      "  Input:  [10 11 12  2 13 14 15 16  3 17]\n",
      "  Output: [10 11 12  2 13 14 15 16  3 17]\n",
      "Sequence 3 in x\n",
      "  Input:  [18 19  3 20 21]\n",
      "  Output: [18 19  3 20 21  0  0  0  0  0]\n"
     ]
    }
   ],
   "source": [
    "# Pad Tokenized output\n",
    "test_pad = pad(text_tokenized)\n",
    "for sample_i, (token_sent, pad_sent) in enumerate(zip(text_tokenized, test_pad)):\n",
    "    print('Sequence {} in x'.format(sample_i + 1))\n",
    "    print('  Input:  {}'.format(np.array(token_sent)))\n",
    "    print('  Output: {}'.format(pad_sent))"
   ]
  },
  {
   "cell_type": "code",
   "execution_count": 16,
   "metadata": {},
   "outputs": [
    {
     "name": "stdout",
     "output_type": "stream",
     "text": [
      "Data Preprocessed\n",
      "Max English sentence length: 15\n",
      "Max French sentence length: 21\n",
      "English vocabulary size: 199\n",
      "French vocabulary size: 344\n"
     ]
    }
   ],
   "source": [
    "def preprocess(x, y):\n",
    "    \"\"\"\n",
    "    Preprocess x and y\n",
    "    :param x: Feature List of sentences\n",
    "    :param y: Label List of sentences\n",
    "    :return: Tuple of (Preprocessed x, Preprocessed y, x tokenizer, y tokenizer)\n",
    "    \"\"\"\n",
    "    preprocess_x, x_tk = tokenize(x)\n",
    "    preprocess_y, y_tk = tokenize(y)\n",
    "\n",
    "    preprocess_x = pad(preprocess_x)\n",
    "    preprocess_y = pad(preprocess_y)\n",
    "\n",
    "    # Keras's sparse_categorical_crossentropy function requires the labels to be in 3 dimensions\n",
    "    preprocess_y = preprocess_y.reshape(*preprocess_y.shape, 1)\n",
    "\n",
    "    return preprocess_x, preprocess_y, x_tk, y_tk\n",
    "\n",
    "preproc_english_sentences, preproc_french_sentences, english_tokenizer, french_tokenizer =\\\n",
    "    preprocess(english_sentences, french_sentences)\n",
    "    \n",
    "max_english_sequence_length = preproc_english_sentences.shape[1]\n",
    "max_french_sequence_length = preproc_french_sentences.shape[1]\n",
    "english_vocab_size = len(english_tokenizer.word_index)\n",
    "french_vocab_size = len(french_tokenizer.word_index)\n",
    "\n",
    "print('Data Preprocessed')\n",
    "print(\"Max English sentence length:\", max_english_sequence_length)\n",
    "print(\"Max French sentence length:\", max_french_sequence_length)\n",
    "print(\"English vocabulary size:\", english_vocab_size)\n",
    "print(\"French vocabulary size:\", french_vocab_size)"
   ]
  },
  {
   "cell_type": "markdown",
   "metadata": {},
   "source": [
    "## Model"
   ]
  },
  {
   "cell_type": "code",
   "execution_count": 86,
   "metadata": {},
   "outputs": [
    {
     "name": "stdout",
     "output_type": "stream",
     "text": [
      "`logits_to_text` function loaded.\n"
     ]
    }
   ],
   "source": [
    "def logits_to_text(logits, tokenizer):\n",
    "    \"\"\"\n",
    "    Turn logits from a neural network into text using the tokenizer\n",
    "    :param logits: Logits from a neural network\n",
    "    :param tokenizer: Keras Tokenizer fit on the labels\n",
    "    :return: String that represents the text of the logits\n",
    "    \"\"\"\n",
    "    index_to_words = {id: word for word, id in tokenizer.word_index.items()}\n",
    "    index_to_words[0] = '<PAD>'\n",
    "\n",
    "    return ' '.join([index_to_words[prediction] for prediction in np.argmax(logits, 1)])\n",
    "\n",
    "print('`logits_to_text` function loaded.')"
   ]
  },
  {
   "cell_type": "markdown",
   "metadata": {},
   "source": [
    "### Custom Built Bidirectional RNN with Embedding"
   ]
  },
  {
   "cell_type": "code",
   "execution_count": 40,
   "metadata": {},
   "outputs": [
    {
     "name": "stdout",
     "output_type": "stream",
     "text": [
      "Final Custom Model Loaded\n"
     ]
    }
   ],
   "source": [
    "def custom_model(input_shape, output_sequence_length, english_vocab_size, french_vocab_size):\n",
    "    \"\"\"\n",
    "    Build and train a model that incorporates embedding, encoder-decoder, and bidirectional RNN on x and y\n",
    "    :param input_shape: Tuple of input shape\n",
    "    :param output_sequence_length: Length of output sequence\n",
    "    :param english_vocab_size: Number of unique English words in the dataset\n",
    "    :param french_vocab_size: Number of unique French words in the dataset\n",
    "    :return: Keras model built, but not trained\n",
    "    \"\"\"\n",
    "    # TODO: Implement\n",
    "\n",
    "    # Hyperparameters\n",
    "    learning_rate = 0.003\n",
    "    \n",
    "    # Build the layers    \n",
    "    model = Sequential()\n",
    "    # Embedding\n",
    "    model.add(tf.keras.layers.Embedding(english_vocab_size, 128, input_length=input_shape[1],\n",
    "                         input_shape=input_shape[1:]))\n",
    "    # Encoder\n",
    "    model.add(Bidirectional(GRU(128)))\n",
    "    model.add(RepeatVector(output_sequence_length))\n",
    "    # Decoder\n",
    "    model.add(Bidirectional(GRU(128, return_sequences=True)))\n",
    "    model.add(TimeDistributed(Dense(512, activation='relu')))\n",
    "    model.add(Dropout(0.5))\n",
    "    model.add(TimeDistributed(Dense(french_vocab_size, activation='softmax')))\n",
    "    \n",
    "    opt = Adam(lr=learning_rate)\n",
    "    model.compile(loss=sparse_categorical_crossentropy,\n",
    "                  optimizer=opt,\n",
    "                  metrics=['accuracy'])\n",
    "    return model\n",
    "\n",
    "print('Final Custom Model Loaded')"
   ]
  },
  {
   "cell_type": "code",
   "execution_count": 43,
   "metadata": {},
   "outputs": [],
   "source": [
    "def final_predictions(x, y, x_tk, y_tk):\n",
    "    \"\"\"\n",
    "    Gets predictions using the final model\n",
    "    :param x: Preprocessed English data\n",
    "    :param y: Preprocessed French data\n",
    "    :param x_tk: English tokenizer\n",
    "    :param y_tk: French tokenizer\n",
    "    \"\"\"\n",
    "    # TODO: Train neural network\n",
    "    model = custom_model(x.shape,y.shape[1],\n",
    "                         len(x_tk.word_index)+1,\n",
    "                         len(y_tk.word_index)+1)\n",
    "    model.summary()\n",
    "    history = model.fit(x, y, batch_size=1024, epochs=23, validation_split=0.2)\n",
    "\n",
    "    \n",
    "    ## DON'T EDIT ANYTHING BELOW THIS LINE\n",
    "    y_id_to_word = {value: key for key, value in y_tk.word_index.items()}\n",
    "    y_id_to_word[0] = '<PAD>'\n",
    "\n",
    "    sentence = 'he saw a old yellow truck'\n",
    "    sentence = [x_tk.word_index[word] for word in sentence.split()]\n",
    "    sentence = pad_sequences([sentence], maxlen=x.shape[-1], padding='post')\n",
    "    sentences = np.array([sentence[0], x[0]])\n",
    "    predictions = model.predict(sentences, len(sentences))\n",
    "\n",
    "    print('Sample 1:')\n",
    "    print(' '.join([y_id_to_word[np.argmax(x)] for x in predictions[0]]))\n",
    "    print('Il a vu un vieux camion jaune')\n",
    "    print('Sample 2:')\n",
    "    print(' '.join([y_id_to_word[np.argmax(x)] for x in predictions[1]]))\n",
    "    print(' '.join([y_id_to_word[np.max(x)] for x in y[0]]))"
   ]
  },
  {
   "cell_type": "code",
   "execution_count": 44,
   "metadata": {
    "collapsed": true,
    "jupyter": {
     "outputs_hidden": true
    }
   },
   "outputs": [
    {
     "name": "stdout",
     "output_type": "stream",
     "text": [
      "Model: \"sequential_2\"\n",
      "_________________________________________________________________\n",
      "Layer (type)                 Output Shape              Param #   \n",
      "=================================================================\n",
      "embedding_2 (Embedding)      (None, 15, 128)           25600     \n",
      "_________________________________________________________________\n",
      "bidirectional_4 (Bidirection (None, 256)               198144    \n",
      "_________________________________________________________________\n",
      "repeat_vector_2 (RepeatVecto (None, 21, 256)           0         \n",
      "_________________________________________________________________\n",
      "bidirectional_5 (Bidirection (None, 21, 256)           296448    \n",
      "_________________________________________________________________\n",
      "time_distributed_4 (TimeDist (None, 21, 512)           131584    \n",
      "_________________________________________________________________\n",
      "dropout_2 (Dropout)          (None, 21, 512)           0         \n",
      "_________________________________________________________________\n",
      "time_distributed_5 (TimeDist (None, 21, 345)           176985    \n",
      "=================================================================\n",
      "Total params: 828,761\n",
      "Trainable params: 828,761\n",
      "Non-trainable params: 0\n",
      "_________________________________________________________________\n",
      "Epoch 1/23\n",
      "108/108 [==============================] - 118s 1s/step - loss: 2.4800 - accuracy: 0.4806 - val_loss: 1.5761 - val_accuracy: 0.6031\n",
      "Epoch 2/23\n",
      "108/108 [==============================] - 102s 949ms/step - loss: 1.4354 - accuracy: 0.6212 - val_loss: 1.1582 - val_accuracy: 0.6803\n",
      "Epoch 3/23\n",
      "108/108 [==============================] - 101s 938ms/step - loss: 1.1479 - accuracy: 0.6783 - val_loss: 0.9721 - val_accuracy: 0.7190\n",
      "Epoch 4/23\n",
      "108/108 [==============================] - 104s 961ms/step - loss: 0.9915 - accuracy: 0.7092 - val_loss: 0.8270 - val_accuracy: 0.7466\n",
      "Epoch 5/23\n",
      "108/108 [==============================] - 103s 954ms/step - loss: 0.8519 - accuracy: 0.7400 - val_loss: 0.6798 - val_accuracy: 0.7894\n",
      "Epoch 6/23\n",
      "108/108 [==============================] - 105s 971ms/step - loss: 0.7007 - accuracy: 0.7806 - val_loss: 0.5598 - val_accuracy: 0.8250\n",
      "Epoch 7/23\n",
      "108/108 [==============================] - 102s 946ms/step - loss: 0.8076 - accuracy: 0.7571 - val_loss: 0.6960 - val_accuracy: 0.7822\n",
      "Epoch 8/23\n",
      "108/108 [==============================] - 105s 969ms/step - loss: 0.6626 - accuracy: 0.7924 - val_loss: 0.4909 - val_accuracy: 0.8487\n",
      "Epoch 9/23\n",
      "108/108 [==============================] - 103s 951ms/step - loss: 0.5237 - accuracy: 0.8349 - val_loss: 0.3732 - val_accuracy: 0.8878\n",
      "Epoch 10/23\n",
      "108/108 [==============================] - 102s 945ms/step - loss: 0.4272 - accuracy: 0.8669 - val_loss: 0.3088 - val_accuracy: 0.9108\n",
      "Epoch 11/23\n",
      "108/108 [==============================] - 102s 949ms/step - loss: 0.3487 - accuracy: 0.8949 - val_loss: 0.2428 - val_accuracy: 0.9302\n",
      "Epoch 12/23\n",
      "108/108 [==============================] - 104s 966ms/step - loss: 0.2909 - accuracy: 0.9138 - val_loss: 0.2059 - val_accuracy: 0.9436\n",
      "Epoch 13/23\n",
      "108/108 [==============================] - 100s 927ms/step - loss: 0.2453 - accuracy: 0.9283 - val_loss: 0.1730 - val_accuracy: 0.9512\n",
      "Epoch 14/23\n",
      "108/108 [==============================] - 101s 932ms/step - loss: 0.2157 - accuracy: 0.9371 - val_loss: 0.1709 - val_accuracy: 0.9531\n",
      "Epoch 15/23\n",
      "108/108 [==============================] - 100s 923ms/step - loss: 0.2701 - accuracy: 0.9187 - val_loss: 0.1567 - val_accuracy: 0.9564\n",
      "Epoch 16/23\n",
      "108/108 [==============================] - 102s 944ms/step - loss: 0.1784 - accuracy: 0.9482 - val_loss: 0.1306 - val_accuracy: 0.9628\n",
      "Epoch 17/23\n",
      "108/108 [==============================] - 100s 924ms/step - loss: 0.1611 - accuracy: 0.9532 - val_loss: 0.1193 - val_accuracy: 0.9659\n",
      "Epoch 18/23\n",
      "108/108 [==============================] - 103s 956ms/step - loss: 0.1523 - accuracy: 0.9556 - val_loss: 0.1135 - val_accuracy: 0.9677\n",
      "Epoch 19/23\n",
      "108/108 [==============================] - 103s 958ms/step - loss: 0.1360 - accuracy: 0.9603 - val_loss: 0.1145 - val_accuracy: 0.9680\n",
      "Epoch 20/23\n",
      "108/108 [==============================] - 105s 975ms/step - loss: 0.1264 - accuracy: 0.9630 - val_loss: 0.1010 - val_accuracy: 0.9726\n",
      "Epoch 21/23\n",
      "108/108 [==============================] - 106s 982ms/step - loss: 0.1187 - accuracy: 0.9654 - val_loss: 0.1053 - val_accuracy: 0.9708\n",
      "Epoch 22/23\n",
      "108/108 [==============================] - 105s 977ms/step - loss: 0.1152 - accuracy: 0.9663 - val_loss: 0.1016 - val_accuracy: 0.9728\n",
      "Epoch 23/23\n",
      "108/108 [==============================] - 103s 954ms/step - loss: 0.1862 - accuracy: 0.9450 - val_loss: 0.1041 - val_accuracy: 0.9726\n",
      "Sample 1:\n",
      "il a vu un vieux camion jaune <PAD> <PAD> <PAD> <PAD> <PAD> <PAD> <PAD> <PAD> <PAD> <PAD> <PAD> <PAD> <PAD> <PAD>\n",
      "Il a vu un vieux camion jaune\n",
      "Sample 2:\n",
      "new jersey est parfois calme pendant l' automne et il est neigeux en avril <PAD> <PAD> <PAD> <PAD> <PAD> <PAD> <PAD>\n",
      "new jersey est parfois calme pendant l' automne et il est neigeux en avril <PAD> <PAD> <PAD> <PAD> <PAD> <PAD> <PAD>\n"
     ]
    }
   ],
   "source": [
    "final_predictions(preproc_english_sentences, preproc_french_sentences, english_tokenizer, french_tokenizer)"
   ]
  },
  {
   "cell_type": "code",
   "execution_count": null,
   "metadata": {},
   "outputs": [],
   "source": [
    "# external training for model exporting and plotting"
   ]
  },
  {
   "cell_type": "code",
   "execution_count": 49,
   "metadata": {},
   "outputs": [
    {
     "name": "stderr",
     "output_type": "stream",
     "text": [
      "/Users/daylin/opt/anaconda3/lib/python3.8/site-packages/tensorflow/python/keras/optimizer_v2/optimizer_v2.py:374: UserWarning: The `lr` argument is deprecated, use `learning_rate` instead.\n",
      "  warnings.warn(\n"
     ]
    },
    {
     "name": "stdout",
     "output_type": "stream",
     "text": [
      "Model: \"sequential_3\"\n",
      "_________________________________________________________________\n",
      "Layer (type)                 Output Shape              Param #   \n",
      "=================================================================\n",
      "embedding_3 (Embedding)      (None, 15, 128)           25600     \n",
      "_________________________________________________________________\n",
      "bidirectional_6 (Bidirection (None, 256)               198144    \n",
      "_________________________________________________________________\n",
      "repeat_vector_3 (RepeatVecto (None, 21, 256)           0         \n",
      "_________________________________________________________________\n",
      "bidirectional_7 (Bidirection (None, 21, 256)           296448    \n",
      "_________________________________________________________________\n",
      "time_distributed_6 (TimeDist (None, 21, 512)           131584    \n",
      "_________________________________________________________________\n",
      "dropout_3 (Dropout)          (None, 21, 512)           0         \n",
      "_________________________________________________________________\n",
      "time_distributed_7 (TimeDist (None, 21, 345)           176985    \n",
      "=================================================================\n",
      "Total params: 828,761\n",
      "Trainable params: 828,761\n",
      "Non-trainable params: 0\n",
      "_________________________________________________________________\n",
      "Epoch 1/23\n",
      "108/108 [==============================] - 103s 911ms/step - loss: 2.4229 - accuracy: 0.4868 - val_loss: 1.5222 - val_accuracy: 0.6062\n",
      "Epoch 2/23\n",
      "108/108 [==============================] - 102s 947ms/step - loss: 1.3954 - accuracy: 0.6289 - val_loss: 1.1714 - val_accuracy: 0.6768\n",
      "Epoch 3/23\n",
      "108/108 [==============================] - 105s 973ms/step - loss: 1.1319 - accuracy: 0.6819 - val_loss: 0.9737 - val_accuracy: 0.7194\n",
      "Epoch 4/23\n",
      "108/108 [==============================] - 104s 962ms/step - loss: 0.9691 - accuracy: 0.7166 - val_loss: 0.8080 - val_accuracy: 0.7584\n",
      "Epoch 5/23\n",
      "108/108 [==============================] - 100s 925ms/step - loss: 0.8718 - accuracy: 0.7380 - val_loss: 0.7033 - val_accuracy: 0.7829\n",
      "Epoch 6/23\n",
      "108/108 [==============================] - 99s 919ms/step - loss: 0.7026 - accuracy: 0.7812 - val_loss: 0.5518 - val_accuracy: 0.8269\n",
      "Epoch 7/23\n",
      "108/108 [==============================] - 100s 924ms/step - loss: 0.7701 - accuracy: 0.7645 - val_loss: 0.5164 - val_accuracy: 0.8390\n",
      "Epoch 8/23\n",
      "108/108 [==============================] - 100s 926ms/step - loss: 0.5522 - accuracy: 0.8244 - val_loss: 0.4147 - val_accuracy: 0.8704\n",
      "Epoch 9/23\n",
      "108/108 [==============================] - 102s 948ms/step - loss: 0.4538 - accuracy: 0.8554 - val_loss: 0.3324 - val_accuracy: 0.8993\n",
      "Epoch 10/23\n",
      "108/108 [==============================] - 104s 966ms/step - loss: 0.4015 - accuracy: 0.8738 - val_loss: 0.3022 - val_accuracy: 0.9097\n",
      "Epoch 11/23\n",
      "108/108 [==============================] - 103s 954ms/step - loss: 0.3145 - accuracy: 0.9050 - val_loss: 0.2319 - val_accuracy: 0.9343\n",
      "Epoch 12/23\n",
      "108/108 [==============================] - 101s 932ms/step - loss: 0.2640 - accuracy: 0.9215 - val_loss: 0.1848 - val_accuracy: 0.9479\n",
      "Epoch 13/23\n",
      "108/108 [==============================] - 96s 892ms/step - loss: 0.5518 - accuracy: 0.8343 - val_loss: 0.2680 - val_accuracy: 0.9298\n",
      "Epoch 14/23\n",
      "108/108 [==============================] - 90s 830ms/step - loss: 0.3121 - accuracy: 0.9069 - val_loss: 0.1832 - val_accuracy: 0.9513\n",
      "Epoch 15/23\n",
      "108/108 [==============================] - 90s 831ms/step - loss: 0.2396 - accuracy: 0.9304 - val_loss: 0.1522 - val_accuracy: 0.9579\n",
      "Epoch 16/23\n",
      "108/108 [==============================] - 90s 829ms/step - loss: 0.2052 - accuracy: 0.9405 - val_loss: 0.1380 - val_accuracy: 0.9618\n",
      "Epoch 17/23\n",
      "108/108 [==============================] - 89s 829ms/step - loss: 0.1811 - accuracy: 0.9473 - val_loss: 0.1244 - val_accuracy: 0.9650\n",
      "Epoch 18/23\n",
      "108/108 [==============================] - 90s 830ms/step - loss: 0.2382 - accuracy: 0.9282 - val_loss: 0.1255 - val_accuracy: 0.9646\n",
      "Epoch 19/23\n",
      "108/108 [==============================] - 90s 830ms/step - loss: 0.1549 - accuracy: 0.9548 - val_loss: 0.1097 - val_accuracy: 0.9689\n",
      "Epoch 20/23\n",
      "108/108 [==============================] - 2094s 20s/step - loss: 0.1368 - accuracy: 0.9598 - val_loss: 0.1055 - val_accuracy: 0.9701\n",
      "Epoch 21/23\n",
      "108/108 [==============================] - 4913s 46s/step - loss: 0.1307 - accuracy: 0.9614 - val_loss: 0.1023 - val_accuracy: 0.9711\n",
      "Epoch 22/23\n",
      "108/108 [==============================] - 90s 837ms/step - loss: 0.1198 - accuracy: 0.9648 - val_loss: 0.0929 - val_accuracy: 0.9737\n",
      "Epoch 23/23\n",
      "108/108 [==============================] - 90s 836ms/step - loss: 0.1109 - accuracy: 0.9673 - val_loss: 0.0919 - val_accuracy: 0.9746\n"
     ]
    }
   ],
   "source": [
    "model = custom_model(preproc_english_sentences.shape, preproc_french_sentences.shape[1],\n",
    "                         len(english_tokenizer.word_index)+1,\n",
    "                         len(french_tokenizer.word_index)+1)\n",
    "model.summary()\n",
    "history = model.fit(preproc_english_sentences, preproc_french_sentences, batch_size=1024, epochs=23, validation_split=0.2)"
   ]
  },
  {
   "cell_type": "code",
   "execution_count": 46,
   "metadata": {},
   "outputs": [],
   "source": [
    "import matplotlib.pyplot as plt"
   ]
  },
  {
   "cell_type": "code",
   "execution_count": 50,
   "metadata": {},
   "outputs": [
    {
     "data": {
      "image/png": "[encoded data removed]",
      "text/plain": [
       "<Figure size 432x288 with 1 Axes>"
      ]
     },
     "metadata": {
      "needs_background": "light"
     },
     "output_type": "display_data"
    }
   ],
   "source": [
    "plt.plot(history.history['loss'])\n",
    "plt.plot(history.history['val_loss'])\n",
    "plt.legend(['train', 'validation'])\n",
    "plt.show()"
   ]
  },
  {
   "cell_type": "code",
   "execution_count": 51,
   "metadata": {},
   "outputs": [],
   "source": [
    "sentence = 'he saw a old yellow truck'\n",
    "sentence = [english_tokenizer.word_index[word] for word in sentence.split()]\n",
    "sentence = pad_sequences([sentence], maxlen=preproc_english_sentences.shape[-1], padding='post')\n",
    "sentences = np.array([sentence[0], preproc_english_sentences[0]])\n",
    "predictions = model.predict(sentences, len(sentences))"
   ]
  },
  {
   "cell_type": "code",
   "execution_count": 53,
   "metadata": {},
   "outputs": [],
   "source": [
    "y_id_to_word = {value: key for key, value in french_tokenizer.word_index.items()}\n",
    "y_id_to_word[0] = '<PAD>'"
   ]
  },
  {
   "cell_type": "code",
   "execution_count": 55,
   "metadata": {},
   "outputs": [
    {
     "name": "stdout",
     "output_type": "stream",
     "text": [
      "Sample 1:\n",
      "il a vu un vieux camion jaune <PAD> <PAD> <PAD> <PAD> <PAD> <PAD> <PAD> <PAD> <PAD> <PAD> <PAD> <PAD> <PAD> <PAD>\n",
      "Il a vu un vieux camion jaune\n",
      "Sample 2:\n",
      "new jersey est parfois calme pendant l' automne et il est neigeux en avril <PAD> <PAD> <PAD> <PAD> <PAD> <PAD> <PAD>\n",
      "new jersey est parfois calme pendant l' automne et il est neigeux en avril <PAD> <PAD> <PAD> <PAD> <PAD> <PAD> <PAD>\n"
     ]
    }
   ],
   "source": [
    "print('Sample 1:')\n",
    "print(' '.join([y_id_to_word[np.argmax(x)] for x in predictions[0]]))\n",
    "print('Il a vu un vieux camion jaune')\n",
    "print('Sample 2:')\n",
    "print(' '.join([y_id_to_word[np.argmax(x)] for x in predictions[1]]))\n",
    "print(' '.join([y_id_to_word[np.max(x)] for x in preproc_french_sentences[0]]))"
   ]
  },
  {
   "cell_type": "code",
   "execution_count": 74,
   "metadata": {},
   "outputs": [],
   "source": [
    "# new single line prediction\n",
    "note = 'he dislikes oranges'\n",
    "note = [english_tokenizer.word_index[word] for word in note.split()]\n",
    "note = pad_sequences([note], maxlen=preproc_english_sentences.shape[-1], padding='post')\n",
    "notes = np.array([note[0], preproc_english_sentences[0]])\n",
    "preds = model.predict(notes, len(notes))"
   ]
  },
  {
   "cell_type": "code",
   "execution_count": 79,
   "metadata": {},
   "outputs": [],
   "source": [
    "output = logits_to_text(preds[0], french_tokenizer)"
   ]
  },
  {
   "cell_type": "code",
   "execution_count": 80,
   "metadata": {},
   "outputs": [
    {
     "data": {
      "text/plain": [
       "\"il n'aime les oranges <PAD> <PAD> <PAD> <PAD> <PAD> <PAD> <PAD> <PAD> <PAD> <PAD> <PAD> <PAD> <PAD> <PAD> <PAD> <PAD> <PAD>\""
      ]
     },
     "execution_count": 80,
     "metadata": {},
     "output_type": "execute_result"
    }
   ],
   "source": [
    "output"
   ]
  },
  {
   "cell_type": "code",
   "execution_count": 123,
   "metadata": {},
   "outputs": [],
   "source": [
    "def translate(text):\n",
    "    sentence = [english_tokenizer.word_index[word] for word in text.split()]\n",
    "    sentence = pad_sequences([sentence], maxlen=preproc_english_sentences.shape[-1], padding='post')\n",
    "    sentences = np.array([sentence[0], preproc_english_sentences[0]])\n",
    "    predictions = model.predict(sentences, len(sentences))\n",
    "    decoded_pred = logits_to_text(preds[0], french_tokenizer)\n",
    "    decoded_pred = decoded_pred.replace(' <PAD>', '')\n",
    "    return decoded_pred"
   ]
  },
  {
   "cell_type": "code",
   "execution_count": 124,
   "metadata": {},
   "outputs": [
    {
     "data": {
      "text/plain": [
       "\"il n'aime les oranges\""
      ]
     },
     "execution_count": 124,
     "metadata": {},
     "output_type": "execute_result"
    }
   ],
   "source": [
    "text = 'he dislikes oranges'\n",
    "out = translate(text)\n",
    "out"
   ]
  },
  {
   "cell_type": "code",
   "execution_count": 135,
   "metadata": {},
   "outputs": [
    {
     "data": {
      "text/plain": [
       "\"il n'aime les oranges\""
      ]
     },
     "execution_count": 135,
     "metadata": {},
     "output_type": "execute_result"
    }
   ],
   "source": [
    "out1 = translate('california is my favorite')\n",
    "out1"
   ]
  },
  {
   "cell_type": "code",
   "execution_count": 130,
   "metadata": {},
   "outputs": [
    {
     "data": {
      "text/plain": [
       "{'is': 1,\n",
       " 'in': 2,\n",
       " 'it': 3,\n",
       " 'during': 4,\n",
       " 'the': 5,\n",
       " 'but': 6,\n",
       " 'and': 7,\n",
       " 'sometimes': 8,\n",
       " 'usually': 9,\n",
       " 'never': 10,\n",
       " 'favorite': 11,\n",
       " 'least': 12,\n",
       " 'fruit': 13,\n",
       " 'most': 14,\n",
       " 'loved': 15,\n",
       " 'liked': 16,\n",
       " 'new': 17,\n",
       " 'paris': 18,\n",
       " 'india': 19,\n",
       " 'united': 20,\n",
       " 'states': 21,\n",
       " 'california': 22,\n",
       " 'jersey': 23,\n",
       " 'france': 24,\n",
       " 'china': 25,\n",
       " 'he': 26,\n",
       " 'she': 27,\n",
       " 'grapefruit': 28,\n",
       " 'your': 29,\n",
       " 'my': 30,\n",
       " 'his': 31,\n",
       " 'her': 32,\n",
       " 'fall': 33,\n",
       " 'june': 34,\n",
       " 'spring': 35,\n",
       " 'january': 36,\n",
       " 'winter': 37,\n",
       " 'march': 38,\n",
       " 'autumn': 39,\n",
       " 'may': 40,\n",
       " 'nice': 41,\n",
       " 'september': 42,\n",
       " 'july': 43,\n",
       " 'april': 44,\n",
       " 'november': 45,\n",
       " 'summer': 46,\n",
       " 'december': 47,\n",
       " 'february': 48,\n",
       " 'our': 49,\n",
       " 'their': 50,\n",
       " 'freezing': 51,\n",
       " 'pleasant': 52,\n",
       " 'beautiful': 53,\n",
       " 'october': 54,\n",
       " 'snowy': 55,\n",
       " 'warm': 56,\n",
       " 'cold': 57,\n",
       " 'wonderful': 58,\n",
       " 'dry': 59,\n",
       " 'busy': 60,\n",
       " 'august': 61,\n",
       " 'chilly': 62,\n",
       " 'rainy': 63,\n",
       " 'mild': 64,\n",
       " 'wet': 65,\n",
       " 'relaxing': 66,\n",
       " 'quiet': 67,\n",
       " 'hot': 68,\n",
       " 'dislikes': 69,\n",
       " 'likes': 70,\n",
       " 'limes': 71,\n",
       " 'lemons': 72,\n",
       " 'grapes': 73,\n",
       " 'mangoes': 74,\n",
       " 'apples': 75,\n",
       " 'peaches': 76,\n",
       " 'oranges': 77,\n",
       " 'pears': 78,\n",
       " 'strawberries': 79,\n",
       " 'bananas': 80,\n",
       " 'to': 81,\n",
       " 'grape': 82,\n",
       " 'apple': 83,\n",
       " 'orange': 84,\n",
       " 'lemon': 85,\n",
       " 'lime': 86,\n",
       " 'banana': 87,\n",
       " 'mango': 88,\n",
       " 'pear': 89,\n",
       " 'strawberry': 90,\n",
       " 'peach': 91,\n",
       " 'like': 92,\n",
       " 'dislike': 93,\n",
       " 'they': 94,\n",
       " 'that': 95,\n",
       " 'i': 96,\n",
       " 'we': 97,\n",
       " 'you': 98,\n",
       " 'animal': 99,\n",
       " 'a': 100,\n",
       " 'truck': 101,\n",
       " 'car': 102,\n",
       " 'automobile': 103,\n",
       " 'was': 104,\n",
       " 'next': 105,\n",
       " 'go': 106,\n",
       " 'driving': 107,\n",
       " 'visit': 108,\n",
       " 'little': 109,\n",
       " 'big': 110,\n",
       " 'old': 111,\n",
       " 'yellow': 112,\n",
       " 'red': 113,\n",
       " 'rusty': 114,\n",
       " 'blue': 115,\n",
       " 'white': 116,\n",
       " 'black': 117,\n",
       " 'green': 118,\n",
       " 'shiny': 119,\n",
       " 'are': 120,\n",
       " 'last': 121,\n",
       " 'feared': 122,\n",
       " 'animals': 123,\n",
       " 'this': 124,\n",
       " 'plan': 125,\n",
       " 'going': 126,\n",
       " 'saw': 127,\n",
       " 'disliked': 128,\n",
       " 'drives': 129,\n",
       " 'drove': 130,\n",
       " 'between': 131,\n",
       " 'translate': 132,\n",
       " 'plans': 133,\n",
       " 'were': 134,\n",
       " 'went': 135,\n",
       " 'might': 136,\n",
       " 'wanted': 137,\n",
       " 'thinks': 138,\n",
       " 'spanish': 139,\n",
       " 'portuguese': 140,\n",
       " 'chinese': 141,\n",
       " 'english': 142,\n",
       " 'french': 143,\n",
       " 'translating': 144,\n",
       " 'difficult': 145,\n",
       " 'fun': 146,\n",
       " 'easy': 147,\n",
       " 'wants': 148,\n",
       " 'think': 149,\n",
       " 'why': 150,\n",
       " \"it's\": 151,\n",
       " 'did': 152,\n",
       " 'cat': 153,\n",
       " 'shark': 154,\n",
       " 'bird': 155,\n",
       " 'mouse': 156,\n",
       " 'horse': 157,\n",
       " 'elephant': 158,\n",
       " 'dog': 159,\n",
       " 'monkey': 160,\n",
       " 'lion': 161,\n",
       " 'bear': 162,\n",
       " 'rabbit': 163,\n",
       " 'snake': 164,\n",
       " 'when': 165,\n",
       " 'want': 166,\n",
       " 'do': 167,\n",
       " 'how': 168,\n",
       " 'elephants': 169,\n",
       " 'horses': 170,\n",
       " 'dogs': 171,\n",
       " 'sharks': 172,\n",
       " 'snakes': 173,\n",
       " 'cats': 174,\n",
       " 'rabbits': 175,\n",
       " 'monkeys': 176,\n",
       " 'bears': 177,\n",
       " 'birds': 178,\n",
       " 'lions': 179,\n",
       " 'mice': 180,\n",
       " \"didn't\": 181,\n",
       " 'eiffel': 182,\n",
       " 'tower': 183,\n",
       " 'grocery': 184,\n",
       " 'store': 185,\n",
       " 'football': 186,\n",
       " 'field': 187,\n",
       " 'lake': 188,\n",
       " 'school': 189,\n",
       " 'would': 190,\n",
       " \"aren't\": 191,\n",
       " 'been': 192,\n",
       " 'weather': 193,\n",
       " 'does': 194,\n",
       " 'has': 195,\n",
       " \"isn't\": 196,\n",
       " 'am': 197,\n",
       " 'where': 198,\n",
       " 'have': 199}"
      ]
     },
     "execution_count": 130,
     "metadata": {},
     "output_type": "execute_result"
    }
   ],
   "source": [
    "english_tokenizer.word_index"
   ]
  },
  {
   "cell_type": "code",
   "execution_count": null,
   "metadata": {},
   "outputs": [],
   "source": []
  }
 ],
 "metadata": {
  "kernelspec": {
   "display_name": "Python 3",
   "language": "python",
   "name": "python3"
  },
  "language_info": {
   "codemirror_mode": {
    "name": "ipython",
    "version": 3
   },
   "file_extension": ".py",
   "mimetype": "text/x-python",
   "name": "python",
   "nbconvert_exporter": "python",
   "pygments_lexer": "ipython3",
   "version": "3.8.5"
  }
 },
 "nbformat": 4,
 "nbformat_minor": 4
}

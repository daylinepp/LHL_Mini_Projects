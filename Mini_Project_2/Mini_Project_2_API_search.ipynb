{
 "cells": [
  {
   "cell_type": "code",
   "execution_count": 23,
   "metadata": {},
   "outputs": [],
   "source": [
    "import requests\n",
    "import pandas as pd\n",
    "import os\n",
    "import json\n",
    "from IPython.display import JSON\n",
    "import foursquare\n",
    "from yelp.client import Client"
   ]
  },
  {
   "cell_type": "markdown",
   "metadata": {},
   "source": [
    "### Foursquare API"
   ]
  },
  {
   "cell_type": "markdown",
   "metadata": {},
   "source": [
    "##### Initial wrangling and cleaning tests"
   ]
  },
  {
   "cell_type": "code",
   "execution_count": 79,
   "metadata": {},
   "outputs": [],
   "source": [
    "#foursquare authentication keys\n",
    "foursquare_id = os.environ[\"FOURSQUARE_CLIENT_ID\"]\n",
    "foursquare_secret = os.environ[\"FOURSQUARE_CLIENT_SECRET\"]\n",
    "version = '20201231'"
   ]
  },
  {
   "cell_type": "code",
   "execution_count": 15,
   "metadata": {},
   "outputs": [],
   "source": [
    "fs_client = foursquare.Foursquare(client_id=foursquare_id, client_secret=foursquare_secret, redirect_uri='http://fondu.com/oauth/authorize')"
   ]
  },
  {
   "cell_type": "code",
   "execution_count": 16,
   "metadata": {},
   "outputs": [],
   "source": [
    "# foursquare test query\n",
    "test = fs_client.venues.search(params={'query': 'bar','radius': '50000', 'll': '49.2853, -123.1208', 'limit': '10'})"
   ]
  },
  {
   "cell_type": "code",
   "execution_count": 17,
   "metadata": {},
   "outputs": [
    {
     "data": {
      "application/json": {
       "venues": [
        {
         "categories": [
          {
           "icon": {
            "prefix": "https://ss3.4sqi.net/img/categories_v2/food/french_",
            "suffix": ".png"
           },
           "id": "4bf58dd8d48988d10c941735",
           "name": "French Restaurant",
           "pluralName": "French Restaurants",
           "primary": true,
           "shortName": "French"
          }
         ],
         "hasPerk": false,
         "id": "4b63ba96f964a520908e2ae3",
         "location": {
          "address": "655 Burrard St",
          "cc": "CA",
          "city": "Vancouver",
          "country": "Canada",
          "crossStreet": "at Hyatt Regency Vancouver",
          "distance": 64,
          "formattedAddress": [
           "655 Burrard St (at Hyatt Regency Vancouver)",
           "Vancouver BC V6C 2R7",
           "Canada"
          ],
          "labeledLatLngs": [
           {
            "label": "display",
            "lat": 49.28482948574723,
            "lng": -123.12027726946609
           }
          ],
          "lat": 49.28482948574723,
          "lng": -123.12027726946609,
          "postalCode": "V6C 2R7",
          "state": "BC"
         },
         "name": "Mosaic Bar & Grille",
         "referralId": "v-1620316601"
        },
        {
         "categories": [
          {
           "icon": {
            "prefix": "https://ss3.4sqi.net/img/categories_v2/shops/nailsalon_",
            "suffix": ".png"
           },
           "id": "4f04aa0c2fb6e1c99f3db0b8",
           "name": "Nail Salon",
           "pluralName": "Nail Salons",
           "primary": true,
           "shortName": "Nail Salon"
          }
         ],
         "hasPerk": false,
         "id": "50bd3764e4b0532c3a561f38",
         "location": {
          "address": "202-1030 W Georgia St",
          "cc": "CA",
          "city": "Vancouver",
          "country": "Canada",
          "crossStreet": "btwn Burrard St & Thurlow St",
          "distance": 74,
          "formattedAddress": [
           "202-1030 W Georgia St (btwn Burrard St & Thurlow St)",
           "Vancouver BC",
           "Canada"
          ],
          "labeledLatLngs": [
           {
            "label": "display",
            "lat": 49.284786356932074,
            "lng": -123.12146745887779
           }
          ],
          "lat": 49.284786356932074,
          "lng": -123.12146745887779,
          "state": "BC"
         },
         "name": "Pure Nail Bar (Downtown)",
         "referralId": "v-1620316601"
        },
        {
         "categories": [
          {
           "icon": {
            "prefix": "https://ss3.4sqi.net/img/categories_v2/food/default_",
            "suffix": ".png"
           },
           "id": "4bf58dd8d48988d1c4941735",
           "name": "Restaurant",
           "pluralName": "Restaurants",
           "primary": true,
           "shortName": "Restaurant"
          }
         ],
         "hasPerk": false,
         "id": "543ffaa5498e1016918872cf",
         "location": {
          "address": "1121 Alberni St.",
          "cc": "CA",
          "city": "Vancouver",
          "country": "Canada",
          "distance": 264,
          "formattedAddress": [
           "1121 Alberni St.",
           "Vancouver BC V6E 4T9",
           "Canada"
          ],
          "labeledLatLngs": [
           {
            "label": "display",
            "lat": 49.285948230397544,
            "lng": -123.12430769205092
           }
          ],
          "lat": 49.285948230397544,
          "lng": -123.12430769205092,
          "postalCode": "V6E 4T9",
          "state": "BC"
         },
         "name": "The Keg Steakhouse + Bar - Alberni",
         "referralId": "v-1620316601",
         "venuePage": {
          "id": "1359972104"
         }
        },
        {
         "categories": [
          {
           "icon": {
            "prefix": "https://ss3.4sqi.net/img/categories_v2/nightlife/pub_",
            "suffix": ".png"
           },
           "id": "4bf58dd8d48988d116941735",
           "name": "Bar",
           "pluralName": "Bars",
           "primary": true,
           "shortName": "Bar"
          }
         ],
         "hasPerk": false,
         "id": "4c22e99a9a67a5939a53dd87",
         "location": {
          "address": "1088 Burrard St",
          "cc": "CA",
          "city": "Vancouver",
          "country": "Canada",
          "crossStreet": "at Sheraton Wall Centre",
          "distance": 645,
          "formattedAddress": [
           "1088 Burrard St (at Sheraton Wall Centre)",
           "Vancouver BC V6Z 2R9",
           "Canada"
          ],
          "labeledLatLngs": [
           {
            "label": "display",
            "lat": 49.28046564330069,
            "lng": -123.12571571242015
           }
          ],
          "lat": 49.28046564330069,
          "lng": -123.12571571242015,
          "neighborhood": "Financial District",
          "postalCode": "V6Z 2R9",
          "state": "BC"
         },
         "name": "Bar One",
         "referralId": "v-1620316601"
        },
        {
         "categories": [
          {
           "icon": {
            "prefix": "https://ss3.4sqi.net/img/categories_v2/food/steakhouse_",
            "suffix": ".png"
           },
           "id": "4bf58dd8d48988d1cc941735",
           "name": "Steakhouse",
           "pluralName": "Steakhouses",
           "primary": true,
           "shortName": "Steakhouse"
          }
         ],
         "hasPerk": false,
         "id": "4aab1bd7f964a520f65820e3",
         "location": {
          "address": "595 Hornby St.",
          "cc": "CA",
          "city": "Vancouver",
          "country": "Canada",
          "crossStreet": "at Dunsmuir St.",
          "distance": 168,
          "formattedAddress": [
           "595 Hornby St. (at Dunsmuir St.)",
           "Vancouver BC V6C 2E8",
           "Canada"
          ],
          "labeledLatLngs": [
           {
            "label": "display",
            "lat": 49.285151,
            "lng": -123.118485
           }
          ],
          "lat": 49.285151,
          "lng": -123.118485,
          "postalCode": "V6C 2E8",
          "state": "BC"
         },
         "name": "The Keg Steakhouse & Bar",
         "referralId": "v-1620316601"
        },
        {
         "categories": [
          {
           "icon": {
            "prefix": "https://ss3.4sqi.net/img/categories_v2/food/seafood_",
            "suffix": ".png"
           },
           "id": "4bf58dd8d48988d1ce941735",
           "name": "Seafood Restaurant",
           "pluralName": "Seafood Restaurants",
           "primary": true,
           "shortName": "Seafood"
          }
         ],
         "hasPerk": false,
         "id": "4d0ab45146bab60ca7b02390",
         "location": {
          "address": "791 W Georgia St",
          "cc": "CA",
          "city": "Vancouver",
          "country": "Canada",
          "crossStreet": "btwn Howe & Granville",
          "distance": 320,
          "formattedAddress": [
           "791 W Georgia St (btwn Howe & Granville)",
           "Vancouver BC V6C 2T4",
           "Canada"
          ],
          "labeledLatLngs": [
           {
            "label": "display",
            "lat": 49.28321399326987,
            "lng": -123.11776306385563
           }
          ],
          "lat": 49.28321399326987,
          "lng": -123.11776306385563,
          "postalCode": "V6C 2T4",
          "state": "BC"
         },
         "name": "YEW seafood + bar",
         "referralId": "v-1620316601"
        },
        {
         "categories": [
          {
           "icon": {
            "prefix": "https://ss3.4sqi.net/img/categories_v2/nightlife/pub_",
            "suffix": ".png"
           },
           "id": "4bf58dd8d48988d11b941735",
           "name": "Pub",
           "pluralName": "Pubs",
           "primary": true,
           "shortName": "Pub"
          }
         ],
         "hasPerk": false,
         "id": "524e152f498ec127fb617858",
         "location": {
          "address": "905 Dunsmuir St",
          "cc": "CA",
          "city": "Vancouver",
          "country": "Canada",
          "crossStreet": "at Hornby St",
          "distance": 151,
          "formattedAddress": [
           "905 Dunsmuir St (at Hornby St)",
           "Vancouver BC V6C 2E8",
           "Canada"
          ],
          "labeledLatLngs": [
           {
            "label": "display",
            "lat": 49.28503627867092,
            "lng": -123.11874823199229
           }
          ],
          "lat": 49.28503627867092,
          "lng": -123.11874823199229,
          "postalCode": "V6C 2E8",
          "state": "BC"
         },
         "name": "The Blackbird Public House & Oyster Bar",
         "referralId": "v-1620316601"
        },
        {
         "categories": [
          {
           "icon": {
            "prefix": "https://ss3.4sqi.net/img/categories_v2/food/default_",
            "suffix": ".png"
           },
           "id": "4bf58dd8d48988d1c4941735",
           "name": "Restaurant",
           "pluralName": "Restaurants",
           "primary": true,
           "shortName": "Restaurant"
          }
         ],
         "hasPerk": false,
         "id": "5170656ae4b029a050dd8a49",
         "location": {
          "address": "688 Dunsmuir Street",
          "cc": "CA",
          "city": "Vancouver",
          "country": "Canada",
          "distance": 383,
          "formattedAddress": [
           "688 Dunsmuir Street",
           "Vancouver BC V6B 1N3",
           "Canada"
          ],
          "labeledLatLngs": [
           {
            "label": "display",
            "lat": 49.28343784084837,
            "lng": -123.11636252876394
           }
          ],
          "lat": 49.28343784084837,
          "lng": -123.11636252876394,
          "postalCode": "V6B 1N3",
          "state": "BC"
         },
         "name": "The Keg Steakhouse + Bar - Dunsmuir",
         "referralId": "v-1620316601",
         "venuePage": {
          "id": "1359972102"
         }
        },
        {
         "categories": [
          {
           "icon": {
            "prefix": "https://ss3.4sqi.net/img/categories_v2/food/default_",
            "suffix": ".png"
           },
           "id": "4bf58dd8d48988d1c4941735",
           "name": "Restaurant",
           "pluralName": "Restaurants",
           "primary": true,
           "shortName": "Restaurant"
          }
         ],
         "hasPerk": false,
         "id": "4aa9d009f964a5205b5520e3",
         "location": {
          "address": "1122 W Hastings St.",
          "cc": "CA",
          "city": "Vancouver",
          "country": "Canada",
          "crossStreet": "at Thurlow St.",
          "distance": 311,
          "formattedAddress": [
           "1122 W Hastings St. (at Thurlow St.)",
           "Vancouver BC V6E 4R5",
           "Canada"
          ],
          "labeledLatLngs": [
           {
            "label": "display",
            "lat": 49.28807814093806,
            "lng": -123.1202818262412
           }
          ],
          "lat": 49.28807814093806,
          "lng": -123.1202818262412,
          "postalCode": "V6E 4R5",
          "state": "BC"
         },
         "name": "Showcase Restaurant and Bar",
         "referralId": "v-1620316601",
         "venuePage": {
          "id": "83873644"
         }
        },
        {
         "categories": [
          {
           "icon": {
            "prefix": "https://ss3.4sqi.net/img/categories_v2/nightlife/default_",
            "suffix": ".png"
           },
           "id": "4bf58dd8d48988d121941735",
           "name": "Lounge",
           "pluralName": "Lounges",
           "primary": true,
           "shortName": "Lounge"
          }
         ],
         "hasPerk": false,
         "id": "4c059b685753c928d8bf39f1",
         "location": {
          "address": "1133 West Hastings St",
          "cc": "CA",
          "city": "Vancouver",
          "country": "Canada",
          "distance": 374,
          "formattedAddress": [
           "1133 West Hastings St",
           "Vancouver BC V6E 3T3",
           "Canada"
          ],
          "labeledLatLngs": [
           {
            "label": "display",
            "lat": 49.28865914248701,
            "lng": -123.12067668321829
           }
          ],
          "lat": 49.28865914248701,
          "lng": -123.12067668321829,
          "neighborhood": "Coal Harbour",
          "postalCode": "V6E 3T3",
          "state": "BC"
         },
         "name": "p2b bistro and bar",
         "referralId": "v-1620316601"
        }
       ]
      },
      "text/plain": [
       "<IPython.core.display.JSON object>"
      ]
     },
     "execution_count": 17,
     "metadata": {
      "application/json": {
       "expanded": false,
       "root": "root"
      }
     },
     "output_type": "execute_result"
    }
   ],
   "source": [
    "JSON(test)"
   ]
  },
  {
   "cell_type": "code",
   "execution_count": 40,
   "metadata": {},
   "outputs": [
    {
     "data": {
      "text/plain": [
       "dict"
      ]
     },
     "execution_count": 40,
     "metadata": {},
     "output_type": "execute_result"
    }
   ],
   "source": [
    "type(test)"
   ]
  },
  {
   "cell_type": "code",
   "execution_count": 43,
   "metadata": {
    "collapsed": true,
    "jupyter": {
     "outputs_hidden": true
    }
   },
   "outputs": [
    {
     "data": {
      "text/html": [
       "<div>\n",
       "<style scoped>\n",
       "    .dataframe tbody tr th:only-of-type {\n",
       "        vertical-align: middle;\n",
       "    }\n",
       "\n",
       "    .dataframe tbody tr th {\n",
       "        vertical-align: top;\n",
       "    }\n",
       "\n",
       "    .dataframe thead th {\n",
       "        text-align: right;\n",
       "    }\n",
       "</style>\n",
       "<table border=\"1\" class=\"dataframe\">\n",
       "  <thead>\n",
       "    <tr style=\"text-align: right;\">\n",
       "      <th></th>\n",
       "      <th>id</th>\n",
       "      <th>name</th>\n",
       "      <th>location</th>\n",
       "      <th>categories</th>\n",
       "      <th>referralId</th>\n",
       "      <th>hasPerk</th>\n",
       "      <th>venuePage</th>\n",
       "    </tr>\n",
       "  </thead>\n",
       "  <tbody>\n",
       "    <tr>\n",
       "      <th>0</th>\n",
       "      <td>4b63ba96f964a520908e2ae3</td>\n",
       "      <td>Mosaic Bar &amp; Grille</td>\n",
       "      <td>{'address': '655 Burrard St', 'crossStreet': '...</td>\n",
       "      <td>[{'id': '4bf58dd8d48988d10c941735', 'name': 'F...</td>\n",
       "      <td>v-1620316601</td>\n",
       "      <td>False</td>\n",
       "      <td>NaN</td>\n",
       "    </tr>\n",
       "    <tr>\n",
       "      <th>1</th>\n",
       "      <td>50bd3764e4b0532c3a561f38</td>\n",
       "      <td>Pure Nail Bar (Downtown)</td>\n",
       "      <td>{'address': '202-1030 W Georgia St', 'crossStr...</td>\n",
       "      <td>[{'id': '4f04aa0c2fb6e1c99f3db0b8', 'name': 'N...</td>\n",
       "      <td>v-1620316601</td>\n",
       "      <td>False</td>\n",
       "      <td>NaN</td>\n",
       "    </tr>\n",
       "    <tr>\n",
       "      <th>2</th>\n",
       "      <td>543ffaa5498e1016918872cf</td>\n",
       "      <td>The Keg Steakhouse + Bar - Alberni</td>\n",
       "      <td>{'address': '1121 Alberni St.', 'lat': 49.2859...</td>\n",
       "      <td>[{'id': '4bf58dd8d48988d1c4941735', 'name': 'R...</td>\n",
       "      <td>v-1620316601</td>\n",
       "      <td>False</td>\n",
       "      <td>{'id': '1359972104'}</td>\n",
       "    </tr>\n",
       "    <tr>\n",
       "      <th>3</th>\n",
       "      <td>4c22e99a9a67a5939a53dd87</td>\n",
       "      <td>Bar One</td>\n",
       "      <td>{'address': '1088 Burrard St', 'crossStreet': ...</td>\n",
       "      <td>[{'id': '4bf58dd8d48988d116941735', 'name': 'B...</td>\n",
       "      <td>v-1620316601</td>\n",
       "      <td>False</td>\n",
       "      <td>NaN</td>\n",
       "    </tr>\n",
       "    <tr>\n",
       "      <th>4</th>\n",
       "      <td>4aab1bd7f964a520f65820e3</td>\n",
       "      <td>The Keg Steakhouse &amp; Bar</td>\n",
       "      <td>{'address': '595 Hornby St.', 'crossStreet': '...</td>\n",
       "      <td>[{'id': '4bf58dd8d48988d1cc941735', 'name': 'S...</td>\n",
       "      <td>v-1620316601</td>\n",
       "      <td>False</td>\n",
       "      <td>NaN</td>\n",
       "    </tr>\n",
       "    <tr>\n",
       "      <th>5</th>\n",
       "      <td>4d0ab45146bab60ca7b02390</td>\n",
       "      <td>YEW seafood + bar</td>\n",
       "      <td>{'address': '791 W Georgia St', 'crossStreet':...</td>\n",
       "      <td>[{'id': '4bf58dd8d48988d1ce941735', 'name': 'S...</td>\n",
       "      <td>v-1620316601</td>\n",
       "      <td>False</td>\n",
       "      <td>NaN</td>\n",
       "    </tr>\n",
       "    <tr>\n",
       "      <th>6</th>\n",
       "      <td>524e152f498ec127fb617858</td>\n",
       "      <td>The Blackbird Public House &amp; Oyster Bar</td>\n",
       "      <td>{'address': '905 Dunsmuir St', 'crossStreet': ...</td>\n",
       "      <td>[{'id': '4bf58dd8d48988d11b941735', 'name': 'P...</td>\n",
       "      <td>v-1620316601</td>\n",
       "      <td>False</td>\n",
       "      <td>NaN</td>\n",
       "    </tr>\n",
       "    <tr>\n",
       "      <th>7</th>\n",
       "      <td>5170656ae4b029a050dd8a49</td>\n",
       "      <td>The Keg Steakhouse + Bar - Dunsmuir</td>\n",
       "      <td>{'address': '688 Dunsmuir Street', 'lat': 49.2...</td>\n",
       "      <td>[{'id': '4bf58dd8d48988d1c4941735', 'name': 'R...</td>\n",
       "      <td>v-1620316601</td>\n",
       "      <td>False</td>\n",
       "      <td>{'id': '1359972102'}</td>\n",
       "    </tr>\n",
       "    <tr>\n",
       "      <th>8</th>\n",
       "      <td>4aa9d009f964a5205b5520e3</td>\n",
       "      <td>Showcase Restaurant and Bar</td>\n",
       "      <td>{'address': '1122 W Hastings St.', 'crossStree...</td>\n",
       "      <td>[{'id': '4bf58dd8d48988d1c4941735', 'name': 'R...</td>\n",
       "      <td>v-1620316601</td>\n",
       "      <td>False</td>\n",
       "      <td>{'id': '83873644'}</td>\n",
       "    </tr>\n",
       "    <tr>\n",
       "      <th>9</th>\n",
       "      <td>4c059b685753c928d8bf39f1</td>\n",
       "      <td>p2b bistro and bar</td>\n",
       "      <td>{'address': '1133 West Hastings St', 'lat': 49...</td>\n",
       "      <td>[{'id': '4bf58dd8d48988d121941735', 'name': 'L...</td>\n",
       "      <td>v-1620316601</td>\n",
       "      <td>False</td>\n",
       "      <td>NaN</td>\n",
       "    </tr>\n",
       "  </tbody>\n",
       "</table>\n",
       "</div>"
      ],
      "text/plain": [
       "                         id                                     name  \\\n",
       "0  4b63ba96f964a520908e2ae3                      Mosaic Bar & Grille   \n",
       "1  50bd3764e4b0532c3a561f38                 Pure Nail Bar (Downtown)   \n",
       "2  543ffaa5498e1016918872cf       The Keg Steakhouse + Bar - Alberni   \n",
       "3  4c22e99a9a67a5939a53dd87                                  Bar One   \n",
       "4  4aab1bd7f964a520f65820e3                 The Keg Steakhouse & Bar   \n",
       "5  4d0ab45146bab60ca7b02390                        YEW seafood + bar   \n",
       "6  524e152f498ec127fb617858  The Blackbird Public House & Oyster Bar   \n",
       "7  5170656ae4b029a050dd8a49      The Keg Steakhouse + Bar - Dunsmuir   \n",
       "8  4aa9d009f964a5205b5520e3              Showcase Restaurant and Bar   \n",
       "9  4c059b685753c928d8bf39f1                       p2b bistro and bar   \n",
       "\n",
       "                                            location  \\\n",
       "0  {'address': '655 Burrard St', 'crossStreet': '...   \n",
       "1  {'address': '202-1030 W Georgia St', 'crossStr...   \n",
       "2  {'address': '1121 Alberni St.', 'lat': 49.2859...   \n",
       "3  {'address': '1088 Burrard St', 'crossStreet': ...   \n",
       "4  {'address': '595 Hornby St.', 'crossStreet': '...   \n",
       "5  {'address': '791 W Georgia St', 'crossStreet':...   \n",
       "6  {'address': '905 Dunsmuir St', 'crossStreet': ...   \n",
       "7  {'address': '688 Dunsmuir Street', 'lat': 49.2...   \n",
       "8  {'address': '1122 W Hastings St.', 'crossStree...   \n",
       "9  {'address': '1133 West Hastings St', 'lat': 49...   \n",
       "\n",
       "                                          categories    referralId  hasPerk  \\\n",
       "0  [{'id': '4bf58dd8d48988d10c941735', 'name': 'F...  v-1620316601    False   \n",
       "1  [{'id': '4f04aa0c2fb6e1c99f3db0b8', 'name': 'N...  v-1620316601    False   \n",
       "2  [{'id': '4bf58dd8d48988d1c4941735', 'name': 'R...  v-1620316601    False   \n",
       "3  [{'id': '4bf58dd8d48988d116941735', 'name': 'B...  v-1620316601    False   \n",
       "4  [{'id': '4bf58dd8d48988d1cc941735', 'name': 'S...  v-1620316601    False   \n",
       "5  [{'id': '4bf58dd8d48988d1ce941735', 'name': 'S...  v-1620316601    False   \n",
       "6  [{'id': '4bf58dd8d48988d11b941735', 'name': 'P...  v-1620316601    False   \n",
       "7  [{'id': '4bf58dd8d48988d1c4941735', 'name': 'R...  v-1620316601    False   \n",
       "8  [{'id': '4bf58dd8d48988d1c4941735', 'name': 'R...  v-1620316601    False   \n",
       "9  [{'id': '4bf58dd8d48988d121941735', 'name': 'L...  v-1620316601    False   \n",
       "\n",
       "              venuePage  \n",
       "0                   NaN  \n",
       "1                   NaN  \n",
       "2  {'id': '1359972104'}  \n",
       "3                   NaN  \n",
       "4                   NaN  \n",
       "5                   NaN  \n",
       "6                   NaN  \n",
       "7  {'id': '1359972102'}  \n",
       "8    {'id': '83873644'}  \n",
       "9                   NaN  "
      ]
     },
     "execution_count": 43,
     "metadata": {},
     "output_type": "execute_result"
    }
   ],
   "source": [
    "foursquare = pd.DataFrame(test['venues'])\n",
    "foursquare"
   ]
  },
  {
   "cell_type": "code",
   "execution_count": null,
   "metadata": {},
   "outputs": [],
   "source": [
    "# test coordinates for kitsilano area\n",
    "# ‘ll’: ‘49.263, -123.168’"
   ]
  },
  {
   "cell_type": "code",
   "execution_count": 48,
   "metadata": {},
   "outputs": [],
   "source": [
    "fs_restaurants = fs_client.venues.search(params={'query': 'restaurant','radius': '5000', 'll': '49.263, -123.168', 'limit': '50'})"
   ]
  },
  {
   "cell_type": "code",
   "execution_count": 49,
   "metadata": {},
   "outputs": [
    {
     "data": {
      "application/json": {
       "venues": [
        {
         "categories": [
          {
           "icon": {
            "prefix": "https://ss3.4sqi.net/img/categories_v2/nightlife/pub_",
            "suffix": ".png"
           },
           "id": "4bf58dd8d48988d11b941735",
           "name": "Pub",
           "pluralName": "Pubs",
           "primary": true,
           "shortName": "Pub"
          }
         ],
         "hasPerk": false,
         "id": "4e9a75a3d3e3697fbfda59ee",
         "location": {
          "address": "2884 W Broadway",
          "cc": "CA",
          "city": "Vancouver",
          "country": "Canada",
          "crossStreet": "btwn Macdonald & Mackenzie",
          "distance": 163,
          "formattedAddress": [
           "2884 W Broadway (btwn Macdonald & Mackenzie)",
           "Vancouver BC",
           "Canada"
          ],
          "labeledLatLngs": [
           {
            "label": "display",
            "lat": 49.26400780924734,
            "lng": -123.16963810838409
           }
          ],
          "lat": 49.26400780924734,
          "lng": -123.16963810838409,
          "state": "BC"
         },
         "name": "Yagger's Kitsilano Restaurant",
         "referralId": "v-1620320421"
        },
        {
         "categories": [
          {
           "icon": {
            "prefix": "https://ss3.4sqi.net/img/categories_v2/food/seafood_",
            "suffix": ".png"
           },
           "id": "4bf58dd8d48988d1ce941735",
           "name": "Seafood Restaurant",
           "pluralName": "Seafood Restaurants",
           "primary": true,
           "shortName": "Seafood"
          }
         ],
         "hasPerk": false,
         "id": "4c0c0244a1b32d7f5be49bf0",
         "location": {
          "address": "1305 Arbutus St",
          "cc": "CA",
          "city": "Vancouver",
          "country": "Canada",
          "crossStreet": "Cornwall",
          "distance": 1632,
          "formattedAddress": [
           "1305 Arbutus St (Cornwall)",
           "Vancouver BC V6J 5N2",
           "Canada"
          ],
          "labeledLatLngs": [
           {
            "label": "display",
            "lat": 49.274293889837054,
            "lng": -123.15366983413696
           }
          ],
          "lat": 49.274293889837054,
          "lng": -123.15366983413696,
          "postalCode": "V6J 5N2",
          "state": "BC"
         },
         "name": "The Boathouse Restaurant",
         "referralId": "v-1620320421"
        },
        {
         "categories": [
          {
           "icon": {
            "prefix": "https://ss3.4sqi.net/img/categories_v2/food/asian_",
            "suffix": ".png"
           },
           "id": "4bf58dd8d48988d145941735",
           "name": "Chinese Restaurant",
           "pluralName": "Chinese Restaurants",
           "primary": true,
           "shortName": "Chinese"
          }
         ],
         "hasPerk": false,
         "id": "51c8fd70498e48a12893ba67",
         "location": {
          "address": "2394 W 4th Ave",
          "cc": "CA",
          "city": "Vancouver",
          "country": "Canada",
          "crossStreet": "at Balsam St",
          "distance": 843,
          "formattedAddress": [
           "2394 W 4th Ave (at Balsam St)",
           "Vancouver BC",
           "Canada"
          ],
          "labeledLatLngs": [
           {
            "label": "display",
            "lat": 49.26821645953926,
            "lng": -123.15957458121058
           }
          ],
          "lat": 49.26821645953926,
          "lng": -123.15957458121058,
          "state": "BC"
         },
         "name": "Peaceful Restaurant 和平饭店",
         "referralId": "v-1620320421"
        },
        {
         "categories": [
          {
           "icon": {
            "prefix": "https://ss3.4sqi.net/img/categories_v2/food/japanese_",
            "suffix": ".png"
           },
           "id": "4bf58dd8d48988d111941735",
           "name": "Japanese Restaurant",
           "pluralName": "Japanese Restaurants",
           "primary": true,
           "shortName": "Japanese"
          }
         ],
         "hasPerk": false,
         "id": "4ac4169cf964a5202b9e20e3",
         "location": {
          "address": "2274 W 4th Ave.",
          "cc": "CA",
          "city": "Vancouver",
          "country": "Canada",
          "crossStreet": "at Vine St.",
          "distance": 990,
          "formattedAddress": [
           "2274 W 4th Ave. (at Vine St.)",
           "Vancouver BC V6K 1N8",
           "Canada"
          ],
          "labeledLatLngs": [
           {
            "label": "display",
            "lat": 49.2681979877156,
            "lng": -123.15692645987163
           }
          ],
          "lat": 49.2681979877156,
          "lng": -123.15692645987163,
          "postalCode": "V6K 1N8",
          "state": "BC"
         },
         "name": "Hi Nippon Japanese Restaurant",
         "referralId": "v-1620320421"
        },
        {
         "categories": [
          {
           "icon": {
            "prefix": "https://ss3.4sqi.net/img/categories_v2/food/asian_",
            "suffix": ".png"
           },
           "id": "4bf58dd8d48988d145941735",
           "name": "Chinese Restaurant",
           "pluralName": "Chinese Restaurants",
           "primary": true,
           "shortName": "Chinese"
          }
         ],
         "hasPerk": false,
         "id": "4bf1a603324cc9b68a49cc92",
         "location": {
          "address": "4009 Macdonald Street",
          "cc": "CA",
          "city": "Vancouver",
          "country": "Canada",
          "crossStreet": "West 24th Avenue",
          "distance": 1194,
          "formattedAddress": [
           "4009 Macdonald Street (West 24th Avenue)",
           "Vancouver BC V6L 2N8",
           "Canada"
          ],
          "labeledLatLngs": [
           {
            "label": "display",
            "lat": 49.2580725102941,
            "lng": -123.15339387176246
           }
          ],
          "lat": 49.2580725102941,
          "lng": -123.15339387176246,
          "postalCode": "V6L 2N8",
          "state": "BC"
         },
         "name": "Ridge Gardens Restaurant",
         "referralId": "v-1620320421"
        },
        {
         "categories": [
          {
           "icon": {
            "prefix": "https://ss3.4sqi.net/img/categories_v2/food/japanese_",
            "suffix": ".png"
           },
           "id": "4bf58dd8d48988d111941735",
           "name": "Japanese Restaurant",
           "pluralName": "Japanese Restaurants",
           "primary": true,
           "shortName": "Japanese"
          }
         ],
         "hasPerk": false,
         "id": "4aceae40f964a520aad120e3",
         "location": {
          "address": "2756 W Broadway",
          "cc": "CA",
          "city": "Vancouver",
          "country": "Canada",
          "crossStreet": "at Macdonald St.",
          "distance": 121,
          "formattedAddress": [
           "2756 W Broadway (at Macdonald St.)",
           "Vancouver BC V6K 2G4",
           "Canada"
          ],
          "labeledLatLngs": [
           {
            "label": "display",
            "lat": 49.26403946816144,
            "lng": -123.16750583181772
           }
          ],
          "lat": 49.26403946816144,
          "lng": -123.16750583181772,
          "neighborhood": "Kitsilano",
          "postalCode": "V6K 2G4",
          "state": "BC"
         },
         "name": "Iki Japanese Restaurant",
         "referralId": "v-1620320421"
        },
        {
         "categories": [
          {
           "icon": {
            "prefix": "https://ss3.4sqi.net/img/categories_v2/food/sushi_",
            "suffix": ".png"
           },
           "id": "4bf58dd8d48988d1d2941735",
           "name": "Sushi Restaurant",
           "pluralName": "Sushi Restaurants",
           "primary": true,
           "shortName": "Sushi"
          }
         ],
         "hasPerk": false,
         "id": "4ac28159f964a5206e9920e3",
         "location": {
          "address": "2825 W Broadway",
          "cc": "CA",
          "city": "Vancouver",
          "country": "Canada",
          "crossStreet": "btwn Mackenzie & MacDonald",
          "distance": 154,
          "formattedAddress": [
           "2825 W Broadway (btwn Mackenzie & MacDonald)",
           "Vancouver BC V6K 2G6",
           "Canada"
          ],
          "labeledLatLngs": [
           {
            "label": "display",
            "lat": 49.264208263449156,
            "lng": -123.16904170047985
           }
          ],
          "lat": 49.264208263449156,
          "lng": -123.16904170047985,
          "postalCode": "V6K 2G6",
          "state": "BC"
         },
         "name": "Hoshi Sushi Japanese Restaurant",
         "referralId": "v-1620320421"
        },
        {
         "categories": [
          {
           "icon": {
            "prefix": "https://ss3.4sqi.net/img/categories_v2/food/seafood_",
            "suffix": ".png"
           },
           "id": "4bf58dd8d48988d1ce941735",
           "name": "Seafood Restaurant",
           "pluralName": "Seafood Restaurants",
           "primary": true,
           "shortName": "Seafood"
          }
         ],
         "hasPerk": false,
         "id": "4aa83aacf964a520405020e3",
         "location": {
          "address": "1253 Johnston St",
          "cc": "CA",
          "city": "Vancouver",
          "country": "Canada",
          "crossStreet": "btwn Old Bridge Street and Cartwright",
          "distance": 2797,
          "formattedAddress": [
           "1253 Johnston St (btwn Old Bridge Street and Cartwright)",
           "Vancouver BC V6H 3R9",
           "Canada"
          ],
          "labeledLatLngs": [
           {
            "label": "display",
            "lat": 49.26934778168365,
            "lng": -123.13073066767618
           }
          ],
          "lat": 49.26934778168365,
          "lng": -123.13073066767618,
          "postalCode": "V6H 3R9",
          "state": "BC"
         },
         "name": "Dockside Restaurant",
         "referralId": "v-1620320421",
         "venuePage": {
          "id": "39502607"
         }
        },
        {
         "categories": [
          {
           "icon": {
            "prefix": "https://ss3.4sqi.net/img/categories_v2/food/asian_",
            "suffix": ".png"
           },
           "id": "4bf58dd8d48988d145941735",
           "name": "Chinese Restaurant",
           "pluralName": "Chinese Restaurants",
           "primary": true,
           "shortName": "Chinese"
          }
         ],
         "hasPerk": false,
         "id": "4d683de960366a31507d4106",
         "location": {
          "address": "1410 West Broadway",
          "cc": "CA",
          "city": "Vancouver",
          "country": "Canada",
          "crossStreet": "Hemlock St.",
          "distance": 2295,
          "formattedAddress": [
           "1410 West Broadway (Hemlock St.)",
           "Vancouver BC V6H 3G8",
           "Canada"
          ],
          "labeledLatLngs": [
           {
            "label": "display",
            "lat": 49.263176,
            "lng": -123.1364
           }
          ],
          "lat": 49.263176,
          "lng": -123.1364,
          "neighborhood": "Fairview",
          "postalCode": "V6H 3G8",
          "state": "BC"
         },
         "name": "Broadway Chinese Restaurant",
         "referralId": "v-1620320421"
        },
        {
         "categories": [
          {
           "icon": {
            "prefix": "https://ss3.4sqi.net/img/categories_v2/food/vegetarian_",
            "suffix": ".png"
           },
           "id": "4bf58dd8d48988d1d3941735",
           "name": "Vegetarian / Vegan Restaurant",
           "pluralName": "Vegetarian / Vegan Restaurants",
           "primary": true,
           "shortName": "Vegetarian / Vegan"
          }
         ],
         "hasPerk": false,
         "id": "4aa7d91ef964a520944d20e3",
         "location": {
          "address": "2724 W 4th Ave",
          "cc": "CA",
          "city": "Vancouver",
          "country": "Canada",
          "crossStreet": "at Stephens St",
          "distance": 594,
          "formattedAddress": [
           "2724 W 4th Ave (at Stephens St)",
           "Vancouver BC V6K 1R1",
           "Canada"
          ],
          "labeledLatLngs": [
           {
            "label": "display",
            "lat": 49.26830060746881,
            "lng": -123.16704878650626
           }
          ],
          "lat": 49.26830060746881,
          "lng": -123.16704878650626,
          "postalCode": "V6K 1R1",
          "state": "BC"
         },
         "name": "The Naam Restaurant",
         "referralId": "v-1620320421"
        },
        {
         "categories": [
          {
           "icon": {
            "prefix": "https://ss3.4sqi.net/img/categories_v2/food/seafood_",
            "suffix": ".png"
           },
           "id": "4bf58dd8d48988d1ce941735",
           "name": "Seafood Restaurant",
           "pluralName": "Seafood Restaurants",
           "primary": true,
           "shortName": "Seafood"
          }
         ],
         "hasPerk": false,
         "id": "4aa83c06f964a5204d5020e3",
         "location": {
          "address": "1536 Johnston St.",
          "cc": "CA",
          "city": "Vancouver",
          "country": "Canada",
          "crossStreet": "Granville Island",
          "distance": 2678,
          "formattedAddress": [
           "1536 Johnston St. (Granville Island)",
           "Vancouver BC V6H 3R9",
           "Canada"
          ],
          "labeledLatLngs": [
           {
            "label": "display",
            "lat": 49.272188143299296,
            "lng": -123.13391772423387
           }
          ],
          "lat": 49.272188143299296,
          "lng": -123.13391772423387,
          "postalCode": "V6H 3R9",
          "state": "BC"
         },
         "name": "The Sandbar Seafood Restaurant",
         "referralId": "v-1620320421",
         "venuePage": {
          "id": "408453102"
         }
        },
        {
         "categories": [
          {
           "icon": {
            "prefix": "https://ss3.4sqi.net/img/categories_v2/food/asian_",
            "suffix": ".png"
           },
           "id": "4bf58dd8d48988d145941735",
           "name": "Chinese Restaurant",
           "pluralName": "Chinese Restaurants",
           "primary": true,
           "shortName": "Chinese"
          }
         ],
         "hasPerk": false,
         "id": "594c70a00336931c7f390429",
         "location": {
          "cc": "CA",
          "city": "Vancouver",
          "country": "Canada",
          "distance": 2782,
          "formattedAddress": [
           "Vancouver BC",
           "Canada"
          ],
          "labeledLatLngs": [
           {
            "label": "display",
            "lat": 49.275617,
            "lng": -123.13493
           }
          ],
          "lat": 49.275617,
          "lng": -123.13493,
          "neighborhood": "Downtown Vancouver",
          "state": "BC"
         },
         "name": "Na Jia Restaurant",
         "referralId": "v-1620320421"
        },
        {
         "categories": [
          {
           "icon": {
            "prefix": "https://ss3.4sqi.net/img/categories_v2/nightlife/default_",
            "suffix": ".png"
           },
           "id": "4bf58dd8d48988d121941735",
           "name": "Lounge",
           "pluralName": "Lounges",
           "primary": true,
           "shortName": "Lounge"
          }
         ],
         "hasPerk": false,
         "id": "4d2cce46ae3a8cfa4067bf70",
         "location": {
          "address": "801 W Georgia St",
          "cc": "CA",
          "city": "Vancouver",
          "country": "Canada",
          "crossStreet": "at Howe St",
          "distance": 4191,
          "formattedAddress": [
           "801 W Georgia St (at Howe St)",
           "Vancouver BC V6P 1C7",
           "Canada"
          ],
          "labeledLatLngs": [
           {
            "label": "display",
            "lat": 49.28336228267866,
            "lng": -123.11946181255522
           }
          ],
          "lat": 49.28336228267866,
          "lng": -123.11946181255522,
          "postalCode": "V6P 1C7",
          "state": "BC"
         },
         "name": "Hawksworth Restaurant",
         "referralId": "v-1620320421",
         "venuePage": {
          "id": "77577037"
         }
        },
        {
         "categories": [
          {
           "icon": {
            "prefix": "https://ss3.4sqi.net/img/categories_v2/food/spanish_",
            "suffix": ".png"
           },
           "id": "4bf58dd8d48988d150941735",
           "name": "Spanish Restaurant",
           "pluralName": "Spanish Restaurants",
           "primary": true,
           "shortName": "Spanish"
          }
         ],
         "hasPerk": false,
         "id": "50527ea7e4b0588850a3fbab",
         "location": {
          "address": "1118 Denman St.",
          "cc": "CA",
          "city": "Vancouver",
          "country": "Canada",
          "crossStreet": "at Pendrell St.",
          "distance": 3428,
          "formattedAddress": [
           "1118 Denman St. (at Pendrell St.)",
           "Vancouver BC V6G 2M8",
           "Canada"
          ],
          "labeledLatLngs": [
           {
            "label": "display",
            "lat": 49.288019,
            "lng": -123.140467
           }
          ],
          "lat": 49.288019,
          "lng": -123.140467,
          "postalCode": "V6G 2M8",
          "state": "BC"
         },
         "name": "España Restaurant",
         "referralId": "v-1620320421"
        },
        {
         "categories": [
          {
           "icon": {
            "prefix": "https://ss3.4sqi.net/img/categories_v2/food/asian_",
            "suffix": ".png"
           },
           "id": "4bf58dd8d48988d145941735",
           "name": "Chinese Restaurant",
           "pluralName": "Chinese Restaurants",
           "primary": true,
           "shortName": "Chinese"
          }
         ],
         "hasPerk": false,
         "id": "4b342ac8f964a520b92525e3",
         "location": {
          "address": "108-777 W Broadway",
          "cc": "CA",
          "city": "Vancouver",
          "country": "Canada",
          "distance": 3396,
          "formattedAddress": [
           "108-777 W Broadway",
           "Vancouver BC V5Z",
           "Canada"
          ],
          "labeledLatLngs": [
           {
            "label": "display",
            "lat": 49.26369279404139,
            "lng": -123.121258020401
           }
          ],
          "lat": 49.26369279404139,
          "lng": -123.121258020401,
          "postalCode": "V5Z",
          "state": "BC"
         },
         "name": "Dynasty Seafood Restaurant 皇朝海鮮酒家",
         "referralId": "v-1620320421"
        },
        {
         "categories": [
          {
           "icon": {
            "prefix": "https://ss3.4sqi.net/img/categories_v2/food/middleeastern_",
            "suffix": ".png"
           },
           "id": "4bf58dd8d48988d115941735",
           "name": "Middle Eastern Restaurant",
           "pluralName": "Middle Eastern Restaurants",
           "primary": true,
           "shortName": "Middle Eastern"
          }
         ],
         "hasPerk": false,
         "id": "4aa839aef964a520385020e3",
         "location": {
          "address": "202-1833 Anderson Street",
          "cc": "CA",
          "city": "Vancouver",
          "country": "Canada",
          "crossStreet": "@ Granville Island Entrance",
          "distance": 2246,
          "formattedAddress": [
           "202-1833 Anderson Street (@ Granville Island Entrance)",
           "Vancouver BC V6H 4E5",
           "Canada"
          ],
          "labeledLatLngs": [
           {
            "label": "display",
            "lat": 49.2694424333753,
            "lng": -123.13869119446346
           }
          ],
          "lat": 49.2694424333753,
          "lng": -123.13869119446346,
          "postalCode": "V6H 4E5",
          "state": "BC"
         },
         "name": "Afghan Horsemen Restaurant",
         "referralId": "v-1620320421"
        },
        {
         "categories": [
          {
           "icon": {
            "prefix": "https://ss3.4sqi.net/img/categories_v2/food/japanese_",
            "suffix": ".png"
           },
           "id": "4bf58dd8d48988d111941735",
           "name": "Japanese Restaurant",
           "pluralName": "Japanese Restaurants",
           "primary": true,
           "shortName": "Japanese"
          }
         ],
         "hasPerk": false,
         "id": "5264889711d205ec029d2e6a",
         "location": {
          "address": "4422 W 10th Ave",
          "cc": "CA",
          "city": "Vancouver",
          "country": "Canada",
          "crossStreet": "at Trimble St",
          "distance": 2818,
          "formattedAddress": [
           "4422 W 10th Ave (at Trimble St)",
           "Vancouver BC V6R 2H9",
           "Canada"
          ],
          "labeledLatLngs": [
           {
            "label": "display",
            "lat": 49.26377049638328,
            "lng": -123.20678411488923
           }
          ],
          "lat": 49.26377049638328,
          "lng": -123.20678411488923,
          "postalCode": "V6R 2H9",
          "state": "BC"
         },
         "name": "Takumi Japanese Restaurant",
         "referralId": "v-1620320421"
        },
        {
         "categories": [
          {
           "icon": {
            "prefix": "https://ss3.4sqi.net/img/categories_v2/food/thai_",
            "suffix": ".png"
           },
           "id": "4bf58dd8d48988d149941735",
           "name": "Thai Restaurant",
           "pluralName": "Thai Restaurants",
           "primary": true,
           "shortName": "Thai"
          }
         ],
         "hasPerk": false,
         "id": "55a85859498ee90cd678e719",
         "location": {
          "address": "3271 W Broadway",
          "cc": "CA",
          "city": "Vancouver",
          "country": "Canada",
          "distance": 687,
          "formattedAddress": [
           "3271 W Broadway",
           "Vancouver BC V6K 2H5",
           "Canada"
          ],
          "labeledLatLngs": [
           {
            "label": "display",
            "lat": 49.264198,
            "lng": -123.177285
           }
          ],
          "lat": 49.264198,
          "lng": -123.177285,
          "postalCode": "V6K 2H5",
          "state": "BC"
         },
         "name": "Thai Basil Restaurant",
         "referralId": "v-1620320421"
        },
        {
         "categories": [
          {
           "icon": {
            "prefix": "https://ss3.4sqi.net/img/categories_v2/food/greek_",
            "suffix": ".png"
           },
           "id": "4bf58dd8d48988d10e941735",
           "name": "Greek Restaurant",
           "pluralName": "Greek Restaurants",
           "primary": true,
           "shortName": "Greek"
          }
         ],
         "hasPerk": false,
         "id": "4bbd49fd07809521d481da91",
         "location": {
          "address": "3838 Oak St.",
          "cc": "CA",
          "city": "Vancouver",
          "country": "Canada",
          "crossStreet": "West 22nd Ave.",
          "distance": 3220,
          "formattedAddress": [
           "3838 Oak St. (West 22nd Ave.)",
           "Vancouver BC V5Z 2B3",
           "Canada"
          ],
          "labeledLatLngs": [
           {
            "label": "display",
            "lat": 49.25141589346419,
            "lng": -123.12737584040032
           }
          ],
          "lat": 49.25141589346419,
          "lng": -123.12737584040032,
          "postalCode": "V5Z 2B3",
          "state": "BC"
         },
         "name": "The Best Neighbours Restaurant",
         "referralId": "v-1620320421"
        },
        {
         "categories": [
          {
           "icon": {
            "prefix": "https://ss3.4sqi.net/img/categories_v2/food/asian_",
            "suffix": ".png"
           },
           "id": "4bf58dd8d48988d145941735",
           "name": "Chinese Restaurant",
           "pluralName": "Chinese Restaurants",
           "primary": true,
           "shortName": "Chinese"
          }
         ],
         "hasPerk": false,
         "id": "576c4083498e4989bae8764a",
         "location": {
          "address": "602 Seymour St",
          "cc": "CA",
          "city": "Vancouver",
          "country": "Canada",
          "crossStreet": "at Dunsmuir St",
          "distance": 4416,
          "formattedAddress": [
           "602 Seymour St (at Dunsmuir St)",
           "Vancouver BC",
           "Canada"
          ],
          "labeledLatLngs": [
           {
            "label": "display",
            "lat": 49.28292966132952,
            "lng": -123.11542775031258
           }
          ],
          "lat": 49.28292966132952,
          "lng": -123.11542775031258,
          "state": "BC"
         },
         "name": "Peaceful Restaurant",
         "referralId": "v-1620320421"
        },
        {
         "categories": [
          {
           "icon": {
            "prefix": "https://ss3.4sqi.net/img/categories_v2/food/asian_",
            "suffix": ".png"
           },
           "id": "4bf58dd8d48988d145941735",
           "name": "Chinese Restaurant",
           "pluralName": "Chinese Restaurants",
           "primary": true,
           "shortName": "Chinese"
          }
         ],
         "hasPerk": false,
         "id": "4abe7fb7f964a520078e20e3",
         "location": {
          "address": "148 E Pender St",
          "cc": "CA",
          "city": "Vancouver",
          "country": "Canada",
          "crossStreet": "Main St",
          "distance": 5224,
          "formattedAddress": [
           "148 E Pender St (Main St)",
           "Vancouver BC V6A 1T3",
           "Canada"
          ],
          "labeledLatLngs": [
           {
            "label": "display",
            "lat": 49.28042046714889,
            "lng": -123.10120452142614
           }
          ],
          "lat": 49.28042046714889,
          "lng": -123.10120452142614,
          "postalCode": "V6A 1T3",
          "state": "BC"
         },
         "name": "New Town Bakery & Restaurant",
         "referralId": "v-1620320421"
        },
        {
         "categories": [
          {
           "icon": {
            "prefix": "https://ss3.4sqi.net/img/categories_v2/food/japanese_",
            "suffix": ".png"
           },
           "id": "4bf58dd8d48988d111941735",
           "name": "Japanese Restaurant",
           "pluralName": "Japanese Restaurants",
           "primary": true,
           "shortName": "Japanese"
          }
         ],
         "hasPerk": false,
         "id": "4aa83730f964a520275020e3",
         "location": {
          "address": "1275 Pacific Blvd.",
          "cc": "CA",
          "city": "Vancouver",
          "country": "Canada",
          "crossStreet": "at Drake St.",
          "distance": 3449,
          "formattedAddress": [
           "1275 Pacific Blvd. (at Drake St.)",
           "Vancouver BC V6Z 2R6",
           "Canada"
          ],
          "labeledLatLngs": [
           {
            "label": "display",
            "lat": 49.27357175419056,
            "lng": -123.1233570977573
           }
          ],
          "lat": 49.27357175419056,
          "lng": -123.1233570977573,
          "postalCode": "V6Z 2R6",
          "state": "BC"
         },
         "name": "Ki-isu Japanese Restaurant",
         "referralId": "v-1620320421"
        },
        {
         "categories": [
          {
           "icon": {
            "prefix": "https://ss3.4sqi.net/img/categories_v2/food/japanese_",
            "suffix": ".png"
           },
           "id": "4bf58dd8d48988d111941735",
           "name": "Japanese Restaurant",
           "pluralName": "Japanese Restaurants",
           "primary": true,
           "shortName": "Japanese"
          }
         ],
         "hasPerk": false,
         "id": "4d18042881cea35dfee3eaec",
         "location": {
          "address": "3416 W Broadway",
          "cc": "CA",
          "city": "Vancouver",
          "country": "Canada",
          "crossStreet": "at Waterloo St.",
          "distance": 889,
          "formattedAddress": [
           "3416 W Broadway (at Waterloo St.)",
           "Vancouver BC V6R 2B3",
           "Canada"
          ],
          "labeledLatLngs": [
           {
            "label": "display",
            "lat": 49.26412197856093,
            "lng": -123.18012714385986
           }
          ],
          "lat": 49.26412197856093,
          "lng": -123.18012714385986,
          "postalCode": "V6R 2B3",
          "state": "BC"
         },
         "name": "Sushi Vancouver Japanese Restaurant",
         "referralId": "v-1620320421"
        },
        {
         "categories": [
          {
           "icon": {
            "prefix": "https://ss3.4sqi.net/img/categories_v2/food/asian_",
            "suffix": ".png"
           },
           "id": "4bf58dd8d48988d145941735",
           "name": "Chinese Restaurant",
           "pluralName": "Chinese Restaurants",
           "primary": true,
           "shortName": "Chinese"
          }
         ],
         "hasPerk": false,
         "id": "4d9cbcbdc99fb60cb424b88b",
         "location": {
          "address": "630 Davie Street",
          "cc": "CA",
          "city": "Vancouver",
          "country": "Canada",
          "distance": 3433,
          "formattedAddress": [
           "630 Davie Street",
           "Vancouver BC",
           "Canada"
          ],
          "labeledLatLngs": [
           {
            "label": "display",
            "lat": 49.27677332282391,
            "lng": -123.12569736672361
           }
          ],
          "lat": 49.27677332282391,
          "lng": -123.12569736672361,
          "state": "BC"
         },
         "name": "New Peace Chinese Restaurant",
         "referralId": "v-1620320421"
        },
        {
         "categories": [
          {
           "icon": {
            "prefix": "https://ss3.4sqi.net/img/categories_v2/food/indian_",
            "suffix": ".png"
           },
           "id": "4bf58dd8d48988d10f941735",
           "name": "Indian Restaurant",
           "pluralName": "Indian Restaurants",
           "primary": true,
           "shortName": "Indian"
          }
         ],
         "hasPerk": false,
         "id": "4ace7e53f964a520e1d020e3",
         "location": {
          "address": "#105 - 805 West Broadway",
          "cc": "CA",
          "city": "Vancouver",
          "country": "Canada",
          "crossStreet": "at Willow St",
          "distance": 3167,
          "formattedAddress": [
           "#105 - 805 West Broadway (at Willow St)",
           "Vancouver BC V5Z 1K1",
           "Canada"
          ],
          "labeledLatLngs": [
           {
            "label": "display",
            "lat": 49.26356711854418,
            "lng": -123.12441229820251
           }
          ],
          "lat": 49.26356711854418,
          "lng": -123.12441229820251,
          "postalCode": "V5Z 1K1",
          "state": "BC"
         },
         "name": "New India Buffet & Restaurant",
         "referralId": "v-1620320421"
        },
        {
         "categories": [
          {
           "icon": {
            "prefix": "https://ss3.4sqi.net/img/categories_v2/food/asian_",
            "suffix": ".png"
           },
           "id": "52af3a7c3cf9994f4e043bed",
           "name": "Cantonese Restaurant",
           "pluralName": "Cantonese Restaurants",
           "primary": true,
           "shortName": "Cantonese"
          }
         ],
         "hasPerk": false,
         "id": "5407666f498e6b96e084e978",
         "location": {
          "address": "#110 - 5701",
          "cc": "CA",
          "city": "Vancouver",
          "country": "Canada",
          "crossStreet": "Granville Street",
          "distance": 3831,
          "formattedAddress": [
           "#110 - 5701 (Granville Street)",
           "Vancouver BC V6M 3C7",
           "Canada"
          ],
          "labeledLatLngs": [
           {
            "label": "display",
            "lat": 49.233938,
            "lng": -123.139747
           }
          ],
          "lat": 49.233938,
          "lng": -123.139747,
          "postalCode": "V6M 3C7",
          "state": "BC"
         },
         "name": "Hui Fu House Seafood Restaurant 匯富堂滴金會所",
         "referralId": "v-1620320421"
        },
        {
         "categories": [
          {
           "icon": {
            "prefix": "https://ss3.4sqi.net/img/categories_v2/food/asian_",
            "suffix": ".png"
           },
           "id": "4bf58dd8d48988d145941735",
           "name": "Chinese Restaurant",
           "pluralName": "Chinese Restaurants",
           "primary": true,
           "shortName": "Chinese"
          }
         ],
         "hasPerk": false,
         "id": "4c800332d8086dcb62ed5f52",
         "location": {
          "address": "3492 Cambie St.",
          "cc": "CA",
          "city": "Vancouver",
          "country": "Canada",
          "distance": 3967,
          "formattedAddress": [
           "3492 Cambie St.",
           "Vancouver BC V5Y 2A9",
           "Canada"
          ],
          "labeledLatLngs": [
           {
            "label": "display",
            "lat": 49.25414780213013,
            "lng": -123.11509537313677
           }
          ],
          "lat": 49.25414780213013,
          "lng": -123.11509537313677,
          "postalCode": "V5Y 2A9",
          "state": "BC"
         },
         "name": "Beijing Garden Restaurant",
         "referralId": "v-1620320421"
        },
        {
         "categories": [
          {
           "icon": {
            "prefix": "https://ss3.4sqi.net/img/categories_v2/food/asian_",
            "suffix": ".png"
           },
           "id": "4bf58dd8d48988d145941735",
           "name": "Chinese Restaurant",
           "pluralName": "Chinese Restaurants",
           "primary": true,
           "shortName": "Chinese"
          }
         ],
         "hasPerk": false,
         "id": "4ab04bfaf964a520ed6620e3",
         "location": {
          "address": "532 W Broadway",
          "cc": "CA",
          "city": "Vancouver",
          "country": "Canada",
          "crossStreet": "btwn Cambie & Ash",
          "distance": 3773,
          "formattedAddress": [
           "532 W Broadway (btwn Cambie & Ash)",
           "Vancouver BC V5Z 1E9",
           "Canada"
          ],
          "labeledLatLngs": [
           {
            "label": "display",
            "lat": 49.26307526580492,
            "lng": -123.11604917049407
           }
          ],
          "lat": 49.26307526580492,
          "lng": -123.11604917049407,
          "postalCode": "V5Z 1E9",
          "state": "BC"
         },
         "name": "Peaceful Restaurant 和平饭店",
         "referralId": "v-1620320421"
        },
        {
         "categories": [
          {
           "icon": {
            "prefix": "https://ss3.4sqi.net/img/categories_v2/food/default_",
            "suffix": ".png"
           },
           "id": "4bf58dd8d48988d1c4941735",
           "name": "Restaurant",
           "pluralName": "Restaurants",
           "primary": true,
           "shortName": "Restaurant"
          }
         ],
         "hasPerk": false,
         "id": "5e542fb30906ab000b03b406",
         "location": {
          "address": "298 Robson Street",
          "cc": "CA",
          "city": "Vancouver",
          "country": "Canada",
          "distance": 4156,
          "formattedAddress": [
           "298 Robson Street",
           "Vancouver BC V6B 6A1",
           "Canada"
          ],
          "labeledLatLngs": [
           {
            "label": "display",
            "lat": 49.27863102698563,
            "lng": -123.11602661996449
           }
          ],
          "lat": 49.27863102698563,
          "lng": -123.11602661996449,
          "postalCode": "V6B 6A1",
          "state": "BC"
         },
         "name": "Original Joe's Restaurant & Bar",
         "referralId": "v-1620320421"
        },
        {
         "categories": [
          {
           "icon": {
            "prefix": "https://ss3.4sqi.net/img/categories_v2/nightlife/sportsbar_",
            "suffix": ".png"
           },
           "id": "4bf58dd8d48988d11d941735",
           "name": "Sports Bar",
           "pluralName": "Sports Bars",
           "primary": true,
           "shortName": "Sports Bar"
          }
         ],
         "hasPerk": false,
         "id": "4aa82b93f964a520c84f20e3",
         "location": {
          "address": "433 West Pender",
          "cc": "CA",
          "city": "Vancouver",
          "country": "Canada",
          "crossStreet": "Homer",
          "distance": 4613,
          "formattedAddress": [
           "433 West Pender (Homer)",
           "Vancouver BC V6B 1V2",
           "Canada"
          ],
          "labeledLatLngs": [
           {
            "label": "display",
            "lat": 49.28316092121001,
            "lng": -123.11250289255702
           }
          ],
          "lat": 49.28316092121001,
          "lng": -123.11250289255702,
          "postalCode": "V6B 1V2",
          "state": "BC"
         },
         "name": "Yagger's Downtown Restaurant & Sports Bar",
         "referralId": "v-1620320421",
         "venuePage": {
          "id": "41496929"
         }
        },
        {
         "categories": [
          {
           "icon": {
            "prefix": "https://ss3.4sqi.net/img/categories_v2/food/italian_",
            "suffix": ".png"
           },
           "id": "4bf58dd8d48988d110941735",
           "name": "Italian Restaurant",
           "pluralName": "Italian Restaurants",
           "primary": true,
           "shortName": "Italian"
          }
         ],
         "hasPerk": false,
         "id": "4bc54d1a0a30d13a70f0599c",
         "location": {
          "address": "1629 Yew St",
          "cc": "CA",
          "city": "Vancouver",
          "country": "Canada",
          "crossStreet": "btw W. 1st Ave & York Ave",
          "distance": 1307,
          "formattedAddress": [
           "1629 Yew St (btw W. 1st Ave & York Ave)",
           "Vancouver BC V6K 3E6",
           "Canada"
          ],
          "labeledLatLngs": [
           {
            "label": "display",
            "lat": 49.27122083560716,
            "lng": -123.15513968467712
           }
          ],
          "lat": 49.27122083560716,
          "lng": -123.15513968467712,
          "postalCode": "V6K 3E6",
          "state": "BC"
         },
         "name": "Piatzo Fine Italian Restaurant",
         "referralId": "v-1620320421"
        },
        {
         "categories": [
          {
           "icon": {
            "prefix": "https://ss3.4sqi.net/img/categories_v2/food/greek_",
            "suffix": ".png"
           },
           "id": "4bf58dd8d48988d10e941735",
           "name": "Greek Restaurant",
           "pluralName": "Greek Restaurants",
           "primary": true,
           "shortName": "Greek"
          }
         ],
         "hasPerk": false,
         "id": "4b03579ef964a520c14e22e3",
         "location": {
          "address": "2222 W 4th Ave",
          "cc": "CA",
          "city": "Vancouver",
          "country": "Canada",
          "crossStreet": "at Yew St",
          "distance": 1049,
          "formattedAddress": [
           "2222 W 4th Ave (at Yew St)",
           "Vancouver BC V6K 1N8",
           "Canada"
          ],
          "labeledLatLngs": [
           {
            "label": "display",
            "lat": 49.26811443843843,
            "lng": -123.1558606475318
           }
          ],
          "lat": 49.26811443843843,
          "lng": -123.1558606475318,
          "neighborhood": "Kitsilano",
          "postalCode": "V6K 1N8",
          "state": "BC"
         },
         "name": "Simpatico Greek Restaurant",
         "referralId": "v-1620320421"
        },
        {
         "categories": [
          {
           "icon": {
            "prefix": "https://ss3.4sqi.net/img/categories_v2/food/seafood_",
            "suffix": ".png"
           },
           "id": "4bf58dd8d48988d1ce941735",
           "name": "Seafood Restaurant",
           "pluralName": "Seafood Restaurants",
           "primary": true,
           "shortName": "Seafood"
          }
         ],
         "hasPerk": false,
         "id": "4aa7f160f964a5201c4e20e3",
         "location": {
          "address": "1583 Coal Harbour Quay",
          "cc": "CA",
          "city": "Vancouver",
          "country": "Canada",
          "crossStreet": "btwn Cardero & Nicola",
          "distance": 4329,
          "formattedAddress": [
           "1583 Coal Harbour Quay (btwn Cardero & Nicola)",
           "Vancouver BC V6G 3E7",
           "Canada"
          ],
          "labeledLatLngs": [
           {
            "label": "display",
            "lat": 49.291655022421565,
            "lng": -123.12768553007116
           }
          ],
          "lat": 49.291655022421565,
          "lng": -123.12768553007116,
          "postalCode": "V6G 3E7",
          "state": "BC"
         },
         "name": "Cardero's Restaurant",
         "referralId": "v-1620320421",
         "venuePage": {
          "id": "409700458"
         }
        },
        {
         "categories": [
          {
           "icon": {
            "prefix": "https://ss3.4sqi.net/img/categories_v2/food/thai_",
            "suffix": ".png"
           },
           "id": "4bf58dd8d48988d149941735",
           "name": "Thai Restaurant",
           "pluralName": "Thai Restaurants",
           "primary": true,
           "shortName": "Thai"
          }
         ],
         "hasPerk": false,
         "id": "5c8d886ab25fee002cf99a9d",
         "location": {
          "address": "2351 Burrard St",
          "cc": "CA",
          "city": "Vancouver",
          "country": "Canada",
          "distance": 1621,
          "formattedAddress": [
           "2351 Burrard St",
           "Vancouver BC V6J 3J2",
           "Canada"
          ],
          "labeledLatLngs": [
           {
            "label": "display",
            "lat": 49.265059,
            "lng": -123.145901
           }
          ],
          "lat": 49.265059,
          "lng": -123.145901,
          "postalCode": "V6J 3J2",
          "state": "BC"
         },
         "name": "Unchai Restaurant",
         "referralId": "v-1620320421"
        },
        {
         "categories": [
          {
           "icon": {
            "prefix": "https://ss3.4sqi.net/img/categories_v2/food/breakfast_",
            "suffix": ".png"
           },
           "id": "4bf58dd8d48988d143941735",
           "name": "Breakfast Spot",
           "pluralName": "Breakfast Spots",
           "primary": true,
           "shortName": "Breakfast"
          }
         ],
         "hasPerk": false,
         "id": "4ac379f4f964a520729b20e3",
         "location": {
          "address": "2211 Granville St.",
          "cc": "CA",
          "city": "Vancouver",
          "country": "Canada",
          "crossStreet": "at 6th Ave.",
          "distance": 2156,
          "formattedAddress": [
           "2211 Granville St. (at 6th Ave.)",
           "Vancouver BC V6H 3G1",
           "Canada"
          ],
          "labeledLatLngs": [
           {
            "label": "display",
            "lat": 49.265958398188204,
            "lng": -123.13866555690765
           }
          ],
          "lat": 49.265958398188204,
          "lng": -123.13866555690765,
          "postalCode": "V6H 3G1",
          "state": "BC"
         },
         "name": "Paul's Place Omelettery Restaurant",
         "referralId": "v-1620320421",
         "venuePage": {
          "id": "57645281"
         }
        },
        {
         "categories": [
          {
           "icon": {
            "prefix": "https://ss3.4sqi.net/img/categories_v2/food/thai_",
            "suffix": ".png"
           },
           "id": "4bf58dd8d48988d149941735",
           "name": "Thai Restaurant",
           "pluralName": "Thai Restaurants",
           "primary": true,
           "shortName": "Thai"
          }
         ],
         "hasPerk": false,
         "id": "5b6e4399a4ba7c002c1a9c79",
         "location": {
          "address": "2184 Cornwall Avenue",
          "cc": "CA",
          "city": "Vancouver",
          "country": "Canada",
          "distance": 1438,
          "formattedAddress": [
           "2184 Cornwall Avenue",
           "Vancouver BC V6K 1B4",
           "Canada"
          ],
          "labeledLatLngs": [
           {
            "label": "display",
            "lat": 49.27247353085836,
            "lng": -123.15452921390431
           }
          ],
          "lat": 49.27247353085836,
          "lng": -123.15452921390431,
          "postalCode": "V6K 1B4",
          "state": "BC"
         },
         "name": "Thai Basil Restaurant",
         "referralId": "v-1620320421"
        },
        {
         "categories": [
          {
           "icon": {
            "prefix": "https://ss3.4sqi.net/img/categories_v2/food/asian_",
            "suffix": ".png"
           },
           "id": "4bf58dd8d48988d142941735",
           "name": "Asian Restaurant",
           "pluralName": "Asian Restaurants",
           "primary": true,
           "shortName": "Asian"
          }
         ],
         "hasPerk": false,
         "id": "4cbb45c5f50e224b51b9f8fb",
         "location": {
          "address": "5668 Granville St.",
          "cc": "CA",
          "city": "Vancouver",
          "country": "Canada",
          "crossStreet": "at 41st Ave.",
          "distance": 3787,
          "formattedAddress": [
           "5668 Granville St. (at 41st Ave.)",
           "Vancouver BC",
           "Canada"
          ],
          "labeledLatLngs": [
           {
            "label": "display",
            "lat": 49.2343145994551,
            "lng": -123.1399634664646
           }
          ],
          "lat": 49.2343145994551,
          "lng": -123.1399634664646,
          "state": "BC"
         },
         "name": "Grand Honour Restaurant",
         "referralId": "v-1620320421"
        },
        {
         "categories": [
          {
           "icon": {
            "prefix": "https://ss3.4sqi.net/img/categories_v2/food/default_",
            "suffix": ".png"
           },
           "id": "4bf58dd8d48988d1c4941735",
           "name": "Restaurant",
           "pluralName": "Restaurants",
           "primary": true,
           "shortName": "Restaurant"
          }
         ],
         "hasPerk": false,
         "id": "4aa7fa55f964a5206a4e20e3",
         "location": {
          "address": "2183 4th Avenue W",
          "cc": "CA",
          "city": "Vancouver",
          "country": "Canada",
          "distance": 1131,
          "formattedAddress": [
           "2183 4th Avenue W",
           "Vancouver BC V6K 1N7",
           "Canada"
          ],
          "labeledLatLngs": [
           {
            "label": "display",
            "lat": 49.2682562502592,
            "lng": -123.15466324996285
           }
          ],
          "lat": 49.2682562502592,
          "lng": -123.15466324996285,
          "postalCode": "V6K 1N7",
          "state": "BC"
         },
         "name": "Bishop's Restaurant",
         "referralId": "v-1620320421"
        },
        {
         "categories": [
          {
           "icon": {
            "prefix": "https://ss3.4sqi.net/img/categories_v2/food/default_",
            "suffix": ".png"
           },
           "id": "4bf58dd8d48988d1c4941735",
           "name": "Restaurant",
           "pluralName": "Restaurants",
           "primary": true,
           "shortName": "Restaurant"
          }
         ],
         "hasPerk": false,
         "id": "4b50afe3f964a520822d27e3",
         "location": {
          "address": "1177 West Pender St",
          "cc": "CA",
          "city": "Vancouver",
          "country": "Canada",
          "crossStreet": "Pender & Bute",
          "distance": 4351,
          "formattedAddress": [
           "1177 West Pender St (Pender & Bute)",
           "Vancouver BC V6E 2P4",
           "Canada"
          ],
          "labeledLatLngs": [
           {
            "label": "display",
            "lat": 49.288219,
            "lng": -123.122225
           }
          ],
          "lat": 49.288219,
          "lng": -123.122225,
          "postalCode": "V6E 2P4",
          "state": "BC"
         },
         "name": "Prestons Restaurant + Lounge Vancouver",
         "referralId": "v-1620320421",
         "venuePage": {
          "id": "33794062"
         }
        },
        {
         "categories": [
          {
           "icon": {
            "prefix": "https://ss3.4sqi.net/img/categories_v2/food/asian_",
            "suffix": ".png"
           },
           "id": "4bf58dd8d48988d145941735",
           "name": "Chinese Restaurant",
           "pluralName": "Chinese Restaurants",
           "primary": true,
           "shortName": "Chinese"
          }
         ],
         "hasPerk": false,
         "id": "4bd4fae529eb9c7406c492e1",
         "location": {
          "address": "1260 Robson St.",
          "cc": "CA",
          "city": "Vancouver",
          "country": "Canada",
          "crossStreet": "Jervis",
          "distance": 3909,
          "formattedAddress": [
           "1260 Robson St. (Jervis)",
           "Vancouver BC V6E 1C2",
           "Canada"
          ],
          "labeledLatLngs": [
           {
            "label": "display",
            "lat": 49.286508,
            "lng": -123.128012
           }
          ],
          "lat": 49.286508,
          "lng": -123.128012,
          "postalCode": "V6E 1C2",
          "state": "BC"
         },
         "name": "Chongqing Chinese Restaurant",
         "referralId": "v-1620320421"
        },
        {
         "categories": [
          {
           "icon": {
            "prefix": "https://ss3.4sqi.net/img/categories_v2/food/asian_",
            "suffix": ".png"
           },
           "id": "4bf58dd8d48988d145941735",
           "name": "Chinese Restaurant",
           "pluralName": "Chinese Restaurants",
           "primary": true,
           "shortName": "Chinese"
          }
         ],
         "hasPerk": false,
         "id": "50022eace4b0fbfbe9a7d77e",
         "location": {
          "address": "469 Richards St",
          "cc": "CA",
          "city": "Vancouver",
          "country": "Canada",
          "crossStreet": "at W Pender St",
          "distance": 4628,
          "formattedAddress": [
           "469 Richards St (at W Pender St)",
           "Vancouver BC V6B 6H6",
           "Canada"
          ],
          "labeledLatLngs": [
           {
            "label": "display",
            "lat": 49.28361009495606,
            "lng": -123.11265699376214
           }
          ],
          "lat": 49.28361009495606,
          "lng": -123.11265699376214,
          "postalCode": "V6B 6H6",
          "state": "BC"
         },
         "name": "Shanghai Xiao Long Bao Restaurant 上海九鼎",
         "referralId": "v-1620320421"
        },
        {
         "categories": [
          {
           "icon": {
            "prefix": "https://ss3.4sqi.net/img/categories_v2/food/asian_",
            "suffix": ".png"
           },
           "id": "4bf58dd8d48988d145941735",
           "name": "Chinese Restaurant",
           "pluralName": "Chinese Restaurants",
           "primary": true,
           "shortName": "Chinese"
          }
         ],
         "hasPerk": false,
         "id": "4ac56bedf964a520fab120e3",
         "location": {
          "address": "1172 Alberni St.",
          "cc": "CA",
          "city": "Vancouver",
          "country": "Canada",
          "crossStreet": "at Bute St.",
          "distance": 4038,
          "formattedAddress": [
           "1172 Alberni St. (at Bute St.)",
           "Vancouver BC V6E",
           "Canada"
          ],
          "labeledLatLngs": [
           {
            "label": "display",
            "lat": 49.286360309128575,
            "lng": -123.12545727058239
           }
          ],
          "lat": 49.286360309128575,
          "lng": -123.12545727058239,
          "postalCode": "V6E",
          "state": "BC"
         },
         "name": "Kirin Mandarin Restaurant",
         "referralId": "v-1620320421"
        },
        {
         "categories": [
          {
           "icon": {
            "prefix": "https://ss3.4sqi.net/img/categories_v2/food/indian_",
            "suffix": ".png"
           },
           "id": "4bf58dd8d48988d10f941735",
           "name": "Indian Restaurant",
           "pluralName": "Indian Restaurants",
           "primary": true,
           "shortName": "Indian"
          }
         ],
         "hasPerk": false,
         "id": "56f051ab498ec3899332f6cd",
         "location": {
          "address": "2445 Burrard St",
          "cc": "CA",
          "city": "Vancouver",
          "country": "Canada",
          "crossStreet": "Nicola",
          "distance": 1601,
          "formattedAddress": [
           "2445 Burrard St (Nicola)",
           "Vancouver BC V6J 3J3",
           "Canada"
          ],
          "labeledLatLngs": [
           {
            "label": "display",
            "lat": 49.264076469772355,
            "lng": -123.14600944519043
           }
          ],
          "lat": 49.264076469772355,
          "lng": -123.14600944519043,
          "postalCode": "V6J 3J3",
          "state": "BC"
         },
         "name": "Kits Indian Restaurant",
         "referralId": "v-1620320421"
        },
        {
         "categories": [
          {
           "icon": {
            "prefix": "https://ss3.4sqi.net/img/categories_v2/food/asian_",
            "suffix": ".png"
           },
           "id": "4bf58dd8d48988d142941735",
           "name": "Asian Restaurant",
           "pluralName": "Asian Restaurants",
           "primary": true,
           "shortName": "Asian"
          }
         ],
         "hasPerk": false,
         "id": "4cf977b92d80a14398f73dd8",
         "location": {
          "address": "1655 burrard st",
          "cc": "CA",
          "city": "Vancouver",
          "country": "Canada",
          "distance": 1756,
          "formattedAddress": [
           "1655 burrard st",
           "Vancouver BC",
           "Canada"
          ],
          "labeledLatLngs": [
           {
            "label": "display",
            "lat": 49.269145,
            "lng": -123.14573
           }
          ],
          "lat": 49.269145,
          "lng": -123.14573,
          "state": "BC"
         },
         "name": "Royal Restaurant",
         "referralId": "v-1620320421"
        },
        {
         "categories": [
          {
           "icon": {
            "prefix": "https://ss3.4sqi.net/img/categories_v2/food/asian_",
            "suffix": ".png"
           },
           "id": "4bf58dd8d48988d145941735",
           "name": "Chinese Restaurant",
           "pluralName": "Chinese Restaurants",
           "primary": true,
           "shortName": "Chinese"
          }
         ],
         "hasPerk": false,
         "id": "4dbb6ba343a1d8504b70505f",
         "location": {
          "address": "3944 Fraser street",
          "cc": "CA",
          "city": "Vancouver",
          "country": "Canada",
          "crossStreet": "23 Ave",
          "distance": 5871,
          "formattedAddress": [
           "3944 Fraser street (23 Ave)",
           "Vancouver BC V5V",
           "Canada"
          ],
          "labeledLatLngs": [
           {
            "label": "display",
            "lat": 49.24963419766788,
            "lng": -123.08982335301181
           }
          ],
          "lat": 49.24963419766788,
          "lng": -123.08982335301181,
          "postalCode": "V5V",
          "state": "BC"
         },
         "name": "Royal Fortune Restaurant",
         "referralId": "v-1620320421"
        },
        {
         "categories": [
          {
           "icon": {
            "prefix": "https://ss3.4sqi.net/img/categories_v2/food/japanese_",
            "suffix": ".png"
           },
           "id": "4bf58dd8d48988d111941735",
           "name": "Japanese Restaurant",
           "pluralName": "Japanese Restaurants",
           "primary": true,
           "shortName": "Japanese"
          }
         ],
         "hasPerk": false,
         "id": "522bea74498ede28e9a5b2d5",
         "location": {
          "address": "3446 Dunbar St.",
          "cc": "CA",
          "city": "Vancouver",
          "country": "Canada",
          "distance": 1448,
          "formattedAddress": [
           "3446 Dunbar St.",
           "Vancouver BC",
           "Canada"
          ],
          "labeledLatLngs": [
           {
            "label": "display",
            "lat": 49.25614232341938,
            "lng": -123.18494160924303
           }
          ],
          "lat": 49.25614232341938,
          "lng": -123.18494160924303,
          "state": "BC"
         },
         "name": "Kuma Japanese Restaurant",
         "referralId": "v-1620320421"
        },
        {
         "categories": [
          {
           "icon": {
            "prefix": "https://ss3.4sqi.net/img/categories_v2/food/default_",
            "suffix": ".png"
           },
           "id": "4bf58dd8d48988d1c4941735",
           "name": "Restaurant",
           "pluralName": "Restaurants",
           "primary": true,
           "shortName": "Restaurant"
          }
         ],
         "hasPerk": false,
         "id": "4aa9d009f964a5205b5520e3",
         "location": {
          "address": "1122 W Hastings St.",
          "cc": "CA",
          "city": "Vancouver",
          "country": "Canada",
          "crossStreet": "at Thurlow St.",
          "distance": 4450,
          "formattedAddress": [
           "1122 W Hastings St. (at Thurlow St.)",
           "Vancouver BC V6E 4R5",
           "Canada"
          ],
          "labeledLatLngs": [
           {
            "label": "display",
            "lat": 49.28807814093806,
            "lng": -123.1202818262412
           }
          ],
          "lat": 49.28807814093806,
          "lng": -123.1202818262412,
          "postalCode": "V6E 4R5",
          "state": "BC"
         },
         "name": "Showcase Restaurant and Bar",
         "referralId": "v-1620320421",
         "venuePage": {
          "id": "83873644"
         }
        },
        {
         "categories": [
          {
           "icon": {
            "prefix": "https://ss3.4sqi.net/img/categories_v2/food/asian_",
            "suffix": ".png"
           },
           "id": "4bf58dd8d48988d145941735",
           "name": "Chinese Restaurant",
           "pluralName": "Chinese Restaurants",
           "primary": true,
           "shortName": "Chinese"
          }
         ],
         "hasPerk": false,
         "id": "4d8a902e7d4c548136636c71",
         "location": {
          "address": "2365 Burrard Street",
          "cc": "CA",
          "city": "Vancouver",
          "country": "Canada",
          "distance": 1616,
          "formattedAddress": [
           "2365 Burrard Street",
           "Vancouver BC",
           "Canada"
          ],
          "labeledLatLngs": [
           {
            "label": "display",
            "lat": 49.26490430231064,
            "lng": -123.14593776393815
           }
          ],
          "lat": 49.26490430231064,
          "lng": -123.14593776393815,
          "state": "BC"
         },
         "name": "Timkee Restaurant",
         "referralId": "v-1620320421"
        },
        {
         "categories": [
          {
           "icon": {
            "prefix": "https://ss3.4sqi.net/img/categories_v2/food/breakfast_",
            "suffix": ".png"
           },
           "id": "4bf58dd8d48988d143941735",
           "name": "Breakfast Spot",
           "pluralName": "Breakfast Spots",
           "primary": true,
           "shortName": "Breakfast"
          }
         ],
         "hasPerk": false,
         "id": "4aa837e6f964a5202c5020e3",
         "location": {
          "address": "332 Water Street",
          "cc": "CA",
          "city": "Vancouver",
          "country": "Canada",
          "crossStreet": "Cambie Street",
          "distance": 4869,
          "formattedAddress": [
           "332 Water Street (Cambie Street)",
           "Vancouver BC V6B 1B6",
           "Canada"
          ],
          "labeledLatLngs": [
           {
            "label": "display",
            "lat": 49.2843757721172,
            "lng": -123.10950888335134
           }
          ],
          "lat": 49.2843757721172,
          "lng": -123.10950888335134,
          "postalCode": "V6B 1B6",
          "state": "BC"
         },
         "name": "McLean's Restaurant",
         "referralId": "v-1620320421"
        },
        {
         "categories": [
          {
           "icon": {
            "prefix": "https://ss3.4sqi.net/img/categories_v2/food/thai_",
            "suffix": ".png"
           },
           "id": "4bf58dd8d48988d149941735",
           "name": "Thai Restaurant",
           "pluralName": "Thai Restaurants",
           "primary": true,
           "shortName": "Thai"
          }
         ],
         "hasPerk": false,
         "id": "4cdc678c22bd721eb300fb47",
         "location": {
          "address": "1629 Yew St",
          "cc": "CA",
          "city": "Vancouver",
          "country": "Canada",
          "crossStreet": "btwn York & W 1st",
          "distance": 1313,
          "formattedAddress": [
           "1629 Yew St (btwn York & W 1st)",
           "Vancouver BC V6K 3E6",
           "Canada"
          ],
          "labeledLatLngs": [
           {
            "label": "display",
            "lat": 49.27119988195726,
            "lng": -123.15499260344679
           }
          ],
          "lat": 49.27119988195726,
          "lng": -123.15499260344679,
          "postalCode": "V6K 3E6",
          "state": "BC"
         },
         "name": "Thai Star Restaurant",
         "referralId": "v-1620320421"
        }
       ]
      },
      "text/plain": [
       "<IPython.core.display.JSON object>"
      ]
     },
     "execution_count": 49,
     "metadata": {
      "application/json": {
       "expanded": false,
       "root": "root"
      }
     },
     "output_type": "execute_result"
    }
   ],
   "source": [
    "JSON(fs_restaurants)"
   ]
  },
  {
   "cell_type": "code",
   "execution_count": 70,
   "metadata": {},
   "outputs": [],
   "source": [
    "fs_rest = fs_restaurants['venues'].copy()"
   ]
  },
  {
   "cell_type": "code",
   "execution_count": 52,
   "metadata": {},
   "outputs": [],
   "source": [
    "df_rest = pd.DataFrame(fs_restaurants['venues'])"
   ]
  },
  {
   "cell_type": "code",
   "execution_count": 53,
   "metadata": {
    "collapsed": true,
    "jupyter": {
     "outputs_hidden": true
    }
   },
   "outputs": [
    {
     "data": {
      "text/html": [
       "<div>\n",
       "<style scoped>\n",
       "    .dataframe tbody tr th:only-of-type {\n",
       "        vertical-align: middle;\n",
       "    }\n",
       "\n",
       "    .dataframe tbody tr th {\n",
       "        vertical-align: top;\n",
       "    }\n",
       "\n",
       "    .dataframe thead th {\n",
       "        text-align: right;\n",
       "    }\n",
       "</style>\n",
       "<table border=\"1\" class=\"dataframe\">\n",
       "  <thead>\n",
       "    <tr style=\"text-align: right;\">\n",
       "      <th></th>\n",
       "      <th>id</th>\n",
       "      <th>name</th>\n",
       "      <th>location</th>\n",
       "      <th>categories</th>\n",
       "      <th>referralId</th>\n",
       "      <th>hasPerk</th>\n",
       "      <th>venuePage</th>\n",
       "    </tr>\n",
       "  </thead>\n",
       "  <tbody>\n",
       "    <tr>\n",
       "      <th>0</th>\n",
       "      <td>4e9a75a3d3e3697fbfda59ee</td>\n",
       "      <td>Yagger's Kitsilano Restaurant</td>\n",
       "      <td>{'address': '2884 W Broadway', 'crossStreet': ...</td>\n",
       "      <td>[{'id': '4bf58dd8d48988d11b941735', 'name': 'P...</td>\n",
       "      <td>v-1620320421</td>\n",
       "      <td>False</td>\n",
       "      <td>NaN</td>\n",
       "    </tr>\n",
       "    <tr>\n",
       "      <th>1</th>\n",
       "      <td>4c0c0244a1b32d7f5be49bf0</td>\n",
       "      <td>The Boathouse Restaurant</td>\n",
       "      <td>{'address': '1305 Arbutus St', 'crossStreet': ...</td>\n",
       "      <td>[{'id': '4bf58dd8d48988d1ce941735', 'name': 'S...</td>\n",
       "      <td>v-1620320421</td>\n",
       "      <td>False</td>\n",
       "      <td>NaN</td>\n",
       "    </tr>\n",
       "    <tr>\n",
       "      <th>2</th>\n",
       "      <td>51c8fd70498e48a12893ba67</td>\n",
       "      <td>Peaceful Restaurant 和平饭店</td>\n",
       "      <td>{'address': '2394 W 4th Ave', 'crossStreet': '...</td>\n",
       "      <td>[{'id': '4bf58dd8d48988d145941735', 'name': 'C...</td>\n",
       "      <td>v-1620320421</td>\n",
       "      <td>False</td>\n",
       "      <td>NaN</td>\n",
       "    </tr>\n",
       "    <tr>\n",
       "      <th>3</th>\n",
       "      <td>4ac4169cf964a5202b9e20e3</td>\n",
       "      <td>Hi Nippon Japanese Restaurant</td>\n",
       "      <td>{'address': '2274 W 4th Ave.', 'crossStreet': ...</td>\n",
       "      <td>[{'id': '4bf58dd8d48988d111941735', 'name': 'J...</td>\n",
       "      <td>v-1620320421</td>\n",
       "      <td>False</td>\n",
       "      <td>NaN</td>\n",
       "    </tr>\n",
       "    <tr>\n",
       "      <th>4</th>\n",
       "      <td>4bf1a603324cc9b68a49cc92</td>\n",
       "      <td>Ridge Gardens Restaurant</td>\n",
       "      <td>{'address': '4009 Macdonald Street', 'crossStr...</td>\n",
       "      <td>[{'id': '4bf58dd8d48988d145941735', 'name': 'C...</td>\n",
       "      <td>v-1620320421</td>\n",
       "      <td>False</td>\n",
       "      <td>NaN</td>\n",
       "    </tr>\n",
       "    <tr>\n",
       "      <th>5</th>\n",
       "      <td>4aceae40f964a520aad120e3</td>\n",
       "      <td>Iki Japanese Restaurant</td>\n",
       "      <td>{'address': '2756 W Broadway', 'crossStreet': ...</td>\n",
       "      <td>[{'id': '4bf58dd8d48988d111941735', 'name': 'J...</td>\n",
       "      <td>v-1620320421</td>\n",
       "      <td>False</td>\n",
       "      <td>NaN</td>\n",
       "    </tr>\n",
       "    <tr>\n",
       "      <th>6</th>\n",
       "      <td>4ac28159f964a5206e9920e3</td>\n",
       "      <td>Hoshi Sushi Japanese Restaurant</td>\n",
       "      <td>{'address': '2825 W Broadway', 'crossStreet': ...</td>\n",
       "      <td>[{'id': '4bf58dd8d48988d1d2941735', 'name': 'S...</td>\n",
       "      <td>v-1620320421</td>\n",
       "      <td>False</td>\n",
       "      <td>NaN</td>\n",
       "    </tr>\n",
       "    <tr>\n",
       "      <th>7</th>\n",
       "      <td>4aa83aacf964a520405020e3</td>\n",
       "      <td>Dockside Restaurant</td>\n",
       "      <td>{'address': '1253 Johnston St', 'crossStreet':...</td>\n",
       "      <td>[{'id': '4bf58dd8d48988d1ce941735', 'name': 'S...</td>\n",
       "      <td>v-1620320421</td>\n",
       "      <td>False</td>\n",
       "      <td>{'id': '39502607'}</td>\n",
       "    </tr>\n",
       "    <tr>\n",
       "      <th>8</th>\n",
       "      <td>4d683de960366a31507d4106</td>\n",
       "      <td>Broadway Chinese Restaurant</td>\n",
       "      <td>{'address': '1410 West Broadway', 'crossStreet...</td>\n",
       "      <td>[{'id': '4bf58dd8d48988d145941735', 'name': 'C...</td>\n",
       "      <td>v-1620320421</td>\n",
       "      <td>False</td>\n",
       "      <td>NaN</td>\n",
       "    </tr>\n",
       "    <tr>\n",
       "      <th>9</th>\n",
       "      <td>4aa7d91ef964a520944d20e3</td>\n",
       "      <td>The Naam Restaurant</td>\n",
       "      <td>{'address': '2724 W 4th Ave', 'crossStreet': '...</td>\n",
       "      <td>[{'id': '4bf58dd8d48988d1d3941735', 'name': 'V...</td>\n",
       "      <td>v-1620320421</td>\n",
       "      <td>False</td>\n",
       "      <td>NaN</td>\n",
       "    </tr>\n",
       "    <tr>\n",
       "      <th>10</th>\n",
       "      <td>4aa83c06f964a5204d5020e3</td>\n",
       "      <td>The Sandbar Seafood Restaurant</td>\n",
       "      <td>{'address': '1536 Johnston St.', 'crossStreet'...</td>\n",
       "      <td>[{'id': '4bf58dd8d48988d1ce941735', 'name': 'S...</td>\n",
       "      <td>v-1620320421</td>\n",
       "      <td>False</td>\n",
       "      <td>{'id': '408453102'}</td>\n",
       "    </tr>\n",
       "    <tr>\n",
       "      <th>11</th>\n",
       "      <td>594c70a00336931c7f390429</td>\n",
       "      <td>Na Jia Restaurant</td>\n",
       "      <td>{'lat': 49.275617, 'lng': -123.13493, 'labeled...</td>\n",
       "      <td>[{'id': '4bf58dd8d48988d145941735', 'name': 'C...</td>\n",
       "      <td>v-1620320421</td>\n",
       "      <td>False</td>\n",
       "      <td>NaN</td>\n",
       "    </tr>\n",
       "    <tr>\n",
       "      <th>12</th>\n",
       "      <td>4d2cce46ae3a8cfa4067bf70</td>\n",
       "      <td>Hawksworth Restaurant</td>\n",
       "      <td>{'address': '801 W Georgia St', 'crossStreet':...</td>\n",
       "      <td>[{'id': '4bf58dd8d48988d121941735', 'name': 'L...</td>\n",
       "      <td>v-1620320421</td>\n",
       "      <td>False</td>\n",
       "      <td>{'id': '77577037'}</td>\n",
       "    </tr>\n",
       "    <tr>\n",
       "      <th>13</th>\n",
       "      <td>50527ea7e4b0588850a3fbab</td>\n",
       "      <td>España Restaurant</td>\n",
       "      <td>{'address': '1118 Denman St.', 'crossStreet': ...</td>\n",
       "      <td>[{'id': '4bf58dd8d48988d150941735', 'name': 'S...</td>\n",
       "      <td>v-1620320421</td>\n",
       "      <td>False</td>\n",
       "      <td>NaN</td>\n",
       "    </tr>\n",
       "    <tr>\n",
       "      <th>14</th>\n",
       "      <td>4b342ac8f964a520b92525e3</td>\n",
       "      <td>Dynasty Seafood Restaurant 皇朝海鮮酒家</td>\n",
       "      <td>{'address': '108-777 W Broadway', 'lat': 49.26...</td>\n",
       "      <td>[{'id': '4bf58dd8d48988d145941735', 'name': 'C...</td>\n",
       "      <td>v-1620320421</td>\n",
       "      <td>False</td>\n",
       "      <td>NaN</td>\n",
       "    </tr>\n",
       "    <tr>\n",
       "      <th>15</th>\n",
       "      <td>4aa839aef964a520385020e3</td>\n",
       "      <td>Afghan Horsemen Restaurant</td>\n",
       "      <td>{'address': '202-1833 Anderson Street', 'cross...</td>\n",
       "      <td>[{'id': '4bf58dd8d48988d115941735', 'name': 'M...</td>\n",
       "      <td>v-1620320421</td>\n",
       "      <td>False</td>\n",
       "      <td>NaN</td>\n",
       "    </tr>\n",
       "    <tr>\n",
       "      <th>16</th>\n",
       "      <td>5264889711d205ec029d2e6a</td>\n",
       "      <td>Takumi Japanese Restaurant</td>\n",
       "      <td>{'address': '4422 W 10th Ave', 'crossStreet': ...</td>\n",
       "      <td>[{'id': '4bf58dd8d48988d111941735', 'name': 'J...</td>\n",
       "      <td>v-1620320421</td>\n",
       "      <td>False</td>\n",
       "      <td>NaN</td>\n",
       "    </tr>\n",
       "    <tr>\n",
       "      <th>17</th>\n",
       "      <td>55a85859498ee90cd678e719</td>\n",
       "      <td>Thai Basil Restaurant</td>\n",
       "      <td>{'address': '3271 W Broadway', 'lat': 49.26419...</td>\n",
       "      <td>[{'id': '4bf58dd8d48988d149941735', 'name': 'T...</td>\n",
       "      <td>v-1620320421</td>\n",
       "      <td>False</td>\n",
       "      <td>NaN</td>\n",
       "    </tr>\n",
       "    <tr>\n",
       "      <th>18</th>\n",
       "      <td>4bbd49fd07809521d481da91</td>\n",
       "      <td>The Best Neighbours Restaurant</td>\n",
       "      <td>{'address': '3838 Oak St.', 'crossStreet': 'We...</td>\n",
       "      <td>[{'id': '4bf58dd8d48988d10e941735', 'name': 'G...</td>\n",
       "      <td>v-1620320421</td>\n",
       "      <td>False</td>\n",
       "      <td>NaN</td>\n",
       "    </tr>\n",
       "    <tr>\n",
       "      <th>19</th>\n",
       "      <td>576c4083498e4989bae8764a</td>\n",
       "      <td>Peaceful Restaurant</td>\n",
       "      <td>{'address': '602 Seymour St', 'crossStreet': '...</td>\n",
       "      <td>[{'id': '4bf58dd8d48988d145941735', 'name': 'C...</td>\n",
       "      <td>v-1620320421</td>\n",
       "      <td>False</td>\n",
       "      <td>NaN</td>\n",
       "    </tr>\n",
       "    <tr>\n",
       "      <th>20</th>\n",
       "      <td>4abe7fb7f964a520078e20e3</td>\n",
       "      <td>New Town Bakery &amp; Restaurant</td>\n",
       "      <td>{'address': '148 E Pender St', 'crossStreet': ...</td>\n",
       "      <td>[{'id': '4bf58dd8d48988d145941735', 'name': 'C...</td>\n",
       "      <td>v-1620320421</td>\n",
       "      <td>False</td>\n",
       "      <td>NaN</td>\n",
       "    </tr>\n",
       "    <tr>\n",
       "      <th>21</th>\n",
       "      <td>4aa83730f964a520275020e3</td>\n",
       "      <td>Ki-isu Japanese Restaurant</td>\n",
       "      <td>{'address': '1275 Pacific Blvd.', 'crossStreet...</td>\n",
       "      <td>[{'id': '4bf58dd8d48988d111941735', 'name': 'J...</td>\n",
       "      <td>v-1620320421</td>\n",
       "      <td>False</td>\n",
       "      <td>NaN</td>\n",
       "    </tr>\n",
       "    <tr>\n",
       "      <th>22</th>\n",
       "      <td>4d18042881cea35dfee3eaec</td>\n",
       "      <td>Sushi Vancouver Japanese Restaurant</td>\n",
       "      <td>{'address': '3416 W Broadway', 'crossStreet': ...</td>\n",
       "      <td>[{'id': '4bf58dd8d48988d111941735', 'name': 'J...</td>\n",
       "      <td>v-1620320421</td>\n",
       "      <td>False</td>\n",
       "      <td>NaN</td>\n",
       "    </tr>\n",
       "    <tr>\n",
       "      <th>23</th>\n",
       "      <td>4d9cbcbdc99fb60cb424b88b</td>\n",
       "      <td>New Peace Chinese Restaurant</td>\n",
       "      <td>{'address': '630 Davie Street', 'lat': 49.2767...</td>\n",
       "      <td>[{'id': '4bf58dd8d48988d145941735', 'name': 'C...</td>\n",
       "      <td>v-1620320421</td>\n",
       "      <td>False</td>\n",
       "      <td>NaN</td>\n",
       "    </tr>\n",
       "    <tr>\n",
       "      <th>24</th>\n",
       "      <td>4ace7e53f964a520e1d020e3</td>\n",
       "      <td>New India Buffet &amp; Restaurant</td>\n",
       "      <td>{'address': '#105 - 805 West Broadway', 'cross...</td>\n",
       "      <td>[{'id': '4bf58dd8d48988d10f941735', 'name': 'I...</td>\n",
       "      <td>v-1620320421</td>\n",
       "      <td>False</td>\n",
       "      <td>NaN</td>\n",
       "    </tr>\n",
       "    <tr>\n",
       "      <th>25</th>\n",
       "      <td>5407666f498e6b96e084e978</td>\n",
       "      <td>Hui Fu House Seafood Restaurant 匯富堂滴金會所</td>\n",
       "      <td>{'address': '#110 - 5701', 'crossStreet': 'Gra...</td>\n",
       "      <td>[{'id': '52af3a7c3cf9994f4e043bed', 'name': 'C...</td>\n",
       "      <td>v-1620320421</td>\n",
       "      <td>False</td>\n",
       "      <td>NaN</td>\n",
       "    </tr>\n",
       "    <tr>\n",
       "      <th>26</th>\n",
       "      <td>4c800332d8086dcb62ed5f52</td>\n",
       "      <td>Beijing Garden Restaurant</td>\n",
       "      <td>{'address': '3492 Cambie St.', 'lat': 49.25414...</td>\n",
       "      <td>[{'id': '4bf58dd8d48988d145941735', 'name': 'C...</td>\n",
       "      <td>v-1620320421</td>\n",
       "      <td>False</td>\n",
       "      <td>NaN</td>\n",
       "    </tr>\n",
       "    <tr>\n",
       "      <th>27</th>\n",
       "      <td>4ab04bfaf964a520ed6620e3</td>\n",
       "      <td>Peaceful Restaurant 和平饭店</td>\n",
       "      <td>{'address': '532 W Broadway', 'crossStreet': '...</td>\n",
       "      <td>[{'id': '4bf58dd8d48988d145941735', 'name': 'C...</td>\n",
       "      <td>v-1620320421</td>\n",
       "      <td>False</td>\n",
       "      <td>NaN</td>\n",
       "    </tr>\n",
       "    <tr>\n",
       "      <th>28</th>\n",
       "      <td>5e542fb30906ab000b03b406</td>\n",
       "      <td>Original Joe's Restaurant &amp; Bar</td>\n",
       "      <td>{'address': '298 Robson Street', 'lat': 49.278...</td>\n",
       "      <td>[{'id': '4bf58dd8d48988d1c4941735', 'name': 'R...</td>\n",
       "      <td>v-1620320421</td>\n",
       "      <td>False</td>\n",
       "      <td>NaN</td>\n",
       "    </tr>\n",
       "    <tr>\n",
       "      <th>29</th>\n",
       "      <td>4aa82b93f964a520c84f20e3</td>\n",
       "      <td>Yagger's Downtown Restaurant &amp; Sports Bar</td>\n",
       "      <td>{'address': '433 West Pender', 'crossStreet': ...</td>\n",
       "      <td>[{'id': '4bf58dd8d48988d11d941735', 'name': 'S...</td>\n",
       "      <td>v-1620320421</td>\n",
       "      <td>False</td>\n",
       "      <td>{'id': '41496929'}</td>\n",
       "    </tr>\n",
       "    <tr>\n",
       "      <th>30</th>\n",
       "      <td>4bc54d1a0a30d13a70f0599c</td>\n",
       "      <td>Piatzo Fine Italian Restaurant</td>\n",
       "      <td>{'address': '1629 Yew St', 'crossStreet': 'btw...</td>\n",
       "      <td>[{'id': '4bf58dd8d48988d110941735', 'name': 'I...</td>\n",
       "      <td>v-1620320421</td>\n",
       "      <td>False</td>\n",
       "      <td>NaN</td>\n",
       "    </tr>\n",
       "    <tr>\n",
       "      <th>31</th>\n",
       "      <td>4b03579ef964a520c14e22e3</td>\n",
       "      <td>Simpatico Greek Restaurant</td>\n",
       "      <td>{'address': '2222 W 4th Ave', 'crossStreet': '...</td>\n",
       "      <td>[{'id': '4bf58dd8d48988d10e941735', 'name': 'G...</td>\n",
       "      <td>v-1620320421</td>\n",
       "      <td>False</td>\n",
       "      <td>NaN</td>\n",
       "    </tr>\n",
       "    <tr>\n",
       "      <th>32</th>\n",
       "      <td>4aa7f160f964a5201c4e20e3</td>\n",
       "      <td>Cardero's Restaurant</td>\n",
       "      <td>{'address': '1583 Coal Harbour Quay', 'crossSt...</td>\n",
       "      <td>[{'id': '4bf58dd8d48988d1ce941735', 'name': 'S...</td>\n",
       "      <td>v-1620320421</td>\n",
       "      <td>False</td>\n",
       "      <td>{'id': '409700458'}</td>\n",
       "    </tr>\n",
       "    <tr>\n",
       "      <th>33</th>\n",
       "      <td>5c8d886ab25fee002cf99a9d</td>\n",
       "      <td>Unchai Restaurant</td>\n",
       "      <td>{'address': '2351 Burrard St', 'lat': 49.26505...</td>\n",
       "      <td>[{'id': '4bf58dd8d48988d149941735', 'name': 'T...</td>\n",
       "      <td>v-1620320421</td>\n",
       "      <td>False</td>\n",
       "      <td>NaN</td>\n",
       "    </tr>\n",
       "    <tr>\n",
       "      <th>34</th>\n",
       "      <td>4ac379f4f964a520729b20e3</td>\n",
       "      <td>Paul's Place Omelettery Restaurant</td>\n",
       "      <td>{'address': '2211 Granville St.', 'crossStreet...</td>\n",
       "      <td>[{'id': '4bf58dd8d48988d143941735', 'name': 'B...</td>\n",
       "      <td>v-1620320421</td>\n",
       "      <td>False</td>\n",
       "      <td>{'id': '57645281'}</td>\n",
       "    </tr>\n",
       "    <tr>\n",
       "      <th>35</th>\n",
       "      <td>5b6e4399a4ba7c002c1a9c79</td>\n",
       "      <td>Thai Basil Restaurant</td>\n",
       "      <td>{'address': '2184 Cornwall Avenue', 'lat': 49....</td>\n",
       "      <td>[{'id': '4bf58dd8d48988d149941735', 'name': 'T...</td>\n",
       "      <td>v-1620320421</td>\n",
       "      <td>False</td>\n",
       "      <td>NaN</td>\n",
       "    </tr>\n",
       "    <tr>\n",
       "      <th>36</th>\n",
       "      <td>4cbb45c5f50e224b51b9f8fb</td>\n",
       "      <td>Grand Honour Restaurant</td>\n",
       "      <td>{'address': '5668 Granville St.', 'crossStreet...</td>\n",
       "      <td>[{'id': '4bf58dd8d48988d142941735', 'name': 'A...</td>\n",
       "      <td>v-1620320421</td>\n",
       "      <td>False</td>\n",
       "      <td>NaN</td>\n",
       "    </tr>\n",
       "    <tr>\n",
       "      <th>37</th>\n",
       "      <td>4aa7fa55f964a5206a4e20e3</td>\n",
       "      <td>Bishop's Restaurant</td>\n",
       "      <td>{'address': '2183 4th Avenue W', 'lat': 49.268...</td>\n",
       "      <td>[{'id': '4bf58dd8d48988d1c4941735', 'name': 'R...</td>\n",
       "      <td>v-1620320421</td>\n",
       "      <td>False</td>\n",
       "      <td>NaN</td>\n",
       "    </tr>\n",
       "    <tr>\n",
       "      <th>38</th>\n",
       "      <td>4b50afe3f964a520822d27e3</td>\n",
       "      <td>Prestons Restaurant + Lounge Vancouver</td>\n",
       "      <td>{'address': '1177 West Pender St', 'crossStree...</td>\n",
       "      <td>[{'id': '4bf58dd8d48988d1c4941735', 'name': 'R...</td>\n",
       "      <td>v-1620320421</td>\n",
       "      <td>False</td>\n",
       "      <td>{'id': '33794062'}</td>\n",
       "    </tr>\n",
       "    <tr>\n",
       "      <th>39</th>\n",
       "      <td>4bd4fae529eb9c7406c492e1</td>\n",
       "      <td>Chongqing Chinese Restaurant</td>\n",
       "      <td>{'address': '1260 Robson St.', 'crossStreet': ...</td>\n",
       "      <td>[{'id': '4bf58dd8d48988d145941735', 'name': 'C...</td>\n",
       "      <td>v-1620320421</td>\n",
       "      <td>False</td>\n",
       "      <td>NaN</td>\n",
       "    </tr>\n",
       "    <tr>\n",
       "      <th>40</th>\n",
       "      <td>50022eace4b0fbfbe9a7d77e</td>\n",
       "      <td>Shanghai Xiao Long Bao Restaurant 上海九鼎</td>\n",
       "      <td>{'address': '469 Richards St', 'crossStreet': ...</td>\n",
       "      <td>[{'id': '4bf58dd8d48988d145941735', 'name': 'C...</td>\n",
       "      <td>v-1620320421</td>\n",
       "      <td>False</td>\n",
       "      <td>NaN</td>\n",
       "    </tr>\n",
       "    <tr>\n",
       "      <th>41</th>\n",
       "      <td>4ac56bedf964a520fab120e3</td>\n",
       "      <td>Kirin Mandarin Restaurant</td>\n",
       "      <td>{'address': '1172 Alberni St.', 'crossStreet':...</td>\n",
       "      <td>[{'id': '4bf58dd8d48988d145941735', 'name': 'C...</td>\n",
       "      <td>v-1620320421</td>\n",
       "      <td>False</td>\n",
       "      <td>NaN</td>\n",
       "    </tr>\n",
       "    <tr>\n",
       "      <th>42</th>\n",
       "      <td>56f051ab498ec3899332f6cd</td>\n",
       "      <td>Kits Indian Restaurant</td>\n",
       "      <td>{'address': '2445 Burrard St', 'crossStreet': ...</td>\n",
       "      <td>[{'id': '4bf58dd8d48988d10f941735', 'name': 'I...</td>\n",
       "      <td>v-1620320421</td>\n",
       "      <td>False</td>\n",
       "      <td>NaN</td>\n",
       "    </tr>\n",
       "    <tr>\n",
       "      <th>43</th>\n",
       "      <td>4cf977b92d80a14398f73dd8</td>\n",
       "      <td>Royal Restaurant</td>\n",
       "      <td>{'address': '1655 burrard st', 'lat': 49.26914...</td>\n",
       "      <td>[{'id': '4bf58dd8d48988d142941735', 'name': 'A...</td>\n",
       "      <td>v-1620320421</td>\n",
       "      <td>False</td>\n",
       "      <td>NaN</td>\n",
       "    </tr>\n",
       "    <tr>\n",
       "      <th>44</th>\n",
       "      <td>4dbb6ba343a1d8504b70505f</td>\n",
       "      <td>Royal Fortune Restaurant</td>\n",
       "      <td>{'address': '3944 Fraser street', 'crossStreet...</td>\n",
       "      <td>[{'id': '4bf58dd8d48988d145941735', 'name': 'C...</td>\n",
       "      <td>v-1620320421</td>\n",
       "      <td>False</td>\n",
       "      <td>NaN</td>\n",
       "    </tr>\n",
       "    <tr>\n",
       "      <th>45</th>\n",
       "      <td>522bea74498ede28e9a5b2d5</td>\n",
       "      <td>Kuma Japanese Restaurant</td>\n",
       "      <td>{'address': '3446 Dunbar St.', 'lat': 49.25614...</td>\n",
       "      <td>[{'id': '4bf58dd8d48988d111941735', 'name': 'J...</td>\n",
       "      <td>v-1620320421</td>\n",
       "      <td>False</td>\n",
       "      <td>NaN</td>\n",
       "    </tr>\n",
       "    <tr>\n",
       "      <th>46</th>\n",
       "      <td>4aa9d009f964a5205b5520e3</td>\n",
       "      <td>Showcase Restaurant and Bar</td>\n",
       "      <td>{'address': '1122 W Hastings St.', 'crossStree...</td>\n",
       "      <td>[{'id': '4bf58dd8d48988d1c4941735', 'name': 'R...</td>\n",
       "      <td>v-1620320421</td>\n",
       "      <td>False</td>\n",
       "      <td>{'id': '83873644'}</td>\n",
       "    </tr>\n",
       "    <tr>\n",
       "      <th>47</th>\n",
       "      <td>4d8a902e7d4c548136636c71</td>\n",
       "      <td>Timkee Restaurant</td>\n",
       "      <td>{'address': '2365 Burrard Street', 'lat': 49.2...</td>\n",
       "      <td>[{'id': '4bf58dd8d48988d145941735', 'name': 'C...</td>\n",
       "      <td>v-1620320421</td>\n",
       "      <td>False</td>\n",
       "      <td>NaN</td>\n",
       "    </tr>\n",
       "    <tr>\n",
       "      <th>48</th>\n",
       "      <td>4aa837e6f964a5202c5020e3</td>\n",
       "      <td>McLean's Restaurant</td>\n",
       "      <td>{'address': '332 Water Street', 'crossStreet':...</td>\n",
       "      <td>[{'id': '4bf58dd8d48988d143941735', 'name': 'B...</td>\n",
       "      <td>v-1620320421</td>\n",
       "      <td>False</td>\n",
       "      <td>NaN</td>\n",
       "    </tr>\n",
       "    <tr>\n",
       "      <th>49</th>\n",
       "      <td>4cdc678c22bd721eb300fb47</td>\n",
       "      <td>Thai Star Restaurant</td>\n",
       "      <td>{'address': '1629 Yew St', 'crossStreet': 'btw...</td>\n",
       "      <td>[{'id': '4bf58dd8d48988d149941735', 'name': 'T...</td>\n",
       "      <td>v-1620320421</td>\n",
       "      <td>False</td>\n",
       "      <td>NaN</td>\n",
       "    </tr>\n",
       "  </tbody>\n",
       "</table>\n",
       "</div>"
      ],
      "text/plain": [
       "                          id                                       name  \\\n",
       "0   4e9a75a3d3e3697fbfda59ee              Yagger's Kitsilano Restaurant   \n",
       "1   4c0c0244a1b32d7f5be49bf0                   The Boathouse Restaurant   \n",
       "2   51c8fd70498e48a12893ba67                   Peaceful Restaurant 和平饭店   \n",
       "3   4ac4169cf964a5202b9e20e3              Hi Nippon Japanese Restaurant   \n",
       "4   4bf1a603324cc9b68a49cc92                   Ridge Gardens Restaurant   \n",
       "5   4aceae40f964a520aad120e3                    Iki Japanese Restaurant   \n",
       "6   4ac28159f964a5206e9920e3            Hoshi Sushi Japanese Restaurant   \n",
       "7   4aa83aacf964a520405020e3                        Dockside Restaurant   \n",
       "8   4d683de960366a31507d4106                Broadway Chinese Restaurant   \n",
       "9   4aa7d91ef964a520944d20e3                        The Naam Restaurant   \n",
       "10  4aa83c06f964a5204d5020e3             The Sandbar Seafood Restaurant   \n",
       "11  594c70a00336931c7f390429                          Na Jia Restaurant   \n",
       "12  4d2cce46ae3a8cfa4067bf70                      Hawksworth Restaurant   \n",
       "13  50527ea7e4b0588850a3fbab                          España Restaurant   \n",
       "14  4b342ac8f964a520b92525e3          Dynasty Seafood Restaurant 皇朝海鮮酒家   \n",
       "15  4aa839aef964a520385020e3                 Afghan Horsemen Restaurant   \n",
       "16  5264889711d205ec029d2e6a                 Takumi Japanese Restaurant   \n",
       "17  55a85859498ee90cd678e719                      Thai Basil Restaurant   \n",
       "18  4bbd49fd07809521d481da91             The Best Neighbours Restaurant   \n",
       "19  576c4083498e4989bae8764a                        Peaceful Restaurant   \n",
       "20  4abe7fb7f964a520078e20e3               New Town Bakery & Restaurant   \n",
       "21  4aa83730f964a520275020e3                 Ki-isu Japanese Restaurant   \n",
       "22  4d18042881cea35dfee3eaec        Sushi Vancouver Japanese Restaurant   \n",
       "23  4d9cbcbdc99fb60cb424b88b               New Peace Chinese Restaurant   \n",
       "24  4ace7e53f964a520e1d020e3              New India Buffet & Restaurant   \n",
       "25  5407666f498e6b96e084e978    Hui Fu House Seafood Restaurant 匯富堂滴金會所   \n",
       "26  4c800332d8086dcb62ed5f52                  Beijing Garden Restaurant   \n",
       "27  4ab04bfaf964a520ed6620e3                   Peaceful Restaurant 和平饭店   \n",
       "28  5e542fb30906ab000b03b406            Original Joe's Restaurant & Bar   \n",
       "29  4aa82b93f964a520c84f20e3  Yagger's Downtown Restaurant & Sports Bar   \n",
       "30  4bc54d1a0a30d13a70f0599c             Piatzo Fine Italian Restaurant   \n",
       "31  4b03579ef964a520c14e22e3                 Simpatico Greek Restaurant   \n",
       "32  4aa7f160f964a5201c4e20e3                       Cardero's Restaurant   \n",
       "33  5c8d886ab25fee002cf99a9d                          Unchai Restaurant   \n",
       "34  4ac379f4f964a520729b20e3         Paul's Place Omelettery Restaurant   \n",
       "35  5b6e4399a4ba7c002c1a9c79                      Thai Basil Restaurant   \n",
       "36  4cbb45c5f50e224b51b9f8fb                    Grand Honour Restaurant   \n",
       "37  4aa7fa55f964a5206a4e20e3                        Bishop's Restaurant   \n",
       "38  4b50afe3f964a520822d27e3     Prestons Restaurant + Lounge Vancouver   \n",
       "39  4bd4fae529eb9c7406c492e1               Chongqing Chinese Restaurant   \n",
       "40  50022eace4b0fbfbe9a7d77e     Shanghai Xiao Long Bao Restaurant 上海九鼎   \n",
       "41  4ac56bedf964a520fab120e3                  Kirin Mandarin Restaurant   \n",
       "42  56f051ab498ec3899332f6cd                     Kits Indian Restaurant   \n",
       "43  4cf977b92d80a14398f73dd8                           Royal Restaurant   \n",
       "44  4dbb6ba343a1d8504b70505f                   Royal Fortune Restaurant   \n",
       "45  522bea74498ede28e9a5b2d5                   Kuma Japanese Restaurant   \n",
       "46  4aa9d009f964a5205b5520e3                Showcase Restaurant and Bar   \n",
       "47  4d8a902e7d4c548136636c71                          Timkee Restaurant   \n",
       "48  4aa837e6f964a5202c5020e3                        McLean's Restaurant   \n",
       "49  4cdc678c22bd721eb300fb47                       Thai Star Restaurant   \n",
       "\n",
       "                                             location  \\\n",
       "0   {'address': '2884 W Broadway', 'crossStreet': ...   \n",
       "1   {'address': '1305 Arbutus St', 'crossStreet': ...   \n",
       "2   {'address': '2394 W 4th Ave', 'crossStreet': '...   \n",
       "3   {'address': '2274 W 4th Ave.', 'crossStreet': ...   \n",
       "4   {'address': '4009 Macdonald Street', 'crossStr...   \n",
       "5   {'address': '2756 W Broadway', 'crossStreet': ...   \n",
       "6   {'address': '2825 W Broadway', 'crossStreet': ...   \n",
       "7   {'address': '1253 Johnston St', 'crossStreet':...   \n",
       "8   {'address': '1410 West Broadway', 'crossStreet...   \n",
       "9   {'address': '2724 W 4th Ave', 'crossStreet': '...   \n",
       "10  {'address': '1536 Johnston St.', 'crossStreet'...   \n",
       "11  {'lat': 49.275617, 'lng': -123.13493, 'labeled...   \n",
       "12  {'address': '801 W Georgia St', 'crossStreet':...   \n",
       "13  {'address': '1118 Denman St.', 'crossStreet': ...   \n",
       "14  {'address': '108-777 W Broadway', 'lat': 49.26...   \n",
       "15  {'address': '202-1833 Anderson Street', 'cross...   \n",
       "16  {'address': '4422 W 10th Ave', 'crossStreet': ...   \n",
       "17  {'address': '3271 W Broadway', 'lat': 49.26419...   \n",
       "18  {'address': '3838 Oak St.', 'crossStreet': 'We...   \n",
       "19  {'address': '602 Seymour St', 'crossStreet': '...   \n",
       "20  {'address': '148 E Pender St', 'crossStreet': ...   \n",
       "21  {'address': '1275 Pacific Blvd.', 'crossStreet...   \n",
       "22  {'address': '3416 W Broadway', 'crossStreet': ...   \n",
       "23  {'address': '630 Davie Street', 'lat': 49.2767...   \n",
       "24  {'address': '#105 - 805 West Broadway', 'cross...   \n",
       "25  {'address': '#110 - 5701', 'crossStreet': 'Gra...   \n",
       "26  {'address': '3492 Cambie St.', 'lat': 49.25414...   \n",
       "27  {'address': '532 W Broadway', 'crossStreet': '...   \n",
       "28  {'address': '298 Robson Street', 'lat': 49.278...   \n",
       "29  {'address': '433 West Pender', 'crossStreet': ...   \n",
       "30  {'address': '1629 Yew St', 'crossStreet': 'btw...   \n",
       "31  {'address': '2222 W 4th Ave', 'crossStreet': '...   \n",
       "32  {'address': '1583 Coal Harbour Quay', 'crossSt...   \n",
       "33  {'address': '2351 Burrard St', 'lat': 49.26505...   \n",
       "34  {'address': '2211 Granville St.', 'crossStreet...   \n",
       "35  {'address': '2184 Cornwall Avenue', 'lat': 49....   \n",
       "36  {'address': '5668 Granville St.', 'crossStreet...   \n",
       "37  {'address': '2183 4th Avenue W', 'lat': 49.268...   \n",
       "38  {'address': '1177 West Pender St', 'crossStree...   \n",
       "39  {'address': '1260 Robson St.', 'crossStreet': ...   \n",
       "40  {'address': '469 Richards St', 'crossStreet': ...   \n",
       "41  {'address': '1172 Alberni St.', 'crossStreet':...   \n",
       "42  {'address': '2445 Burrard St', 'crossStreet': ...   \n",
       "43  {'address': '1655 burrard st', 'lat': 49.26914...   \n",
       "44  {'address': '3944 Fraser street', 'crossStreet...   \n",
       "45  {'address': '3446 Dunbar St.', 'lat': 49.25614...   \n",
       "46  {'address': '1122 W Hastings St.', 'crossStree...   \n",
       "47  {'address': '2365 Burrard Street', 'lat': 49.2...   \n",
       "48  {'address': '332 Water Street', 'crossStreet':...   \n",
       "49  {'address': '1629 Yew St', 'crossStreet': 'btw...   \n",
       "\n",
       "                                           categories    referralId  hasPerk  \\\n",
       "0   [{'id': '4bf58dd8d48988d11b941735', 'name': 'P...  v-1620320421    False   \n",
       "1   [{'id': '4bf58dd8d48988d1ce941735', 'name': 'S...  v-1620320421    False   \n",
       "2   [{'id': '4bf58dd8d48988d145941735', 'name': 'C...  v-1620320421    False   \n",
       "3   [{'id': '4bf58dd8d48988d111941735', 'name': 'J...  v-1620320421    False   \n",
       "4   [{'id': '4bf58dd8d48988d145941735', 'name': 'C...  v-1620320421    False   \n",
       "5   [{'id': '4bf58dd8d48988d111941735', 'name': 'J...  v-1620320421    False   \n",
       "6   [{'id': '4bf58dd8d48988d1d2941735', 'name': 'S...  v-1620320421    False   \n",
       "7   [{'id': '4bf58dd8d48988d1ce941735', 'name': 'S...  v-1620320421    False   \n",
       "8   [{'id': '4bf58dd8d48988d145941735', 'name': 'C...  v-1620320421    False   \n",
       "9   [{'id': '4bf58dd8d48988d1d3941735', 'name': 'V...  v-1620320421    False   \n",
       "10  [{'id': '4bf58dd8d48988d1ce941735', 'name': 'S...  v-1620320421    False   \n",
       "11  [{'id': '4bf58dd8d48988d145941735', 'name': 'C...  v-1620320421    False   \n",
       "12  [{'id': '4bf58dd8d48988d121941735', 'name': 'L...  v-1620320421    False   \n",
       "13  [{'id': '4bf58dd8d48988d150941735', 'name': 'S...  v-1620320421    False   \n",
       "14  [{'id': '4bf58dd8d48988d145941735', 'name': 'C...  v-1620320421    False   \n",
       "15  [{'id': '4bf58dd8d48988d115941735', 'name': 'M...  v-1620320421    False   \n",
       "16  [{'id': '4bf58dd8d48988d111941735', 'name': 'J...  v-1620320421    False   \n",
       "17  [{'id': '4bf58dd8d48988d149941735', 'name': 'T...  v-1620320421    False   \n",
       "18  [{'id': '4bf58dd8d48988d10e941735', 'name': 'G...  v-1620320421    False   \n",
       "19  [{'id': '4bf58dd8d48988d145941735', 'name': 'C...  v-1620320421    False   \n",
       "20  [{'id': '4bf58dd8d48988d145941735', 'name': 'C...  v-1620320421    False   \n",
       "21  [{'id': '4bf58dd8d48988d111941735', 'name': 'J...  v-1620320421    False   \n",
       "22  [{'id': '4bf58dd8d48988d111941735', 'name': 'J...  v-1620320421    False   \n",
       "23  [{'id': '4bf58dd8d48988d145941735', 'name': 'C...  v-1620320421    False   \n",
       "24  [{'id': '4bf58dd8d48988d10f941735', 'name': 'I...  v-1620320421    False   \n",
       "25  [{'id': '52af3a7c3cf9994f4e043bed', 'name': 'C...  v-1620320421    False   \n",
       "26  [{'id': '4bf58dd8d48988d145941735', 'name': 'C...  v-1620320421    False   \n",
       "27  [{'id': '4bf58dd8d48988d145941735', 'name': 'C...  v-1620320421    False   \n",
       "28  [{'id': '4bf58dd8d48988d1c4941735', 'name': 'R...  v-1620320421    False   \n",
       "29  [{'id': '4bf58dd8d48988d11d941735', 'name': 'S...  v-1620320421    False   \n",
       "30  [{'id': '4bf58dd8d48988d110941735', 'name': 'I...  v-1620320421    False   \n",
       "31  [{'id': '4bf58dd8d48988d10e941735', 'name': 'G...  v-1620320421    False   \n",
       "32  [{'id': '4bf58dd8d48988d1ce941735', 'name': 'S...  v-1620320421    False   \n",
       "33  [{'id': '4bf58dd8d48988d149941735', 'name': 'T...  v-1620320421    False   \n",
       "34  [{'id': '4bf58dd8d48988d143941735', 'name': 'B...  v-1620320421    False   \n",
       "35  [{'id': '4bf58dd8d48988d149941735', 'name': 'T...  v-1620320421    False   \n",
       "36  [{'id': '4bf58dd8d48988d142941735', 'name': 'A...  v-1620320421    False   \n",
       "37  [{'id': '4bf58dd8d48988d1c4941735', 'name': 'R...  v-1620320421    False   \n",
       "38  [{'id': '4bf58dd8d48988d1c4941735', 'name': 'R...  v-1620320421    False   \n",
       "39  [{'id': '4bf58dd8d48988d145941735', 'name': 'C...  v-1620320421    False   \n",
       "40  [{'id': '4bf58dd8d48988d145941735', 'name': 'C...  v-1620320421    False   \n",
       "41  [{'id': '4bf58dd8d48988d145941735', 'name': 'C...  v-1620320421    False   \n",
       "42  [{'id': '4bf58dd8d48988d10f941735', 'name': 'I...  v-1620320421    False   \n",
       "43  [{'id': '4bf58dd8d48988d142941735', 'name': 'A...  v-1620320421    False   \n",
       "44  [{'id': '4bf58dd8d48988d145941735', 'name': 'C...  v-1620320421    False   \n",
       "45  [{'id': '4bf58dd8d48988d111941735', 'name': 'J...  v-1620320421    False   \n",
       "46  [{'id': '4bf58dd8d48988d1c4941735', 'name': 'R...  v-1620320421    False   \n",
       "47  [{'id': '4bf58dd8d48988d145941735', 'name': 'C...  v-1620320421    False   \n",
       "48  [{'id': '4bf58dd8d48988d143941735', 'name': 'B...  v-1620320421    False   \n",
       "49  [{'id': '4bf58dd8d48988d149941735', 'name': 'T...  v-1620320421    False   \n",
       "\n",
       "              venuePage  \n",
       "0                   NaN  \n",
       "1                   NaN  \n",
       "2                   NaN  \n",
       "3                   NaN  \n",
       "4                   NaN  \n",
       "5                   NaN  \n",
       "6                   NaN  \n",
       "7    {'id': '39502607'}  \n",
       "8                   NaN  \n",
       "9                   NaN  \n",
       "10  {'id': '408453102'}  \n",
       "11                  NaN  \n",
       "12   {'id': '77577037'}  \n",
       "13                  NaN  \n",
       "14                  NaN  \n",
       "15                  NaN  \n",
       "16                  NaN  \n",
       "17                  NaN  \n",
       "18                  NaN  \n",
       "19                  NaN  \n",
       "20                  NaN  \n",
       "21                  NaN  \n",
       "22                  NaN  \n",
       "23                  NaN  \n",
       "24                  NaN  \n",
       "25                  NaN  \n",
       "26                  NaN  \n",
       "27                  NaN  \n",
       "28                  NaN  \n",
       "29   {'id': '41496929'}  \n",
       "30                  NaN  \n",
       "31                  NaN  \n",
       "32  {'id': '409700458'}  \n",
       "33                  NaN  \n",
       "34   {'id': '57645281'}  \n",
       "35                  NaN  \n",
       "36                  NaN  \n",
       "37                  NaN  \n",
       "38   {'id': '33794062'}  \n",
       "39                  NaN  \n",
       "40                  NaN  \n",
       "41                  NaN  \n",
       "42                  NaN  \n",
       "43                  NaN  \n",
       "44                  NaN  \n",
       "45                  NaN  \n",
       "46   {'id': '83873644'}  \n",
       "47                  NaN  \n",
       "48                  NaN  \n",
       "49                  NaN  "
      ]
     },
     "execution_count": 53,
     "metadata": {},
     "output_type": "execute_result"
    }
   ],
   "source": [
    "df_rest"
   ]
  },
  {
   "cell_type": "code",
   "execution_count": 54,
   "metadata": {},
   "outputs": [],
   "source": [
    "df_norm = pd.json_normalize(fs_restaurants['venues'])"
   ]
  },
  {
   "cell_type": "code",
   "execution_count": 64,
   "metadata": {
    "collapsed": true,
    "jupyter": {
     "outputs_hidden": true
    }
   },
   "outputs": [
    {
     "data": {
      "text/html": [
       "<div>\n",
       "<style scoped>\n",
       "    .dataframe tbody tr th:only-of-type {\n",
       "        vertical-align: middle;\n",
       "    }\n",
       "\n",
       "    .dataframe tbody tr th {\n",
       "        vertical-align: top;\n",
       "    }\n",
       "\n",
       "    .dataframe thead th {\n",
       "        text-align: right;\n",
       "    }\n",
       "</style>\n",
       "<table border=\"1\" class=\"dataframe\">\n",
       "  <thead>\n",
       "    <tr style=\"text-align: right;\">\n",
       "      <th></th>\n",
       "      <th>id</th>\n",
       "      <th>name</th>\n",
       "      <th>categories</th>\n",
       "      <th>referralId</th>\n",
       "      <th>hasPerk</th>\n",
       "      <th>location.address</th>\n",
       "      <th>location.crossStreet</th>\n",
       "      <th>location.lat</th>\n",
       "      <th>location.lng</th>\n",
       "      <th>location.labeledLatLngs</th>\n",
       "      <th>location.distance</th>\n",
       "      <th>location.cc</th>\n",
       "      <th>location.city</th>\n",
       "      <th>location.state</th>\n",
       "      <th>location.country</th>\n",
       "      <th>location.formattedAddress</th>\n",
       "      <th>location.postalCode</th>\n",
       "      <th>location.neighborhood</th>\n",
       "      <th>venuePage.id</th>\n",
       "    </tr>\n",
       "  </thead>\n",
       "  <tbody>\n",
       "    <tr>\n",
       "      <th>0</th>\n",
       "      <td>4e9a75a3d3e3697fbfda59ee</td>\n",
       "      <td>Yagger's Kitsilano Restaurant</td>\n",
       "      <td>[{'id': '4bf58dd8d48988d11b941735', 'name': 'P...</td>\n",
       "      <td>v-1620320421</td>\n",
       "      <td>False</td>\n",
       "      <td>2884 W Broadway</td>\n",
       "      <td>btwn Macdonald &amp; Mackenzie</td>\n",
       "      <td>49.264008</td>\n",
       "      <td>-123.169638</td>\n",
       "      <td>[{'label': 'display', 'lat': 49.26400780924734...</td>\n",
       "      <td>163</td>\n",
       "      <td>CA</td>\n",
       "      <td>Vancouver</td>\n",
       "      <td>BC</td>\n",
       "      <td>Canada</td>\n",
       "      <td>[2884 W Broadway (btwn Macdonald &amp; Mackenzie),...</td>\n",
       "      <td>NaN</td>\n",
       "      <td>NaN</td>\n",
       "      <td>NaN</td>\n",
       "    </tr>\n",
       "    <tr>\n",
       "      <th>1</th>\n",
       "      <td>4c0c0244a1b32d7f5be49bf0</td>\n",
       "      <td>The Boathouse Restaurant</td>\n",
       "      <td>[{'id': '4bf58dd8d48988d1ce941735', 'name': 'S...</td>\n",
       "      <td>v-1620320421</td>\n",
       "      <td>False</td>\n",
       "      <td>1305 Arbutus St</td>\n",
       "      <td>Cornwall</td>\n",
       "      <td>49.274294</td>\n",
       "      <td>-123.153670</td>\n",
       "      <td>[{'label': 'display', 'lat': 49.27429388983705...</td>\n",
       "      <td>1632</td>\n",
       "      <td>CA</td>\n",
       "      <td>Vancouver</td>\n",
       "      <td>BC</td>\n",
       "      <td>Canada</td>\n",
       "      <td>[1305 Arbutus St (Cornwall), Vancouver BC V6J ...</td>\n",
       "      <td>V6J 5N2</td>\n",
       "      <td>NaN</td>\n",
       "      <td>NaN</td>\n",
       "    </tr>\n",
       "    <tr>\n",
       "      <th>2</th>\n",
       "      <td>51c8fd70498e48a12893ba67</td>\n",
       "      <td>Peaceful Restaurant 和平饭店</td>\n",
       "      <td>[{'id': '4bf58dd8d48988d145941735', 'name': 'C...</td>\n",
       "      <td>v-1620320421</td>\n",
       "      <td>False</td>\n",
       "      <td>2394 W 4th Ave</td>\n",
       "      <td>at Balsam St</td>\n",
       "      <td>49.268216</td>\n",
       "      <td>-123.159575</td>\n",
       "      <td>[{'label': 'display', 'lat': 49.26821645953926...</td>\n",
       "      <td>843</td>\n",
       "      <td>CA</td>\n",
       "      <td>Vancouver</td>\n",
       "      <td>BC</td>\n",
       "      <td>Canada</td>\n",
       "      <td>[2394 W 4th Ave (at Balsam St), Vancouver BC, ...</td>\n",
       "      <td>NaN</td>\n",
       "      <td>NaN</td>\n",
       "      <td>NaN</td>\n",
       "    </tr>\n",
       "    <tr>\n",
       "      <th>3</th>\n",
       "      <td>4ac4169cf964a5202b9e20e3</td>\n",
       "      <td>Hi Nippon Japanese Restaurant</td>\n",
       "      <td>[{'id': '4bf58dd8d48988d111941735', 'name': 'J...</td>\n",
       "      <td>v-1620320421</td>\n",
       "      <td>False</td>\n",
       "      <td>2274 W 4th Ave.</td>\n",
       "      <td>at Vine St.</td>\n",
       "      <td>49.268198</td>\n",
       "      <td>-123.156926</td>\n",
       "      <td>[{'label': 'display', 'lat': 49.2681979877156,...</td>\n",
       "      <td>990</td>\n",
       "      <td>CA</td>\n",
       "      <td>Vancouver</td>\n",
       "      <td>BC</td>\n",
       "      <td>Canada</td>\n",
       "      <td>[2274 W 4th Ave. (at Vine St.), Vancouver BC V...</td>\n",
       "      <td>V6K 1N8</td>\n",
       "      <td>NaN</td>\n",
       "      <td>NaN</td>\n",
       "    </tr>\n",
       "    <tr>\n",
       "      <th>4</th>\n",
       "      <td>4bf1a603324cc9b68a49cc92</td>\n",
       "      <td>Ridge Gardens Restaurant</td>\n",
       "      <td>[{'id': '4bf58dd8d48988d145941735', 'name': 'C...</td>\n",
       "      <td>v-1620320421</td>\n",
       "      <td>False</td>\n",
       "      <td>4009 Macdonald Street</td>\n",
       "      <td>West 24th Avenue</td>\n",
       "      <td>49.258073</td>\n",
       "      <td>-123.153394</td>\n",
       "      <td>[{'label': 'display', 'lat': 49.2580725102941,...</td>\n",
       "      <td>1194</td>\n",
       "      <td>CA</td>\n",
       "      <td>Vancouver</td>\n",
       "      <td>BC</td>\n",
       "      <td>Canada</td>\n",
       "      <td>[4009 Macdonald Street (West 24th Avenue), Van...</td>\n",
       "      <td>V6L 2N8</td>\n",
       "      <td>NaN</td>\n",
       "      <td>NaN</td>\n",
       "    </tr>\n",
       "    <tr>\n",
       "      <th>5</th>\n",
       "      <td>4aceae40f964a520aad120e3</td>\n",
       "      <td>Iki Japanese Restaurant</td>\n",
       "      <td>[{'id': '4bf58dd8d48988d111941735', 'name': 'J...</td>\n",
       "      <td>v-1620320421</td>\n",
       "      <td>False</td>\n",
       "      <td>2756 W Broadway</td>\n",
       "      <td>at Macdonald St.</td>\n",
       "      <td>49.264039</td>\n",
       "      <td>-123.167506</td>\n",
       "      <td>[{'label': 'display', 'lat': 49.26403946816144...</td>\n",
       "      <td>121</td>\n",
       "      <td>CA</td>\n",
       "      <td>Vancouver</td>\n",
       "      <td>BC</td>\n",
       "      <td>Canada</td>\n",
       "      <td>[2756 W Broadway (at Macdonald St.), Vancouver...</td>\n",
       "      <td>V6K 2G4</td>\n",
       "      <td>Kitsilano</td>\n",
       "      <td>NaN</td>\n",
       "    </tr>\n",
       "    <tr>\n",
       "      <th>6</th>\n",
       "      <td>4ac28159f964a5206e9920e3</td>\n",
       "      <td>Hoshi Sushi Japanese Restaurant</td>\n",
       "      <td>[{'id': '4bf58dd8d48988d1d2941735', 'name': 'S...</td>\n",
       "      <td>v-1620320421</td>\n",
       "      <td>False</td>\n",
       "      <td>2825 W Broadway</td>\n",
       "      <td>btwn Mackenzie &amp; MacDonald</td>\n",
       "      <td>49.264208</td>\n",
       "      <td>-123.169042</td>\n",
       "      <td>[{'label': 'display', 'lat': 49.26420826344915...</td>\n",
       "      <td>154</td>\n",
       "      <td>CA</td>\n",
       "      <td>Vancouver</td>\n",
       "      <td>BC</td>\n",
       "      <td>Canada</td>\n",
       "      <td>[2825 W Broadway (btwn Mackenzie &amp; MacDonald),...</td>\n",
       "      <td>V6K 2G6</td>\n",
       "      <td>NaN</td>\n",
       "      <td>NaN</td>\n",
       "    </tr>\n",
       "    <tr>\n",
       "      <th>7</th>\n",
       "      <td>4aa83aacf964a520405020e3</td>\n",
       "      <td>Dockside Restaurant</td>\n",
       "      <td>[{'id': '4bf58dd8d48988d1ce941735', 'name': 'S...</td>\n",
       "      <td>v-1620320421</td>\n",
       "      <td>False</td>\n",
       "      <td>1253 Johnston St</td>\n",
       "      <td>btwn Old Bridge Street and Cartwright</td>\n",
       "      <td>49.269348</td>\n",
       "      <td>-123.130731</td>\n",
       "      <td>[{'label': 'display', 'lat': 49.26934778168365...</td>\n",
       "      <td>2797</td>\n",
       "      <td>CA</td>\n",
       "      <td>Vancouver</td>\n",
       "      <td>BC</td>\n",
       "      <td>Canada</td>\n",
       "      <td>[1253 Johnston St (btwn Old Bridge Street and ...</td>\n",
       "      <td>V6H 3R9</td>\n",
       "      <td>NaN</td>\n",
       "      <td>39502607</td>\n",
       "    </tr>\n",
       "    <tr>\n",
       "      <th>8</th>\n",
       "      <td>4d683de960366a31507d4106</td>\n",
       "      <td>Broadway Chinese Restaurant</td>\n",
       "      <td>[{'id': '4bf58dd8d48988d145941735', 'name': 'C...</td>\n",
       "      <td>v-1620320421</td>\n",
       "      <td>False</td>\n",
       "      <td>1410 West Broadway</td>\n",
       "      <td>Hemlock St.</td>\n",
       "      <td>49.263176</td>\n",
       "      <td>-123.136400</td>\n",
       "      <td>[{'label': 'display', 'lat': 49.263176, 'lng':...</td>\n",
       "      <td>2295</td>\n",
       "      <td>CA</td>\n",
       "      <td>Vancouver</td>\n",
       "      <td>BC</td>\n",
       "      <td>Canada</td>\n",
       "      <td>[1410 West Broadway (Hemlock St.), Vancouver B...</td>\n",
       "      <td>V6H 3G8</td>\n",
       "      <td>Fairview</td>\n",
       "      <td>NaN</td>\n",
       "    </tr>\n",
       "    <tr>\n",
       "      <th>9</th>\n",
       "      <td>4aa7d91ef964a520944d20e3</td>\n",
       "      <td>The Naam Restaurant</td>\n",
       "      <td>[{'id': '4bf58dd8d48988d1d3941735', 'name': 'V...</td>\n",
       "      <td>v-1620320421</td>\n",
       "      <td>False</td>\n",
       "      <td>2724 W 4th Ave</td>\n",
       "      <td>at Stephens St</td>\n",
       "      <td>49.268301</td>\n",
       "      <td>-123.167049</td>\n",
       "      <td>[{'label': 'display', 'lat': 49.26830060746881...</td>\n",
       "      <td>594</td>\n",
       "      <td>CA</td>\n",
       "      <td>Vancouver</td>\n",
       "      <td>BC</td>\n",
       "      <td>Canada</td>\n",
       "      <td>[2724 W 4th Ave (at Stephens St), Vancouver BC...</td>\n",
       "      <td>V6K 1R1</td>\n",
       "      <td>NaN</td>\n",
       "      <td>NaN</td>\n",
       "    </tr>\n",
       "    <tr>\n",
       "      <th>10</th>\n",
       "      <td>4aa83c06f964a5204d5020e3</td>\n",
       "      <td>The Sandbar Seafood Restaurant</td>\n",
       "      <td>[{'id': '4bf58dd8d48988d1ce941735', 'name': 'S...</td>\n",
       "      <td>v-1620320421</td>\n",
       "      <td>False</td>\n",
       "      <td>1536 Johnston St.</td>\n",
       "      <td>Granville Island</td>\n",
       "      <td>49.272188</td>\n",
       "      <td>-123.133918</td>\n",
       "      <td>[{'label': 'display', 'lat': 49.27218814329929...</td>\n",
       "      <td>2678</td>\n",
       "      <td>CA</td>\n",
       "      <td>Vancouver</td>\n",
       "      <td>BC</td>\n",
       "      <td>Canada</td>\n",
       "      <td>[1536 Johnston St. (Granville Island), Vancouv...</td>\n",
       "      <td>V6H 3R9</td>\n",
       "      <td>NaN</td>\n",
       "      <td>408453102</td>\n",
       "    </tr>\n",
       "    <tr>\n",
       "      <th>11</th>\n",
       "      <td>594c70a00336931c7f390429</td>\n",
       "      <td>Na Jia Restaurant</td>\n",
       "      <td>[{'id': '4bf58dd8d48988d145941735', 'name': 'C...</td>\n",
       "      <td>v-1620320421</td>\n",
       "      <td>False</td>\n",
       "      <td>NaN</td>\n",
       "      <td>NaN</td>\n",
       "      <td>49.275617</td>\n",
       "      <td>-123.134930</td>\n",
       "      <td>[{'label': 'display', 'lat': 49.275617, 'lng':...</td>\n",
       "      <td>2782</td>\n",
       "      <td>CA</td>\n",
       "      <td>Vancouver</td>\n",
       "      <td>BC</td>\n",
       "      <td>Canada</td>\n",
       "      <td>[Vancouver BC, Canada]</td>\n",
       "      <td>NaN</td>\n",
       "      <td>Downtown Vancouver</td>\n",
       "      <td>NaN</td>\n",
       "    </tr>\n",
       "    <tr>\n",
       "      <th>12</th>\n",
       "      <td>4d2cce46ae3a8cfa4067bf70</td>\n",
       "      <td>Hawksworth Restaurant</td>\n",
       "      <td>[{'id': '4bf58dd8d48988d121941735', 'name': 'L...</td>\n",
       "      <td>v-1620320421</td>\n",
       "      <td>False</td>\n",
       "      <td>801 W Georgia St</td>\n",
       "      <td>at Howe St</td>\n",
       "      <td>49.283362</td>\n",
       "      <td>-123.119462</td>\n",
       "      <td>[{'label': 'display', 'lat': 49.28336228267866...</td>\n",
       "      <td>4191</td>\n",
       "      <td>CA</td>\n",
       "      <td>Vancouver</td>\n",
       "      <td>BC</td>\n",
       "      <td>Canada</td>\n",
       "      <td>[801 W Georgia St (at Howe St), Vancouver BC V...</td>\n",
       "      <td>V6P 1C7</td>\n",
       "      <td>NaN</td>\n",
       "      <td>77577037</td>\n",
       "    </tr>\n",
       "    <tr>\n",
       "      <th>13</th>\n",
       "      <td>50527ea7e4b0588850a3fbab</td>\n",
       "      <td>España Restaurant</td>\n",
       "      <td>[{'id': '4bf58dd8d48988d150941735', 'name': 'S...</td>\n",
       "      <td>v-1620320421</td>\n",
       "      <td>False</td>\n",
       "      <td>1118 Denman St.</td>\n",
       "      <td>at Pendrell St.</td>\n",
       "      <td>49.288019</td>\n",
       "      <td>-123.140467</td>\n",
       "      <td>[{'label': 'display', 'lat': 49.288019, 'lng':...</td>\n",
       "      <td>3428</td>\n",
       "      <td>CA</td>\n",
       "      <td>Vancouver</td>\n",
       "      <td>BC</td>\n",
       "      <td>Canada</td>\n",
       "      <td>[1118 Denman St. (at Pendrell St.), Vancouver ...</td>\n",
       "      <td>V6G 2M8</td>\n",
       "      <td>NaN</td>\n",
       "      <td>NaN</td>\n",
       "    </tr>\n",
       "    <tr>\n",
       "      <th>14</th>\n",
       "      <td>4b342ac8f964a520b92525e3</td>\n",
       "      <td>Dynasty Seafood Restaurant 皇朝海鮮酒家</td>\n",
       "      <td>[{'id': '4bf58dd8d48988d145941735', 'name': 'C...</td>\n",
       "      <td>v-1620320421</td>\n",
       "      <td>False</td>\n",
       "      <td>108-777 W Broadway</td>\n",
       "      <td>NaN</td>\n",
       "      <td>49.263693</td>\n",
       "      <td>-123.121258</td>\n",
       "      <td>[{'label': 'display', 'lat': 49.26369279404139...</td>\n",
       "      <td>3396</td>\n",
       "      <td>CA</td>\n",
       "      <td>Vancouver</td>\n",
       "      <td>BC</td>\n",
       "      <td>Canada</td>\n",
       "      <td>[108-777 W Broadway, Vancouver BC V5Z, Canada]</td>\n",
       "      <td>V5Z</td>\n",
       "      <td>NaN</td>\n",
       "      <td>NaN</td>\n",
       "    </tr>\n",
       "    <tr>\n",
       "      <th>15</th>\n",
       "      <td>4aa839aef964a520385020e3</td>\n",
       "      <td>Afghan Horsemen Restaurant</td>\n",
       "      <td>[{'id': '4bf58dd8d48988d115941735', 'name': 'M...</td>\n",
       "      <td>v-1620320421</td>\n",
       "      <td>False</td>\n",
       "      <td>202-1833 Anderson Street</td>\n",
       "      <td>@ Granville Island Entrance</td>\n",
       "      <td>49.269442</td>\n",
       "      <td>-123.138691</td>\n",
       "      <td>[{'label': 'display', 'lat': 49.2694424333753,...</td>\n",
       "      <td>2246</td>\n",
       "      <td>CA</td>\n",
       "      <td>Vancouver</td>\n",
       "      <td>BC</td>\n",
       "      <td>Canada</td>\n",
       "      <td>[202-1833 Anderson Street (@ Granville Island ...</td>\n",
       "      <td>V6H 4E5</td>\n",
       "      <td>NaN</td>\n",
       "      <td>NaN</td>\n",
       "    </tr>\n",
       "    <tr>\n",
       "      <th>16</th>\n",
       "      <td>5264889711d205ec029d2e6a</td>\n",
       "      <td>Takumi Japanese Restaurant</td>\n",
       "      <td>[{'id': '4bf58dd8d48988d111941735', 'name': 'J...</td>\n",
       "      <td>v-1620320421</td>\n",
       "      <td>False</td>\n",
       "      <td>4422 W 10th Ave</td>\n",
       "      <td>at Trimble St</td>\n",
       "      <td>49.263770</td>\n",
       "      <td>-123.206784</td>\n",
       "      <td>[{'label': 'display', 'lat': 49.26377049638328...</td>\n",
       "      <td>2818</td>\n",
       "      <td>CA</td>\n",
       "      <td>Vancouver</td>\n",
       "      <td>BC</td>\n",
       "      <td>Canada</td>\n",
       "      <td>[4422 W 10th Ave (at Trimble St), Vancouver BC...</td>\n",
       "      <td>V6R 2H9</td>\n",
       "      <td>NaN</td>\n",
       "      <td>NaN</td>\n",
       "    </tr>\n",
       "    <tr>\n",
       "      <th>17</th>\n",
       "      <td>55a85859498ee90cd678e719</td>\n",
       "      <td>Thai Basil Restaurant</td>\n",
       "      <td>[{'id': '4bf58dd8d48988d149941735', 'name': 'T...</td>\n",
       "      <td>v-1620320421</td>\n",
       "      <td>False</td>\n",
       "      <td>3271 W Broadway</td>\n",
       "      <td>NaN</td>\n",
       "      <td>49.264198</td>\n",
       "      <td>-123.177285</td>\n",
       "      <td>[{'label': 'display', 'lat': 49.264198, 'lng':...</td>\n",
       "      <td>687</td>\n",
       "      <td>CA</td>\n",
       "      <td>Vancouver</td>\n",
       "      <td>BC</td>\n",
       "      <td>Canada</td>\n",
       "      <td>[3271 W Broadway, Vancouver BC V6K 2H5, Canada]</td>\n",
       "      <td>V6K 2H5</td>\n",
       "      <td>NaN</td>\n",
       "      <td>NaN</td>\n",
       "    </tr>\n",
       "    <tr>\n",
       "      <th>18</th>\n",
       "      <td>4bbd49fd07809521d481da91</td>\n",
       "      <td>The Best Neighbours Restaurant</td>\n",
       "      <td>[{'id': '4bf58dd8d48988d10e941735', 'name': 'G...</td>\n",
       "      <td>v-1620320421</td>\n",
       "      <td>False</td>\n",
       "      <td>3838 Oak St.</td>\n",
       "      <td>West 22nd Ave.</td>\n",
       "      <td>49.251416</td>\n",
       "      <td>-123.127376</td>\n",
       "      <td>[{'label': 'display', 'lat': 49.25141589346419...</td>\n",
       "      <td>3220</td>\n",
       "      <td>CA</td>\n",
       "      <td>Vancouver</td>\n",
       "      <td>BC</td>\n",
       "      <td>Canada</td>\n",
       "      <td>[3838 Oak St. (West 22nd Ave.), Vancouver BC V...</td>\n",
       "      <td>V5Z 2B3</td>\n",
       "      <td>NaN</td>\n",
       "      <td>NaN</td>\n",
       "    </tr>\n",
       "    <tr>\n",
       "      <th>19</th>\n",
       "      <td>576c4083498e4989bae8764a</td>\n",
       "      <td>Peaceful Restaurant</td>\n",
       "      <td>[{'id': '4bf58dd8d48988d145941735', 'name': 'C...</td>\n",
       "      <td>v-1620320421</td>\n",
       "      <td>False</td>\n",
       "      <td>602 Seymour St</td>\n",
       "      <td>at Dunsmuir St</td>\n",
       "      <td>49.282930</td>\n",
       "      <td>-123.115428</td>\n",
       "      <td>[{'label': 'display', 'lat': 49.28292966132952...</td>\n",
       "      <td>4416</td>\n",
       "      <td>CA</td>\n",
       "      <td>Vancouver</td>\n",
       "      <td>BC</td>\n",
       "      <td>Canada</td>\n",
       "      <td>[602 Seymour St (at Dunsmuir St), Vancouver BC...</td>\n",
       "      <td>NaN</td>\n",
       "      <td>NaN</td>\n",
       "      <td>NaN</td>\n",
       "    </tr>\n",
       "    <tr>\n",
       "      <th>20</th>\n",
       "      <td>4abe7fb7f964a520078e20e3</td>\n",
       "      <td>New Town Bakery &amp; Restaurant</td>\n",
       "      <td>[{'id': '4bf58dd8d48988d145941735', 'name': 'C...</td>\n",
       "      <td>v-1620320421</td>\n",
       "      <td>False</td>\n",
       "      <td>148 E Pender St</td>\n",
       "      <td>Main St</td>\n",
       "      <td>49.280420</td>\n",
       "      <td>-123.101205</td>\n",
       "      <td>[{'label': 'display', 'lat': 49.28042046714889...</td>\n",
       "      <td>5224</td>\n",
       "      <td>CA</td>\n",
       "      <td>Vancouver</td>\n",
       "      <td>BC</td>\n",
       "      <td>Canada</td>\n",
       "      <td>[148 E Pender St (Main St), Vancouver BC V6A 1...</td>\n",
       "      <td>V6A 1T3</td>\n",
       "      <td>NaN</td>\n",
       "      <td>NaN</td>\n",
       "    </tr>\n",
       "    <tr>\n",
       "      <th>21</th>\n",
       "      <td>4aa83730f964a520275020e3</td>\n",
       "      <td>Ki-isu Japanese Restaurant</td>\n",
       "      <td>[{'id': '4bf58dd8d48988d111941735', 'name': 'J...</td>\n",
       "      <td>v-1620320421</td>\n",
       "      <td>False</td>\n",
       "      <td>1275 Pacific Blvd.</td>\n",
       "      <td>at Drake St.</td>\n",
       "      <td>49.273572</td>\n",
       "      <td>-123.123357</td>\n",
       "      <td>[{'label': 'display', 'lat': 49.27357175419056...</td>\n",
       "      <td>3449</td>\n",
       "      <td>CA</td>\n",
       "      <td>Vancouver</td>\n",
       "      <td>BC</td>\n",
       "      <td>Canada</td>\n",
       "      <td>[1275 Pacific Blvd. (at Drake St.), Vancouver ...</td>\n",
       "      <td>V6Z 2R6</td>\n",
       "      <td>NaN</td>\n",
       "      <td>NaN</td>\n",
       "    </tr>\n",
       "    <tr>\n",
       "      <th>22</th>\n",
       "      <td>4d18042881cea35dfee3eaec</td>\n",
       "      <td>Sushi Vancouver Japanese Restaurant</td>\n",
       "      <td>[{'id': '4bf58dd8d48988d111941735', 'name': 'J...</td>\n",
       "      <td>v-1620320421</td>\n",
       "      <td>False</td>\n",
       "      <td>3416 W Broadway</td>\n",
       "      <td>at Waterloo St.</td>\n",
       "      <td>49.264122</td>\n",
       "      <td>-123.180127</td>\n",
       "      <td>[{'label': 'display', 'lat': 49.26412197856093...</td>\n",
       "      <td>889</td>\n",
       "      <td>CA</td>\n",
       "      <td>Vancouver</td>\n",
       "      <td>BC</td>\n",
       "      <td>Canada</td>\n",
       "      <td>[3416 W Broadway (at Waterloo St.), Vancouver ...</td>\n",
       "      <td>V6R 2B3</td>\n",
       "      <td>NaN</td>\n",
       "      <td>NaN</td>\n",
       "    </tr>\n",
       "    <tr>\n",
       "      <th>23</th>\n",
       "      <td>4d9cbcbdc99fb60cb424b88b</td>\n",
       "      <td>New Peace Chinese Restaurant</td>\n",
       "      <td>[{'id': '4bf58dd8d48988d145941735', 'name': 'C...</td>\n",
       "      <td>v-1620320421</td>\n",
       "      <td>False</td>\n",
       "      <td>630 Davie Street</td>\n",
       "      <td>NaN</td>\n",
       "      <td>49.276773</td>\n",
       "      <td>-123.125697</td>\n",
       "      <td>[{'label': 'display', 'lat': 49.27677332282391...</td>\n",
       "      <td>3433</td>\n",
       "      <td>CA</td>\n",
       "      <td>Vancouver</td>\n",
       "      <td>BC</td>\n",
       "      <td>Canada</td>\n",
       "      <td>[630 Davie Street, Vancouver BC, Canada]</td>\n",
       "      <td>NaN</td>\n",
       "      <td>NaN</td>\n",
       "      <td>NaN</td>\n",
       "    </tr>\n",
       "    <tr>\n",
       "      <th>24</th>\n",
       "      <td>4ace7e53f964a520e1d020e3</td>\n",
       "      <td>New India Buffet &amp; Restaurant</td>\n",
       "      <td>[{'id': '4bf58dd8d48988d10f941735', 'name': 'I...</td>\n",
       "      <td>v-1620320421</td>\n",
       "      <td>False</td>\n",
       "      <td>#105 - 805 West Broadway</td>\n",
       "      <td>at Willow St</td>\n",
       "      <td>49.263567</td>\n",
       "      <td>-123.124412</td>\n",
       "      <td>[{'label': 'display', 'lat': 49.26356711854418...</td>\n",
       "      <td>3167</td>\n",
       "      <td>CA</td>\n",
       "      <td>Vancouver</td>\n",
       "      <td>BC</td>\n",
       "      <td>Canada</td>\n",
       "      <td>[#105 - 805 West Broadway (at Willow St), Vanc...</td>\n",
       "      <td>V5Z 1K1</td>\n",
       "      <td>NaN</td>\n",
       "      <td>NaN</td>\n",
       "    </tr>\n",
       "    <tr>\n",
       "      <th>25</th>\n",
       "      <td>5407666f498e6b96e084e978</td>\n",
       "      <td>Hui Fu House Seafood Restaurant 匯富堂滴金會所</td>\n",
       "      <td>[{'id': '52af3a7c3cf9994f4e043bed', 'name': 'C...</td>\n",
       "      <td>v-1620320421</td>\n",
       "      <td>False</td>\n",
       "      <td>#110 - 5701</td>\n",
       "      <td>Granville Street</td>\n",
       "      <td>49.233938</td>\n",
       "      <td>-123.139747</td>\n",
       "      <td>[{'label': 'display', 'lat': 49.233938, 'lng':...</td>\n",
       "      <td>3831</td>\n",
       "      <td>CA</td>\n",
       "      <td>Vancouver</td>\n",
       "      <td>BC</td>\n",
       "      <td>Canada</td>\n",
       "      <td>[#110 - 5701 (Granville Street), Vancouver BC ...</td>\n",
       "      <td>V6M 3C7</td>\n",
       "      <td>NaN</td>\n",
       "      <td>NaN</td>\n",
       "    </tr>\n",
       "    <tr>\n",
       "      <th>26</th>\n",
       "      <td>4c800332d8086dcb62ed5f52</td>\n",
       "      <td>Beijing Garden Restaurant</td>\n",
       "      <td>[{'id': '4bf58dd8d48988d145941735', 'name': 'C...</td>\n",
       "      <td>v-1620320421</td>\n",
       "      <td>False</td>\n",
       "      <td>3492 Cambie St.</td>\n",
       "      <td>NaN</td>\n",
       "      <td>49.254148</td>\n",
       "      <td>-123.115095</td>\n",
       "      <td>[{'label': 'display', 'lat': 49.25414780213013...</td>\n",
       "      <td>3967</td>\n",
       "      <td>CA</td>\n",
       "      <td>Vancouver</td>\n",
       "      <td>BC</td>\n",
       "      <td>Canada</td>\n",
       "      <td>[3492 Cambie St., Vancouver BC V5Y 2A9, Canada]</td>\n",
       "      <td>V5Y 2A9</td>\n",
       "      <td>NaN</td>\n",
       "      <td>NaN</td>\n",
       "    </tr>\n",
       "    <tr>\n",
       "      <th>27</th>\n",
       "      <td>4ab04bfaf964a520ed6620e3</td>\n",
       "      <td>Peaceful Restaurant 和平饭店</td>\n",
       "      <td>[{'id': '4bf58dd8d48988d145941735', 'name': 'C...</td>\n",
       "      <td>v-1620320421</td>\n",
       "      <td>False</td>\n",
       "      <td>532 W Broadway</td>\n",
       "      <td>btwn Cambie &amp; Ash</td>\n",
       "      <td>49.263075</td>\n",
       "      <td>-123.116049</td>\n",
       "      <td>[{'label': 'display', 'lat': 49.26307526580492...</td>\n",
       "      <td>3773</td>\n",
       "      <td>CA</td>\n",
       "      <td>Vancouver</td>\n",
       "      <td>BC</td>\n",
       "      <td>Canada</td>\n",
       "      <td>[532 W Broadway (btwn Cambie &amp; Ash), Vancouver...</td>\n",
       "      <td>V5Z 1E9</td>\n",
       "      <td>NaN</td>\n",
       "      <td>NaN</td>\n",
       "    </tr>\n",
       "    <tr>\n",
       "      <th>28</th>\n",
       "      <td>5e542fb30906ab000b03b406</td>\n",
       "      <td>Original Joe's Restaurant &amp; Bar</td>\n",
       "      <td>[{'id': '4bf58dd8d48988d1c4941735', 'name': 'R...</td>\n",
       "      <td>v-1620320421</td>\n",
       "      <td>False</td>\n",
       "      <td>298 Robson Street</td>\n",
       "      <td>NaN</td>\n",
       "      <td>49.278631</td>\n",
       "      <td>-123.116027</td>\n",
       "      <td>[{'label': 'display', 'lat': 49.27863102698563...</td>\n",
       "      <td>4156</td>\n",
       "      <td>CA</td>\n",
       "      <td>Vancouver</td>\n",
       "      <td>BC</td>\n",
       "      <td>Canada</td>\n",
       "      <td>[298 Robson Street, Vancouver BC V6B 6A1, Canada]</td>\n",
       "      <td>V6B 6A1</td>\n",
       "      <td>NaN</td>\n",
       "      <td>NaN</td>\n",
       "    </tr>\n",
       "    <tr>\n",
       "      <th>29</th>\n",
       "      <td>4aa82b93f964a520c84f20e3</td>\n",
       "      <td>Yagger's Downtown Restaurant &amp; Sports Bar</td>\n",
       "      <td>[{'id': '4bf58dd8d48988d11d941735', 'name': 'S...</td>\n",
       "      <td>v-1620320421</td>\n",
       "      <td>False</td>\n",
       "      <td>433 West Pender</td>\n",
       "      <td>Homer</td>\n",
       "      <td>49.283161</td>\n",
       "      <td>-123.112503</td>\n",
       "      <td>[{'label': 'display', 'lat': 49.28316092121001...</td>\n",
       "      <td>4613</td>\n",
       "      <td>CA</td>\n",
       "      <td>Vancouver</td>\n",
       "      <td>BC</td>\n",
       "      <td>Canada</td>\n",
       "      <td>[433 West Pender (Homer), Vancouver BC V6B 1V2...</td>\n",
       "      <td>V6B 1V2</td>\n",
       "      <td>NaN</td>\n",
       "      <td>41496929</td>\n",
       "    </tr>\n",
       "    <tr>\n",
       "      <th>30</th>\n",
       "      <td>4bc54d1a0a30d13a70f0599c</td>\n",
       "      <td>Piatzo Fine Italian Restaurant</td>\n",
       "      <td>[{'id': '4bf58dd8d48988d110941735', 'name': 'I...</td>\n",
       "      <td>v-1620320421</td>\n",
       "      <td>False</td>\n",
       "      <td>1629 Yew St</td>\n",
       "      <td>btw W. 1st Ave &amp; York Ave</td>\n",
       "      <td>49.271221</td>\n",
       "      <td>-123.155140</td>\n",
       "      <td>[{'label': 'display', 'lat': 49.27122083560716...</td>\n",
       "      <td>1307</td>\n",
       "      <td>CA</td>\n",
       "      <td>Vancouver</td>\n",
       "      <td>BC</td>\n",
       "      <td>Canada</td>\n",
       "      <td>[1629 Yew St (btw W. 1st Ave &amp; York Ave), Vanc...</td>\n",
       "      <td>V6K 3E6</td>\n",
       "      <td>NaN</td>\n",
       "      <td>NaN</td>\n",
       "    </tr>\n",
       "    <tr>\n",
       "      <th>31</th>\n",
       "      <td>4b03579ef964a520c14e22e3</td>\n",
       "      <td>Simpatico Greek Restaurant</td>\n",
       "      <td>[{'id': '4bf58dd8d48988d10e941735', 'name': 'G...</td>\n",
       "      <td>v-1620320421</td>\n",
       "      <td>False</td>\n",
       "      <td>2222 W 4th Ave</td>\n",
       "      <td>at Yew St</td>\n",
       "      <td>49.268114</td>\n",
       "      <td>-123.155861</td>\n",
       "      <td>[{'label': 'display', 'lat': 49.26811443843843...</td>\n",
       "      <td>1049</td>\n",
       "      <td>CA</td>\n",
       "      <td>Vancouver</td>\n",
       "      <td>BC</td>\n",
       "      <td>Canada</td>\n",
       "      <td>[2222 W 4th Ave (at Yew St), Vancouver BC V6K ...</td>\n",
       "      <td>V6K 1N8</td>\n",
       "      <td>Kitsilano</td>\n",
       "      <td>NaN</td>\n",
       "    </tr>\n",
       "    <tr>\n",
       "      <th>32</th>\n",
       "      <td>4aa7f160f964a5201c4e20e3</td>\n",
       "      <td>Cardero's Restaurant</td>\n",
       "      <td>[{'id': '4bf58dd8d48988d1ce941735', 'name': 'S...</td>\n",
       "      <td>v-1620320421</td>\n",
       "      <td>False</td>\n",
       "      <td>1583 Coal Harbour Quay</td>\n",
       "      <td>btwn Cardero &amp; Nicola</td>\n",
       "      <td>49.291655</td>\n",
       "      <td>-123.127686</td>\n",
       "      <td>[{'label': 'display', 'lat': 49.29165502242156...</td>\n",
       "      <td>4329</td>\n",
       "      <td>CA</td>\n",
       "      <td>Vancouver</td>\n",
       "      <td>BC</td>\n",
       "      <td>Canada</td>\n",
       "      <td>[1583 Coal Harbour Quay (btwn Cardero &amp; Nicola...</td>\n",
       "      <td>V6G 3E7</td>\n",
       "      <td>NaN</td>\n",
       "      <td>409700458</td>\n",
       "    </tr>\n",
       "    <tr>\n",
       "      <th>33</th>\n",
       "      <td>5c8d886ab25fee002cf99a9d</td>\n",
       "      <td>Unchai Restaurant</td>\n",
       "      <td>[{'id': '4bf58dd8d48988d149941735', 'name': 'T...</td>\n",
       "      <td>v-1620320421</td>\n",
       "      <td>False</td>\n",
       "      <td>2351 Burrard St</td>\n",
       "      <td>NaN</td>\n",
       "      <td>49.265059</td>\n",
       "      <td>-123.145901</td>\n",
       "      <td>[{'label': 'display', 'lat': 49.265059, 'lng':...</td>\n",
       "      <td>1621</td>\n",
       "      <td>CA</td>\n",
       "      <td>Vancouver</td>\n",
       "      <td>BC</td>\n",
       "      <td>Canada</td>\n",
       "      <td>[2351 Burrard St, Vancouver BC V6J 3J2, Canada]</td>\n",
       "      <td>V6J 3J2</td>\n",
       "      <td>NaN</td>\n",
       "      <td>NaN</td>\n",
       "    </tr>\n",
       "    <tr>\n",
       "      <th>34</th>\n",
       "      <td>4ac379f4f964a520729b20e3</td>\n",
       "      <td>Paul's Place Omelettery Restaurant</td>\n",
       "      <td>[{'id': '4bf58dd8d48988d143941735', 'name': 'B...</td>\n",
       "      <td>v-1620320421</td>\n",
       "      <td>False</td>\n",
       "      <td>2211 Granville St.</td>\n",
       "      <td>at 6th Ave.</td>\n",
       "      <td>49.265958</td>\n",
       "      <td>-123.138666</td>\n",
       "      <td>[{'label': 'display', 'lat': 49.26595839818820...</td>\n",
       "      <td>2156</td>\n",
       "      <td>CA</td>\n",
       "      <td>Vancouver</td>\n",
       "      <td>BC</td>\n",
       "      <td>Canada</td>\n",
       "      <td>[2211 Granville St. (at 6th Ave.), Vancouver B...</td>\n",
       "      <td>V6H 3G1</td>\n",
       "      <td>NaN</td>\n",
       "      <td>57645281</td>\n",
       "    </tr>\n",
       "    <tr>\n",
       "      <th>35</th>\n",
       "      <td>5b6e4399a4ba7c002c1a9c79</td>\n",
       "      <td>Thai Basil Restaurant</td>\n",
       "      <td>[{'id': '4bf58dd8d48988d149941735', 'name': 'T...</td>\n",
       "      <td>v-1620320421</td>\n",
       "      <td>False</td>\n",
       "      <td>2184 Cornwall Avenue</td>\n",
       "      <td>NaN</td>\n",
       "      <td>49.272474</td>\n",
       "      <td>-123.154529</td>\n",
       "      <td>[{'label': 'display', 'lat': 49.27247353085836...</td>\n",
       "      <td>1438</td>\n",
       "      <td>CA</td>\n",
       "      <td>Vancouver</td>\n",
       "      <td>BC</td>\n",
       "      <td>Canada</td>\n",
       "      <td>[2184 Cornwall Avenue, Vancouver BC V6K 1B4, C...</td>\n",
       "      <td>V6K 1B4</td>\n",
       "      <td>NaN</td>\n",
       "      <td>NaN</td>\n",
       "    </tr>\n",
       "    <tr>\n",
       "      <th>36</th>\n",
       "      <td>4cbb45c5f50e224b51b9f8fb</td>\n",
       "      <td>Grand Honour Restaurant</td>\n",
       "      <td>[{'id': '4bf58dd8d48988d142941735', 'name': 'A...</td>\n",
       "      <td>v-1620320421</td>\n",
       "      <td>False</td>\n",
       "      <td>5668 Granville St.</td>\n",
       "      <td>at 41st Ave.</td>\n",
       "      <td>49.234315</td>\n",
       "      <td>-123.139963</td>\n",
       "      <td>[{'label': 'display', 'lat': 49.2343145994551,...</td>\n",
       "      <td>3787</td>\n",
       "      <td>CA</td>\n",
       "      <td>Vancouver</td>\n",
       "      <td>BC</td>\n",
       "      <td>Canada</td>\n",
       "      <td>[5668 Granville St. (at 41st Ave.), Vancouver ...</td>\n",
       "      <td>NaN</td>\n",
       "      <td>NaN</td>\n",
       "      <td>NaN</td>\n",
       "    </tr>\n",
       "    <tr>\n",
       "      <th>37</th>\n",
       "      <td>4aa7fa55f964a5206a4e20e3</td>\n",
       "      <td>Bishop's Restaurant</td>\n",
       "      <td>[{'id': '4bf58dd8d48988d1c4941735', 'name': 'R...</td>\n",
       "      <td>v-1620320421</td>\n",
       "      <td>False</td>\n",
       "      <td>2183 4th Avenue W</td>\n",
       "      <td>NaN</td>\n",
       "      <td>49.268256</td>\n",
       "      <td>-123.154663</td>\n",
       "      <td>[{'label': 'display', 'lat': 49.2682562502592,...</td>\n",
       "      <td>1131</td>\n",
       "      <td>CA</td>\n",
       "      <td>Vancouver</td>\n",
       "      <td>BC</td>\n",
       "      <td>Canada</td>\n",
       "      <td>[2183 4th Avenue W, Vancouver BC V6K 1N7, Canada]</td>\n",
       "      <td>V6K 1N7</td>\n",
       "      <td>NaN</td>\n",
       "      <td>NaN</td>\n",
       "    </tr>\n",
       "    <tr>\n",
       "      <th>38</th>\n",
       "      <td>4b50afe3f964a520822d27e3</td>\n",
       "      <td>Prestons Restaurant + Lounge Vancouver</td>\n",
       "      <td>[{'id': '4bf58dd8d48988d1c4941735', 'name': 'R...</td>\n",
       "      <td>v-1620320421</td>\n",
       "      <td>False</td>\n",
       "      <td>1177 West Pender St</td>\n",
       "      <td>Pender &amp; Bute</td>\n",
       "      <td>49.288219</td>\n",
       "      <td>-123.122225</td>\n",
       "      <td>[{'label': 'display', 'lat': 49.288219, 'lng':...</td>\n",
       "      <td>4351</td>\n",
       "      <td>CA</td>\n",
       "      <td>Vancouver</td>\n",
       "      <td>BC</td>\n",
       "      <td>Canada</td>\n",
       "      <td>[1177 West Pender St (Pender &amp; Bute), Vancouve...</td>\n",
       "      <td>V6E 2P4</td>\n",
       "      <td>NaN</td>\n",
       "      <td>33794062</td>\n",
       "    </tr>\n",
       "    <tr>\n",
       "      <th>39</th>\n",
       "      <td>4bd4fae529eb9c7406c492e1</td>\n",
       "      <td>Chongqing Chinese Restaurant</td>\n",
       "      <td>[{'id': '4bf58dd8d48988d145941735', 'name': 'C...</td>\n",
       "      <td>v-1620320421</td>\n",
       "      <td>False</td>\n",
       "      <td>1260 Robson St.</td>\n",
       "      <td>Jervis</td>\n",
       "      <td>49.286508</td>\n",
       "      <td>-123.128012</td>\n",
       "      <td>[{'label': 'display', 'lat': 49.286508, 'lng':...</td>\n",
       "      <td>3909</td>\n",
       "      <td>CA</td>\n",
       "      <td>Vancouver</td>\n",
       "      <td>BC</td>\n",
       "      <td>Canada</td>\n",
       "      <td>[1260 Robson St. (Jervis), Vancouver BC V6E 1C...</td>\n",
       "      <td>V6E 1C2</td>\n",
       "      <td>NaN</td>\n",
       "      <td>NaN</td>\n",
       "    </tr>\n",
       "    <tr>\n",
       "      <th>40</th>\n",
       "      <td>50022eace4b0fbfbe9a7d77e</td>\n",
       "      <td>Shanghai Xiao Long Bao Restaurant 上海九鼎</td>\n",
       "      <td>[{'id': '4bf58dd8d48988d145941735', 'name': 'C...</td>\n",
       "      <td>v-1620320421</td>\n",
       "      <td>False</td>\n",
       "      <td>469 Richards St</td>\n",
       "      <td>at W Pender St</td>\n",
       "      <td>49.283610</td>\n",
       "      <td>-123.112657</td>\n",
       "      <td>[{'label': 'display', 'lat': 49.28361009495606...</td>\n",
       "      <td>4628</td>\n",
       "      <td>CA</td>\n",
       "      <td>Vancouver</td>\n",
       "      <td>BC</td>\n",
       "      <td>Canada</td>\n",
       "      <td>[469 Richards St (at W Pender St), Vancouver B...</td>\n",
       "      <td>V6B 6H6</td>\n",
       "      <td>NaN</td>\n",
       "      <td>NaN</td>\n",
       "    </tr>\n",
       "    <tr>\n",
       "      <th>41</th>\n",
       "      <td>4ac56bedf964a520fab120e3</td>\n",
       "      <td>Kirin Mandarin Restaurant</td>\n",
       "      <td>[{'id': '4bf58dd8d48988d145941735', 'name': 'C...</td>\n",
       "      <td>v-1620320421</td>\n",
       "      <td>False</td>\n",
       "      <td>1172 Alberni St.</td>\n",
       "      <td>at Bute St.</td>\n",
       "      <td>49.286360</td>\n",
       "      <td>-123.125457</td>\n",
       "      <td>[{'label': 'display', 'lat': 49.28636030912857...</td>\n",
       "      <td>4038</td>\n",
       "      <td>CA</td>\n",
       "      <td>Vancouver</td>\n",
       "      <td>BC</td>\n",
       "      <td>Canada</td>\n",
       "      <td>[1172 Alberni St. (at Bute St.), Vancouver BC ...</td>\n",
       "      <td>V6E</td>\n",
       "      <td>NaN</td>\n",
       "      <td>NaN</td>\n",
       "    </tr>\n",
       "    <tr>\n",
       "      <th>42</th>\n",
       "      <td>56f051ab498ec3899332f6cd</td>\n",
       "      <td>Kits Indian Restaurant</td>\n",
       "      <td>[{'id': '4bf58dd8d48988d10f941735', 'name': 'I...</td>\n",
       "      <td>v-1620320421</td>\n",
       "      <td>False</td>\n",
       "      <td>2445 Burrard St</td>\n",
       "      <td>Nicola</td>\n",
       "      <td>49.264076</td>\n",
       "      <td>-123.146009</td>\n",
       "      <td>[{'label': 'display', 'lat': 49.26407646977235...</td>\n",
       "      <td>1601</td>\n",
       "      <td>CA</td>\n",
       "      <td>Vancouver</td>\n",
       "      <td>BC</td>\n",
       "      <td>Canada</td>\n",
       "      <td>[2445 Burrard St (Nicola), Vancouver BC V6J 3J...</td>\n",
       "      <td>V6J 3J3</td>\n",
       "      <td>NaN</td>\n",
       "      <td>NaN</td>\n",
       "    </tr>\n",
       "    <tr>\n",
       "      <th>43</th>\n",
       "      <td>4cf977b92d80a14398f73dd8</td>\n",
       "      <td>Royal Restaurant</td>\n",
       "      <td>[{'id': '4bf58dd8d48988d142941735', 'name': 'A...</td>\n",
       "      <td>v-1620320421</td>\n",
       "      <td>False</td>\n",
       "      <td>1655 burrard st</td>\n",
       "      <td>NaN</td>\n",
       "      <td>49.269145</td>\n",
       "      <td>-123.145730</td>\n",
       "      <td>[{'label': 'display', 'lat': 49.269145, 'lng':...</td>\n",
       "      <td>1756</td>\n",
       "      <td>CA</td>\n",
       "      <td>Vancouver</td>\n",
       "      <td>BC</td>\n",
       "      <td>Canada</td>\n",
       "      <td>[1655 burrard st, Vancouver BC, Canada]</td>\n",
       "      <td>NaN</td>\n",
       "      <td>NaN</td>\n",
       "      <td>NaN</td>\n",
       "    </tr>\n",
       "    <tr>\n",
       "      <th>44</th>\n",
       "      <td>4dbb6ba343a1d8504b70505f</td>\n",
       "      <td>Royal Fortune Restaurant</td>\n",
       "      <td>[{'id': '4bf58dd8d48988d145941735', 'name': 'C...</td>\n",
       "      <td>v-1620320421</td>\n",
       "      <td>False</td>\n",
       "      <td>3944 Fraser street</td>\n",
       "      <td>23 Ave</td>\n",
       "      <td>49.249634</td>\n",
       "      <td>-123.089823</td>\n",
       "      <td>[{'label': 'display', 'lat': 49.24963419766788...</td>\n",
       "      <td>5871</td>\n",
       "      <td>CA</td>\n",
       "      <td>Vancouver</td>\n",
       "      <td>BC</td>\n",
       "      <td>Canada</td>\n",
       "      <td>[3944 Fraser street (23 Ave), Vancouver BC V5V...</td>\n",
       "      <td>V5V</td>\n",
       "      <td>NaN</td>\n",
       "      <td>NaN</td>\n",
       "    </tr>\n",
       "    <tr>\n",
       "      <th>45</th>\n",
       "      <td>522bea74498ede28e9a5b2d5</td>\n",
       "      <td>Kuma Japanese Restaurant</td>\n",
       "      <td>[{'id': '4bf58dd8d48988d111941735', 'name': 'J...</td>\n",
       "      <td>v-1620320421</td>\n",
       "      <td>False</td>\n",
       "      <td>3446 Dunbar St.</td>\n",
       "      <td>NaN</td>\n",
       "      <td>49.256142</td>\n",
       "      <td>-123.184942</td>\n",
       "      <td>[{'label': 'display', 'lat': 49.25614232341938...</td>\n",
       "      <td>1448</td>\n",
       "      <td>CA</td>\n",
       "      <td>Vancouver</td>\n",
       "      <td>BC</td>\n",
       "      <td>Canada</td>\n",
       "      <td>[3446 Dunbar St., Vancouver BC, Canada]</td>\n",
       "      <td>NaN</td>\n",
       "      <td>NaN</td>\n",
       "      <td>NaN</td>\n",
       "    </tr>\n",
       "    <tr>\n",
       "      <th>46</th>\n",
       "      <td>4aa9d009f964a5205b5520e3</td>\n",
       "      <td>Showcase Restaurant and Bar</td>\n",
       "      <td>[{'id': '4bf58dd8d48988d1c4941735', 'name': 'R...</td>\n",
       "      <td>v-1620320421</td>\n",
       "      <td>False</td>\n",
       "      <td>1122 W Hastings St.</td>\n",
       "      <td>at Thurlow St.</td>\n",
       "      <td>49.288078</td>\n",
       "      <td>-123.120282</td>\n",
       "      <td>[{'label': 'display', 'lat': 49.28807814093806...</td>\n",
       "      <td>4450</td>\n",
       "      <td>CA</td>\n",
       "      <td>Vancouver</td>\n",
       "      <td>BC</td>\n",
       "      <td>Canada</td>\n",
       "      <td>[1122 W Hastings St. (at Thurlow St.), Vancouv...</td>\n",
       "      <td>V6E 4R5</td>\n",
       "      <td>NaN</td>\n",
       "      <td>83873644</td>\n",
       "    </tr>\n",
       "    <tr>\n",
       "      <th>47</th>\n",
       "      <td>4d8a902e7d4c548136636c71</td>\n",
       "      <td>Timkee Restaurant</td>\n",
       "      <td>[{'id': '4bf58dd8d48988d145941735', 'name': 'C...</td>\n",
       "      <td>v-1620320421</td>\n",
       "      <td>False</td>\n",
       "      <td>2365 Burrard Street</td>\n",
       "      <td>NaN</td>\n",
       "      <td>49.264904</td>\n",
       "      <td>-123.145938</td>\n",
       "      <td>[{'label': 'display', 'lat': 49.26490430231064...</td>\n",
       "      <td>1616</td>\n",
       "      <td>CA</td>\n",
       "      <td>Vancouver</td>\n",
       "      <td>BC</td>\n",
       "      <td>Canada</td>\n",
       "      <td>[2365 Burrard Street, Vancouver BC, Canada]</td>\n",
       "      <td>NaN</td>\n",
       "      <td>NaN</td>\n",
       "      <td>NaN</td>\n",
       "    </tr>\n",
       "    <tr>\n",
       "      <th>48</th>\n",
       "      <td>4aa837e6f964a5202c5020e3</td>\n",
       "      <td>McLean's Restaurant</td>\n",
       "      <td>[{'id': '4bf58dd8d48988d143941735', 'name': 'B...</td>\n",
       "      <td>v-1620320421</td>\n",
       "      <td>False</td>\n",
       "      <td>332 Water Street</td>\n",
       "      <td>Cambie Street</td>\n",
       "      <td>49.284376</td>\n",
       "      <td>-123.109509</td>\n",
       "      <td>[{'label': 'display', 'lat': 49.2843757721172,...</td>\n",
       "      <td>4869</td>\n",
       "      <td>CA</td>\n",
       "      <td>Vancouver</td>\n",
       "      <td>BC</td>\n",
       "      <td>Canada</td>\n",
       "      <td>[332 Water Street (Cambie Street), Vancouver B...</td>\n",
       "      <td>V6B 1B6</td>\n",
       "      <td>NaN</td>\n",
       "      <td>NaN</td>\n",
       "    </tr>\n",
       "    <tr>\n",
       "      <th>49</th>\n",
       "      <td>4cdc678c22bd721eb300fb47</td>\n",
       "      <td>Thai Star Restaurant</td>\n",
       "      <td>[{'id': '4bf58dd8d48988d149941735', 'name': 'T...</td>\n",
       "      <td>v-1620320421</td>\n",
       "      <td>False</td>\n",
       "      <td>1629 Yew St</td>\n",
       "      <td>btwn York &amp; W 1st</td>\n",
       "      <td>49.271200</td>\n",
       "      <td>-123.154993</td>\n",
       "      <td>[{'label': 'display', 'lat': 49.27119988195726...</td>\n",
       "      <td>1313</td>\n",
       "      <td>CA</td>\n",
       "      <td>Vancouver</td>\n",
       "      <td>BC</td>\n",
       "      <td>Canada</td>\n",
       "      <td>[1629 Yew St (btwn York &amp; W 1st), Vancouver BC...</td>\n",
       "      <td>V6K 3E6</td>\n",
       "      <td>NaN</td>\n",
       "      <td>NaN</td>\n",
       "    </tr>\n",
       "  </tbody>\n",
       "</table>\n",
       "</div>"
      ],
      "text/plain": [
       "                          id                                       name  \\\n",
       "0   4e9a75a3d3e3697fbfda59ee              Yagger's Kitsilano Restaurant   \n",
       "1   4c0c0244a1b32d7f5be49bf0                   The Boathouse Restaurant   \n",
       "2   51c8fd70498e48a12893ba67                   Peaceful Restaurant 和平饭店   \n",
       "3   4ac4169cf964a5202b9e20e3              Hi Nippon Japanese Restaurant   \n",
       "4   4bf1a603324cc9b68a49cc92                   Ridge Gardens Restaurant   \n",
       "5   4aceae40f964a520aad120e3                    Iki Japanese Restaurant   \n",
       "6   4ac28159f964a5206e9920e3            Hoshi Sushi Japanese Restaurant   \n",
       "7   4aa83aacf964a520405020e3                        Dockside Restaurant   \n",
       "8   4d683de960366a31507d4106                Broadway Chinese Restaurant   \n",
       "9   4aa7d91ef964a520944d20e3                        The Naam Restaurant   \n",
       "10  4aa83c06f964a5204d5020e3             The Sandbar Seafood Restaurant   \n",
       "11  594c70a00336931c7f390429                          Na Jia Restaurant   \n",
       "12  4d2cce46ae3a8cfa4067bf70                      Hawksworth Restaurant   \n",
       "13  50527ea7e4b0588850a3fbab                          España Restaurant   \n",
       "14  4b342ac8f964a520b92525e3          Dynasty Seafood Restaurant 皇朝海鮮酒家   \n",
       "15  4aa839aef964a520385020e3                 Afghan Horsemen Restaurant   \n",
       "16  5264889711d205ec029d2e6a                 Takumi Japanese Restaurant   \n",
       "17  55a85859498ee90cd678e719                      Thai Basil Restaurant   \n",
       "18  4bbd49fd07809521d481da91             The Best Neighbours Restaurant   \n",
       "19  576c4083498e4989bae8764a                        Peaceful Restaurant   \n",
       "20  4abe7fb7f964a520078e20e3               New Town Bakery & Restaurant   \n",
       "21  4aa83730f964a520275020e3                 Ki-isu Japanese Restaurant   \n",
       "22  4d18042881cea35dfee3eaec        Sushi Vancouver Japanese Restaurant   \n",
       "23  4d9cbcbdc99fb60cb424b88b               New Peace Chinese Restaurant   \n",
       "24  4ace7e53f964a520e1d020e3              New India Buffet & Restaurant   \n",
       "25  5407666f498e6b96e084e978    Hui Fu House Seafood Restaurant 匯富堂滴金會所   \n",
       "26  4c800332d8086dcb62ed5f52                  Beijing Garden Restaurant   \n",
       "27  4ab04bfaf964a520ed6620e3                   Peaceful Restaurant 和平饭店   \n",
       "28  5e542fb30906ab000b03b406            Original Joe's Restaurant & Bar   \n",
       "29  4aa82b93f964a520c84f20e3  Yagger's Downtown Restaurant & Sports Bar   \n",
       "30  4bc54d1a0a30d13a70f0599c             Piatzo Fine Italian Restaurant   \n",
       "31  4b03579ef964a520c14e22e3                 Simpatico Greek Restaurant   \n",
       "32  4aa7f160f964a5201c4e20e3                       Cardero's Restaurant   \n",
       "33  5c8d886ab25fee002cf99a9d                          Unchai Restaurant   \n",
       "34  4ac379f4f964a520729b20e3         Paul's Place Omelettery Restaurant   \n",
       "35  5b6e4399a4ba7c002c1a9c79                      Thai Basil Restaurant   \n",
       "36  4cbb45c5f50e224b51b9f8fb                    Grand Honour Restaurant   \n",
       "37  4aa7fa55f964a5206a4e20e3                        Bishop's Restaurant   \n",
       "38  4b50afe3f964a520822d27e3     Prestons Restaurant + Lounge Vancouver   \n",
       "39  4bd4fae529eb9c7406c492e1               Chongqing Chinese Restaurant   \n",
       "40  50022eace4b0fbfbe9a7d77e     Shanghai Xiao Long Bao Restaurant 上海九鼎   \n",
       "41  4ac56bedf964a520fab120e3                  Kirin Mandarin Restaurant   \n",
       "42  56f051ab498ec3899332f6cd                     Kits Indian Restaurant   \n",
       "43  4cf977b92d80a14398f73dd8                           Royal Restaurant   \n",
       "44  4dbb6ba343a1d8504b70505f                   Royal Fortune Restaurant   \n",
       "45  522bea74498ede28e9a5b2d5                   Kuma Japanese Restaurant   \n",
       "46  4aa9d009f964a5205b5520e3                Showcase Restaurant and Bar   \n",
       "47  4d8a902e7d4c548136636c71                          Timkee Restaurant   \n",
       "48  4aa837e6f964a5202c5020e3                        McLean's Restaurant   \n",
       "49  4cdc678c22bd721eb300fb47                       Thai Star Restaurant   \n",
       "\n",
       "                                           categories    referralId  hasPerk  \\\n",
       "0   [{'id': '4bf58dd8d48988d11b941735', 'name': 'P...  v-1620320421    False   \n",
       "1   [{'id': '4bf58dd8d48988d1ce941735', 'name': 'S...  v-1620320421    False   \n",
       "2   [{'id': '4bf58dd8d48988d145941735', 'name': 'C...  v-1620320421    False   \n",
       "3   [{'id': '4bf58dd8d48988d111941735', 'name': 'J...  v-1620320421    False   \n",
       "4   [{'id': '4bf58dd8d48988d145941735', 'name': 'C...  v-1620320421    False   \n",
       "5   [{'id': '4bf58dd8d48988d111941735', 'name': 'J...  v-1620320421    False   \n",
       "6   [{'id': '4bf58dd8d48988d1d2941735', 'name': 'S...  v-1620320421    False   \n",
       "7   [{'id': '4bf58dd8d48988d1ce941735', 'name': 'S...  v-1620320421    False   \n",
       "8   [{'id': '4bf58dd8d48988d145941735', 'name': 'C...  v-1620320421    False   \n",
       "9   [{'id': '4bf58dd8d48988d1d3941735', 'name': 'V...  v-1620320421    False   \n",
       "10  [{'id': '4bf58dd8d48988d1ce941735', 'name': 'S...  v-1620320421    False   \n",
       "11  [{'id': '4bf58dd8d48988d145941735', 'name': 'C...  v-1620320421    False   \n",
       "12  [{'id': '4bf58dd8d48988d121941735', 'name': 'L...  v-1620320421    False   \n",
       "13  [{'id': '4bf58dd8d48988d150941735', 'name': 'S...  v-1620320421    False   \n",
       "14  [{'id': '4bf58dd8d48988d145941735', 'name': 'C...  v-1620320421    False   \n",
       "15  [{'id': '4bf58dd8d48988d115941735', 'name': 'M...  v-1620320421    False   \n",
       "16  [{'id': '4bf58dd8d48988d111941735', 'name': 'J...  v-1620320421    False   \n",
       "17  [{'id': '4bf58dd8d48988d149941735', 'name': 'T...  v-1620320421    False   \n",
       "18  [{'id': '4bf58dd8d48988d10e941735', 'name': 'G...  v-1620320421    False   \n",
       "19  [{'id': '4bf58dd8d48988d145941735', 'name': 'C...  v-1620320421    False   \n",
       "20  [{'id': '4bf58dd8d48988d145941735', 'name': 'C...  v-1620320421    False   \n",
       "21  [{'id': '4bf58dd8d48988d111941735', 'name': 'J...  v-1620320421    False   \n",
       "22  [{'id': '4bf58dd8d48988d111941735', 'name': 'J...  v-1620320421    False   \n",
       "23  [{'id': '4bf58dd8d48988d145941735', 'name': 'C...  v-1620320421    False   \n",
       "24  [{'id': '4bf58dd8d48988d10f941735', 'name': 'I...  v-1620320421    False   \n",
       "25  [{'id': '52af3a7c3cf9994f4e043bed', 'name': 'C...  v-1620320421    False   \n",
       "26  [{'id': '4bf58dd8d48988d145941735', 'name': 'C...  v-1620320421    False   \n",
       "27  [{'id': '4bf58dd8d48988d145941735', 'name': 'C...  v-1620320421    False   \n",
       "28  [{'id': '4bf58dd8d48988d1c4941735', 'name': 'R...  v-1620320421    False   \n",
       "29  [{'id': '4bf58dd8d48988d11d941735', 'name': 'S...  v-1620320421    False   \n",
       "30  [{'id': '4bf58dd8d48988d110941735', 'name': 'I...  v-1620320421    False   \n",
       "31  [{'id': '4bf58dd8d48988d10e941735', 'name': 'G...  v-1620320421    False   \n",
       "32  [{'id': '4bf58dd8d48988d1ce941735', 'name': 'S...  v-1620320421    False   \n",
       "33  [{'id': '4bf58dd8d48988d149941735', 'name': 'T...  v-1620320421    False   \n",
       "34  [{'id': '4bf58dd8d48988d143941735', 'name': 'B...  v-1620320421    False   \n",
       "35  [{'id': '4bf58dd8d48988d149941735', 'name': 'T...  v-1620320421    False   \n",
       "36  [{'id': '4bf58dd8d48988d142941735', 'name': 'A...  v-1620320421    False   \n",
       "37  [{'id': '4bf58dd8d48988d1c4941735', 'name': 'R...  v-1620320421    False   \n",
       "38  [{'id': '4bf58dd8d48988d1c4941735', 'name': 'R...  v-1620320421    False   \n",
       "39  [{'id': '4bf58dd8d48988d145941735', 'name': 'C...  v-1620320421    False   \n",
       "40  [{'id': '4bf58dd8d48988d145941735', 'name': 'C...  v-1620320421    False   \n",
       "41  [{'id': '4bf58dd8d48988d145941735', 'name': 'C...  v-1620320421    False   \n",
       "42  [{'id': '4bf58dd8d48988d10f941735', 'name': 'I...  v-1620320421    False   \n",
       "43  [{'id': '4bf58dd8d48988d142941735', 'name': 'A...  v-1620320421    False   \n",
       "44  [{'id': '4bf58dd8d48988d145941735', 'name': 'C...  v-1620320421    False   \n",
       "45  [{'id': '4bf58dd8d48988d111941735', 'name': 'J...  v-1620320421    False   \n",
       "46  [{'id': '4bf58dd8d48988d1c4941735', 'name': 'R...  v-1620320421    False   \n",
       "47  [{'id': '4bf58dd8d48988d145941735', 'name': 'C...  v-1620320421    False   \n",
       "48  [{'id': '4bf58dd8d48988d143941735', 'name': 'B...  v-1620320421    False   \n",
       "49  [{'id': '4bf58dd8d48988d149941735', 'name': 'T...  v-1620320421    False   \n",
       "\n",
       "            location.address                   location.crossStreet  \\\n",
       "0            2884 W Broadway             btwn Macdonald & Mackenzie   \n",
       "1            1305 Arbutus St                               Cornwall   \n",
       "2             2394 W 4th Ave                           at Balsam St   \n",
       "3            2274 W 4th Ave.                            at Vine St.   \n",
       "4      4009 Macdonald Street                       West 24th Avenue   \n",
       "5            2756 W Broadway                       at Macdonald St.   \n",
       "6            2825 W Broadway             btwn Mackenzie & MacDonald   \n",
       "7           1253 Johnston St  btwn Old Bridge Street and Cartwright   \n",
       "8         1410 West Broadway                            Hemlock St.   \n",
       "9             2724 W 4th Ave                         at Stephens St   \n",
       "10         1536 Johnston St.                       Granville Island   \n",
       "11                       NaN                                    NaN   \n",
       "12          801 W Georgia St                             at Howe St   \n",
       "13           1118 Denman St.                        at Pendrell St.   \n",
       "14        108-777 W Broadway                                    NaN   \n",
       "15  202-1833 Anderson Street            @ Granville Island Entrance   \n",
       "16           4422 W 10th Ave                          at Trimble St   \n",
       "17           3271 W Broadway                                    NaN   \n",
       "18              3838 Oak St.                         West 22nd Ave.   \n",
       "19            602 Seymour St                         at Dunsmuir St   \n",
       "20           148 E Pender St                                Main St   \n",
       "21        1275 Pacific Blvd.                           at Drake St.   \n",
       "22           3416 W Broadway                        at Waterloo St.   \n",
       "23          630 Davie Street                                    NaN   \n",
       "24  #105 - 805 West Broadway                           at Willow St   \n",
       "25               #110 - 5701                       Granville Street   \n",
       "26           3492 Cambie St.                                    NaN   \n",
       "27            532 W Broadway                      btwn Cambie & Ash   \n",
       "28         298 Robson Street                                    NaN   \n",
       "29           433 West Pender                                  Homer   \n",
       "30               1629 Yew St              btw W. 1st Ave & York Ave   \n",
       "31            2222 W 4th Ave                              at Yew St   \n",
       "32    1583 Coal Harbour Quay                  btwn Cardero & Nicola   \n",
       "33           2351 Burrard St                                    NaN   \n",
       "34        2211 Granville St.                            at 6th Ave.   \n",
       "35      2184 Cornwall Avenue                                    NaN   \n",
       "36        5668 Granville St.                           at 41st Ave.   \n",
       "37         2183 4th Avenue W                                    NaN   \n",
       "38       1177 West Pender St                          Pender & Bute   \n",
       "39           1260 Robson St.                                 Jervis   \n",
       "40           469 Richards St                         at W Pender St   \n",
       "41          1172 Alberni St.                            at Bute St.   \n",
       "42           2445 Burrard St                                 Nicola   \n",
       "43           1655 burrard st                                    NaN   \n",
       "44        3944 Fraser street                                 23 Ave   \n",
       "45           3446 Dunbar St.                                    NaN   \n",
       "46       1122 W Hastings St.                         at Thurlow St.   \n",
       "47       2365 Burrard Street                                    NaN   \n",
       "48          332 Water Street                          Cambie Street   \n",
       "49               1629 Yew St                      btwn York & W 1st   \n",
       "\n",
       "    location.lat  location.lng  \\\n",
       "0      49.264008   -123.169638   \n",
       "1      49.274294   -123.153670   \n",
       "2      49.268216   -123.159575   \n",
       "3      49.268198   -123.156926   \n",
       "4      49.258073   -123.153394   \n",
       "5      49.264039   -123.167506   \n",
       "6      49.264208   -123.169042   \n",
       "7      49.269348   -123.130731   \n",
       "8      49.263176   -123.136400   \n",
       "9      49.268301   -123.167049   \n",
       "10     49.272188   -123.133918   \n",
       "11     49.275617   -123.134930   \n",
       "12     49.283362   -123.119462   \n",
       "13     49.288019   -123.140467   \n",
       "14     49.263693   -123.121258   \n",
       "15     49.269442   -123.138691   \n",
       "16     49.263770   -123.206784   \n",
       "17     49.264198   -123.177285   \n",
       "18     49.251416   -123.127376   \n",
       "19     49.282930   -123.115428   \n",
       "20     49.280420   -123.101205   \n",
       "21     49.273572   -123.123357   \n",
       "22     49.264122   -123.180127   \n",
       "23     49.276773   -123.125697   \n",
       "24     49.263567   -123.124412   \n",
       "25     49.233938   -123.139747   \n",
       "26     49.254148   -123.115095   \n",
       "27     49.263075   -123.116049   \n",
       "28     49.278631   -123.116027   \n",
       "29     49.283161   -123.112503   \n",
       "30     49.271221   -123.155140   \n",
       "31     49.268114   -123.155861   \n",
       "32     49.291655   -123.127686   \n",
       "33     49.265059   -123.145901   \n",
       "34     49.265958   -123.138666   \n",
       "35     49.272474   -123.154529   \n",
       "36     49.234315   -123.139963   \n",
       "37     49.268256   -123.154663   \n",
       "38     49.288219   -123.122225   \n",
       "39     49.286508   -123.128012   \n",
       "40     49.283610   -123.112657   \n",
       "41     49.286360   -123.125457   \n",
       "42     49.264076   -123.146009   \n",
       "43     49.269145   -123.145730   \n",
       "44     49.249634   -123.089823   \n",
       "45     49.256142   -123.184942   \n",
       "46     49.288078   -123.120282   \n",
       "47     49.264904   -123.145938   \n",
       "48     49.284376   -123.109509   \n",
       "49     49.271200   -123.154993   \n",
       "\n",
       "                              location.labeledLatLngs  location.distance  \\\n",
       "0   [{'label': 'display', 'lat': 49.26400780924734...                163   \n",
       "1   [{'label': 'display', 'lat': 49.27429388983705...               1632   \n",
       "2   [{'label': 'display', 'lat': 49.26821645953926...                843   \n",
       "3   [{'label': 'display', 'lat': 49.2681979877156,...                990   \n",
       "4   [{'label': 'display', 'lat': 49.2580725102941,...               1194   \n",
       "5   [{'label': 'display', 'lat': 49.26403946816144...                121   \n",
       "6   [{'label': 'display', 'lat': 49.26420826344915...                154   \n",
       "7   [{'label': 'display', 'lat': 49.26934778168365...               2797   \n",
       "8   [{'label': 'display', 'lat': 49.263176, 'lng':...               2295   \n",
       "9   [{'label': 'display', 'lat': 49.26830060746881...                594   \n",
       "10  [{'label': 'display', 'lat': 49.27218814329929...               2678   \n",
       "11  [{'label': 'display', 'lat': 49.275617, 'lng':...               2782   \n",
       "12  [{'label': 'display', 'lat': 49.28336228267866...               4191   \n",
       "13  [{'label': 'display', 'lat': 49.288019, 'lng':...               3428   \n",
       "14  [{'label': 'display', 'lat': 49.26369279404139...               3396   \n",
       "15  [{'label': 'display', 'lat': 49.2694424333753,...               2246   \n",
       "16  [{'label': 'display', 'lat': 49.26377049638328...               2818   \n",
       "17  [{'label': 'display', 'lat': 49.264198, 'lng':...                687   \n",
       "18  [{'label': 'display', 'lat': 49.25141589346419...               3220   \n",
       "19  [{'label': 'display', 'lat': 49.28292966132952...               4416   \n",
       "20  [{'label': 'display', 'lat': 49.28042046714889...               5224   \n",
       "21  [{'label': 'display', 'lat': 49.27357175419056...               3449   \n",
       "22  [{'label': 'display', 'lat': 49.26412197856093...                889   \n",
       "23  [{'label': 'display', 'lat': 49.27677332282391...               3433   \n",
       "24  [{'label': 'display', 'lat': 49.26356711854418...               3167   \n",
       "25  [{'label': 'display', 'lat': 49.233938, 'lng':...               3831   \n",
       "26  [{'label': 'display', 'lat': 49.25414780213013...               3967   \n",
       "27  [{'label': 'display', 'lat': 49.26307526580492...               3773   \n",
       "28  [{'label': 'display', 'lat': 49.27863102698563...               4156   \n",
       "29  [{'label': 'display', 'lat': 49.28316092121001...               4613   \n",
       "30  [{'label': 'display', 'lat': 49.27122083560716...               1307   \n",
       "31  [{'label': 'display', 'lat': 49.26811443843843...               1049   \n",
       "32  [{'label': 'display', 'lat': 49.29165502242156...               4329   \n",
       "33  [{'label': 'display', 'lat': 49.265059, 'lng':...               1621   \n",
       "34  [{'label': 'display', 'lat': 49.26595839818820...               2156   \n",
       "35  [{'label': 'display', 'lat': 49.27247353085836...               1438   \n",
       "36  [{'label': 'display', 'lat': 49.2343145994551,...               3787   \n",
       "37  [{'label': 'display', 'lat': 49.2682562502592,...               1131   \n",
       "38  [{'label': 'display', 'lat': 49.288219, 'lng':...               4351   \n",
       "39  [{'label': 'display', 'lat': 49.286508, 'lng':...               3909   \n",
       "40  [{'label': 'display', 'lat': 49.28361009495606...               4628   \n",
       "41  [{'label': 'display', 'lat': 49.28636030912857...               4038   \n",
       "42  [{'label': 'display', 'lat': 49.26407646977235...               1601   \n",
       "43  [{'label': 'display', 'lat': 49.269145, 'lng':...               1756   \n",
       "44  [{'label': 'display', 'lat': 49.24963419766788...               5871   \n",
       "45  [{'label': 'display', 'lat': 49.25614232341938...               1448   \n",
       "46  [{'label': 'display', 'lat': 49.28807814093806...               4450   \n",
       "47  [{'label': 'display', 'lat': 49.26490430231064...               1616   \n",
       "48  [{'label': 'display', 'lat': 49.2843757721172,...               4869   \n",
       "49  [{'label': 'display', 'lat': 49.27119988195726...               1313   \n",
       "\n",
       "   location.cc location.city location.state location.country  \\\n",
       "0           CA     Vancouver             BC           Canada   \n",
       "1           CA     Vancouver             BC           Canada   \n",
       "2           CA     Vancouver             BC           Canada   \n",
       "3           CA     Vancouver             BC           Canada   \n",
       "4           CA     Vancouver             BC           Canada   \n",
       "5           CA     Vancouver             BC           Canada   \n",
       "6           CA     Vancouver             BC           Canada   \n",
       "7           CA     Vancouver             BC           Canada   \n",
       "8           CA     Vancouver             BC           Canada   \n",
       "9           CA     Vancouver             BC           Canada   \n",
       "10          CA     Vancouver             BC           Canada   \n",
       "11          CA     Vancouver             BC           Canada   \n",
       "12          CA     Vancouver             BC           Canada   \n",
       "13          CA     Vancouver             BC           Canada   \n",
       "14          CA     Vancouver             BC           Canada   \n",
       "15          CA     Vancouver             BC           Canada   \n",
       "16          CA     Vancouver             BC           Canada   \n",
       "17          CA     Vancouver             BC           Canada   \n",
       "18          CA     Vancouver             BC           Canada   \n",
       "19          CA     Vancouver             BC           Canada   \n",
       "20          CA     Vancouver             BC           Canada   \n",
       "21          CA     Vancouver             BC           Canada   \n",
       "22          CA     Vancouver             BC           Canada   \n",
       "23          CA     Vancouver             BC           Canada   \n",
       "24          CA     Vancouver             BC           Canada   \n",
       "25          CA     Vancouver             BC           Canada   \n",
       "26          CA     Vancouver             BC           Canada   \n",
       "27          CA     Vancouver             BC           Canada   \n",
       "28          CA     Vancouver             BC           Canada   \n",
       "29          CA     Vancouver             BC           Canada   \n",
       "30          CA     Vancouver             BC           Canada   \n",
       "31          CA     Vancouver             BC           Canada   \n",
       "32          CA     Vancouver             BC           Canada   \n",
       "33          CA     Vancouver             BC           Canada   \n",
       "34          CA     Vancouver             BC           Canada   \n",
       "35          CA     Vancouver             BC           Canada   \n",
       "36          CA     Vancouver             BC           Canada   \n",
       "37          CA     Vancouver             BC           Canada   \n",
       "38          CA     Vancouver             BC           Canada   \n",
       "39          CA     Vancouver             BC           Canada   \n",
       "40          CA     Vancouver             BC           Canada   \n",
       "41          CA     Vancouver             BC           Canada   \n",
       "42          CA     Vancouver             BC           Canada   \n",
       "43          CA     Vancouver             BC           Canada   \n",
       "44          CA     Vancouver             BC           Canada   \n",
       "45          CA     Vancouver             BC           Canada   \n",
       "46          CA     Vancouver             BC           Canada   \n",
       "47          CA     Vancouver             BC           Canada   \n",
       "48          CA     Vancouver             BC           Canada   \n",
       "49          CA     Vancouver             BC           Canada   \n",
       "\n",
       "                            location.formattedAddress location.postalCode  \\\n",
       "0   [2884 W Broadway (btwn Macdonald & Mackenzie),...                 NaN   \n",
       "1   [1305 Arbutus St (Cornwall), Vancouver BC V6J ...             V6J 5N2   \n",
       "2   [2394 W 4th Ave (at Balsam St), Vancouver BC, ...                 NaN   \n",
       "3   [2274 W 4th Ave. (at Vine St.), Vancouver BC V...             V6K 1N8   \n",
       "4   [4009 Macdonald Street (West 24th Avenue), Van...             V6L 2N8   \n",
       "5   [2756 W Broadway (at Macdonald St.), Vancouver...             V6K 2G4   \n",
       "6   [2825 W Broadway (btwn Mackenzie & MacDonald),...             V6K 2G6   \n",
       "7   [1253 Johnston St (btwn Old Bridge Street and ...             V6H 3R9   \n",
       "8   [1410 West Broadway (Hemlock St.), Vancouver B...             V6H 3G8   \n",
       "9   [2724 W 4th Ave (at Stephens St), Vancouver BC...             V6K 1R1   \n",
       "10  [1536 Johnston St. (Granville Island), Vancouv...             V6H 3R9   \n",
       "11                             [Vancouver BC, Canada]                 NaN   \n",
       "12  [801 W Georgia St (at Howe St), Vancouver BC V...             V6P 1C7   \n",
       "13  [1118 Denman St. (at Pendrell St.), Vancouver ...             V6G 2M8   \n",
       "14     [108-777 W Broadway, Vancouver BC V5Z, Canada]                 V5Z   \n",
       "15  [202-1833 Anderson Street (@ Granville Island ...             V6H 4E5   \n",
       "16  [4422 W 10th Ave (at Trimble St), Vancouver BC...             V6R 2H9   \n",
       "17    [3271 W Broadway, Vancouver BC V6K 2H5, Canada]             V6K 2H5   \n",
       "18  [3838 Oak St. (West 22nd Ave.), Vancouver BC V...             V5Z 2B3   \n",
       "19  [602 Seymour St (at Dunsmuir St), Vancouver BC...                 NaN   \n",
       "20  [148 E Pender St (Main St), Vancouver BC V6A 1...             V6A 1T3   \n",
       "21  [1275 Pacific Blvd. (at Drake St.), Vancouver ...             V6Z 2R6   \n",
       "22  [3416 W Broadway (at Waterloo St.), Vancouver ...             V6R 2B3   \n",
       "23           [630 Davie Street, Vancouver BC, Canada]                 NaN   \n",
       "24  [#105 - 805 West Broadway (at Willow St), Vanc...             V5Z 1K1   \n",
       "25  [#110 - 5701 (Granville Street), Vancouver BC ...             V6M 3C7   \n",
       "26    [3492 Cambie St., Vancouver BC V5Y 2A9, Canada]             V5Y 2A9   \n",
       "27  [532 W Broadway (btwn Cambie & Ash), Vancouver...             V5Z 1E9   \n",
       "28  [298 Robson Street, Vancouver BC V6B 6A1, Canada]             V6B 6A1   \n",
       "29  [433 West Pender (Homer), Vancouver BC V6B 1V2...             V6B 1V2   \n",
       "30  [1629 Yew St (btw W. 1st Ave & York Ave), Vanc...             V6K 3E6   \n",
       "31  [2222 W 4th Ave (at Yew St), Vancouver BC V6K ...             V6K 1N8   \n",
       "32  [1583 Coal Harbour Quay (btwn Cardero & Nicola...             V6G 3E7   \n",
       "33    [2351 Burrard St, Vancouver BC V6J 3J2, Canada]             V6J 3J2   \n",
       "34  [2211 Granville St. (at 6th Ave.), Vancouver B...             V6H 3G1   \n",
       "35  [2184 Cornwall Avenue, Vancouver BC V6K 1B4, C...             V6K 1B4   \n",
       "36  [5668 Granville St. (at 41st Ave.), Vancouver ...                 NaN   \n",
       "37  [2183 4th Avenue W, Vancouver BC V6K 1N7, Canada]             V6K 1N7   \n",
       "38  [1177 West Pender St (Pender & Bute), Vancouve...             V6E 2P4   \n",
       "39  [1260 Robson St. (Jervis), Vancouver BC V6E 1C...             V6E 1C2   \n",
       "40  [469 Richards St (at W Pender St), Vancouver B...             V6B 6H6   \n",
       "41  [1172 Alberni St. (at Bute St.), Vancouver BC ...                 V6E   \n",
       "42  [2445 Burrard St (Nicola), Vancouver BC V6J 3J...             V6J 3J3   \n",
       "43            [1655 burrard st, Vancouver BC, Canada]                 NaN   \n",
       "44  [3944 Fraser street (23 Ave), Vancouver BC V5V...                 V5V   \n",
       "45            [3446 Dunbar St., Vancouver BC, Canada]                 NaN   \n",
       "46  [1122 W Hastings St. (at Thurlow St.), Vancouv...             V6E 4R5   \n",
       "47        [2365 Burrard Street, Vancouver BC, Canada]                 NaN   \n",
       "48  [332 Water Street (Cambie Street), Vancouver B...             V6B 1B6   \n",
       "49  [1629 Yew St (btwn York & W 1st), Vancouver BC...             V6K 3E6   \n",
       "\n",
       "   location.neighborhood venuePage.id  \n",
       "0                    NaN          NaN  \n",
       "1                    NaN          NaN  \n",
       "2                    NaN          NaN  \n",
       "3                    NaN          NaN  \n",
       "4                    NaN          NaN  \n",
       "5              Kitsilano          NaN  \n",
       "6                    NaN          NaN  \n",
       "7                    NaN     39502607  \n",
       "8               Fairview          NaN  \n",
       "9                    NaN          NaN  \n",
       "10                   NaN    408453102  \n",
       "11    Downtown Vancouver          NaN  \n",
       "12                   NaN     77577037  \n",
       "13                   NaN          NaN  \n",
       "14                   NaN          NaN  \n",
       "15                   NaN          NaN  \n",
       "16                   NaN          NaN  \n",
       "17                   NaN          NaN  \n",
       "18                   NaN          NaN  \n",
       "19                   NaN          NaN  \n",
       "20                   NaN          NaN  \n",
       "21                   NaN          NaN  \n",
       "22                   NaN          NaN  \n",
       "23                   NaN          NaN  \n",
       "24                   NaN          NaN  \n",
       "25                   NaN          NaN  \n",
       "26                   NaN          NaN  \n",
       "27                   NaN          NaN  \n",
       "28                   NaN          NaN  \n",
       "29                   NaN     41496929  \n",
       "30                   NaN          NaN  \n",
       "31             Kitsilano          NaN  \n",
       "32                   NaN    409700458  \n",
       "33                   NaN          NaN  \n",
       "34                   NaN     57645281  \n",
       "35                   NaN          NaN  \n",
       "36                   NaN          NaN  \n",
       "37                   NaN          NaN  \n",
       "38                   NaN     33794062  \n",
       "39                   NaN          NaN  \n",
       "40                   NaN          NaN  \n",
       "41                   NaN          NaN  \n",
       "42                   NaN          NaN  \n",
       "43                   NaN          NaN  \n",
       "44                   NaN          NaN  \n",
       "45                   NaN          NaN  \n",
       "46                   NaN     83873644  \n",
       "47                   NaN          NaN  \n",
       "48                   NaN          NaN  \n",
       "49                   NaN          NaN  "
      ]
     },
     "execution_count": 64,
     "metadata": {},
     "output_type": "execute_result"
    }
   ],
   "source": [
    "df_norm"
   ]
  },
  {
   "cell_type": "code",
   "execution_count": null,
   "metadata": {},
   "outputs": [],
   "source": [
    "# to drop cooumns\n",
    "df_norm.drop(['','',''], axis=1)"
   ]
  },
  {
   "cell_type": "code",
   "execution_count": 71,
   "metadata": {},
   "outputs": [
    {
     "data": {
      "text/plain": [
       "Index(['id', 'name', 'categories', 'referralId', 'hasPerk', 'location.address',\n",
       "       'location.crossStreet', 'location.lat', 'location.lng',\n",
       "       'location.labeledLatLngs', 'location.distance', 'location.cc',\n",
       "       'location.city', 'location.state', 'location.country',\n",
       "       'location.formattedAddress', 'location.postalCode',\n",
       "       'location.neighborhood', 'venuePage.id'],\n",
       "      dtype='object')"
      ]
     },
     "execution_count": 71,
     "metadata": {},
     "output_type": "execute_result"
    }
   ],
   "source": [
    "fs_normalize = pd.json_normalize(fs_rest)\n",
    "fs_normalize.columns"
   ]
  },
  {
   "cell_type": "code",
   "execution_count": 75,
   "metadata": {},
   "outputs": [
    {
     "data": {
      "text/html": [
       "<div>\n",
       "<style scoped>\n",
       "    .dataframe tbody tr th:only-of-type {\n",
       "        vertical-align: middle;\n",
       "    }\n",
       "\n",
       "    .dataframe tbody tr th {\n",
       "        vertical-align: top;\n",
       "    }\n",
       "\n",
       "    .dataframe thead th {\n",
       "        text-align: right;\n",
       "    }\n",
       "</style>\n",
       "<table border=\"1\" class=\"dataframe\">\n",
       "  <thead>\n",
       "    <tr style=\"text-align: right;\">\n",
       "      <th></th>\n",
       "      <th>id</th>\n",
       "      <th>name</th>\n",
       "      <th>location.address</th>\n",
       "      <th>location.crossStreet</th>\n",
       "      <th>location.distance</th>\n",
       "      <th>location.city</th>\n",
       "      <th>location.formattedAddress</th>\n",
       "    </tr>\n",
       "  </thead>\n",
       "  <tbody>\n",
       "    <tr>\n",
       "      <th>0</th>\n",
       "      <td>4e9a75a3d3e3697fbfda59ee</td>\n",
       "      <td>Yagger's Kitsilano Restaurant</td>\n",
       "      <td>2884 W Broadway</td>\n",
       "      <td>btwn Macdonald &amp; Mackenzie</td>\n",
       "      <td>163</td>\n",
       "      <td>Vancouver</td>\n",
       "      <td>[2884 W Broadway (btwn Macdonald &amp; Mackenzie),...</td>\n",
       "    </tr>\n",
       "    <tr>\n",
       "      <th>1</th>\n",
       "      <td>4c0c0244a1b32d7f5be49bf0</td>\n",
       "      <td>The Boathouse Restaurant</td>\n",
       "      <td>1305 Arbutus St</td>\n",
       "      <td>Cornwall</td>\n",
       "      <td>1632</td>\n",
       "      <td>Vancouver</td>\n",
       "      <td>[1305 Arbutus St (Cornwall), Vancouver BC V6J ...</td>\n",
       "    </tr>\n",
       "    <tr>\n",
       "      <th>2</th>\n",
       "      <td>51c8fd70498e48a12893ba67</td>\n",
       "      <td>Peaceful Restaurant 和平饭店</td>\n",
       "      <td>2394 W 4th Ave</td>\n",
       "      <td>at Balsam St</td>\n",
       "      <td>843</td>\n",
       "      <td>Vancouver</td>\n",
       "      <td>[2394 W 4th Ave (at Balsam St), Vancouver BC, ...</td>\n",
       "    </tr>\n",
       "    <tr>\n",
       "      <th>3</th>\n",
       "      <td>4ac4169cf964a5202b9e20e3</td>\n",
       "      <td>Hi Nippon Japanese Restaurant</td>\n",
       "      <td>2274 W 4th Ave.</td>\n",
       "      <td>at Vine St.</td>\n",
       "      <td>990</td>\n",
       "      <td>Vancouver</td>\n",
       "      <td>[2274 W 4th Ave. (at Vine St.), Vancouver BC V...</td>\n",
       "    </tr>\n",
       "    <tr>\n",
       "      <th>4</th>\n",
       "      <td>4bf1a603324cc9b68a49cc92</td>\n",
       "      <td>Ridge Gardens Restaurant</td>\n",
       "      <td>4009 Macdonald Street</td>\n",
       "      <td>West 24th Avenue</td>\n",
       "      <td>1194</td>\n",
       "      <td>Vancouver</td>\n",
       "      <td>[4009 Macdonald Street (West 24th Avenue), Van...</td>\n",
       "    </tr>\n",
       "  </tbody>\n",
       "</table>\n",
       "</div>"
      ],
      "text/plain": [
       "                         id                           name  \\\n",
       "0  4e9a75a3d3e3697fbfda59ee  Yagger's Kitsilano Restaurant   \n",
       "1  4c0c0244a1b32d7f5be49bf0       The Boathouse Restaurant   \n",
       "2  51c8fd70498e48a12893ba67       Peaceful Restaurant 和平饭店   \n",
       "3  4ac4169cf964a5202b9e20e3  Hi Nippon Japanese Restaurant   \n",
       "4  4bf1a603324cc9b68a49cc92       Ridge Gardens Restaurant   \n",
       "\n",
       "        location.address        location.crossStreet  location.distance  \\\n",
       "0        2884 W Broadway  btwn Macdonald & Mackenzie                163   \n",
       "1        1305 Arbutus St                    Cornwall               1632   \n",
       "2         2394 W 4th Ave                at Balsam St                843   \n",
       "3        2274 W 4th Ave.                 at Vine St.                990   \n",
       "4  4009 Macdonald Street            West 24th Avenue               1194   \n",
       "\n",
       "  location.city                          location.formattedAddress  \n",
       "0     Vancouver  [2884 W Broadway (btwn Macdonald & Mackenzie),...  \n",
       "1     Vancouver  [1305 Arbutus St (Cornwall), Vancouver BC V6J ...  \n",
       "2     Vancouver  [2394 W 4th Ave (at Balsam St), Vancouver BC, ...  \n",
       "3     Vancouver  [2274 W 4th Ave. (at Vine St.), Vancouver BC V...  \n",
       "4     Vancouver  [4009 Macdonald Street (West 24th Avenue), Van...  "
      ]
     },
     "execution_count": 75,
     "metadata": {},
     "output_type": "execute_result"
    }
   ],
   "source": [
    "col_list = ['id','name','location.address','location.crossStreet','location.distance','location.city','location.formattedAddress']\n",
    "fs_dropped = fs_normalize[col_list]\n",
    "fs_dropped.head()"
   ]
  },
  {
   "cell_type": "code",
   "execution_count": 77,
   "metadata": {},
   "outputs": [
    {
     "data": {
      "text/plain": [
       "pandas.core.series.Series"
      ]
     },
     "execution_count": 77,
     "metadata": {},
     "output_type": "execute_result"
    }
   ],
   "source": [
    "type(fs_dropped.id)"
   ]
  },
  {
   "cell_type": "code",
   "execution_count": 78,
   "metadata": {},
   "outputs": [
    {
     "data": {
      "text/plain": [
       "pandas.core.series.Series"
      ]
     },
     "execution_count": 78,
     "metadata": {},
     "output_type": "execute_result"
    }
   ],
   "source": [
    "type(fs_dropped['id'])"
   ]
  },
  {
   "cell_type": "code",
   "execution_count": null,
   "metadata": {},
   "outputs": [],
   "source": [
    "# requests based on id to try to get rating"
   ]
  },
  {
   "cell_type": "code",
   "execution_count": 85,
   "metadata": {},
   "outputs": [
    {
     "data": {
      "application/json": {
       "meta": {
        "code": 200,
        "requestId": "60942c9d037e9c3dc00d4828"
       },
       "response": {
        "venue": {
         "allowMenuUrlEdit": true,
         "attributes": {
          "groups": [
           {
            "count": 1,
            "items": [
             {
              "displayName": "Price",
              "displayValue": "$",
              "priceTier": 1
             }
            ],
            "name": "Price",
            "summary": "$",
            "type": "price"
           },
           {
            "count": 5,
            "items": [
             {
              "displayName": "Credit Cards",
              "displayValue": "Yes"
             }
            ],
            "name": "Credit Cards",
            "summary": "Credit Cards",
            "type": "payments"
           },
           {
            "count": 1,
            "items": [
             {
              "displayName": "Outdoor Seating",
              "displayValue": "Yes"
             }
            ],
            "name": "Outdoor Seating",
            "summary": "Outdoor Seating",
            "type": "outdoorSeating"
           },
           {
            "count": 1,
            "items": [
             {
              "displayName": "Wi-Fi",
              "displayValue": "No"
             }
            ],
            "name": "Wi-Fi",
            "type": "wifi"
           }
          ]
         },
         "beenHere": {
          "count": 0,
          "lastCheckinExpiredAt": 0,
          "marked": false,
          "unconfirmedCount": 0
         },
         "bestPhoto": {
          "createdAt": 1518660260,
          "height": 1440,
          "id": "5a84eaa43af9887d4067c291",
          "prefix": "https://fastly.4sqi.net/img/general/",
          "source": {
           "name": "Foursquare for iOS",
           "url": "https://foursquare.com/download/#/iphone"
          },
          "suffix": "/760219_PQFvwTLzzqQZy27HAxvM8uJMASG4R-EwMXkAOIbCYuc.jpg",
          "visibility": "public",
          "width": 1920
         },
         "canonicalUrl": "https://foursquare.com/v/yaggers-kitsilano-restaurant/4e9a75a3d3e3697fbfda59ee",
         "categories": [
          {
           "icon": {
            "prefix": "https://ss3.4sqi.net/img/categories_v2/nightlife/pub_",
            "suffix": ".png"
           },
           "id": "4bf58dd8d48988d11b941735",
           "name": "Pub",
           "pluralName": "Pubs",
           "primary": true,
           "shortName": "Pub"
          },
          {
           "icon": {
            "prefix": "https://ss3.4sqi.net/img/categories_v2/nightlife/sportsbar_",
            "suffix": ".png"
           },
           "id": "4bf58dd8d48988d11d941735",
           "name": "Sports Bar",
           "pluralName": "Sports Bars",
           "shortName": "Sports Bar"
          },
          {
           "icon": {
            "prefix": "https://ss3.4sqi.net/img/categories_v2/nightlife/pub_",
            "suffix": ".png"
           },
           "id": "4bf58dd8d48988d116941735",
           "name": "Bar",
           "pluralName": "Bars",
           "shortName": "Bar"
          }
         ],
         "contact": {
          "formattedPhone": "(604) 733-3002",
          "phone": "6047333002",
          "twitter": "yaggerskits"
         },
         "createdAt": 1318745507,
         "defaultHours": {
          "dayData": [],
          "isLocalHoliday": false,
          "isOpen": false,
          "richStatus": {
           "entities": [],
           "text": "Closed until 3:00 PM"
          },
          "status": "Closed until 3:00 PM",
          "timeframes": [
           {
            "days": "Mon–Fri",
            "includesToday": true,
            "open": [
             {
              "renderedTime": "3:00 PM–2:00 AM"
             }
            ],
            "segments": []
           },
           {
            "days": "Sat",
            "open": [
             {
              "renderedTime": "Noon–2:00 AM"
             }
            ],
            "segments": []
           },
           {
            "days": "Sun",
            "open": [
             {
              "renderedTime": "10:00 AM–Midnight"
             }
            ],
            "segments": []
           }
          ]
         },
         "dislike": false,
         "hasMenu": true,
         "hereNow": {
          "count": 0,
          "groups": [],
          "summary": "Nobody here"
         },
         "hours": {
          "dayData": [],
          "isLocalHoliday": false,
          "isOpen": false,
          "richStatus": {
           "entities": [],
           "text": "Closed until 3:00 PM"
          },
          "status": "Closed until 3:00 PM",
          "timeframes": [
           {
            "days": "Mon–Fri",
            "includesToday": true,
            "open": [
             {
              "renderedTime": "3:00 PM–2:00 AM"
             }
            ],
            "segments": []
           },
           {
            "days": "Sat",
            "open": [
             {
              "renderedTime": "Noon–2:00 AM"
             }
            ],
            "segments": []
           },
           {
            "days": "Sun",
            "open": [
             {
              "renderedTime": "10:00 AM–Midnight"
             }
            ],
            "segments": []
           }
          ]
         },
         "id": "4e9a75a3d3e3697fbfda59ee",
         "inbox": {
          "count": 0,
          "items": []
         },
         "likes": {
          "count": 11,
          "groups": [
           {
            "count": 11,
            "items": [],
            "type": "others"
           }
          ],
          "summary": "11 Likes"
         },
         "listed": {
          "count": 7,
          "groups": [
           {
            "count": 7,
            "items": [
             {
              "canonicalUrl": "https://foursquare.com/user/76305151/list/done",
              "collaborative": false,
              "createdAt": 1391902237,
              "description": "",
              "editable": false,
              "followers": {
               "count": 0
              },
              "id": "52f6be1d498e618cf88c81c2",
              "listItems": {
               "count": 21,
               "items": [
                {
                 "createdAt": 1391902532,
                 "id": "v4e9a75a3d3e3697fbfda59ee"
                }
               ]
              },
              "name": "DONE",
              "public": true,
              "type": "others",
              "updatedAt": 1404308966,
              "url": "/user/76305151/list/done",
              "user": {
               "countryCode": "US",
               "firstName": "Ari",
               "lastName": "E"
              }
             },
             {
              "canonicalUrl": "https://foursquare.com/goodlifevan/list/restaurants",
              "collaborative": false,
              "createdAt": 1326683289,
              "description": "",
              "editable": false,
              "followers": {
               "count": 1
              },
              "id": "4f139499e4b067f671cf6b35",
              "listItems": {
               "count": 115,
               "items": [
                {
                 "createdAt": 1372018531,
                 "id": "v4e9a75a3d3e3697fbfda59ee"
                }
               ]
              },
              "name": "Restaurants",
              "photo": {
               "createdAt": 1315521824,
               "height": 537,
               "id": "4e69452052b1fafc8aa3452d",
               "prefix": "https://fastly.4sqi.net/img/general/",
               "suffix": "/UFJTFSOASWOPFRMK2ZFKHYAB35NM0ZI2DW2UOECPQC545DIR.jpg",
               "visibility": "public",
               "width": 720
              },
              "public": true,
              "type": "others",
              "updatedAt": 1386110089,
              "url": "/goodlifevan/list/restaurants",
              "user": {
               "countryCode": "CA",
               "firstName": "Cassandra",
               "lastName": "A"
              }
             },
             {
              "canonicalUrl": "https://foursquare.com/user/3974370/list/restaurants-ive-tried",
              "collaborative": false,
              "createdAt": 1339616946,
              "description": "All the goodies and the baddies.",
              "editable": false,
              "followers": {
               "count": 1
              },
              "id": "4fd8eeb2e4b01d43a35c8dd0",
              "listItems": {
               "count": 91,
               "items": [
                {
                 "createdAt": 1339617953,
                 "id": "v4e9a75a3d3e3697fbfda59ee"
                }
               ]
              },
              "name": "Restaurants I've tried.",
              "public": true,
              "type": "others",
              "updatedAt": 1367574671,
              "url": "/user/3974370/list/restaurants-ive-tried",
              "user": {
               "countryCode": "CA",
               "firstName": "Reggie",
               "lastName": "B"
              }
             },
             {
              "canonicalUrl": "https://foursquare.com/user/36806429/list/comedy-vancouver",
              "collaborative": false,
              "createdAt": 1491940486,
              "description": "Spots with paid open mic during different days of the week",
              "editable": false,
              "followers": {
               "count": 0
              },
              "id": "58ed3486135b390aa916c416",
              "listItems": {
               "count": 11,
               "items": [
                {
                 "createdAt": 1491940608,
                 "id": "v4e9a75a3d3e3697fbfda59ee"
                }
               ]
              },
              "name": "Comedy Vancouver",
              "public": true,
              "type": "others",
              "updatedAt": 1516592676,
              "url": "/user/36806429/list/comedy-vancouver",
              "user": {
               "countryCode": "CA",
               "firstName": "Arash",
               "lastName": "N"
              }
             }
            ],
            "name": "Lists from other people",
            "type": "others"
           }
          ]
         },
         "location": {
          "address": "2884 W Broadway",
          "cc": "CA",
          "city": "Vancouver",
          "country": "Canada",
          "crossStreet": "btwn Macdonald & Mackenzie",
          "formattedAddress": [
           "2884 W Broadway (btwn Macdonald & Mackenzie)",
           "Vancouver BC",
           "Canada"
          ],
          "labeledLatLngs": [
           {
            "label": "display",
            "lat": 49.26400780924734,
            "lng": -123.16963810838409
           }
          ],
          "lat": 49.26400780924734,
          "lng": -123.16963810838409,
          "state": "BC"
         },
         "menu": {
          "anchor": "View Menu",
          "label": "Menu",
          "mobileUrl": "https://foursquare.com/v/4e9a75a3d3e3697fbfda59ee/device_menu",
          "type": "Menu",
          "url": "https://foursquare.com/v/yaggers-kitsilano-restaurant/4e9a75a3d3e3697fbfda59ee/menu"
         },
         "name": "Yagger's Kitsilano Restaurant",
         "ok": false,
         "pageUpdates": {
          "count": 0,
          "items": []
         },
         "photos": {
          "count": 19,
          "groups": [
           {
            "count": 19,
            "items": [
             {
              "createdAt": 1518660260,
              "height": 1440,
              "id": "5a84eaa43af9887d4067c291",
              "prefix": "https://fastly.4sqi.net/img/general/",
              "source": {
               "name": "Foursquare for iOS",
               "url": "https://foursquare.com/download/#/iphone"
              },
              "suffix": "/760219_PQFvwTLzzqQZy27HAxvM8uJMASG4R-EwMXkAOIbCYuc.jpg",
              "visibility": "public",
              "width": 1920
             }
            ],
            "name": "Venue photos",
            "type": "venue"
           }
          ]
         },
         "popular": {
          "isLocalHoliday": false,
          "isOpen": false,
          "timeframes": [
           {
            "days": "Today",
            "includesToday": true,
            "open": [
             {
              "renderedTime": "5:00 PM–Midnight"
             }
            ],
            "segments": []
           },
           {
            "days": "Fri",
            "open": [
             {
              "renderedTime": "5:00 PM–1:00 AM"
             }
            ],
            "segments": []
           },
           {
            "days": "Sat",
            "open": [
             {
              "renderedTime": "3:00 PM–2:00 AM"
             }
            ],
            "segments": []
           },
           {
            "days": "Sun",
            "open": [
             {
              "renderedTime": "10:00 AM–9:00 PM"
             }
            ],
            "segments": []
           },
           {
            "days": "Mon",
            "open": [
             {
              "renderedTime": "5:00 PM–6:00 PM"
             },
             {
              "renderedTime": "8:00 PM–11:00 PM"
             }
            ],
            "segments": []
           },
           {
            "days": "Tue",
            "open": [
             {
              "renderedTime": "6:00 PM–Midnight"
             }
            ],
            "segments": []
           },
           {
            "days": "Wed",
            "open": [
             {
              "renderedTime": "5:00 PM–11:00 PM"
             }
            ],
            "segments": []
           }
          ]
         },
         "price": {
          "currency": "$",
          "message": "Cheap",
          "tier": 1
         },
         "rating": 5.9,
         "ratingColor": "FF9600",
         "ratingSignals": 30,
         "reasons": {
          "count": 0,
          "items": []
         },
         "seasonalHours": [],
         "shortUrl": "http://4sq.com/ni3KFj",
         "specials": {
          "count": 0,
          "items": []
         },
         "stats": {
          "tipCount": 9
         },
         "timeZone": "America/Vancouver",
         "tips": {
          "count": 9,
          "groups": [
           {
            "count": 9,
            "items": [
             {
              "agreeCount": 1,
              "canonicalUrl": "https://foursquare.com/item/4fb73bd3e4b0c776a692dc75",
              "createdAt": 1337408467,
              "disagreeCount": 0,
              "id": "4fb73bd3e4b0c776a692dc75",
              "lang": "en",
              "likes": {
               "count": 1,
               "groups": [
                {
                 "count": 1,
                 "items": [
                  {
                   "countryCode": "CA",
                   "firstName": "Al",
                   "lastName": "F"
                  }
                 ],
                 "type": "others"
                }
               ],
               "summary": "1 like"
              },
              "logView": true,
              "text": "You have to try the Tortilla Sopa, it is to die for!!",
              "todo": {
               "count": 0
              },
              "type": "user",
              "user": {
               "countryCode": "CA",
               "firstName": "Elizabeth",
               "lastName": "L"
              }
             }
            ],
            "name": "All tips",
            "type": "others"
           }
          ]
         },
         "url": "http://www.yaggers.com/yaggers-kitsilano/",
         "verified": false
        }
       }
      },
      "text/plain": [
       "<IPython.core.display.JSON object>"
      ]
     },
     "execution_count": 85,
     "metadata": {
      "application/json": {
       "expanded": false,
       "root": "root"
      }
     },
     "output_type": "execute_result"
    }
   ],
   "source": [
    "url = 'https://api.foursquare.com/v2/venues/{}?client_id={}&client_secret={}&v={}'.format(venue_id, foursquare_id, foursquare_secret, version)\n",
    "result = requests.get(url).json()"
   ]
  },
  {
   "cell_type": "code",
   "execution_count": 87,
   "metadata": {},
   "outputs": [
    {
     "data": {
      "application/json": {
       "meta": {
        "code": 200,
        "requestId": "60942c9d037e9c3dc00d4828"
       },
       "response": {
        "venue": {
         "allowMenuUrlEdit": true,
         "attributes": {
          "groups": [
           {
            "count": 1,
            "items": [
             {
              "displayName": "Price",
              "displayValue": "$",
              "priceTier": 1
             }
            ],
            "name": "Price",
            "summary": "$",
            "type": "price"
           },
           {
            "count": 5,
            "items": [
             {
              "displayName": "Credit Cards",
              "displayValue": "Yes"
             }
            ],
            "name": "Credit Cards",
            "summary": "Credit Cards",
            "type": "payments"
           },
           {
            "count": 1,
            "items": [
             {
              "displayName": "Outdoor Seating",
              "displayValue": "Yes"
             }
            ],
            "name": "Outdoor Seating",
            "summary": "Outdoor Seating",
            "type": "outdoorSeating"
           },
           {
            "count": 1,
            "items": [
             {
              "displayName": "Wi-Fi",
              "displayValue": "No"
             }
            ],
            "name": "Wi-Fi",
            "type": "wifi"
           }
          ]
         },
         "beenHere": {
          "count": 0,
          "lastCheckinExpiredAt": 0,
          "marked": false,
          "unconfirmedCount": 0
         },
         "bestPhoto": {
          "createdAt": 1518660260,
          "height": 1440,
          "id": "5a84eaa43af9887d4067c291",
          "prefix": "https://fastly.4sqi.net/img/general/",
          "source": {
           "name": "Foursquare for iOS",
           "url": "https://foursquare.com/download/#/iphone"
          },
          "suffix": "/760219_PQFvwTLzzqQZy27HAxvM8uJMASG4R-EwMXkAOIbCYuc.jpg",
          "visibility": "public",
          "width": 1920
         },
         "canonicalUrl": "https://foursquare.com/v/yaggers-kitsilano-restaurant/4e9a75a3d3e3697fbfda59ee",
         "categories": [
          {
           "icon": {
            "prefix": "https://ss3.4sqi.net/img/categories_v2/nightlife/pub_",
            "suffix": ".png"
           },
           "id": "4bf58dd8d48988d11b941735",
           "name": "Pub",
           "pluralName": "Pubs",
           "primary": true,
           "shortName": "Pub"
          },
          {
           "icon": {
            "prefix": "https://ss3.4sqi.net/img/categories_v2/nightlife/sportsbar_",
            "suffix": ".png"
           },
           "id": "4bf58dd8d48988d11d941735",
           "name": "Sports Bar",
           "pluralName": "Sports Bars",
           "shortName": "Sports Bar"
          },
          {
           "icon": {
            "prefix": "https://ss3.4sqi.net/img/categories_v2/nightlife/pub_",
            "suffix": ".png"
           },
           "id": "4bf58dd8d48988d116941735",
           "name": "Bar",
           "pluralName": "Bars",
           "shortName": "Bar"
          }
         ],
         "contact": {
          "formattedPhone": "(604) 733-3002",
          "phone": "6047333002",
          "twitter": "yaggerskits"
         },
         "createdAt": 1318745507,
         "defaultHours": {
          "dayData": [],
          "isLocalHoliday": false,
          "isOpen": false,
          "richStatus": {
           "entities": [],
           "text": "Closed until 3:00 PM"
          },
          "status": "Closed until 3:00 PM",
          "timeframes": [
           {
            "days": "Mon–Fri",
            "includesToday": true,
            "open": [
             {
              "renderedTime": "3:00 PM–2:00 AM"
             }
            ],
            "segments": []
           },
           {
            "days": "Sat",
            "open": [
             {
              "renderedTime": "Noon–2:00 AM"
             }
            ],
            "segments": []
           },
           {
            "days": "Sun",
            "open": [
             {
              "renderedTime": "10:00 AM–Midnight"
             }
            ],
            "segments": []
           }
          ]
         },
         "dislike": false,
         "hasMenu": true,
         "hereNow": {
          "count": 0,
          "groups": [],
          "summary": "Nobody here"
         },
         "hours": {
          "dayData": [],
          "isLocalHoliday": false,
          "isOpen": false,
          "richStatus": {
           "entities": [],
           "text": "Closed until 3:00 PM"
          },
          "status": "Closed until 3:00 PM",
          "timeframes": [
           {
            "days": "Mon–Fri",
            "includesToday": true,
            "open": [
             {
              "renderedTime": "3:00 PM–2:00 AM"
             }
            ],
            "segments": []
           },
           {
            "days": "Sat",
            "open": [
             {
              "renderedTime": "Noon–2:00 AM"
             }
            ],
            "segments": []
           },
           {
            "days": "Sun",
            "open": [
             {
              "renderedTime": "10:00 AM–Midnight"
             }
            ],
            "segments": []
           }
          ]
         },
         "id": "4e9a75a3d3e3697fbfda59ee",
         "inbox": {
          "count": 0,
          "items": []
         },
         "likes": {
          "count": 11,
          "groups": [
           {
            "count": 11,
            "items": [],
            "type": "others"
           }
          ],
          "summary": "11 Likes"
         },
         "listed": {
          "count": 7,
          "groups": [
           {
            "count": 7,
            "items": [
             {
              "canonicalUrl": "https://foursquare.com/user/76305151/list/done",
              "collaborative": false,
              "createdAt": 1391902237,
              "description": "",
              "editable": false,
              "followers": {
               "count": 0
              },
              "id": "52f6be1d498e618cf88c81c2",
              "listItems": {
               "count": 21,
               "items": [
                {
                 "createdAt": 1391902532,
                 "id": "v4e9a75a3d3e3697fbfda59ee"
                }
               ]
              },
              "name": "DONE",
              "public": true,
              "type": "others",
              "updatedAt": 1404308966,
              "url": "/user/76305151/list/done",
              "user": {
               "countryCode": "US",
               "firstName": "Ari",
               "lastName": "E"
              }
             },
             {
              "canonicalUrl": "https://foursquare.com/goodlifevan/list/restaurants",
              "collaborative": false,
              "createdAt": 1326683289,
              "description": "",
              "editable": false,
              "followers": {
               "count": 1
              },
              "id": "4f139499e4b067f671cf6b35",
              "listItems": {
               "count": 115,
               "items": [
                {
                 "createdAt": 1372018531,
                 "id": "v4e9a75a3d3e3697fbfda59ee"
                }
               ]
              },
              "name": "Restaurants",
              "photo": {
               "createdAt": 1315521824,
               "height": 537,
               "id": "4e69452052b1fafc8aa3452d",
               "prefix": "https://fastly.4sqi.net/img/general/",
               "suffix": "/UFJTFSOASWOPFRMK2ZFKHYAB35NM0ZI2DW2UOECPQC545DIR.jpg",
               "visibility": "public",
               "width": 720
              },
              "public": true,
              "type": "others",
              "updatedAt": 1386110089,
              "url": "/goodlifevan/list/restaurants",
              "user": {
               "countryCode": "CA",
               "firstName": "Cassandra",
               "lastName": "A"
              }
             },
             {
              "canonicalUrl": "https://foursquare.com/user/3974370/list/restaurants-ive-tried",
              "collaborative": false,
              "createdAt": 1339616946,
              "description": "All the goodies and the baddies.",
              "editable": false,
              "followers": {
               "count": 1
              },
              "id": "4fd8eeb2e4b01d43a35c8dd0",
              "listItems": {
               "count": 91,
               "items": [
                {
                 "createdAt": 1339617953,
                 "id": "v4e9a75a3d3e3697fbfda59ee"
                }
               ]
              },
              "name": "Restaurants I've tried.",
              "public": true,
              "type": "others",
              "updatedAt": 1367574671,
              "url": "/user/3974370/list/restaurants-ive-tried",
              "user": {
               "countryCode": "CA",
               "firstName": "Reggie",
               "lastName": "B"
              }
             },
             {
              "canonicalUrl": "https://foursquare.com/user/36806429/list/comedy-vancouver",
              "collaborative": false,
              "createdAt": 1491940486,
              "description": "Spots with paid open mic during different days of the week",
              "editable": false,
              "followers": {
               "count": 0
              },
              "id": "58ed3486135b390aa916c416",
              "listItems": {
               "count": 11,
               "items": [
                {
                 "createdAt": 1491940608,
                 "id": "v4e9a75a3d3e3697fbfda59ee"
                }
               ]
              },
              "name": "Comedy Vancouver",
              "public": true,
              "type": "others",
              "updatedAt": 1516592676,
              "url": "/user/36806429/list/comedy-vancouver",
              "user": {
               "countryCode": "CA",
               "firstName": "Arash",
               "lastName": "N"
              }
             }
            ],
            "name": "Lists from other people",
            "type": "others"
           }
          ]
         },
         "location": {
          "address": "2884 W Broadway",
          "cc": "CA",
          "city": "Vancouver",
          "country": "Canada",
          "crossStreet": "btwn Macdonald & Mackenzie",
          "formattedAddress": [
           "2884 W Broadway (btwn Macdonald & Mackenzie)",
           "Vancouver BC",
           "Canada"
          ],
          "labeledLatLngs": [
           {
            "label": "display",
            "lat": 49.26400780924734,
            "lng": -123.16963810838409
           }
          ],
          "lat": 49.26400780924734,
          "lng": -123.16963810838409,
          "state": "BC"
         },
         "menu": {
          "anchor": "View Menu",
          "label": "Menu",
          "mobileUrl": "https://foursquare.com/v/4e9a75a3d3e3697fbfda59ee/device_menu",
          "type": "Menu",
          "url": "https://foursquare.com/v/yaggers-kitsilano-restaurant/4e9a75a3d3e3697fbfda59ee/menu"
         },
         "name": "Yagger's Kitsilano Restaurant",
         "ok": false,
         "pageUpdates": {
          "count": 0,
          "items": []
         },
         "photos": {
          "count": 19,
          "groups": [
           {
            "count": 19,
            "items": [
             {
              "createdAt": 1518660260,
              "height": 1440,
              "id": "5a84eaa43af9887d4067c291",
              "prefix": "https://fastly.4sqi.net/img/general/",
              "source": {
               "name": "Foursquare for iOS",
               "url": "https://foursquare.com/download/#/iphone"
              },
              "suffix": "/760219_PQFvwTLzzqQZy27HAxvM8uJMASG4R-EwMXkAOIbCYuc.jpg",
              "visibility": "public",
              "width": 1920
             }
            ],
            "name": "Venue photos",
            "type": "venue"
           }
          ]
         },
         "popular": {
          "isLocalHoliday": false,
          "isOpen": false,
          "timeframes": [
           {
            "days": "Today",
            "includesToday": true,
            "open": [
             {
              "renderedTime": "5:00 PM–Midnight"
             }
            ],
            "segments": []
           },
           {
            "days": "Fri",
            "open": [
             {
              "renderedTime": "5:00 PM–1:00 AM"
             }
            ],
            "segments": []
           },
           {
            "days": "Sat",
            "open": [
             {
              "renderedTime": "3:00 PM–2:00 AM"
             }
            ],
            "segments": []
           },
           {
            "days": "Sun",
            "open": [
             {
              "renderedTime": "10:00 AM–9:00 PM"
             }
            ],
            "segments": []
           },
           {
            "days": "Mon",
            "open": [
             {
              "renderedTime": "5:00 PM–6:00 PM"
             },
             {
              "renderedTime": "8:00 PM–11:00 PM"
             }
            ],
            "segments": []
           },
           {
            "days": "Tue",
            "open": [
             {
              "renderedTime": "6:00 PM–Midnight"
             }
            ],
            "segments": []
           },
           {
            "days": "Wed",
            "open": [
             {
              "renderedTime": "5:00 PM–11:00 PM"
             }
            ],
            "segments": []
           }
          ]
         },
         "price": {
          "currency": "$",
          "message": "Cheap",
          "tier": 1
         },
         "rating": 5.9,
         "ratingColor": "FF9600",
         "ratingSignals": 30,
         "reasons": {
          "count": 0,
          "items": []
         },
         "seasonalHours": [],
         "shortUrl": "http://4sq.com/ni3KFj",
         "specials": {
          "count": 0,
          "items": []
         },
         "stats": {
          "tipCount": 9
         },
         "timeZone": "America/Vancouver",
         "tips": {
          "count": 9,
          "groups": [
           {
            "count": 9,
            "items": [
             {
              "agreeCount": 1,
              "canonicalUrl": "https://foursquare.com/item/4fb73bd3e4b0c776a692dc75",
              "createdAt": 1337408467,
              "disagreeCount": 0,
              "id": "4fb73bd3e4b0c776a692dc75",
              "lang": "en",
              "likes": {
               "count": 1,
               "groups": [
                {
                 "count": 1,
                 "items": [
                  {
                   "countryCode": "CA",
                   "firstName": "Al",
                   "lastName": "F"
                  }
                 ],
                 "type": "others"
                }
               ],
               "summary": "1 like"
              },
              "logView": true,
              "text": "You have to try the Tortilla Sopa, it is to die for!!",
              "todo": {
               "count": 0
              },
              "type": "user",
              "user": {
               "countryCode": "CA",
               "firstName": "Elizabeth",
               "lastName": "L"
              }
             }
            ],
            "name": "All tips",
            "type": "others"
           }
          ]
         },
         "url": "http://www.yaggers.com/yaggers-kitsilano/",
         "verified": false
        }
       }
      },
      "text/plain": [
       "<IPython.core.display.JSON object>"
      ]
     },
     "execution_count": 87,
     "metadata": {
      "application/json": {
       "expanded": false,
       "root": "root"
      }
     },
     "output_type": "execute_result"
    }
   ],
   "source": [
    "JSON(result)"
   ]
  },
  {
   "cell_type": "code",
   "execution_count": 102,
   "metadata": {},
   "outputs": [
    {
     "data": {
      "text/plain": [
       "True"
      ]
     },
     "execution_count": 102,
     "metadata": {},
     "output_type": "execute_result"
    }
   ],
   "source": [
    "result['response']['venue']['hasMenu']"
   ]
  },
  {
   "cell_type": "code",
   "execution_count": 91,
   "metadata": {},
   "outputs": [
    {
     "ename": "KeyError",
     "evalue": "'rating'",
     "output_type": "error",
     "traceback": [
      "\u001b[0;31m---------------------------------------------------------------------------\u001b[0m",
      "\u001b[0;31mKeyError\u001b[0m                                  Traceback (most recent call last)",
      "\u001b[0;32m<ipython-input-91-794a31064229>\u001b[0m in \u001b[0;36m<module>\u001b[0;34m\u001b[0m\n\u001b[1;32m      5\u001b[0m     \u001b[0mresult\u001b[0m \u001b[0;34m=\u001b[0m \u001b[0mrequests\u001b[0m\u001b[0;34m.\u001b[0m\u001b[0mget\u001b[0m\u001b[0;34m(\u001b[0m\u001b[0murl\u001b[0m\u001b[0;34m)\u001b[0m\u001b[0;34m.\u001b[0m\u001b[0mjson\u001b[0m\u001b[0;34m(\u001b[0m\u001b[0;34m)\u001b[0m\u001b[0;34m\u001b[0m\u001b[0;34m\u001b[0m\u001b[0m\n\u001b[1;32m      6\u001b[0m     \u001b[0;32mtry\u001b[0m\u001b[0;34m:\u001b[0m\u001b[0;34m\u001b[0m\u001b[0;34m\u001b[0m\u001b[0m\n\u001b[0;32m----> 7\u001b[0;31m         \u001b[0mvenues_rating\u001b[0m\u001b[0;34m=\u001b[0m\u001b[0mresult\u001b[0m\u001b[0;34m[\u001b[0m\u001b[0;34m'response'\u001b[0m\u001b[0;34m]\u001b[0m\u001b[0;34m[\u001b[0m\u001b[0;34m'venue'\u001b[0m\u001b[0;34m]\u001b[0m\u001b[0;34m[\u001b[0m\u001b[0;34m'rating'\u001b[0m\u001b[0;34m]\u001b[0m\u001b[0;34m\u001b[0m\u001b[0;34m\u001b[0m\u001b[0m\n\u001b[0m\u001b[1;32m      8\u001b[0m         \u001b[0mratings\u001b[0m\u001b[0;34m=\u001b[0m\u001b[0mratings\u001b[0m\u001b[0;34m+\u001b[0m\u001b[0;34m[\u001b[0m\u001b[0mvenues_rating\u001b[0m\u001b[0;34m]\u001b[0m\u001b[0;34m\u001b[0m\u001b[0;34m\u001b[0m\u001b[0m\n\u001b[1;32m      9\u001b[0m     \u001b[0;32mexcept\u001b[0m \u001b[0mIndexError\u001b[0m\u001b[0;34m:\u001b[0m\u001b[0;34m\u001b[0m\u001b[0;34m\u001b[0m\u001b[0m\n",
      "\u001b[0;31mKeyError\u001b[0m: 'rating'"
     ]
    }
   ],
   "source": [
    "venues_ids = fs_dropped['id']\n",
    "ratings=[]\n",
    "for venue_id in venues_ids.values.tolist():\n",
    "    url = 'https://api.foursquare.com/v2/venues/{}?client_id={}&client_secret={}&v={}'.format(venue_id, foursquare_id, foursquare_secret, version)\n",
    "    result = requests.get(url).json()\n",
    "    try:\n",
    "        venues_rating=result['response']['venue']['rating']\n",
    "        ratings=ratings+[venues_rating]\n",
    "    except IndexError:\n",
    "        print('No data available for id=',venue_id)\n",
    "ratings"
   ]
  },
  {
   "cell_type": "code",
   "execution_count": null,
   "metadata": {},
   "outputs": [],
   "source": [
    "venues_ids= fs_idlist['id']\n",
    "ratings=[]\n",
    "for venue_id in venues_ids.values.tolist():\n",
    "    url = 'https://api.foursquare.com/v2/venues/{}?client_id={}&client_secret={}&v={}'.format(venue_id, foursquare_id, foursquare_secret, version)\n",
    "    result = requests.get(url).json()\n",
    "result"
   ]
  },
  {
   "cell_type": "markdown",
   "metadata": {},
   "source": [
    "##### END OF TEST SECTION"
   ]
  },
  {
   "cell_type": "code",
   "execution_count": null,
   "metadata": {},
   "outputs": [],
   "source": []
  },
  {
   "cell_type": "markdown",
   "metadata": {},
   "source": [
    "#### Victoria POI"
   ]
  },
  {
   "cell_type": "code",
   "execution_count": null,
   "metadata": {},
   "outputs": [],
   "source": [
    "# Breweries"
   ]
  },
  {
   "cell_type": "code",
   "execution_count": 148,
   "metadata": {},
   "outputs": [],
   "source": [
    "# Breweries get request from foursquare\n",
    "fs_breweries = fs_client.venues.search(params={'query': 'brewery','radius': '2500', 'll': '48.42701, -123.37494', 'limit': '25'})"
   ]
  },
  {
   "cell_type": "code",
   "execution_count": 149,
   "metadata": {},
   "outputs": [
    {
     "data": {
      "application/json": {
       "venues": [
        {
         "categories": [
          {
           "icon": {
            "prefix": "https://ss3.4sqi.net/img/categories_v2/arts_entertainment/performingarts_",
            "suffix": ".png"
           },
           "id": "4bf58dd8d48988d1f2931735",
           "name": "Performing Arts Venue",
           "pluralName": "Performing Arts Venues",
           "primary": true,
           "shortName": "Performing Arts"
          }
         ],
         "hasPerk": false,
         "id": "55150900498e2f2d19e3adbf",
         "location": {
          "cc": "CA",
          "city": "Victoria",
          "country": "Canada",
          "distance": 845,
          "formattedAddress": [
           "Victoria BC",
           "Canada"
          ],
          "labeledLatLngs": [
           {
            "label": "display",
            "lat": 48.4326736,
            "lng": -123.3673092
           }
          ],
          "lat": 48.4326736,
          "lng": -123.3673092,
          "state": "BC"
         },
         "name": "Phillips Backyard (at Phillips Brewery)",
         "referralId": "v-1620336785"
        },
        {
         "categories": [
          {
           "icon": {
            "prefix": "https://ss3.4sqi.net/img/categories_v2/food/brewery_",
            "suffix": ".png"
           },
           "id": "50327c8591d4c4b30a586d5d",
           "name": "Brewery",
           "pluralName": "Breweries",
           "primary": true,
           "shortName": "Brewery"
          }
         ],
         "hasPerk": false,
         "id": "4b722631f964a5203c712de3",
         "location": {
          "address": "2330 Government St",
          "cc": "CA",
          "city": "Victoria",
          "country": "Canada",
          "crossStreet": "at Bay St",
          "distance": 1021,
          "formattedAddress": [
           "2330 Government St (at Bay St)",
           "Victoria BC V8T 5G5",
           "Canada"
          ],
          "labeledLatLngs": [
           {
            "label": "display",
            "lat": 48.43467192255111,
            "lng": -123.36733417846911
           }
          ],
          "lat": 48.43467192255111,
          "lng": -123.36733417846911,
          "postalCode": "V8T 5G5",
          "state": "BC"
         },
         "name": "Vancouver Island Brewery",
         "referralId": "v-1620336785"
        },
        {
         "categories": [
          {
           "icon": {
            "prefix": "https://ss3.4sqi.net/img/categories_v2/food/gastropub_",
            "suffix": ".png"
           },
           "id": "4bf58dd8d48988d155941735",
           "name": "Gastropub",
           "pluralName": "Gastropubs",
           "primary": true,
           "shortName": "Gastropub"
          }
         ],
         "hasPerk": false,
         "id": "4cba03584495721efae54d7a",
         "location": {
          "address": "350B Bay St.",
          "cc": "CA",
          "city": "Victoria",
          "country": "Canada",
          "crossStreet": "btwn Pleasant & Turner St.",
          "distance": 908,
          "formattedAddress": [
           "350B Bay St. (btwn Pleasant & Turner St.)",
           "Victoria BC V8T 1P7",
           "Canada"
          ],
          "labeledLatLngs": [
           {
            "label": "display",
            "lat": 48.435160749717475,
            "lng": -123.37552719872711
           }
          ],
          "lat": 48.435160749717475,
          "lng": -123.37552719872711,
          "postalCode": "V8T 1P7",
          "state": "BC"
         },
         "name": "Moon Under Water Pub & Brewery",
         "referralId": "v-1620336785",
         "venuePage": {
          "id": "37349301"
         }
        },
        {
         "categories": [
          {
           "icon": {
            "prefix": "https://ss3.4sqi.net/img/categories_v2/food/brewery_",
            "suffix": ".png"
           },
           "id": "50327c8591d4c4b30a586d5d",
           "name": "Brewery",
           "pluralName": "Breweries",
           "primary": true,
           "shortName": "Brewery"
          }
         ],
         "hasPerk": false,
         "id": "4d63021891cfa1cd388c3939",
         "location": {
          "address": "102-450 Hillside Ave.",
          "cc": "CA",
          "city": "Victoria",
          "country": "Canada",
          "distance": 1115,
          "formattedAddress": [
           "102-450 Hillside Ave.",
           "Victoria BC V8T 1Y7",
           "Canada"
          ],
          "labeledLatLngs": [
           {
            "label": "display",
            "lat": 48.437008775581376,
            "lng": -123.37391537268367
           }
          ],
          "lat": 48.437008775581376,
          "lng": -123.37391537268367,
          "postalCode": "V8T 1Y7",
          "state": "BC"
         },
         "name": "Driftwood Brewery",
         "referralId": "v-1620336785"
        },
        {
         "categories": [
          {
           "icon": {
            "prefix": "https://ss3.4sqi.net/img/categories_v2/travel/hotel_",
            "suffix": ".png"
           },
           "id": "4bf58dd8d48988d1fa931735",
           "name": "Hotel",
           "pluralName": "Hotels",
           "primary": true,
           "shortName": "Hotel"
          }
         ],
         "hasPerk": false,
         "id": "4c62fc0886b6be9a136d8d34",
         "location": {
          "address": "506 Pandora Ave",
          "cc": "CA",
          "city": "Victoria",
          "country": "Canada",
          "crossStreet": "at Wharf St",
          "distance": 435,
          "formattedAddress": [
           "506 Pandora Ave (at Wharf St)",
           "Victoria BC",
           "Canada"
          ],
          "labeledLatLngs": [
           {
            "label": "display",
            "lat": 48.42848902023458,
            "lng": -123.36948620988238
           }
          ],
          "lat": 48.42848902023458,
          "lng": -123.36948620988238,
          "state": "BC"
         },
         "name": "Swans Hotel",
         "referralId": "v-1620336785"
        },
        {
         "categories": [
          {
           "icon": {
            "prefix": "https://ss3.4sqi.net/img/categories_v2/food/gastropub_",
            "suffix": ".png"
           },
           "id": "4bf58dd8d48988d155941735",
           "name": "Gastropub",
           "pluralName": "Gastropubs",
           "primary": true,
           "shortName": "Gastropub"
          }
         ],
         "hasPerk": false,
         "id": "4b39b967f964a520b85e25e3",
         "location": {
          "address": "506 Pandora Ave",
          "cc": "CA",
          "city": "Victoria",
          "country": "Canada",
          "crossStreet": "at Wharf St",
          "distance": 434,
          "formattedAddress": [
           "506 Pandora Ave (at Wharf St)",
           "Victoria BC V8W 1N6",
           "Canada"
          ],
          "labeledLatLngs": [
           {
            "label": "display",
            "lat": 48.42849229191692,
            "lng": -123.3694967399528
           }
          ],
          "lat": 48.42849229191692,
          "lng": -123.3694967399528,
          "postalCode": "V8W 1N6",
          "state": "BC"
         },
         "name": "Swans Brewpub",
         "referralId": "v-1620336785"
        },
        {
         "categories": [
          {
           "icon": {
            "prefix": "https://ss3.4sqi.net/img/categories_v2/food/brewery_",
            "suffix": ".png"
           },
           "id": "50327c8591d4c4b30a586d5d",
           "name": "Brewery",
           "pluralName": "Breweries",
           "primary": true,
           "shortName": "Brewery"
          }
         ],
         "hasPerk": false,
         "id": "4bce428afb84c9b69991233e",
         "location": {
          "address": "2010 Government St",
          "cc": "CA",
          "city": "Victoria",
          "country": "Canada",
          "crossStreet": "Discovery St",
          "distance": 802,
          "formattedAddress": [
           "2010 Government St (Discovery St)",
           "Victoria BC V8T 4P1",
           "Canada"
          ],
          "labeledLatLngs": [
           {
            "label": "display",
            "lat": 48.43224615551987,
            "lng": -123.36747554926224
           }
          ],
          "lat": 48.43224615551987,
          "lng": -123.36747554926224,
          "postalCode": "V8T 4P1",
          "state": "BC"
         },
         "name": "Phillips Brewing Co.",
         "referralId": "v-1620336785"
        },
        {
         "categories": [
          {
           "icon": {
            "prefix": "https://ss3.4sqi.net/img/categories_v2/food/brewery_",
            "suffix": ".png"
           },
           "id": "50327c8591d4c4b30a586d5d",
           "name": "Brewery",
           "pluralName": "Breweries",
           "primary": true,
           "shortName": "Brewery"
          }
         ],
         "hasPerk": false,
         "id": "4d93e97c45ae548150c0f9eb",
         "location": {
          "address": "836 Devonshire Rd",
          "cc": "CA",
          "city": "Victoria",
          "country": "Canada",
          "distance": 1901,
          "formattedAddress": [
           "836 Devonshire Rd",
           "Victoria BC",
           "Canada"
          ],
          "labeledLatLngs": [
           {
            "label": "display",
            "lat": 48.43631911948292,
            "lng": -123.39651953474153
           }
          ],
          "lat": 48.43631911948292,
          "lng": -123.39651953474153,
          "state": "BC"
         },
         "name": "Lighthouse Brewing",
         "referralId": "v-1620336785"
        }
       ]
      },
      "text/plain": [
       "<IPython.core.display.JSON object>"
      ]
     },
     "execution_count": 149,
     "metadata": {
      "application/json": {
       "expanded": false,
       "root": "root"
      }
     },
     "output_type": "execute_result"
    }
   ],
   "source": [
    "JSON(fs_breweries)"
   ]
  },
  {
   "cell_type": "code",
   "execution_count": 150,
   "metadata": {},
   "outputs": [],
   "source": [
    "fs_brew = fs_breweries['venues'].copy()"
   ]
  },
  {
   "cell_type": "code",
   "execution_count": 151,
   "metadata": {},
   "outputs": [
    {
     "data": {
      "text/plain": [
       "Index(['id', 'name', 'categories', 'referralId', 'hasPerk', 'location.lat',\n",
       "       'location.lng', 'location.labeledLatLngs', 'location.distance',\n",
       "       'location.cc', 'location.city', 'location.state', 'location.country',\n",
       "       'location.formattedAddress', 'location.address', 'location.crossStreet',\n",
       "       'location.postalCode', 'venuePage.id'],\n",
       "      dtype='object')"
      ]
     },
     "execution_count": 151,
     "metadata": {},
     "output_type": "execute_result"
    }
   ],
   "source": [
    "fs_norm_brew = pd.json_normalize(fs_brew)\n",
    "fs_norm_brew.columns"
   ]
  },
  {
   "cell_type": "code",
   "execution_count": 152,
   "metadata": {},
   "outputs": [],
   "source": [
    "col_list = ['name','location.address','location.crossStreet','location.distance','location.city','location.formattedAddress']\n",
    "fs_brew_result = fs_norm_brew[col_list]"
   ]
  },
  {
   "cell_type": "code",
   "execution_count": 153,
   "metadata": {
    "collapsed": true,
    "jupyter": {
     "outputs_hidden": true
    }
   },
   "outputs": [
    {
     "data": {
      "text/html": [
       "<div>\n",
       "<style scoped>\n",
       "    .dataframe tbody tr th:only-of-type {\n",
       "        vertical-align: middle;\n",
       "    }\n",
       "\n",
       "    .dataframe tbody tr th {\n",
       "        vertical-align: top;\n",
       "    }\n",
       "\n",
       "    .dataframe thead th {\n",
       "        text-align: right;\n",
       "    }\n",
       "</style>\n",
       "<table border=\"1\" class=\"dataframe\">\n",
       "  <thead>\n",
       "    <tr style=\"text-align: right;\">\n",
       "      <th></th>\n",
       "      <th>name</th>\n",
       "      <th>location.address</th>\n",
       "      <th>location.crossStreet</th>\n",
       "      <th>location.distance</th>\n",
       "      <th>location.city</th>\n",
       "      <th>location.formattedAddress</th>\n",
       "    </tr>\n",
       "  </thead>\n",
       "  <tbody>\n",
       "    <tr>\n",
       "      <th>0</th>\n",
       "      <td>Phillips Backyard (at Phillips Brewery)</td>\n",
       "      <td>NaN</td>\n",
       "      <td>NaN</td>\n",
       "      <td>845</td>\n",
       "      <td>Victoria</td>\n",
       "      <td>[Victoria BC, Canada]</td>\n",
       "    </tr>\n",
       "    <tr>\n",
       "      <th>1</th>\n",
       "      <td>Vancouver Island Brewery</td>\n",
       "      <td>2330 Government St</td>\n",
       "      <td>at Bay St</td>\n",
       "      <td>1021</td>\n",
       "      <td>Victoria</td>\n",
       "      <td>[2330 Government St (at Bay St), Victoria BC V...</td>\n",
       "    </tr>\n",
       "    <tr>\n",
       "      <th>2</th>\n",
       "      <td>Moon Under Water Pub &amp; Brewery</td>\n",
       "      <td>350B Bay St.</td>\n",
       "      <td>btwn Pleasant &amp; Turner St.</td>\n",
       "      <td>908</td>\n",
       "      <td>Victoria</td>\n",
       "      <td>[350B Bay St. (btwn Pleasant &amp; Turner St.), Vi...</td>\n",
       "    </tr>\n",
       "    <tr>\n",
       "      <th>3</th>\n",
       "      <td>Driftwood Brewery</td>\n",
       "      <td>102-450 Hillside Ave.</td>\n",
       "      <td>NaN</td>\n",
       "      <td>1115</td>\n",
       "      <td>Victoria</td>\n",
       "      <td>[102-450 Hillside Ave., Victoria BC V8T 1Y7, C...</td>\n",
       "    </tr>\n",
       "    <tr>\n",
       "      <th>4</th>\n",
       "      <td>Swans Hotel</td>\n",
       "      <td>506 Pandora Ave</td>\n",
       "      <td>at Wharf St</td>\n",
       "      <td>435</td>\n",
       "      <td>Victoria</td>\n",
       "      <td>[506 Pandora Ave (at Wharf St), Victoria BC, C...</td>\n",
       "    </tr>\n",
       "    <tr>\n",
       "      <th>5</th>\n",
       "      <td>Swans Brewpub</td>\n",
       "      <td>506 Pandora Ave</td>\n",
       "      <td>at Wharf St</td>\n",
       "      <td>434</td>\n",
       "      <td>Victoria</td>\n",
       "      <td>[506 Pandora Ave (at Wharf St), Victoria BC V8...</td>\n",
       "    </tr>\n",
       "    <tr>\n",
       "      <th>6</th>\n",
       "      <td>Phillips Brewing Co.</td>\n",
       "      <td>2010 Government St</td>\n",
       "      <td>Discovery St</td>\n",
       "      <td>802</td>\n",
       "      <td>Victoria</td>\n",
       "      <td>[2010 Government St (Discovery St), Victoria B...</td>\n",
       "    </tr>\n",
       "    <tr>\n",
       "      <th>7</th>\n",
       "      <td>Lighthouse Brewing</td>\n",
       "      <td>836 Devonshire Rd</td>\n",
       "      <td>NaN</td>\n",
       "      <td>1901</td>\n",
       "      <td>Victoria</td>\n",
       "      <td>[836 Devonshire Rd, Victoria BC, Canada]</td>\n",
       "    </tr>\n",
       "  </tbody>\n",
       "</table>\n",
       "</div>"
      ],
      "text/plain": [
       "                                      name       location.address  \\\n",
       "0  Phillips Backyard (at Phillips Brewery)                    NaN   \n",
       "1                 Vancouver Island Brewery     2330 Government St   \n",
       "2           Moon Under Water Pub & Brewery           350B Bay St.   \n",
       "3                        Driftwood Brewery  102-450 Hillside Ave.   \n",
       "4                              Swans Hotel        506 Pandora Ave   \n",
       "5                            Swans Brewpub        506 Pandora Ave   \n",
       "6                     Phillips Brewing Co.     2010 Government St   \n",
       "7                       Lighthouse Brewing      836 Devonshire Rd   \n",
       "\n",
       "         location.crossStreet  location.distance location.city  \\\n",
       "0                         NaN                845      Victoria   \n",
       "1                   at Bay St               1021      Victoria   \n",
       "2  btwn Pleasant & Turner St.                908      Victoria   \n",
       "3                         NaN               1115      Victoria   \n",
       "4                 at Wharf St                435      Victoria   \n",
       "5                 at Wharf St                434      Victoria   \n",
       "6                Discovery St                802      Victoria   \n",
       "7                         NaN               1901      Victoria   \n",
       "\n",
       "                           location.formattedAddress  \n",
       "0                              [Victoria BC, Canada]  \n",
       "1  [2330 Government St (at Bay St), Victoria BC V...  \n",
       "2  [350B Bay St. (btwn Pleasant & Turner St.), Vi...  \n",
       "3  [102-450 Hillside Ave., Victoria BC V8T 1Y7, C...  \n",
       "4  [506 Pandora Ave (at Wharf St), Victoria BC, C...  \n",
       "5  [506 Pandora Ave (at Wharf St), Victoria BC V8...  \n",
       "6  [2010 Government St (Discovery St), Victoria B...  \n",
       "7           [836 Devonshire Rd, Victoria BC, Canada]  "
      ]
     },
     "execution_count": 153,
     "metadata": {},
     "output_type": "execute_result"
    }
   ],
   "source": [
    "fs_brew_result"
   ]
  },
  {
   "cell_type": "code",
   "execution_count": 166,
   "metadata": {},
   "outputs": [],
   "source": [
    "# rating dictionary\n",
    "brew_rating = [8.8,7.5,8.3,8.4,7.5,7.5,8.8,float(\"NaN\")]"
   ]
  },
  {
   "cell_type": "code",
   "execution_count": 167,
   "metadata": {
    "collapsed": true,
    "jupyter": {
     "outputs_hidden": true
    }
   },
   "outputs": [
    {
     "name": "stderr",
     "output_type": "stream",
     "text": [
      "<ipython-input-167-c618a0663d9a>:2: SettingWithCopyWarning: \n",
      "A value is trying to be set on a copy of a slice from a DataFrame.\n",
      "Try using .loc[row_indexer,col_indexer] = value instead\n",
      "\n",
      "See the caveats in the documentation: https://pandas.pydata.org/pandas-docs/stable/user_guide/indexing.html#returning-a-view-versus-a-copy\n",
      "  fs_brew_result['rating'] = brew_rating\n"
     ]
    }
   ],
   "source": [
    "# add column with rating\n",
    "fs_brew_result['rating'] = brew_rating"
   ]
  },
  {
   "cell_type": "code",
   "execution_count": 168,
   "metadata": {
    "collapsed": true,
    "jupyter": {
     "outputs_hidden": true
    }
   },
   "outputs": [
    {
     "data": {
      "text/html": [
       "<div>\n",
       "<style scoped>\n",
       "    .dataframe tbody tr th:only-of-type {\n",
       "        vertical-align: middle;\n",
       "    }\n",
       "\n",
       "    .dataframe tbody tr th {\n",
       "        vertical-align: top;\n",
       "    }\n",
       "\n",
       "    .dataframe thead th {\n",
       "        text-align: right;\n",
       "    }\n",
       "</style>\n",
       "<table border=\"1\" class=\"dataframe\">\n",
       "  <thead>\n",
       "    <tr style=\"text-align: right;\">\n",
       "      <th></th>\n",
       "      <th>name</th>\n",
       "      <th>location.address</th>\n",
       "      <th>location.crossStreet</th>\n",
       "      <th>location.distance</th>\n",
       "      <th>location.city</th>\n",
       "      <th>location.formattedAddress</th>\n",
       "      <th>rating</th>\n",
       "    </tr>\n",
       "  </thead>\n",
       "  <tbody>\n",
       "    <tr>\n",
       "      <th>0</th>\n",
       "      <td>Phillips Backyard (at Phillips Brewery)</td>\n",
       "      <td>NaN</td>\n",
       "      <td>NaN</td>\n",
       "      <td>845</td>\n",
       "      <td>Victoria</td>\n",
       "      <td>[Victoria BC, Canada]</td>\n",
       "      <td>8.8</td>\n",
       "    </tr>\n",
       "    <tr>\n",
       "      <th>1</th>\n",
       "      <td>Vancouver Island Brewery</td>\n",
       "      <td>2330 Government St</td>\n",
       "      <td>at Bay St</td>\n",
       "      <td>1021</td>\n",
       "      <td>Victoria</td>\n",
       "      <td>[2330 Government St (at Bay St), Victoria BC V...</td>\n",
       "      <td>7.5</td>\n",
       "    </tr>\n",
       "    <tr>\n",
       "      <th>2</th>\n",
       "      <td>Moon Under Water Pub &amp; Brewery</td>\n",
       "      <td>350B Bay St.</td>\n",
       "      <td>btwn Pleasant &amp; Turner St.</td>\n",
       "      <td>908</td>\n",
       "      <td>Victoria</td>\n",
       "      <td>[350B Bay St. (btwn Pleasant &amp; Turner St.), Vi...</td>\n",
       "      <td>8.3</td>\n",
       "    </tr>\n",
       "    <tr>\n",
       "      <th>3</th>\n",
       "      <td>Driftwood Brewery</td>\n",
       "      <td>102-450 Hillside Ave.</td>\n",
       "      <td>NaN</td>\n",
       "      <td>1115</td>\n",
       "      <td>Victoria</td>\n",
       "      <td>[102-450 Hillside Ave., Victoria BC V8T 1Y7, C...</td>\n",
       "      <td>8.4</td>\n",
       "    </tr>\n",
       "    <tr>\n",
       "      <th>4</th>\n",
       "      <td>Swans Hotel</td>\n",
       "      <td>506 Pandora Ave</td>\n",
       "      <td>at Wharf St</td>\n",
       "      <td>435</td>\n",
       "      <td>Victoria</td>\n",
       "      <td>[506 Pandora Ave (at Wharf St), Victoria BC, C...</td>\n",
       "      <td>7.5</td>\n",
       "    </tr>\n",
       "    <tr>\n",
       "      <th>5</th>\n",
       "      <td>Swans Brewpub</td>\n",
       "      <td>506 Pandora Ave</td>\n",
       "      <td>at Wharf St</td>\n",
       "      <td>434</td>\n",
       "      <td>Victoria</td>\n",
       "      <td>[506 Pandora Ave (at Wharf St), Victoria BC V8...</td>\n",
       "      <td>7.5</td>\n",
       "    </tr>\n",
       "    <tr>\n",
       "      <th>6</th>\n",
       "      <td>Phillips Brewing Co.</td>\n",
       "      <td>2010 Government St</td>\n",
       "      <td>Discovery St</td>\n",
       "      <td>802</td>\n",
       "      <td>Victoria</td>\n",
       "      <td>[2010 Government St (Discovery St), Victoria B...</td>\n",
       "      <td>8.8</td>\n",
       "    </tr>\n",
       "    <tr>\n",
       "      <th>7</th>\n",
       "      <td>Lighthouse Brewing</td>\n",
       "      <td>836 Devonshire Rd</td>\n",
       "      <td>NaN</td>\n",
       "      <td>1901</td>\n",
       "      <td>Victoria</td>\n",
       "      <td>[836 Devonshire Rd, Victoria BC, Canada]</td>\n",
       "      <td>NaN</td>\n",
       "    </tr>\n",
       "  </tbody>\n",
       "</table>\n",
       "</div>"
      ],
      "text/plain": [
       "                                      name       location.address  \\\n",
       "0  Phillips Backyard (at Phillips Brewery)                    NaN   \n",
       "1                 Vancouver Island Brewery     2330 Government St   \n",
       "2           Moon Under Water Pub & Brewery           350B Bay St.   \n",
       "3                        Driftwood Brewery  102-450 Hillside Ave.   \n",
       "4                              Swans Hotel        506 Pandora Ave   \n",
       "5                            Swans Brewpub        506 Pandora Ave   \n",
       "6                     Phillips Brewing Co.     2010 Government St   \n",
       "7                       Lighthouse Brewing      836 Devonshire Rd   \n",
       "\n",
       "         location.crossStreet  location.distance location.city  \\\n",
       "0                         NaN                845      Victoria   \n",
       "1                   at Bay St               1021      Victoria   \n",
       "2  btwn Pleasant & Turner St.                908      Victoria   \n",
       "3                         NaN               1115      Victoria   \n",
       "4                 at Wharf St                435      Victoria   \n",
       "5                 at Wharf St                434      Victoria   \n",
       "6                Discovery St                802      Victoria   \n",
       "7                         NaN               1901      Victoria   \n",
       "\n",
       "                           location.formattedAddress  rating  \n",
       "0                              [Victoria BC, Canada]     8.8  \n",
       "1  [2330 Government St (at Bay St), Victoria BC V...     7.5  \n",
       "2  [350B Bay St. (btwn Pleasant & Turner St.), Vi...     8.3  \n",
       "3  [102-450 Hillside Ave., Victoria BC V8T 1Y7, C...     8.4  \n",
       "4  [506 Pandora Ave (at Wharf St), Victoria BC, C...     7.5  \n",
       "5  [506 Pandora Ave (at Wharf St), Victoria BC V8...     7.5  \n",
       "6  [2010 Government St (Discovery St), Victoria B...     8.8  \n",
       "7           [836 Devonshire Rd, Victoria BC, Canada]     NaN  "
      ]
     },
     "execution_count": 168,
     "metadata": {},
     "output_type": "execute_result"
    }
   ],
   "source": [
    "fs_brew_result"
   ]
  },
  {
   "cell_type": "code",
   "execution_count": 192,
   "metadata": {},
   "outputs": [],
   "source": [
    "# Victoria breweries ordered by rating\n",
    "breweries_foursquare = fs_brew_result.sort_values(by='rating', ascending=False)"
   ]
  },
  {
   "cell_type": "code",
   "execution_count": 193,
   "metadata": {},
   "outputs": [
    {
     "data": {
      "text/html": [
       "<div>\n",
       "<style scoped>\n",
       "    .dataframe tbody tr th:only-of-type {\n",
       "        vertical-align: middle;\n",
       "    }\n",
       "\n",
       "    .dataframe tbody tr th {\n",
       "        vertical-align: top;\n",
       "    }\n",
       "\n",
       "    .dataframe thead th {\n",
       "        text-align: right;\n",
       "    }\n",
       "</style>\n",
       "<table border=\"1\" class=\"dataframe\">\n",
       "  <thead>\n",
       "    <tr style=\"text-align: right;\">\n",
       "      <th></th>\n",
       "      <th>name</th>\n",
       "      <th>location.address</th>\n",
       "      <th>location.crossStreet</th>\n",
       "      <th>location.distance</th>\n",
       "      <th>location.city</th>\n",
       "      <th>location.formattedAddress</th>\n",
       "      <th>rating</th>\n",
       "    </tr>\n",
       "  </thead>\n",
       "  <tbody>\n",
       "    <tr>\n",
       "      <th>0</th>\n",
       "      <td>Phillips Backyard (at Phillips Brewery)</td>\n",
       "      <td>NaN</td>\n",
       "      <td>NaN</td>\n",
       "      <td>845</td>\n",
       "      <td>Victoria</td>\n",
       "      <td>[Victoria BC, Canada]</td>\n",
       "      <td>8.8</td>\n",
       "    </tr>\n",
       "    <tr>\n",
       "      <th>6</th>\n",
       "      <td>Phillips Brewing Co.</td>\n",
       "      <td>2010 Government St</td>\n",
       "      <td>Discovery St</td>\n",
       "      <td>802</td>\n",
       "      <td>Victoria</td>\n",
       "      <td>[2010 Government St (Discovery St), Victoria B...</td>\n",
       "      <td>8.8</td>\n",
       "    </tr>\n",
       "    <tr>\n",
       "      <th>3</th>\n",
       "      <td>Driftwood Brewery</td>\n",
       "      <td>102-450 Hillside Ave.</td>\n",
       "      <td>NaN</td>\n",
       "      <td>1115</td>\n",
       "      <td>Victoria</td>\n",
       "      <td>[102-450 Hillside Ave., Victoria BC V8T 1Y7, C...</td>\n",
       "      <td>8.4</td>\n",
       "    </tr>\n",
       "    <tr>\n",
       "      <th>2</th>\n",
       "      <td>Moon Under Water Pub &amp; Brewery</td>\n",
       "      <td>350B Bay St.</td>\n",
       "      <td>btwn Pleasant &amp; Turner St.</td>\n",
       "      <td>908</td>\n",
       "      <td>Victoria</td>\n",
       "      <td>[350B Bay St. (btwn Pleasant &amp; Turner St.), Vi...</td>\n",
       "      <td>8.3</td>\n",
       "    </tr>\n",
       "    <tr>\n",
       "      <th>1</th>\n",
       "      <td>Vancouver Island Brewery</td>\n",
       "      <td>2330 Government St</td>\n",
       "      <td>at Bay St</td>\n",
       "      <td>1021</td>\n",
       "      <td>Victoria</td>\n",
       "      <td>[2330 Government St (at Bay St), Victoria BC V...</td>\n",
       "      <td>7.5</td>\n",
       "    </tr>\n",
       "    <tr>\n",
       "      <th>4</th>\n",
       "      <td>Swans Hotel</td>\n",
       "      <td>506 Pandora Ave</td>\n",
       "      <td>at Wharf St</td>\n",
       "      <td>435</td>\n",
       "      <td>Victoria</td>\n",
       "      <td>[506 Pandora Ave (at Wharf St), Victoria BC, C...</td>\n",
       "      <td>7.5</td>\n",
       "    </tr>\n",
       "    <tr>\n",
       "      <th>5</th>\n",
       "      <td>Swans Brewpub</td>\n",
       "      <td>506 Pandora Ave</td>\n",
       "      <td>at Wharf St</td>\n",
       "      <td>434</td>\n",
       "      <td>Victoria</td>\n",
       "      <td>[506 Pandora Ave (at Wharf St), Victoria BC V8...</td>\n",
       "      <td>7.5</td>\n",
       "    </tr>\n",
       "    <tr>\n",
       "      <th>7</th>\n",
       "      <td>Lighthouse Brewing</td>\n",
       "      <td>836 Devonshire Rd</td>\n",
       "      <td>NaN</td>\n",
       "      <td>1901</td>\n",
       "      <td>Victoria</td>\n",
       "      <td>[836 Devonshire Rd, Victoria BC, Canada]</td>\n",
       "      <td>NaN</td>\n",
       "    </tr>\n",
       "  </tbody>\n",
       "</table>\n",
       "</div>"
      ],
      "text/plain": [
       "                                      name       location.address  \\\n",
       "0  Phillips Backyard (at Phillips Brewery)                    NaN   \n",
       "6                     Phillips Brewing Co.     2010 Government St   \n",
       "3                        Driftwood Brewery  102-450 Hillside Ave.   \n",
       "2           Moon Under Water Pub & Brewery           350B Bay St.   \n",
       "1                 Vancouver Island Brewery     2330 Government St   \n",
       "4                              Swans Hotel        506 Pandora Ave   \n",
       "5                            Swans Brewpub        506 Pandora Ave   \n",
       "7                       Lighthouse Brewing      836 Devonshire Rd   \n",
       "\n",
       "         location.crossStreet  location.distance location.city  \\\n",
       "0                         NaN                845      Victoria   \n",
       "6                Discovery St                802      Victoria   \n",
       "3                         NaN               1115      Victoria   \n",
       "2  btwn Pleasant & Turner St.                908      Victoria   \n",
       "1                   at Bay St               1021      Victoria   \n",
       "4                 at Wharf St                435      Victoria   \n",
       "5                 at Wharf St                434      Victoria   \n",
       "7                         NaN               1901      Victoria   \n",
       "\n",
       "                           location.formattedAddress  rating  \n",
       "0                              [Victoria BC, Canada]     8.8  \n",
       "6  [2010 Government St (Discovery St), Victoria B...     8.8  \n",
       "3  [102-450 Hillside Ave., Victoria BC V8T 1Y7, C...     8.4  \n",
       "2  [350B Bay St. (btwn Pleasant & Turner St.), Vi...     8.3  \n",
       "1  [2330 Government St (at Bay St), Victoria BC V...     7.5  \n",
       "4  [506 Pandora Ave (at Wharf St), Victoria BC, C...     7.5  \n",
       "5  [506 Pandora Ave (at Wharf St), Victoria BC V8...     7.5  \n",
       "7           [836 Devonshire Rd, Victoria BC, Canada]     NaN  "
      ]
     },
     "execution_count": 193,
     "metadata": {},
     "output_type": "execute_result"
    }
   ],
   "source": [
    "breweries_foursquare"
   ]
  },
  {
   "cell_type": "code",
   "execution_count": 170,
   "metadata": {},
   "outputs": [],
   "source": [
    "# Attractions"
   ]
  },
  {
   "cell_type": "code",
   "execution_count": 179,
   "metadata": {},
   "outputs": [],
   "source": [
    "# attractions get request from foursquare\n",
    "fs_attractions = fs_client.venues.search(params={'radius': '2500', 'll': '48.42701, -123.37494', 'limit': '25', 'categoryId': '4d4b7105d754a06377d81259'})"
   ]
  },
  {
   "cell_type": "code",
   "execution_count": 180,
   "metadata": {},
   "outputs": [
    {
     "data": {
      "application/json": {
       "confident": false,
       "venues": [
        {
         "categories": [
          {
           "icon": {
            "prefix": "https://ss3.4sqi.net/img/categories_v2/parks_outdoors/sceniclookout_",
            "suffix": ".png"
           },
           "id": "4bf58dd8d48988d165941735",
           "name": "Scenic Lookout",
           "pluralName": "Scenic Lookouts",
           "primary": true,
           "shortName": "Scenic Lookout"
          }
         ],
         "hasPerk": false,
         "id": "4d2289b2d7b0b1f79966269f",
         "location": {
          "address": "50 Songhees Rd",
          "cc": "CA",
          "city": "Victoria",
          "country": "Canada",
          "distance": 180,
          "formattedAddress": [
           "50 Songhees Rd",
           "Victoria BC",
           "Canada"
          ],
          "labeledLatLngs": [
           {
            "label": "display",
            "lat": 48.426079277076525,
            "lng": -123.37693703426214
           }
          ],
          "lat": 48.426079277076525,
          "lng": -123.37693703426214,
          "state": "BC"
         },
         "name": "Songhees Point",
         "referralId": "v-1620341608"
        },
        {
         "categories": [
          {
           "icon": {
            "prefix": "https://ss3.4sqi.net/img/categories_v2/parks_outdoors/harbor_",
            "suffix": ".png"
           },
           "id": "4bf58dd8d48988d1e0941735",
           "name": "Harbor / Marina",
           "pluralName": "Harbors / Marinas",
           "primary": true,
           "shortName": "Harbor / Marina"
          }
         ],
         "hasPerk": false,
         "id": "4e1e2f68ae60ef672d860f2e",
         "location": {
          "address": "Harbour Road",
          "cc": "CA",
          "city": "Victoria",
          "country": "Canada",
          "distance": 387,
          "formattedAddress": [
           "Harbour Road",
           "Victoria BC",
           "Canada"
          ],
          "labeledLatLngs": [
           {
            "label": "display",
            "lat": 48.430490209667816,
            "lng": -123.37520035404526
           }
          ],
          "lat": 48.430490209667816,
          "lng": -123.37520035404526,
          "state": "BC"
         },
         "name": "Point Hope Maritime",
         "referralId": "v-1620341608"
        },
        {
         "categories": [
          {
           "icon": {
            "prefix": "https://ss3.4sqi.net/img/categories_v2/parks_outdoors/beach_",
            "suffix": ".png"
           },
           "id": "4bf58dd8d48988d1e2941735",
           "name": "Beach",
           "pluralName": "Beaches",
           "primary": true,
           "shortName": "Beach"
          }
         ],
         "hasPerk": false,
         "id": "4b4a2aabf964a520147d26e3",
         "location": {
          "address": "Dallas Rd",
          "cc": "CA",
          "city": "Victoria",
          "country": "Canada",
          "distance": 2027,
          "formattedAddress": [
           "Dallas Rd",
           "Victoria BC",
           "Canada"
          ],
          "labeledLatLngs": [
           {
            "label": "display",
            "lat": 48.40912641692476,
            "lng": -123.36970897143985
           }
          ],
          "lat": 48.40912641692476,
          "lng": -123.36970897143985,
          "state": "BC"
         },
         "name": "Fonyo Beach",
         "referralId": "v-1620341608"
        },
        {
         "categories": [
          {
           "icon": {
            "prefix": "https://ss3.4sqi.net/img/categories_v2/parks_outdoors/park_",
            "suffix": ".png"
           },
           "id": "4bf58dd8d48988d163941735",
           "name": "Park",
           "pluralName": "Parks",
           "primary": true,
           "shortName": "Park"
          }
         ],
         "hasPerk": false,
         "id": "4fb5ca76e4b064d537e86e85",
         "location": {
          "address": "680 Montreal St.",
          "cc": "CA",
          "city": "Victoria",
          "country": "Canada",
          "distance": 403,
          "formattedAddress": [
           "680 Montreal St.",
           "Victoria BC V8V 1Z8",
           "Canada"
          ],
          "labeledLatLngs": [
           {
            "label": "display",
            "lat": 48.423596717746705,
            "lng": -123.37679596787893
           }
          ],
          "lat": 48.423596717746705,
          "lng": -123.37679596787893,
          "postalCode": "V8V 1Z8",
          "state": "BC"
         },
         "name": "Laurel Point Park",
         "referralId": "v-1620341608"
        },
        {
         "categories": [
          {
           "icon": {
            "prefix": "https://ss3.4sqi.net/img/categories_v2/parks_outdoors/park_",
            "suffix": ".png"
           },
           "id": "4bf58dd8d48988d163941735",
           "name": "Park",
           "pluralName": "Parks",
           "primary": true,
           "shortName": "Park"
          }
         ],
         "hasPerk": false,
         "id": "4b4a3c82f964a520168026e3",
         "location": {
          "address": "Douglas St.",
          "cc": "CA",
          "city": "Victoria",
          "country": "Canada",
          "crossStreet": "at Circle Dr.",
          "distance": 1898,
          "formattedAddress": [
           "Douglas St. (at Circle Dr.)",
           "Victoria BC",
           "Canada"
          ],
          "labeledLatLngs": [
           {
            "label": "display",
            "lat": 48.41211192560066,
            "lng": -123.36243152618408
           }
          ],
          "lat": 48.41211192560066,
          "lng": -123.36243152618408,
          "state": "BC"
         },
         "name": "Beacon Hill Park",
         "referralId": "v-1620341608"
        },
        {
         "categories": [
          {
           "icon": {
            "prefix": "https://ss3.4sqi.net/img/categories_v2/parks_outdoors/park_",
            "suffix": ".png"
           },
           "id": "4bf58dd8d48988d163941735",
           "name": "Park",
           "pluralName": "Parks",
           "primary": true,
           "shortName": "Park"
          }
         ],
         "hasPerk": false,
         "id": "4d3f3c69c5eaa1cd80649650",
         "location": {
          "address": "Quadra St.",
          "cc": "CA",
          "city": "Victoria",
          "country": "Canada",
          "crossStreet": "btwn Meares St. & Rockland Ave.",
          "distance": 1207,
          "formattedAddress": [
           "Quadra St. (btwn Meares St. & Rockland Ave.)",
           "Victoria BC V8V 3J5",
           "Canada"
          ],
          "labeledLatLngs": [
           {
            "label": "display",
            "lat": 48.42315278180189,
            "lng": -123.3596632145381
           }
          ],
          "lat": 48.42315278180189,
          "lng": -123.3596632145381,
          "postalCode": "V8V 3J5",
          "state": "BC"
         },
         "name": "Pioneer Square",
         "referralId": "v-1620341608"
        },
        {
         "categories": [
          {
           "icon": {
            "prefix": "https://ss3.4sqi.net/img/categories_v2/parks_outdoors/harbor_",
            "suffix": ".png"
           },
           "id": "4bf58dd8d48988d1e0941735",
           "name": "Harbor / Marina",
           "pluralName": "Harbors / Marinas",
           "primary": true,
           "shortName": "Harbor / Marina"
          }
         ],
         "hasPerk": false,
         "id": "4da63fb06a23f2e8050465d7",
         "location": {
          "address": "Government St",
          "cc": "CA",
          "city": "Victoria",
          "country": "Canada",
          "distance": 644,
          "formattedAddress": [
           "Government St",
           "Victoria BC",
           "Canada"
          ],
          "labeledLatLngs": [
           {
            "label": "display",
            "lat": 48.42226611252934,
            "lng": -123.36993098258971
           }
          ],
          "lat": 48.42226611252934,
          "lng": -123.36993098258971,
          "state": "BC"
         },
         "name": "Victoria Harbour",
         "referralId": "v-1620341608"
        },
        {
         "categories": [
          {
           "icon": {
            "prefix": "https://ss3.4sqi.net/img/categories_v2/parks_outdoors/lighthouse_",
            "suffix": ".png"
           },
           "id": "4bf58dd8d48988d15d941735",
           "name": "Lighthouse",
           "pluralName": "Lighthouses",
           "primary": true,
           "shortName": "Lighthouse"
          }
         ],
         "hasPerk": false,
         "id": "4b4a33e7f964a5207a7e26e3",
         "location": {
          "address": "Dallas Rd.",
          "cc": "CA",
          "city": "Victoria",
          "country": "Canada",
          "crossStreet": "at Dock St",
          "distance": 1595,
          "formattedAddress": [
           "Dallas Rd. (at Dock St)",
           "Victoria BC",
           "Canada"
          ],
          "labeledLatLngs": [
           {
            "label": "display",
            "lat": 48.41441922607132,
            "lng": -123.38526248931885
           }
          ],
          "lat": 48.41441922607132,
          "lng": -123.38526248931885,
          "state": "BC"
         },
         "name": "Ogden Point Breakwater",
         "referralId": "v-1620341608"
        },
        {
         "categories": [
          {
           "icon": {
            "prefix": "https://ss3.4sqi.net/img/categories_v2/parks_outdoors/beach_",
            "suffix": ".png"
           },
           "id": "4bf58dd8d48988d1e2941735",
           "name": "Beach",
           "pluralName": "Beaches",
           "primary": true,
           "shortName": "Beach"
          }
         ],
         "hasPerk": false,
         "id": "51a9312c50196225ffcd5dac",
         "location": {
          "cc": "CA",
          "country": "Canada",
          "distance": 1553,
          "formattedAddress": [
           "Canada"
          ],
          "labeledLatLngs": [
           {
            "label": "display",
            "lat": 48.41373559240279,
            "lng": -123.38143229484558
           }
          ],
          "lat": 48.41373559240279,
          "lng": -123.38143229484558
         },
         "name": "Dallas Road Beach (at San Jose)",
         "referralId": "v-1620341608"
        },
        {
         "categories": [
          {
           "icon": {
            "prefix": "https://ss3.4sqi.net/img/categories_v2/parks_outdoors/dogrun_",
            "suffix": ".png"
           },
           "id": "4bf58dd8d48988d1e5941735",
           "name": "Dog Run",
           "pluralName": "Dog Runs",
           "primary": true,
           "shortName": "Dog Run"
          }
         ],
         "hasPerk": false,
         "id": "4f9481ce754a9a8df29fe7a4",
         "location": {
          "address": "Sitkum Rd.",
          "cc": "CA",
          "city": "Victoria",
          "country": "Canada",
          "crossStreet": "btwn Saghalie Rd. & Kimta Rd.",
          "distance": 471,
          "formattedAddress": [
           "Sitkum Rd. (btwn Saghalie Rd. & Kimta Rd.)",
           "Victoria BC",
           "Canada"
          ],
          "labeledLatLngs": [
           {
            "label": "display",
            "lat": 48.42874493332261,
            "lng": -123.38075637817383
           }
          ],
          "lat": 48.42874493332261,
          "lng": -123.38075637817383,
          "state": "BC"
         },
         "name": "Songhees Hilltop",
         "referralId": "v-1620341608"
        },
        {
         "categories": [
          {
           "icon": {
            "prefix": "https://ss3.4sqi.net/img/categories_v2/parks_outdoors/beach_",
            "suffix": ".png"
           },
           "id": "4bf58dd8d48988d1e2941735",
           "name": "Beach",
           "pluralName": "Beaches",
           "primary": true,
           "shortName": "Beach"
          }
         ],
         "hasPerk": false,
         "id": "4e0109d0b61c1fbe8dfc5888",
         "location": {
          "address": "Dallas Rd.",
          "cc": "CA",
          "city": "Victoria",
          "country": "Canada",
          "crossStreet": "at Boyd St.",
          "distance": 1609,
          "formattedAddress": [
           "Dallas Rd. (at Boyd St.)",
           "Victoria BC",
           "Canada"
          ],
          "labeledLatLngs": [
           {
            "label": "display",
            "lat": 48.41285417954617,
            "lng": -123.37937043851716
           }
          ],
          "lat": 48.41285417954617,
          "lng": -123.37937043851716,
          "state": "BC"
         },
         "name": "Dallas Road Beach",
         "referralId": "v-1620341608"
        },
        {
         "categories": [
          {
           "icon": {
            "prefix": "https://ss3.4sqi.net/img/categories_v2/parks_outdoors/park_",
            "suffix": ".png"
           },
           "id": "4bf58dd8d48988d163941735",
           "name": "Park",
           "pluralName": "Parks",
           "primary": true,
           "shortName": "Park"
          }
         ],
         "hasPerk": false,
         "id": "4bcb7c96b6c49c74eb569291",
         "location": {
          "cc": "CA",
          "country": "Canada",
          "distance": 2594,
          "formattedAddress": [
           "Canada"
          ],
          "labeledLatLngs": [
           {
            "label": "display",
            "lat": 48.44527578539879,
            "lng": -123.35312750845002
           }
          ],
          "lat": 48.44527578539879,
          "lng": -123.35312750845002
         },
         "name": "Summit Park",
         "referralId": "v-1620341608"
        },
        {
         "categories": [
          {
           "icon": {
            "prefix": "https://ss3.4sqi.net/img/categories_v2/parks_outdoors/sceniclookout_",
            "suffix": ".png"
           },
           "id": "4bf58dd8d48988d165941735",
           "name": "Scenic Lookout",
           "pluralName": "Scenic Lookouts",
           "primary": true,
           "shortName": "Scenic Lookout"
          }
         ],
         "hasPerk": false,
         "id": "56e4b789498e4053043e1f82",
         "location": {
          "cc": "CA",
          "country": "Canada",
          "distance": 2396,
          "formattedAddress": [
           "Canada"
          ],
          "labeledLatLngs": [
           {
            "label": "display",
            "lat": 48.406613,
            "lng": -123.364581
           }
          ],
          "lat": 48.406613,
          "lng": -123.364581
         },
         "name": "Finlayson Point",
         "referralId": "v-1620341608"
        },
        {
         "categories": [
          {
           "icon": {
            "prefix": "https://ss3.4sqi.net/img/categories_v2/parks_outdoors/dogrun_",
            "suffix": ".png"
           },
           "id": "4bf58dd8d48988d1e5941735",
           "name": "Dog Run",
           "pluralName": "Dog Runs",
           "primary": true,
           "shortName": "Dog Run"
          }
         ],
         "hasPerk": false,
         "id": "4b6dbf9ff964a520248c2ce3",
         "location": {
          "cc": "CA",
          "country": "Canada",
          "distance": 2688,
          "formattedAddress": [
           "Canada"
          ],
          "labeledLatLngs": [
           {
            "label": "display",
            "lat": 48.42082270463909,
            "lng": -123.41011418100865
           }
          ],
          "lat": 48.42082270463909,
          "lng": -123.41011418100865
         },
         "name": "Macaulay Point Park",
         "referralId": "v-1620341608"
        },
        {
         "categories": [
          {
           "icon": {
            "prefix": "https://ss3.4sqi.net/img/categories_v2/parks_outdoors/hikingtrail_",
            "suffix": ".png"
           },
           "id": "4bf58dd8d48988d159941735",
           "name": "Trail",
           "pluralName": "Trails",
           "primary": true,
           "shortName": "Trail"
          }
         ],
         "hasPerk": false,
         "id": "4f6e60bee4b0e0075b8219af",
         "location": {
          "cc": "CA",
          "country": "Canada",
          "distance": 2487,
          "formattedAddress": [
           "Canada"
          ],
          "labeledLatLngs": [
           {
            "label": "display",
            "lat": 48.40779801672581,
            "lng": -123.35775026556492
           }
          ],
          "lat": 48.40779801672581,
          "lng": -123.35775026556492
         },
         "name": "Dallas Road Path",
         "referralId": "v-1620341608"
        },
        {
         "categories": [
          {
           "icon": {
            "prefix": "https://ss3.4sqi.net/img/categories_v2/parks_outdoors/harbor_",
            "suffix": ".png"
           },
           "id": "4bf58dd8d48988d1e0941735",
           "name": "Harbor / Marina",
           "pluralName": "Harbors / Marinas",
           "primary": true,
           "shortName": "Harbor / Marina"
          }
         ],
         "hasPerk": false,
         "id": "4bc0e81d74a9a593baf0d0f6",
         "location": {
          "address": "310 St. Lawrence St",
          "cc": "CA",
          "city": "Victoria",
          "country": "Canada",
          "distance": 745,
          "formattedAddress": [
           "310 St. Lawrence St",
           "Victoria BC V8V 1Y4",
           "Canada"
          ],
          "labeledLatLngs": [
           {
            "label": "display",
            "lat": 48.4226528756213,
            "lng": -123.38260386262631
           }
          ],
          "lat": 48.4226528756213,
          "lng": -123.38260386262631,
          "postalCode": "V8V 1Y4",
          "state": "BC"
         },
         "name": "Fisherman's Wharf",
         "referralId": "v-1620341608"
        },
        {
         "categories": [
          {
           "icon": {
            "prefix": "https://ss3.4sqi.net/img/categories_v2/parks_outdoors/bridge_",
            "suffix": ".png"
           },
           "id": "4bf58dd8d48988d1df941735",
           "name": "Bridge",
           "pluralName": "Bridges",
           "primary": true,
           "shortName": "Bridge"
          }
         ],
         "hasPerk": false,
         "id": "4db34dcbfa8c350240cb3f88",
         "location": {
          "cc": "CA",
          "city": "Victoria",
          "country": "Canada",
          "distance": 925,
          "formattedAddress": [
           "Victoria BC",
           "Canada"
          ],
          "labeledLatLngs": [
           {
            "label": "display",
            "lat": 48.43465541205455,
            "lng": -123.37985469018598
           }
          ],
          "lat": 48.43465541205455,
          "lng": -123.37985469018598,
          "state": "BC"
         },
         "name": "Bay Bridge",
         "referralId": "v-1620341608"
        },
        {
         "categories": [
          {
           "icon": {
            "prefix": "https://ss3.4sqi.net/img/categories_v2/arts_entertainment/historicsite_",
            "suffix": ".png"
           },
           "id": "4deefb944765f83613cdba6e",
           "name": "Historic Site",
           "pluralName": "Historic Sites",
           "primary": true,
           "shortName": "Historic Site"
          }
         ],
         "hasPerk": false,
         "id": "4b96b7fcf964a52012e034e3",
         "location": {
          "address": "1050 Joan Cres",
          "cc": "CA",
          "city": "Victoria",
          "country": "Canada",
          "crossStreet": "at Craigdarroch Rd",
          "distance": 2357,
          "formattedAddress": [
           "1050 Joan Cres (at Craigdarroch Rd)",
           "Victoria BC V8S 3L5",
           "Canada"
          ],
          "labeledLatLngs": [
           {
            "label": "display",
            "lat": 48.42271267848537,
            "lng": -123.34368550089428
           }
          ],
          "lat": 48.42271267848537,
          "lng": -123.34368550089428,
          "neighborhood": "Fernw",
          "postalCode": "V8S 3L5",
          "state": "BC"
         },
         "name": "Craigdarroch Castle",
         "referralId": "v-1620341608"
        },
        {
         "categories": [
          {
           "icon": {
            "prefix": "https://ss3.4sqi.net/img/categories_v2/building/gym_",
            "suffix": ".png"
           },
           "id": "4bf58dd8d48988d176941735",
           "name": "Gym",
           "pluralName": "Gyms",
           "primary": true,
           "shortName": "Gym"
          }
         ],
         "hasPerk": false,
         "id": "4b591f84f964a520c37d28e3",
         "location": {
          "address": "851 Broughton Street",
          "cc": "CA",
          "city": "Victoria",
          "country": "Canada",
          "crossStreet": "Quadra",
          "distance": 1174,
          "formattedAddress": [
           "851 Broughton Street (Quadra)",
           "Victoria BC V8W 1E5",
           "Canada"
          ],
          "labeledLatLngs": [
           {
            "label": "display",
            "lat": 48.422800666585125,
            "lng": -123.36036664084058
           }
          ],
          "lat": 48.422800666585125,
          "lng": -123.36036664084058,
          "postalCode": "V8W 1E5",
          "state": "BC"
         },
         "name": "YMCA-YWCA of Greater Victoria",
         "referralId": "v-1620341608"
        },
        {
         "categories": [
          {
           "icon": {
            "prefix": "https://ss3.4sqi.net/img/categories_v2/parks_outdoors/garden_",
            "suffix": ".png"
           },
           "id": "4bf58dd8d48988d15a941735",
           "name": "Garden",
           "pluralName": "Gardens",
           "primary": true,
           "shortName": "Garden"
          }
         ],
         "hasPerk": false,
         "id": "4c4e33ecea24c9b6b32d4315",
         "location": {
          "address": "1401 Rockland Ave",
          "cc": "CA",
          "city": "Victoria",
          "country": "Canada",
          "crossStreet": "at Joan Cr",
          "distance": 2550,
          "formattedAddress": [
           "1401 Rockland Ave (at Joan Cr)",
           "Victoria BC V8S 1V9",
           "Canada"
          ],
          "labeledLatLngs": [
           {
            "label": "display",
            "lat": 48.41902812777762,
            "lng": -123.34258114965911
           }
          ],
          "lat": 48.41902812777762,
          "lng": -123.34258114965911,
          "postalCode": "V8S 1V9",
          "state": "BC"
         },
         "name": "Government House",
         "referralId": "v-1620341608"
        },
        {
         "categories": [
          {
           "icon": {
            "prefix": "https://ss3.4sqi.net/img/categories_v2/parks_outdoors/dogrun_",
            "suffix": ".png"
           },
           "id": "4bf58dd8d48988d1e5941735",
           "name": "Dog Run",
           "pluralName": "Dog Runs",
           "primary": true,
           "shortName": "Dog Run"
          }
         ],
         "hasPerk": false,
         "id": "4ca8a17176d3a093038c176b",
         "location": {
          "cc": "CA",
          "country": "Canada",
          "distance": 2281,
          "formattedAddress": [
           "Canada"
          ],
          "labeledLatLngs": [
           {
            "label": "display",
            "lat": 48.407300462824985,
            "lng": -123.36649558502957
           }
          ],
          "lat": 48.407300462824985,
          "lng": -123.36649558502957
         },
         "name": "Dallas Road Off Leash Dog Area",
         "referralId": "v-1620341608"
        },
        {
         "categories": [
          {
           "icon": {
            "prefix": "https://ss3.4sqi.net/img/categories_v2/parks_outdoors/plaza_",
            "suffix": ".png"
           },
           "id": "4bf58dd8d48988d164941735",
           "name": "Plaza",
           "pluralName": "Plazas",
           "primary": true,
           "shortName": "Plaza"
          }
         ],
         "hasPerk": false,
         "id": "4b954c0df964a520d69a34e3",
         "location": {
          "address": "566 Johnson St.",
          "cc": "CA",
          "city": "Victoria",
          "country": "Canada",
          "crossStreet": "at Store St.",
          "distance": 476,
          "formattedAddress": [
           "566 Johnson St. (at Store St.)",
           "Victoria BC V8W 3C6",
           "Canada"
          ],
          "labeledLatLngs": [
           {
            "label": "display",
            "lat": 48.427930095886126,
            "lng": -123.36864533290564
           }
          ],
          "lat": 48.427930095886126,
          "lng": -123.36864533290564,
          "neighborhood": "Downtown Victoria",
          "postalCode": "V8W 3C6",
          "state": "BC"
         },
         "name": "Market Square",
         "referralId": "v-1620341608"
        }
       ]
      },
      "text/plain": [
       "<IPython.core.display.JSON object>"
      ]
     },
     "execution_count": 180,
     "metadata": {
      "application/json": {
       "expanded": false,
       "root": "root"
      }
     },
     "output_type": "execute_result"
    }
   ],
   "source": [
    "JSON(fs_attractions)"
   ]
  },
  {
   "cell_type": "code",
   "execution_count": 181,
   "metadata": {},
   "outputs": [],
   "source": [
    "fs_fun = fs_attractions['venues'].copy()"
   ]
  },
  {
   "cell_type": "code",
   "execution_count": 182,
   "metadata": {},
   "outputs": [
    {
     "data": {
      "text/plain": [
       "Index(['id', 'name', 'categories', 'referralId', 'hasPerk', 'location.address',\n",
       "       'location.lat', 'location.lng', 'location.labeledLatLngs',\n",
       "       'location.distance', 'location.cc', 'location.city', 'location.state',\n",
       "       'location.country', 'location.formattedAddress', 'location.postalCode',\n",
       "       'location.crossStreet', 'location.neighborhood'],\n",
       "      dtype='object')"
      ]
     },
     "execution_count": 182,
     "metadata": {},
     "output_type": "execute_result"
    }
   ],
   "source": [
    "fs_norm_fun = pd.json_normalize(fs_fun)\n",
    "fs_norm_fun.columns"
   ]
  },
  {
   "cell_type": "code",
   "execution_count": 185,
   "metadata": {},
   "outputs": [],
   "source": [
    "col_fun_list = ['id','name','location.address','location.crossStreet','location.distance','location.city','location.formattedAddress']\n",
    "fs_fun_result = fs_norm_fun[col_fun_list]"
   ]
  },
  {
   "cell_type": "code",
   "execution_count": 186,
   "metadata": {
    "collapsed": true,
    "jupyter": {
     "outputs_hidden": true
    }
   },
   "outputs": [
    {
     "data": {
      "text/html": [
       "<div>\n",
       "<style scoped>\n",
       "    .dataframe tbody tr th:only-of-type {\n",
       "        vertical-align: middle;\n",
       "    }\n",
       "\n",
       "    .dataframe tbody tr th {\n",
       "        vertical-align: top;\n",
       "    }\n",
       "\n",
       "    .dataframe thead th {\n",
       "        text-align: right;\n",
       "    }\n",
       "</style>\n",
       "<table border=\"1\" class=\"dataframe\">\n",
       "  <thead>\n",
       "    <tr style=\"text-align: right;\">\n",
       "      <th></th>\n",
       "      <th>id</th>\n",
       "      <th>name</th>\n",
       "      <th>location.address</th>\n",
       "      <th>location.crossStreet</th>\n",
       "      <th>location.distance</th>\n",
       "      <th>location.city</th>\n",
       "      <th>location.formattedAddress</th>\n",
       "    </tr>\n",
       "  </thead>\n",
       "  <tbody>\n",
       "    <tr>\n",
       "      <th>0</th>\n",
       "      <td>4d2289b2d7b0b1f79966269f</td>\n",
       "      <td>Songhees Point</td>\n",
       "      <td>50 Songhees Rd</td>\n",
       "      <td>NaN</td>\n",
       "      <td>180</td>\n",
       "      <td>Victoria</td>\n",
       "      <td>[50 Songhees Rd, Victoria BC, Canada]</td>\n",
       "    </tr>\n",
       "    <tr>\n",
       "      <th>1</th>\n",
       "      <td>4e1e2f68ae60ef672d860f2e</td>\n",
       "      <td>Point Hope Maritime</td>\n",
       "      <td>Harbour Road</td>\n",
       "      <td>NaN</td>\n",
       "      <td>387</td>\n",
       "      <td>Victoria</td>\n",
       "      <td>[Harbour Road, Victoria BC, Canada]</td>\n",
       "    </tr>\n",
       "    <tr>\n",
       "      <th>2</th>\n",
       "      <td>4b4a2aabf964a520147d26e3</td>\n",
       "      <td>Fonyo Beach</td>\n",
       "      <td>Dallas Rd</td>\n",
       "      <td>NaN</td>\n",
       "      <td>2027</td>\n",
       "      <td>Victoria</td>\n",
       "      <td>[Dallas Rd, Victoria BC, Canada]</td>\n",
       "    </tr>\n",
       "    <tr>\n",
       "      <th>3</th>\n",
       "      <td>4fb5ca76e4b064d537e86e85</td>\n",
       "      <td>Laurel Point Park</td>\n",
       "      <td>680 Montreal St.</td>\n",
       "      <td>NaN</td>\n",
       "      <td>403</td>\n",
       "      <td>Victoria</td>\n",
       "      <td>[680 Montreal St., Victoria BC V8V 1Z8, Canada]</td>\n",
       "    </tr>\n",
       "    <tr>\n",
       "      <th>4</th>\n",
       "      <td>4b4a3c82f964a520168026e3</td>\n",
       "      <td>Beacon Hill Park</td>\n",
       "      <td>Douglas St.</td>\n",
       "      <td>at Circle Dr.</td>\n",
       "      <td>1898</td>\n",
       "      <td>Victoria</td>\n",
       "      <td>[Douglas St. (at Circle Dr.), Victoria BC, Can...</td>\n",
       "    </tr>\n",
       "    <tr>\n",
       "      <th>5</th>\n",
       "      <td>4d3f3c69c5eaa1cd80649650</td>\n",
       "      <td>Pioneer Square</td>\n",
       "      <td>Quadra St.</td>\n",
       "      <td>btwn Meares St. &amp; Rockland Ave.</td>\n",
       "      <td>1207</td>\n",
       "      <td>Victoria</td>\n",
       "      <td>[Quadra St. (btwn Meares St. &amp; Rockland Ave.),...</td>\n",
       "    </tr>\n",
       "    <tr>\n",
       "      <th>6</th>\n",
       "      <td>4da63fb06a23f2e8050465d7</td>\n",
       "      <td>Victoria Harbour</td>\n",
       "      <td>Government St</td>\n",
       "      <td>NaN</td>\n",
       "      <td>644</td>\n",
       "      <td>Victoria</td>\n",
       "      <td>[Government St, Victoria BC, Canada]</td>\n",
       "    </tr>\n",
       "    <tr>\n",
       "      <th>7</th>\n",
       "      <td>4b4a33e7f964a5207a7e26e3</td>\n",
       "      <td>Ogden Point Breakwater</td>\n",
       "      <td>Dallas Rd.</td>\n",
       "      <td>at Dock St</td>\n",
       "      <td>1595</td>\n",
       "      <td>Victoria</td>\n",
       "      <td>[Dallas Rd. (at Dock St), Victoria BC, Canada]</td>\n",
       "    </tr>\n",
       "    <tr>\n",
       "      <th>8</th>\n",
       "      <td>51a9312c50196225ffcd5dac</td>\n",
       "      <td>Dallas Road Beach (at San Jose)</td>\n",
       "      <td>NaN</td>\n",
       "      <td>NaN</td>\n",
       "      <td>1553</td>\n",
       "      <td>NaN</td>\n",
       "      <td>[Canada]</td>\n",
       "    </tr>\n",
       "    <tr>\n",
       "      <th>9</th>\n",
       "      <td>4f9481ce754a9a8df29fe7a4</td>\n",
       "      <td>Songhees Hilltop</td>\n",
       "      <td>Sitkum Rd.</td>\n",
       "      <td>btwn Saghalie Rd. &amp; Kimta Rd.</td>\n",
       "      <td>471</td>\n",
       "      <td>Victoria</td>\n",
       "      <td>[Sitkum Rd. (btwn Saghalie Rd. &amp; Kimta Rd.), V...</td>\n",
       "    </tr>\n",
       "    <tr>\n",
       "      <th>10</th>\n",
       "      <td>4e0109d0b61c1fbe8dfc5888</td>\n",
       "      <td>Dallas Road Beach</td>\n",
       "      <td>Dallas Rd.</td>\n",
       "      <td>at Boyd St.</td>\n",
       "      <td>1609</td>\n",
       "      <td>Victoria</td>\n",
       "      <td>[Dallas Rd. (at Boyd St.), Victoria BC, Canada]</td>\n",
       "    </tr>\n",
       "    <tr>\n",
       "      <th>11</th>\n",
       "      <td>4bcb7c96b6c49c74eb569291</td>\n",
       "      <td>Summit Park</td>\n",
       "      <td>NaN</td>\n",
       "      <td>NaN</td>\n",
       "      <td>2594</td>\n",
       "      <td>NaN</td>\n",
       "      <td>[Canada]</td>\n",
       "    </tr>\n",
       "    <tr>\n",
       "      <th>12</th>\n",
       "      <td>56e4b789498e4053043e1f82</td>\n",
       "      <td>Finlayson Point</td>\n",
       "      <td>NaN</td>\n",
       "      <td>NaN</td>\n",
       "      <td>2396</td>\n",
       "      <td>NaN</td>\n",
       "      <td>[Canada]</td>\n",
       "    </tr>\n",
       "    <tr>\n",
       "      <th>13</th>\n",
       "      <td>4b6dbf9ff964a520248c2ce3</td>\n",
       "      <td>Macaulay Point Park</td>\n",
       "      <td>NaN</td>\n",
       "      <td>NaN</td>\n",
       "      <td>2688</td>\n",
       "      <td>NaN</td>\n",
       "      <td>[Canada]</td>\n",
       "    </tr>\n",
       "    <tr>\n",
       "      <th>14</th>\n",
       "      <td>4f6e60bee4b0e0075b8219af</td>\n",
       "      <td>Dallas Road Path</td>\n",
       "      <td>NaN</td>\n",
       "      <td>NaN</td>\n",
       "      <td>2487</td>\n",
       "      <td>NaN</td>\n",
       "      <td>[Canada]</td>\n",
       "    </tr>\n",
       "    <tr>\n",
       "      <th>15</th>\n",
       "      <td>4bc0e81d74a9a593baf0d0f6</td>\n",
       "      <td>Fisherman's Wharf</td>\n",
       "      <td>310 St. Lawrence St</td>\n",
       "      <td>NaN</td>\n",
       "      <td>745</td>\n",
       "      <td>Victoria</td>\n",
       "      <td>[310 St. Lawrence St, Victoria BC V8V 1Y4, Can...</td>\n",
       "    </tr>\n",
       "    <tr>\n",
       "      <th>16</th>\n",
       "      <td>4db34dcbfa8c350240cb3f88</td>\n",
       "      <td>Bay Bridge</td>\n",
       "      <td>NaN</td>\n",
       "      <td>NaN</td>\n",
       "      <td>925</td>\n",
       "      <td>Victoria</td>\n",
       "      <td>[Victoria BC, Canada]</td>\n",
       "    </tr>\n",
       "    <tr>\n",
       "      <th>17</th>\n",
       "      <td>4b96b7fcf964a52012e034e3</td>\n",
       "      <td>Craigdarroch Castle</td>\n",
       "      <td>1050 Joan Cres</td>\n",
       "      <td>at Craigdarroch Rd</td>\n",
       "      <td>2357</td>\n",
       "      <td>Victoria</td>\n",
       "      <td>[1050 Joan Cres (at Craigdarroch Rd), Victoria...</td>\n",
       "    </tr>\n",
       "    <tr>\n",
       "      <th>18</th>\n",
       "      <td>4b591f84f964a520c37d28e3</td>\n",
       "      <td>YMCA-YWCA of Greater Victoria</td>\n",
       "      <td>851 Broughton Street</td>\n",
       "      <td>Quadra</td>\n",
       "      <td>1174</td>\n",
       "      <td>Victoria</td>\n",
       "      <td>[851 Broughton Street (Quadra), Victoria BC V8...</td>\n",
       "    </tr>\n",
       "    <tr>\n",
       "      <th>19</th>\n",
       "      <td>4c4e33ecea24c9b6b32d4315</td>\n",
       "      <td>Government House</td>\n",
       "      <td>1401 Rockland Ave</td>\n",
       "      <td>at Joan Cr</td>\n",
       "      <td>2550</td>\n",
       "      <td>Victoria</td>\n",
       "      <td>[1401 Rockland Ave (at Joan Cr), Victoria BC V...</td>\n",
       "    </tr>\n",
       "    <tr>\n",
       "      <th>20</th>\n",
       "      <td>4ca8a17176d3a093038c176b</td>\n",
       "      <td>Dallas Road Off Leash Dog Area</td>\n",
       "      <td>NaN</td>\n",
       "      <td>NaN</td>\n",
       "      <td>2281</td>\n",
       "      <td>NaN</td>\n",
       "      <td>[Canada]</td>\n",
       "    </tr>\n",
       "    <tr>\n",
       "      <th>21</th>\n",
       "      <td>4b954c0df964a520d69a34e3</td>\n",
       "      <td>Market Square</td>\n",
       "      <td>566 Johnson St.</td>\n",
       "      <td>at Store St.</td>\n",
       "      <td>476</td>\n",
       "      <td>Victoria</td>\n",
       "      <td>[566 Johnson St. (at Store St.), Victoria BC V...</td>\n",
       "    </tr>\n",
       "  </tbody>\n",
       "</table>\n",
       "</div>"
      ],
      "text/plain": [
       "                          id                             name  \\\n",
       "0   4d2289b2d7b0b1f79966269f                   Songhees Point   \n",
       "1   4e1e2f68ae60ef672d860f2e              Point Hope Maritime   \n",
       "2   4b4a2aabf964a520147d26e3                      Fonyo Beach   \n",
       "3   4fb5ca76e4b064d537e86e85                Laurel Point Park   \n",
       "4   4b4a3c82f964a520168026e3                 Beacon Hill Park   \n",
       "5   4d3f3c69c5eaa1cd80649650                   Pioneer Square   \n",
       "6   4da63fb06a23f2e8050465d7                 Victoria Harbour   \n",
       "7   4b4a33e7f964a5207a7e26e3           Ogden Point Breakwater   \n",
       "8   51a9312c50196225ffcd5dac  Dallas Road Beach (at San Jose)   \n",
       "9   4f9481ce754a9a8df29fe7a4                 Songhees Hilltop   \n",
       "10  4e0109d0b61c1fbe8dfc5888                Dallas Road Beach   \n",
       "11  4bcb7c96b6c49c74eb569291                      Summit Park   \n",
       "12  56e4b789498e4053043e1f82                  Finlayson Point   \n",
       "13  4b6dbf9ff964a520248c2ce3              Macaulay Point Park   \n",
       "14  4f6e60bee4b0e0075b8219af                 Dallas Road Path   \n",
       "15  4bc0e81d74a9a593baf0d0f6                Fisherman's Wharf   \n",
       "16  4db34dcbfa8c350240cb3f88                       Bay Bridge   \n",
       "17  4b96b7fcf964a52012e034e3              Craigdarroch Castle   \n",
       "18  4b591f84f964a520c37d28e3    YMCA-YWCA of Greater Victoria   \n",
       "19  4c4e33ecea24c9b6b32d4315                 Government House   \n",
       "20  4ca8a17176d3a093038c176b   Dallas Road Off Leash Dog Area   \n",
       "21  4b954c0df964a520d69a34e3                    Market Square   \n",
       "\n",
       "        location.address             location.crossStreet  location.distance  \\\n",
       "0         50 Songhees Rd                              NaN                180   \n",
       "1           Harbour Road                              NaN                387   \n",
       "2              Dallas Rd                              NaN               2027   \n",
       "3       680 Montreal St.                              NaN                403   \n",
       "4            Douglas St.                    at Circle Dr.               1898   \n",
       "5             Quadra St.  btwn Meares St. & Rockland Ave.               1207   \n",
       "6          Government St                              NaN                644   \n",
       "7             Dallas Rd.                       at Dock St               1595   \n",
       "8                    NaN                              NaN               1553   \n",
       "9             Sitkum Rd.    btwn Saghalie Rd. & Kimta Rd.                471   \n",
       "10            Dallas Rd.                      at Boyd St.               1609   \n",
       "11                   NaN                              NaN               2594   \n",
       "12                   NaN                              NaN               2396   \n",
       "13                   NaN                              NaN               2688   \n",
       "14                   NaN                              NaN               2487   \n",
       "15   310 St. Lawrence St                              NaN                745   \n",
       "16                   NaN                              NaN                925   \n",
       "17        1050 Joan Cres               at Craigdarroch Rd               2357   \n",
       "18  851 Broughton Street                           Quadra               1174   \n",
       "19     1401 Rockland Ave                       at Joan Cr               2550   \n",
       "20                   NaN                              NaN               2281   \n",
       "21       566 Johnson St.                     at Store St.                476   \n",
       "\n",
       "   location.city                          location.formattedAddress  \n",
       "0       Victoria              [50 Songhees Rd, Victoria BC, Canada]  \n",
       "1       Victoria                [Harbour Road, Victoria BC, Canada]  \n",
       "2       Victoria                   [Dallas Rd, Victoria BC, Canada]  \n",
       "3       Victoria    [680 Montreal St., Victoria BC V8V 1Z8, Canada]  \n",
       "4       Victoria  [Douglas St. (at Circle Dr.), Victoria BC, Can...  \n",
       "5       Victoria  [Quadra St. (btwn Meares St. & Rockland Ave.),...  \n",
       "6       Victoria               [Government St, Victoria BC, Canada]  \n",
       "7       Victoria     [Dallas Rd. (at Dock St), Victoria BC, Canada]  \n",
       "8            NaN                                           [Canada]  \n",
       "9       Victoria  [Sitkum Rd. (btwn Saghalie Rd. & Kimta Rd.), V...  \n",
       "10      Victoria    [Dallas Rd. (at Boyd St.), Victoria BC, Canada]  \n",
       "11           NaN                                           [Canada]  \n",
       "12           NaN                                           [Canada]  \n",
       "13           NaN                                           [Canada]  \n",
       "14           NaN                                           [Canada]  \n",
       "15      Victoria  [310 St. Lawrence St, Victoria BC V8V 1Y4, Can...  \n",
       "16      Victoria                              [Victoria BC, Canada]  \n",
       "17      Victoria  [1050 Joan Cres (at Craigdarroch Rd), Victoria...  \n",
       "18      Victoria  [851 Broughton Street (Quadra), Victoria BC V8...  \n",
       "19      Victoria  [1401 Rockland Ave (at Joan Cr), Victoria BC V...  \n",
       "20           NaN                                           [Canada]  \n",
       "21      Victoria  [566 Johnson St. (at Store St.), Victoria BC V...  "
      ]
     },
     "execution_count": 186,
     "metadata": {},
     "output_type": "execute_result"
    }
   ],
   "source": [
    "fs_fun_result"
   ]
  },
  {
   "cell_type": "code",
   "execution_count": 188,
   "metadata": {},
   "outputs": [],
   "source": [
    "# rating dictionary\n",
    "fun_rating = [float(\"NaN\"),float(\"NaN\"),float(\"NaN\"),float(\"NaN\"),9.2,float(\"NaN\"),float(\"NaN\"),9.0,float(\"NaN\"),float(\"NaN\"),9.3,7.8,float(\"NaN\"),8.2,float(\"NaN\"),float(\"NaN\"),float(\"NaN\"),8.0,7.6,8.3,float(\"NaN\"),7.5]\n"
   ]
  },
  {
   "cell_type": "code",
   "execution_count": 189,
   "metadata": {
    "collapsed": true,
    "jupyter": {
     "outputs_hidden": true
    }
   },
   "outputs": [
    {
     "name": "stderr",
     "output_type": "stream",
     "text": [
      "<ipython-input-189-ab731410edbe>:2: SettingWithCopyWarning: \n",
      "A value is trying to be set on a copy of a slice from a DataFrame.\n",
      "Try using .loc[row_indexer,col_indexer] = value instead\n",
      "\n",
      "See the caveats in the documentation: https://pandas.pydata.org/pandas-docs/stable/user_guide/indexing.html#returning-a-view-versus-a-copy\n",
      "  fs_fun_result['rating'] = fun_rating\n"
     ]
    }
   ],
   "source": [
    "# add column with rating\n",
    "fs_fun_result['rating'] = fun_rating"
   ]
  },
  {
   "cell_type": "code",
   "execution_count": 190,
   "metadata": {
    "collapsed": true,
    "jupyter": {
     "outputs_hidden": true
    }
   },
   "outputs": [
    {
     "data": {
      "text/html": [
       "<div>\n",
       "<style scoped>\n",
       "    .dataframe tbody tr th:only-of-type {\n",
       "        vertical-align: middle;\n",
       "    }\n",
       "\n",
       "    .dataframe tbody tr th {\n",
       "        vertical-align: top;\n",
       "    }\n",
       "\n",
       "    .dataframe thead th {\n",
       "        text-align: right;\n",
       "    }\n",
       "</style>\n",
       "<table border=\"1\" class=\"dataframe\">\n",
       "  <thead>\n",
       "    <tr style=\"text-align: right;\">\n",
       "      <th></th>\n",
       "      <th>id</th>\n",
       "      <th>name</th>\n",
       "      <th>location.address</th>\n",
       "      <th>location.crossStreet</th>\n",
       "      <th>location.distance</th>\n",
       "      <th>location.city</th>\n",
       "      <th>location.formattedAddress</th>\n",
       "      <th>rating</th>\n",
       "    </tr>\n",
       "  </thead>\n",
       "  <tbody>\n",
       "    <tr>\n",
       "      <th>0</th>\n",
       "      <td>4d2289b2d7b0b1f79966269f</td>\n",
       "      <td>Songhees Point</td>\n",
       "      <td>50 Songhees Rd</td>\n",
       "      <td>NaN</td>\n",
       "      <td>180</td>\n",
       "      <td>Victoria</td>\n",
       "      <td>[50 Songhees Rd, Victoria BC, Canada]</td>\n",
       "      <td>NaN</td>\n",
       "    </tr>\n",
       "    <tr>\n",
       "      <th>1</th>\n",
       "      <td>4e1e2f68ae60ef672d860f2e</td>\n",
       "      <td>Point Hope Maritime</td>\n",
       "      <td>Harbour Road</td>\n",
       "      <td>NaN</td>\n",
       "      <td>387</td>\n",
       "      <td>Victoria</td>\n",
       "      <td>[Harbour Road, Victoria BC, Canada]</td>\n",
       "      <td>NaN</td>\n",
       "    </tr>\n",
       "    <tr>\n",
       "      <th>2</th>\n",
       "      <td>4b4a2aabf964a520147d26e3</td>\n",
       "      <td>Fonyo Beach</td>\n",
       "      <td>Dallas Rd</td>\n",
       "      <td>NaN</td>\n",
       "      <td>2027</td>\n",
       "      <td>Victoria</td>\n",
       "      <td>[Dallas Rd, Victoria BC, Canada]</td>\n",
       "      <td>NaN</td>\n",
       "    </tr>\n",
       "    <tr>\n",
       "      <th>3</th>\n",
       "      <td>4fb5ca76e4b064d537e86e85</td>\n",
       "      <td>Laurel Point Park</td>\n",
       "      <td>680 Montreal St.</td>\n",
       "      <td>NaN</td>\n",
       "      <td>403</td>\n",
       "      <td>Victoria</td>\n",
       "      <td>[680 Montreal St., Victoria BC V8V 1Z8, Canada]</td>\n",
       "      <td>NaN</td>\n",
       "    </tr>\n",
       "    <tr>\n",
       "      <th>4</th>\n",
       "      <td>4b4a3c82f964a520168026e3</td>\n",
       "      <td>Beacon Hill Park</td>\n",
       "      <td>Douglas St.</td>\n",
       "      <td>at Circle Dr.</td>\n",
       "      <td>1898</td>\n",
       "      <td>Victoria</td>\n",
       "      <td>[Douglas St. (at Circle Dr.), Victoria BC, Can...</td>\n",
       "      <td>9.2</td>\n",
       "    </tr>\n",
       "    <tr>\n",
       "      <th>5</th>\n",
       "      <td>4d3f3c69c5eaa1cd80649650</td>\n",
       "      <td>Pioneer Square</td>\n",
       "      <td>Quadra St.</td>\n",
       "      <td>btwn Meares St. &amp; Rockland Ave.</td>\n",
       "      <td>1207</td>\n",
       "      <td>Victoria</td>\n",
       "      <td>[Quadra St. (btwn Meares St. &amp; Rockland Ave.),...</td>\n",
       "      <td>NaN</td>\n",
       "    </tr>\n",
       "    <tr>\n",
       "      <th>6</th>\n",
       "      <td>4da63fb06a23f2e8050465d7</td>\n",
       "      <td>Victoria Harbour</td>\n",
       "      <td>Government St</td>\n",
       "      <td>NaN</td>\n",
       "      <td>644</td>\n",
       "      <td>Victoria</td>\n",
       "      <td>[Government St, Victoria BC, Canada]</td>\n",
       "      <td>NaN</td>\n",
       "    </tr>\n",
       "    <tr>\n",
       "      <th>7</th>\n",
       "      <td>4b4a33e7f964a5207a7e26e3</td>\n",
       "      <td>Ogden Point Breakwater</td>\n",
       "      <td>Dallas Rd.</td>\n",
       "      <td>at Dock St</td>\n",
       "      <td>1595</td>\n",
       "      <td>Victoria</td>\n",
       "      <td>[Dallas Rd. (at Dock St), Victoria BC, Canada]</td>\n",
       "      <td>9.0</td>\n",
       "    </tr>\n",
       "    <tr>\n",
       "      <th>8</th>\n",
       "      <td>51a9312c50196225ffcd5dac</td>\n",
       "      <td>Dallas Road Beach (at San Jose)</td>\n",
       "      <td>NaN</td>\n",
       "      <td>NaN</td>\n",
       "      <td>1553</td>\n",
       "      <td>NaN</td>\n",
       "      <td>[Canada]</td>\n",
       "      <td>NaN</td>\n",
       "    </tr>\n",
       "    <tr>\n",
       "      <th>9</th>\n",
       "      <td>4f9481ce754a9a8df29fe7a4</td>\n",
       "      <td>Songhees Hilltop</td>\n",
       "      <td>Sitkum Rd.</td>\n",
       "      <td>btwn Saghalie Rd. &amp; Kimta Rd.</td>\n",
       "      <td>471</td>\n",
       "      <td>Victoria</td>\n",
       "      <td>[Sitkum Rd. (btwn Saghalie Rd. &amp; Kimta Rd.), V...</td>\n",
       "      <td>NaN</td>\n",
       "    </tr>\n",
       "    <tr>\n",
       "      <th>10</th>\n",
       "      <td>4e0109d0b61c1fbe8dfc5888</td>\n",
       "      <td>Dallas Road Beach</td>\n",
       "      <td>Dallas Rd.</td>\n",
       "      <td>at Boyd St.</td>\n",
       "      <td>1609</td>\n",
       "      <td>Victoria</td>\n",
       "      <td>[Dallas Rd. (at Boyd St.), Victoria BC, Canada]</td>\n",
       "      <td>9.3</td>\n",
       "    </tr>\n",
       "    <tr>\n",
       "      <th>11</th>\n",
       "      <td>4bcb7c96b6c49c74eb569291</td>\n",
       "      <td>Summit Park</td>\n",
       "      <td>NaN</td>\n",
       "      <td>NaN</td>\n",
       "      <td>2594</td>\n",
       "      <td>NaN</td>\n",
       "      <td>[Canada]</td>\n",
       "      <td>7.8</td>\n",
       "    </tr>\n",
       "    <tr>\n",
       "      <th>12</th>\n",
       "      <td>56e4b789498e4053043e1f82</td>\n",
       "      <td>Finlayson Point</td>\n",
       "      <td>NaN</td>\n",
       "      <td>NaN</td>\n",
       "      <td>2396</td>\n",
       "      <td>NaN</td>\n",
       "      <td>[Canada]</td>\n",
       "      <td>NaN</td>\n",
       "    </tr>\n",
       "    <tr>\n",
       "      <th>13</th>\n",
       "      <td>4b6dbf9ff964a520248c2ce3</td>\n",
       "      <td>Macaulay Point Park</td>\n",
       "      <td>NaN</td>\n",
       "      <td>NaN</td>\n",
       "      <td>2688</td>\n",
       "      <td>NaN</td>\n",
       "      <td>[Canada]</td>\n",
       "      <td>8.2</td>\n",
       "    </tr>\n",
       "    <tr>\n",
       "      <th>14</th>\n",
       "      <td>4f6e60bee4b0e0075b8219af</td>\n",
       "      <td>Dallas Road Path</td>\n",
       "      <td>NaN</td>\n",
       "      <td>NaN</td>\n",
       "      <td>2487</td>\n",
       "      <td>NaN</td>\n",
       "      <td>[Canada]</td>\n",
       "      <td>NaN</td>\n",
       "    </tr>\n",
       "    <tr>\n",
       "      <th>15</th>\n",
       "      <td>4bc0e81d74a9a593baf0d0f6</td>\n",
       "      <td>Fisherman's Wharf</td>\n",
       "      <td>310 St. Lawrence St</td>\n",
       "      <td>NaN</td>\n",
       "      <td>745</td>\n",
       "      <td>Victoria</td>\n",
       "      <td>[310 St. Lawrence St, Victoria BC V8V 1Y4, Can...</td>\n",
       "      <td>NaN</td>\n",
       "    </tr>\n",
       "    <tr>\n",
       "      <th>16</th>\n",
       "      <td>4db34dcbfa8c350240cb3f88</td>\n",
       "      <td>Bay Bridge</td>\n",
       "      <td>NaN</td>\n",
       "      <td>NaN</td>\n",
       "      <td>925</td>\n",
       "      <td>Victoria</td>\n",
       "      <td>[Victoria BC, Canada]</td>\n",
       "      <td>NaN</td>\n",
       "    </tr>\n",
       "    <tr>\n",
       "      <th>17</th>\n",
       "      <td>4b96b7fcf964a52012e034e3</td>\n",
       "      <td>Craigdarroch Castle</td>\n",
       "      <td>1050 Joan Cres</td>\n",
       "      <td>at Craigdarroch Rd</td>\n",
       "      <td>2357</td>\n",
       "      <td>Victoria</td>\n",
       "      <td>[1050 Joan Cres (at Craigdarroch Rd), Victoria...</td>\n",
       "      <td>8.0</td>\n",
       "    </tr>\n",
       "    <tr>\n",
       "      <th>18</th>\n",
       "      <td>4b591f84f964a520c37d28e3</td>\n",
       "      <td>YMCA-YWCA of Greater Victoria</td>\n",
       "      <td>851 Broughton Street</td>\n",
       "      <td>Quadra</td>\n",
       "      <td>1174</td>\n",
       "      <td>Victoria</td>\n",
       "      <td>[851 Broughton Street (Quadra), Victoria BC V8...</td>\n",
       "      <td>7.6</td>\n",
       "    </tr>\n",
       "    <tr>\n",
       "      <th>19</th>\n",
       "      <td>4c4e33ecea24c9b6b32d4315</td>\n",
       "      <td>Government House</td>\n",
       "      <td>1401 Rockland Ave</td>\n",
       "      <td>at Joan Cr</td>\n",
       "      <td>2550</td>\n",
       "      <td>Victoria</td>\n",
       "      <td>[1401 Rockland Ave (at Joan Cr), Victoria BC V...</td>\n",
       "      <td>8.3</td>\n",
       "    </tr>\n",
       "    <tr>\n",
       "      <th>20</th>\n",
       "      <td>4ca8a17176d3a093038c176b</td>\n",
       "      <td>Dallas Road Off Leash Dog Area</td>\n",
       "      <td>NaN</td>\n",
       "      <td>NaN</td>\n",
       "      <td>2281</td>\n",
       "      <td>NaN</td>\n",
       "      <td>[Canada]</td>\n",
       "      <td>NaN</td>\n",
       "    </tr>\n",
       "    <tr>\n",
       "      <th>21</th>\n",
       "      <td>4b954c0df964a520d69a34e3</td>\n",
       "      <td>Market Square</td>\n",
       "      <td>566 Johnson St.</td>\n",
       "      <td>at Store St.</td>\n",
       "      <td>476</td>\n",
       "      <td>Victoria</td>\n",
       "      <td>[566 Johnson St. (at Store St.), Victoria BC V...</td>\n",
       "      <td>7.5</td>\n",
       "    </tr>\n",
       "  </tbody>\n",
       "</table>\n",
       "</div>"
      ],
      "text/plain": [
       "                          id                             name  \\\n",
       "0   4d2289b2d7b0b1f79966269f                   Songhees Point   \n",
       "1   4e1e2f68ae60ef672d860f2e              Point Hope Maritime   \n",
       "2   4b4a2aabf964a520147d26e3                      Fonyo Beach   \n",
       "3   4fb5ca76e4b064d537e86e85                Laurel Point Park   \n",
       "4   4b4a3c82f964a520168026e3                 Beacon Hill Park   \n",
       "5   4d3f3c69c5eaa1cd80649650                   Pioneer Square   \n",
       "6   4da63fb06a23f2e8050465d7                 Victoria Harbour   \n",
       "7   4b4a33e7f964a5207a7e26e3           Ogden Point Breakwater   \n",
       "8   51a9312c50196225ffcd5dac  Dallas Road Beach (at San Jose)   \n",
       "9   4f9481ce754a9a8df29fe7a4                 Songhees Hilltop   \n",
       "10  4e0109d0b61c1fbe8dfc5888                Dallas Road Beach   \n",
       "11  4bcb7c96b6c49c74eb569291                      Summit Park   \n",
       "12  56e4b789498e4053043e1f82                  Finlayson Point   \n",
       "13  4b6dbf9ff964a520248c2ce3              Macaulay Point Park   \n",
       "14  4f6e60bee4b0e0075b8219af                 Dallas Road Path   \n",
       "15  4bc0e81d74a9a593baf0d0f6                Fisherman's Wharf   \n",
       "16  4db34dcbfa8c350240cb3f88                       Bay Bridge   \n",
       "17  4b96b7fcf964a52012e034e3              Craigdarroch Castle   \n",
       "18  4b591f84f964a520c37d28e3    YMCA-YWCA of Greater Victoria   \n",
       "19  4c4e33ecea24c9b6b32d4315                 Government House   \n",
       "20  4ca8a17176d3a093038c176b   Dallas Road Off Leash Dog Area   \n",
       "21  4b954c0df964a520d69a34e3                    Market Square   \n",
       "\n",
       "        location.address             location.crossStreet  location.distance  \\\n",
       "0         50 Songhees Rd                              NaN                180   \n",
       "1           Harbour Road                              NaN                387   \n",
       "2              Dallas Rd                              NaN               2027   \n",
       "3       680 Montreal St.                              NaN                403   \n",
       "4            Douglas St.                    at Circle Dr.               1898   \n",
       "5             Quadra St.  btwn Meares St. & Rockland Ave.               1207   \n",
       "6          Government St                              NaN                644   \n",
       "7             Dallas Rd.                       at Dock St               1595   \n",
       "8                    NaN                              NaN               1553   \n",
       "9             Sitkum Rd.    btwn Saghalie Rd. & Kimta Rd.                471   \n",
       "10            Dallas Rd.                      at Boyd St.               1609   \n",
       "11                   NaN                              NaN               2594   \n",
       "12                   NaN                              NaN               2396   \n",
       "13                   NaN                              NaN               2688   \n",
       "14                   NaN                              NaN               2487   \n",
       "15   310 St. Lawrence St                              NaN                745   \n",
       "16                   NaN                              NaN                925   \n",
       "17        1050 Joan Cres               at Craigdarroch Rd               2357   \n",
       "18  851 Broughton Street                           Quadra               1174   \n",
       "19     1401 Rockland Ave                       at Joan Cr               2550   \n",
       "20                   NaN                              NaN               2281   \n",
       "21       566 Johnson St.                     at Store St.                476   \n",
       "\n",
       "   location.city                          location.formattedAddress  rating  \n",
       "0       Victoria              [50 Songhees Rd, Victoria BC, Canada]     NaN  \n",
       "1       Victoria                [Harbour Road, Victoria BC, Canada]     NaN  \n",
       "2       Victoria                   [Dallas Rd, Victoria BC, Canada]     NaN  \n",
       "3       Victoria    [680 Montreal St., Victoria BC V8V 1Z8, Canada]     NaN  \n",
       "4       Victoria  [Douglas St. (at Circle Dr.), Victoria BC, Can...     9.2  \n",
       "5       Victoria  [Quadra St. (btwn Meares St. & Rockland Ave.),...     NaN  \n",
       "6       Victoria               [Government St, Victoria BC, Canada]     NaN  \n",
       "7       Victoria     [Dallas Rd. (at Dock St), Victoria BC, Canada]     9.0  \n",
       "8            NaN                                           [Canada]     NaN  \n",
       "9       Victoria  [Sitkum Rd. (btwn Saghalie Rd. & Kimta Rd.), V...     NaN  \n",
       "10      Victoria    [Dallas Rd. (at Boyd St.), Victoria BC, Canada]     9.3  \n",
       "11           NaN                                           [Canada]     7.8  \n",
       "12           NaN                                           [Canada]     NaN  \n",
       "13           NaN                                           [Canada]     8.2  \n",
       "14           NaN                                           [Canada]     NaN  \n",
       "15      Victoria  [310 St. Lawrence St, Victoria BC V8V 1Y4, Can...     NaN  \n",
       "16      Victoria                              [Victoria BC, Canada]     NaN  \n",
       "17      Victoria  [1050 Joan Cres (at Craigdarroch Rd), Victoria...     8.0  \n",
       "18      Victoria  [851 Broughton Street (Quadra), Victoria BC V8...     7.6  \n",
       "19      Victoria  [1401 Rockland Ave (at Joan Cr), Victoria BC V...     8.3  \n",
       "20           NaN                                           [Canada]     NaN  \n",
       "21      Victoria  [566 Johnson St. (at Store St.), Victoria BC V...     7.5  "
      ]
     },
     "execution_count": 190,
     "metadata": {},
     "output_type": "execute_result"
    }
   ],
   "source": [
    "fs_fun_result"
   ]
  },
  {
   "cell_type": "code",
   "execution_count": 194,
   "metadata": {},
   "outputs": [],
   "source": [
    "# Victoria attractions ordered by rating\n",
    "attractions_foursquare = fs_fun_result.sort_values(by='rating', ascending=False)"
   ]
  },
  {
   "cell_type": "code",
   "execution_count": 195,
   "metadata": {},
   "outputs": [
    {
     "data": {
      "text/html": [
       "<div>\n",
       "<style scoped>\n",
       "    .dataframe tbody tr th:only-of-type {\n",
       "        vertical-align: middle;\n",
       "    }\n",
       "\n",
       "    .dataframe tbody tr th {\n",
       "        vertical-align: top;\n",
       "    }\n",
       "\n",
       "    .dataframe thead th {\n",
       "        text-align: right;\n",
       "    }\n",
       "</style>\n",
       "<table border=\"1\" class=\"dataframe\">\n",
       "  <thead>\n",
       "    <tr style=\"text-align: right;\">\n",
       "      <th></th>\n",
       "      <th>id</th>\n",
       "      <th>name</th>\n",
       "      <th>location.address</th>\n",
       "      <th>location.crossStreet</th>\n",
       "      <th>location.distance</th>\n",
       "      <th>location.city</th>\n",
       "      <th>location.formattedAddress</th>\n",
       "      <th>rating</th>\n",
       "    </tr>\n",
       "  </thead>\n",
       "  <tbody>\n",
       "    <tr>\n",
       "      <th>10</th>\n",
       "      <td>4e0109d0b61c1fbe8dfc5888</td>\n",
       "      <td>Dallas Road Beach</td>\n",
       "      <td>Dallas Rd.</td>\n",
       "      <td>at Boyd St.</td>\n",
       "      <td>1609</td>\n",
       "      <td>Victoria</td>\n",
       "      <td>[Dallas Rd. (at Boyd St.), Victoria BC, Canada]</td>\n",
       "      <td>9.3</td>\n",
       "    </tr>\n",
       "    <tr>\n",
       "      <th>4</th>\n",
       "      <td>4b4a3c82f964a520168026e3</td>\n",
       "      <td>Beacon Hill Park</td>\n",
       "      <td>Douglas St.</td>\n",
       "      <td>at Circle Dr.</td>\n",
       "      <td>1898</td>\n",
       "      <td>Victoria</td>\n",
       "      <td>[Douglas St. (at Circle Dr.), Victoria BC, Can...</td>\n",
       "      <td>9.2</td>\n",
       "    </tr>\n",
       "    <tr>\n",
       "      <th>7</th>\n",
       "      <td>4b4a33e7f964a5207a7e26e3</td>\n",
       "      <td>Ogden Point Breakwater</td>\n",
       "      <td>Dallas Rd.</td>\n",
       "      <td>at Dock St</td>\n",
       "      <td>1595</td>\n",
       "      <td>Victoria</td>\n",
       "      <td>[Dallas Rd. (at Dock St), Victoria BC, Canada]</td>\n",
       "      <td>9.0</td>\n",
       "    </tr>\n",
       "    <tr>\n",
       "      <th>19</th>\n",
       "      <td>4c4e33ecea24c9b6b32d4315</td>\n",
       "      <td>Government House</td>\n",
       "      <td>1401 Rockland Ave</td>\n",
       "      <td>at Joan Cr</td>\n",
       "      <td>2550</td>\n",
       "      <td>Victoria</td>\n",
       "      <td>[1401 Rockland Ave (at Joan Cr), Victoria BC V...</td>\n",
       "      <td>8.3</td>\n",
       "    </tr>\n",
       "    <tr>\n",
       "      <th>13</th>\n",
       "      <td>4b6dbf9ff964a520248c2ce3</td>\n",
       "      <td>Macaulay Point Park</td>\n",
       "      <td>NaN</td>\n",
       "      <td>NaN</td>\n",
       "      <td>2688</td>\n",
       "      <td>NaN</td>\n",
       "      <td>[Canada]</td>\n",
       "      <td>8.2</td>\n",
       "    </tr>\n",
       "    <tr>\n",
       "      <th>17</th>\n",
       "      <td>4b96b7fcf964a52012e034e3</td>\n",
       "      <td>Craigdarroch Castle</td>\n",
       "      <td>1050 Joan Cres</td>\n",
       "      <td>at Craigdarroch Rd</td>\n",
       "      <td>2357</td>\n",
       "      <td>Victoria</td>\n",
       "      <td>[1050 Joan Cres (at Craigdarroch Rd), Victoria...</td>\n",
       "      <td>8.0</td>\n",
       "    </tr>\n",
       "    <tr>\n",
       "      <th>11</th>\n",
       "      <td>4bcb7c96b6c49c74eb569291</td>\n",
       "      <td>Summit Park</td>\n",
       "      <td>NaN</td>\n",
       "      <td>NaN</td>\n",
       "      <td>2594</td>\n",
       "      <td>NaN</td>\n",
       "      <td>[Canada]</td>\n",
       "      <td>7.8</td>\n",
       "    </tr>\n",
       "    <tr>\n",
       "      <th>18</th>\n",
       "      <td>4b591f84f964a520c37d28e3</td>\n",
       "      <td>YMCA-YWCA of Greater Victoria</td>\n",
       "      <td>851 Broughton Street</td>\n",
       "      <td>Quadra</td>\n",
       "      <td>1174</td>\n",
       "      <td>Victoria</td>\n",
       "      <td>[851 Broughton Street (Quadra), Victoria BC V8...</td>\n",
       "      <td>7.6</td>\n",
       "    </tr>\n",
       "    <tr>\n",
       "      <th>21</th>\n",
       "      <td>4b954c0df964a520d69a34e3</td>\n",
       "      <td>Market Square</td>\n",
       "      <td>566 Johnson St.</td>\n",
       "      <td>at Store St.</td>\n",
       "      <td>476</td>\n",
       "      <td>Victoria</td>\n",
       "      <td>[566 Johnson St. (at Store St.), Victoria BC V...</td>\n",
       "      <td>7.5</td>\n",
       "    </tr>\n",
       "    <tr>\n",
       "      <th>0</th>\n",
       "      <td>4d2289b2d7b0b1f79966269f</td>\n",
       "      <td>Songhees Point</td>\n",
       "      <td>50 Songhees Rd</td>\n",
       "      <td>NaN</td>\n",
       "      <td>180</td>\n",
       "      <td>Victoria</td>\n",
       "      <td>[50 Songhees Rd, Victoria BC, Canada]</td>\n",
       "      <td>NaN</td>\n",
       "    </tr>\n",
       "    <tr>\n",
       "      <th>1</th>\n",
       "      <td>4e1e2f68ae60ef672d860f2e</td>\n",
       "      <td>Point Hope Maritime</td>\n",
       "      <td>Harbour Road</td>\n",
       "      <td>NaN</td>\n",
       "      <td>387</td>\n",
       "      <td>Victoria</td>\n",
       "      <td>[Harbour Road, Victoria BC, Canada]</td>\n",
       "      <td>NaN</td>\n",
       "    </tr>\n",
       "    <tr>\n",
       "      <th>2</th>\n",
       "      <td>4b4a2aabf964a520147d26e3</td>\n",
       "      <td>Fonyo Beach</td>\n",
       "      <td>Dallas Rd</td>\n",
       "      <td>NaN</td>\n",
       "      <td>2027</td>\n",
       "      <td>Victoria</td>\n",
       "      <td>[Dallas Rd, Victoria BC, Canada]</td>\n",
       "      <td>NaN</td>\n",
       "    </tr>\n",
       "    <tr>\n",
       "      <th>3</th>\n",
       "      <td>4fb5ca76e4b064d537e86e85</td>\n",
       "      <td>Laurel Point Park</td>\n",
       "      <td>680 Montreal St.</td>\n",
       "      <td>NaN</td>\n",
       "      <td>403</td>\n",
       "      <td>Victoria</td>\n",
       "      <td>[680 Montreal St., Victoria BC V8V 1Z8, Canada]</td>\n",
       "      <td>NaN</td>\n",
       "    </tr>\n",
       "    <tr>\n",
       "      <th>5</th>\n",
       "      <td>4d3f3c69c5eaa1cd80649650</td>\n",
       "      <td>Pioneer Square</td>\n",
       "      <td>Quadra St.</td>\n",
       "      <td>btwn Meares St. &amp; Rockland Ave.</td>\n",
       "      <td>1207</td>\n",
       "      <td>Victoria</td>\n",
       "      <td>[Quadra St. (btwn Meares St. &amp; Rockland Ave.),...</td>\n",
       "      <td>NaN</td>\n",
       "    </tr>\n",
       "    <tr>\n",
       "      <th>6</th>\n",
       "      <td>4da63fb06a23f2e8050465d7</td>\n",
       "      <td>Victoria Harbour</td>\n",
       "      <td>Government St</td>\n",
       "      <td>NaN</td>\n",
       "      <td>644</td>\n",
       "      <td>Victoria</td>\n",
       "      <td>[Government St, Victoria BC, Canada]</td>\n",
       "      <td>NaN</td>\n",
       "    </tr>\n",
       "    <tr>\n",
       "      <th>8</th>\n",
       "      <td>51a9312c50196225ffcd5dac</td>\n",
       "      <td>Dallas Road Beach (at San Jose)</td>\n",
       "      <td>NaN</td>\n",
       "      <td>NaN</td>\n",
       "      <td>1553</td>\n",
       "      <td>NaN</td>\n",
       "      <td>[Canada]</td>\n",
       "      <td>NaN</td>\n",
       "    </tr>\n",
       "    <tr>\n",
       "      <th>9</th>\n",
       "      <td>4f9481ce754a9a8df29fe7a4</td>\n",
       "      <td>Songhees Hilltop</td>\n",
       "      <td>Sitkum Rd.</td>\n",
       "      <td>btwn Saghalie Rd. &amp; Kimta Rd.</td>\n",
       "      <td>471</td>\n",
       "      <td>Victoria</td>\n",
       "      <td>[Sitkum Rd. (btwn Saghalie Rd. &amp; Kimta Rd.), V...</td>\n",
       "      <td>NaN</td>\n",
       "    </tr>\n",
       "    <tr>\n",
       "      <th>12</th>\n",
       "      <td>56e4b789498e4053043e1f82</td>\n",
       "      <td>Finlayson Point</td>\n",
       "      <td>NaN</td>\n",
       "      <td>NaN</td>\n",
       "      <td>2396</td>\n",
       "      <td>NaN</td>\n",
       "      <td>[Canada]</td>\n",
       "      <td>NaN</td>\n",
       "    </tr>\n",
       "    <tr>\n",
       "      <th>14</th>\n",
       "      <td>4f6e60bee4b0e0075b8219af</td>\n",
       "      <td>Dallas Road Path</td>\n",
       "      <td>NaN</td>\n",
       "      <td>NaN</td>\n",
       "      <td>2487</td>\n",
       "      <td>NaN</td>\n",
       "      <td>[Canada]</td>\n",
       "      <td>NaN</td>\n",
       "    </tr>\n",
       "    <tr>\n",
       "      <th>15</th>\n",
       "      <td>4bc0e81d74a9a593baf0d0f6</td>\n",
       "      <td>Fisherman's Wharf</td>\n",
       "      <td>310 St. Lawrence St</td>\n",
       "      <td>NaN</td>\n",
       "      <td>745</td>\n",
       "      <td>Victoria</td>\n",
       "      <td>[310 St. Lawrence St, Victoria BC V8V 1Y4, Can...</td>\n",
       "      <td>NaN</td>\n",
       "    </tr>\n",
       "    <tr>\n",
       "      <th>16</th>\n",
       "      <td>4db34dcbfa8c350240cb3f88</td>\n",
       "      <td>Bay Bridge</td>\n",
       "      <td>NaN</td>\n",
       "      <td>NaN</td>\n",
       "      <td>925</td>\n",
       "      <td>Victoria</td>\n",
       "      <td>[Victoria BC, Canada]</td>\n",
       "      <td>NaN</td>\n",
       "    </tr>\n",
       "    <tr>\n",
       "      <th>20</th>\n",
       "      <td>4ca8a17176d3a093038c176b</td>\n",
       "      <td>Dallas Road Off Leash Dog Area</td>\n",
       "      <td>NaN</td>\n",
       "      <td>NaN</td>\n",
       "      <td>2281</td>\n",
       "      <td>NaN</td>\n",
       "      <td>[Canada]</td>\n",
       "      <td>NaN</td>\n",
       "    </tr>\n",
       "  </tbody>\n",
       "</table>\n",
       "</div>"
      ],
      "text/plain": [
       "                          id                             name  \\\n",
       "10  4e0109d0b61c1fbe8dfc5888                Dallas Road Beach   \n",
       "4   4b4a3c82f964a520168026e3                 Beacon Hill Park   \n",
       "7   4b4a33e7f964a5207a7e26e3           Ogden Point Breakwater   \n",
       "19  4c4e33ecea24c9b6b32d4315                 Government House   \n",
       "13  4b6dbf9ff964a520248c2ce3              Macaulay Point Park   \n",
       "17  4b96b7fcf964a52012e034e3              Craigdarroch Castle   \n",
       "11  4bcb7c96b6c49c74eb569291                      Summit Park   \n",
       "18  4b591f84f964a520c37d28e3    YMCA-YWCA of Greater Victoria   \n",
       "21  4b954c0df964a520d69a34e3                    Market Square   \n",
       "0   4d2289b2d7b0b1f79966269f                   Songhees Point   \n",
       "1   4e1e2f68ae60ef672d860f2e              Point Hope Maritime   \n",
       "2   4b4a2aabf964a520147d26e3                      Fonyo Beach   \n",
       "3   4fb5ca76e4b064d537e86e85                Laurel Point Park   \n",
       "5   4d3f3c69c5eaa1cd80649650                   Pioneer Square   \n",
       "6   4da63fb06a23f2e8050465d7                 Victoria Harbour   \n",
       "8   51a9312c50196225ffcd5dac  Dallas Road Beach (at San Jose)   \n",
       "9   4f9481ce754a9a8df29fe7a4                 Songhees Hilltop   \n",
       "12  56e4b789498e4053043e1f82                  Finlayson Point   \n",
       "14  4f6e60bee4b0e0075b8219af                 Dallas Road Path   \n",
       "15  4bc0e81d74a9a593baf0d0f6                Fisherman's Wharf   \n",
       "16  4db34dcbfa8c350240cb3f88                       Bay Bridge   \n",
       "20  4ca8a17176d3a093038c176b   Dallas Road Off Leash Dog Area   \n",
       "\n",
       "        location.address             location.crossStreet  location.distance  \\\n",
       "10            Dallas Rd.                      at Boyd St.               1609   \n",
       "4            Douglas St.                    at Circle Dr.               1898   \n",
       "7             Dallas Rd.                       at Dock St               1595   \n",
       "19     1401 Rockland Ave                       at Joan Cr               2550   \n",
       "13                   NaN                              NaN               2688   \n",
       "17        1050 Joan Cres               at Craigdarroch Rd               2357   \n",
       "11                   NaN                              NaN               2594   \n",
       "18  851 Broughton Street                           Quadra               1174   \n",
       "21       566 Johnson St.                     at Store St.                476   \n",
       "0         50 Songhees Rd                              NaN                180   \n",
       "1           Harbour Road                              NaN                387   \n",
       "2              Dallas Rd                              NaN               2027   \n",
       "3       680 Montreal St.                              NaN                403   \n",
       "5             Quadra St.  btwn Meares St. & Rockland Ave.               1207   \n",
       "6          Government St                              NaN                644   \n",
       "8                    NaN                              NaN               1553   \n",
       "9             Sitkum Rd.    btwn Saghalie Rd. & Kimta Rd.                471   \n",
       "12                   NaN                              NaN               2396   \n",
       "14                   NaN                              NaN               2487   \n",
       "15   310 St. Lawrence St                              NaN                745   \n",
       "16                   NaN                              NaN                925   \n",
       "20                   NaN                              NaN               2281   \n",
       "\n",
       "   location.city                          location.formattedAddress  rating  \n",
       "10      Victoria    [Dallas Rd. (at Boyd St.), Victoria BC, Canada]     9.3  \n",
       "4       Victoria  [Douglas St. (at Circle Dr.), Victoria BC, Can...     9.2  \n",
       "7       Victoria     [Dallas Rd. (at Dock St), Victoria BC, Canada]     9.0  \n",
       "19      Victoria  [1401 Rockland Ave (at Joan Cr), Victoria BC V...     8.3  \n",
       "13           NaN                                           [Canada]     8.2  \n",
       "17      Victoria  [1050 Joan Cres (at Craigdarroch Rd), Victoria...     8.0  \n",
       "11           NaN                                           [Canada]     7.8  \n",
       "18      Victoria  [851 Broughton Street (Quadra), Victoria BC V8...     7.6  \n",
       "21      Victoria  [566 Johnson St. (at Store St.), Victoria BC V...     7.5  \n",
       "0       Victoria              [50 Songhees Rd, Victoria BC, Canada]     NaN  \n",
       "1       Victoria                [Harbour Road, Victoria BC, Canada]     NaN  \n",
       "2       Victoria                   [Dallas Rd, Victoria BC, Canada]     NaN  \n",
       "3       Victoria    [680 Montreal St., Victoria BC V8V 1Z8, Canada]     NaN  \n",
       "5       Victoria  [Quadra St. (btwn Meares St. & Rockland Ave.),...     NaN  \n",
       "6       Victoria               [Government St, Victoria BC, Canada]     NaN  \n",
       "8            NaN                                           [Canada]     NaN  \n",
       "9       Victoria  [Sitkum Rd. (btwn Saghalie Rd. & Kimta Rd.), V...     NaN  \n",
       "12           NaN                                           [Canada]     NaN  \n",
       "14           NaN                                           [Canada]     NaN  \n",
       "15      Victoria  [310 St. Lawrence St, Victoria BC V8V 1Y4, Can...     NaN  \n",
       "16      Victoria                              [Victoria BC, Canada]     NaN  \n",
       "20           NaN                                           [Canada]     NaN  "
      ]
     },
     "execution_count": 195,
     "metadata": {},
     "output_type": "execute_result"
    }
   ],
   "source": [
    "attractions_foursquare"
   ]
  },
  {
   "cell_type": "code",
   "execution_count": null,
   "metadata": {},
   "outputs": [],
   "source": []
  },
  {
   "cell_type": "markdown",
   "metadata": {},
   "source": [
    "### Yelp API"
   ]
  },
  {
   "cell_type": "code",
   "execution_count": 9,
   "metadata": {},
   "outputs": [],
   "source": [
    "#pip install yelp"
   ]
  },
  {
   "cell_type": "code",
   "execution_count": 18,
   "metadata": {},
   "outputs": [],
   "source": [
    "# yelp authentication keys\n",
    "Yelp_ID = os.environ[\"Yelp_Client_ID\"]\n",
    "Yelp_API_Key = os.environ[\"Yelp_API_Key\"]"
   ]
  },
  {
   "cell_type": "code",
   "execution_count": 29,
   "metadata": {},
   "outputs": [],
   "source": [
    "#yelp_client = Client(Yelp_API_Key)"
   ]
  },
  {
   "cell_type": "code",
   "execution_count": 32,
   "metadata": {},
   "outputs": [],
   "source": [
    "# tried to use yelp package for get requests...\n",
    "# AttributeError: 'Client' object has no attribute 'business'\n",
    "#business_response = yelp_client.business.get_by_id('yelp-san-francisco')"
   ]
  },
  {
   "cell_type": "code",
   "execution_count": 37,
   "metadata": {},
   "outputs": [],
   "source": [
    "headers = {'Authorization': 'Bearer {}'.format(Yelp_API_Key)}\n",
    "search_api_url = 'https://api.yelp.com/v3/businesses/search'\n",
    "params = {'term': 'bar',\n",
    "          'latitude': 49.2853,\n",
    "          'longitude': -123.1208,\n",
    "          'radius': 1000,\n",
    "          'limit': 10}"
   ]
  },
  {
   "cell_type": "code",
   "execution_count": 38,
   "metadata": {},
   "outputs": [],
   "source": [
    "response = requests.get(search_api_url, headers=headers, params=params, timeout=5)"
   ]
  },
  {
   "cell_type": "code",
   "execution_count": 39,
   "metadata": {},
   "outputs": [
    {
     "data": {
      "application/json": {
       "businesses": [
        {
         "alias": "prohibition-vancouver",
         "categories": [
          {
           "alias": "lounges",
           "title": "Lounges"
          },
          {
           "alias": "cocktailbars",
           "title": "Cocktail Bars"
          }
         ],
         "coordinates": {
          "latitude": 49.28356,
          "longitude": -123.11893
         },
         "display_phone": "+1 604-673-7089",
         "distance": 237.3305993112801,
         "id": "mdt1tLbkZcOS2CsEbVF9Xg",
         "image_url": "https://s3-media2.fl.yelpcdn.com/bphoto/2vymLc29wYgkg1nJCfjvjQ/o.jpg",
         "is_closed": false,
         "location": {
          "address1": "801 W Georgia Street",
          "address2": "",
          "address3": "",
          "city": "Vancouver",
          "country": "CA",
          "display_address": [
           "801 W Georgia Street",
           "Vancouver, BC V6C 1P7",
           "Canada"
          ],
          "state": "BC",
          "zip_code": "V6C 1P7"
         },
         "name": "Prohibition",
         "phone": "+16046737089",
         "price": "$$",
         "rating": 4,
         "review_count": 144,
         "transactions": [],
         "url": "https://www.yelp.com/biz/prohibition-vancouver?adjust_creative=XNOX7IePjL-uCN8VWUX3PA&utm_campaign=yelp_api_v3&utm_medium=api_v3_business_search&utm_source=XNOX7IePjL-uCN8VWUX3PA"
        },
        {
         "alias": "1927-lobby-lounge-vancouver",
         "categories": [
          {
           "alias": "lounges",
           "title": "Lounges"
          }
         ],
         "coordinates": {
          "latitude": 49.2834188,
          "longitude": -123.1187911
         },
         "display_phone": "+1 604-682-5566",
         "distance": 254.92737079481392,
         "id": "FgATf88_fEkJKLWR2aKmew",
         "image_url": "https://s3-media3.fl.yelpcdn.com/bphoto/yFMclEyyY1UmbajdOVG_Mw/o.jpg",
         "is_closed": false,
         "location": {
          "address1": "801 W Georgia Street",
          "address2": "",
          "address3": "",
          "city": "Vancouver",
          "country": "CA",
          "display_address": [
           "801 W Georgia Street",
           "Vancouver, BC V6C 1P7",
           "Canada"
          ],
          "state": "BC",
          "zip_code": "V6C 1P7"
         },
         "name": "1927 Lobby Lounge",
         "phone": "+16046825566",
         "price": "$$$",
         "rating": 4.5,
         "review_count": 29,
         "transactions": [],
         "url": "https://www.yelp.com/biz/1927-lobby-lounge-vancouver?adjust_creative=XNOX7IePjL-uCN8VWUX3PA&utm_campaign=yelp_api_v3&utm_medium=api_v3_business_search&utm_source=XNOX7IePjL-uCN8VWUX3PA"
        },
        {
         "alias": "the-hide-lounge-vancouver-2",
         "categories": [
          {
           "alias": "lounges",
           "title": "Lounges"
          },
          {
           "alias": "burgers",
           "title": "Burgers"
          },
          {
           "alias": "tradamerican",
           "title": "American (Traditional)"
          }
         ],
         "coordinates": {
          "latitude": 49.28655,
          "longitude": -123.12092
         },
         "display_phone": "+1 604-661-5076",
         "distance": 140.25472863985908,
         "id": "AHQaqC06uL67BvUrvhWQUg",
         "image_url": "https://s3-media3.fl.yelpcdn.com/bphoto/4xRK-yMj-Ryu-Ps2MwyLog/o.jpg",
         "is_closed": false,
         "location": {
          "address1": "1055 Dunsmuir Street",
          "address2": null,
          "address3": "",
          "city": "Vancouver",
          "country": "CA",
          "display_address": [
           "1055 Dunsmuir Street",
           "Vancouver, BC V7X 1L3",
           "Canada"
          ],
          "state": "BC",
          "zip_code": "V7X 1L3"
         },
         "name": "The Hide Lounge",
         "phone": "+16046615076",
         "price": "$$",
         "rating": 4.5,
         "review_count": 16,
         "transactions": [],
         "url": "https://www.yelp.com/biz/the-hide-lounge-vancouver-2?adjust_creative=XNOX7IePjL-uCN8VWUX3PA&utm_campaign=yelp_api_v3&utm_medium=api_v3_business_search&utm_source=XNOX7IePjL-uCN8VWUX3PA"
        },
        {
         "alias": "the-bottleneck-vancouver",
         "categories": [
          {
           "alias": "pubs",
           "title": "Pubs"
          },
          {
           "alias": "newcanadian",
           "title": "Canadian (New)"
          }
         ],
         "coordinates": {
          "latitude": 49.2805449299109,
          "longitude": -123.120717952917
         },
         "display_phone": "+1 604-739-4540",
         "distance": 528.7725750284477,
         "id": "QrOGQtujSAcBRr9TM3ixiA",
         "image_url": "https://s3-media4.fl.yelpcdn.com/bphoto/QPtAEntcUki2KPcyDObjgw/o.jpg",
         "is_closed": false,
         "location": {
          "address1": "870 Granville Street",
          "address2": "",
          "address3": "",
          "city": "Vancouver",
          "country": "CA",
          "display_address": [
           "870 Granville Street",
           "Vancouver, BC V6B 2C9",
           "Canada"
          ],
          "state": "BC",
          "zip_code": "V6B 2C9"
         },
         "name": "The Bottleneck",
         "phone": "+16047394540",
         "price": "$$",
         "rating": 4,
         "review_count": 89,
         "transactions": [],
         "url": "https://www.yelp.com/biz/the-bottleneck-vancouver?adjust_creative=XNOX7IePjL-uCN8VWUX3PA&utm_campaign=yelp_api_v3&utm_medium=api_v3_business_search&utm_source=XNOX7IePjL-uCN8VWUX3PA"
        },
        {
         "alias": "sneeki-tiki-vancouver-2",
         "categories": [
          {
           "alias": "tikibars",
           "title": "Tiki Bars"
          },
          {
           "alias": "hawaiian",
           "title": "Hawaiian"
          }
         ],
         "coordinates": {
          "latitude": 49.277831,
          "longitude": -123.124894417107
         },
         "display_phone": "+1 604-690-8454",
         "distance": 882.0208148841905,
         "id": "KeJR6LCr_OUWn7UjaBuAPQ",
         "image_url": "https://s3-media4.fl.yelpcdn.com/bphoto/gy_HemEIm-M1PHq49LK1fQ/o.jpg",
         "is_closed": false,
         "location": {
          "address1": "1100 Granville Street",
          "address2": "",
          "address3": null,
          "city": "Vancouver",
          "country": "CA",
          "display_address": [
           "1100 Granville Street",
           "Vancouver, BC V6Z 2B6",
           "Canada"
          ],
          "state": "BC",
          "zip_code": "V6Z 2B6"
         },
         "name": "Sneeki Tiki",
         "phone": "+16046908454",
         "rating": 3.5,
         "review_count": 36,
         "transactions": [],
         "url": "https://www.yelp.com/biz/sneeki-tiki-vancouver-2?adjust_creative=XNOX7IePjL-uCN8VWUX3PA&utm_campaign=yelp_api_v3&utm_medium=api_v3_business_search&utm_source=XNOX7IePjL-uCN8VWUX3PA"
        },
        {
         "alias": "coal-harbour-bar-vancouver",
         "categories": [
          {
           "alias": "lounges",
           "title": "Lounges"
          }
         ],
         "coordinates": {
          "latitude": 49.2881297,
          "longitude": -123.1148699
         },
         "display_phone": "+1 604-662-8111",
         "distance": 564.6226356503191,
         "id": "TWQoG0ZjeYRIaNsN9Pyt-Q",
         "image_url": "https://s3-media2.fl.yelpcdn.com/bphoto/XLDufKYORwloBScCFEybWw/o.jpg",
         "is_closed": false,
         "location": {
          "address1": "999 Canada Place",
          "address2": "Suite 300",
          "address3": "",
          "city": "Vancouver",
          "country": "CA",
          "display_address": [
           "999 Canada Place",
           "Suite 300",
           "Vancouver, BC V6C 3B5",
           "Canada"
          ],
          "state": "BC",
          "zip_code": "V6C 3B5"
         },
         "name": "Coal Harbour Bar",
         "phone": "+16046628111",
         "price": "$$",
         "rating": 4.5,
         "review_count": 4,
         "transactions": [],
         "url": "https://www.yelp.com/biz/coal-harbour-bar-vancouver?adjust_creative=XNOX7IePjL-uCN8VWUX3PA&utm_campaign=yelp_api_v3&utm_medium=api_v3_business_search&utm_source=XNOX7IePjL-uCN8VWUX3PA"
        },
        {
         "alias": "the-red-accordion-vancouver",
         "categories": [
          {
           "alias": "cocktailbars",
           "title": "Cocktail Bars"
          },
          {
           "alias": "tapasmallplates",
           "title": "Tapas/Small Plates"
          }
         ],
         "coordinates": {
          "latitude": 49.29025,
          "longitude": -123.131768
         },
         "display_phone": "+1 604-428-6464",
         "distance": 967.3440656379115,
         "id": "SIdbZcE5gp63UjRN8tLr0g",
         "image_url": "https://s3-media2.fl.yelpcdn.com/bphoto/T8ueDEAYK2XO-8N3L-LgqQ/o.jpg",
         "is_closed": false,
         "location": {
          "address1": "1616 Alberni Street",
          "address2": "",
          "address3": null,
          "city": "Vancouver",
          "country": "CA",
          "display_address": [
           "1616 Alberni Street",
           "Vancouver, BC V6G 1A6",
           "Canada"
          ],
          "state": "BC",
          "zip_code": "V6G 1A6"
         },
         "name": "The Red Accordion",
         "phone": "+16044286464",
         "price": "$$",
         "rating": 5,
         "review_count": 25,
         "transactions": [],
         "url": "https://www.yelp.com/biz/the-red-accordion-vancouver?adjust_creative=XNOX7IePjL-uCN8VWUX3PA&utm_campaign=yelp_api_v3&utm_medium=api_v3_business_search&utm_source=XNOX7IePjL-uCN8VWUX3PA"
        },
        {
         "alias": "stock-and-supply-vancouver",
         "categories": [
          {
           "alias": "newcanadian",
           "title": "Canadian (New)"
          },
          {
           "alias": "breakfast_brunch",
           "title": "Breakfast & Brunch"
          },
          {
           "alias": "cocktailbars",
           "title": "Cocktail Bars"
          }
         ],
         "coordinates": {
          "latitude": 49.28416,
          "longitude": -123.1127
         },
         "display_phone": "+1 604-899-3049",
         "distance": 607.837924040916,
         "id": "sTBkQcgxwzJCxYLErBct2A",
         "image_url": "https://s3-media2.fl.yelpcdn.com/bphoto/HULnQlbF4Eh9EfYKKWmjtw/o.jpg",
         "is_closed": false,
         "location": {
          "address1": "550 West Hastings Street",
          "address2": "",
          "address3": null,
          "city": "Vancouver",
          "country": "CA",
          "display_address": [
           "550 West Hastings Street",
           "Vancouver, BC V6B 1L6",
           "Canada"
          ],
          "state": "BC",
          "zip_code": "V6B 1L6"
         },
         "name": "Stock and Supply",
         "phone": "+16048993049",
         "rating": 4.5,
         "review_count": 3,
         "transactions": [],
         "url": "https://www.yelp.com/biz/stock-and-supply-vancouver?adjust_creative=XNOX7IePjL-uCN8VWUX3PA&utm_campaign=yelp_api_v3&utm_medium=api_v3_business_search&utm_source=XNOX7IePjL-uCN8VWUX3PA"
        },
        {
         "alias": "the-ventura-room-vancouver",
         "categories": [
          {
           "alias": "cocktailbars",
           "title": "Cocktail Bars"
          },
          {
           "alias": "lounges",
           "title": "Lounges"
          },
          {
           "alias": "musicvenues",
           "title": "Music Venues"
          }
         ],
         "coordinates": {
          "latitude": 49.2796102,
          "longitude": -123.1131003
         },
         "display_phone": "+1 604-620-5547",
         "distance": 829.6060934329047,
         "id": "2kp3Qt9yMK3YI9rn2WfK4w",
         "image_url": "https://s3-media1.fl.yelpcdn.com/bphoto/UicFtBw-N0LBeWR33LMwhA/o.jpg",
         "is_closed": false,
         "location": {
          "address1": "695 Cambie Street",
          "address2": null,
          "address3": "",
          "city": "Vancouver",
          "country": "CA",
          "display_address": [
           "695 Cambie Street",
           "Vancouver, BC V6B 2P1",
           "Canada"
          ],
          "state": "BC",
          "zip_code": "V6B 2P1"
         },
         "name": "The Ventura Room",
         "phone": "+16046205547",
         "rating": 3.5,
         "review_count": 4,
         "transactions": [],
         "url": "https://www.yelp.com/biz/the-ventura-room-vancouver?adjust_creative=XNOX7IePjL-uCN8VWUX3PA&utm_campaign=yelp_api_v3&utm_medium=api_v3_business_search&utm_source=XNOX7IePjL-uCN8VWUX3PA"
        },
        {
         "alias": "the-bunker-at-the-barclay-vancouver",
         "categories": [
          {
           "alias": "bars",
           "title": "Bars"
          }
         ],
         "coordinates": {
          "latitude": 49.2874,
          "longitude": -123.12974
         },
         "display_phone": "+1 604-688-8850",
         "distance": 677.2548763032214,
         "id": "UuUCTiAJOvjDiIHELz_spw",
         "image_url": "https://s3-media2.fl.yelpcdn.com/bphoto/u83Ld6nRBTCKZsqeXw_9jA/o.jpg",
         "is_closed": false,
         "location": {
          "address1": "1348 Robson St",
          "address2": "",
          "address3": "",
          "city": "Vancouver",
          "country": "CA",
          "display_address": [
           "1348 Robson St",
           "Vancouver, BC V6E 1C5",
           "Canada"
          ],
          "state": "BC",
          "zip_code": "V6E 1C5"
         },
         "name": "The Bunker At The Barclay",
         "phone": "+16046888850",
         "price": "$",
         "rating": 4,
         "review_count": 4,
         "transactions": [],
         "url": "https://www.yelp.com/biz/the-bunker-at-the-barclay-vancouver?adjust_creative=XNOX7IePjL-uCN8VWUX3PA&utm_campaign=yelp_api_v3&utm_medium=api_v3_business_search&utm_source=XNOX7IePjL-uCN8VWUX3PA"
        }
       ],
       "region": {
        "center": {
         "latitude": 49.2853,
         "longitude": -123.1208
        }
       },
       "total": 160
      },
      "text/plain": [
       "<IPython.core.display.JSON object>"
      ]
     },
     "execution_count": 39,
     "metadata": {
      "application/json": {
       "expanded": false,
       "root": "root"
      }
     },
     "output_type": "execute_result"
    }
   ],
   "source": [
    "resp = response.json()\n",
    "JSON(resp)"
   ]
  },
  {
   "cell_type": "code",
   "execution_count": 41,
   "metadata": {},
   "outputs": [
    {
     "data": {
      "text/plain": [
       "dict"
      ]
     },
     "execution_count": 41,
     "metadata": {},
     "output_type": "execute_result"
    }
   ],
   "source": [
    "type(resp)"
   ]
  },
  {
   "cell_type": "markdown",
   "metadata": {},
   "source": [
    "#### Victoria POI"
   ]
  },
  {
   "cell_type": "code",
   "execution_count": null,
   "metadata": {},
   "outputs": [],
   "source": [
    "# Breweries"
   ]
  },
  {
   "cell_type": "code",
   "execution_count": 105,
   "metadata": {},
   "outputs": [],
   "source": [
    "headers = {'Authorization': 'Bearer {}'.format(Yelp_API_Key)}\n",
    "search_api_url = 'https://api.yelp.com/v3/businesses/search'\n",
    "params = {'term': 'breweries',\n",
    "          'latitude': 48.42701,\n",
    "          'longitude': -123.37494,\n",
    "          'radius': 2500,\n",
    "          'limit': 25}"
   ]
  },
  {
   "cell_type": "code",
   "execution_count": 106,
   "metadata": {},
   "outputs": [],
   "source": [
    "breweries = requests.get(search_api_url, headers=headers, params=params, timeout=5)"
   ]
  },
  {
   "cell_type": "code",
   "execution_count": 108,
   "metadata": {},
   "outputs": [],
   "source": [
    "breweries_cp = breweries.json().copy()"
   ]
  },
  {
   "cell_type": "code",
   "execution_count": 110,
   "metadata": {},
   "outputs": [
    {
     "data": {
      "application/json": {
       "businesses": [
        {
         "alias": "phillips-brewing-company-victoria-2",
         "categories": [
          {
           "alias": "breweries",
           "title": "Breweries"
          }
         ],
         "coordinates": {
          "latitude": 48.432189,
          "longitude": -123.367609
         },
         "display_phone": "+1 250-380-1912",
         "distance": 790.066492967384,
         "id": "5NfpQZ-oKEh7mE3jNvkTgg",
         "image_url": "https://s3-media1.fl.yelpcdn.com/bphoto/gRCwlyg0qsbYxsx3Z5Hhdw/o.jpg",
         "is_closed": false,
         "location": {
          "address1": "2010 Government Street",
          "address2": "",
          "address3": "",
          "city": "Victoria",
          "country": "CA",
          "display_address": [
           "2010 Government Street",
           "Victoria, BC V8T 1H3",
           "Canada"
          ],
          "state": "BC",
          "zip_code": "V8T 1H3"
         },
         "name": "Phillips Brewing Company",
         "phone": "+12503801912",
         "price": "$",
         "rating": 4.5,
         "review_count": 58,
         "transactions": [],
         "url": "https://www.yelp.com/biz/phillips-brewing-company-victoria-2?adjust_creative=XNOX7IePjL-uCN8VWUX3PA&utm_campaign=yelp_api_v3&utm_medium=api_v3_business_search&utm_source=XNOX7IePjL-uCN8VWUX3PA"
        },
        {
         "alias": "driftwood-brewery-victoria",
         "categories": [
          {
           "alias": "breweries",
           "title": "Breweries"
          }
         ],
         "coordinates": {
          "latitude": 48.4370136,
          "longitude": -123.3734402
         },
         "display_phone": "+1 250-590-3555",
         "distance": 1117.8385216462293,
         "id": "KMZjzCUMLg9rBzFo45corQ",
         "image_url": "https://s3-media1.fl.yelpcdn.com/bphoto/Yc1x93O43B6lhShogXLz-A/o.jpg",
         "is_closed": false,
         "location": {
          "address1": "102 450 Hillside Avenue",
          "address2": "",
          "address3": "",
          "city": "Victoria",
          "country": "CA",
          "display_address": [
           "102 450 Hillside Avenue",
           "Victoria, BC V8T 1Y7",
           "Canada"
          ],
          "state": "BC",
          "zip_code": "V8T 1Y7"
         },
         "name": "Driftwood Brewery",
         "phone": "+12505903555",
         "price": "$",
         "rating": 5,
         "review_count": 16,
         "transactions": [],
         "url": "https://www.yelp.com/biz/driftwood-brewery-victoria?adjust_creative=XNOX7IePjL-uCN8VWUX3PA&utm_campaign=yelp_api_v3&utm_medium=api_v3_business_search&utm_source=XNOX7IePjL-uCN8VWUX3PA"
        },
        {
         "alias": "whistle-buoy-victoria",
         "categories": [
          {
           "alias": "breweries",
           "title": "Breweries"
          }
         ],
         "coordinates": {
          "latitude": 48.42809,
          "longitude": -123.36883
         },
         "display_phone": "",
         "distance": 421.5820051724079,
         "id": "1LzLRwM8dXYxe9jOJD2sJA",
         "image_url": "https://s3-media4.fl.yelpcdn.com/bphoto/rUbTkvwNSp3d0MN_tpH4TQ/o.jpg",
         "is_closed": false,
         "location": {
          "address1": "560 Johnson Street",
          "address2": "Unit 63",
          "address3": null,
          "city": "Victoria",
          "country": "CA",
          "display_address": [
           "560 Johnson Street",
           "Unit 63",
           "Victoria, BC V8W 3C6",
           "Canada"
          ],
          "state": "BC",
          "zip_code": "V8W 3C6"
         },
         "name": "Whistle Buoy",
         "phone": "",
         "rating": 4.5,
         "review_count": 5,
         "transactions": [],
         "url": "https://www.yelp.com/biz/whistle-buoy-victoria?adjust_creative=XNOX7IePjL-uCN8VWUX3PA&utm_campaign=yelp_api_v3&utm_medium=api_v3_business_search&utm_source=XNOX7IePjL-uCN8VWUX3PA"
        },
        {
         "alias": "vancouver-island-brewing-victoria",
         "categories": [
          {
           "alias": "breweries",
           "title": "Breweries"
          }
         ],
         "coordinates": {
          "latitude": 48.43493291960902,
          "longitude": -123.36761241223375
         },
         "display_phone": "+1 250-361-0007",
         "distance": 1033.6443300422995,
         "id": "doAgHpHyrZEAtmdT35LGBw",
         "image_url": "https://s3-media1.fl.yelpcdn.com/bphoto/IPM1DLoTnt8SZkbsQNDhuA/o.jpg",
         "is_closed": false,
         "location": {
          "address1": "2330 Government Street",
          "address2": "",
          "address3": "",
          "city": "Victoria",
          "country": "CA",
          "display_address": [
           "2330 Government Street",
           "Victoria, BC V8T 5G5",
           "Canada"
          ],
          "state": "BC",
          "zip_code": "V8T 5G5"
         },
         "name": "Vancouver Island Brewing",
         "phone": "+12503610007",
         "price": "$",
         "rating": 4.5,
         "review_count": 31,
         "transactions": [],
         "url": "https://www.yelp.com/biz/vancouver-island-brewing-victoria?adjust_creative=XNOX7IePjL-uCN8VWUX3PA&utm_campaign=yelp_api_v3&utm_medium=api_v3_business_search&utm_source=XNOX7IePjL-uCN8VWUX3PA"
        },
        {
         "alias": "canoe-brewpub-marina-and-restaurant-victoria",
         "categories": [
          {
           "alias": "newcanadian",
           "title": "Canadian (New)"
          },
          {
           "alias": "venues",
           "title": "Venues & Event Spaces"
          },
          {
           "alias": "brewpubs",
           "title": "Brewpubs"
          }
         ],
         "coordinates": {
          "latitude": 48.42967,
          "longitude": -123.37079
         },
         "display_phone": "+1 250-361-1940",
         "distance": 447.2458208185448,
         "id": "ffzRpqAg876MHMItR4glqg",
         "image_url": "https://s3-media1.fl.yelpcdn.com/bphoto/F99FLpFWtdBZg4zHwnK0Mw/o.jpg",
         "is_closed": false,
         "location": {
          "address1": "450 Swift Street",
          "address2": "",
          "address3": "",
          "city": "Victoria",
          "country": "CA",
          "display_address": [
           "450 Swift Street",
           "Victoria, BC V8W 1S3",
           "Canada"
          ],
          "state": "BC",
          "zip_code": "V8W 1S3"
         },
         "name": "Canoe Brewpub Marina & Restaurant",
         "phone": "+12503611940",
         "price": "$$",
         "rating": 3.5,
         "review_count": 184,
         "transactions": [],
         "url": "https://www.yelp.com/biz/canoe-brewpub-marina-and-restaurant-victoria?adjust_creative=XNOX7IePjL-uCN8VWUX3PA&utm_campaign=yelp_api_v3&utm_medium=api_v3_business_search&utm_source=XNOX7IePjL-uCN8VWUX3PA"
        },
        {
         "alias": "the-hoyne-brewing-company-victoria",
         "categories": [
          {
           "alias": "breweries",
           "title": "Breweries"
          }
         ],
         "coordinates": {
          "latitude": 48.4371281926369,
          "longitude": -123.37354130734
         },
         "display_phone": "+1 250-590-5758",
         "distance": 1129.812998921526,
         "id": "Jpsh-UHn0Z-gNtUy1OZ0HA",
         "image_url": "https://s3-media3.fl.yelpcdn.com/bphoto/ooKMOkuLjowYX7X-h-A5KQ/o.jpg",
         "is_closed": false,
         "location": {
          "address1": "2740 Bridge Street",
          "address2": "Suite 101",
          "address3": "",
          "city": "Victoria",
          "country": "CA",
          "display_address": [
           "2740 Bridge Street",
           "Suite 101",
           "Victoria, BC V8T 5C5",
           "Canada"
          ],
          "state": "BC",
          "zip_code": "V8T 5C5"
         },
         "name": "The Hoyne Brewing Company",
         "phone": "+12505905758",
         "price": "$",
         "rating": 4,
         "review_count": 18,
         "transactions": [],
         "url": "https://www.yelp.com/biz/the-hoyne-brewing-company-victoria?adjust_creative=XNOX7IePjL-uCN8VWUX3PA&utm_campaign=yelp_api_v3&utm_medium=api_v3_business_search&utm_source=XNOX7IePjL-uCN8VWUX3PA"
        },
        {
         "alias": "moon-under-water-brewpub-victoria",
         "categories": [
          {
           "alias": "brewpubs",
           "title": "Brewpubs"
          }
         ],
         "coordinates": {
          "latitude": 48.43512,
          "longitude": -123.37549
         },
         "display_phone": "+1 250-380-0706",
         "distance": 912.1289748791098,
         "id": "d1ja6lPI_OBZM5N6X4U7zw",
         "image_url": "https://s3-media3.fl.yelpcdn.com/bphoto/SoeGBU3jHjW0phne8Szvkw/o.jpg",
         "is_closed": false,
         "location": {
          "address1": "350B Bay Street",
          "address2": "",
          "address3": "",
          "city": "Victoria",
          "country": "CA",
          "display_address": [
           "350B Bay Street",
           "Victoria, BC V8T 1P5",
           "Canada"
          ],
          "state": "BC",
          "zip_code": "V8T 1P5"
         },
         "name": "Moon Under Water Brewpub",
         "phone": "+12503800706",
         "price": "$$",
         "rating": 3.5,
         "review_count": 54,
         "transactions": [],
         "url": "https://www.yelp.com/biz/moon-under-water-brewpub-victoria?adjust_creative=XNOX7IePjL-uCN8VWUX3PA&utm_campaign=yelp_api_v3&utm_medium=api_v3_business_search&utm_source=XNOX7IePjL-uCN8VWUX3PA"
        },
        {
         "alias": "île-sauvage-brewing-company-victoria",
         "categories": [
          {
           "alias": "breweries",
           "title": "Breweries"
          }
         ],
         "coordinates": {
          "latitude": 48.44011,
          "longitude": -123.37375
         },
         "display_phone": "",
         "distance": 1445.76490617695,
         "id": "04ps6hbq9ikFK9uutlFl-g",
         "image_url": "https://s3-media1.fl.yelpcdn.com/bphoto/LHo_Jj62V_e9Fw761UbDkg/o.jpg",
         "is_closed": false,
         "location": {
          "address1": "2960 Bridge Street",
          "address2": "",
          "address3": null,
          "city": "Victoria",
          "country": "CA",
          "display_address": [
           "2960 Bridge Street",
           "Victoria, BC V8T 4T3",
           "Canada"
          ],
          "state": "BC",
          "zip_code": "V8T 4T3"
         },
         "name": "Île Sauvage Brewing Company",
         "phone": "",
         "rating": 5,
         "review_count": 8,
         "transactions": [],
         "url": "https://www.yelp.com/biz/%C3%AEle-sauvage-brewing-company-victoria?adjust_creative=XNOX7IePjL-uCN8VWUX3PA&utm_campaign=yelp_api_v3&utm_medium=api_v3_business_search&utm_source=XNOX7IePjL-uCN8VWUX3PA"
        },
        {
         "alias": "swans-brew-pub-victoria",
         "categories": [
          {
           "alias": "pubs",
           "title": "Pubs"
          },
          {
           "alias": "breweries",
           "title": "Breweries"
          }
         ],
         "coordinates": {
          "latitude": 48.4286699,
          "longitude": -123.36922
         },
         "display_phone": "+1 250-361-3310",
         "distance": 460.35558508882065,
         "id": "Sl8Oy9ClBRNlIdJGp6e0Ew",
         "image_url": "https://s3-media2.fl.yelpcdn.com/bphoto/iQDBHnaeQPvc3L9eXiYuIA/o.jpg",
         "is_closed": false,
         "location": {
          "address1": "506 Pandora Avenue",
          "address2": "",
          "address3": "",
          "city": "Victoria",
          "country": "CA",
          "display_address": [
           "506 Pandora Avenue",
           "Victoria, BC V8W 1N6",
           "Canada"
          ],
          "state": "BC",
          "zip_code": "V8W 1N6"
         },
         "name": "Swans Brew Pub",
         "phone": "+12503613310",
         "price": "$$",
         "rating": 3.5,
         "review_count": 141,
         "transactions": [],
         "url": "https://www.yelp.com/biz/swans-brew-pub-victoria?adjust_creative=XNOX7IePjL-uCN8VWUX3PA&utm_campaign=yelp_api_v3&utm_medium=api_v3_business_search&utm_source=XNOX7IePjL-uCN8VWUX3PA"
        },
        {
         "alias": "spinnakers-gastro-brewpub-victoria",
         "categories": [
          {
           "alias": "brewpubs",
           "title": "Brewpubs"
          }
         ],
         "coordinates": {
          "latitude": 48.42925,
          "longitude": -123.38509
         },
         "display_phone": "+1 250-386-2739",
         "distance": 780.8595857253634,
         "id": "Zk6K1sB3nsFtfaaRhFJ1MA",
         "image_url": "https://s3-media2.fl.yelpcdn.com/bphoto/E5Od8TAqd7WzeFx8JqHt9g/o.jpg",
         "is_closed": false,
         "location": {
          "address1": "308 Catherine Street",
          "address2": "",
          "address3": "",
          "city": "Victoria",
          "country": "CA",
          "display_address": [
           "308 Catherine Street",
           "Victoria, BC V9A 3S8",
           "Canada"
          ],
          "state": "BC",
          "zip_code": "V9A 3S8"
         },
         "name": "Spinnakers Gastro Brewpub",
         "phone": "+12503862739",
         "price": "$$",
         "rating": 3.5,
         "review_count": 182,
         "transactions": [],
         "url": "https://www.yelp.com/biz/spinnakers-gastro-brewpub-victoria?adjust_creative=XNOX7IePjL-uCN8VWUX3PA&utm_campaign=yelp_api_v3&utm_medium=api_v3_business_search&utm_source=XNOX7IePjL-uCN8VWUX3PA"
        },
        {
         "alias": "phillips-brewery-tasting-room-victoria",
         "categories": [
          {
           "alias": "breweries",
           "title": "Breweries"
          }
         ],
         "coordinates": {
          "latitude": 48.43213,
          "longitude": -123.36788
         },
         "display_phone": "+1 250-380-1912",
         "distance": 726.6250187811424,
         "id": "4bIMP0c41Pf3sZxoJ3d6Dg",
         "image_url": "",
         "is_closed": false,
         "location": {
          "address1": "2010 Government Street",
          "address2": null,
          "address3": "",
          "city": "Victoria",
          "country": "CA",
          "display_address": [
           "2010 Government Street",
           "Victoria, BC V8T 4P1",
           "Canada"
          ],
          "state": "BC",
          "zip_code": "V8T 4P1"
         },
         "name": "Phillips Brewery Tasting Room",
         "phone": "+12503801912",
         "rating": 2,
         "review_count": 1,
         "transactions": [],
         "url": "https://www.yelp.com/biz/phillips-brewery-tasting-room-victoria?adjust_creative=XNOX7IePjL-uCN8VWUX3PA&utm_campaign=yelp_api_v3&utm_medium=api_v3_business_search&utm_source=XNOX7IePjL-uCN8VWUX3PA"
        },
        {
         "alias": "the-churchill-victoria",
         "categories": [
          {
           "alias": "pubs",
           "title": "Pubs"
          },
          {
           "alias": "beer_and_wine",
           "title": "Beer, Wine & Spirits"
          }
         ],
         "coordinates": {
          "latitude": 48.4255409,
          "longitude": -123.3679886
         },
         "display_phone": "+1 250-384-6835",
         "distance": 545.2769360502183,
         "id": "GBWkIYtxGjTI8HXUqZmEkA",
         "image_url": "https://s3-media2.fl.yelpcdn.com/bphoto/8eEdYNyKrCLMZCtYgvUIGw/o.jpg",
         "is_closed": false,
         "location": {
          "address1": "1140 Government Street",
          "address2": "",
          "address3": "",
          "city": "Victoria",
          "country": "CA",
          "display_address": [
           "1140 Government Street",
           "Victoria, BC V8W 1Y2",
           "Canada"
          ],
          "state": "BC",
          "zip_code": "V8W 1Y2"
         },
         "name": "The Churchill",
         "phone": "+12503846835",
         "price": "$$",
         "rating": 4,
         "review_count": 60,
         "transactions": [],
         "url": "https://www.yelp.com/biz/the-churchill-victoria?adjust_creative=XNOX7IePjL-uCN8VWUX3PA&utm_campaign=yelp_api_v3&utm_medium=api_v3_business_search&utm_source=XNOX7IePjL-uCN8VWUX3PA"
        },
        {
         "alias": "bard-and-banker-victoria",
         "categories": [
          {
           "alias": "pubs",
           "title": "Pubs"
          }
         ],
         "coordinates": {
          "latitude": 48.4248036828691,
          "longitude": -123.368045650241
         },
         "display_phone": "+1 250-953-9993",
         "distance": 564.7834909255063,
         "id": "gg2zDXTPX6_sZbC2dp3_6A",
         "image_url": "https://s3-media3.fl.yelpcdn.com/bphoto/CBQw6WbHUEUtecIo9_bZZg/o.jpg",
         "is_closed": false,
         "location": {
          "address1": "1022 Government Street",
          "address2": "",
          "address3": "",
          "city": "Victoria",
          "country": "CA",
          "display_address": [
           "1022 Government Street",
           "Victoria, BC V8W 1X7",
           "Canada"
          ],
          "state": "BC",
          "zip_code": "V8W 1X7"
         },
         "name": "Bard and Banker",
         "phone": "+12509539993",
         "price": "$$",
         "rating": 4,
         "review_count": 413,
         "transactions": [],
         "url": "https://www.yelp.com/biz/bard-and-banker-victoria?adjust_creative=XNOX7IePjL-uCN8VWUX3PA&utm_campaign=yelp_api_v3&utm_medium=api_v3_business_search&utm_source=XNOX7IePjL-uCN8VWUX3PA"
        },
        {
         "alias": "west-coast-brewery-tour-victoria",
         "categories": [
          {
           "alias": "beertours",
           "title": "Beer Tours"
          }
         ],
         "coordinates": {
          "latitude": 48.42244,
          "longitude": -123.37405
         },
         "display_phone": "+1 250-516-4402",
         "distance": 532.5027083535347,
         "id": "wZP70m79ccPbnCw-drMWWA",
         "image_url": "",
         "is_closed": false,
         "location": {
          "address1": "254 Belleville Street",
          "address2": "",
          "address3": null,
          "city": "Victoria",
          "country": "CA",
          "display_address": [
           "254 Belleville Street",
           "Victoria, BC V8V 1W9",
           "Canada"
          ],
          "state": "BC",
          "zip_code": "V8V 1W9"
         },
         "name": "West Coast Brewery Tour",
         "phone": "+12505164402",
         "rating": 5,
         "review_count": 1,
         "transactions": [],
         "url": "https://www.yelp.com/biz/west-coast-brewery-tour-victoria?adjust_creative=XNOX7IePjL-uCN8VWUX3PA&utm_campaign=yelp_api_v3&utm_medium=api_v3_business_search&utm_source=XNOX7IePjL-uCN8VWUX3PA"
        },
        {
         "alias": "bartholomews-pub-victoria",
         "categories": [
          {
           "alias": "pubs",
           "title": "Pubs"
          }
         ],
         "coordinates": {
          "latitude": 48.4219133575343,
          "longitude": -123.365494196295
         },
         "display_phone": "+1 250-940-3125",
         "distance": 898.3229507427028,
         "id": "ef5JDmDPPey9KFwp7qiEXA",
         "image_url": "https://s3-media2.fl.yelpcdn.com/bphoto/9OpFMIsm-PAcit6OYBiFRw/o.jpg",
         "is_closed": false,
         "location": {
          "address1": "777 Douglas Street",
          "address2": "",
          "address3": "",
          "city": "Victoria",
          "country": "CA",
          "display_address": [
           "777 Douglas Street",
           "Victoria, BC V8W 2B5",
           "Canada"
          ],
          "state": "BC",
          "zip_code": "V8W 2B5"
         },
         "name": "Bartholomews Pub",
         "phone": "+12509403125",
         "price": "$$",
         "rating": 4,
         "review_count": 95,
         "transactions": [],
         "url": "https://www.yelp.com/biz/bartholomews-pub-victoria?adjust_creative=XNOX7IePjL-uCN8VWUX3PA&utm_campaign=yelp_api_v3&utm_medium=api_v3_business_search&utm_source=XNOX7IePjL-uCN8VWUX3PA"
        },
        {
         "alias": "vintage-spirits-victoria",
         "categories": [
          {
           "alias": "beer_and_wine",
           "title": "Beer, Wine & Spirits"
          }
         ],
         "coordinates": {
          "latitude": 48.42791,
          "longitude": -123.36499
         },
         "display_phone": "+1 250-383-4161",
         "distance": 758.0126360390022,
         "id": "bNXdSm0Re587u6zyPT47_g",
         "image_url": "https://s3-media2.fl.yelpcdn.com/bphoto/t1_5yHqC1_0k-p7x2XUK8g/o.jpg",
         "is_closed": false,
         "location": {
          "address1": "653 Pandora Avenue",
          "address2": "",
          "address3": "",
          "city": "Victoria",
          "country": "CA",
          "display_address": [
           "653 Pandora Avenue",
           "Victoria, BC V8W 1N8",
           "Canada"
          ],
          "state": "BC",
          "zip_code": "V8W 1N8"
         },
         "name": "Vintage Spirits",
         "phone": "+12503834161",
         "price": "$$",
         "rating": 4,
         "review_count": 5,
         "transactions": [],
         "url": "https://www.yelp.com/biz/vintage-spirits-victoria?adjust_creative=XNOX7IePjL-uCN8VWUX3PA&utm_campaign=yelp_api_v3&utm_medium=api_v3_business_search&utm_source=XNOX7IePjL-uCN8VWUX3PA"
        },
        {
         "alias": "lure-restaurant-and-bar-victoria-2",
         "categories": [
          {
           "alias": "seafood",
           "title": "Seafood"
          },
          {
           "alias": "lounges",
           "title": "Lounges"
          }
         ],
         "coordinates": {
          "latitude": 48.4267402521029,
          "longitude": -123.374857562555
         },
         "display_phone": "+1 250-360-5873",
         "distance": 30.60512410252179,
         "id": "DTSDtpR6pefyOmqbYEMUrw",
         "image_url": "https://s3-media2.fl.yelpcdn.com/bphoto/j2mbYP4R-42MvaHZsi_FyA/o.jpg",
         "is_closed": false,
         "location": {
          "address1": "100 Harbour Road",
          "address2": "",
          "address3": "",
          "city": "Victoria",
          "country": "CA",
          "display_address": [
           "100 Harbour Road",
           "Victoria, BC V9A 0G1",
           "Canada"
          ],
          "state": "BC",
          "zip_code": "V9A 0G1"
         },
         "name": "LURE Restaurant & Bar",
         "phone": "+12503605873",
         "price": "$$",
         "rating": 3.5,
         "review_count": 50,
         "transactions": [],
         "url": "https://www.yelp.com/biz/lure-restaurant-and-bar-victoria-2?adjust_creative=XNOX7IePjL-uCN8VWUX3PA&utm_campaign=yelp_api_v3&utm_medium=api_v3_business_search&utm_source=XNOX7IePjL-uCN8VWUX3PA"
        },
        {
         "alias": "garricks-head-pub-victoria",
         "categories": [
          {
           "alias": "pubs",
           "title": "Pubs"
          }
         ],
         "coordinates": {
          "latitude": 48.42554,
          "longitude": -123.36799
         },
         "display_phone": "+1 250-384-6835",
         "distance": 545.2769360502183,
         "id": "7Kj23dm0QrBaCxy6y7roxw",
         "image_url": "https://s3-media4.fl.yelpcdn.com/bphoto/iATK5lsKE-_bOBqkPJS1DQ/o.jpg",
         "is_closed": false,
         "location": {
          "address1": "1140 Government Street",
          "address2": "",
          "address3": "",
          "city": "Victoria",
          "country": "CA",
          "display_address": [
           "1140 Government Street",
           "Victoria, BC V8W 1Y2",
           "Canada"
          ],
          "state": "BC",
          "zip_code": "V8W 1Y2"
         },
         "name": "Garrick's Head Pub",
         "phone": "+12503846835",
         "price": "$$",
         "rating": 4,
         "review_count": 89,
         "transactions": [],
         "url": "https://www.yelp.com/biz/garricks-head-pub-victoria?adjust_creative=XNOX7IePjL-uCN8VWUX3PA&utm_campaign=yelp_api_v3&utm_medium=api_v3_business_search&utm_source=XNOX7IePjL-uCN8VWUX3PA"
        },
        {
         "alias": "finns-seafood-chops-cocktails-victoria",
         "categories": [
          {
           "alias": "seafood",
           "title": "Seafood"
          },
          {
           "alias": "cocktailbars",
           "title": "Cocktail Bars"
          }
         ],
         "coordinates": {
          "latitude": 48.4263512,
          "longitude": -123.3704474
         },
         "display_phone": "+1 250-360-1808",
         "distance": 339.4905395026951,
         "id": "BfNWcKl_ATbeUdu2nNCxnQ",
         "image_url": "https://s3-media4.fl.yelpcdn.com/bphoto/ocTmeHPcF3lyuaLJifuFJg/o.jpg",
         "is_closed": false,
         "location": {
          "address1": "1208 Wharf Street",
          "address2": "",
          "address3": null,
          "city": "Victoria",
          "country": "CA",
          "display_address": [
           "1208 Wharf Street",
           "Victoria, BC V8W 1T9",
           "Canada"
          ],
          "state": "BC",
          "zip_code": "V8W 1T9"
         },
         "name": "Finn's Seafood Chops Cocktails",
         "phone": "+12503601808",
         "price": "$$",
         "rating": 4.5,
         "review_count": 92,
         "transactions": [],
         "url": "https://www.yelp.com/biz/finns-seafood-chops-cocktails-victoria?adjust_creative=XNOX7IePjL-uCN8VWUX3PA&utm_campaign=yelp_api_v3&utm_medium=api_v3_business_search&utm_source=XNOX7IePjL-uCN8VWUX3PA"
        },
        {
         "alias": "10-acres-victoria-3",
         "categories": [
          {
           "alias": "brasseries",
           "title": "Brasseries"
          },
          {
           "alias": "gastropubs",
           "title": "Gastropubs"
          }
         ],
         "coordinates": {
          "latitude": 48.42329,
          "longitude": -123.36761
         },
         "display_phone": "+1 250-220-8008",
         "distance": 680.4762849212185,
         "id": "92VAi9WH84e08QIlpnnn1A",
         "image_url": "https://s3-media1.fl.yelpcdn.com/bphoto/LoXQEuV1KL98MblL0Niw-A/o.jpg",
         "is_closed": false,
         "location": {
          "address1": "611 Courtney Street",
          "address2": "",
          "address3": "",
          "city": "Victoria",
          "country": "CA",
          "display_address": [
           "611 Courtney Street",
           "Victoria, BC V8W 1B7",
           "Canada"
          ],
          "state": "BC",
          "zip_code": "V8W 1B7"
         },
         "name": "10 Acres",
         "phone": "+12502208008",
         "price": "$$",
         "rating": 4,
         "review_count": 422,
         "transactions": [],
         "url": "https://www.yelp.com/biz/10-acres-victoria-3?adjust_creative=XNOX7IePjL-uCN8VWUX3PA&utm_campaign=yelp_api_v3&utm_medium=api_v3_business_search&utm_source=XNOX7IePjL-uCN8VWUX3PA"
        },
        {
         "alias": "ferris-upstairs-seafood-and-oyster-bar-victoria",
         "categories": [
          {
           "alias": "bars",
           "title": "Bars"
          },
          {
           "alias": "seafood",
           "title": "Seafood"
          }
         ],
         "coordinates": {
          "latitude": 48.4269911500024,
          "longitude": -123.369169235229
         },
         "display_phone": "+1 250-382-2344",
         "distance": 425.80652821439384,
         "id": "1mEnXXcfJFrIPSZD7s-Hrg",
         "image_url": "https://s3-media2.fl.yelpcdn.com/bphoto/_e_caA18Hu0lWNpuzxsovQ/o.jpg",
         "is_closed": false,
         "location": {
          "address1": "536A Yates Street",
          "address2": "",
          "address3": "",
          "city": "Victoria",
          "country": "CA",
          "display_address": [
           "536A Yates Street",
           "Victoria, BC V8W 1K8",
           "Canada"
          ],
          "state": "BC",
          "zip_code": "V8W 1K8"
         },
         "name": "Ferris' Upstairs Seafood & Oyster Bar",
         "phone": "+12503822344",
         "price": "$$",
         "rating": 4,
         "review_count": 248,
         "transactions": [],
         "url": "https://www.yelp.com/biz/ferris-upstairs-seafood-and-oyster-bar-victoria?adjust_creative=XNOX7IePjL-uCN8VWUX3PA&utm_campaign=yelp_api_v3&utm_medium=api_v3_business_search&utm_source=XNOX7IePjL-uCN8VWUX3PA"
        },
        {
         "alias": "irish-times-pub-victoria",
         "categories": [
          {
           "alias": "irish_pubs",
           "title": "Irish Pub"
          },
          {
           "alias": "musicvenues",
           "title": "Music Venues"
          }
         ],
         "coordinates": {
          "latitude": 48.42582,
          "longitude": -123.36808
         },
         "display_phone": "+1 250-383-7775",
         "distance": 531.4501316345854,
         "id": "ryM6eYra7rlQsOdG_reO7g",
         "image_url": "https://s3-media4.fl.yelpcdn.com/bphoto/IAf-_pxNnKfW7hObpWioyA/o.jpg",
         "is_closed": false,
         "location": {
          "address1": "1200 Government Street",
          "address2": "",
          "address3": "",
          "city": "Victoria",
          "country": "CA",
          "display_address": [
           "1200 Government Street",
           "Victoria, BC V8W 1Y3",
           "Canada"
          ],
          "state": "BC",
          "zip_code": "V8W 1Y3"
         },
         "name": "Irish Times Pub",
         "phone": "+12503837775",
         "price": "$$",
         "rating": 4,
         "review_count": 371,
         "transactions": [],
         "url": "https://www.yelp.com/biz/irish-times-pub-victoria?adjust_creative=XNOX7IePjL-uCN8VWUX3PA&utm_campaign=yelp_api_v3&utm_medium=api_v3_business_search&utm_source=XNOX7IePjL-uCN8VWUX3PA"
        },
        {
         "alias": "yates-street-taphouse-victoria",
         "categories": [
          {
           "alias": "pubs",
           "title": "Pubs"
          },
          {
           "alias": "burgers",
           "title": "Burgers"
          },
          {
           "alias": "pizza",
           "title": "Pizza"
          }
         ],
         "coordinates": {
          "latitude": 48.426089,
          "longitude": -123.363817
         },
         "display_phone": "+1 250-590-5253",
         "distance": 827.093124025247,
         "id": "cUXXQS592Om4dhYnLug9Uw",
         "image_url": "https://s3-media2.fl.yelpcdn.com/bphoto/Atr34mugULLtx6WzqYrQYQ/o.jpg",
         "is_closed": false,
         "location": {
          "address1": "759 Yates Street",
          "address2": "",
          "address3": "",
          "city": "Victoria",
          "country": "CA",
          "display_address": [
           "759 Yates Street",
           "Victoria, BC V8W 1L6",
           "Canada"
          ],
          "state": "BC",
          "zip_code": "V8W 1L6"
         },
         "name": "Yates Street Taphouse",
         "phone": "+12505905253",
         "price": "$$",
         "rating": 3.5,
         "review_count": 40,
         "transactions": [],
         "url": "https://www.yelp.com/biz/yates-street-taphouse-victoria?adjust_creative=XNOX7IePjL-uCN8VWUX3PA&utm_campaign=yelp_api_v3&utm_medium=api_v3_business_search&utm_source=XNOX7IePjL-uCN8VWUX3PA"
        },
        {
         "alias": "hanks-a-restaurant-victoria-3",
         "categories": [
          {
           "alias": "newcanadian",
           "title": "Canadian (New)"
          },
          {
           "alias": "bars",
           "title": "Bars"
          }
         ],
         "coordinates": {
          "latitude": 48.4240336987,
          "longitude": -123.365239884
         },
         "display_phone": "",
         "distance": 788.5619294379223,
         "id": "_CTmEIaW9ApHi9rl4u6t5Q",
         "image_url": "https://s3-media2.fl.yelpcdn.com/bphoto/tJ_m7ko_fXHlCEX_2hBMbA/o.jpg",
         "is_closed": false,
         "location": {
          "address1": "1001 Douglas Street",
          "address2": "Unit G2A",
          "address3": "",
          "city": "Victoria",
          "country": "CA",
          "display_address": [
           "1001 Douglas Street",
           "Unit G2A",
           "Victoria, BC V8W 2C5",
           "Canada"
          ],
          "state": "BC",
          "zip_code": "V8W 2C5"
         },
         "name": "Hanks A Restaurant",
         "phone": "",
         "price": "$$",
         "rating": 4.5,
         "review_count": 92,
         "transactions": [],
         "url": "https://www.yelp.com/biz/hanks-a-restaurant-victoria-3?adjust_creative=XNOX7IePjL-uCN8VWUX3PA&utm_campaign=yelp_api_v3&utm_medium=api_v3_business_search&utm_source=XNOX7IePjL-uCN8VWUX3PA"
        },
        {
         "alias": "off-the-eaten-track-victoria-2",
         "categories": [
          {
           "alias": "foodtours",
           "title": "Food Tours"
          }
         ],
         "coordinates": {
          "latitude": 48.4284207,
          "longitude": -123.3656444
         },
         "display_phone": "+1 778-918-4584",
         "distance": 703.583983685458,
         "id": "CpEX5hL7TLRpR3FoXom8fA",
         "image_url": "https://s3-media2.fl.yelpcdn.com/bphoto/jlS4YMeTkRpKIt0zYEyv8Q/o.jpg",
         "is_closed": false,
         "location": {
          "address1": "",
          "address2": "",
          "address3": "",
          "city": "Victoria",
          "country": "CA",
          "display_address": [
           "Victoria, BC V8P 1A1",
           "Canada"
          ],
          "state": "BC",
          "zip_code": "V8P 1A1"
         },
         "name": "Off The Eaten Track",
         "phone": "+17789184584",
         "rating": 4,
         "review_count": 13,
         "transactions": [],
         "url": "https://www.yelp.com/biz/off-the-eaten-track-victoria-2?adjust_creative=XNOX7IePjL-uCN8VWUX3PA&utm_campaign=yelp_api_v3&utm_medium=api_v3_business_search&utm_source=XNOX7IePjL-uCN8VWUX3PA"
        }
       ],
       "region": {
        "center": {
         "latitude": 48.42701,
         "longitude": -123.37494
        }
       },
       "total": 27
      },
      "text/plain": [
       "<IPython.core.display.JSON object>"
      ]
     },
     "execution_count": 110,
     "metadata": {
      "application/json": {
       "expanded": false,
       "root": "root"
      }
     },
     "output_type": "execute_result"
    }
   ],
   "source": [
    "JSON(breweries_cp)"
   ]
  },
  {
   "cell_type": "code",
   "execution_count": 111,
   "metadata": {
    "collapsed": true,
    "jupyter": {
     "outputs_hidden": true
    }
   },
   "outputs": [
    {
     "data": {
      "text/plain": [
       "[{'id': '5NfpQZ-oKEh7mE3jNvkTgg',\n",
       "  'alias': 'phillips-brewing-company-victoria-2',\n",
       "  'name': 'Phillips Brewing Company',\n",
       "  'image_url': 'https://s3-media1.fl.yelpcdn.com/bphoto/gRCwlyg0qsbYxsx3Z5Hhdw/o.jpg',\n",
       "  'is_closed': False,\n",
       "  'url': 'https://www.yelp.com/biz/phillips-brewing-company-victoria-2?adjust_creative=XNOX7IePjL-uCN8VWUX3PA&utm_campaign=yelp_api_v3&utm_medium=api_v3_business_search&utm_source=XNOX7IePjL-uCN8VWUX3PA',\n",
       "  'review_count': 58,\n",
       "  'categories': [{'alias': 'breweries', 'title': 'Breweries'}],\n",
       "  'rating': 4.5,\n",
       "  'coordinates': {'latitude': 48.432189, 'longitude': -123.367609},\n",
       "  'transactions': [],\n",
       "  'price': '$',\n",
       "  'location': {'address1': '2010 Government Street',\n",
       "   'address2': '',\n",
       "   'address3': '',\n",
       "   'city': 'Victoria',\n",
       "   'zip_code': 'V8T 1H3',\n",
       "   'country': 'CA',\n",
       "   'state': 'BC',\n",
       "   'display_address': ['2010 Government Street',\n",
       "    'Victoria, BC V8T 1H3',\n",
       "    'Canada']},\n",
       "  'phone': '+12503801912',\n",
       "  'display_phone': '+1 250-380-1912',\n",
       "  'distance': 790.066492967384},\n",
       " {'id': 'KMZjzCUMLg9rBzFo45corQ',\n",
       "  'alias': 'driftwood-brewery-victoria',\n",
       "  'name': 'Driftwood Brewery',\n",
       "  'image_url': 'https://s3-media1.fl.yelpcdn.com/bphoto/Yc1x93O43B6lhShogXLz-A/o.jpg',\n",
       "  'is_closed': False,\n",
       "  'url': 'https://www.yelp.com/biz/driftwood-brewery-victoria?adjust_creative=XNOX7IePjL-uCN8VWUX3PA&utm_campaign=yelp_api_v3&utm_medium=api_v3_business_search&utm_source=XNOX7IePjL-uCN8VWUX3PA',\n",
       "  'review_count': 16,\n",
       "  'categories': [{'alias': 'breweries', 'title': 'Breweries'}],\n",
       "  'rating': 5.0,\n",
       "  'coordinates': {'latitude': 48.4370136, 'longitude': -123.3734402},\n",
       "  'transactions': [],\n",
       "  'price': '$',\n",
       "  'location': {'address1': '102 450 Hillside Avenue',\n",
       "   'address2': '',\n",
       "   'address3': '',\n",
       "   'city': 'Victoria',\n",
       "   'zip_code': 'V8T 1Y7',\n",
       "   'country': 'CA',\n",
       "   'state': 'BC',\n",
       "   'display_address': ['102 450 Hillside Avenue',\n",
       "    'Victoria, BC V8T 1Y7',\n",
       "    'Canada']},\n",
       "  'phone': '+12505903555',\n",
       "  'display_phone': '+1 250-590-3555',\n",
       "  'distance': 1117.8385216462293},\n",
       " {'id': '1LzLRwM8dXYxe9jOJD2sJA',\n",
       "  'alias': 'whistle-buoy-victoria',\n",
       "  'name': 'Whistle Buoy',\n",
       "  'image_url': 'https://s3-media4.fl.yelpcdn.com/bphoto/rUbTkvwNSp3d0MN_tpH4TQ/o.jpg',\n",
       "  'is_closed': False,\n",
       "  'url': 'https://www.yelp.com/biz/whistle-buoy-victoria?adjust_creative=XNOX7IePjL-uCN8VWUX3PA&utm_campaign=yelp_api_v3&utm_medium=api_v3_business_search&utm_source=XNOX7IePjL-uCN8VWUX3PA',\n",
       "  'review_count': 5,\n",
       "  'categories': [{'alias': 'breweries', 'title': 'Breweries'}],\n",
       "  'rating': 4.5,\n",
       "  'coordinates': {'latitude': 48.42809, 'longitude': -123.36883},\n",
       "  'transactions': [],\n",
       "  'location': {'address1': '560 Johnson Street',\n",
       "   'address2': 'Unit 63',\n",
       "   'address3': None,\n",
       "   'city': 'Victoria',\n",
       "   'zip_code': 'V8W 3C6',\n",
       "   'country': 'CA',\n",
       "   'state': 'BC',\n",
       "   'display_address': ['560 Johnson Street',\n",
       "    'Unit 63',\n",
       "    'Victoria, BC V8W 3C6',\n",
       "    'Canada']},\n",
       "  'phone': '',\n",
       "  'display_phone': '',\n",
       "  'distance': 421.5820051724079},\n",
       " {'id': 'doAgHpHyrZEAtmdT35LGBw',\n",
       "  'alias': 'vancouver-island-brewing-victoria',\n",
       "  'name': 'Vancouver Island Brewing',\n",
       "  'image_url': 'https://s3-media1.fl.yelpcdn.com/bphoto/IPM1DLoTnt8SZkbsQNDhuA/o.jpg',\n",
       "  'is_closed': False,\n",
       "  'url': 'https://www.yelp.com/biz/vancouver-island-brewing-victoria?adjust_creative=XNOX7IePjL-uCN8VWUX3PA&utm_campaign=yelp_api_v3&utm_medium=api_v3_business_search&utm_source=XNOX7IePjL-uCN8VWUX3PA',\n",
       "  'review_count': 31,\n",
       "  'categories': [{'alias': 'breweries', 'title': 'Breweries'}],\n",
       "  'rating': 4.5,\n",
       "  'coordinates': {'latitude': 48.43493291960902,\n",
       "   'longitude': -123.36761241223375},\n",
       "  'transactions': [],\n",
       "  'price': '$',\n",
       "  'location': {'address1': '2330 Government Street',\n",
       "   'address2': '',\n",
       "   'address3': '',\n",
       "   'city': 'Victoria',\n",
       "   'zip_code': 'V8T 5G5',\n",
       "   'country': 'CA',\n",
       "   'state': 'BC',\n",
       "   'display_address': ['2330 Government Street',\n",
       "    'Victoria, BC V8T 5G5',\n",
       "    'Canada']},\n",
       "  'phone': '+12503610007',\n",
       "  'display_phone': '+1 250-361-0007',\n",
       "  'distance': 1033.6443300422995},\n",
       " {'id': 'ffzRpqAg876MHMItR4glqg',\n",
       "  'alias': 'canoe-brewpub-marina-and-restaurant-victoria',\n",
       "  'name': 'Canoe Brewpub Marina & Restaurant',\n",
       "  'image_url': 'https://s3-media1.fl.yelpcdn.com/bphoto/F99FLpFWtdBZg4zHwnK0Mw/o.jpg',\n",
       "  'is_closed': False,\n",
       "  'url': 'https://www.yelp.com/biz/canoe-brewpub-marina-and-restaurant-victoria?adjust_creative=XNOX7IePjL-uCN8VWUX3PA&utm_campaign=yelp_api_v3&utm_medium=api_v3_business_search&utm_source=XNOX7IePjL-uCN8VWUX3PA',\n",
       "  'review_count': 184,\n",
       "  'categories': [{'alias': 'newcanadian', 'title': 'Canadian (New)'},\n",
       "   {'alias': 'venues', 'title': 'Venues & Event Spaces'},\n",
       "   {'alias': 'brewpubs', 'title': 'Brewpubs'}],\n",
       "  'rating': 3.5,\n",
       "  'coordinates': {'latitude': 48.42967, 'longitude': -123.37079},\n",
       "  'transactions': [],\n",
       "  'price': '$$',\n",
       "  'location': {'address1': '450 Swift Street',\n",
       "   'address2': '',\n",
       "   'address3': '',\n",
       "   'city': 'Victoria',\n",
       "   'zip_code': 'V8W 1S3',\n",
       "   'country': 'CA',\n",
       "   'state': 'BC',\n",
       "   'display_address': ['450 Swift Street', 'Victoria, BC V8W 1S3', 'Canada']},\n",
       "  'phone': '+12503611940',\n",
       "  'display_phone': '+1 250-361-1940',\n",
       "  'distance': 447.2458208185448},\n",
       " {'id': 'Jpsh-UHn0Z-gNtUy1OZ0HA',\n",
       "  'alias': 'the-hoyne-brewing-company-victoria',\n",
       "  'name': 'The Hoyne Brewing Company',\n",
       "  'image_url': 'https://s3-media3.fl.yelpcdn.com/bphoto/ooKMOkuLjowYX7X-h-A5KQ/o.jpg',\n",
       "  'is_closed': False,\n",
       "  'url': 'https://www.yelp.com/biz/the-hoyne-brewing-company-victoria?adjust_creative=XNOX7IePjL-uCN8VWUX3PA&utm_campaign=yelp_api_v3&utm_medium=api_v3_business_search&utm_source=XNOX7IePjL-uCN8VWUX3PA',\n",
       "  'review_count': 18,\n",
       "  'categories': [{'alias': 'breweries', 'title': 'Breweries'}],\n",
       "  'rating': 4.0,\n",
       "  'coordinates': {'latitude': 48.4371281926369, 'longitude': -123.37354130734},\n",
       "  'transactions': [],\n",
       "  'price': '$',\n",
       "  'location': {'address1': '2740 Bridge Street',\n",
       "   'address2': 'Suite 101',\n",
       "   'address3': '',\n",
       "   'city': 'Victoria',\n",
       "   'zip_code': 'V8T 5C5',\n",
       "   'country': 'CA',\n",
       "   'state': 'BC',\n",
       "   'display_address': ['2740 Bridge Street',\n",
       "    'Suite 101',\n",
       "    'Victoria, BC V8T 5C5',\n",
       "    'Canada']},\n",
       "  'phone': '+12505905758',\n",
       "  'display_phone': '+1 250-590-5758',\n",
       "  'distance': 1129.812998921526},\n",
       " {'id': 'd1ja6lPI_OBZM5N6X4U7zw',\n",
       "  'alias': 'moon-under-water-brewpub-victoria',\n",
       "  'name': 'Moon Under Water Brewpub',\n",
       "  'image_url': 'https://s3-media3.fl.yelpcdn.com/bphoto/SoeGBU3jHjW0phne8Szvkw/o.jpg',\n",
       "  'is_closed': False,\n",
       "  'url': 'https://www.yelp.com/biz/moon-under-water-brewpub-victoria?adjust_creative=XNOX7IePjL-uCN8VWUX3PA&utm_campaign=yelp_api_v3&utm_medium=api_v3_business_search&utm_source=XNOX7IePjL-uCN8VWUX3PA',\n",
       "  'review_count': 54,\n",
       "  'categories': [{'alias': 'brewpubs', 'title': 'Brewpubs'}],\n",
       "  'rating': 3.5,\n",
       "  'coordinates': {'latitude': 48.43512, 'longitude': -123.37549},\n",
       "  'transactions': [],\n",
       "  'price': '$$',\n",
       "  'location': {'address1': '350B Bay Street',\n",
       "   'address2': '',\n",
       "   'address3': '',\n",
       "   'city': 'Victoria',\n",
       "   'zip_code': 'V8T 1P5',\n",
       "   'country': 'CA',\n",
       "   'state': 'BC',\n",
       "   'display_address': ['350B Bay Street', 'Victoria, BC V8T 1P5', 'Canada']},\n",
       "  'phone': '+12503800706',\n",
       "  'display_phone': '+1 250-380-0706',\n",
       "  'distance': 912.1289748791098},\n",
       " {'id': '04ps6hbq9ikFK9uutlFl-g',\n",
       "  'alias': 'île-sauvage-brewing-company-victoria',\n",
       "  'name': 'Île Sauvage Brewing Company',\n",
       "  'image_url': 'https://s3-media1.fl.yelpcdn.com/bphoto/LHo_Jj62V_e9Fw761UbDkg/o.jpg',\n",
       "  'is_closed': False,\n",
       "  'url': 'https://www.yelp.com/biz/%C3%AEle-sauvage-brewing-company-victoria?adjust_creative=XNOX7IePjL-uCN8VWUX3PA&utm_campaign=yelp_api_v3&utm_medium=api_v3_business_search&utm_source=XNOX7IePjL-uCN8VWUX3PA',\n",
       "  'review_count': 8,\n",
       "  'categories': [{'alias': 'breweries', 'title': 'Breweries'}],\n",
       "  'rating': 5.0,\n",
       "  'coordinates': {'latitude': 48.44011, 'longitude': -123.37375},\n",
       "  'transactions': [],\n",
       "  'location': {'address1': '2960 Bridge Street',\n",
       "   'address2': '',\n",
       "   'address3': None,\n",
       "   'city': 'Victoria',\n",
       "   'zip_code': 'V8T 4T3',\n",
       "   'country': 'CA',\n",
       "   'state': 'BC',\n",
       "   'display_address': ['2960 Bridge Street',\n",
       "    'Victoria, BC V8T 4T3',\n",
       "    'Canada']},\n",
       "  'phone': '',\n",
       "  'display_phone': '',\n",
       "  'distance': 1445.76490617695},\n",
       " {'id': 'Sl8Oy9ClBRNlIdJGp6e0Ew',\n",
       "  'alias': 'swans-brew-pub-victoria',\n",
       "  'name': 'Swans Brew Pub',\n",
       "  'image_url': 'https://s3-media2.fl.yelpcdn.com/bphoto/iQDBHnaeQPvc3L9eXiYuIA/o.jpg',\n",
       "  'is_closed': False,\n",
       "  'url': 'https://www.yelp.com/biz/swans-brew-pub-victoria?adjust_creative=XNOX7IePjL-uCN8VWUX3PA&utm_campaign=yelp_api_v3&utm_medium=api_v3_business_search&utm_source=XNOX7IePjL-uCN8VWUX3PA',\n",
       "  'review_count': 141,\n",
       "  'categories': [{'alias': 'pubs', 'title': 'Pubs'},\n",
       "   {'alias': 'breweries', 'title': 'Breweries'}],\n",
       "  'rating': 3.5,\n",
       "  'coordinates': {'latitude': 48.4286699, 'longitude': -123.36922},\n",
       "  'transactions': [],\n",
       "  'price': '$$',\n",
       "  'location': {'address1': '506 Pandora Avenue',\n",
       "   'address2': '',\n",
       "   'address3': '',\n",
       "   'city': 'Victoria',\n",
       "   'zip_code': 'V8W 1N6',\n",
       "   'country': 'CA',\n",
       "   'state': 'BC',\n",
       "   'display_address': ['506 Pandora Avenue',\n",
       "    'Victoria, BC V8W 1N6',\n",
       "    'Canada']},\n",
       "  'phone': '+12503613310',\n",
       "  'display_phone': '+1 250-361-3310',\n",
       "  'distance': 460.35558508882065},\n",
       " {'id': 'Zk6K1sB3nsFtfaaRhFJ1MA',\n",
       "  'alias': 'spinnakers-gastro-brewpub-victoria',\n",
       "  'name': 'Spinnakers Gastro Brewpub',\n",
       "  'image_url': 'https://s3-media2.fl.yelpcdn.com/bphoto/E5Od8TAqd7WzeFx8JqHt9g/o.jpg',\n",
       "  'is_closed': False,\n",
       "  'url': 'https://www.yelp.com/biz/spinnakers-gastro-brewpub-victoria?adjust_creative=XNOX7IePjL-uCN8VWUX3PA&utm_campaign=yelp_api_v3&utm_medium=api_v3_business_search&utm_source=XNOX7IePjL-uCN8VWUX3PA',\n",
       "  'review_count': 182,\n",
       "  'categories': [{'alias': 'brewpubs', 'title': 'Brewpubs'}],\n",
       "  'rating': 3.5,\n",
       "  'coordinates': {'latitude': 48.42925, 'longitude': -123.38509},\n",
       "  'transactions': [],\n",
       "  'price': '$$',\n",
       "  'location': {'address1': '308 Catherine Street',\n",
       "   'address2': '',\n",
       "   'address3': '',\n",
       "   'city': 'Victoria',\n",
       "   'zip_code': 'V9A 3S8',\n",
       "   'country': 'CA',\n",
       "   'state': 'BC',\n",
       "   'display_address': ['308 Catherine Street',\n",
       "    'Victoria, BC V9A 3S8',\n",
       "    'Canada']},\n",
       "  'phone': '+12503862739',\n",
       "  'display_phone': '+1 250-386-2739',\n",
       "  'distance': 780.8595857253634},\n",
       " {'id': '4bIMP0c41Pf3sZxoJ3d6Dg',\n",
       "  'alias': 'phillips-brewery-tasting-room-victoria',\n",
       "  'name': 'Phillips Brewery Tasting Room',\n",
       "  'image_url': '',\n",
       "  'is_closed': False,\n",
       "  'url': 'https://www.yelp.com/biz/phillips-brewery-tasting-room-victoria?adjust_creative=XNOX7IePjL-uCN8VWUX3PA&utm_campaign=yelp_api_v3&utm_medium=api_v3_business_search&utm_source=XNOX7IePjL-uCN8VWUX3PA',\n",
       "  'review_count': 1,\n",
       "  'categories': [{'alias': 'breweries', 'title': 'Breweries'}],\n",
       "  'rating': 2.0,\n",
       "  'coordinates': {'latitude': 48.43213, 'longitude': -123.36788},\n",
       "  'transactions': [],\n",
       "  'location': {'address1': '2010 Government Street',\n",
       "   'address2': None,\n",
       "   'address3': '',\n",
       "   'city': 'Victoria',\n",
       "   'zip_code': 'V8T 4P1',\n",
       "   'country': 'CA',\n",
       "   'state': 'BC',\n",
       "   'display_address': ['2010 Government Street',\n",
       "    'Victoria, BC V8T 4P1',\n",
       "    'Canada']},\n",
       "  'phone': '+12503801912',\n",
       "  'display_phone': '+1 250-380-1912',\n",
       "  'distance': 726.6250187811424},\n",
       " {'id': 'GBWkIYtxGjTI8HXUqZmEkA',\n",
       "  'alias': 'the-churchill-victoria',\n",
       "  'name': 'The Churchill',\n",
       "  'image_url': 'https://s3-media2.fl.yelpcdn.com/bphoto/8eEdYNyKrCLMZCtYgvUIGw/o.jpg',\n",
       "  'is_closed': False,\n",
       "  'url': 'https://www.yelp.com/biz/the-churchill-victoria?adjust_creative=XNOX7IePjL-uCN8VWUX3PA&utm_campaign=yelp_api_v3&utm_medium=api_v3_business_search&utm_source=XNOX7IePjL-uCN8VWUX3PA',\n",
       "  'review_count': 60,\n",
       "  'categories': [{'alias': 'pubs', 'title': 'Pubs'},\n",
       "   {'alias': 'beer_and_wine', 'title': 'Beer, Wine & Spirits'}],\n",
       "  'rating': 4.0,\n",
       "  'coordinates': {'latitude': 48.4255409, 'longitude': -123.3679886},\n",
       "  'transactions': [],\n",
       "  'price': '$$',\n",
       "  'location': {'address1': '1140 Government Street',\n",
       "   'address2': '',\n",
       "   'address3': '',\n",
       "   'city': 'Victoria',\n",
       "   'zip_code': 'V8W 1Y2',\n",
       "   'country': 'CA',\n",
       "   'state': 'BC',\n",
       "   'display_address': ['1140 Government Street',\n",
       "    'Victoria, BC V8W 1Y2',\n",
       "    'Canada']},\n",
       "  'phone': '+12503846835',\n",
       "  'display_phone': '+1 250-384-6835',\n",
       "  'distance': 545.2769360502183},\n",
       " {'id': 'gg2zDXTPX6_sZbC2dp3_6A',\n",
       "  'alias': 'bard-and-banker-victoria',\n",
       "  'name': 'Bard and Banker',\n",
       "  'image_url': 'https://s3-media3.fl.yelpcdn.com/bphoto/CBQw6WbHUEUtecIo9_bZZg/o.jpg',\n",
       "  'is_closed': False,\n",
       "  'url': 'https://www.yelp.com/biz/bard-and-banker-victoria?adjust_creative=XNOX7IePjL-uCN8VWUX3PA&utm_campaign=yelp_api_v3&utm_medium=api_v3_business_search&utm_source=XNOX7IePjL-uCN8VWUX3PA',\n",
       "  'review_count': 413,\n",
       "  'categories': [{'alias': 'pubs', 'title': 'Pubs'}],\n",
       "  'rating': 4.0,\n",
       "  'coordinates': {'latitude': 48.4248036828691,\n",
       "   'longitude': -123.368045650241},\n",
       "  'transactions': [],\n",
       "  'price': '$$',\n",
       "  'location': {'address1': '1022 Government Street',\n",
       "   'address2': '',\n",
       "   'address3': '',\n",
       "   'city': 'Victoria',\n",
       "   'zip_code': 'V8W 1X7',\n",
       "   'country': 'CA',\n",
       "   'state': 'BC',\n",
       "   'display_address': ['1022 Government Street',\n",
       "    'Victoria, BC V8W 1X7',\n",
       "    'Canada']},\n",
       "  'phone': '+12509539993',\n",
       "  'display_phone': '+1 250-953-9993',\n",
       "  'distance': 564.7834909255063},\n",
       " {'id': 'wZP70m79ccPbnCw-drMWWA',\n",
       "  'alias': 'west-coast-brewery-tour-victoria',\n",
       "  'name': 'West Coast Brewery Tour',\n",
       "  'image_url': '',\n",
       "  'is_closed': False,\n",
       "  'url': 'https://www.yelp.com/biz/west-coast-brewery-tour-victoria?adjust_creative=XNOX7IePjL-uCN8VWUX3PA&utm_campaign=yelp_api_v3&utm_medium=api_v3_business_search&utm_source=XNOX7IePjL-uCN8VWUX3PA',\n",
       "  'review_count': 1,\n",
       "  'categories': [{'alias': 'beertours', 'title': 'Beer Tours'}],\n",
       "  'rating': 5.0,\n",
       "  'coordinates': {'latitude': 48.42244, 'longitude': -123.37405},\n",
       "  'transactions': [],\n",
       "  'location': {'address1': '254 Belleville Street',\n",
       "   'address2': '',\n",
       "   'address3': None,\n",
       "   'city': 'Victoria',\n",
       "   'zip_code': 'V8V 1W9',\n",
       "   'country': 'CA',\n",
       "   'state': 'BC',\n",
       "   'display_address': ['254 Belleville Street',\n",
       "    'Victoria, BC V8V 1W9',\n",
       "    'Canada']},\n",
       "  'phone': '+12505164402',\n",
       "  'display_phone': '+1 250-516-4402',\n",
       "  'distance': 532.5027083535347},\n",
       " {'id': 'ef5JDmDPPey9KFwp7qiEXA',\n",
       "  'alias': 'bartholomews-pub-victoria',\n",
       "  'name': 'Bartholomews Pub',\n",
       "  'image_url': 'https://s3-media2.fl.yelpcdn.com/bphoto/9OpFMIsm-PAcit6OYBiFRw/o.jpg',\n",
       "  'is_closed': False,\n",
       "  'url': 'https://www.yelp.com/biz/bartholomews-pub-victoria?adjust_creative=XNOX7IePjL-uCN8VWUX3PA&utm_campaign=yelp_api_v3&utm_medium=api_v3_business_search&utm_source=XNOX7IePjL-uCN8VWUX3PA',\n",
       "  'review_count': 95,\n",
       "  'categories': [{'alias': 'pubs', 'title': 'Pubs'}],\n",
       "  'rating': 4.0,\n",
       "  'coordinates': {'latitude': 48.4219133575343,\n",
       "   'longitude': -123.365494196295},\n",
       "  'transactions': [],\n",
       "  'price': '$$',\n",
       "  'location': {'address1': '777 Douglas Street',\n",
       "   'address2': '',\n",
       "   'address3': '',\n",
       "   'city': 'Victoria',\n",
       "   'zip_code': 'V8W 2B5',\n",
       "   'country': 'CA',\n",
       "   'state': 'BC',\n",
       "   'display_address': ['777 Douglas Street',\n",
       "    'Victoria, BC V8W 2B5',\n",
       "    'Canada']},\n",
       "  'phone': '+12509403125',\n",
       "  'display_phone': '+1 250-940-3125',\n",
       "  'distance': 898.3229507427028},\n",
       " {'id': 'bNXdSm0Re587u6zyPT47_g',\n",
       "  'alias': 'vintage-spirits-victoria',\n",
       "  'name': 'Vintage Spirits',\n",
       "  'image_url': 'https://s3-media2.fl.yelpcdn.com/bphoto/t1_5yHqC1_0k-p7x2XUK8g/o.jpg',\n",
       "  'is_closed': False,\n",
       "  'url': 'https://www.yelp.com/biz/vintage-spirits-victoria?adjust_creative=XNOX7IePjL-uCN8VWUX3PA&utm_campaign=yelp_api_v3&utm_medium=api_v3_business_search&utm_source=XNOX7IePjL-uCN8VWUX3PA',\n",
       "  'review_count': 5,\n",
       "  'categories': [{'alias': 'beer_and_wine', 'title': 'Beer, Wine & Spirits'}],\n",
       "  'rating': 4.0,\n",
       "  'coordinates': {'latitude': 48.42791, 'longitude': -123.36499},\n",
       "  'transactions': [],\n",
       "  'price': '$$',\n",
       "  'location': {'address1': '653 Pandora Avenue',\n",
       "   'address2': '',\n",
       "   'address3': '',\n",
       "   'city': 'Victoria',\n",
       "   'zip_code': 'V8W 1N8',\n",
       "   'country': 'CA',\n",
       "   'state': 'BC',\n",
       "   'display_address': ['653 Pandora Avenue',\n",
       "    'Victoria, BC V8W 1N8',\n",
       "    'Canada']},\n",
       "  'phone': '+12503834161',\n",
       "  'display_phone': '+1 250-383-4161',\n",
       "  'distance': 758.0126360390022},\n",
       " {'id': 'DTSDtpR6pefyOmqbYEMUrw',\n",
       "  'alias': 'lure-restaurant-and-bar-victoria-2',\n",
       "  'name': 'LURE Restaurant & Bar',\n",
       "  'image_url': 'https://s3-media2.fl.yelpcdn.com/bphoto/j2mbYP4R-42MvaHZsi_FyA/o.jpg',\n",
       "  'is_closed': False,\n",
       "  'url': 'https://www.yelp.com/biz/lure-restaurant-and-bar-victoria-2?adjust_creative=XNOX7IePjL-uCN8VWUX3PA&utm_campaign=yelp_api_v3&utm_medium=api_v3_business_search&utm_source=XNOX7IePjL-uCN8VWUX3PA',\n",
       "  'review_count': 50,\n",
       "  'categories': [{'alias': 'seafood', 'title': 'Seafood'},\n",
       "   {'alias': 'lounges', 'title': 'Lounges'}],\n",
       "  'rating': 3.5,\n",
       "  'coordinates': {'latitude': 48.4267402521029,\n",
       "   'longitude': -123.374857562555},\n",
       "  'transactions': [],\n",
       "  'price': '$$',\n",
       "  'location': {'address1': '100 Harbour Road',\n",
       "   'address2': '',\n",
       "   'address3': '',\n",
       "   'city': 'Victoria',\n",
       "   'zip_code': 'V9A 0G1',\n",
       "   'country': 'CA',\n",
       "   'state': 'BC',\n",
       "   'display_address': ['100 Harbour Road', 'Victoria, BC V9A 0G1', 'Canada']},\n",
       "  'phone': '+12503605873',\n",
       "  'display_phone': '+1 250-360-5873',\n",
       "  'distance': 30.60512410252179},\n",
       " {'id': '7Kj23dm0QrBaCxy6y7roxw',\n",
       "  'alias': 'garricks-head-pub-victoria',\n",
       "  'name': \"Garrick's Head Pub\",\n",
       "  'image_url': 'https://s3-media4.fl.yelpcdn.com/bphoto/iATK5lsKE-_bOBqkPJS1DQ/o.jpg',\n",
       "  'is_closed': False,\n",
       "  'url': 'https://www.yelp.com/biz/garricks-head-pub-victoria?adjust_creative=XNOX7IePjL-uCN8VWUX3PA&utm_campaign=yelp_api_v3&utm_medium=api_v3_business_search&utm_source=XNOX7IePjL-uCN8VWUX3PA',\n",
       "  'review_count': 89,\n",
       "  'categories': [{'alias': 'pubs', 'title': 'Pubs'}],\n",
       "  'rating': 4.0,\n",
       "  'coordinates': {'latitude': 48.42554, 'longitude': -123.36799},\n",
       "  'transactions': [],\n",
       "  'price': '$$',\n",
       "  'location': {'address1': '1140 Government Street',\n",
       "   'address2': '',\n",
       "   'address3': '',\n",
       "   'city': 'Victoria',\n",
       "   'zip_code': 'V8W 1Y2',\n",
       "   'country': 'CA',\n",
       "   'state': 'BC',\n",
       "   'display_address': ['1140 Government Street',\n",
       "    'Victoria, BC V8W 1Y2',\n",
       "    'Canada']},\n",
       "  'phone': '+12503846835',\n",
       "  'display_phone': '+1 250-384-6835',\n",
       "  'distance': 545.2769360502183},\n",
       " {'id': 'BfNWcKl_ATbeUdu2nNCxnQ',\n",
       "  'alias': 'finns-seafood-chops-cocktails-victoria',\n",
       "  'name': \"Finn's Seafood Chops Cocktails\",\n",
       "  'image_url': 'https://s3-media4.fl.yelpcdn.com/bphoto/ocTmeHPcF3lyuaLJifuFJg/o.jpg',\n",
       "  'is_closed': False,\n",
       "  'url': 'https://www.yelp.com/biz/finns-seafood-chops-cocktails-victoria?adjust_creative=XNOX7IePjL-uCN8VWUX3PA&utm_campaign=yelp_api_v3&utm_medium=api_v3_business_search&utm_source=XNOX7IePjL-uCN8VWUX3PA',\n",
       "  'review_count': 92,\n",
       "  'categories': [{'alias': 'seafood', 'title': 'Seafood'},\n",
       "   {'alias': 'cocktailbars', 'title': 'Cocktail Bars'}],\n",
       "  'rating': 4.5,\n",
       "  'coordinates': {'latitude': 48.4263512, 'longitude': -123.3704474},\n",
       "  'transactions': [],\n",
       "  'price': '$$',\n",
       "  'location': {'address1': '1208 Wharf Street',\n",
       "   'address2': '',\n",
       "   'address3': None,\n",
       "   'city': 'Victoria',\n",
       "   'zip_code': 'V8W 1T9',\n",
       "   'country': 'CA',\n",
       "   'state': 'BC',\n",
       "   'display_address': ['1208 Wharf Street', 'Victoria, BC V8W 1T9', 'Canada']},\n",
       "  'phone': '+12503601808',\n",
       "  'display_phone': '+1 250-360-1808',\n",
       "  'distance': 339.4905395026951},\n",
       " {'id': '92VAi9WH84e08QIlpnnn1A',\n",
       "  'alias': '10-acres-victoria-3',\n",
       "  'name': '10 Acres',\n",
       "  'image_url': 'https://s3-media1.fl.yelpcdn.com/bphoto/LoXQEuV1KL98MblL0Niw-A/o.jpg',\n",
       "  'is_closed': False,\n",
       "  'url': 'https://www.yelp.com/biz/10-acres-victoria-3?adjust_creative=XNOX7IePjL-uCN8VWUX3PA&utm_campaign=yelp_api_v3&utm_medium=api_v3_business_search&utm_source=XNOX7IePjL-uCN8VWUX3PA',\n",
       "  'review_count': 422,\n",
       "  'categories': [{'alias': 'brasseries', 'title': 'Brasseries'},\n",
       "   {'alias': 'gastropubs', 'title': 'Gastropubs'}],\n",
       "  'rating': 4.0,\n",
       "  'coordinates': {'latitude': 48.42329, 'longitude': -123.36761},\n",
       "  'transactions': [],\n",
       "  'price': '$$',\n",
       "  'location': {'address1': '611 Courtney Street',\n",
       "   'address2': '',\n",
       "   'address3': '',\n",
       "   'city': 'Victoria',\n",
       "   'zip_code': 'V8W 1B7',\n",
       "   'country': 'CA',\n",
       "   'state': 'BC',\n",
       "   'display_address': ['611 Courtney Street',\n",
       "    'Victoria, BC V8W 1B7',\n",
       "    'Canada']},\n",
       "  'phone': '+12502208008',\n",
       "  'display_phone': '+1 250-220-8008',\n",
       "  'distance': 680.4762849212185},\n",
       " {'id': '1mEnXXcfJFrIPSZD7s-Hrg',\n",
       "  'alias': 'ferris-upstairs-seafood-and-oyster-bar-victoria',\n",
       "  'name': \"Ferris' Upstairs Seafood & Oyster Bar\",\n",
       "  'image_url': 'https://s3-media2.fl.yelpcdn.com/bphoto/_e_caA18Hu0lWNpuzxsovQ/o.jpg',\n",
       "  'is_closed': False,\n",
       "  'url': 'https://www.yelp.com/biz/ferris-upstairs-seafood-and-oyster-bar-victoria?adjust_creative=XNOX7IePjL-uCN8VWUX3PA&utm_campaign=yelp_api_v3&utm_medium=api_v3_business_search&utm_source=XNOX7IePjL-uCN8VWUX3PA',\n",
       "  'review_count': 248,\n",
       "  'categories': [{'alias': 'bars', 'title': 'Bars'},\n",
       "   {'alias': 'seafood', 'title': 'Seafood'}],\n",
       "  'rating': 4.0,\n",
       "  'coordinates': {'latitude': 48.4269911500024,\n",
       "   'longitude': -123.369169235229},\n",
       "  'transactions': [],\n",
       "  'price': '$$',\n",
       "  'location': {'address1': '536A Yates Street',\n",
       "   'address2': '',\n",
       "   'address3': '',\n",
       "   'city': 'Victoria',\n",
       "   'zip_code': 'V8W 1K8',\n",
       "   'country': 'CA',\n",
       "   'state': 'BC',\n",
       "   'display_address': ['536A Yates Street', 'Victoria, BC V8W 1K8', 'Canada']},\n",
       "  'phone': '+12503822344',\n",
       "  'display_phone': '+1 250-382-2344',\n",
       "  'distance': 425.80652821439384},\n",
       " {'id': 'ryM6eYra7rlQsOdG_reO7g',\n",
       "  'alias': 'irish-times-pub-victoria',\n",
       "  'name': 'Irish Times Pub',\n",
       "  'image_url': 'https://s3-media4.fl.yelpcdn.com/bphoto/IAf-_pxNnKfW7hObpWioyA/o.jpg',\n",
       "  'is_closed': False,\n",
       "  'url': 'https://www.yelp.com/biz/irish-times-pub-victoria?adjust_creative=XNOX7IePjL-uCN8VWUX3PA&utm_campaign=yelp_api_v3&utm_medium=api_v3_business_search&utm_source=XNOX7IePjL-uCN8VWUX3PA',\n",
       "  'review_count': 371,\n",
       "  'categories': [{'alias': 'irish_pubs', 'title': 'Irish Pub'},\n",
       "   {'alias': 'musicvenues', 'title': 'Music Venues'}],\n",
       "  'rating': 4.0,\n",
       "  'coordinates': {'latitude': 48.42582, 'longitude': -123.36808},\n",
       "  'transactions': [],\n",
       "  'price': '$$',\n",
       "  'location': {'address1': '1200 Government Street',\n",
       "   'address2': '',\n",
       "   'address3': '',\n",
       "   'city': 'Victoria',\n",
       "   'zip_code': 'V8W 1Y3',\n",
       "   'country': 'CA',\n",
       "   'state': 'BC',\n",
       "   'display_address': ['1200 Government Street',\n",
       "    'Victoria, BC V8W 1Y3',\n",
       "    'Canada']},\n",
       "  'phone': '+12503837775',\n",
       "  'display_phone': '+1 250-383-7775',\n",
       "  'distance': 531.4501316345854},\n",
       " {'id': 'cUXXQS592Om4dhYnLug9Uw',\n",
       "  'alias': 'yates-street-taphouse-victoria',\n",
       "  'name': 'Yates Street Taphouse',\n",
       "  'image_url': 'https://s3-media2.fl.yelpcdn.com/bphoto/Atr34mugULLtx6WzqYrQYQ/o.jpg',\n",
       "  'is_closed': False,\n",
       "  'url': 'https://www.yelp.com/biz/yates-street-taphouse-victoria?adjust_creative=XNOX7IePjL-uCN8VWUX3PA&utm_campaign=yelp_api_v3&utm_medium=api_v3_business_search&utm_source=XNOX7IePjL-uCN8VWUX3PA',\n",
       "  'review_count': 40,\n",
       "  'categories': [{'alias': 'pubs', 'title': 'Pubs'},\n",
       "   {'alias': 'burgers', 'title': 'Burgers'},\n",
       "   {'alias': 'pizza', 'title': 'Pizza'}],\n",
       "  'rating': 3.5,\n",
       "  'coordinates': {'latitude': 48.426089, 'longitude': -123.363817},\n",
       "  'transactions': [],\n",
       "  'price': '$$',\n",
       "  'location': {'address1': '759 Yates Street',\n",
       "   'address2': '',\n",
       "   'address3': '',\n",
       "   'city': 'Victoria',\n",
       "   'zip_code': 'V8W 1L6',\n",
       "   'country': 'CA',\n",
       "   'state': 'BC',\n",
       "   'display_address': ['759 Yates Street', 'Victoria, BC V8W 1L6', 'Canada']},\n",
       "  'phone': '+12505905253',\n",
       "  'display_phone': '+1 250-590-5253',\n",
       "  'distance': 827.093124025247},\n",
       " {'id': '_CTmEIaW9ApHi9rl4u6t5Q',\n",
       "  'alias': 'hanks-a-restaurant-victoria-3',\n",
       "  'name': 'Hanks A Restaurant',\n",
       "  'image_url': 'https://s3-media2.fl.yelpcdn.com/bphoto/tJ_m7ko_fXHlCEX_2hBMbA/o.jpg',\n",
       "  'is_closed': False,\n",
       "  'url': 'https://www.yelp.com/biz/hanks-a-restaurant-victoria-3?adjust_creative=XNOX7IePjL-uCN8VWUX3PA&utm_campaign=yelp_api_v3&utm_medium=api_v3_business_search&utm_source=XNOX7IePjL-uCN8VWUX3PA',\n",
       "  'review_count': 92,\n",
       "  'categories': [{'alias': 'newcanadian', 'title': 'Canadian (New)'},\n",
       "   {'alias': 'bars', 'title': 'Bars'}],\n",
       "  'rating': 4.5,\n",
       "  'coordinates': {'latitude': 48.4240336987, 'longitude': -123.365239884},\n",
       "  'transactions': [],\n",
       "  'price': '$$',\n",
       "  'location': {'address1': '1001 Douglas Street',\n",
       "   'address2': 'Unit G2A',\n",
       "   'address3': '',\n",
       "   'city': 'Victoria',\n",
       "   'zip_code': 'V8W 2C5',\n",
       "   'country': 'CA',\n",
       "   'state': 'BC',\n",
       "   'display_address': ['1001 Douglas Street',\n",
       "    'Unit G2A',\n",
       "    'Victoria, BC V8W 2C5',\n",
       "    'Canada']},\n",
       "  'phone': '',\n",
       "  'display_phone': '',\n",
       "  'distance': 788.5619294379223},\n",
       " {'id': 'CpEX5hL7TLRpR3FoXom8fA',\n",
       "  'alias': 'off-the-eaten-track-victoria-2',\n",
       "  'name': 'Off The Eaten Track',\n",
       "  'image_url': 'https://s3-media2.fl.yelpcdn.com/bphoto/jlS4YMeTkRpKIt0zYEyv8Q/o.jpg',\n",
       "  'is_closed': False,\n",
       "  'url': 'https://www.yelp.com/biz/off-the-eaten-track-victoria-2?adjust_creative=XNOX7IePjL-uCN8VWUX3PA&utm_campaign=yelp_api_v3&utm_medium=api_v3_business_search&utm_source=XNOX7IePjL-uCN8VWUX3PA',\n",
       "  'review_count': 13,\n",
       "  'categories': [{'alias': 'foodtours', 'title': 'Food Tours'}],\n",
       "  'rating': 4.0,\n",
       "  'coordinates': {'latitude': 48.4284207, 'longitude': -123.3656444},\n",
       "  'transactions': [],\n",
       "  'location': {'address1': '',\n",
       "   'address2': '',\n",
       "   'address3': '',\n",
       "   'city': 'Victoria',\n",
       "   'zip_code': 'V8P 1A1',\n",
       "   'country': 'CA',\n",
       "   'state': 'BC',\n",
       "   'display_address': ['Victoria, BC V8P 1A1', 'Canada']},\n",
       "  'phone': '+17789184584',\n",
       "  'display_phone': '+1 778-918-4584',\n",
       "  'distance': 703.583983685458}]"
      ]
     },
     "execution_count": 111,
     "metadata": {},
     "output_type": "execute_result"
    }
   ],
   "source": [
    "yelp_brew = breweries_cp['businesses']\n",
    "yelp_brew"
   ]
  },
  {
   "cell_type": "code",
   "execution_count": 112,
   "metadata": {},
   "outputs": [
    {
     "data": {
      "text/plain": [
       "Index(['id', 'alias', 'name', 'image_url', 'is_closed', 'url', 'review_count',\n",
       "       'categories', 'rating', 'transactions', 'price', 'phone',\n",
       "       'display_phone', 'distance', 'coordinates.latitude',\n",
       "       'coordinates.longitude', 'location.address1', 'location.address2',\n",
       "       'location.address3', 'location.city', 'location.zip_code',\n",
       "       'location.country', 'location.state', 'location.display_address'],\n",
       "      dtype='object')"
      ]
     },
     "execution_count": 112,
     "metadata": {},
     "output_type": "execute_result"
    }
   ],
   "source": [
    "norm_yelp_brew = pd.json_normalize(yelp_brew)\n",
    "norm_yelp_brew.columns"
   ]
  },
  {
   "cell_type": "code",
   "execution_count": 118,
   "metadata": {},
   "outputs": [],
   "source": [
    "yelp_keep_list = ['name','review_count','rating','price','distance','location.address1','location.city','location.display_address']\n",
    "yelp_brew_result = norm_yelp_brew[yelp_keep_list]"
   ]
  },
  {
   "cell_type": "code",
   "execution_count": 119,
   "metadata": {
    "collapsed": true,
    "jupyter": {
     "outputs_hidden": true
    }
   },
   "outputs": [
    {
     "data": {
      "text/html": [
       "<div>\n",
       "<style scoped>\n",
       "    .dataframe tbody tr th:only-of-type {\n",
       "        vertical-align: middle;\n",
       "    }\n",
       "\n",
       "    .dataframe tbody tr th {\n",
       "        vertical-align: top;\n",
       "    }\n",
       "\n",
       "    .dataframe thead th {\n",
       "        text-align: right;\n",
       "    }\n",
       "</style>\n",
       "<table border=\"1\" class=\"dataframe\">\n",
       "  <thead>\n",
       "    <tr style=\"text-align: right;\">\n",
       "      <th></th>\n",
       "      <th>name</th>\n",
       "      <th>review_count</th>\n",
       "      <th>rating</th>\n",
       "      <th>price</th>\n",
       "      <th>distance</th>\n",
       "      <th>location.address1</th>\n",
       "      <th>location.city</th>\n",
       "      <th>location.display_address</th>\n",
       "    </tr>\n",
       "  </thead>\n",
       "  <tbody>\n",
       "    <tr>\n",
       "      <th>0</th>\n",
       "      <td>Phillips Brewing Company</td>\n",
       "      <td>58</td>\n",
       "      <td>4.5</td>\n",
       "      <td>$</td>\n",
       "      <td>790.066493</td>\n",
       "      <td>2010 Government Street</td>\n",
       "      <td>Victoria</td>\n",
       "      <td>[2010 Government Street, Victoria, BC V8T 1H3,...</td>\n",
       "    </tr>\n",
       "    <tr>\n",
       "      <th>1</th>\n",
       "      <td>Driftwood Brewery</td>\n",
       "      <td>16</td>\n",
       "      <td>5.0</td>\n",
       "      <td>$</td>\n",
       "      <td>1117.838522</td>\n",
       "      <td>102 450 Hillside Avenue</td>\n",
       "      <td>Victoria</td>\n",
       "      <td>[102 450 Hillside Avenue, Victoria, BC V8T 1Y7...</td>\n",
       "    </tr>\n",
       "    <tr>\n",
       "      <th>2</th>\n",
       "      <td>Whistle Buoy</td>\n",
       "      <td>5</td>\n",
       "      <td>4.5</td>\n",
       "      <td>NaN</td>\n",
       "      <td>421.582005</td>\n",
       "      <td>560 Johnson Street</td>\n",
       "      <td>Victoria</td>\n",
       "      <td>[560 Johnson Street, Unit 63, Victoria, BC V8W...</td>\n",
       "    </tr>\n",
       "    <tr>\n",
       "      <th>3</th>\n",
       "      <td>Vancouver Island Brewing</td>\n",
       "      <td>31</td>\n",
       "      <td>4.5</td>\n",
       "      <td>$</td>\n",
       "      <td>1033.644330</td>\n",
       "      <td>2330 Government Street</td>\n",
       "      <td>Victoria</td>\n",
       "      <td>[2330 Government Street, Victoria, BC V8T 5G5,...</td>\n",
       "    </tr>\n",
       "    <tr>\n",
       "      <th>4</th>\n",
       "      <td>Canoe Brewpub Marina &amp; Restaurant</td>\n",
       "      <td>184</td>\n",
       "      <td>3.5</td>\n",
       "      <td>$$</td>\n",
       "      <td>447.245821</td>\n",
       "      <td>450 Swift Street</td>\n",
       "      <td>Victoria</td>\n",
       "      <td>[450 Swift Street, Victoria, BC V8W 1S3, Canada]</td>\n",
       "    </tr>\n",
       "    <tr>\n",
       "      <th>5</th>\n",
       "      <td>The Hoyne Brewing Company</td>\n",
       "      <td>18</td>\n",
       "      <td>4.0</td>\n",
       "      <td>$</td>\n",
       "      <td>1129.812999</td>\n",
       "      <td>2740 Bridge Street</td>\n",
       "      <td>Victoria</td>\n",
       "      <td>[2740 Bridge Street, Suite 101, Victoria, BC V...</td>\n",
       "    </tr>\n",
       "    <tr>\n",
       "      <th>6</th>\n",
       "      <td>Moon Under Water Brewpub</td>\n",
       "      <td>54</td>\n",
       "      <td>3.5</td>\n",
       "      <td>$$</td>\n",
       "      <td>912.128975</td>\n",
       "      <td>350B Bay Street</td>\n",
       "      <td>Victoria</td>\n",
       "      <td>[350B Bay Street, Victoria, BC V8T 1P5, Canada]</td>\n",
       "    </tr>\n",
       "    <tr>\n",
       "      <th>7</th>\n",
       "      <td>Île Sauvage Brewing Company</td>\n",
       "      <td>8</td>\n",
       "      <td>5.0</td>\n",
       "      <td>NaN</td>\n",
       "      <td>1445.764906</td>\n",
       "      <td>2960 Bridge Street</td>\n",
       "      <td>Victoria</td>\n",
       "      <td>[2960 Bridge Street, Victoria, BC V8T 4T3, Can...</td>\n",
       "    </tr>\n",
       "    <tr>\n",
       "      <th>8</th>\n",
       "      <td>Swans Brew Pub</td>\n",
       "      <td>141</td>\n",
       "      <td>3.5</td>\n",
       "      <td>$$</td>\n",
       "      <td>460.355585</td>\n",
       "      <td>506 Pandora Avenue</td>\n",
       "      <td>Victoria</td>\n",
       "      <td>[506 Pandora Avenue, Victoria, BC V8W 1N6, Can...</td>\n",
       "    </tr>\n",
       "    <tr>\n",
       "      <th>9</th>\n",
       "      <td>Spinnakers Gastro Brewpub</td>\n",
       "      <td>182</td>\n",
       "      <td>3.5</td>\n",
       "      <td>$$</td>\n",
       "      <td>780.859586</td>\n",
       "      <td>308 Catherine Street</td>\n",
       "      <td>Victoria</td>\n",
       "      <td>[308 Catherine Street, Victoria, BC V9A 3S8, C...</td>\n",
       "    </tr>\n",
       "    <tr>\n",
       "      <th>10</th>\n",
       "      <td>Phillips Brewery Tasting Room</td>\n",
       "      <td>1</td>\n",
       "      <td>2.0</td>\n",
       "      <td>NaN</td>\n",
       "      <td>726.625019</td>\n",
       "      <td>2010 Government Street</td>\n",
       "      <td>Victoria</td>\n",
       "      <td>[2010 Government Street, Victoria, BC V8T 4P1,...</td>\n",
       "    </tr>\n",
       "    <tr>\n",
       "      <th>11</th>\n",
       "      <td>The Churchill</td>\n",
       "      <td>60</td>\n",
       "      <td>4.0</td>\n",
       "      <td>$$</td>\n",
       "      <td>545.276936</td>\n",
       "      <td>1140 Government Street</td>\n",
       "      <td>Victoria</td>\n",
       "      <td>[1140 Government Street, Victoria, BC V8W 1Y2,...</td>\n",
       "    </tr>\n",
       "    <tr>\n",
       "      <th>12</th>\n",
       "      <td>Bard and Banker</td>\n",
       "      <td>413</td>\n",
       "      <td>4.0</td>\n",
       "      <td>$$</td>\n",
       "      <td>564.783491</td>\n",
       "      <td>1022 Government Street</td>\n",
       "      <td>Victoria</td>\n",
       "      <td>[1022 Government Street, Victoria, BC V8W 1X7,...</td>\n",
       "    </tr>\n",
       "    <tr>\n",
       "      <th>13</th>\n",
       "      <td>West Coast Brewery Tour</td>\n",
       "      <td>1</td>\n",
       "      <td>5.0</td>\n",
       "      <td>NaN</td>\n",
       "      <td>532.502708</td>\n",
       "      <td>254 Belleville Street</td>\n",
       "      <td>Victoria</td>\n",
       "      <td>[254 Belleville Street, Victoria, BC V8V 1W9, ...</td>\n",
       "    </tr>\n",
       "    <tr>\n",
       "      <th>14</th>\n",
       "      <td>Bartholomews Pub</td>\n",
       "      <td>95</td>\n",
       "      <td>4.0</td>\n",
       "      <td>$$</td>\n",
       "      <td>898.322951</td>\n",
       "      <td>777 Douglas Street</td>\n",
       "      <td>Victoria</td>\n",
       "      <td>[777 Douglas Street, Victoria, BC V8W 2B5, Can...</td>\n",
       "    </tr>\n",
       "    <tr>\n",
       "      <th>15</th>\n",
       "      <td>Vintage Spirits</td>\n",
       "      <td>5</td>\n",
       "      <td>4.0</td>\n",
       "      <td>$$</td>\n",
       "      <td>758.012636</td>\n",
       "      <td>653 Pandora Avenue</td>\n",
       "      <td>Victoria</td>\n",
       "      <td>[653 Pandora Avenue, Victoria, BC V8W 1N8, Can...</td>\n",
       "    </tr>\n",
       "    <tr>\n",
       "      <th>16</th>\n",
       "      <td>LURE Restaurant &amp; Bar</td>\n",
       "      <td>50</td>\n",
       "      <td>3.5</td>\n",
       "      <td>$$</td>\n",
       "      <td>30.605124</td>\n",
       "      <td>100 Harbour Road</td>\n",
       "      <td>Victoria</td>\n",
       "      <td>[100 Harbour Road, Victoria, BC V9A 0G1, Canada]</td>\n",
       "    </tr>\n",
       "    <tr>\n",
       "      <th>17</th>\n",
       "      <td>Garrick's Head Pub</td>\n",
       "      <td>89</td>\n",
       "      <td>4.0</td>\n",
       "      <td>$$</td>\n",
       "      <td>545.276936</td>\n",
       "      <td>1140 Government Street</td>\n",
       "      <td>Victoria</td>\n",
       "      <td>[1140 Government Street, Victoria, BC V8W 1Y2,...</td>\n",
       "    </tr>\n",
       "    <tr>\n",
       "      <th>18</th>\n",
       "      <td>Finn's Seafood Chops Cocktails</td>\n",
       "      <td>92</td>\n",
       "      <td>4.5</td>\n",
       "      <td>$$</td>\n",
       "      <td>339.490540</td>\n",
       "      <td>1208 Wharf Street</td>\n",
       "      <td>Victoria</td>\n",
       "      <td>[1208 Wharf Street, Victoria, BC V8W 1T9, Canada]</td>\n",
       "    </tr>\n",
       "    <tr>\n",
       "      <th>19</th>\n",
       "      <td>10 Acres</td>\n",
       "      <td>422</td>\n",
       "      <td>4.0</td>\n",
       "      <td>$$</td>\n",
       "      <td>680.476285</td>\n",
       "      <td>611 Courtney Street</td>\n",
       "      <td>Victoria</td>\n",
       "      <td>[611 Courtney Street, Victoria, BC V8W 1B7, Ca...</td>\n",
       "    </tr>\n",
       "    <tr>\n",
       "      <th>20</th>\n",
       "      <td>Ferris' Upstairs Seafood &amp; Oyster Bar</td>\n",
       "      <td>248</td>\n",
       "      <td>4.0</td>\n",
       "      <td>$$</td>\n",
       "      <td>425.806528</td>\n",
       "      <td>536A Yates Street</td>\n",
       "      <td>Victoria</td>\n",
       "      <td>[536A Yates Street, Victoria, BC V8W 1K8, Canada]</td>\n",
       "    </tr>\n",
       "    <tr>\n",
       "      <th>21</th>\n",
       "      <td>Irish Times Pub</td>\n",
       "      <td>371</td>\n",
       "      <td>4.0</td>\n",
       "      <td>$$</td>\n",
       "      <td>531.450132</td>\n",
       "      <td>1200 Government Street</td>\n",
       "      <td>Victoria</td>\n",
       "      <td>[1200 Government Street, Victoria, BC V8W 1Y3,...</td>\n",
       "    </tr>\n",
       "    <tr>\n",
       "      <th>22</th>\n",
       "      <td>Yates Street Taphouse</td>\n",
       "      <td>40</td>\n",
       "      <td>3.5</td>\n",
       "      <td>$$</td>\n",
       "      <td>827.093124</td>\n",
       "      <td>759 Yates Street</td>\n",
       "      <td>Victoria</td>\n",
       "      <td>[759 Yates Street, Victoria, BC V8W 1L6, Canada]</td>\n",
       "    </tr>\n",
       "    <tr>\n",
       "      <th>23</th>\n",
       "      <td>Hanks A Restaurant</td>\n",
       "      <td>92</td>\n",
       "      <td>4.5</td>\n",
       "      <td>$$</td>\n",
       "      <td>788.561929</td>\n",
       "      <td>1001 Douglas Street</td>\n",
       "      <td>Victoria</td>\n",
       "      <td>[1001 Douglas Street, Unit G2A, Victoria, BC V...</td>\n",
       "    </tr>\n",
       "    <tr>\n",
       "      <th>24</th>\n",
       "      <td>Off The Eaten Track</td>\n",
       "      <td>13</td>\n",
       "      <td>4.0</td>\n",
       "      <td>NaN</td>\n",
       "      <td>703.583984</td>\n",
       "      <td></td>\n",
       "      <td>Victoria</td>\n",
       "      <td>[Victoria, BC V8P 1A1, Canada]</td>\n",
       "    </tr>\n",
       "  </tbody>\n",
       "</table>\n",
       "</div>"
      ],
      "text/plain": [
       "                                     name  review_count  rating price  \\\n",
       "0                Phillips Brewing Company            58     4.5     $   \n",
       "1                       Driftwood Brewery            16     5.0     $   \n",
       "2                            Whistle Buoy             5     4.5   NaN   \n",
       "3                Vancouver Island Brewing            31     4.5     $   \n",
       "4       Canoe Brewpub Marina & Restaurant           184     3.5    $$   \n",
       "5               The Hoyne Brewing Company            18     4.0     $   \n",
       "6                Moon Under Water Brewpub            54     3.5    $$   \n",
       "7             Île Sauvage Brewing Company             8     5.0   NaN   \n",
       "8                          Swans Brew Pub           141     3.5    $$   \n",
       "9               Spinnakers Gastro Brewpub           182     3.5    $$   \n",
       "10          Phillips Brewery Tasting Room             1     2.0   NaN   \n",
       "11                          The Churchill            60     4.0    $$   \n",
       "12                        Bard and Banker           413     4.0    $$   \n",
       "13                West Coast Brewery Tour             1     5.0   NaN   \n",
       "14                       Bartholomews Pub            95     4.0    $$   \n",
       "15                        Vintage Spirits             5     4.0    $$   \n",
       "16                  LURE Restaurant & Bar            50     3.5    $$   \n",
       "17                     Garrick's Head Pub            89     4.0    $$   \n",
       "18         Finn's Seafood Chops Cocktails            92     4.5    $$   \n",
       "19                               10 Acres           422     4.0    $$   \n",
       "20  Ferris' Upstairs Seafood & Oyster Bar           248     4.0    $$   \n",
       "21                        Irish Times Pub           371     4.0    $$   \n",
       "22                  Yates Street Taphouse            40     3.5    $$   \n",
       "23                     Hanks A Restaurant            92     4.5    $$   \n",
       "24                    Off The Eaten Track            13     4.0   NaN   \n",
       "\n",
       "       distance        location.address1 location.city  \\\n",
       "0    790.066493   2010 Government Street      Victoria   \n",
       "1   1117.838522  102 450 Hillside Avenue      Victoria   \n",
       "2    421.582005       560 Johnson Street      Victoria   \n",
       "3   1033.644330   2330 Government Street      Victoria   \n",
       "4    447.245821         450 Swift Street      Victoria   \n",
       "5   1129.812999       2740 Bridge Street      Victoria   \n",
       "6    912.128975          350B Bay Street      Victoria   \n",
       "7   1445.764906       2960 Bridge Street      Victoria   \n",
       "8    460.355585       506 Pandora Avenue      Victoria   \n",
       "9    780.859586     308 Catherine Street      Victoria   \n",
       "10   726.625019   2010 Government Street      Victoria   \n",
       "11   545.276936   1140 Government Street      Victoria   \n",
       "12   564.783491   1022 Government Street      Victoria   \n",
       "13   532.502708    254 Belleville Street      Victoria   \n",
       "14   898.322951       777 Douglas Street      Victoria   \n",
       "15   758.012636       653 Pandora Avenue      Victoria   \n",
       "16    30.605124         100 Harbour Road      Victoria   \n",
       "17   545.276936   1140 Government Street      Victoria   \n",
       "18   339.490540        1208 Wharf Street      Victoria   \n",
       "19   680.476285      611 Courtney Street      Victoria   \n",
       "20   425.806528        536A Yates Street      Victoria   \n",
       "21   531.450132   1200 Government Street      Victoria   \n",
       "22   827.093124         759 Yates Street      Victoria   \n",
       "23   788.561929      1001 Douglas Street      Victoria   \n",
       "24   703.583984                               Victoria   \n",
       "\n",
       "                             location.display_address  \n",
       "0   [2010 Government Street, Victoria, BC V8T 1H3,...  \n",
       "1   [102 450 Hillside Avenue, Victoria, BC V8T 1Y7...  \n",
       "2   [560 Johnson Street, Unit 63, Victoria, BC V8W...  \n",
       "3   [2330 Government Street, Victoria, BC V8T 5G5,...  \n",
       "4    [450 Swift Street, Victoria, BC V8W 1S3, Canada]  \n",
       "5   [2740 Bridge Street, Suite 101, Victoria, BC V...  \n",
       "6     [350B Bay Street, Victoria, BC V8T 1P5, Canada]  \n",
       "7   [2960 Bridge Street, Victoria, BC V8T 4T3, Can...  \n",
       "8   [506 Pandora Avenue, Victoria, BC V8W 1N6, Can...  \n",
       "9   [308 Catherine Street, Victoria, BC V9A 3S8, C...  \n",
       "10  [2010 Government Street, Victoria, BC V8T 4P1,...  \n",
       "11  [1140 Government Street, Victoria, BC V8W 1Y2,...  \n",
       "12  [1022 Government Street, Victoria, BC V8W 1X7,...  \n",
       "13  [254 Belleville Street, Victoria, BC V8V 1W9, ...  \n",
       "14  [777 Douglas Street, Victoria, BC V8W 2B5, Can...  \n",
       "15  [653 Pandora Avenue, Victoria, BC V8W 1N8, Can...  \n",
       "16   [100 Harbour Road, Victoria, BC V9A 0G1, Canada]  \n",
       "17  [1140 Government Street, Victoria, BC V8W 1Y2,...  \n",
       "18  [1208 Wharf Street, Victoria, BC V8W 1T9, Canada]  \n",
       "19  [611 Courtney Street, Victoria, BC V8W 1B7, Ca...  \n",
       "20  [536A Yates Street, Victoria, BC V8W 1K8, Canada]  \n",
       "21  [1200 Government Street, Victoria, BC V8W 1Y3,...  \n",
       "22   [759 Yates Street, Victoria, BC V8W 1L6, Canada]  \n",
       "23  [1001 Douglas Street, Unit G2A, Victoria, BC V...  \n",
       "24                     [Victoria, BC V8P 1A1, Canada]  "
      ]
     },
     "execution_count": 119,
     "metadata": {},
     "output_type": "execute_result"
    }
   ],
   "source": [
    "yelp_brew_result"
   ]
  },
  {
   "cell_type": "code",
   "execution_count": 196,
   "metadata": {},
   "outputs": [],
   "source": [
    "# Victoria breweries ordered by rating\n",
    "breweries_yelp = yelp_brew_result.sort_values(by='rating', ascending=False)"
   ]
  },
  {
   "cell_type": "code",
   "execution_count": 197,
   "metadata": {},
   "outputs": [
    {
     "data": {
      "text/html": [
       "<div>\n",
       "<style scoped>\n",
       "    .dataframe tbody tr th:only-of-type {\n",
       "        vertical-align: middle;\n",
       "    }\n",
       "\n",
       "    .dataframe tbody tr th {\n",
       "        vertical-align: top;\n",
       "    }\n",
       "\n",
       "    .dataframe thead th {\n",
       "        text-align: right;\n",
       "    }\n",
       "</style>\n",
       "<table border=\"1\" class=\"dataframe\">\n",
       "  <thead>\n",
       "    <tr style=\"text-align: right;\">\n",
       "      <th></th>\n",
       "      <th>name</th>\n",
       "      <th>review_count</th>\n",
       "      <th>rating</th>\n",
       "      <th>price</th>\n",
       "      <th>distance</th>\n",
       "      <th>location.address1</th>\n",
       "      <th>location.city</th>\n",
       "      <th>location.display_address</th>\n",
       "    </tr>\n",
       "  </thead>\n",
       "  <tbody>\n",
       "    <tr>\n",
       "      <th>7</th>\n",
       "      <td>Île Sauvage Brewing Company</td>\n",
       "      <td>8</td>\n",
       "      <td>5.0</td>\n",
       "      <td>NaN</td>\n",
       "      <td>1445.764906</td>\n",
       "      <td>2960 Bridge Street</td>\n",
       "      <td>Victoria</td>\n",
       "      <td>[2960 Bridge Street, Victoria, BC V8T 4T3, Can...</td>\n",
       "    </tr>\n",
       "    <tr>\n",
       "      <th>1</th>\n",
       "      <td>Driftwood Brewery</td>\n",
       "      <td>16</td>\n",
       "      <td>5.0</td>\n",
       "      <td>$</td>\n",
       "      <td>1117.838522</td>\n",
       "      <td>102 450 Hillside Avenue</td>\n",
       "      <td>Victoria</td>\n",
       "      <td>[102 450 Hillside Avenue, Victoria, BC V8T 1Y7...</td>\n",
       "    </tr>\n",
       "    <tr>\n",
       "      <th>13</th>\n",
       "      <td>West Coast Brewery Tour</td>\n",
       "      <td>1</td>\n",
       "      <td>5.0</td>\n",
       "      <td>NaN</td>\n",
       "      <td>532.502708</td>\n",
       "      <td>254 Belleville Street</td>\n",
       "      <td>Victoria</td>\n",
       "      <td>[254 Belleville Street, Victoria, BC V8V 1W9, ...</td>\n",
       "    </tr>\n",
       "    <tr>\n",
       "      <th>0</th>\n",
       "      <td>Phillips Brewing Company</td>\n",
       "      <td>58</td>\n",
       "      <td>4.5</td>\n",
       "      <td>$</td>\n",
       "      <td>790.066493</td>\n",
       "      <td>2010 Government Street</td>\n",
       "      <td>Victoria</td>\n",
       "      <td>[2010 Government Street, Victoria, BC V8T 1H3,...</td>\n",
       "    </tr>\n",
       "    <tr>\n",
       "      <th>2</th>\n",
       "      <td>Whistle Buoy</td>\n",
       "      <td>5</td>\n",
       "      <td>4.5</td>\n",
       "      <td>NaN</td>\n",
       "      <td>421.582005</td>\n",
       "      <td>560 Johnson Street</td>\n",
       "      <td>Victoria</td>\n",
       "      <td>[560 Johnson Street, Unit 63, Victoria, BC V8W...</td>\n",
       "    </tr>\n",
       "    <tr>\n",
       "      <th>3</th>\n",
       "      <td>Vancouver Island Brewing</td>\n",
       "      <td>31</td>\n",
       "      <td>4.5</td>\n",
       "      <td>$</td>\n",
       "      <td>1033.644330</td>\n",
       "      <td>2330 Government Street</td>\n",
       "      <td>Victoria</td>\n",
       "      <td>[2330 Government Street, Victoria, BC V8T 5G5,...</td>\n",
       "    </tr>\n",
       "    <tr>\n",
       "      <th>23</th>\n",
       "      <td>Hanks A Restaurant</td>\n",
       "      <td>92</td>\n",
       "      <td>4.5</td>\n",
       "      <td>$$</td>\n",
       "      <td>788.561929</td>\n",
       "      <td>1001 Douglas Street</td>\n",
       "      <td>Victoria</td>\n",
       "      <td>[1001 Douglas Street, Unit G2A, Victoria, BC V...</td>\n",
       "    </tr>\n",
       "    <tr>\n",
       "      <th>18</th>\n",
       "      <td>Finn's Seafood Chops Cocktails</td>\n",
       "      <td>92</td>\n",
       "      <td>4.5</td>\n",
       "      <td>$$</td>\n",
       "      <td>339.490540</td>\n",
       "      <td>1208 Wharf Street</td>\n",
       "      <td>Victoria</td>\n",
       "      <td>[1208 Wharf Street, Victoria, BC V8W 1T9, Canada]</td>\n",
       "    </tr>\n",
       "    <tr>\n",
       "      <th>14</th>\n",
       "      <td>Bartholomews Pub</td>\n",
       "      <td>95</td>\n",
       "      <td>4.0</td>\n",
       "      <td>$$</td>\n",
       "      <td>898.322951</td>\n",
       "      <td>777 Douglas Street</td>\n",
       "      <td>Victoria</td>\n",
       "      <td>[777 Douglas Street, Victoria, BC V8W 2B5, Can...</td>\n",
       "    </tr>\n",
       "    <tr>\n",
       "      <th>21</th>\n",
       "      <td>Irish Times Pub</td>\n",
       "      <td>371</td>\n",
       "      <td>4.0</td>\n",
       "      <td>$$</td>\n",
       "      <td>531.450132</td>\n",
       "      <td>1200 Government Street</td>\n",
       "      <td>Victoria</td>\n",
       "      <td>[1200 Government Street, Victoria, BC V8W 1Y3,...</td>\n",
       "    </tr>\n",
       "    <tr>\n",
       "      <th>20</th>\n",
       "      <td>Ferris' Upstairs Seafood &amp; Oyster Bar</td>\n",
       "      <td>248</td>\n",
       "      <td>4.0</td>\n",
       "      <td>$$</td>\n",
       "      <td>425.806528</td>\n",
       "      <td>536A Yates Street</td>\n",
       "      <td>Victoria</td>\n",
       "      <td>[536A Yates Street, Victoria, BC V8W 1K8, Canada]</td>\n",
       "    </tr>\n",
       "    <tr>\n",
       "      <th>19</th>\n",
       "      <td>10 Acres</td>\n",
       "      <td>422</td>\n",
       "      <td>4.0</td>\n",
       "      <td>$$</td>\n",
       "      <td>680.476285</td>\n",
       "      <td>611 Courtney Street</td>\n",
       "      <td>Victoria</td>\n",
       "      <td>[611 Courtney Street, Victoria, BC V8W 1B7, Ca...</td>\n",
       "    </tr>\n",
       "    <tr>\n",
       "      <th>17</th>\n",
       "      <td>Garrick's Head Pub</td>\n",
       "      <td>89</td>\n",
       "      <td>4.0</td>\n",
       "      <td>$$</td>\n",
       "      <td>545.276936</td>\n",
       "      <td>1140 Government Street</td>\n",
       "      <td>Victoria</td>\n",
       "      <td>[1140 Government Street, Victoria, BC V8W 1Y2,...</td>\n",
       "    </tr>\n",
       "    <tr>\n",
       "      <th>15</th>\n",
       "      <td>Vintage Spirits</td>\n",
       "      <td>5</td>\n",
       "      <td>4.0</td>\n",
       "      <td>$$</td>\n",
       "      <td>758.012636</td>\n",
       "      <td>653 Pandora Avenue</td>\n",
       "      <td>Victoria</td>\n",
       "      <td>[653 Pandora Avenue, Victoria, BC V8W 1N8, Can...</td>\n",
       "    </tr>\n",
       "    <tr>\n",
       "      <th>12</th>\n",
       "      <td>Bard and Banker</td>\n",
       "      <td>413</td>\n",
       "      <td>4.0</td>\n",
       "      <td>$$</td>\n",
       "      <td>564.783491</td>\n",
       "      <td>1022 Government Street</td>\n",
       "      <td>Victoria</td>\n",
       "      <td>[1022 Government Street, Victoria, BC V8W 1X7,...</td>\n",
       "    </tr>\n",
       "    <tr>\n",
       "      <th>11</th>\n",
       "      <td>The Churchill</td>\n",
       "      <td>60</td>\n",
       "      <td>4.0</td>\n",
       "      <td>$$</td>\n",
       "      <td>545.276936</td>\n",
       "      <td>1140 Government Street</td>\n",
       "      <td>Victoria</td>\n",
       "      <td>[1140 Government Street, Victoria, BC V8W 1Y2,...</td>\n",
       "    </tr>\n",
       "    <tr>\n",
       "      <th>5</th>\n",
       "      <td>The Hoyne Brewing Company</td>\n",
       "      <td>18</td>\n",
       "      <td>4.0</td>\n",
       "      <td>$</td>\n",
       "      <td>1129.812999</td>\n",
       "      <td>2740 Bridge Street</td>\n",
       "      <td>Victoria</td>\n",
       "      <td>[2740 Bridge Street, Suite 101, Victoria, BC V...</td>\n",
       "    </tr>\n",
       "    <tr>\n",
       "      <th>24</th>\n",
       "      <td>Off The Eaten Track</td>\n",
       "      <td>13</td>\n",
       "      <td>4.0</td>\n",
       "      <td>NaN</td>\n",
       "      <td>703.583984</td>\n",
       "      <td></td>\n",
       "      <td>Victoria</td>\n",
       "      <td>[Victoria, BC V8P 1A1, Canada]</td>\n",
       "    </tr>\n",
       "    <tr>\n",
       "      <th>16</th>\n",
       "      <td>LURE Restaurant &amp; Bar</td>\n",
       "      <td>50</td>\n",
       "      <td>3.5</td>\n",
       "      <td>$$</td>\n",
       "      <td>30.605124</td>\n",
       "      <td>100 Harbour Road</td>\n",
       "      <td>Victoria</td>\n",
       "      <td>[100 Harbour Road, Victoria, BC V9A 0G1, Canada]</td>\n",
       "    </tr>\n",
       "    <tr>\n",
       "      <th>9</th>\n",
       "      <td>Spinnakers Gastro Brewpub</td>\n",
       "      <td>182</td>\n",
       "      <td>3.5</td>\n",
       "      <td>$$</td>\n",
       "      <td>780.859586</td>\n",
       "      <td>308 Catherine Street</td>\n",
       "      <td>Victoria</td>\n",
       "      <td>[308 Catherine Street, Victoria, BC V9A 3S8, C...</td>\n",
       "    </tr>\n",
       "    <tr>\n",
       "      <th>8</th>\n",
       "      <td>Swans Brew Pub</td>\n",
       "      <td>141</td>\n",
       "      <td>3.5</td>\n",
       "      <td>$$</td>\n",
       "      <td>460.355585</td>\n",
       "      <td>506 Pandora Avenue</td>\n",
       "      <td>Victoria</td>\n",
       "      <td>[506 Pandora Avenue, Victoria, BC V8W 1N6, Can...</td>\n",
       "    </tr>\n",
       "    <tr>\n",
       "      <th>6</th>\n",
       "      <td>Moon Under Water Brewpub</td>\n",
       "      <td>54</td>\n",
       "      <td>3.5</td>\n",
       "      <td>$$</td>\n",
       "      <td>912.128975</td>\n",
       "      <td>350B Bay Street</td>\n",
       "      <td>Victoria</td>\n",
       "      <td>[350B Bay Street, Victoria, BC V8T 1P5, Canada]</td>\n",
       "    </tr>\n",
       "    <tr>\n",
       "      <th>22</th>\n",
       "      <td>Yates Street Taphouse</td>\n",
       "      <td>40</td>\n",
       "      <td>3.5</td>\n",
       "      <td>$$</td>\n",
       "      <td>827.093124</td>\n",
       "      <td>759 Yates Street</td>\n",
       "      <td>Victoria</td>\n",
       "      <td>[759 Yates Street, Victoria, BC V8W 1L6, Canada]</td>\n",
       "    </tr>\n",
       "    <tr>\n",
       "      <th>4</th>\n",
       "      <td>Canoe Brewpub Marina &amp; Restaurant</td>\n",
       "      <td>184</td>\n",
       "      <td>3.5</td>\n",
       "      <td>$$</td>\n",
       "      <td>447.245821</td>\n",
       "      <td>450 Swift Street</td>\n",
       "      <td>Victoria</td>\n",
       "      <td>[450 Swift Street, Victoria, BC V8W 1S3, Canada]</td>\n",
       "    </tr>\n",
       "    <tr>\n",
       "      <th>10</th>\n",
       "      <td>Phillips Brewery Tasting Room</td>\n",
       "      <td>1</td>\n",
       "      <td>2.0</td>\n",
       "      <td>NaN</td>\n",
       "      <td>726.625019</td>\n",
       "      <td>2010 Government Street</td>\n",
       "      <td>Victoria</td>\n",
       "      <td>[2010 Government Street, Victoria, BC V8T 4P1,...</td>\n",
       "    </tr>\n",
       "  </tbody>\n",
       "</table>\n",
       "</div>"
      ],
      "text/plain": [
       "                                     name  review_count  rating price  \\\n",
       "7             Île Sauvage Brewing Company             8     5.0   NaN   \n",
       "1                       Driftwood Brewery            16     5.0     $   \n",
       "13                West Coast Brewery Tour             1     5.0   NaN   \n",
       "0                Phillips Brewing Company            58     4.5     $   \n",
       "2                            Whistle Buoy             5     4.5   NaN   \n",
       "3                Vancouver Island Brewing            31     4.5     $   \n",
       "23                     Hanks A Restaurant            92     4.5    $$   \n",
       "18         Finn's Seafood Chops Cocktails            92     4.5    $$   \n",
       "14                       Bartholomews Pub            95     4.0    $$   \n",
       "21                        Irish Times Pub           371     4.0    $$   \n",
       "20  Ferris' Upstairs Seafood & Oyster Bar           248     4.0    $$   \n",
       "19                               10 Acres           422     4.0    $$   \n",
       "17                     Garrick's Head Pub            89     4.0    $$   \n",
       "15                        Vintage Spirits             5     4.0    $$   \n",
       "12                        Bard and Banker           413     4.0    $$   \n",
       "11                          The Churchill            60     4.0    $$   \n",
       "5               The Hoyne Brewing Company            18     4.0     $   \n",
       "24                    Off The Eaten Track            13     4.0   NaN   \n",
       "16                  LURE Restaurant & Bar            50     3.5    $$   \n",
       "9               Spinnakers Gastro Brewpub           182     3.5    $$   \n",
       "8                          Swans Brew Pub           141     3.5    $$   \n",
       "6                Moon Under Water Brewpub            54     3.5    $$   \n",
       "22                  Yates Street Taphouse            40     3.5    $$   \n",
       "4       Canoe Brewpub Marina & Restaurant           184     3.5    $$   \n",
       "10          Phillips Brewery Tasting Room             1     2.0   NaN   \n",
       "\n",
       "       distance        location.address1 location.city  \\\n",
       "7   1445.764906       2960 Bridge Street      Victoria   \n",
       "1   1117.838522  102 450 Hillside Avenue      Victoria   \n",
       "13   532.502708    254 Belleville Street      Victoria   \n",
       "0    790.066493   2010 Government Street      Victoria   \n",
       "2    421.582005       560 Johnson Street      Victoria   \n",
       "3   1033.644330   2330 Government Street      Victoria   \n",
       "23   788.561929      1001 Douglas Street      Victoria   \n",
       "18   339.490540        1208 Wharf Street      Victoria   \n",
       "14   898.322951       777 Douglas Street      Victoria   \n",
       "21   531.450132   1200 Government Street      Victoria   \n",
       "20   425.806528        536A Yates Street      Victoria   \n",
       "19   680.476285      611 Courtney Street      Victoria   \n",
       "17   545.276936   1140 Government Street      Victoria   \n",
       "15   758.012636       653 Pandora Avenue      Victoria   \n",
       "12   564.783491   1022 Government Street      Victoria   \n",
       "11   545.276936   1140 Government Street      Victoria   \n",
       "5   1129.812999       2740 Bridge Street      Victoria   \n",
       "24   703.583984                               Victoria   \n",
       "16    30.605124         100 Harbour Road      Victoria   \n",
       "9    780.859586     308 Catherine Street      Victoria   \n",
       "8    460.355585       506 Pandora Avenue      Victoria   \n",
       "6    912.128975          350B Bay Street      Victoria   \n",
       "22   827.093124         759 Yates Street      Victoria   \n",
       "4    447.245821         450 Swift Street      Victoria   \n",
       "10   726.625019   2010 Government Street      Victoria   \n",
       "\n",
       "                             location.display_address  \n",
       "7   [2960 Bridge Street, Victoria, BC V8T 4T3, Can...  \n",
       "1   [102 450 Hillside Avenue, Victoria, BC V8T 1Y7...  \n",
       "13  [254 Belleville Street, Victoria, BC V8V 1W9, ...  \n",
       "0   [2010 Government Street, Victoria, BC V8T 1H3,...  \n",
       "2   [560 Johnson Street, Unit 63, Victoria, BC V8W...  \n",
       "3   [2330 Government Street, Victoria, BC V8T 5G5,...  \n",
       "23  [1001 Douglas Street, Unit G2A, Victoria, BC V...  \n",
       "18  [1208 Wharf Street, Victoria, BC V8W 1T9, Canada]  \n",
       "14  [777 Douglas Street, Victoria, BC V8W 2B5, Can...  \n",
       "21  [1200 Government Street, Victoria, BC V8W 1Y3,...  \n",
       "20  [536A Yates Street, Victoria, BC V8W 1K8, Canada]  \n",
       "19  [611 Courtney Street, Victoria, BC V8W 1B7, Ca...  \n",
       "17  [1140 Government Street, Victoria, BC V8W 1Y2,...  \n",
       "15  [653 Pandora Avenue, Victoria, BC V8W 1N8, Can...  \n",
       "12  [1022 Government Street, Victoria, BC V8W 1X7,...  \n",
       "11  [1140 Government Street, Victoria, BC V8W 1Y2,...  \n",
       "5   [2740 Bridge Street, Suite 101, Victoria, BC V...  \n",
       "24                     [Victoria, BC V8P 1A1, Canada]  \n",
       "16   [100 Harbour Road, Victoria, BC V9A 0G1, Canada]  \n",
       "9   [308 Catherine Street, Victoria, BC V9A 3S8, C...  \n",
       "8   [506 Pandora Avenue, Victoria, BC V8W 1N6, Can...  \n",
       "6     [350B Bay Street, Victoria, BC V8T 1P5, Canada]  \n",
       "22   [759 Yates Street, Victoria, BC V8W 1L6, Canada]  \n",
       "4    [450 Swift Street, Victoria, BC V8W 1S3, Canada]  \n",
       "10  [2010 Government Street, Victoria, BC V8T 4P1,...  "
      ]
     },
     "execution_count": 197,
     "metadata": {},
     "output_type": "execute_result"
    }
   ],
   "source": [
    "breweries_yelp"
   ]
  },
  {
   "cell_type": "code",
   "execution_count": null,
   "metadata": {},
   "outputs": [],
   "source": []
  },
  {
   "cell_type": "code",
   "execution_count": null,
   "metadata": {},
   "outputs": [],
   "source": [
    "# Attractions"
   ]
  },
  {
   "cell_type": "code",
   "execution_count": 137,
   "metadata": {},
   "outputs": [],
   "source": [
    "headers2 = {'Authorization': 'Bearer {}'.format(Yelp_API_Key)}\n",
    "search_api_url2 = 'https://api.yelp.com/v3/businesses/search'\n",
    "params2 = {'term': 'attractions',\n",
    "          'latitude': 48.42701,\n",
    "          'longitude': -123.37494,\n",
    "          'radius': 2500,\n",
    "          'limit': 25}"
   ]
  },
  {
   "cell_type": "code",
   "execution_count": 138,
   "metadata": {},
   "outputs": [],
   "source": [
    "x = requests.get(search_api_url2, headers=headers2, params=params2, timeout=5)"
   ]
  },
  {
   "cell_type": "code",
   "execution_count": 139,
   "metadata": {},
   "outputs": [],
   "source": [
    "x_cp = x.json().copy()"
   ]
  },
  {
   "cell_type": "code",
   "execution_count": 140,
   "metadata": {},
   "outputs": [
    {
     "data": {
      "application/json": {
       "businesses": [
        {
         "alias": "miniature-world-victoria",
         "categories": [
          {
           "alias": "museums",
           "title": "Museums"
          }
         ],
         "coordinates": {
          "latitude": 48.422418,
          "longitude": -123.3671046
         },
         "display_phone": "+1 250-385-9731",
         "distance": 787.9697212534667,
         "id": "i-mqiIUryf9ej4vywRqQ5Q",
         "image_url": "https://s3-media2.fl.yelpcdn.com/bphoto/Cv6aghucjwhuNAQz79h64w/o.jpg",
         "is_closed": false,
         "location": {
          "address1": "649 Humboldt Street",
          "address2": "",
          "address3": "",
          "city": "Victoria",
          "country": "CA",
          "display_address": [
           "649 Humboldt Street",
           "Victoria, BC V8W 1A6",
           "Canada"
          ],
          "state": "BC",
          "zip_code": "V8W 1A6"
         },
         "name": "Miniature World",
         "phone": "+12503859731",
         "rating": 4.5,
         "review_count": 74,
         "transactions": [],
         "url": "https://www.yelp.com/biz/miniature-world-victoria?adjust_creative=XNOX7IePjL-uCN8VWUX3PA&utm_campaign=yelp_api_v3&utm_medium=api_v3_business_search&utm_source=XNOX7IePjL-uCN8VWUX3PA"
        },
        {
         "alias": "craigdarroch-castle-victoria",
         "categories": [
          {
           "alias": "museums",
           "title": "Museums"
          },
          {
           "alias": "historicaltours",
           "title": "Historical Tours"
          }
         ],
         "coordinates": {
          "latitude": 48.4225145,
          "longitude": -123.3432511
         },
         "display_phone": "+1 250-592-5323",
         "distance": 2391.132908894164,
         "id": "XEoTgTpxXrmT8W8E-3IdZQ",
         "image_url": "https://s3-media1.fl.yelpcdn.com/bphoto/tlvxiPSklWVa99CSJTqPTA/o.jpg",
         "is_closed": false,
         "location": {
          "address1": "1050 Joan Crescent",
          "address2": "",
          "address3": "",
          "city": "Victoria",
          "country": "CA",
          "display_address": [
           "1050 Joan Crescent",
           "Victoria, BC V8S 3L5",
           "Canada"
          ],
          "state": "BC",
          "zip_code": "V8S 3L5"
         },
         "name": "Craigdarroch Castle",
         "phone": "+12505925323",
         "rating": 4,
         "review_count": 127,
         "transactions": [],
         "url": "https://www.yelp.com/biz/craigdarroch-castle-victoria?adjust_creative=XNOX7IePjL-uCN8VWUX3PA&utm_campaign=yelp_api_v3&utm_medium=api_v3_business_search&utm_source=XNOX7IePjL-uCN8VWUX3PA"
        },
        {
         "alias": "royal-british-columbia-museum-victoria",
         "categories": [
          {
           "alias": "museums",
           "title": "Museums"
          }
         ],
         "coordinates": {
          "latitude": 48.41979,
          "longitude": -123.36755
         },
         "display_phone": "+1 250-356-7226",
         "distance": 974.7029127804502,
         "id": "p2uBUeiP4s8qd2DYzVifuw",
         "image_url": "https://s3-media1.fl.yelpcdn.com/bphoto/5XOcaAKe9ghdQZCxe7oKMA/o.jpg",
         "is_closed": false,
         "location": {
          "address1": "675 Belleville Street",
          "address2": "",
          "address3": "",
          "city": "Victoria",
          "country": "CA",
          "display_address": [
           "675 Belleville Street",
           "Victoria, BC V8W 9W2",
           "Canada"
          ],
          "state": "BC",
          "zip_code": "V8W 9W2"
         },
         "name": "Royal British Columbia Museum",
         "phone": "+12503567226",
         "rating": 4.5,
         "review_count": 151,
         "transactions": [],
         "url": "https://www.yelp.com/biz/royal-british-columbia-museum-victoria?adjust_creative=XNOX7IePjL-uCN8VWUX3PA&utm_campaign=yelp_api_v3&utm_medium=api_v3_business_search&utm_source=XNOX7IePjL-uCN8VWUX3PA"
        },
        {
         "alias": "parliament-buildings-victoria",
         "categories": [
          {
           "alias": "landmarks",
           "title": "Landmarks & Historical Buildings"
          }
         ],
         "coordinates": {
          "latitude": 48.4208,
          "longitude": -123.371
         },
         "display_phone": "",
         "distance": 749.2289110199148,
         "id": "UHZbWmaeKBcsl231teqWow",
         "image_url": "https://s3-media1.fl.yelpcdn.com/bphoto/dWsRjqUCWjC705jjhIzryg/o.jpg",
         "is_closed": false,
         "location": {
          "address1": "Belleville Street",
          "address2": null,
          "address3": null,
          "city": "Victoria",
          "country": "CA",
          "display_address": [
           "Belleville Street",
           "Victoria, BC V8V 1X3",
           "Canada"
          ],
          "state": "BC",
          "zip_code": "V8V 1X3"
         },
         "name": "Parliament Buildings",
         "phone": "",
         "rating": 4.5,
         "review_count": 27,
         "transactions": [],
         "url": "https://www.yelp.com/biz/parliament-buildings-victoria?adjust_creative=XNOX7IePjL-uCN8VWUX3PA&utm_campaign=yelp_api_v3&utm_medium=api_v3_business_search&utm_source=XNOX7IePjL-uCN8VWUX3PA"
        },
        {
         "alias": "fan-tan-alley-victoria",
         "categories": [
          {
           "alias": "landmarks",
           "title": "Landmarks & Historical Buildings"
          }
         ],
         "coordinates": {
          "latitude": 48.42939,
          "longitude": -123.36828
         },
         "display_phone": "",
         "distance": 619.9674421598494,
         "id": "sxajpey-JxpM3iSNgM_1xQ",
         "image_url": "https://s3-media4.fl.yelpcdn.com/bphoto/vxlLMuuyArLSfpC3l5pz5g/o.jpg",
         "is_closed": false,
         "location": {
          "address1": "Chinatown",
          "address2": "",
          "address3": "",
          "city": "Victoria",
          "country": "CA",
          "display_address": [
           "Chinatown",
           "Victoria, BC V8W 1R4",
           "Canada"
          ],
          "state": "BC",
          "zip_code": "V8W 1R4"
         },
         "name": "Fan Tan Alley",
         "phone": "",
         "rating": 4,
         "review_count": 24,
         "transactions": [],
         "url": "https://www.yelp.com/biz/fan-tan-alley-victoria?adjust_creative=XNOX7IePjL-uCN8VWUX3PA&utm_campaign=yelp_api_v3&utm_medium=api_v3_business_search&utm_source=XNOX7IePjL-uCN8VWUX3PA"
        },
        {
         "alias": "victoria-bug-zoo-victoria-3",
         "categories": [
          {
           "alias": "zoos",
           "title": "Zoos"
          }
         ],
         "coordinates": {
          "latitude": 48.423256426854,
          "longitude": -123.36656996823
         },
         "display_phone": "+1 250-384-2847",
         "distance": 745.4197637274312,
         "id": "K3Dmj4AbrTAnc_3_RwalaQ",
         "image_url": "https://s3-media2.fl.yelpcdn.com/bphoto/F5pheYCRLIITHL4abto11g/o.jpg",
         "is_closed": false,
         "location": {
          "address1": "631 Courtney Street",
          "address2": "",
          "address3": "",
          "city": "Victoria",
          "country": "CA",
          "display_address": [
           "631 Courtney Street",
           "Victoria, BC V8W 1B8",
           "Canada"
          ],
          "state": "BC",
          "zip_code": "V8W 1B8"
         },
         "name": "Victoria Bug Zoo",
         "phone": "+12503842847",
         "rating": 4,
         "review_count": 96,
         "transactions": [],
         "url": "https://www.yelp.com/biz/victoria-bug-zoo-victoria-3?adjust_creative=XNOX7IePjL-uCN8VWUX3PA&utm_campaign=yelp_api_v3&utm_medium=api_v3_business_search&utm_source=XNOX7IePjL-uCN8VWUX3PA"
        },
        {
         "alias": "little-shop-of-strange-victoria",
         "categories": [
          {
           "alias": "galleries",
           "title": "Art Galleries"
          }
         ],
         "coordinates": {
          "latitude": 48.4278693,
          "longitude": -123.3688639
         },
         "display_phone": "+1 250-893-5944",
         "distance": 458.3958932224161,
         "id": "QehjOiE2xsYtlgFiO7QL2A",
         "image_url": "https://s3-media1.fl.yelpcdn.com/bphoto/L1XU70-ctCN1lAkjBLgeBw/o.jpg",
         "is_closed": false,
         "location": {
          "address1": "103 560 Johnson Street",
          "address2": "",
          "address3": null,
          "city": "Victoria",
          "country": "CA",
          "display_address": [
           "103 560 Johnson Street",
           "Victoria, BC V8W 3C6",
           "Canada"
          ],
          "state": "BC",
          "zip_code": "V8W 3C6"
         },
         "name": "Little Shop Of Strange",
         "phone": "+12508935944",
         "rating": 4.5,
         "review_count": 3,
         "transactions": [],
         "url": "https://www.yelp.com/biz/little-shop-of-strange-victoria?adjust_creative=XNOX7IePjL-uCN8VWUX3PA&utm_campaign=yelp_api_v3&utm_medium=api_v3_business_search&utm_source=XNOX7IePjL-uCN8VWUX3PA"
        },
        {
         "alias": "chinatown-victoria",
         "categories": [
          {
           "alias": "landmarks",
           "title": "Landmarks & Historical Buildings"
          }
         ],
         "coordinates": {
          "latitude": 48.4293714128574,
          "longitude": -123.367956876755
         },
         "display_phone": "",
         "distance": 578.2934478046269,
         "id": "1CVo93ORTQD8OIOGtkH59g",
         "image_url": "https://s3-media3.fl.yelpcdn.com/bphoto/XJKOj1FwBHFL-4dG3Ouwig/o.jpg",
         "is_closed": false,
         "location": {
          "address1": "",
          "address2": "",
          "address3": "",
          "city": "Victoria",
          "country": "CA",
          "display_address": [
           "Victoria, BC",
           "Canada"
          ],
          "state": "BC",
          "zip_code": ""
         },
         "name": "Chinatown",
         "phone": "",
         "rating": 3,
         "review_count": 27,
         "transactions": [],
         "url": "https://www.yelp.com/biz/chinatown-victoria?adjust_creative=XNOX7IePjL-uCN8VWUX3PA&utm_campaign=yelp_api_v3&utm_medium=api_v3_business_search&utm_source=XNOX7IePjL-uCN8VWUX3PA"
        },
        {
         "alias": "beacon-hill-park-victoria",
         "categories": [
          {
           "alias": "parks",
           "title": "Parks"
          }
         ],
         "coordinates": {
          "latitude": 48.4125166185892,
          "longitude": -123.362712886242
         },
         "display_phone": "+1 250-361-0600",
         "distance": 1846.9962964548445,
         "id": "Hw4dhWWvzNp1MHVe-O3iFw",
         "image_url": "https://s3-media2.fl.yelpcdn.com/bphoto/FMLd4cPhRngCIN5LdSkxcw/o.jpg",
         "is_closed": false,
         "location": {
          "address1": "100 Cook Street",
          "address2": "",
          "address3": "",
          "city": "Victoria",
          "country": "CA",
          "display_address": [
           "100 Cook Street",
           "Victoria, BC V8V",
           "Canada"
          ],
          "state": "BC",
          "zip_code": "V8V"
         },
         "name": "Beacon Hill Park",
         "phone": "+12503610600",
         "rating": 5,
         "review_count": 65,
         "transactions": [],
         "url": "https://www.yelp.com/biz/beacon-hill-park-victoria?adjust_creative=XNOX7IePjL-uCN8VWUX3PA&utm_campaign=yelp_api_v3&utm_medium=api_v3_business_search&utm_source=XNOX7IePjL-uCN8VWUX3PA"
        },
        {
         "alias": "tesla-tours-victoria",
         "categories": [
          {
           "alias": "tours",
           "title": "Tours"
          }
         ],
         "coordinates": {
          "latitude": 48.4156199,
          "longitude": -123.35601
         },
         "display_phone": "+1 877-778-8054",
         "distance": 1758.0087756436849,
         "id": "Qa6xT10bqrYA8_LdRpvPEg",
         "image_url": "https://s3-media2.fl.yelpcdn.com/bphoto/l-YYpsPPdlKcVgmRqQVt3w/o.jpg",
         "is_closed": false,
         "location": {
          "address1": "Cook Street Village",
          "address2": "",
          "address3": null,
          "city": "Victoria",
          "country": "CA",
          "display_address": [
           "Cook Street Village",
           "Victoria, BC V8V 3X0",
           "Canada"
          ],
          "state": "BC",
          "zip_code": "V8V 3X0"
         },
         "name": "Tesla Tours",
         "phone": "+18777788054",
         "rating": 5,
         "review_count": 4,
         "transactions": [],
         "url": "https://www.yelp.com/biz/tesla-tours-victoria?adjust_creative=XNOX7IePjL-uCN8VWUX3PA&utm_campaign=yelp_api_v3&utm_medium=api_v3_business_search&utm_source=XNOX7IePjL-uCN8VWUX3PA"
        },
        {
         "alias": "steamship-terminal-victoria",
         "categories": [
          {
           "alias": "localflavor",
           "title": "Local Flavor"
          }
         ],
         "coordinates": {
          "latitude": 48.4210699,
          "longitude": -123.3709924
         },
         "display_phone": "+1 250-383-8300",
         "distance": 721.8888912474716,
         "id": "11NUGYACnoC9IeiK_0i0MA",
         "image_url": "https://s3-media2.fl.yelpcdn.com/bphoto/foPISxdbS9guILvkH1xdnQ/o.jpg",
         "is_closed": false,
         "location": {
          "address1": "470 Belleville Street",
          "address2": "",
          "address3": "",
          "city": "Victoria",
          "country": "CA",
          "display_address": [
           "470 Belleville Street",
           "Victoria, BC V8V",
           "Canada"
          ],
          "state": "BC",
          "zip_code": "V8V"
         },
         "name": "Steamship Terminal",
         "phone": "+12503838300",
         "rating": 4,
         "review_count": 1,
         "transactions": [],
         "url": "https://www.yelp.com/biz/steamship-terminal-victoria?adjust_creative=XNOX7IePjL-uCN8VWUX3PA&utm_campaign=yelp_api_v3&utm_medium=api_v3_business_search&utm_source=XNOX7IePjL-uCN8VWUX3PA"
        },
        {
         "alias": "inner-harbour-victoria",
         "categories": [
          {
           "alias": "landmarks",
           "title": "Landmarks & Historical Buildings"
          }
         ],
         "coordinates": {
          "latitude": 48.4220240306922,
          "longitude": -123.370478153229
         },
         "display_phone": "",
         "distance": 644.8040071954824,
         "id": "qCdu512gNLPfzbEuVW_BvA",
         "image_url": "https://s3-media3.fl.yelpcdn.com/bphoto/_lBsZX_RRFIcXiGp3tuMJg/o.jpg",
         "is_closed": false,
         "location": {
          "address1": "",
          "address2": "",
          "address3": "",
          "city": "Victoria",
          "country": "CA",
          "display_address": [
           "Victoria, BC",
           "Canada"
          ],
          "state": "BC",
          "zip_code": ""
         },
         "name": "Inner Harbour",
         "phone": "",
         "rating": 4.5,
         "review_count": 13,
         "transactions": [],
         "url": "https://www.yelp.com/biz/inner-harbour-victoria?adjust_creative=XNOX7IePjL-uCN8VWUX3PA&utm_campaign=yelp_api_v3&utm_medium=api_v3_business_search&utm_source=XNOX7IePjL-uCN8VWUX3PA"
        },
        {
         "alias": "legislative-assembly-of-british-columbia-victoria",
         "categories": [
          {
           "alias": "landmarks",
           "title": "Landmarks & Historical Buildings"
          }
         ],
         "coordinates": {
          "latitude": 48.4206816,
          "longitude": -123.3709679
         },
         "display_phone": "+1 250-387-3046",
         "distance": 890.9428194508913,
         "id": "WXkit8PW653vgB75GRrfJg",
         "image_url": "https://s3-media1.fl.yelpcdn.com/bphoto/skwGpOCLk1frBgh9P3xYDg/o.jpg",
         "is_closed": false,
         "location": {
          "address1": "501 Belleville Street",
          "address2": "",
          "address3": "",
          "city": "Victoria",
          "country": "CA",
          "display_address": [
           "501 Belleville Street",
           "Victoria, BC V8V 1X4",
           "Canada"
          ],
          "state": "BC",
          "zip_code": "V8V 1X4"
         },
         "name": "Legislative Assembly of British Columbia",
         "phone": "+12503873046",
         "rating": 4.5,
         "review_count": 33,
         "transactions": [],
         "url": "https://www.yelp.com/biz/legislative-assembly-of-british-columbia-victoria?adjust_creative=XNOX7IePjL-uCN8VWUX3PA&utm_campaign=yelp_api_v3&utm_medium=api_v3_business_search&utm_source=XNOX7IePjL-uCN8VWUX3PA"
        },
        {
         "alias": "beacon-hill-childrens-farm-victoria",
         "categories": [
          {
           "alias": "zoos",
           "title": "Zoos"
          }
         ],
         "coordinates": {
          "latitude": 48.411648,
          "longitude": -123.363472
         },
         "display_phone": "+1 250-381-2532",
         "distance": 1906.3295925091893,
         "id": "6AZEvKaGTZC2YzQD63Jg9w",
         "image_url": "https://s3-media1.fl.yelpcdn.com/bphoto/US6bTSSfd28jMChjurwNzA/o.jpg",
         "is_closed": false,
         "location": {
          "address1": "Circle Dr & Beacon Hill Loop",
          "address2": "",
          "address3": "",
          "city": "Victoria",
          "country": "CA",
          "display_address": [
           "Circle Dr & Beacon Hill Loop",
           "Victoria, BC V8V 4Z8",
           "Canada"
          ],
          "state": "BC",
          "zip_code": "V8V 4Z8"
         },
         "name": "Beacon Hill Children's Farm",
         "phone": "+12503812532",
         "rating": 5,
         "review_count": 28,
         "transactions": [],
         "url": "https://www.yelp.com/biz/beacon-hill-childrens-farm-victoria?adjust_creative=XNOX7IePjL-uCN8VWUX3PA&utm_campaign=yelp_api_v3&utm_medium=api_v3_business_search&utm_source=XNOX7IePjL-uCN8VWUX3PA"
        },
        {
         "alias": "victoria-harbour-ferry-victoria",
         "categories": [
          {
           "alias": "ferries",
           "title": "Ferries"
          }
         ],
         "coordinates": {
          "latitude": 48.422033381944,
          "longitude": -123.36892939364
         },
         "display_phone": "+1 250-708-0201",
         "distance": 709.1775478562374,
         "id": "NJbA1nSXIWrkvmq6CXm8Iw",
         "image_url": "https://s3-media1.fl.yelpcdn.com/bphoto/BeHIrrz2NyFj6hL8KXNPpA/o.jpg",
         "is_closed": false,
         "location": {
          "address1": "189 Dallas Road",
          "address2": "",
          "address3": "",
          "city": "Victoria",
          "country": "CA",
          "display_address": [
           "189 Dallas Road",
           "Victoria, BC V8V 1A1",
           "Canada"
          ],
          "state": "BC",
          "zip_code": "V8V 1A1"
         },
         "name": "Victoria Harbour Ferry",
         "phone": "+12507080201",
         "rating": 4,
         "review_count": 28,
         "transactions": [],
         "url": "https://www.yelp.com/biz/victoria-harbour-ferry-victoria?adjust_creative=XNOX7IePjL-uCN8VWUX3PA&utm_campaign=yelp_api_v3&utm_medium=api_v3_business_search&utm_source=XNOX7IePjL-uCN8VWUX3PA"
        },
        {
         "alias": "prince-of-whales-victoria-3",
         "categories": [
          {
           "alias": "whalewatchingtours",
           "title": "Whale Watching Tours"
          },
          {
           "alias": "boatcharters",
           "title": "Boat Charters"
          },
          {
           "alias": "boattours",
           "title": "Boat Tours"
          }
         ],
         "coordinates": {
          "latitude": 48.42288,
          "longitude": -123.36889
         },
         "display_phone": "+1 888-383-4884",
         "distance": 639.1213552430376,
         "id": "PW72VTSIQRVoB3okCQfnnw",
         "image_url": "https://s3-media3.fl.yelpcdn.com/bphoto/iVxIBzl5kNcZ7nm0SaV__w/o.jpg",
         "is_closed": false,
         "location": {
          "address1": "812 Wharf Street",
          "address2": "",
          "address3": "",
          "city": "Victoria",
          "country": "CA",
          "display_address": [
           "812 Wharf Street",
           "Victoria, BC V8W 1T3",
           "Canada"
          ],
          "state": "BC",
          "zip_code": "V8W 1T3"
         },
         "name": "Prince of Whales",
         "phone": "+18883834884",
         "rating": 4.5,
         "review_count": 70,
         "transactions": [],
         "url": "https://www.yelp.com/biz/prince-of-whales-victoria-3?adjust_creative=XNOX7IePjL-uCN8VWUX3PA&utm_campaign=yelp_api_v3&utm_medium=api_v3_business_search&utm_source=XNOX7IePjL-uCN8VWUX3PA"
        },
        {
         "alias": "ocean-art-works-vancouver",
         "categories": [
          {
           "alias": "localflavor",
           "title": "Local Flavor"
          }
         ],
         "coordinates": {
          "latitude": 49.2867088,
          "longitude": -122.801651
         },
         "display_phone": "",
         "distance": 248.59171643865446,
         "id": "VmAffd4s9Nz5rPJf1FIaCA",
         "image_url": "https://s3-media3.fl.yelpcdn.com/bphoto/tdZPZO89fNg5su9HMq72Gw/o.jpg",
         "is_closed": false,
         "location": {
          "address1": "Creekhouse Building",
          "address2": "Johnson St",
          "address3": "Granville Island",
          "city": "Vancouver",
          "country": "CA",
          "display_address": [
           "Creekhouse Building",
           "Johnson St",
           "Granville Island",
           "Vancouver, BC",
           "Canada"
          ],
          "state": "BC",
          "zip_code": ""
         },
         "name": "Ocean Art Works",
         "phone": "",
         "rating": 5,
         "review_count": 1,
         "transactions": [],
         "url": "https://www.yelp.com/biz/ocean-art-works-vancouver?adjust_creative=XNOX7IePjL-uCN8VWUX3PA&utm_campaign=yelp_api_v3&utm_medium=api_v3_business_search&utm_source=XNOX7IePjL-uCN8VWUX3PA"
        },
        {
         "alias": "victoria-city-hall-victoria",
         "categories": [
          {
           "alias": "landmarks",
           "title": "Landmarks & Historical Buildings"
          }
         ],
         "coordinates": {
          "latitude": 48.42831,
          "longitude": -123.36554
         },
         "display_phone": "+1 250-385-5711",
         "distance": 753.8218447756359,
         "id": "bzDho1DEHA1zkrbMqXJDag",
         "image_url": "https://s3-media3.fl.yelpcdn.com/bphoto/xaLiYo-wUyFl2bk-iD7bhA/o.jpg",
         "is_closed": false,
         "location": {
          "address1": "1 Centennial Square",
          "address2": "",
          "address3": "",
          "city": "Victoria",
          "country": "CA",
          "display_address": [
           "1 Centennial Square",
           "Victoria, BC V8W 1P6",
           "Canada"
          ],
          "state": "BC",
          "zip_code": "V8W 1P6"
         },
         "name": "Victoria City Hall",
         "phone": "+12503855711",
         "rating": 4.5,
         "review_count": 9,
         "transactions": [],
         "url": "https://www.yelp.com/biz/victoria-city-hall-victoria?adjust_creative=XNOX7IePjL-uCN8VWUX3PA&utm_campaign=yelp_api_v3&utm_medium=api_v3_business_search&utm_source=XNOX7IePjL-uCN8VWUX3PA"
        },
        {
         "alias": "luminara-victoria",
         "categories": [
          {
           "alias": "festivals",
           "title": "Festivals"
          }
         ],
         "coordinates": {
          "latitude": 48.41953,
          "longitude": -123.36307
         },
         "display_phone": "",
         "distance": 1205.283602588178,
         "id": "Yc4benqoIL4xRLtlC4EszA",
         "image_url": "https://s3-media4.fl.yelpcdn.com/bphoto/qqzloKaZLCK9io-KxDmLJw/o.jpg",
         "is_closed": false,
         "location": {
          "address1": "835 Humboldt St",
          "address2": "",
          "address3": "",
          "city": "Victoria",
          "country": "CA",
          "display_address": [
           "835 Humboldt St",
           "Victoria, BC V8W 1T7",
           "Canada"
          ],
          "state": "BC",
          "zip_code": "V8W 1T7"
         },
         "name": "Luminara",
         "phone": "",
         "rating": 5,
         "review_count": 1,
         "transactions": [],
         "url": "https://www.yelp.com/biz/luminara-victoria?adjust_creative=XNOX7IePjL-uCN8VWUX3PA&utm_campaign=yelp_api_v3&utm_medium=api_v3_business_search&utm_source=XNOX7IePjL-uCN8VWUX3PA"
        },
        {
         "alias": "fairmont-empress-victoria",
         "categories": [
          {
           "alias": "hotels",
           "title": "Hotels"
          }
         ],
         "coordinates": {
          "latitude": 48.421884064487,
          "longitude": -123.366891222615
         },
         "display_phone": "+1 250-384-8111",
         "distance": 823.1713541256696,
         "id": "OtdM5PKRWVUmCrpNyzYu3g",
         "image_url": "https://s3-media3.fl.yelpcdn.com/bphoto/F0-BD_6P8-QI4rEbPbPUDg/o.jpg",
         "is_closed": false,
         "location": {
          "address1": "721 Government Street",
          "address2": "",
          "address3": "",
          "city": "Victoria",
          "country": "CA",
          "display_address": [
           "721 Government Street",
           "Victoria, BC V8W 1W5",
           "Canada"
          ],
          "state": "BC",
          "zip_code": "V8W 1W5"
         },
         "name": "Fairmont Empress",
         "phone": "+12503848111",
         "price": "$$$$",
         "rating": 4,
         "review_count": 380,
         "transactions": [],
         "url": "https://www.yelp.com/biz/fairmont-empress-victoria?adjust_creative=XNOX7IePjL-uCN8VWUX3PA&utm_campaign=yelp_api_v3&utm_medium=api_v3_business_search&utm_source=XNOX7IePjL-uCN8VWUX3PA"
        },
        {
         "alias": "tally-ho-carriage-tours-victoria",
         "categories": [
          {
           "alias": "historicaltours",
           "title": "Historical Tours"
          }
         ],
         "coordinates": {
          "latitude": 48.4207242891828,
          "longitude": -123.370976631522
         },
         "display_phone": "+1 250-514-9257",
         "distance": 757.6589536775601,
         "id": "-DwrETuqOqhNIXnq0iVB4w",
         "image_url": "https://s3-media1.fl.yelpcdn.com/bphoto/XRPm58ri3e5L8IpQmBiqLw/o.jpg",
         "is_closed": false,
         "location": {
          "address1": "490 Belleville Street",
          "address2": "",
          "address3": "",
          "city": "Victoria",
          "country": "CA",
          "display_address": [
           "490 Belleville Street",
           "Victoria, BC V8V 4W9",
           "Canada"
          ],
          "state": "BC",
          "zip_code": "V8V 4W9"
         },
         "name": "Tally-Ho Carriage Tours",
         "phone": "+12505149257",
         "rating": 4.5,
         "review_count": 16,
         "transactions": [],
         "url": "https://www.yelp.com/biz/tally-ho-carriage-tours-victoria?adjust_creative=XNOX7IePjL-uCN8VWUX3PA&utm_campaign=yelp_api_v3&utm_medium=api_v3_business_search&utm_source=XNOX7IePjL-uCN8VWUX3PA"
        },
        {
         "alias": "ogden-point-breakwater-victoria",
         "categories": [
          {
           "alias": "localflavor",
           "title": "Local Flavor"
          }
         ],
         "coordinates": {
          "latitude": 48.413595170417,
          "longitude": -123.393789902329
         },
         "display_phone": "",
         "distance": 2039.618435133854,
         "id": "9lF2KUSf7a0Xcg9SZS_Qpg",
         "image_url": "https://s3-media3.fl.yelpcdn.com/bphoto/qhPjZLCur72JOI8wmKPmKw/o.jpg",
         "is_closed": false,
         "location": {
          "address1": "Dallas Road",
          "address2": "",
          "address3": "",
          "city": "Victoria",
          "country": "CA",
          "display_address": [
           "Dallas Road",
           "Victoria, BC V8V 1A7",
           "Canada"
          ],
          "state": "BC",
          "zip_code": "V8V 1A7"
         },
         "name": "Ogden Point Breakwater",
         "phone": "",
         "rating": 4.5,
         "review_count": 4,
         "transactions": [],
         "url": "https://www.yelp.com/biz/ogden-point-breakwater-victoria?adjust_creative=XNOX7IePjL-uCN8VWUX3PA&utm_campaign=yelp_api_v3&utm_medium=api_v3_business_search&utm_source=XNOX7IePjL-uCN8VWUX3PA"
        },
        {
         "alias": "quadra-park-victoria",
         "categories": [
          {
           "alias": "parks",
           "title": "Parks"
          }
         ],
         "coordinates": {
          "latitude": 48.4216143,
          "longitude": -123.3741452
         },
         "display_phone": "+1 250-385-5711",
         "distance": 602.8334509593634,
         "id": "xzltEpMIw8yoMxgsTewI3w",
         "image_url": "https://s3-media3.fl.yelpcdn.com/bphoto/wwoI0l8vyppgSAx7aCZphQ/o.jpg",
         "is_closed": false,
         "location": {
          "address1": "Belleville Street",
          "address2": "",
          "address3": null,
          "city": "Victoria",
          "country": "CA",
          "display_address": [
           "Belleville Street",
           "Victoria, BC V8V",
           "Canada"
          ],
          "state": "BC",
          "zip_code": "V8V"
         },
         "name": "Quadra Park",
         "phone": "+12503855711",
         "rating": 4,
         "review_count": 1,
         "transactions": [],
         "url": "https://www.yelp.com/biz/quadra-park-victoria?adjust_creative=XNOX7IePjL-uCN8VWUX3PA&utm_campaign=yelp_api_v3&utm_medium=api_v3_business_search&utm_source=XNOX7IePjL-uCN8VWUX3PA"
        },
        {
         "alias": "eagle-wing-tours-victoria-2",
         "categories": [
          {
           "alias": "boatcharters",
           "title": "Boat Charters"
          },
          {
           "alias": "whalewatchingtours",
           "title": "Whale Watching Tours"
          }
         ],
         "coordinates": {
          "latitude": 48.4226635,
          "longitude": -123.3828608
         },
         "display_phone": "+1 250-384-8008",
         "distance": 758.4130984659558,
         "id": "ww-v_yw_tzGALmFUQCQG5A",
         "image_url": "https://s3-media2.fl.yelpcdn.com/bphoto/z25SVdx81F0-L20S2UCGcA/o.jpg",
         "is_closed": false,
         "location": {
          "address1": "Fisherman's Wharf",
          "address2": "1 Dallas Road",
          "address3": "",
          "city": "Victoria",
          "country": "CA",
          "display_address": [
           "Fisherman's Wharf",
           "1 Dallas Road",
           "Victoria, BC V8V 0B2",
           "Canada"
          ],
          "state": "BC",
          "zip_code": "V8V 0B2"
         },
         "name": "Eagle Wing Tours",
         "phone": "+12503848008",
         "rating": 5,
         "review_count": 67,
         "transactions": [],
         "url": "https://www.yelp.com/biz/eagle-wing-tours-victoria-2?adjust_creative=XNOX7IePjL-uCN8VWUX3PA&utm_campaign=yelp_api_v3&utm_medium=api_v3_business_search&utm_source=XNOX7IePjL-uCN8VWUX3PA"
        },
        {
         "alias": "victoria-clipper-victoria",
         "categories": [
          {
           "alias": "ferries",
           "title": "Ferries"
          }
         ],
         "coordinates": {
          "latitude": 48.422106,
          "longitude": -123.374043
         },
         "display_phone": "+1 800-888-2535",
         "distance": 549.3016938994308,
         "id": "YuazannwvmfKh3MMUy4lFg",
         "image_url": "https://s3-media1.fl.yelpcdn.com/bphoto/jaF86oSrcCggS0WmwjcH8A/o.jpg",
         "is_closed": false,
         "location": {
          "address1": "254 Belleville Street",
          "address2": "",
          "address3": "",
          "city": "Victoria",
          "country": "CA",
          "display_address": [
           "254 Belleville Street",
           "Victoria, BC V8V 1W9",
           "Canada"
          ],
          "state": "BC",
          "zip_code": "V8V 1W9"
         },
         "name": "Victoria Clipper",
         "phone": "+18008882535",
         "rating": 3.5,
         "review_count": 74,
         "transactions": [],
         "url": "https://www.yelp.com/biz/victoria-clipper-victoria?adjust_creative=XNOX7IePjL-uCN8VWUX3PA&utm_campaign=yelp_api_v3&utm_medium=api_v3_business_search&utm_source=XNOX7IePjL-uCN8VWUX3PA"
        }
       ],
       "region": {
        "center": {
         "latitude": 48.42701,
         "longitude": -123.37494
        }
       },
       "total": 91
      },
      "text/plain": [
       "<IPython.core.display.JSON object>"
      ]
     },
     "execution_count": 140,
     "metadata": {
      "application/json": {
       "expanded": false,
       "root": "root"
      }
     },
     "output_type": "execute_result"
    }
   ],
   "source": [
    "JSON(x_cp)"
   ]
  },
  {
   "cell_type": "code",
   "execution_count": 141,
   "metadata": {
    "collapsed": true,
    "jupyter": {
     "outputs_hidden": true
    }
   },
   "outputs": [
    {
     "data": {
      "text/plain": [
       "[{'id': 'i-mqiIUryf9ej4vywRqQ5Q',\n",
       "  'alias': 'miniature-world-victoria',\n",
       "  'name': 'Miniature World',\n",
       "  'image_url': 'https://s3-media2.fl.yelpcdn.com/bphoto/Cv6aghucjwhuNAQz79h64w/o.jpg',\n",
       "  'is_closed': False,\n",
       "  'url': 'https://www.yelp.com/biz/miniature-world-victoria?adjust_creative=XNOX7IePjL-uCN8VWUX3PA&utm_campaign=yelp_api_v3&utm_medium=api_v3_business_search&utm_source=XNOX7IePjL-uCN8VWUX3PA',\n",
       "  'review_count': 74,\n",
       "  'categories': [{'alias': 'museums', 'title': 'Museums'}],\n",
       "  'rating': 4.5,\n",
       "  'coordinates': {'latitude': 48.422418, 'longitude': -123.3671046},\n",
       "  'transactions': [],\n",
       "  'location': {'address1': '649 Humboldt Street',\n",
       "   'address2': '',\n",
       "   'address3': '',\n",
       "   'city': 'Victoria',\n",
       "   'zip_code': 'V8W 1A6',\n",
       "   'country': 'CA',\n",
       "   'state': 'BC',\n",
       "   'display_address': ['649 Humboldt Street',\n",
       "    'Victoria, BC V8W 1A6',\n",
       "    'Canada']},\n",
       "  'phone': '+12503859731',\n",
       "  'display_phone': '+1 250-385-9731',\n",
       "  'distance': 787.9697212534667},\n",
       " {'id': 'XEoTgTpxXrmT8W8E-3IdZQ',\n",
       "  'alias': 'craigdarroch-castle-victoria',\n",
       "  'name': 'Craigdarroch Castle',\n",
       "  'image_url': 'https://s3-media1.fl.yelpcdn.com/bphoto/tlvxiPSklWVa99CSJTqPTA/o.jpg',\n",
       "  'is_closed': False,\n",
       "  'url': 'https://www.yelp.com/biz/craigdarroch-castle-victoria?adjust_creative=XNOX7IePjL-uCN8VWUX3PA&utm_campaign=yelp_api_v3&utm_medium=api_v3_business_search&utm_source=XNOX7IePjL-uCN8VWUX3PA',\n",
       "  'review_count': 127,\n",
       "  'categories': [{'alias': 'museums', 'title': 'Museums'},\n",
       "   {'alias': 'historicaltours', 'title': 'Historical Tours'}],\n",
       "  'rating': 4.0,\n",
       "  'coordinates': {'latitude': 48.4225145, 'longitude': -123.3432511},\n",
       "  'transactions': [],\n",
       "  'location': {'address1': '1050 Joan Crescent',\n",
       "   'address2': '',\n",
       "   'address3': '',\n",
       "   'city': 'Victoria',\n",
       "   'zip_code': 'V8S 3L5',\n",
       "   'country': 'CA',\n",
       "   'state': 'BC',\n",
       "   'display_address': ['1050 Joan Crescent',\n",
       "    'Victoria, BC V8S 3L5',\n",
       "    'Canada']},\n",
       "  'phone': '+12505925323',\n",
       "  'display_phone': '+1 250-592-5323',\n",
       "  'distance': 2391.132908894164},\n",
       " {'id': 'p2uBUeiP4s8qd2DYzVifuw',\n",
       "  'alias': 'royal-british-columbia-museum-victoria',\n",
       "  'name': 'Royal British Columbia Museum',\n",
       "  'image_url': 'https://s3-media1.fl.yelpcdn.com/bphoto/5XOcaAKe9ghdQZCxe7oKMA/o.jpg',\n",
       "  'is_closed': False,\n",
       "  'url': 'https://www.yelp.com/biz/royal-british-columbia-museum-victoria?adjust_creative=XNOX7IePjL-uCN8VWUX3PA&utm_campaign=yelp_api_v3&utm_medium=api_v3_business_search&utm_source=XNOX7IePjL-uCN8VWUX3PA',\n",
       "  'review_count': 151,\n",
       "  'categories': [{'alias': 'museums', 'title': 'Museums'}],\n",
       "  'rating': 4.5,\n",
       "  'coordinates': {'latitude': 48.41979, 'longitude': -123.36755},\n",
       "  'transactions': [],\n",
       "  'location': {'address1': '675 Belleville Street',\n",
       "   'address2': '',\n",
       "   'address3': '',\n",
       "   'city': 'Victoria',\n",
       "   'zip_code': 'V8W 9W2',\n",
       "   'country': 'CA',\n",
       "   'state': 'BC',\n",
       "   'display_address': ['675 Belleville Street',\n",
       "    'Victoria, BC V8W 9W2',\n",
       "    'Canada']},\n",
       "  'phone': '+12503567226',\n",
       "  'display_phone': '+1 250-356-7226',\n",
       "  'distance': 974.7029127804502},\n",
       " {'id': 'UHZbWmaeKBcsl231teqWow',\n",
       "  'alias': 'parliament-buildings-victoria',\n",
       "  'name': 'Parliament Buildings',\n",
       "  'image_url': 'https://s3-media1.fl.yelpcdn.com/bphoto/dWsRjqUCWjC705jjhIzryg/o.jpg',\n",
       "  'is_closed': False,\n",
       "  'url': 'https://www.yelp.com/biz/parliament-buildings-victoria?adjust_creative=XNOX7IePjL-uCN8VWUX3PA&utm_campaign=yelp_api_v3&utm_medium=api_v3_business_search&utm_source=XNOX7IePjL-uCN8VWUX3PA',\n",
       "  'review_count': 27,\n",
       "  'categories': [{'alias': 'landmarks',\n",
       "    'title': 'Landmarks & Historical Buildings'}],\n",
       "  'rating': 4.5,\n",
       "  'coordinates': {'latitude': 48.4208, 'longitude': -123.371},\n",
       "  'transactions': [],\n",
       "  'location': {'address1': 'Belleville Street',\n",
       "   'address2': None,\n",
       "   'address3': None,\n",
       "   'city': 'Victoria',\n",
       "   'zip_code': 'V8V 1X3',\n",
       "   'country': 'CA',\n",
       "   'state': 'BC',\n",
       "   'display_address': ['Belleville Street', 'Victoria, BC V8V 1X3', 'Canada']},\n",
       "  'phone': '',\n",
       "  'display_phone': '',\n",
       "  'distance': 749.2289110199148},\n",
       " {'id': 'sxajpey-JxpM3iSNgM_1xQ',\n",
       "  'alias': 'fan-tan-alley-victoria',\n",
       "  'name': 'Fan Tan Alley',\n",
       "  'image_url': 'https://s3-media4.fl.yelpcdn.com/bphoto/vxlLMuuyArLSfpC3l5pz5g/o.jpg',\n",
       "  'is_closed': False,\n",
       "  'url': 'https://www.yelp.com/biz/fan-tan-alley-victoria?adjust_creative=XNOX7IePjL-uCN8VWUX3PA&utm_campaign=yelp_api_v3&utm_medium=api_v3_business_search&utm_source=XNOX7IePjL-uCN8VWUX3PA',\n",
       "  'review_count': 24,\n",
       "  'categories': [{'alias': 'landmarks',\n",
       "    'title': 'Landmarks & Historical Buildings'}],\n",
       "  'rating': 4.0,\n",
       "  'coordinates': {'latitude': 48.42939, 'longitude': -123.36828},\n",
       "  'transactions': [],\n",
       "  'location': {'address1': 'Chinatown',\n",
       "   'address2': '',\n",
       "   'address3': '',\n",
       "   'city': 'Victoria',\n",
       "   'zip_code': 'V8W 1R4',\n",
       "   'country': 'CA',\n",
       "   'state': 'BC',\n",
       "   'display_address': ['Chinatown', 'Victoria, BC V8W 1R4', 'Canada']},\n",
       "  'phone': '',\n",
       "  'display_phone': '',\n",
       "  'distance': 619.9674421598494},\n",
       " {'id': 'K3Dmj4AbrTAnc_3_RwalaQ',\n",
       "  'alias': 'victoria-bug-zoo-victoria-3',\n",
       "  'name': 'Victoria Bug Zoo',\n",
       "  'image_url': 'https://s3-media2.fl.yelpcdn.com/bphoto/F5pheYCRLIITHL4abto11g/o.jpg',\n",
       "  'is_closed': False,\n",
       "  'url': 'https://www.yelp.com/biz/victoria-bug-zoo-victoria-3?adjust_creative=XNOX7IePjL-uCN8VWUX3PA&utm_campaign=yelp_api_v3&utm_medium=api_v3_business_search&utm_source=XNOX7IePjL-uCN8VWUX3PA',\n",
       "  'review_count': 96,\n",
       "  'categories': [{'alias': 'zoos', 'title': 'Zoos'}],\n",
       "  'rating': 4.0,\n",
       "  'coordinates': {'latitude': 48.423256426854, 'longitude': -123.36656996823},\n",
       "  'transactions': [],\n",
       "  'location': {'address1': '631 Courtney Street',\n",
       "   'address2': '',\n",
       "   'address3': '',\n",
       "   'city': 'Victoria',\n",
       "   'zip_code': 'V8W 1B8',\n",
       "   'country': 'CA',\n",
       "   'state': 'BC',\n",
       "   'display_address': ['631 Courtney Street',\n",
       "    'Victoria, BC V8W 1B8',\n",
       "    'Canada']},\n",
       "  'phone': '+12503842847',\n",
       "  'display_phone': '+1 250-384-2847',\n",
       "  'distance': 745.4197637274312},\n",
       " {'id': 'QehjOiE2xsYtlgFiO7QL2A',\n",
       "  'alias': 'little-shop-of-strange-victoria',\n",
       "  'name': 'Little Shop Of Strange',\n",
       "  'image_url': 'https://s3-media1.fl.yelpcdn.com/bphoto/L1XU70-ctCN1lAkjBLgeBw/o.jpg',\n",
       "  'is_closed': False,\n",
       "  'url': 'https://www.yelp.com/biz/little-shop-of-strange-victoria?adjust_creative=XNOX7IePjL-uCN8VWUX3PA&utm_campaign=yelp_api_v3&utm_medium=api_v3_business_search&utm_source=XNOX7IePjL-uCN8VWUX3PA',\n",
       "  'review_count': 3,\n",
       "  'categories': [{'alias': 'galleries', 'title': 'Art Galleries'}],\n",
       "  'rating': 4.5,\n",
       "  'coordinates': {'latitude': 48.4278693, 'longitude': -123.3688639},\n",
       "  'transactions': [],\n",
       "  'location': {'address1': '103 560 Johnson Street',\n",
       "   'address2': '',\n",
       "   'address3': None,\n",
       "   'city': 'Victoria',\n",
       "   'zip_code': 'V8W 3C6',\n",
       "   'country': 'CA',\n",
       "   'state': 'BC',\n",
       "   'display_address': ['103 560 Johnson Street',\n",
       "    'Victoria, BC V8W 3C6',\n",
       "    'Canada']},\n",
       "  'phone': '+12508935944',\n",
       "  'display_phone': '+1 250-893-5944',\n",
       "  'distance': 458.3958932224161},\n",
       " {'id': '1CVo93ORTQD8OIOGtkH59g',\n",
       "  'alias': 'chinatown-victoria',\n",
       "  'name': 'Chinatown',\n",
       "  'image_url': 'https://s3-media3.fl.yelpcdn.com/bphoto/XJKOj1FwBHFL-4dG3Ouwig/o.jpg',\n",
       "  'is_closed': False,\n",
       "  'url': 'https://www.yelp.com/biz/chinatown-victoria?adjust_creative=XNOX7IePjL-uCN8VWUX3PA&utm_campaign=yelp_api_v3&utm_medium=api_v3_business_search&utm_source=XNOX7IePjL-uCN8VWUX3PA',\n",
       "  'review_count': 27,\n",
       "  'categories': [{'alias': 'landmarks',\n",
       "    'title': 'Landmarks & Historical Buildings'}],\n",
       "  'rating': 3.0,\n",
       "  'coordinates': {'latitude': 48.4293714128574,\n",
       "   'longitude': -123.367956876755},\n",
       "  'transactions': [],\n",
       "  'location': {'address1': '',\n",
       "   'address2': '',\n",
       "   'address3': '',\n",
       "   'city': 'Victoria',\n",
       "   'zip_code': '',\n",
       "   'country': 'CA',\n",
       "   'state': 'BC',\n",
       "   'display_address': ['Victoria, BC', 'Canada']},\n",
       "  'phone': '',\n",
       "  'display_phone': '',\n",
       "  'distance': 578.2934478046269},\n",
       " {'id': 'Hw4dhWWvzNp1MHVe-O3iFw',\n",
       "  'alias': 'beacon-hill-park-victoria',\n",
       "  'name': 'Beacon Hill Park',\n",
       "  'image_url': 'https://s3-media2.fl.yelpcdn.com/bphoto/FMLd4cPhRngCIN5LdSkxcw/o.jpg',\n",
       "  'is_closed': False,\n",
       "  'url': 'https://www.yelp.com/biz/beacon-hill-park-victoria?adjust_creative=XNOX7IePjL-uCN8VWUX3PA&utm_campaign=yelp_api_v3&utm_medium=api_v3_business_search&utm_source=XNOX7IePjL-uCN8VWUX3PA',\n",
       "  'review_count': 65,\n",
       "  'categories': [{'alias': 'parks', 'title': 'Parks'}],\n",
       "  'rating': 5.0,\n",
       "  'coordinates': {'latitude': 48.4125166185892,\n",
       "   'longitude': -123.362712886242},\n",
       "  'transactions': [],\n",
       "  'location': {'address1': '100 Cook Street',\n",
       "   'address2': '',\n",
       "   'address3': '',\n",
       "   'city': 'Victoria',\n",
       "   'zip_code': 'V8V',\n",
       "   'country': 'CA',\n",
       "   'state': 'BC',\n",
       "   'display_address': ['100 Cook Street', 'Victoria, BC V8V', 'Canada']},\n",
       "  'phone': '+12503610600',\n",
       "  'display_phone': '+1 250-361-0600',\n",
       "  'distance': 1846.9962964548445},\n",
       " {'id': 'Qa6xT10bqrYA8_LdRpvPEg',\n",
       "  'alias': 'tesla-tours-victoria',\n",
       "  'name': 'Tesla Tours',\n",
       "  'image_url': 'https://s3-media2.fl.yelpcdn.com/bphoto/l-YYpsPPdlKcVgmRqQVt3w/o.jpg',\n",
       "  'is_closed': False,\n",
       "  'url': 'https://www.yelp.com/biz/tesla-tours-victoria?adjust_creative=XNOX7IePjL-uCN8VWUX3PA&utm_campaign=yelp_api_v3&utm_medium=api_v3_business_search&utm_source=XNOX7IePjL-uCN8VWUX3PA',\n",
       "  'review_count': 4,\n",
       "  'categories': [{'alias': 'tours', 'title': 'Tours'}],\n",
       "  'rating': 5.0,\n",
       "  'coordinates': {'latitude': 48.4156199, 'longitude': -123.35601},\n",
       "  'transactions': [],\n",
       "  'location': {'address1': 'Cook Street Village',\n",
       "   'address2': '',\n",
       "   'address3': None,\n",
       "   'city': 'Victoria',\n",
       "   'zip_code': 'V8V 3X0',\n",
       "   'country': 'CA',\n",
       "   'state': 'BC',\n",
       "   'display_address': ['Cook Street Village',\n",
       "    'Victoria, BC V8V 3X0',\n",
       "    'Canada']},\n",
       "  'phone': '+18777788054',\n",
       "  'display_phone': '+1 877-778-8054',\n",
       "  'distance': 1758.0087756436849},\n",
       " {'id': '11NUGYACnoC9IeiK_0i0MA',\n",
       "  'alias': 'steamship-terminal-victoria',\n",
       "  'name': 'Steamship Terminal',\n",
       "  'image_url': 'https://s3-media2.fl.yelpcdn.com/bphoto/foPISxdbS9guILvkH1xdnQ/o.jpg',\n",
       "  'is_closed': False,\n",
       "  'url': 'https://www.yelp.com/biz/steamship-terminal-victoria?adjust_creative=XNOX7IePjL-uCN8VWUX3PA&utm_campaign=yelp_api_v3&utm_medium=api_v3_business_search&utm_source=XNOX7IePjL-uCN8VWUX3PA',\n",
       "  'review_count': 1,\n",
       "  'categories': [{'alias': 'localflavor', 'title': 'Local Flavor'}],\n",
       "  'rating': 4.0,\n",
       "  'coordinates': {'latitude': 48.4210699, 'longitude': -123.3709924},\n",
       "  'transactions': [],\n",
       "  'location': {'address1': '470 Belleville Street',\n",
       "   'address2': '',\n",
       "   'address3': '',\n",
       "   'city': 'Victoria',\n",
       "   'zip_code': 'V8V',\n",
       "   'country': 'CA',\n",
       "   'state': 'BC',\n",
       "   'display_address': ['470 Belleville Street', 'Victoria, BC V8V', 'Canada']},\n",
       "  'phone': '+12503838300',\n",
       "  'display_phone': '+1 250-383-8300',\n",
       "  'distance': 721.8888912474716},\n",
       " {'id': 'qCdu512gNLPfzbEuVW_BvA',\n",
       "  'alias': 'inner-harbour-victoria',\n",
       "  'name': 'Inner Harbour',\n",
       "  'image_url': 'https://s3-media3.fl.yelpcdn.com/bphoto/_lBsZX_RRFIcXiGp3tuMJg/o.jpg',\n",
       "  'is_closed': False,\n",
       "  'url': 'https://www.yelp.com/biz/inner-harbour-victoria?adjust_creative=XNOX7IePjL-uCN8VWUX3PA&utm_campaign=yelp_api_v3&utm_medium=api_v3_business_search&utm_source=XNOX7IePjL-uCN8VWUX3PA',\n",
       "  'review_count': 13,\n",
       "  'categories': [{'alias': 'landmarks',\n",
       "    'title': 'Landmarks & Historical Buildings'}],\n",
       "  'rating': 4.5,\n",
       "  'coordinates': {'latitude': 48.4220240306922,\n",
       "   'longitude': -123.370478153229},\n",
       "  'transactions': [],\n",
       "  'location': {'address1': '',\n",
       "   'address2': '',\n",
       "   'address3': '',\n",
       "   'city': 'Victoria',\n",
       "   'zip_code': '',\n",
       "   'country': 'CA',\n",
       "   'state': 'BC',\n",
       "   'display_address': ['Victoria, BC', 'Canada']},\n",
       "  'phone': '',\n",
       "  'display_phone': '',\n",
       "  'distance': 644.8040071954824},\n",
       " {'id': 'WXkit8PW653vgB75GRrfJg',\n",
       "  'alias': 'legislative-assembly-of-british-columbia-victoria',\n",
       "  'name': 'Legislative Assembly of British Columbia',\n",
       "  'image_url': 'https://s3-media1.fl.yelpcdn.com/bphoto/skwGpOCLk1frBgh9P3xYDg/o.jpg',\n",
       "  'is_closed': False,\n",
       "  'url': 'https://www.yelp.com/biz/legislative-assembly-of-british-columbia-victoria?adjust_creative=XNOX7IePjL-uCN8VWUX3PA&utm_campaign=yelp_api_v3&utm_medium=api_v3_business_search&utm_source=XNOX7IePjL-uCN8VWUX3PA',\n",
       "  'review_count': 33,\n",
       "  'categories': [{'alias': 'landmarks',\n",
       "    'title': 'Landmarks & Historical Buildings'}],\n",
       "  'rating': 4.5,\n",
       "  'coordinates': {'latitude': 48.4206816, 'longitude': -123.3709679},\n",
       "  'transactions': [],\n",
       "  'location': {'address1': '501 Belleville Street',\n",
       "   'address2': '',\n",
       "   'address3': '',\n",
       "   'city': 'Victoria',\n",
       "   'zip_code': 'V8V 1X4',\n",
       "   'country': 'CA',\n",
       "   'state': 'BC',\n",
       "   'display_address': ['501 Belleville Street',\n",
       "    'Victoria, BC V8V 1X4',\n",
       "    'Canada']},\n",
       "  'phone': '+12503873046',\n",
       "  'display_phone': '+1 250-387-3046',\n",
       "  'distance': 890.9428194508913},\n",
       " {'id': '6AZEvKaGTZC2YzQD63Jg9w',\n",
       "  'alias': 'beacon-hill-childrens-farm-victoria',\n",
       "  'name': \"Beacon Hill Children's Farm\",\n",
       "  'image_url': 'https://s3-media1.fl.yelpcdn.com/bphoto/US6bTSSfd28jMChjurwNzA/o.jpg',\n",
       "  'is_closed': False,\n",
       "  'url': 'https://www.yelp.com/biz/beacon-hill-childrens-farm-victoria?adjust_creative=XNOX7IePjL-uCN8VWUX3PA&utm_campaign=yelp_api_v3&utm_medium=api_v3_business_search&utm_source=XNOX7IePjL-uCN8VWUX3PA',\n",
       "  'review_count': 28,\n",
       "  'categories': [{'alias': 'zoos', 'title': 'Zoos'}],\n",
       "  'rating': 5.0,\n",
       "  'coordinates': {'latitude': 48.411648, 'longitude': -123.363472},\n",
       "  'transactions': [],\n",
       "  'location': {'address1': 'Circle Dr & Beacon Hill Loop',\n",
       "   'address2': '',\n",
       "   'address3': '',\n",
       "   'city': 'Victoria',\n",
       "   'zip_code': 'V8V 4Z8',\n",
       "   'country': 'CA',\n",
       "   'state': 'BC',\n",
       "   'display_address': ['Circle Dr & Beacon Hill Loop',\n",
       "    'Victoria, BC V8V 4Z8',\n",
       "    'Canada']},\n",
       "  'phone': '+12503812532',\n",
       "  'display_phone': '+1 250-381-2532',\n",
       "  'distance': 1906.3295925091893},\n",
       " {'id': 'NJbA1nSXIWrkvmq6CXm8Iw',\n",
       "  'alias': 'victoria-harbour-ferry-victoria',\n",
       "  'name': 'Victoria Harbour Ferry',\n",
       "  'image_url': 'https://s3-media1.fl.yelpcdn.com/bphoto/BeHIrrz2NyFj6hL8KXNPpA/o.jpg',\n",
       "  'is_closed': False,\n",
       "  'url': 'https://www.yelp.com/biz/victoria-harbour-ferry-victoria?adjust_creative=XNOX7IePjL-uCN8VWUX3PA&utm_campaign=yelp_api_v3&utm_medium=api_v3_business_search&utm_source=XNOX7IePjL-uCN8VWUX3PA',\n",
       "  'review_count': 28,\n",
       "  'categories': [{'alias': 'ferries', 'title': 'Ferries'}],\n",
       "  'rating': 4.0,\n",
       "  'coordinates': {'latitude': 48.422033381944, 'longitude': -123.36892939364},\n",
       "  'transactions': [],\n",
       "  'location': {'address1': '189 Dallas Road',\n",
       "   'address2': '',\n",
       "   'address3': '',\n",
       "   'city': 'Victoria',\n",
       "   'zip_code': 'V8V 1A1',\n",
       "   'country': 'CA',\n",
       "   'state': 'BC',\n",
       "   'display_address': ['189 Dallas Road', 'Victoria, BC V8V 1A1', 'Canada']},\n",
       "  'phone': '+12507080201',\n",
       "  'display_phone': '+1 250-708-0201',\n",
       "  'distance': 709.1775478562374},\n",
       " {'id': 'PW72VTSIQRVoB3okCQfnnw',\n",
       "  'alias': 'prince-of-whales-victoria-3',\n",
       "  'name': 'Prince of Whales',\n",
       "  'image_url': 'https://s3-media3.fl.yelpcdn.com/bphoto/iVxIBzl5kNcZ7nm0SaV__w/o.jpg',\n",
       "  'is_closed': False,\n",
       "  'url': 'https://www.yelp.com/biz/prince-of-whales-victoria-3?adjust_creative=XNOX7IePjL-uCN8VWUX3PA&utm_campaign=yelp_api_v3&utm_medium=api_v3_business_search&utm_source=XNOX7IePjL-uCN8VWUX3PA',\n",
       "  'review_count': 70,\n",
       "  'categories': [{'alias': 'whalewatchingtours',\n",
       "    'title': 'Whale Watching Tours'},\n",
       "   {'alias': 'boatcharters', 'title': 'Boat Charters'},\n",
       "   {'alias': 'boattours', 'title': 'Boat Tours'}],\n",
       "  'rating': 4.5,\n",
       "  'coordinates': {'latitude': 48.42288, 'longitude': -123.36889},\n",
       "  'transactions': [],\n",
       "  'location': {'address1': '812 Wharf Street',\n",
       "   'address2': '',\n",
       "   'address3': '',\n",
       "   'city': 'Victoria',\n",
       "   'zip_code': 'V8W 1T3',\n",
       "   'country': 'CA',\n",
       "   'state': 'BC',\n",
       "   'display_address': ['812 Wharf Street', 'Victoria, BC V8W 1T3', 'Canada']},\n",
       "  'phone': '+18883834884',\n",
       "  'display_phone': '+1 888-383-4884',\n",
       "  'distance': 639.1213552430376},\n",
       " {'id': 'VmAffd4s9Nz5rPJf1FIaCA',\n",
       "  'alias': 'ocean-art-works-vancouver',\n",
       "  'name': 'Ocean Art Works',\n",
       "  'image_url': 'https://s3-media3.fl.yelpcdn.com/bphoto/tdZPZO89fNg5su9HMq72Gw/o.jpg',\n",
       "  'is_closed': False,\n",
       "  'url': 'https://www.yelp.com/biz/ocean-art-works-vancouver?adjust_creative=XNOX7IePjL-uCN8VWUX3PA&utm_campaign=yelp_api_v3&utm_medium=api_v3_business_search&utm_source=XNOX7IePjL-uCN8VWUX3PA',\n",
       "  'review_count': 1,\n",
       "  'categories': [{'alias': 'localflavor', 'title': 'Local Flavor'}],\n",
       "  'rating': 5.0,\n",
       "  'coordinates': {'latitude': 49.2867088, 'longitude': -122.801651},\n",
       "  'transactions': [],\n",
       "  'location': {'address1': 'Creekhouse Building',\n",
       "   'address2': 'Johnson St',\n",
       "   'address3': 'Granville Island',\n",
       "   'city': 'Vancouver',\n",
       "   'zip_code': '',\n",
       "   'country': 'CA',\n",
       "   'state': 'BC',\n",
       "   'display_address': ['Creekhouse Building',\n",
       "    'Johnson St',\n",
       "    'Granville Island',\n",
       "    'Vancouver, BC',\n",
       "    'Canada']},\n",
       "  'phone': '',\n",
       "  'display_phone': '',\n",
       "  'distance': 248.59171643865446},\n",
       " {'id': 'bzDho1DEHA1zkrbMqXJDag',\n",
       "  'alias': 'victoria-city-hall-victoria',\n",
       "  'name': 'Victoria City Hall',\n",
       "  'image_url': 'https://s3-media3.fl.yelpcdn.com/bphoto/xaLiYo-wUyFl2bk-iD7bhA/o.jpg',\n",
       "  'is_closed': False,\n",
       "  'url': 'https://www.yelp.com/biz/victoria-city-hall-victoria?adjust_creative=XNOX7IePjL-uCN8VWUX3PA&utm_campaign=yelp_api_v3&utm_medium=api_v3_business_search&utm_source=XNOX7IePjL-uCN8VWUX3PA',\n",
       "  'review_count': 9,\n",
       "  'categories': [{'alias': 'landmarks',\n",
       "    'title': 'Landmarks & Historical Buildings'}],\n",
       "  'rating': 4.5,\n",
       "  'coordinates': {'latitude': 48.42831, 'longitude': -123.36554},\n",
       "  'transactions': [],\n",
       "  'location': {'address1': '1 Centennial Square',\n",
       "   'address2': '',\n",
       "   'address3': '',\n",
       "   'city': 'Victoria',\n",
       "   'zip_code': 'V8W 1P6',\n",
       "   'country': 'CA',\n",
       "   'state': 'BC',\n",
       "   'display_address': ['1 Centennial Square',\n",
       "    'Victoria, BC V8W 1P6',\n",
       "    'Canada']},\n",
       "  'phone': '+12503855711',\n",
       "  'display_phone': '+1 250-385-5711',\n",
       "  'distance': 753.8218447756359},\n",
       " {'id': 'Yc4benqoIL4xRLtlC4EszA',\n",
       "  'alias': 'luminara-victoria',\n",
       "  'name': 'Luminara',\n",
       "  'image_url': 'https://s3-media4.fl.yelpcdn.com/bphoto/qqzloKaZLCK9io-KxDmLJw/o.jpg',\n",
       "  'is_closed': False,\n",
       "  'url': 'https://www.yelp.com/biz/luminara-victoria?adjust_creative=XNOX7IePjL-uCN8VWUX3PA&utm_campaign=yelp_api_v3&utm_medium=api_v3_business_search&utm_source=XNOX7IePjL-uCN8VWUX3PA',\n",
       "  'review_count': 1,\n",
       "  'categories': [{'alias': 'festivals', 'title': 'Festivals'}],\n",
       "  'rating': 5.0,\n",
       "  'coordinates': {'latitude': 48.41953, 'longitude': -123.36307},\n",
       "  'transactions': [],\n",
       "  'location': {'address1': '835 Humboldt St',\n",
       "   'address2': '',\n",
       "   'address3': '',\n",
       "   'city': 'Victoria',\n",
       "   'zip_code': 'V8W 1T7',\n",
       "   'country': 'CA',\n",
       "   'state': 'BC',\n",
       "   'display_address': ['835 Humboldt St', 'Victoria, BC V8W 1T7', 'Canada']},\n",
       "  'phone': '',\n",
       "  'display_phone': '',\n",
       "  'distance': 1205.283602588178},\n",
       " {'id': 'OtdM5PKRWVUmCrpNyzYu3g',\n",
       "  'alias': 'fairmont-empress-victoria',\n",
       "  'name': 'Fairmont Empress',\n",
       "  'image_url': 'https://s3-media3.fl.yelpcdn.com/bphoto/F0-BD_6P8-QI4rEbPbPUDg/o.jpg',\n",
       "  'is_closed': False,\n",
       "  'url': 'https://www.yelp.com/biz/fairmont-empress-victoria?adjust_creative=XNOX7IePjL-uCN8VWUX3PA&utm_campaign=yelp_api_v3&utm_medium=api_v3_business_search&utm_source=XNOX7IePjL-uCN8VWUX3PA',\n",
       "  'review_count': 380,\n",
       "  'categories': [{'alias': 'hotels', 'title': 'Hotels'}],\n",
       "  'rating': 4.0,\n",
       "  'coordinates': {'latitude': 48.421884064487, 'longitude': -123.366891222615},\n",
       "  'transactions': [],\n",
       "  'price': '$$$$',\n",
       "  'location': {'address1': '721 Government Street',\n",
       "   'address2': '',\n",
       "   'address3': '',\n",
       "   'city': 'Victoria',\n",
       "   'zip_code': 'V8W 1W5',\n",
       "   'country': 'CA',\n",
       "   'state': 'BC',\n",
       "   'display_address': ['721 Government Street',\n",
       "    'Victoria, BC V8W 1W5',\n",
       "    'Canada']},\n",
       "  'phone': '+12503848111',\n",
       "  'display_phone': '+1 250-384-8111',\n",
       "  'distance': 823.1713541256696},\n",
       " {'id': '-DwrETuqOqhNIXnq0iVB4w',\n",
       "  'alias': 'tally-ho-carriage-tours-victoria',\n",
       "  'name': 'Tally-Ho Carriage Tours',\n",
       "  'image_url': 'https://s3-media1.fl.yelpcdn.com/bphoto/XRPm58ri3e5L8IpQmBiqLw/o.jpg',\n",
       "  'is_closed': False,\n",
       "  'url': 'https://www.yelp.com/biz/tally-ho-carriage-tours-victoria?adjust_creative=XNOX7IePjL-uCN8VWUX3PA&utm_campaign=yelp_api_v3&utm_medium=api_v3_business_search&utm_source=XNOX7IePjL-uCN8VWUX3PA',\n",
       "  'review_count': 16,\n",
       "  'categories': [{'alias': 'historicaltours', 'title': 'Historical Tours'}],\n",
       "  'rating': 4.5,\n",
       "  'coordinates': {'latitude': 48.4207242891828,\n",
       "   'longitude': -123.370976631522},\n",
       "  'transactions': [],\n",
       "  'location': {'address1': '490 Belleville Street',\n",
       "   'address2': '',\n",
       "   'address3': '',\n",
       "   'city': 'Victoria',\n",
       "   'zip_code': 'V8V 4W9',\n",
       "   'country': 'CA',\n",
       "   'state': 'BC',\n",
       "   'display_address': ['490 Belleville Street',\n",
       "    'Victoria, BC V8V 4W9',\n",
       "    'Canada']},\n",
       "  'phone': '+12505149257',\n",
       "  'display_phone': '+1 250-514-9257',\n",
       "  'distance': 757.6589536775601},\n",
       " {'id': '9lF2KUSf7a0Xcg9SZS_Qpg',\n",
       "  'alias': 'ogden-point-breakwater-victoria',\n",
       "  'name': 'Ogden Point Breakwater',\n",
       "  'image_url': 'https://s3-media3.fl.yelpcdn.com/bphoto/qhPjZLCur72JOI8wmKPmKw/o.jpg',\n",
       "  'is_closed': False,\n",
       "  'url': 'https://www.yelp.com/biz/ogden-point-breakwater-victoria?adjust_creative=XNOX7IePjL-uCN8VWUX3PA&utm_campaign=yelp_api_v3&utm_medium=api_v3_business_search&utm_source=XNOX7IePjL-uCN8VWUX3PA',\n",
       "  'review_count': 4,\n",
       "  'categories': [{'alias': 'localflavor', 'title': 'Local Flavor'}],\n",
       "  'rating': 4.5,\n",
       "  'coordinates': {'latitude': 48.413595170417, 'longitude': -123.393789902329},\n",
       "  'transactions': [],\n",
       "  'location': {'address1': 'Dallas Road',\n",
       "   'address2': '',\n",
       "   'address3': '',\n",
       "   'city': 'Victoria',\n",
       "   'zip_code': 'V8V 1A7',\n",
       "   'country': 'CA',\n",
       "   'state': 'BC',\n",
       "   'display_address': ['Dallas Road', 'Victoria, BC V8V 1A7', 'Canada']},\n",
       "  'phone': '',\n",
       "  'display_phone': '',\n",
       "  'distance': 2039.618435133854},\n",
       " {'id': 'xzltEpMIw8yoMxgsTewI3w',\n",
       "  'alias': 'quadra-park-victoria',\n",
       "  'name': 'Quadra Park',\n",
       "  'image_url': 'https://s3-media3.fl.yelpcdn.com/bphoto/wwoI0l8vyppgSAx7aCZphQ/o.jpg',\n",
       "  'is_closed': False,\n",
       "  'url': 'https://www.yelp.com/biz/quadra-park-victoria?adjust_creative=XNOX7IePjL-uCN8VWUX3PA&utm_campaign=yelp_api_v3&utm_medium=api_v3_business_search&utm_source=XNOX7IePjL-uCN8VWUX3PA',\n",
       "  'review_count': 1,\n",
       "  'categories': [{'alias': 'parks', 'title': 'Parks'}],\n",
       "  'rating': 4.0,\n",
       "  'coordinates': {'latitude': 48.4216143, 'longitude': -123.3741452},\n",
       "  'transactions': [],\n",
       "  'location': {'address1': 'Belleville Street',\n",
       "   'address2': '',\n",
       "   'address3': None,\n",
       "   'city': 'Victoria',\n",
       "   'zip_code': 'V8V',\n",
       "   'country': 'CA',\n",
       "   'state': 'BC',\n",
       "   'display_address': ['Belleville Street', 'Victoria, BC V8V', 'Canada']},\n",
       "  'phone': '+12503855711',\n",
       "  'display_phone': '+1 250-385-5711',\n",
       "  'distance': 602.8334509593634},\n",
       " {'id': 'ww-v_yw_tzGALmFUQCQG5A',\n",
       "  'alias': 'eagle-wing-tours-victoria-2',\n",
       "  'name': 'Eagle Wing Tours',\n",
       "  'image_url': 'https://s3-media2.fl.yelpcdn.com/bphoto/z25SVdx81F0-L20S2UCGcA/o.jpg',\n",
       "  'is_closed': False,\n",
       "  'url': 'https://www.yelp.com/biz/eagle-wing-tours-victoria-2?adjust_creative=XNOX7IePjL-uCN8VWUX3PA&utm_campaign=yelp_api_v3&utm_medium=api_v3_business_search&utm_source=XNOX7IePjL-uCN8VWUX3PA',\n",
       "  'review_count': 67,\n",
       "  'categories': [{'alias': 'boatcharters', 'title': 'Boat Charters'},\n",
       "   {'alias': 'whalewatchingtours', 'title': 'Whale Watching Tours'}],\n",
       "  'rating': 5.0,\n",
       "  'coordinates': {'latitude': 48.4226635, 'longitude': -123.3828608},\n",
       "  'transactions': [],\n",
       "  'location': {'address1': \"Fisherman's Wharf\",\n",
       "   'address2': '1 Dallas Road',\n",
       "   'address3': '',\n",
       "   'city': 'Victoria',\n",
       "   'zip_code': 'V8V 0B2',\n",
       "   'country': 'CA',\n",
       "   'state': 'BC',\n",
       "   'display_address': [\"Fisherman's Wharf\",\n",
       "    '1 Dallas Road',\n",
       "    'Victoria, BC V8V 0B2',\n",
       "    'Canada']},\n",
       "  'phone': '+12503848008',\n",
       "  'display_phone': '+1 250-384-8008',\n",
       "  'distance': 758.4130984659558},\n",
       " {'id': 'YuazannwvmfKh3MMUy4lFg',\n",
       "  'alias': 'victoria-clipper-victoria',\n",
       "  'name': 'Victoria Clipper',\n",
       "  'image_url': 'https://s3-media1.fl.yelpcdn.com/bphoto/jaF86oSrcCggS0WmwjcH8A/o.jpg',\n",
       "  'is_closed': False,\n",
       "  'url': 'https://www.yelp.com/biz/victoria-clipper-victoria?adjust_creative=XNOX7IePjL-uCN8VWUX3PA&utm_campaign=yelp_api_v3&utm_medium=api_v3_business_search&utm_source=XNOX7IePjL-uCN8VWUX3PA',\n",
       "  'review_count': 74,\n",
       "  'categories': [{'alias': 'ferries', 'title': 'Ferries'}],\n",
       "  'rating': 3.5,\n",
       "  'coordinates': {'latitude': 48.422106, 'longitude': -123.374043},\n",
       "  'transactions': [],\n",
       "  'location': {'address1': '254 Belleville Street',\n",
       "   'address2': '',\n",
       "   'address3': '',\n",
       "   'city': 'Victoria',\n",
       "   'zip_code': 'V8V 1W9',\n",
       "   'country': 'CA',\n",
       "   'state': 'BC',\n",
       "   'display_address': ['254 Belleville Street',\n",
       "    'Victoria, BC V8V 1W9',\n",
       "    'Canada']},\n",
       "  'phone': '+18008882535',\n",
       "  'display_phone': '+1 800-888-2535',\n",
       "  'distance': 549.3016938994308}]"
      ]
     },
     "execution_count": 141,
     "metadata": {},
     "output_type": "execute_result"
    }
   ],
   "source": [
    "yelp_tour = x_cp['businesses']\n",
    "yelp_tour"
   ]
  },
  {
   "cell_type": "code",
   "execution_count": 142,
   "metadata": {},
   "outputs": [
    {
     "data": {
      "text/plain": [
       "Index(['id', 'alias', 'name', 'image_url', 'is_closed', 'url', 'review_count',\n",
       "       'categories', 'rating', 'transactions', 'phone', 'display_phone',\n",
       "       'distance', 'coordinates.latitude', 'coordinates.longitude',\n",
       "       'location.address1', 'location.address2', 'location.address3',\n",
       "       'location.city', 'location.zip_code', 'location.country',\n",
       "       'location.state', 'location.display_address', 'price'],\n",
       "      dtype='object')"
      ]
     },
     "execution_count": 142,
     "metadata": {},
     "output_type": "execute_result"
    }
   ],
   "source": [
    "norm_yelp_tour = pd.json_normalize(yelp_tour)\n",
    "norm_yelp_tour.columns"
   ]
  },
  {
   "cell_type": "code",
   "execution_count": 143,
   "metadata": {},
   "outputs": [],
   "source": [
    "yelp_tour_keep_list = ['name','review_count','rating','distance','location.address1','location.city','location.display_address']\n",
    "yelp_tour_result = norm_yelp_tour[yelp_tour_keep_list]"
   ]
  },
  {
   "cell_type": "code",
   "execution_count": 198,
   "metadata": {},
   "outputs": [],
   "source": [
    "# Victoria tourist attractions ordered by rating\n",
    "attractions_yelp = yelp_tour_result.sort_values(by='rating', ascending=False)"
   ]
  },
  {
   "cell_type": "code",
   "execution_count": 199,
   "metadata": {},
   "outputs": [
    {
     "data": {
      "text/html": [
       "<div>\n",
       "<style scoped>\n",
       "    .dataframe tbody tr th:only-of-type {\n",
       "        vertical-align: middle;\n",
       "    }\n",
       "\n",
       "    .dataframe tbody tr th {\n",
       "        vertical-align: top;\n",
       "    }\n",
       "\n",
       "    .dataframe thead th {\n",
       "        text-align: right;\n",
       "    }\n",
       "</style>\n",
       "<table border=\"1\" class=\"dataframe\">\n",
       "  <thead>\n",
       "    <tr style=\"text-align: right;\">\n",
       "      <th></th>\n",
       "      <th>name</th>\n",
       "      <th>review_count</th>\n",
       "      <th>rating</th>\n",
       "      <th>distance</th>\n",
       "      <th>location.address1</th>\n",
       "      <th>location.city</th>\n",
       "      <th>location.display_address</th>\n",
       "    </tr>\n",
       "  </thead>\n",
       "  <tbody>\n",
       "    <tr>\n",
       "      <th>13</th>\n",
       "      <td>Beacon Hill Children's Farm</td>\n",
       "      <td>28</td>\n",
       "      <td>5.0</td>\n",
       "      <td>1906.329593</td>\n",
       "      <td>Circle Dr &amp; Beacon Hill Loop</td>\n",
       "      <td>Victoria</td>\n",
       "      <td>[Circle Dr &amp; Beacon Hill Loop, Victoria, BC V8...</td>\n",
       "    </tr>\n",
       "    <tr>\n",
       "      <th>23</th>\n",
       "      <td>Eagle Wing Tours</td>\n",
       "      <td>67</td>\n",
       "      <td>5.0</td>\n",
       "      <td>758.413098</td>\n",
       "      <td>Fisherman's Wharf</td>\n",
       "      <td>Victoria</td>\n",
       "      <td>[Fisherman's Wharf, 1 Dallas Road, Victoria, B...</td>\n",
       "    </tr>\n",
       "    <tr>\n",
       "      <th>18</th>\n",
       "      <td>Luminara</td>\n",
       "      <td>1</td>\n",
       "      <td>5.0</td>\n",
       "      <td>1205.283603</td>\n",
       "      <td>835 Humboldt St</td>\n",
       "      <td>Victoria</td>\n",
       "      <td>[835 Humboldt St, Victoria, BC V8W 1T7, Canada]</td>\n",
       "    </tr>\n",
       "    <tr>\n",
       "      <th>16</th>\n",
       "      <td>Ocean Art Works</td>\n",
       "      <td>1</td>\n",
       "      <td>5.0</td>\n",
       "      <td>248.591716</td>\n",
       "      <td>Creekhouse Building</td>\n",
       "      <td>Vancouver</td>\n",
       "      <td>[Creekhouse Building, Johnson St, Granville Is...</td>\n",
       "    </tr>\n",
       "    <tr>\n",
       "      <th>8</th>\n",
       "      <td>Beacon Hill Park</td>\n",
       "      <td>65</td>\n",
       "      <td>5.0</td>\n",
       "      <td>1846.996296</td>\n",
       "      <td>100 Cook Street</td>\n",
       "      <td>Victoria</td>\n",
       "      <td>[100 Cook Street, Victoria, BC V8V, Canada]</td>\n",
       "    </tr>\n",
       "    <tr>\n",
       "      <th>9</th>\n",
       "      <td>Tesla Tours</td>\n",
       "      <td>4</td>\n",
       "      <td>5.0</td>\n",
       "      <td>1758.008776</td>\n",
       "      <td>Cook Street Village</td>\n",
       "      <td>Victoria</td>\n",
       "      <td>[Cook Street Village, Victoria, BC V8V 3X0, Ca...</td>\n",
       "    </tr>\n",
       "    <tr>\n",
       "      <th>0</th>\n",
       "      <td>Miniature World</td>\n",
       "      <td>74</td>\n",
       "      <td>4.5</td>\n",
       "      <td>787.969721</td>\n",
       "      <td>649 Humboldt Street</td>\n",
       "      <td>Victoria</td>\n",
       "      <td>[649 Humboldt Street, Victoria, BC V8W 1A6, Ca...</td>\n",
       "    </tr>\n",
       "    <tr>\n",
       "      <th>21</th>\n",
       "      <td>Ogden Point Breakwater</td>\n",
       "      <td>4</td>\n",
       "      <td>4.5</td>\n",
       "      <td>2039.618435</td>\n",
       "      <td>Dallas Road</td>\n",
       "      <td>Victoria</td>\n",
       "      <td>[Dallas Road, Victoria, BC V8V 1A7, Canada]</td>\n",
       "    </tr>\n",
       "    <tr>\n",
       "      <th>20</th>\n",
       "      <td>Tally-Ho Carriage Tours</td>\n",
       "      <td>16</td>\n",
       "      <td>4.5</td>\n",
       "      <td>757.658954</td>\n",
       "      <td>490 Belleville Street</td>\n",
       "      <td>Victoria</td>\n",
       "      <td>[490 Belleville Street, Victoria, BC V8V 4W9, ...</td>\n",
       "    </tr>\n",
       "    <tr>\n",
       "      <th>17</th>\n",
       "      <td>Victoria City Hall</td>\n",
       "      <td>9</td>\n",
       "      <td>4.5</td>\n",
       "      <td>753.821845</td>\n",
       "      <td>1 Centennial Square</td>\n",
       "      <td>Victoria</td>\n",
       "      <td>[1 Centennial Square, Victoria, BC V8W 1P6, Ca...</td>\n",
       "    </tr>\n",
       "    <tr>\n",
       "      <th>15</th>\n",
       "      <td>Prince of Whales</td>\n",
       "      <td>70</td>\n",
       "      <td>4.5</td>\n",
       "      <td>639.121355</td>\n",
       "      <td>812 Wharf Street</td>\n",
       "      <td>Victoria</td>\n",
       "      <td>[812 Wharf Street, Victoria, BC V8W 1T3, Canada]</td>\n",
       "    </tr>\n",
       "    <tr>\n",
       "      <th>12</th>\n",
       "      <td>Legislative Assembly of British Columbia</td>\n",
       "      <td>33</td>\n",
       "      <td>4.5</td>\n",
       "      <td>890.942819</td>\n",
       "      <td>501 Belleville Street</td>\n",
       "      <td>Victoria</td>\n",
       "      <td>[501 Belleville Street, Victoria, BC V8V 1X4, ...</td>\n",
       "    </tr>\n",
       "    <tr>\n",
       "      <th>11</th>\n",
       "      <td>Inner Harbour</td>\n",
       "      <td>13</td>\n",
       "      <td>4.5</td>\n",
       "      <td>644.804007</td>\n",
       "      <td></td>\n",
       "      <td>Victoria</td>\n",
       "      <td>[Victoria, BC, Canada]</td>\n",
       "    </tr>\n",
       "    <tr>\n",
       "      <th>6</th>\n",
       "      <td>Little Shop Of Strange</td>\n",
       "      <td>3</td>\n",
       "      <td>4.5</td>\n",
       "      <td>458.395893</td>\n",
       "      <td>103 560 Johnson Street</td>\n",
       "      <td>Victoria</td>\n",
       "      <td>[103 560 Johnson Street, Victoria, BC V8W 3C6,...</td>\n",
       "    </tr>\n",
       "    <tr>\n",
       "      <th>3</th>\n",
       "      <td>Parliament Buildings</td>\n",
       "      <td>27</td>\n",
       "      <td>4.5</td>\n",
       "      <td>749.228911</td>\n",
       "      <td>Belleville Street</td>\n",
       "      <td>Victoria</td>\n",
       "      <td>[Belleville Street, Victoria, BC V8V 1X3, Canada]</td>\n",
       "    </tr>\n",
       "    <tr>\n",
       "      <th>2</th>\n",
       "      <td>Royal British Columbia Museum</td>\n",
       "      <td>151</td>\n",
       "      <td>4.5</td>\n",
       "      <td>974.702913</td>\n",
       "      <td>675 Belleville Street</td>\n",
       "      <td>Victoria</td>\n",
       "      <td>[675 Belleville Street, Victoria, BC V8W 9W2, ...</td>\n",
       "    </tr>\n",
       "    <tr>\n",
       "      <th>1</th>\n",
       "      <td>Craigdarroch Castle</td>\n",
       "      <td>127</td>\n",
       "      <td>4.0</td>\n",
       "      <td>2391.132909</td>\n",
       "      <td>1050 Joan Crescent</td>\n",
       "      <td>Victoria</td>\n",
       "      <td>[1050 Joan Crescent, Victoria, BC V8S 3L5, Can...</td>\n",
       "    </tr>\n",
       "    <tr>\n",
       "      <th>14</th>\n",
       "      <td>Victoria Harbour Ferry</td>\n",
       "      <td>28</td>\n",
       "      <td>4.0</td>\n",
       "      <td>709.177548</td>\n",
       "      <td>189 Dallas Road</td>\n",
       "      <td>Victoria</td>\n",
       "      <td>[189 Dallas Road, Victoria, BC V8V 1A1, Canada]</td>\n",
       "    </tr>\n",
       "    <tr>\n",
       "      <th>10</th>\n",
       "      <td>Steamship Terminal</td>\n",
       "      <td>1</td>\n",
       "      <td>4.0</td>\n",
       "      <td>721.888891</td>\n",
       "      <td>470 Belleville Street</td>\n",
       "      <td>Victoria</td>\n",
       "      <td>[470 Belleville Street, Victoria, BC V8V, Canada]</td>\n",
       "    </tr>\n",
       "    <tr>\n",
       "      <th>5</th>\n",
       "      <td>Victoria Bug Zoo</td>\n",
       "      <td>96</td>\n",
       "      <td>4.0</td>\n",
       "      <td>745.419764</td>\n",
       "      <td>631 Courtney Street</td>\n",
       "      <td>Victoria</td>\n",
       "      <td>[631 Courtney Street, Victoria, BC V8W 1B8, Ca...</td>\n",
       "    </tr>\n",
       "    <tr>\n",
       "      <th>19</th>\n",
       "      <td>Fairmont Empress</td>\n",
       "      <td>380</td>\n",
       "      <td>4.0</td>\n",
       "      <td>823.171354</td>\n",
       "      <td>721 Government Street</td>\n",
       "      <td>Victoria</td>\n",
       "      <td>[721 Government Street, Victoria, BC V8W 1W5, ...</td>\n",
       "    </tr>\n",
       "    <tr>\n",
       "      <th>4</th>\n",
       "      <td>Fan Tan Alley</td>\n",
       "      <td>24</td>\n",
       "      <td>4.0</td>\n",
       "      <td>619.967442</td>\n",
       "      <td>Chinatown</td>\n",
       "      <td>Victoria</td>\n",
       "      <td>[Chinatown, Victoria, BC V8W 1R4, Canada]</td>\n",
       "    </tr>\n",
       "    <tr>\n",
       "      <th>22</th>\n",
       "      <td>Quadra Park</td>\n",
       "      <td>1</td>\n",
       "      <td>4.0</td>\n",
       "      <td>602.833451</td>\n",
       "      <td>Belleville Street</td>\n",
       "      <td>Victoria</td>\n",
       "      <td>[Belleville Street, Victoria, BC V8V, Canada]</td>\n",
       "    </tr>\n",
       "    <tr>\n",
       "      <th>24</th>\n",
       "      <td>Victoria Clipper</td>\n",
       "      <td>74</td>\n",
       "      <td>3.5</td>\n",
       "      <td>549.301694</td>\n",
       "      <td>254 Belleville Street</td>\n",
       "      <td>Victoria</td>\n",
       "      <td>[254 Belleville Street, Victoria, BC V8V 1W9, ...</td>\n",
       "    </tr>\n",
       "    <tr>\n",
       "      <th>7</th>\n",
       "      <td>Chinatown</td>\n",
       "      <td>27</td>\n",
       "      <td>3.0</td>\n",
       "      <td>578.293448</td>\n",
       "      <td></td>\n",
       "      <td>Victoria</td>\n",
       "      <td>[Victoria, BC, Canada]</td>\n",
       "    </tr>\n",
       "  </tbody>\n",
       "</table>\n",
       "</div>"
      ],
      "text/plain": [
       "                                        name  review_count  rating  \\\n",
       "13               Beacon Hill Children's Farm            28     5.0   \n",
       "23                          Eagle Wing Tours            67     5.0   \n",
       "18                                  Luminara             1     5.0   \n",
       "16                           Ocean Art Works             1     5.0   \n",
       "8                           Beacon Hill Park            65     5.0   \n",
       "9                                Tesla Tours             4     5.0   \n",
       "0                            Miniature World            74     4.5   \n",
       "21                    Ogden Point Breakwater             4     4.5   \n",
       "20                   Tally-Ho Carriage Tours            16     4.5   \n",
       "17                        Victoria City Hall             9     4.5   \n",
       "15                          Prince of Whales            70     4.5   \n",
       "12  Legislative Assembly of British Columbia            33     4.5   \n",
       "11                             Inner Harbour            13     4.5   \n",
       "6                     Little Shop Of Strange             3     4.5   \n",
       "3                       Parliament Buildings            27     4.5   \n",
       "2              Royal British Columbia Museum           151     4.5   \n",
       "1                        Craigdarroch Castle           127     4.0   \n",
       "14                    Victoria Harbour Ferry            28     4.0   \n",
       "10                        Steamship Terminal             1     4.0   \n",
       "5                           Victoria Bug Zoo            96     4.0   \n",
       "19                          Fairmont Empress           380     4.0   \n",
       "4                              Fan Tan Alley            24     4.0   \n",
       "22                               Quadra Park             1     4.0   \n",
       "24                          Victoria Clipper            74     3.5   \n",
       "7                                  Chinatown            27     3.0   \n",
       "\n",
       "       distance             location.address1 location.city  \\\n",
       "13  1906.329593  Circle Dr & Beacon Hill Loop      Victoria   \n",
       "23   758.413098             Fisherman's Wharf      Victoria   \n",
       "18  1205.283603               835 Humboldt St      Victoria   \n",
       "16   248.591716           Creekhouse Building     Vancouver   \n",
       "8   1846.996296               100 Cook Street      Victoria   \n",
       "9   1758.008776           Cook Street Village      Victoria   \n",
       "0    787.969721           649 Humboldt Street      Victoria   \n",
       "21  2039.618435                   Dallas Road      Victoria   \n",
       "20   757.658954         490 Belleville Street      Victoria   \n",
       "17   753.821845           1 Centennial Square      Victoria   \n",
       "15   639.121355              812 Wharf Street      Victoria   \n",
       "12   890.942819         501 Belleville Street      Victoria   \n",
       "11   644.804007                                    Victoria   \n",
       "6    458.395893        103 560 Johnson Street      Victoria   \n",
       "3    749.228911             Belleville Street      Victoria   \n",
       "2    974.702913         675 Belleville Street      Victoria   \n",
       "1   2391.132909            1050 Joan Crescent      Victoria   \n",
       "14   709.177548               189 Dallas Road      Victoria   \n",
       "10   721.888891         470 Belleville Street      Victoria   \n",
       "5    745.419764           631 Courtney Street      Victoria   \n",
       "19   823.171354         721 Government Street      Victoria   \n",
       "4    619.967442                     Chinatown      Victoria   \n",
       "22   602.833451             Belleville Street      Victoria   \n",
       "24   549.301694         254 Belleville Street      Victoria   \n",
       "7    578.293448                                    Victoria   \n",
       "\n",
       "                             location.display_address  \n",
       "13  [Circle Dr & Beacon Hill Loop, Victoria, BC V8...  \n",
       "23  [Fisherman's Wharf, 1 Dallas Road, Victoria, B...  \n",
       "18    [835 Humboldt St, Victoria, BC V8W 1T7, Canada]  \n",
       "16  [Creekhouse Building, Johnson St, Granville Is...  \n",
       "8         [100 Cook Street, Victoria, BC V8V, Canada]  \n",
       "9   [Cook Street Village, Victoria, BC V8V 3X0, Ca...  \n",
       "0   [649 Humboldt Street, Victoria, BC V8W 1A6, Ca...  \n",
       "21        [Dallas Road, Victoria, BC V8V 1A7, Canada]  \n",
       "20  [490 Belleville Street, Victoria, BC V8V 4W9, ...  \n",
       "17  [1 Centennial Square, Victoria, BC V8W 1P6, Ca...  \n",
       "15   [812 Wharf Street, Victoria, BC V8W 1T3, Canada]  \n",
       "12  [501 Belleville Street, Victoria, BC V8V 1X4, ...  \n",
       "11                             [Victoria, BC, Canada]  \n",
       "6   [103 560 Johnson Street, Victoria, BC V8W 3C6,...  \n",
       "3   [Belleville Street, Victoria, BC V8V 1X3, Canada]  \n",
       "2   [675 Belleville Street, Victoria, BC V8W 9W2, ...  \n",
       "1   [1050 Joan Crescent, Victoria, BC V8S 3L5, Can...  \n",
       "14    [189 Dallas Road, Victoria, BC V8V 1A1, Canada]  \n",
       "10  [470 Belleville Street, Victoria, BC V8V, Canada]  \n",
       "5   [631 Courtney Street, Victoria, BC V8W 1B8, Ca...  \n",
       "19  [721 Government Street, Victoria, BC V8W 1W5, ...  \n",
       "4           [Chinatown, Victoria, BC V8W 1R4, Canada]  \n",
       "22      [Belleville Street, Victoria, BC V8V, Canada]  \n",
       "24  [254 Belleville Street, Victoria, BC V8V 1W9, ...  \n",
       "7                              [Victoria, BC, Canada]  "
      ]
     },
     "execution_count": 199,
     "metadata": {},
     "output_type": "execute_result"
    }
   ],
   "source": [
    "attractions_yelp"
   ]
  },
  {
   "cell_type": "code",
   "execution_count": null,
   "metadata": {},
   "outputs": [],
   "source": []
  },
  {
   "cell_type": "code",
   "execution_count": null,
   "metadata": {
    "jupyter": {
     "source_hidden": true
    }
   },
   "outputs": [],
   "source": []
  },
  {
   "cell_type": "markdown",
   "metadata": {},
   "source": [
    "## Data Base"
   ]
  },
  {
   "cell_type": "code",
   "execution_count": 206,
   "metadata": {},
   "outputs": [],
   "source": [
    "att_yelp_df = attractions_yelp.applymap(str)"
   ]
  },
  {
   "cell_type": "code",
   "execution_count": 207,
   "metadata": {},
   "outputs": [],
   "source": [
    "brew_yelp_df= breweries_yelp.applymap(str)"
   ]
  },
  {
   "cell_type": "code",
   "execution_count": 208,
   "metadata": {},
   "outputs": [],
   "source": [
    "att_fs_df = attractions_foursquare.applymap(str)"
   ]
  },
  {
   "cell_type": "code",
   "execution_count": 209,
   "metadata": {},
   "outputs": [],
   "source": [
    "brew_fs_df = breweries_foursquare.applymap(str)"
   ]
  },
  {
   "cell_type": "code",
   "execution_count": null,
   "metadata": {},
   "outputs": [],
   "source": []
  },
  {
   "cell_type": "code",
   "execution_count": 210,
   "metadata": {},
   "outputs": [],
   "source": [
    "from sqlalchemy import create_engine"
   ]
  },
  {
   "cell_type": "code",
   "execution_count": 211,
   "metadata": {
    "collapsed": true,
    "jupyter": {
     "outputs_hidden": true
    }
   },
   "outputs": [
    {
     "name": "stdout",
     "output_type": "stream",
     "text": [
      "2021-05-06 17:12:02,211 INFO sqlalchemy.engine.base.Engine SELECT CAST('test plain returns' AS VARCHAR(60)) AS anon_1\n",
      "2021-05-06 17:12:02,211 INFO sqlalchemy.engine.base.Engine ()\n",
      "2021-05-06 17:12:02,212 INFO sqlalchemy.engine.base.Engine SELECT CAST('test unicode returns' AS VARCHAR(60)) AS anon_1\n",
      "2021-05-06 17:12:02,213 INFO sqlalchemy.engine.base.Engine ()\n"
     ]
    }
   ],
   "source": [
    "engine = create_engine('sqlite:///mini_project_2.db', echo=True) #change file name as desired\n",
    "sqlite_connection = engine.connect()"
   ]
  },
  {
   "cell_type": "code",
   "execution_count": 214,
   "metadata": {
    "collapsed": true,
    "jupyter": {
     "outputs_hidden": true
    }
   },
   "outputs": [
    {
     "name": "stdout",
     "output_type": "stream",
     "text": [
      "2021-05-06 17:13:38,316 INFO sqlalchemy.engine.base.Engine PRAGMA main.table_info(\"Yelp_Attractions\")\n",
      "2021-05-06 17:13:38,317 INFO sqlalchemy.engine.base.Engine ()\n",
      "2021-05-06 17:13:38,318 INFO sqlalchemy.engine.base.Engine PRAGMA main.table_info(\"Yelp_Attractions\")\n",
      "2021-05-06 17:13:38,319 INFO sqlalchemy.engine.base.Engine ()\n",
      "2021-05-06 17:13:38,320 INFO sqlalchemy.engine.base.Engine SELECT name FROM sqlite_master WHERE type='table' ORDER BY name\n",
      "2021-05-06 17:13:38,320 INFO sqlalchemy.engine.base.Engine ()\n",
      "2021-05-06 17:13:38,321 INFO sqlalchemy.engine.base.Engine PRAGMA main.table_xinfo(\"Yelp_Attractions\")\n",
      "2021-05-06 17:13:38,322 INFO sqlalchemy.engine.base.Engine ()\n",
      "2021-05-06 17:13:38,323 INFO sqlalchemy.engine.base.Engine SELECT sql FROM  (SELECT * FROM sqlite_master UNION ALL   SELECT * FROM sqlite_temp_master) WHERE name = ? AND type = 'table'\n",
      "2021-05-06 17:13:38,324 INFO sqlalchemy.engine.base.Engine ('Yelp_Attractions',)\n",
      "2021-05-06 17:13:38,325 INFO sqlalchemy.engine.base.Engine PRAGMA main.foreign_key_list(\"Yelp_Attractions\")\n",
      "2021-05-06 17:13:38,325 INFO sqlalchemy.engine.base.Engine ()\n",
      "2021-05-06 17:13:38,326 INFO sqlalchemy.engine.base.Engine PRAGMA temp.foreign_key_list(\"Yelp_Attractions\")\n",
      "2021-05-06 17:13:38,326 INFO sqlalchemy.engine.base.Engine ()\n",
      "2021-05-06 17:13:38,327 INFO sqlalchemy.engine.base.Engine SELECT sql FROM  (SELECT * FROM sqlite_master UNION ALL   SELECT * FROM sqlite_temp_master) WHERE name = ? AND type = 'table'\n",
      "2021-05-06 17:13:38,328 INFO sqlalchemy.engine.base.Engine ('Yelp_Attractions',)\n",
      "2021-05-06 17:13:38,330 INFO sqlalchemy.engine.base.Engine PRAGMA main.index_list(\"Yelp_Attractions\")\n",
      "2021-05-06 17:13:38,330 INFO sqlalchemy.engine.base.Engine ()\n",
      "2021-05-06 17:13:38,331 INFO sqlalchemy.engine.base.Engine PRAGMA main.index_info(\"ix_Yelp_Attractions_index\")\n",
      "2021-05-06 17:13:38,332 INFO sqlalchemy.engine.base.Engine ()\n",
      "2021-05-06 17:13:38,333 INFO sqlalchemy.engine.base.Engine PRAGMA main.index_list(\"Yelp_Attractions\")\n",
      "2021-05-06 17:13:38,333 INFO sqlalchemy.engine.base.Engine ()\n",
      "2021-05-06 17:13:38,334 INFO sqlalchemy.engine.base.Engine PRAGMA main.index_info(\"ix_Yelp_Attractions_index\")\n",
      "2021-05-06 17:13:38,335 INFO sqlalchemy.engine.base.Engine ()\n",
      "2021-05-06 17:13:38,336 INFO sqlalchemy.engine.base.Engine SELECT sql FROM  (SELECT * FROM sqlite_master UNION ALL   SELECT * FROM sqlite_temp_master) WHERE name = ? AND type = 'table'\n",
      "2021-05-06 17:13:38,336 INFO sqlalchemy.engine.base.Engine ('Yelp_Attractions',)\n",
      "2021-05-06 17:13:38,338 INFO sqlalchemy.engine.base.Engine \n",
      "DROP TABLE \"Yelp_Attractions\"\n",
      "2021-05-06 17:13:38,339 INFO sqlalchemy.engine.base.Engine ()\n",
      "2021-05-06 17:13:38,340 INFO sqlalchemy.engine.base.Engine COMMIT\n",
      "2021-05-06 17:13:38,341 INFO sqlalchemy.engine.base.Engine \n",
      "CREATE TABLE \"Yelp_Attractions\" (\n",
      "\t\"index\" BIGINT, \n",
      "\tname TEXT, \n",
      "\treview_count TEXT, \n",
      "\trating TEXT, \n",
      "\tdistance TEXT, \n",
      "\t\"location.address1\" TEXT, \n",
      "\t\"location.city\" TEXT, \n",
      "\t\"location.display_address\" TEXT\n",
      ")\n",
      "\n",
      "\n",
      "2021-05-06 17:13:38,342 INFO sqlalchemy.engine.base.Engine ()\n",
      "2021-05-06 17:13:38,344 INFO sqlalchemy.engine.base.Engine COMMIT\n",
      "2021-05-06 17:13:38,344 INFO sqlalchemy.engine.base.Engine CREATE INDEX \"ix_Yelp_Attractions_index\" ON \"Yelp_Attractions\" (\"index\")\n",
      "2021-05-06 17:13:38,345 INFO sqlalchemy.engine.base.Engine ()\n",
      "2021-05-06 17:13:38,346 INFO sqlalchemy.engine.base.Engine COMMIT\n",
      "2021-05-06 17:13:38,348 INFO sqlalchemy.engine.base.Engine BEGIN (implicit)\n",
      "2021-05-06 17:13:38,349 INFO sqlalchemy.engine.base.Engine INSERT INTO \"Yelp_Attractions\" (\"index\", name, review_count, rating, distance, \"location.address1\", \"location.city\", \"location.display_address\") VALUES (?, ?, ?, ?, ?, ?, ?, ?)\n",
      "2021-05-06 17:13:38,349 INFO sqlalchemy.engine.base.Engine ((13, \"Beacon Hill Children's Farm\", '28', '5.0', '1906.3295925091893', 'Circle Dr & Beacon Hill Loop', 'Victoria', \"['Circle Dr & Beacon Hill Loop', 'Victoria, BC V8V 4Z8', 'Canada']\"), (23, 'Eagle Wing Tours', '67', '5.0', '758.4130984659558', \"Fisherman's Wharf\", 'Victoria', '[\"Fisherman\\'s Wharf\", \\'1 Dallas Road\\', \\'Victoria, BC V8V 0B2\\', \\'Canada\\']'), (18, 'Luminara', '1', '5.0', '1205.283602588178', '835 Humboldt St', 'Victoria', \"['835 Humboldt St', 'Victoria, BC V8W 1T7', 'Canada']\"), (16, 'Ocean Art Works', '1', '5.0', '248.59171643865446', 'Creekhouse Building', 'Vancouver', \"['Creekhouse Building', 'Johnson St', 'Granville Island', 'Vancouver, BC', 'Canada']\"), (8, 'Beacon Hill Park', '65', '5.0', '1846.9962964548445', '100 Cook Street', 'Victoria', \"['100 Cook Street', 'Victoria, BC V8V', 'Canada']\"), (9, 'Tesla Tours', '4', '5.0', '1758.0087756436849', 'Cook Street Village', 'Victoria', \"['Cook Street Village', 'Victoria, BC V8V 3X0', 'Canada']\"), (0, 'Miniature World', '74', '4.5', '787.9697212534667', '649 Humboldt Street', 'Victoria', \"['649 Humboldt Street', 'Victoria, BC V8W 1A6', 'Canada']\"), (21, 'Ogden Point Breakwater', '4', '4.5', '2039.618435133854', 'Dallas Road', 'Victoria', \"['Dallas Road', 'Victoria, BC V8V 1A7', 'Canada']\")  ... displaying 10 of 25 total bound parameter sets ...  (24, 'Victoria Clipper', '74', '3.5', '549.3016938994308', '254 Belleville Street', 'Victoria', \"['254 Belleville Street', 'Victoria, BC V8V 1W9', 'Canada']\"), (7, 'Chinatown', '27', '3.0', '578.2934478046269', '', 'Victoria', \"['Victoria, BC', 'Canada']\"))\n",
      "2021-05-06 17:13:38,351 INFO sqlalchemy.engine.base.Engine COMMIT\n",
      "2021-05-06 17:13:38,352 INFO sqlalchemy.engine.base.Engine SELECT name FROM sqlite_master WHERE type='table' ORDER BY name\n",
      "2021-05-06 17:13:38,353 INFO sqlalchemy.engine.base.Engine ()\n"
     ]
    }
   ],
   "source": [
    "# put tables in db\n",
    "sqlite_table0 = \"Yelp_Attractions\"   #change table name as desired\n",
    "att_yelp_df.to_sql(sqlite_table0, sqlite_connection, if_exists='replace')"
   ]
  },
  {
   "cell_type": "code",
   "execution_count": 215,
   "metadata": {
    "collapsed": true,
    "jupyter": {
     "outputs_hidden": true
    }
   },
   "outputs": [
    {
     "name": "stdout",
     "output_type": "stream",
     "text": [
      "2021-05-06 17:13:47,598 INFO sqlalchemy.engine.base.Engine PRAGMA main.table_info(\"Foursquare_Attractions\")\n",
      "2021-05-06 17:13:47,600 INFO sqlalchemy.engine.base.Engine ()\n",
      "2021-05-06 17:13:47,601 INFO sqlalchemy.engine.base.Engine PRAGMA temp.table_info(\"Foursquare_Attractions\")\n",
      "2021-05-06 17:13:47,601 INFO sqlalchemy.engine.base.Engine ()\n",
      "2021-05-06 17:13:47,603 INFO sqlalchemy.engine.base.Engine \n",
      "CREATE TABLE \"Foursquare_Attractions\" (\n",
      "\t\"index\" BIGINT, \n",
      "\tid TEXT, \n",
      "\tname TEXT, \n",
      "\t\"location.address\" TEXT, \n",
      "\t\"location.crossStreet\" TEXT, \n",
      "\t\"location.distance\" TEXT, \n",
      "\t\"location.city\" TEXT, \n",
      "\t\"location.formattedAddress\" TEXT, \n",
      "\trating TEXT\n",
      ")\n",
      "\n",
      "\n",
      "2021-05-06 17:13:47,604 INFO sqlalchemy.engine.base.Engine ()\n",
      "2021-05-06 17:13:47,607 INFO sqlalchemy.engine.base.Engine COMMIT\n",
      "2021-05-06 17:13:47,608 INFO sqlalchemy.engine.base.Engine CREATE INDEX \"ix_Foursquare_Attractions_index\" ON \"Foursquare_Attractions\" (\"index\")\n",
      "2021-05-06 17:13:47,608 INFO sqlalchemy.engine.base.Engine ()\n",
      "2021-05-06 17:13:47,610 INFO sqlalchemy.engine.base.Engine COMMIT\n",
      "2021-05-06 17:13:47,612 INFO sqlalchemy.engine.base.Engine BEGIN (implicit)\n",
      "2021-05-06 17:13:47,614 INFO sqlalchemy.engine.base.Engine INSERT INTO \"Foursquare_Attractions\" (\"index\", id, name, \"location.address\", \"location.crossStreet\", \"location.distance\", \"location.city\", \"location.formattedAddress\", rating) VALUES (?, ?, ?, ?, ?, ?, ?, ?, ?)\n",
      "2021-05-06 17:13:47,614 INFO sqlalchemy.engine.base.Engine ((10, '4e0109d0b61c1fbe8dfc5888', 'Dallas Road Beach', 'Dallas Rd.', 'at Boyd St.', '1609', 'Victoria', \"['Dallas Rd. (at Boyd St.)', 'Victoria BC', 'Canada']\", '9.3'), (4, '4b4a3c82f964a520168026e3', 'Beacon Hill Park', 'Douglas St.', 'at Circle Dr.', '1898', 'Victoria', \"['Douglas St. (at Circle Dr.)', 'Victoria BC', 'Canada']\", '9.2'), (7, '4b4a33e7f964a5207a7e26e3', 'Ogden Point Breakwater', 'Dallas Rd.', 'at Dock St', '1595', 'Victoria', \"['Dallas Rd. (at Dock St)', 'Victoria BC', 'Canada']\", '9.0'), (19, '4c4e33ecea24c9b6b32d4315', 'Government House', '1401 Rockland Ave', 'at Joan Cr', '2550', 'Victoria', \"['1401 Rockland Ave (at Joan Cr)', 'Victoria BC V8S 1V9', 'Canada']\", '8.3'), (13, '4b6dbf9ff964a520248c2ce3', 'Macaulay Point Park', 'nan', 'nan', '2688', 'nan', \"['Canada']\", '8.2'), (17, '4b96b7fcf964a52012e034e3', 'Craigdarroch Castle', '1050 Joan Cres', 'at Craigdarroch Rd', '2357', 'Victoria', \"['1050 Joan Cres (at Craigdarroch Rd)', 'Victoria BC V8S 3L5', 'Canada']\", '8.0'), (11, '4bcb7c96b6c49c74eb569291', 'Summit Park', 'nan', 'nan', '2594', 'nan', \"['Canada']\", '7.8'), (18, '4b591f84f964a520c37d28e3', 'YMCA-YWCA of Greater Victoria', '851 Broughton Street', 'Quadra', '1174', 'Victoria', \"['851 Broughton Street (Quadra)', 'Victoria BC V8W 1E5', 'Canada']\", '7.6')  ... displaying 10 of 22 total bound parameter sets ...  (16, '4db34dcbfa8c350240cb3f88', 'Bay Bridge', 'nan', 'nan', '925', 'Victoria', \"['Victoria BC', 'Canada']\", 'nan'), (20, '4ca8a17176d3a093038c176b', 'Dallas Road Off Leash Dog Area', 'nan', 'nan', '2281', 'nan', \"['Canada']\", 'nan'))\n",
      "2021-05-06 17:13:47,616 INFO sqlalchemy.engine.base.Engine COMMIT\n",
      "2021-05-06 17:13:47,617 INFO sqlalchemy.engine.base.Engine SELECT name FROM sqlite_master WHERE type='table' ORDER BY name\n",
      "2021-05-06 17:13:47,618 INFO sqlalchemy.engine.base.Engine ()\n"
     ]
    }
   ],
   "source": [
    "sqlite_table1 = \"Foursquare_Attractions\"   #change table name as desired\n",
    "att_fs_df.to_sql(sqlite_table1, sqlite_connection, if_exists='fail')"
   ]
  },
  {
   "cell_type": "code",
   "execution_count": 216,
   "metadata": {
    "collapsed": true,
    "jupyter": {
     "outputs_hidden": true
    }
   },
   "outputs": [
    {
     "name": "stdout",
     "output_type": "stream",
     "text": [
      "2021-05-06 17:13:52,290 INFO sqlalchemy.engine.base.Engine PRAGMA main.table_info(\"Yelp_Breweries\")\n",
      "2021-05-06 17:13:52,291 INFO sqlalchemy.engine.base.Engine ()\n",
      "2021-05-06 17:13:52,292 INFO sqlalchemy.engine.base.Engine PRAGMA temp.table_info(\"Yelp_Breweries\")\n",
      "2021-05-06 17:13:52,293 INFO sqlalchemy.engine.base.Engine ()\n",
      "2021-05-06 17:13:52,294 INFO sqlalchemy.engine.base.Engine \n",
      "CREATE TABLE \"Yelp_Breweries\" (\n",
      "\t\"index\" BIGINT, \n",
      "\tname TEXT, \n",
      "\treview_count TEXT, \n",
      "\trating TEXT, \n",
      "\tprice TEXT, \n",
      "\tdistance TEXT, \n",
      "\t\"location.address1\" TEXT, \n",
      "\t\"location.city\" TEXT, \n",
      "\t\"location.display_address\" TEXT\n",
      ")\n",
      "\n",
      "\n",
      "2021-05-06 17:13:52,295 INFO sqlalchemy.engine.base.Engine ()\n",
      "2021-05-06 17:13:52,296 INFO sqlalchemy.engine.base.Engine COMMIT\n",
      "2021-05-06 17:13:52,297 INFO sqlalchemy.engine.base.Engine CREATE INDEX \"ix_Yelp_Breweries_index\" ON \"Yelp_Breweries\" (\"index\")\n",
      "2021-05-06 17:13:52,297 INFO sqlalchemy.engine.base.Engine ()\n",
      "2021-05-06 17:13:52,299 INFO sqlalchemy.engine.base.Engine COMMIT\n",
      "2021-05-06 17:13:52,300 INFO sqlalchemy.engine.base.Engine BEGIN (implicit)\n",
      "2021-05-06 17:13:52,301 INFO sqlalchemy.engine.base.Engine INSERT INTO \"Yelp_Breweries\" (\"index\", name, review_count, rating, price, distance, \"location.address1\", \"location.city\", \"location.display_address\") VALUES (?, ?, ?, ?, ?, ?, ?, ?, ?)\n",
      "2021-05-06 17:13:52,302 INFO sqlalchemy.engine.base.Engine ((7, 'Île Sauvage Brewing Company', '8', '5.0', 'nan', '1445.76490617695', '2960 Bridge Street', 'Victoria', \"['2960 Bridge Street', 'Victoria, BC V8T 4T3', 'Canada']\"), (1, 'Driftwood Brewery', '16', '5.0', '$', '1117.8385216462293', '102 450 Hillside Avenue', 'Victoria', \"['102 450 Hillside Avenue', 'Victoria, BC V8T 1Y7', 'Canada']\"), (13, 'West Coast Brewery Tour', '1', '5.0', 'nan', '532.5027083535347', '254 Belleville Street', 'Victoria', \"['254 Belleville Street', 'Victoria, BC V8V 1W9', 'Canada']\"), (0, 'Phillips Brewing Company', '58', '4.5', '$', '790.066492967384', '2010 Government Street', 'Victoria', \"['2010 Government Street', 'Victoria, BC V8T 1H3', 'Canada']\"), (2, 'Whistle Buoy', '5', '4.5', 'nan', '421.5820051724079', '560 Johnson Street', 'Victoria', \"['560 Johnson Street', 'Unit 63', 'Victoria, BC V8W 3C6', 'Canada']\"), (3, 'Vancouver Island Brewing', '31', '4.5', '$', '1033.6443300422995', '2330 Government Street', 'Victoria', \"['2330 Government Street', 'Victoria, BC V8T 5G5', 'Canada']\"), (23, 'Hanks A Restaurant', '92', '4.5', '$$', '788.5619294379223', '1001 Douglas Street', 'Victoria', \"['1001 Douglas Street', 'Unit G2A', 'Victoria, BC V8W 2C5', 'Canada']\"), (18, \"Finn's Seafood Chops Cocktails\", '92', '4.5', '$$', '339.4905395026951', '1208 Wharf Street', 'Victoria', \"['1208 Wharf Street', 'Victoria, BC V8W 1T9', 'Canada']\")  ... displaying 10 of 25 total bound parameter sets ...  (4, 'Canoe Brewpub Marina & Restaurant', '184', '3.5', '$$', '447.2458208185448', '450 Swift Street', 'Victoria', \"['450 Swift Street', 'Victoria, BC V8W 1S3', 'Canada']\"), (10, 'Phillips Brewery Tasting Room', '1', '2.0', 'nan', '726.6250187811424', '2010 Government Street', 'Victoria', \"['2010 Government Street', 'Victoria, BC V8T 4P1', 'Canada']\"))\n",
      "2021-05-06 17:13:52,304 INFO sqlalchemy.engine.base.Engine COMMIT\n",
      "2021-05-06 17:13:52,306 INFO sqlalchemy.engine.base.Engine SELECT name FROM sqlite_master WHERE type='table' ORDER BY name\n",
      "2021-05-06 17:13:52,306 INFO sqlalchemy.engine.base.Engine ()\n"
     ]
    }
   ],
   "source": [
    "sqlite_table2 = \"Yelp_Breweries\"   #change table name as desired\n",
    "brew_yelp_df.to_sql(sqlite_table2, sqlite_connection, if_exists='fail')"
   ]
  },
  {
   "cell_type": "code",
   "execution_count": 217,
   "metadata": {
    "collapsed": true,
    "jupyter": {
     "outputs_hidden": true
    }
   },
   "outputs": [
    {
     "name": "stdout",
     "output_type": "stream",
     "text": [
      "2021-05-06 17:13:56,215 INFO sqlalchemy.engine.base.Engine PRAGMA main.table_info(\"Foursquare_Breweries\")\n",
      "2021-05-06 17:13:56,216 INFO sqlalchemy.engine.base.Engine ()\n",
      "2021-05-06 17:13:56,217 INFO sqlalchemy.engine.base.Engine PRAGMA temp.table_info(\"Foursquare_Breweries\")\n",
      "2021-05-06 17:13:56,218 INFO sqlalchemy.engine.base.Engine ()\n",
      "2021-05-06 17:13:56,219 INFO sqlalchemy.engine.base.Engine \n",
      "CREATE TABLE \"Foursquare_Breweries\" (\n",
      "\t\"index\" BIGINT, \n",
      "\tname TEXT, \n",
      "\t\"location.address\" TEXT, \n",
      "\t\"location.crossStreet\" TEXT, \n",
      "\t\"location.distance\" TEXT, \n",
      "\t\"location.city\" TEXT, \n",
      "\t\"location.formattedAddress\" TEXT, \n",
      "\trating TEXT\n",
      ")\n",
      "\n",
      "\n",
      "2021-05-06 17:13:56,220 INFO sqlalchemy.engine.base.Engine ()\n",
      "2021-05-06 17:13:56,221 INFO sqlalchemy.engine.base.Engine COMMIT\n",
      "2021-05-06 17:13:56,222 INFO sqlalchemy.engine.base.Engine CREATE INDEX \"ix_Foursquare_Breweries_index\" ON \"Foursquare_Breweries\" (\"index\")\n",
      "2021-05-06 17:13:56,222 INFO sqlalchemy.engine.base.Engine ()\n",
      "2021-05-06 17:13:56,224 INFO sqlalchemy.engine.base.Engine COMMIT\n",
      "2021-05-06 17:13:56,225 INFO sqlalchemy.engine.base.Engine BEGIN (implicit)\n",
      "2021-05-06 17:13:56,226 INFO sqlalchemy.engine.base.Engine INSERT INTO \"Foursquare_Breweries\" (\"index\", name, \"location.address\", \"location.crossStreet\", \"location.distance\", \"location.city\", \"location.formattedAddress\", rating) VALUES (?, ?, ?, ?, ?, ?, ?, ?)\n",
      "2021-05-06 17:13:56,227 INFO sqlalchemy.engine.base.Engine ((0, 'Phillips Backyard (at Phillips Brewery)', 'nan', 'nan', '845', 'Victoria', \"['Victoria BC', 'Canada']\", '8.8'), (6, 'Phillips Brewing Co.', '2010 Government St', 'Discovery St', '802', 'Victoria', \"['2010 Government St (Discovery St)', 'Victoria BC V8T 4P1', 'Canada']\", '8.8'), (3, 'Driftwood Brewery', '102-450 Hillside Ave.', 'nan', '1115', 'Victoria', \"['102-450 Hillside Ave.', 'Victoria BC V8T 1Y7', 'Canada']\", '8.4'), (2, 'Moon Under Water Pub & Brewery', '350B Bay St.', 'btwn Pleasant & Turner St.', '908', 'Victoria', \"['350B Bay St. (btwn Pleasant & Turner St.)', 'Victoria BC V8T 1P7', 'Canada']\", '8.3'), (1, 'Vancouver Island Brewery', '2330 Government St', 'at Bay St', '1021', 'Victoria', \"['2330 Government St (at Bay St)', 'Victoria BC V8T 5G5', 'Canada']\", '7.5'), (4, 'Swans Hotel', '506 Pandora Ave', 'at Wharf St', '435', 'Victoria', \"['506 Pandora Ave (at Wharf St)', 'Victoria BC', 'Canada']\", '7.5'), (5, 'Swans Brewpub', '506 Pandora Ave', 'at Wharf St', '434', 'Victoria', \"['506 Pandora Ave (at Wharf St)', 'Victoria BC V8W 1N6', 'Canada']\", '7.5'), (7, 'Lighthouse Brewing', '836 Devonshire Rd', 'nan', '1901', 'Victoria', \"['836 Devonshire Rd', 'Victoria BC', 'Canada']\", 'nan'))\n",
      "2021-05-06 17:13:56,229 INFO sqlalchemy.engine.base.Engine COMMIT\n",
      "2021-05-06 17:13:56,230 INFO sqlalchemy.engine.base.Engine SELECT name FROM sqlite_master WHERE type='table' ORDER BY name\n",
      "2021-05-06 17:13:56,230 INFO sqlalchemy.engine.base.Engine ()\n"
     ]
    }
   ],
   "source": [
    "sqlite_table3 = \"Foursquare_Breweries\"   #change table name as desired\n",
    "brew_fs_df.to_sql(sqlite_table3, sqlite_connection, if_exists='fail')"
   ]
  },
  {
   "cell_type": "code",
   "execution_count": 218,
   "metadata": {},
   "outputs": [],
   "source": [
    "sqlite_connection.close() #make sure you close the connection when done inserting data"
   ]
  },
  {
   "cell_type": "code",
   "execution_count": null,
   "metadata": {},
   "outputs": [],
   "source": []
  },
  {
   "cell_type": "code",
   "execution_count": null,
   "metadata": {},
   "outputs": [],
   "source": []
  },
  {
   "cell_type": "markdown",
   "metadata": {},
   "source": [
    "# Results"
   ]
  },
  {
   "cell_type": "code",
   "execution_count": 229,
   "metadata": {},
   "outputs": [
    {
     "data": {
      "text/html": [
       "<div>\n",
       "<style scoped>\n",
       "    .dataframe tbody tr th:only-of-type {\n",
       "        vertical-align: middle;\n",
       "    }\n",
       "\n",
       "    .dataframe tbody tr th {\n",
       "        vertical-align: top;\n",
       "    }\n",
       "\n",
       "    .dataframe thead th {\n",
       "        text-align: right;\n",
       "    }\n",
       "</style>\n",
       "<table border=\"1\" class=\"dataframe\">\n",
       "  <thead>\n",
       "    <tr style=\"text-align: right;\">\n",
       "      <th></th>\n",
       "      <th>name</th>\n",
       "      <th>review_count</th>\n",
       "      <th>rating</th>\n",
       "      <th>distance</th>\n",
       "      <th>location.address1</th>\n",
       "      <th>location.city</th>\n",
       "      <th>location.display_address</th>\n",
       "    </tr>\n",
       "  </thead>\n",
       "  <tbody>\n",
       "    <tr>\n",
       "      <th>13</th>\n",
       "      <td>Beacon Hill Children's Farm</td>\n",
       "      <td>28</td>\n",
       "      <td>5.0</td>\n",
       "      <td>1906.329593</td>\n",
       "      <td>Circle Dr &amp; Beacon Hill Loop</td>\n",
       "      <td>Victoria</td>\n",
       "      <td>[Circle Dr &amp; Beacon Hill Loop, Victoria, BC V8...</td>\n",
       "    </tr>\n",
       "    <tr>\n",
       "      <th>23</th>\n",
       "      <td>Eagle Wing Tours</td>\n",
       "      <td>67</td>\n",
       "      <td>5.0</td>\n",
       "      <td>758.413098</td>\n",
       "      <td>Fisherman's Wharf</td>\n",
       "      <td>Victoria</td>\n",
       "      <td>[Fisherman's Wharf, 1 Dallas Road, Victoria, B...</td>\n",
       "    </tr>\n",
       "    <tr>\n",
       "      <th>18</th>\n",
       "      <td>Luminara</td>\n",
       "      <td>1</td>\n",
       "      <td>5.0</td>\n",
       "      <td>1205.283603</td>\n",
       "      <td>835 Humboldt St</td>\n",
       "      <td>Victoria</td>\n",
       "      <td>[835 Humboldt St, Victoria, BC V8W 1T7, Canada]</td>\n",
       "    </tr>\n",
       "    <tr>\n",
       "      <th>16</th>\n",
       "      <td>Ocean Art Works</td>\n",
       "      <td>1</td>\n",
       "      <td>5.0</td>\n",
       "      <td>248.591716</td>\n",
       "      <td>Creekhouse Building</td>\n",
       "      <td>Vancouver</td>\n",
       "      <td>[Creekhouse Building, Johnson St, Granville Is...</td>\n",
       "    </tr>\n",
       "    <tr>\n",
       "      <th>8</th>\n",
       "      <td>Beacon Hill Park</td>\n",
       "      <td>65</td>\n",
       "      <td>5.0</td>\n",
       "      <td>1846.996296</td>\n",
       "      <td>100 Cook Street</td>\n",
       "      <td>Victoria</td>\n",
       "      <td>[100 Cook Street, Victoria, BC V8V, Canada]</td>\n",
       "    </tr>\n",
       "    <tr>\n",
       "      <th>9</th>\n",
       "      <td>Tesla Tours</td>\n",
       "      <td>4</td>\n",
       "      <td>5.0</td>\n",
       "      <td>1758.008776</td>\n",
       "      <td>Cook Street Village</td>\n",
       "      <td>Victoria</td>\n",
       "      <td>[Cook Street Village, Victoria, BC V8V 3X0, Ca...</td>\n",
       "    </tr>\n",
       "    <tr>\n",
       "      <th>0</th>\n",
       "      <td>Miniature World</td>\n",
       "      <td>74</td>\n",
       "      <td>4.5</td>\n",
       "      <td>787.969721</td>\n",
       "      <td>649 Humboldt Street</td>\n",
       "      <td>Victoria</td>\n",
       "      <td>[649 Humboldt Street, Victoria, BC V8W 1A6, Ca...</td>\n",
       "    </tr>\n",
       "    <tr>\n",
       "      <th>21</th>\n",
       "      <td>Ogden Point Breakwater</td>\n",
       "      <td>4</td>\n",
       "      <td>4.5</td>\n",
       "      <td>2039.618435</td>\n",
       "      <td>Dallas Road</td>\n",
       "      <td>Victoria</td>\n",
       "      <td>[Dallas Road, Victoria, BC V8V 1A7, Canada]</td>\n",
       "    </tr>\n",
       "    <tr>\n",
       "      <th>20</th>\n",
       "      <td>Tally-Ho Carriage Tours</td>\n",
       "      <td>16</td>\n",
       "      <td>4.5</td>\n",
       "      <td>757.658954</td>\n",
       "      <td>490 Belleville Street</td>\n",
       "      <td>Victoria</td>\n",
       "      <td>[490 Belleville Street, Victoria, BC V8V 4W9, ...</td>\n",
       "    </tr>\n",
       "    <tr>\n",
       "      <th>17</th>\n",
       "      <td>Victoria City Hall</td>\n",
       "      <td>9</td>\n",
       "      <td>4.5</td>\n",
       "      <td>753.821845</td>\n",
       "      <td>1 Centennial Square</td>\n",
       "      <td>Victoria</td>\n",
       "      <td>[1 Centennial Square, Victoria, BC V8W 1P6, Ca...</td>\n",
       "    </tr>\n",
       "    <tr>\n",
       "      <th>15</th>\n",
       "      <td>Prince of Whales</td>\n",
       "      <td>70</td>\n",
       "      <td>4.5</td>\n",
       "      <td>639.121355</td>\n",
       "      <td>812 Wharf Street</td>\n",
       "      <td>Victoria</td>\n",
       "      <td>[812 Wharf Street, Victoria, BC V8W 1T3, Canada]</td>\n",
       "    </tr>\n",
       "    <tr>\n",
       "      <th>12</th>\n",
       "      <td>Legislative Assembly of British Columbia</td>\n",
       "      <td>33</td>\n",
       "      <td>4.5</td>\n",
       "      <td>890.942819</td>\n",
       "      <td>501 Belleville Street</td>\n",
       "      <td>Victoria</td>\n",
       "      <td>[501 Belleville Street, Victoria, BC V8V 1X4, ...</td>\n",
       "    </tr>\n",
       "    <tr>\n",
       "      <th>11</th>\n",
       "      <td>Inner Harbour</td>\n",
       "      <td>13</td>\n",
       "      <td>4.5</td>\n",
       "      <td>644.804007</td>\n",
       "      <td></td>\n",
       "      <td>Victoria</td>\n",
       "      <td>[Victoria, BC, Canada]</td>\n",
       "    </tr>\n",
       "    <tr>\n",
       "      <th>6</th>\n",
       "      <td>Little Shop Of Strange</td>\n",
       "      <td>3</td>\n",
       "      <td>4.5</td>\n",
       "      <td>458.395893</td>\n",
       "      <td>103 560 Johnson Street</td>\n",
       "      <td>Victoria</td>\n",
       "      <td>[103 560 Johnson Street, Victoria, BC V8W 3C6,...</td>\n",
       "    </tr>\n",
       "    <tr>\n",
       "      <th>3</th>\n",
       "      <td>Parliament Buildings</td>\n",
       "      <td>27</td>\n",
       "      <td>4.5</td>\n",
       "      <td>749.228911</td>\n",
       "      <td>Belleville Street</td>\n",
       "      <td>Victoria</td>\n",
       "      <td>[Belleville Street, Victoria, BC V8V 1X3, Canada]</td>\n",
       "    </tr>\n",
       "    <tr>\n",
       "      <th>2</th>\n",
       "      <td>Royal British Columbia Museum</td>\n",
       "      <td>151</td>\n",
       "      <td>4.5</td>\n",
       "      <td>974.702913</td>\n",
       "      <td>675 Belleville Street</td>\n",
       "      <td>Victoria</td>\n",
       "      <td>[675 Belleville Street, Victoria, BC V8W 9W2, ...</td>\n",
       "    </tr>\n",
       "    <tr>\n",
       "      <th>1</th>\n",
       "      <td>Craigdarroch Castle</td>\n",
       "      <td>127</td>\n",
       "      <td>4.0</td>\n",
       "      <td>2391.132909</td>\n",
       "      <td>1050 Joan Crescent</td>\n",
       "      <td>Victoria</td>\n",
       "      <td>[1050 Joan Crescent, Victoria, BC V8S 3L5, Can...</td>\n",
       "    </tr>\n",
       "    <tr>\n",
       "      <th>14</th>\n",
       "      <td>Victoria Harbour Ferry</td>\n",
       "      <td>28</td>\n",
       "      <td>4.0</td>\n",
       "      <td>709.177548</td>\n",
       "      <td>189 Dallas Road</td>\n",
       "      <td>Victoria</td>\n",
       "      <td>[189 Dallas Road, Victoria, BC V8V 1A1, Canada]</td>\n",
       "    </tr>\n",
       "    <tr>\n",
       "      <th>10</th>\n",
       "      <td>Steamship Terminal</td>\n",
       "      <td>1</td>\n",
       "      <td>4.0</td>\n",
       "      <td>721.888891</td>\n",
       "      <td>470 Belleville Street</td>\n",
       "      <td>Victoria</td>\n",
       "      <td>[470 Belleville Street, Victoria, BC V8V, Canada]</td>\n",
       "    </tr>\n",
       "    <tr>\n",
       "      <th>5</th>\n",
       "      <td>Victoria Bug Zoo</td>\n",
       "      <td>96</td>\n",
       "      <td>4.0</td>\n",
       "      <td>745.419764</td>\n",
       "      <td>631 Courtney Street</td>\n",
       "      <td>Victoria</td>\n",
       "      <td>[631 Courtney Street, Victoria, BC V8W 1B8, Ca...</td>\n",
       "    </tr>\n",
       "    <tr>\n",
       "      <th>19</th>\n",
       "      <td>Fairmont Empress</td>\n",
       "      <td>380</td>\n",
       "      <td>4.0</td>\n",
       "      <td>823.171354</td>\n",
       "      <td>721 Government Street</td>\n",
       "      <td>Victoria</td>\n",
       "      <td>[721 Government Street, Victoria, BC V8W 1W5, ...</td>\n",
       "    </tr>\n",
       "    <tr>\n",
       "      <th>4</th>\n",
       "      <td>Fan Tan Alley</td>\n",
       "      <td>24</td>\n",
       "      <td>4.0</td>\n",
       "      <td>619.967442</td>\n",
       "      <td>Chinatown</td>\n",
       "      <td>Victoria</td>\n",
       "      <td>[Chinatown, Victoria, BC V8W 1R4, Canada]</td>\n",
       "    </tr>\n",
       "    <tr>\n",
       "      <th>22</th>\n",
       "      <td>Quadra Park</td>\n",
       "      <td>1</td>\n",
       "      <td>4.0</td>\n",
       "      <td>602.833451</td>\n",
       "      <td>Belleville Street</td>\n",
       "      <td>Victoria</td>\n",
       "      <td>[Belleville Street, Victoria, BC V8V, Canada]</td>\n",
       "    </tr>\n",
       "    <tr>\n",
       "      <th>24</th>\n",
       "      <td>Victoria Clipper</td>\n",
       "      <td>74</td>\n",
       "      <td>3.5</td>\n",
       "      <td>549.301694</td>\n",
       "      <td>254 Belleville Street</td>\n",
       "      <td>Victoria</td>\n",
       "      <td>[254 Belleville Street, Victoria, BC V8V 1W9, ...</td>\n",
       "    </tr>\n",
       "    <tr>\n",
       "      <th>7</th>\n",
       "      <td>Chinatown</td>\n",
       "      <td>27</td>\n",
       "      <td>3.0</td>\n",
       "      <td>578.293448</td>\n",
       "      <td></td>\n",
       "      <td>Victoria</td>\n",
       "      <td>[Victoria, BC, Canada]</td>\n",
       "    </tr>\n",
       "  </tbody>\n",
       "</table>\n",
       "</div>"
      ],
      "text/plain": [
       "                                        name  review_count  rating  \\\n",
       "13               Beacon Hill Children's Farm            28     5.0   \n",
       "23                          Eagle Wing Tours            67     5.0   \n",
       "18                                  Luminara             1     5.0   \n",
       "16                           Ocean Art Works             1     5.0   \n",
       "8                           Beacon Hill Park            65     5.0   \n",
       "9                                Tesla Tours             4     5.0   \n",
       "0                            Miniature World            74     4.5   \n",
       "21                    Ogden Point Breakwater             4     4.5   \n",
       "20                   Tally-Ho Carriage Tours            16     4.5   \n",
       "17                        Victoria City Hall             9     4.5   \n",
       "15                          Prince of Whales            70     4.5   \n",
       "12  Legislative Assembly of British Columbia            33     4.5   \n",
       "11                             Inner Harbour            13     4.5   \n",
       "6                     Little Shop Of Strange             3     4.5   \n",
       "3                       Parliament Buildings            27     4.5   \n",
       "2              Royal British Columbia Museum           151     4.5   \n",
       "1                        Craigdarroch Castle           127     4.0   \n",
       "14                    Victoria Harbour Ferry            28     4.0   \n",
       "10                        Steamship Terminal             1     4.0   \n",
       "5                           Victoria Bug Zoo            96     4.0   \n",
       "19                          Fairmont Empress           380     4.0   \n",
       "4                              Fan Tan Alley            24     4.0   \n",
       "22                               Quadra Park             1     4.0   \n",
       "24                          Victoria Clipper            74     3.5   \n",
       "7                                  Chinatown            27     3.0   \n",
       "\n",
       "       distance             location.address1 location.city  \\\n",
       "13  1906.329593  Circle Dr & Beacon Hill Loop      Victoria   \n",
       "23   758.413098             Fisherman's Wharf      Victoria   \n",
       "18  1205.283603               835 Humboldt St      Victoria   \n",
       "16   248.591716           Creekhouse Building     Vancouver   \n",
       "8   1846.996296               100 Cook Street      Victoria   \n",
       "9   1758.008776           Cook Street Village      Victoria   \n",
       "0    787.969721           649 Humboldt Street      Victoria   \n",
       "21  2039.618435                   Dallas Road      Victoria   \n",
       "20   757.658954         490 Belleville Street      Victoria   \n",
       "17   753.821845           1 Centennial Square      Victoria   \n",
       "15   639.121355              812 Wharf Street      Victoria   \n",
       "12   890.942819         501 Belleville Street      Victoria   \n",
       "11   644.804007                                    Victoria   \n",
       "6    458.395893        103 560 Johnson Street      Victoria   \n",
       "3    749.228911             Belleville Street      Victoria   \n",
       "2    974.702913         675 Belleville Street      Victoria   \n",
       "1   2391.132909            1050 Joan Crescent      Victoria   \n",
       "14   709.177548               189 Dallas Road      Victoria   \n",
       "10   721.888891         470 Belleville Street      Victoria   \n",
       "5    745.419764           631 Courtney Street      Victoria   \n",
       "19   823.171354         721 Government Street      Victoria   \n",
       "4    619.967442                     Chinatown      Victoria   \n",
       "22   602.833451             Belleville Street      Victoria   \n",
       "24   549.301694         254 Belleville Street      Victoria   \n",
       "7    578.293448                                    Victoria   \n",
       "\n",
       "                             location.display_address  \n",
       "13  [Circle Dr & Beacon Hill Loop, Victoria, BC V8...  \n",
       "23  [Fisherman's Wharf, 1 Dallas Road, Victoria, B...  \n",
       "18    [835 Humboldt St, Victoria, BC V8W 1T7, Canada]  \n",
       "16  [Creekhouse Building, Johnson St, Granville Is...  \n",
       "8         [100 Cook Street, Victoria, BC V8V, Canada]  \n",
       "9   [Cook Street Village, Victoria, BC V8V 3X0, Ca...  \n",
       "0   [649 Humboldt Street, Victoria, BC V8W 1A6, Ca...  \n",
       "21        [Dallas Road, Victoria, BC V8V 1A7, Canada]  \n",
       "20  [490 Belleville Street, Victoria, BC V8V 4W9, ...  \n",
       "17  [1 Centennial Square, Victoria, BC V8W 1P6, Ca...  \n",
       "15   [812 Wharf Street, Victoria, BC V8W 1T3, Canada]  \n",
       "12  [501 Belleville Street, Victoria, BC V8V 1X4, ...  \n",
       "11                             [Victoria, BC, Canada]  \n",
       "6   [103 560 Johnson Street, Victoria, BC V8W 3C6,...  \n",
       "3   [Belleville Street, Victoria, BC V8V 1X3, Canada]  \n",
       "2   [675 Belleville Street, Victoria, BC V8W 9W2, ...  \n",
       "1   [1050 Joan Crescent, Victoria, BC V8S 3L5, Can...  \n",
       "14    [189 Dallas Road, Victoria, BC V8V 1A1, Canada]  \n",
       "10  [470 Belleville Street, Victoria, BC V8V, Canada]  \n",
       "5   [631 Courtney Street, Victoria, BC V8W 1B8, Ca...  \n",
       "19  [721 Government Street, Victoria, BC V8W 1W5, ...  \n",
       "4           [Chinatown, Victoria, BC V8W 1R4, Canada]  \n",
       "22      [Belleville Street, Victoria, BC V8V, Canada]  \n",
       "24  [254 Belleville Street, Victoria, BC V8V 1W9, ...  \n",
       "7                              [Victoria, BC, Canada]  "
      ]
     },
     "execution_count": 229,
     "metadata": {},
     "output_type": "execute_result"
    }
   ],
   "source": [
    "attractions_yelp"
   ]
  },
  {
   "cell_type": "code",
   "execution_count": 230,
   "metadata": {},
   "outputs": [
    {
     "data": {
      "text/html": [
       "<div>\n",
       "<style scoped>\n",
       "    .dataframe tbody tr th:only-of-type {\n",
       "        vertical-align: middle;\n",
       "    }\n",
       "\n",
       "    .dataframe tbody tr th {\n",
       "        vertical-align: top;\n",
       "    }\n",
       "\n",
       "    .dataframe thead th {\n",
       "        text-align: right;\n",
       "    }\n",
       "</style>\n",
       "<table border=\"1\" class=\"dataframe\">\n",
       "  <thead>\n",
       "    <tr style=\"text-align: right;\">\n",
       "      <th></th>\n",
       "      <th>id</th>\n",
       "      <th>name</th>\n",
       "      <th>location.address</th>\n",
       "      <th>location.crossStreet</th>\n",
       "      <th>location.distance</th>\n",
       "      <th>location.city</th>\n",
       "      <th>location.formattedAddress</th>\n",
       "      <th>rating</th>\n",
       "    </tr>\n",
       "  </thead>\n",
       "  <tbody>\n",
       "    <tr>\n",
       "      <th>10</th>\n",
       "      <td>4e0109d0b61c1fbe8dfc5888</td>\n",
       "      <td>Dallas Road Beach</td>\n",
       "      <td>Dallas Rd.</td>\n",
       "      <td>at Boyd St.</td>\n",
       "      <td>1609</td>\n",
       "      <td>Victoria</td>\n",
       "      <td>[Dallas Rd. (at Boyd St.), Victoria BC, Canada]</td>\n",
       "      <td>9.3</td>\n",
       "    </tr>\n",
       "    <tr>\n",
       "      <th>4</th>\n",
       "      <td>4b4a3c82f964a520168026e3</td>\n",
       "      <td>Beacon Hill Park</td>\n",
       "      <td>Douglas St.</td>\n",
       "      <td>at Circle Dr.</td>\n",
       "      <td>1898</td>\n",
       "      <td>Victoria</td>\n",
       "      <td>[Douglas St. (at Circle Dr.), Victoria BC, Can...</td>\n",
       "      <td>9.2</td>\n",
       "    </tr>\n",
       "    <tr>\n",
       "      <th>7</th>\n",
       "      <td>4b4a33e7f964a5207a7e26e3</td>\n",
       "      <td>Ogden Point Breakwater</td>\n",
       "      <td>Dallas Rd.</td>\n",
       "      <td>at Dock St</td>\n",
       "      <td>1595</td>\n",
       "      <td>Victoria</td>\n",
       "      <td>[Dallas Rd. (at Dock St), Victoria BC, Canada]</td>\n",
       "      <td>9.0</td>\n",
       "    </tr>\n",
       "    <tr>\n",
       "      <th>19</th>\n",
       "      <td>4c4e33ecea24c9b6b32d4315</td>\n",
       "      <td>Government House</td>\n",
       "      <td>1401 Rockland Ave</td>\n",
       "      <td>at Joan Cr</td>\n",
       "      <td>2550</td>\n",
       "      <td>Victoria</td>\n",
       "      <td>[1401 Rockland Ave (at Joan Cr), Victoria BC V...</td>\n",
       "      <td>8.3</td>\n",
       "    </tr>\n",
       "    <tr>\n",
       "      <th>13</th>\n",
       "      <td>4b6dbf9ff964a520248c2ce3</td>\n",
       "      <td>Macaulay Point Park</td>\n",
       "      <td>NaN</td>\n",
       "      <td>NaN</td>\n",
       "      <td>2688</td>\n",
       "      <td>NaN</td>\n",
       "      <td>[Canada]</td>\n",
       "      <td>8.2</td>\n",
       "    </tr>\n",
       "    <tr>\n",
       "      <th>17</th>\n",
       "      <td>4b96b7fcf964a52012e034e3</td>\n",
       "      <td>Craigdarroch Castle</td>\n",
       "      <td>1050 Joan Cres</td>\n",
       "      <td>at Craigdarroch Rd</td>\n",
       "      <td>2357</td>\n",
       "      <td>Victoria</td>\n",
       "      <td>[1050 Joan Cres (at Craigdarroch Rd), Victoria...</td>\n",
       "      <td>8.0</td>\n",
       "    </tr>\n",
       "    <tr>\n",
       "      <th>11</th>\n",
       "      <td>4bcb7c96b6c49c74eb569291</td>\n",
       "      <td>Summit Park</td>\n",
       "      <td>NaN</td>\n",
       "      <td>NaN</td>\n",
       "      <td>2594</td>\n",
       "      <td>NaN</td>\n",
       "      <td>[Canada]</td>\n",
       "      <td>7.8</td>\n",
       "    </tr>\n",
       "    <tr>\n",
       "      <th>18</th>\n",
       "      <td>4b591f84f964a520c37d28e3</td>\n",
       "      <td>YMCA-YWCA of Greater Victoria</td>\n",
       "      <td>851 Broughton Street</td>\n",
       "      <td>Quadra</td>\n",
       "      <td>1174</td>\n",
       "      <td>Victoria</td>\n",
       "      <td>[851 Broughton Street (Quadra), Victoria BC V8...</td>\n",
       "      <td>7.6</td>\n",
       "    </tr>\n",
       "    <tr>\n",
       "      <th>21</th>\n",
       "      <td>4b954c0df964a520d69a34e3</td>\n",
       "      <td>Market Square</td>\n",
       "      <td>566 Johnson St.</td>\n",
       "      <td>at Store St.</td>\n",
       "      <td>476</td>\n",
       "      <td>Victoria</td>\n",
       "      <td>[566 Johnson St. (at Store St.), Victoria BC V...</td>\n",
       "      <td>7.5</td>\n",
       "    </tr>\n",
       "    <tr>\n",
       "      <th>0</th>\n",
       "      <td>4d2289b2d7b0b1f79966269f</td>\n",
       "      <td>Songhees Point</td>\n",
       "      <td>50 Songhees Rd</td>\n",
       "      <td>NaN</td>\n",
       "      <td>180</td>\n",
       "      <td>Victoria</td>\n",
       "      <td>[50 Songhees Rd, Victoria BC, Canada]</td>\n",
       "      <td>NaN</td>\n",
       "    </tr>\n",
       "    <tr>\n",
       "      <th>1</th>\n",
       "      <td>4e1e2f68ae60ef672d860f2e</td>\n",
       "      <td>Point Hope Maritime</td>\n",
       "      <td>Harbour Road</td>\n",
       "      <td>NaN</td>\n",
       "      <td>387</td>\n",
       "      <td>Victoria</td>\n",
       "      <td>[Harbour Road, Victoria BC, Canada]</td>\n",
       "      <td>NaN</td>\n",
       "    </tr>\n",
       "    <tr>\n",
       "      <th>2</th>\n",
       "      <td>4b4a2aabf964a520147d26e3</td>\n",
       "      <td>Fonyo Beach</td>\n",
       "      <td>Dallas Rd</td>\n",
       "      <td>NaN</td>\n",
       "      <td>2027</td>\n",
       "      <td>Victoria</td>\n",
       "      <td>[Dallas Rd, Victoria BC, Canada]</td>\n",
       "      <td>NaN</td>\n",
       "    </tr>\n",
       "    <tr>\n",
       "      <th>3</th>\n",
       "      <td>4fb5ca76e4b064d537e86e85</td>\n",
       "      <td>Laurel Point Park</td>\n",
       "      <td>680 Montreal St.</td>\n",
       "      <td>NaN</td>\n",
       "      <td>403</td>\n",
       "      <td>Victoria</td>\n",
       "      <td>[680 Montreal St., Victoria BC V8V 1Z8, Canada]</td>\n",
       "      <td>NaN</td>\n",
       "    </tr>\n",
       "    <tr>\n",
       "      <th>5</th>\n",
       "      <td>4d3f3c69c5eaa1cd80649650</td>\n",
       "      <td>Pioneer Square</td>\n",
       "      <td>Quadra St.</td>\n",
       "      <td>btwn Meares St. &amp; Rockland Ave.</td>\n",
       "      <td>1207</td>\n",
       "      <td>Victoria</td>\n",
       "      <td>[Quadra St. (btwn Meares St. &amp; Rockland Ave.),...</td>\n",
       "      <td>NaN</td>\n",
       "    </tr>\n",
       "    <tr>\n",
       "      <th>6</th>\n",
       "      <td>4da63fb06a23f2e8050465d7</td>\n",
       "      <td>Victoria Harbour</td>\n",
       "      <td>Government St</td>\n",
       "      <td>NaN</td>\n",
       "      <td>644</td>\n",
       "      <td>Victoria</td>\n",
       "      <td>[Government St, Victoria BC, Canada]</td>\n",
       "      <td>NaN</td>\n",
       "    </tr>\n",
       "    <tr>\n",
       "      <th>8</th>\n",
       "      <td>51a9312c50196225ffcd5dac</td>\n",
       "      <td>Dallas Road Beach (at San Jose)</td>\n",
       "      <td>NaN</td>\n",
       "      <td>NaN</td>\n",
       "      <td>1553</td>\n",
       "      <td>NaN</td>\n",
       "      <td>[Canada]</td>\n",
       "      <td>NaN</td>\n",
       "    </tr>\n",
       "    <tr>\n",
       "      <th>9</th>\n",
       "      <td>4f9481ce754a9a8df29fe7a4</td>\n",
       "      <td>Songhees Hilltop</td>\n",
       "      <td>Sitkum Rd.</td>\n",
       "      <td>btwn Saghalie Rd. &amp; Kimta Rd.</td>\n",
       "      <td>471</td>\n",
       "      <td>Victoria</td>\n",
       "      <td>[Sitkum Rd. (btwn Saghalie Rd. &amp; Kimta Rd.), V...</td>\n",
       "      <td>NaN</td>\n",
       "    </tr>\n",
       "    <tr>\n",
       "      <th>12</th>\n",
       "      <td>56e4b789498e4053043e1f82</td>\n",
       "      <td>Finlayson Point</td>\n",
       "      <td>NaN</td>\n",
       "      <td>NaN</td>\n",
       "      <td>2396</td>\n",
       "      <td>NaN</td>\n",
       "      <td>[Canada]</td>\n",
       "      <td>NaN</td>\n",
       "    </tr>\n",
       "    <tr>\n",
       "      <th>14</th>\n",
       "      <td>4f6e60bee4b0e0075b8219af</td>\n",
       "      <td>Dallas Road Path</td>\n",
       "      <td>NaN</td>\n",
       "      <td>NaN</td>\n",
       "      <td>2487</td>\n",
       "      <td>NaN</td>\n",
       "      <td>[Canada]</td>\n",
       "      <td>NaN</td>\n",
       "    </tr>\n",
       "    <tr>\n",
       "      <th>15</th>\n",
       "      <td>4bc0e81d74a9a593baf0d0f6</td>\n",
       "      <td>Fisherman's Wharf</td>\n",
       "      <td>310 St. Lawrence St</td>\n",
       "      <td>NaN</td>\n",
       "      <td>745</td>\n",
       "      <td>Victoria</td>\n",
       "      <td>[310 St. Lawrence St, Victoria BC V8V 1Y4, Can...</td>\n",
       "      <td>NaN</td>\n",
       "    </tr>\n",
       "    <tr>\n",
       "      <th>16</th>\n",
       "      <td>4db34dcbfa8c350240cb3f88</td>\n",
       "      <td>Bay Bridge</td>\n",
       "      <td>NaN</td>\n",
       "      <td>NaN</td>\n",
       "      <td>925</td>\n",
       "      <td>Victoria</td>\n",
       "      <td>[Victoria BC, Canada]</td>\n",
       "      <td>NaN</td>\n",
       "    </tr>\n",
       "    <tr>\n",
       "      <th>20</th>\n",
       "      <td>4ca8a17176d3a093038c176b</td>\n",
       "      <td>Dallas Road Off Leash Dog Area</td>\n",
       "      <td>NaN</td>\n",
       "      <td>NaN</td>\n",
       "      <td>2281</td>\n",
       "      <td>NaN</td>\n",
       "      <td>[Canada]</td>\n",
       "      <td>NaN</td>\n",
       "    </tr>\n",
       "  </tbody>\n",
       "</table>\n",
       "</div>"
      ],
      "text/plain": [
       "                          id                             name  \\\n",
       "10  4e0109d0b61c1fbe8dfc5888                Dallas Road Beach   \n",
       "4   4b4a3c82f964a520168026e3                 Beacon Hill Park   \n",
       "7   4b4a33e7f964a5207a7e26e3           Ogden Point Breakwater   \n",
       "19  4c4e33ecea24c9b6b32d4315                 Government House   \n",
       "13  4b6dbf9ff964a520248c2ce3              Macaulay Point Park   \n",
       "17  4b96b7fcf964a52012e034e3              Craigdarroch Castle   \n",
       "11  4bcb7c96b6c49c74eb569291                      Summit Park   \n",
       "18  4b591f84f964a520c37d28e3    YMCA-YWCA of Greater Victoria   \n",
       "21  4b954c0df964a520d69a34e3                    Market Square   \n",
       "0   4d2289b2d7b0b1f79966269f                   Songhees Point   \n",
       "1   4e1e2f68ae60ef672d860f2e              Point Hope Maritime   \n",
       "2   4b4a2aabf964a520147d26e3                      Fonyo Beach   \n",
       "3   4fb5ca76e4b064d537e86e85                Laurel Point Park   \n",
       "5   4d3f3c69c5eaa1cd80649650                   Pioneer Square   \n",
       "6   4da63fb06a23f2e8050465d7                 Victoria Harbour   \n",
       "8   51a9312c50196225ffcd5dac  Dallas Road Beach (at San Jose)   \n",
       "9   4f9481ce754a9a8df29fe7a4                 Songhees Hilltop   \n",
       "12  56e4b789498e4053043e1f82                  Finlayson Point   \n",
       "14  4f6e60bee4b0e0075b8219af                 Dallas Road Path   \n",
       "15  4bc0e81d74a9a593baf0d0f6                Fisherman's Wharf   \n",
       "16  4db34dcbfa8c350240cb3f88                       Bay Bridge   \n",
       "20  4ca8a17176d3a093038c176b   Dallas Road Off Leash Dog Area   \n",
       "\n",
       "        location.address             location.crossStreet  location.distance  \\\n",
       "10            Dallas Rd.                      at Boyd St.               1609   \n",
       "4            Douglas St.                    at Circle Dr.               1898   \n",
       "7             Dallas Rd.                       at Dock St               1595   \n",
       "19     1401 Rockland Ave                       at Joan Cr               2550   \n",
       "13                   NaN                              NaN               2688   \n",
       "17        1050 Joan Cres               at Craigdarroch Rd               2357   \n",
       "11                   NaN                              NaN               2594   \n",
       "18  851 Broughton Street                           Quadra               1174   \n",
       "21       566 Johnson St.                     at Store St.                476   \n",
       "0         50 Songhees Rd                              NaN                180   \n",
       "1           Harbour Road                              NaN                387   \n",
       "2              Dallas Rd                              NaN               2027   \n",
       "3       680 Montreal St.                              NaN                403   \n",
       "5             Quadra St.  btwn Meares St. & Rockland Ave.               1207   \n",
       "6          Government St                              NaN                644   \n",
       "8                    NaN                              NaN               1553   \n",
       "9             Sitkum Rd.    btwn Saghalie Rd. & Kimta Rd.                471   \n",
       "12                   NaN                              NaN               2396   \n",
       "14                   NaN                              NaN               2487   \n",
       "15   310 St. Lawrence St                              NaN                745   \n",
       "16                   NaN                              NaN                925   \n",
       "20                   NaN                              NaN               2281   \n",
       "\n",
       "   location.city                          location.formattedAddress  rating  \n",
       "10      Victoria    [Dallas Rd. (at Boyd St.), Victoria BC, Canada]     9.3  \n",
       "4       Victoria  [Douglas St. (at Circle Dr.), Victoria BC, Can...     9.2  \n",
       "7       Victoria     [Dallas Rd. (at Dock St), Victoria BC, Canada]     9.0  \n",
       "19      Victoria  [1401 Rockland Ave (at Joan Cr), Victoria BC V...     8.3  \n",
       "13           NaN                                           [Canada]     8.2  \n",
       "17      Victoria  [1050 Joan Cres (at Craigdarroch Rd), Victoria...     8.0  \n",
       "11           NaN                                           [Canada]     7.8  \n",
       "18      Victoria  [851 Broughton Street (Quadra), Victoria BC V8...     7.6  \n",
       "21      Victoria  [566 Johnson St. (at Store St.), Victoria BC V...     7.5  \n",
       "0       Victoria              [50 Songhees Rd, Victoria BC, Canada]     NaN  \n",
       "1       Victoria                [Harbour Road, Victoria BC, Canada]     NaN  \n",
       "2       Victoria                   [Dallas Rd, Victoria BC, Canada]     NaN  \n",
       "3       Victoria    [680 Montreal St., Victoria BC V8V 1Z8, Canada]     NaN  \n",
       "5       Victoria  [Quadra St. (btwn Meares St. & Rockland Ave.),...     NaN  \n",
       "6       Victoria               [Government St, Victoria BC, Canada]     NaN  \n",
       "8            NaN                                           [Canada]     NaN  \n",
       "9       Victoria  [Sitkum Rd. (btwn Saghalie Rd. & Kimta Rd.), V...     NaN  \n",
       "12           NaN                                           [Canada]     NaN  \n",
       "14           NaN                                           [Canada]     NaN  \n",
       "15      Victoria  [310 St. Lawrence St, Victoria BC V8V 1Y4, Can...     NaN  \n",
       "16      Victoria                              [Victoria BC, Canada]     NaN  \n",
       "20           NaN                                           [Canada]     NaN  "
      ]
     },
     "execution_count": 230,
     "metadata": {},
     "output_type": "execute_result"
    }
   ],
   "source": [
    "attractions_foursquare"
   ]
  },
  {
   "cell_type": "code",
   "execution_count": 225,
   "metadata": {},
   "outputs": [
    {
     "data": {
      "text/html": [
       "<div>\n",
       "<style scoped>\n",
       "    .dataframe tbody tr th:only-of-type {\n",
       "        vertical-align: middle;\n",
       "    }\n",
       "\n",
       "    .dataframe tbody tr th {\n",
       "        vertical-align: top;\n",
       "    }\n",
       "\n",
       "    .dataframe thead th {\n",
       "        text-align: right;\n",
       "    }\n",
       "</style>\n",
       "<table border=\"1\" class=\"dataframe\">\n",
       "  <thead>\n",
       "    <tr style=\"text-align: right;\">\n",
       "      <th></th>\n",
       "      <th>name</th>\n",
       "      <th>review_count</th>\n",
       "      <th>rating</th>\n",
       "      <th>price</th>\n",
       "      <th>distance</th>\n",
       "      <th>location.address1</th>\n",
       "      <th>location.city</th>\n",
       "      <th>location.display_address</th>\n",
       "    </tr>\n",
       "  </thead>\n",
       "  <tbody>\n",
       "    <tr>\n",
       "      <th>7</th>\n",
       "      <td>Île Sauvage Brewing Company</td>\n",
       "      <td>8</td>\n",
       "      <td>5.0</td>\n",
       "      <td>NaN</td>\n",
       "      <td>1445.764906</td>\n",
       "      <td>2960 Bridge Street</td>\n",
       "      <td>Victoria</td>\n",
       "      <td>[2960 Bridge Street, Victoria, BC V8T 4T3, Can...</td>\n",
       "    </tr>\n",
       "    <tr>\n",
       "      <th>1</th>\n",
       "      <td>Driftwood Brewery</td>\n",
       "      <td>16</td>\n",
       "      <td>5.0</td>\n",
       "      <td>$</td>\n",
       "      <td>1117.838522</td>\n",
       "      <td>102 450 Hillside Avenue</td>\n",
       "      <td>Victoria</td>\n",
       "      <td>[102 450 Hillside Avenue, Victoria, BC V8T 1Y7...</td>\n",
       "    </tr>\n",
       "    <tr>\n",
       "      <th>13</th>\n",
       "      <td>West Coast Brewery Tour</td>\n",
       "      <td>1</td>\n",
       "      <td>5.0</td>\n",
       "      <td>NaN</td>\n",
       "      <td>532.502708</td>\n",
       "      <td>254 Belleville Street</td>\n",
       "      <td>Victoria</td>\n",
       "      <td>[254 Belleville Street, Victoria, BC V8V 1W9, ...</td>\n",
       "    </tr>\n",
       "    <tr>\n",
       "      <th>0</th>\n",
       "      <td>Phillips Brewing Company</td>\n",
       "      <td>58</td>\n",
       "      <td>4.5</td>\n",
       "      <td>$</td>\n",
       "      <td>790.066493</td>\n",
       "      <td>2010 Government Street</td>\n",
       "      <td>Victoria</td>\n",
       "      <td>[2010 Government Street, Victoria, BC V8T 1H3,...</td>\n",
       "    </tr>\n",
       "    <tr>\n",
       "      <th>2</th>\n",
       "      <td>Whistle Buoy</td>\n",
       "      <td>5</td>\n",
       "      <td>4.5</td>\n",
       "      <td>NaN</td>\n",
       "      <td>421.582005</td>\n",
       "      <td>560 Johnson Street</td>\n",
       "      <td>Victoria</td>\n",
       "      <td>[560 Johnson Street, Unit 63, Victoria, BC V8W...</td>\n",
       "    </tr>\n",
       "    <tr>\n",
       "      <th>3</th>\n",
       "      <td>Vancouver Island Brewing</td>\n",
       "      <td>31</td>\n",
       "      <td>4.5</td>\n",
       "      <td>$</td>\n",
       "      <td>1033.644330</td>\n",
       "      <td>2330 Government Street</td>\n",
       "      <td>Victoria</td>\n",
       "      <td>[2330 Government Street, Victoria, BC V8T 5G5,...</td>\n",
       "    </tr>\n",
       "    <tr>\n",
       "      <th>23</th>\n",
       "      <td>Hanks A Restaurant</td>\n",
       "      <td>92</td>\n",
       "      <td>4.5</td>\n",
       "      <td>$$</td>\n",
       "      <td>788.561929</td>\n",
       "      <td>1001 Douglas Street</td>\n",
       "      <td>Victoria</td>\n",
       "      <td>[1001 Douglas Street, Unit G2A, Victoria, BC V...</td>\n",
       "    </tr>\n",
       "    <tr>\n",
       "      <th>18</th>\n",
       "      <td>Finn's Seafood Chops Cocktails</td>\n",
       "      <td>92</td>\n",
       "      <td>4.5</td>\n",
       "      <td>$$</td>\n",
       "      <td>339.490540</td>\n",
       "      <td>1208 Wharf Street</td>\n",
       "      <td>Victoria</td>\n",
       "      <td>[1208 Wharf Street, Victoria, BC V8W 1T9, Canada]</td>\n",
       "    </tr>\n",
       "    <tr>\n",
       "      <th>14</th>\n",
       "      <td>Bartholomews Pub</td>\n",
       "      <td>95</td>\n",
       "      <td>4.0</td>\n",
       "      <td>$$</td>\n",
       "      <td>898.322951</td>\n",
       "      <td>777 Douglas Street</td>\n",
       "      <td>Victoria</td>\n",
       "      <td>[777 Douglas Street, Victoria, BC V8W 2B5, Can...</td>\n",
       "    </tr>\n",
       "    <tr>\n",
       "      <th>21</th>\n",
       "      <td>Irish Times Pub</td>\n",
       "      <td>371</td>\n",
       "      <td>4.0</td>\n",
       "      <td>$$</td>\n",
       "      <td>531.450132</td>\n",
       "      <td>1200 Government Street</td>\n",
       "      <td>Victoria</td>\n",
       "      <td>[1200 Government Street, Victoria, BC V8W 1Y3,...</td>\n",
       "    </tr>\n",
       "    <tr>\n",
       "      <th>20</th>\n",
       "      <td>Ferris' Upstairs Seafood &amp; Oyster Bar</td>\n",
       "      <td>248</td>\n",
       "      <td>4.0</td>\n",
       "      <td>$$</td>\n",
       "      <td>425.806528</td>\n",
       "      <td>536A Yates Street</td>\n",
       "      <td>Victoria</td>\n",
       "      <td>[536A Yates Street, Victoria, BC V8W 1K8, Canada]</td>\n",
       "    </tr>\n",
       "    <tr>\n",
       "      <th>19</th>\n",
       "      <td>10 Acres</td>\n",
       "      <td>422</td>\n",
       "      <td>4.0</td>\n",
       "      <td>$$</td>\n",
       "      <td>680.476285</td>\n",
       "      <td>611 Courtney Street</td>\n",
       "      <td>Victoria</td>\n",
       "      <td>[611 Courtney Street, Victoria, BC V8W 1B7, Ca...</td>\n",
       "    </tr>\n",
       "    <tr>\n",
       "      <th>17</th>\n",
       "      <td>Garrick's Head Pub</td>\n",
       "      <td>89</td>\n",
       "      <td>4.0</td>\n",
       "      <td>$$</td>\n",
       "      <td>545.276936</td>\n",
       "      <td>1140 Government Street</td>\n",
       "      <td>Victoria</td>\n",
       "      <td>[1140 Government Street, Victoria, BC V8W 1Y2,...</td>\n",
       "    </tr>\n",
       "    <tr>\n",
       "      <th>15</th>\n",
       "      <td>Vintage Spirits</td>\n",
       "      <td>5</td>\n",
       "      <td>4.0</td>\n",
       "      <td>$$</td>\n",
       "      <td>758.012636</td>\n",
       "      <td>653 Pandora Avenue</td>\n",
       "      <td>Victoria</td>\n",
       "      <td>[653 Pandora Avenue, Victoria, BC V8W 1N8, Can...</td>\n",
       "    </tr>\n",
       "    <tr>\n",
       "      <th>12</th>\n",
       "      <td>Bard and Banker</td>\n",
       "      <td>413</td>\n",
       "      <td>4.0</td>\n",
       "      <td>$$</td>\n",
       "      <td>564.783491</td>\n",
       "      <td>1022 Government Street</td>\n",
       "      <td>Victoria</td>\n",
       "      <td>[1022 Government Street, Victoria, BC V8W 1X7,...</td>\n",
       "    </tr>\n",
       "    <tr>\n",
       "      <th>11</th>\n",
       "      <td>The Churchill</td>\n",
       "      <td>60</td>\n",
       "      <td>4.0</td>\n",
       "      <td>$$</td>\n",
       "      <td>545.276936</td>\n",
       "      <td>1140 Government Street</td>\n",
       "      <td>Victoria</td>\n",
       "      <td>[1140 Government Street, Victoria, BC V8W 1Y2,...</td>\n",
       "    </tr>\n",
       "    <tr>\n",
       "      <th>5</th>\n",
       "      <td>The Hoyne Brewing Company</td>\n",
       "      <td>18</td>\n",
       "      <td>4.0</td>\n",
       "      <td>$</td>\n",
       "      <td>1129.812999</td>\n",
       "      <td>2740 Bridge Street</td>\n",
       "      <td>Victoria</td>\n",
       "      <td>[2740 Bridge Street, Suite 101, Victoria, BC V...</td>\n",
       "    </tr>\n",
       "    <tr>\n",
       "      <th>24</th>\n",
       "      <td>Off The Eaten Track</td>\n",
       "      <td>13</td>\n",
       "      <td>4.0</td>\n",
       "      <td>NaN</td>\n",
       "      <td>703.583984</td>\n",
       "      <td></td>\n",
       "      <td>Victoria</td>\n",
       "      <td>[Victoria, BC V8P 1A1, Canada]</td>\n",
       "    </tr>\n",
       "    <tr>\n",
       "      <th>16</th>\n",
       "      <td>LURE Restaurant &amp; Bar</td>\n",
       "      <td>50</td>\n",
       "      <td>3.5</td>\n",
       "      <td>$$</td>\n",
       "      <td>30.605124</td>\n",
       "      <td>100 Harbour Road</td>\n",
       "      <td>Victoria</td>\n",
       "      <td>[100 Harbour Road, Victoria, BC V9A 0G1, Canada]</td>\n",
       "    </tr>\n",
       "    <tr>\n",
       "      <th>9</th>\n",
       "      <td>Spinnakers Gastro Brewpub</td>\n",
       "      <td>182</td>\n",
       "      <td>3.5</td>\n",
       "      <td>$$</td>\n",
       "      <td>780.859586</td>\n",
       "      <td>308 Catherine Street</td>\n",
       "      <td>Victoria</td>\n",
       "      <td>[308 Catherine Street, Victoria, BC V9A 3S8, C...</td>\n",
       "    </tr>\n",
       "    <tr>\n",
       "      <th>8</th>\n",
       "      <td>Swans Brew Pub</td>\n",
       "      <td>141</td>\n",
       "      <td>3.5</td>\n",
       "      <td>$$</td>\n",
       "      <td>460.355585</td>\n",
       "      <td>506 Pandora Avenue</td>\n",
       "      <td>Victoria</td>\n",
       "      <td>[506 Pandora Avenue, Victoria, BC V8W 1N6, Can...</td>\n",
       "    </tr>\n",
       "    <tr>\n",
       "      <th>6</th>\n",
       "      <td>Moon Under Water Brewpub</td>\n",
       "      <td>54</td>\n",
       "      <td>3.5</td>\n",
       "      <td>$$</td>\n",
       "      <td>912.128975</td>\n",
       "      <td>350B Bay Street</td>\n",
       "      <td>Victoria</td>\n",
       "      <td>[350B Bay Street, Victoria, BC V8T 1P5, Canada]</td>\n",
       "    </tr>\n",
       "    <tr>\n",
       "      <th>22</th>\n",
       "      <td>Yates Street Taphouse</td>\n",
       "      <td>40</td>\n",
       "      <td>3.5</td>\n",
       "      <td>$$</td>\n",
       "      <td>827.093124</td>\n",
       "      <td>759 Yates Street</td>\n",
       "      <td>Victoria</td>\n",
       "      <td>[759 Yates Street, Victoria, BC V8W 1L6, Canada]</td>\n",
       "    </tr>\n",
       "    <tr>\n",
       "      <th>4</th>\n",
       "      <td>Canoe Brewpub Marina &amp; Restaurant</td>\n",
       "      <td>184</td>\n",
       "      <td>3.5</td>\n",
       "      <td>$$</td>\n",
       "      <td>447.245821</td>\n",
       "      <td>450 Swift Street</td>\n",
       "      <td>Victoria</td>\n",
       "      <td>[450 Swift Street, Victoria, BC V8W 1S3, Canada]</td>\n",
       "    </tr>\n",
       "    <tr>\n",
       "      <th>10</th>\n",
       "      <td>Phillips Brewery Tasting Room</td>\n",
       "      <td>1</td>\n",
       "      <td>2.0</td>\n",
       "      <td>NaN</td>\n",
       "      <td>726.625019</td>\n",
       "      <td>2010 Government Street</td>\n",
       "      <td>Victoria</td>\n",
       "      <td>[2010 Government Street, Victoria, BC V8T 4P1,...</td>\n",
       "    </tr>\n",
       "  </tbody>\n",
       "</table>\n",
       "</div>"
      ],
      "text/plain": [
       "                                     name  review_count  rating price  \\\n",
       "7             Île Sauvage Brewing Company             8     5.0   NaN   \n",
       "1                       Driftwood Brewery            16     5.0     $   \n",
       "13                West Coast Brewery Tour             1     5.0   NaN   \n",
       "0                Phillips Brewing Company            58     4.5     $   \n",
       "2                            Whistle Buoy             5     4.5   NaN   \n",
       "3                Vancouver Island Brewing            31     4.5     $   \n",
       "23                     Hanks A Restaurant            92     4.5    $$   \n",
       "18         Finn's Seafood Chops Cocktails            92     4.5    $$   \n",
       "14                       Bartholomews Pub            95     4.0    $$   \n",
       "21                        Irish Times Pub           371     4.0    $$   \n",
       "20  Ferris' Upstairs Seafood & Oyster Bar           248     4.0    $$   \n",
       "19                               10 Acres           422     4.0    $$   \n",
       "17                     Garrick's Head Pub            89     4.0    $$   \n",
       "15                        Vintage Spirits             5     4.0    $$   \n",
       "12                        Bard and Banker           413     4.0    $$   \n",
       "11                          The Churchill            60     4.0    $$   \n",
       "5               The Hoyne Brewing Company            18     4.0     $   \n",
       "24                    Off The Eaten Track            13     4.0   NaN   \n",
       "16                  LURE Restaurant & Bar            50     3.5    $$   \n",
       "9               Spinnakers Gastro Brewpub           182     3.5    $$   \n",
       "8                          Swans Brew Pub           141     3.5    $$   \n",
       "6                Moon Under Water Brewpub            54     3.5    $$   \n",
       "22                  Yates Street Taphouse            40     3.5    $$   \n",
       "4       Canoe Brewpub Marina & Restaurant           184     3.5    $$   \n",
       "10          Phillips Brewery Tasting Room             1     2.0   NaN   \n",
       "\n",
       "       distance        location.address1 location.city  \\\n",
       "7   1445.764906       2960 Bridge Street      Victoria   \n",
       "1   1117.838522  102 450 Hillside Avenue      Victoria   \n",
       "13   532.502708    254 Belleville Street      Victoria   \n",
       "0    790.066493   2010 Government Street      Victoria   \n",
       "2    421.582005       560 Johnson Street      Victoria   \n",
       "3   1033.644330   2330 Government Street      Victoria   \n",
       "23   788.561929      1001 Douglas Street      Victoria   \n",
       "18   339.490540        1208 Wharf Street      Victoria   \n",
       "14   898.322951       777 Douglas Street      Victoria   \n",
       "21   531.450132   1200 Government Street      Victoria   \n",
       "20   425.806528        536A Yates Street      Victoria   \n",
       "19   680.476285      611 Courtney Street      Victoria   \n",
       "17   545.276936   1140 Government Street      Victoria   \n",
       "15   758.012636       653 Pandora Avenue      Victoria   \n",
       "12   564.783491   1022 Government Street      Victoria   \n",
       "11   545.276936   1140 Government Street      Victoria   \n",
       "5   1129.812999       2740 Bridge Street      Victoria   \n",
       "24   703.583984                               Victoria   \n",
       "16    30.605124         100 Harbour Road      Victoria   \n",
       "9    780.859586     308 Catherine Street      Victoria   \n",
       "8    460.355585       506 Pandora Avenue      Victoria   \n",
       "6    912.128975          350B Bay Street      Victoria   \n",
       "22   827.093124         759 Yates Street      Victoria   \n",
       "4    447.245821         450 Swift Street      Victoria   \n",
       "10   726.625019   2010 Government Street      Victoria   \n",
       "\n",
       "                             location.display_address  \n",
       "7   [2960 Bridge Street, Victoria, BC V8T 4T3, Can...  \n",
       "1   [102 450 Hillside Avenue, Victoria, BC V8T 1Y7...  \n",
       "13  [254 Belleville Street, Victoria, BC V8V 1W9, ...  \n",
       "0   [2010 Government Street, Victoria, BC V8T 1H3,...  \n",
       "2   [560 Johnson Street, Unit 63, Victoria, BC V8W...  \n",
       "3   [2330 Government Street, Victoria, BC V8T 5G5,...  \n",
       "23  [1001 Douglas Street, Unit G2A, Victoria, BC V...  \n",
       "18  [1208 Wharf Street, Victoria, BC V8W 1T9, Canada]  \n",
       "14  [777 Douglas Street, Victoria, BC V8W 2B5, Can...  \n",
       "21  [1200 Government Street, Victoria, BC V8W 1Y3,...  \n",
       "20  [536A Yates Street, Victoria, BC V8W 1K8, Canada]  \n",
       "19  [611 Courtney Street, Victoria, BC V8W 1B7, Ca...  \n",
       "17  [1140 Government Street, Victoria, BC V8W 1Y2,...  \n",
       "15  [653 Pandora Avenue, Victoria, BC V8W 1N8, Can...  \n",
       "12  [1022 Government Street, Victoria, BC V8W 1X7,...  \n",
       "11  [1140 Government Street, Victoria, BC V8W 1Y2,...  \n",
       "5   [2740 Bridge Street, Suite 101, Victoria, BC V...  \n",
       "24                     [Victoria, BC V8P 1A1, Canada]  \n",
       "16   [100 Harbour Road, Victoria, BC V9A 0G1, Canada]  \n",
       "9   [308 Catherine Street, Victoria, BC V9A 3S8, C...  \n",
       "8   [506 Pandora Avenue, Victoria, BC V8W 1N6, Can...  \n",
       "6     [350B Bay Street, Victoria, BC V8T 1P5, Canada]  \n",
       "22   [759 Yates Street, Victoria, BC V8W 1L6, Canada]  \n",
       "4    [450 Swift Street, Victoria, BC V8W 1S3, Canada]  \n",
       "10  [2010 Government Street, Victoria, BC V8T 4P1,...  "
      ]
     },
     "execution_count": 225,
     "metadata": {},
     "output_type": "execute_result"
    }
   ],
   "source": [
    "breweries_yelp"
   ]
  },
  {
   "cell_type": "code",
   "execution_count": 227,
   "metadata": {},
   "outputs": [
    {
     "data": {
      "text/html": [
       "<div>\n",
       "<style scoped>\n",
       "    .dataframe tbody tr th:only-of-type {\n",
       "        vertical-align: middle;\n",
       "    }\n",
       "\n",
       "    .dataframe tbody tr th {\n",
       "        vertical-align: top;\n",
       "    }\n",
       "\n",
       "    .dataframe thead th {\n",
       "        text-align: right;\n",
       "    }\n",
       "</style>\n",
       "<table border=\"1\" class=\"dataframe\">\n",
       "  <thead>\n",
       "    <tr style=\"text-align: right;\">\n",
       "      <th></th>\n",
       "      <th>name</th>\n",
       "      <th>location.address</th>\n",
       "      <th>location.crossStreet</th>\n",
       "      <th>location.distance</th>\n",
       "      <th>location.city</th>\n",
       "      <th>location.formattedAddress</th>\n",
       "      <th>rating</th>\n",
       "    </tr>\n",
       "  </thead>\n",
       "  <tbody>\n",
       "    <tr>\n",
       "      <th>0</th>\n",
       "      <td>Phillips Backyard (at Phillips Brewery)</td>\n",
       "      <td>NaN</td>\n",
       "      <td>NaN</td>\n",
       "      <td>845</td>\n",
       "      <td>Victoria</td>\n",
       "      <td>[Victoria BC, Canada]</td>\n",
       "      <td>8.8</td>\n",
       "    </tr>\n",
       "    <tr>\n",
       "      <th>6</th>\n",
       "      <td>Phillips Brewing Co.</td>\n",
       "      <td>2010 Government St</td>\n",
       "      <td>Discovery St</td>\n",
       "      <td>802</td>\n",
       "      <td>Victoria</td>\n",
       "      <td>[2010 Government St (Discovery St), Victoria B...</td>\n",
       "      <td>8.8</td>\n",
       "    </tr>\n",
       "    <tr>\n",
       "      <th>3</th>\n",
       "      <td>Driftwood Brewery</td>\n",
       "      <td>102-450 Hillside Ave.</td>\n",
       "      <td>NaN</td>\n",
       "      <td>1115</td>\n",
       "      <td>Victoria</td>\n",
       "      <td>[102-450 Hillside Ave., Victoria BC V8T 1Y7, C...</td>\n",
       "      <td>8.4</td>\n",
       "    </tr>\n",
       "    <tr>\n",
       "      <th>2</th>\n",
       "      <td>Moon Under Water Pub &amp; Brewery</td>\n",
       "      <td>350B Bay St.</td>\n",
       "      <td>btwn Pleasant &amp; Turner St.</td>\n",
       "      <td>908</td>\n",
       "      <td>Victoria</td>\n",
       "      <td>[350B Bay St. (btwn Pleasant &amp; Turner St.), Vi...</td>\n",
       "      <td>8.3</td>\n",
       "    </tr>\n",
       "    <tr>\n",
       "      <th>1</th>\n",
       "      <td>Vancouver Island Brewery</td>\n",
       "      <td>2330 Government St</td>\n",
       "      <td>at Bay St</td>\n",
       "      <td>1021</td>\n",
       "      <td>Victoria</td>\n",
       "      <td>[2330 Government St (at Bay St), Victoria BC V...</td>\n",
       "      <td>7.5</td>\n",
       "    </tr>\n",
       "    <tr>\n",
       "      <th>4</th>\n",
       "      <td>Swans Hotel</td>\n",
       "      <td>506 Pandora Ave</td>\n",
       "      <td>at Wharf St</td>\n",
       "      <td>435</td>\n",
       "      <td>Victoria</td>\n",
       "      <td>[506 Pandora Ave (at Wharf St), Victoria BC, C...</td>\n",
       "      <td>7.5</td>\n",
       "    </tr>\n",
       "    <tr>\n",
       "      <th>5</th>\n",
       "      <td>Swans Brewpub</td>\n",
       "      <td>506 Pandora Ave</td>\n",
       "      <td>at Wharf St</td>\n",
       "      <td>434</td>\n",
       "      <td>Victoria</td>\n",
       "      <td>[506 Pandora Ave (at Wharf St), Victoria BC V8...</td>\n",
       "      <td>7.5</td>\n",
       "    </tr>\n",
       "    <tr>\n",
       "      <th>7</th>\n",
       "      <td>Lighthouse Brewing</td>\n",
       "      <td>836 Devonshire Rd</td>\n",
       "      <td>NaN</td>\n",
       "      <td>1901</td>\n",
       "      <td>Victoria</td>\n",
       "      <td>[836 Devonshire Rd, Victoria BC, Canada]</td>\n",
       "      <td>NaN</td>\n",
       "    </tr>\n",
       "  </tbody>\n",
       "</table>\n",
       "</div>"
      ],
      "text/plain": [
       "                                      name       location.address  \\\n",
       "0  Phillips Backyard (at Phillips Brewery)                    NaN   \n",
       "6                     Phillips Brewing Co.     2010 Government St   \n",
       "3                        Driftwood Brewery  102-450 Hillside Ave.   \n",
       "2           Moon Under Water Pub & Brewery           350B Bay St.   \n",
       "1                 Vancouver Island Brewery     2330 Government St   \n",
       "4                              Swans Hotel        506 Pandora Ave   \n",
       "5                            Swans Brewpub        506 Pandora Ave   \n",
       "7                       Lighthouse Brewing      836 Devonshire Rd   \n",
       "\n",
       "         location.crossStreet  location.distance location.city  \\\n",
       "0                         NaN                845      Victoria   \n",
       "6                Discovery St                802      Victoria   \n",
       "3                         NaN               1115      Victoria   \n",
       "2  btwn Pleasant & Turner St.                908      Victoria   \n",
       "1                   at Bay St               1021      Victoria   \n",
       "4                 at Wharf St                435      Victoria   \n",
       "5                 at Wharf St                434      Victoria   \n",
       "7                         NaN               1901      Victoria   \n",
       "\n",
       "                           location.formattedAddress  rating  \n",
       "0                              [Victoria BC, Canada]     8.8  \n",
       "6  [2010 Government St (Discovery St), Victoria B...     8.8  \n",
       "3  [102-450 Hillside Ave., Victoria BC V8T 1Y7, C...     8.4  \n",
       "2  [350B Bay St. (btwn Pleasant & Turner St.), Vi...     8.3  \n",
       "1  [2330 Government St (at Bay St), Victoria BC V...     7.5  \n",
       "4  [506 Pandora Ave (at Wharf St), Victoria BC, C...     7.5  \n",
       "5  [506 Pandora Ave (at Wharf St), Victoria BC V8...     7.5  \n",
       "7           [836 Devonshire Rd, Victoria BC, Canada]     NaN  "
      ]
     },
     "execution_count": 227,
     "metadata": {},
     "output_type": "execute_result"
    }
   ],
   "source": [
    "breweries_foursquare"
   ]
  },
  {
   "cell_type": "code",
   "execution_count": null,
   "metadata": {},
   "outputs": [],
   "source": []
  }
 ],
 "metadata": {
  "kernelspec": {
   "display_name": "Python 3",
   "language": "python",
   "name": "python3"
  },
  "language_info": {
   "codemirror_mode": {
    "name": "ipython",
    "version": 3
   },
   "file_extension": ".py",
   "mimetype": "text/x-python",
   "name": "python",
   "nbconvert_exporter": "python",
   "pygments_lexer": "ipython3",
   "version": "3.8.5"
  }
 },
 "nbformat": 4,
 "nbformat_minor": 4
}

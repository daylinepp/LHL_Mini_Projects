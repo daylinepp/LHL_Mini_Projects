{
 "cells": [
  {
   "cell_type": "markdown",
   "metadata": {},
   "source": [
    "# Mini Project III"
   ]
  },
  {
   "cell_type": "code",
   "execution_count": 1,
   "metadata": {},
   "outputs": [],
   "source": [
    "import numpy as np\n",
    "import pandas as pd"
   ]
  },
  {
   "cell_type": "code",
   "execution_count": 2,
   "metadata": {},
   "outputs": [],
   "source": [
    "import plotly.express as px"
   ]
  },
  {
   "cell_type": "code",
   "execution_count": 3,
   "metadata": {},
   "outputs": [],
   "source": [
    "# import Kmeans \n",
    "from sklearn.cluster import KMeans\n",
    "# import matplotlib\n",
    "import matplotlib.pyplot as plt"
   ]
  },
  {
   "cell_type": "code",
   "execution_count": null,
   "metadata": {},
   "outputs": [],
   "source": []
  },
  {
   "cell_type": "markdown",
   "metadata": {},
   "source": [
    "## twm_accounts Exploration"
   ]
  },
  {
   "cell_type": "code",
   "execution_count": 4,
   "metadata": {},
   "outputs": [],
   "source": [
    "df_accounts = pd.read_csv('mini-project-III/twm_accounts.csv', sep=';')"
   ]
  },
  {
   "cell_type": "code",
   "execution_count": 5,
   "metadata": {},
   "outputs": [
    {
     "data": {
      "text/html": [
       "<div>\n",
       "<style scoped>\n",
       "    .dataframe tbody tr th:only-of-type {\n",
       "        vertical-align: middle;\n",
       "    }\n",
       "\n",
       "    .dataframe tbody tr th {\n",
       "        vertical-align: top;\n",
       "    }\n",
       "\n",
       "    .dataframe thead th {\n",
       "        text-align: right;\n",
       "    }\n",
       "</style>\n",
       "<table border=\"1\" class=\"dataframe\">\n",
       "  <thead>\n",
       "    <tr style=\"text-align: right;\">\n",
       "      <th></th>\n",
       "      <th>acct_nbr</th>\n",
       "      <th>cust_id</th>\n",
       "      <th>acct_type</th>\n",
       "      <th>account_active</th>\n",
       "      <th>acct_start_date</th>\n",
       "      <th>acct_end_date</th>\n",
       "      <th>starting_balance</th>\n",
       "      <th>ending_balance</th>\n",
       "    </tr>\n",
       "  </thead>\n",
       "  <tbody>\n",
       "    <tr>\n",
       "      <th>0</th>\n",
       "      <td>13628063</td>\n",
       "      <td>1362806</td>\n",
       "      <td>SV</td>\n",
       "      <td>Y</td>\n",
       "      <td>10.12.1995</td>\n",
       "      <td>NaN</td>\n",
       "      <td>1430.22</td>\n",
       "      <td>284.58</td>\n",
       "    </tr>\n",
       "    <tr>\n",
       "      <th>1</th>\n",
       "      <td>4561143213627090</td>\n",
       "      <td>1362709</td>\n",
       "      <td>CC</td>\n",
       "      <td>Y</td>\n",
       "      <td>15.3.1993</td>\n",
       "      <td>NaN</td>\n",
       "      <td>266.34</td>\n",
       "      <td>496.15</td>\n",
       "    </tr>\n",
       "    <tr>\n",
       "      <th>2</th>\n",
       "      <td>4561143213628360</td>\n",
       "      <td>1362836</td>\n",
       "      <td>CC</td>\n",
       "      <td>Y</td>\n",
       "      <td>18.3.1992</td>\n",
       "      <td>NaN</td>\n",
       "      <td>55.90</td>\n",
       "      <td>1000.00</td>\n",
       "    </tr>\n",
       "    <tr>\n",
       "      <th>3</th>\n",
       "      <td>13633112</td>\n",
       "      <td>1363311</td>\n",
       "      <td>CK</td>\n",
       "      <td>Y</td>\n",
       "      <td>6.7.1995</td>\n",
       "      <td>NaN</td>\n",
       "      <td>11017.13</td>\n",
       "      <td>968.46</td>\n",
       "    </tr>\n",
       "    <tr>\n",
       "      <th>4</th>\n",
       "      <td>4561143213633610</td>\n",
       "      <td>1363361</td>\n",
       "      <td>CC</td>\n",
       "      <td>Y</td>\n",
       "      <td>17.6.1994</td>\n",
       "      <td>NaN</td>\n",
       "      <td>849.37</td>\n",
       "      <td>462.28</td>\n",
       "    </tr>\n",
       "    <tr>\n",
       "      <th>5</th>\n",
       "      <td>4561143213631020</td>\n",
       "      <td>1363102</td>\n",
       "      <td>CC</td>\n",
       "      <td>Y</td>\n",
       "      <td>30.11.1995</td>\n",
       "      <td>NaN</td>\n",
       "      <td>0.00</td>\n",
       "      <td>1000.00</td>\n",
       "    </tr>\n",
       "    <tr>\n",
       "      <th>6</th>\n",
       "      <td>4561143213633270</td>\n",
       "      <td>1363327</td>\n",
       "      <td>CC</td>\n",
       "      <td>Y</td>\n",
       "      <td>2.4.1995</td>\n",
       "      <td>NaN</td>\n",
       "      <td>0.00</td>\n",
       "      <td>3000.00</td>\n",
       "    </tr>\n",
       "    <tr>\n",
       "      <th>7</th>\n",
       "      <td>13628972</td>\n",
       "      <td>1362897</td>\n",
       "      <td>CK</td>\n",
       "      <td>Y</td>\n",
       "      <td>1.8.1995</td>\n",
       "      <td>NaN</td>\n",
       "      <td>152.12</td>\n",
       "      <td>52.33</td>\n",
       "    </tr>\n",
       "    <tr>\n",
       "      <th>8</th>\n",
       "      <td>4561143213632370</td>\n",
       "      <td>1363237</td>\n",
       "      <td>CC</td>\n",
       "      <td>N</td>\n",
       "      <td>24.1.1993</td>\n",
       "      <td>30.1.1995</td>\n",
       "      <td>8649.37</td>\n",
       "      <td>0.00</td>\n",
       "    </tr>\n",
       "    <tr>\n",
       "      <th>9</th>\n",
       "      <td>13627202</td>\n",
       "      <td>1362720</td>\n",
       "      <td>CK</td>\n",
       "      <td>Y</td>\n",
       "      <td>14.11.1995</td>\n",
       "      <td>NaN</td>\n",
       "      <td>1074.16</td>\n",
       "      <td>216.74</td>\n",
       "    </tr>\n",
       "    <tr>\n",
       "      <th>10</th>\n",
       "      <td>4561143213632430</td>\n",
       "      <td>1363243</td>\n",
       "      <td>CC</td>\n",
       "      <td>Y</td>\n",
       "      <td>26.6.1991</td>\n",
       "      <td>NaN</td>\n",
       "      <td>1025.87</td>\n",
       "      <td>110.03</td>\n",
       "    </tr>\n",
       "    <tr>\n",
       "      <th>11</th>\n",
       "      <td>13629452</td>\n",
       "      <td>1362945</td>\n",
       "      <td>CK</td>\n",
       "      <td>Y</td>\n",
       "      <td>22.2.1992</td>\n",
       "      <td>NaN</td>\n",
       "      <td>204.67</td>\n",
       "      <td>375.14</td>\n",
       "    </tr>\n",
       "    <tr>\n",
       "      <th>12</th>\n",
       "      <td>13626413</td>\n",
       "      <td>1362641</td>\n",
       "      <td>SV</td>\n",
       "      <td>N</td>\n",
       "      <td>28.11.1988</td>\n",
       "      <td>6.12.1995</td>\n",
       "      <td>139.95</td>\n",
       "      <td>141.92</td>\n",
       "    </tr>\n",
       "    <tr>\n",
       "      <th>13</th>\n",
       "      <td>13633773</td>\n",
       "      <td>1363377</td>\n",
       "      <td>SV</td>\n",
       "      <td>Y</td>\n",
       "      <td>1.7.1994</td>\n",
       "      <td>NaN</td>\n",
       "      <td>610.91</td>\n",
       "      <td>1782.06</td>\n",
       "    </tr>\n",
       "    <tr>\n",
       "      <th>14</th>\n",
       "      <td>4561143213627930</td>\n",
       "      <td>1362793</td>\n",
       "      <td>CC</td>\n",
       "      <td>Y</td>\n",
       "      <td>16.10.1991</td>\n",
       "      <td>NaN</td>\n",
       "      <td>714.43</td>\n",
       "      <td>407.08</td>\n",
       "    </tr>\n",
       "    <tr>\n",
       "      <th>15</th>\n",
       "      <td>13629403</td>\n",
       "      <td>1362940</td>\n",
       "      <td>SV</td>\n",
       "      <td>Y</td>\n",
       "      <td>22.9.1993</td>\n",
       "      <td>NaN</td>\n",
       "      <td>165.68</td>\n",
       "      <td>778.84</td>\n",
       "    </tr>\n",
       "    <tr>\n",
       "      <th>16</th>\n",
       "      <td>4561143213627820</td>\n",
       "      <td>1362782</td>\n",
       "      <td>CC</td>\n",
       "      <td>Y</td>\n",
       "      <td>2.6.1994</td>\n",
       "      <td>NaN</td>\n",
       "      <td>216.82</td>\n",
       "      <td>1136.06</td>\n",
       "    </tr>\n",
       "    <tr>\n",
       "      <th>17</th>\n",
       "      <td>4561143213631650</td>\n",
       "      <td>1363165</td>\n",
       "      <td>CC</td>\n",
       "      <td>Y</td>\n",
       "      <td>10.9.1989</td>\n",
       "      <td>NaN</td>\n",
       "      <td>261.21</td>\n",
       "      <td>429.34</td>\n",
       "    </tr>\n",
       "    <tr>\n",
       "      <th>18</th>\n",
       "      <td>13625912</td>\n",
       "      <td>1362591</td>\n",
       "      <td>CK</td>\n",
       "      <td>Y</td>\n",
       "      <td>23.6.1993</td>\n",
       "      <td>NaN</td>\n",
       "      <td>3390.49</td>\n",
       "      <td>920.44</td>\n",
       "    </tr>\n",
       "    <tr>\n",
       "      <th>19</th>\n",
       "      <td>4561143213632100</td>\n",
       "      <td>1363210</td>\n",
       "      <td>CC</td>\n",
       "      <td>Y</td>\n",
       "      <td>26.1.1995</td>\n",
       "      <td>NaN</td>\n",
       "      <td>0.00</td>\n",
       "      <td>889.68</td>\n",
       "    </tr>\n",
       "  </tbody>\n",
       "</table>\n",
       "</div>"
      ],
      "text/plain": [
       "            acct_nbr  cust_id acct_type account_active acct_start_date  \\\n",
       "0           13628063  1362806      SV               Y       10.12.1995   \n",
       "1   4561143213627090  1362709      CC               Y        15.3.1993   \n",
       "2   4561143213628360  1362836      CC               Y        18.3.1992   \n",
       "3           13633112  1363311      CK               Y         6.7.1995   \n",
       "4   4561143213633610  1363361      CC               Y        17.6.1994   \n",
       "5   4561143213631020  1363102      CC               Y       30.11.1995   \n",
       "6   4561143213633270  1363327      CC               Y         2.4.1995   \n",
       "7           13628972  1362897      CK               Y         1.8.1995   \n",
       "8   4561143213632370  1363237      CC               N        24.1.1993   \n",
       "9           13627202  1362720      CK               Y       14.11.1995   \n",
       "10  4561143213632430  1363243      CC               Y        26.6.1991   \n",
       "11          13629452  1362945      CK               Y        22.2.1992   \n",
       "12          13626413  1362641      SV               N       28.11.1988   \n",
       "13          13633773  1363377      SV               Y         1.7.1994   \n",
       "14  4561143213627930  1362793      CC               Y       16.10.1991   \n",
       "15          13629403  1362940      SV               Y        22.9.1993   \n",
       "16  4561143213627820  1362782      CC               Y         2.6.1994   \n",
       "17  4561143213631650  1363165      CC               Y        10.9.1989   \n",
       "18          13625912  1362591      CK               Y        23.6.1993   \n",
       "19  4561143213632100  1363210      CC               Y        26.1.1995   \n",
       "\n",
       "   acct_end_date  starting_balance  ending_balance  \n",
       "0            NaN           1430.22          284.58  \n",
       "1            NaN            266.34          496.15  \n",
       "2            NaN             55.90         1000.00  \n",
       "3            NaN          11017.13          968.46  \n",
       "4            NaN            849.37          462.28  \n",
       "5            NaN              0.00         1000.00  \n",
       "6            NaN              0.00         3000.00  \n",
       "7            NaN            152.12           52.33  \n",
       "8      30.1.1995           8649.37            0.00  \n",
       "9            NaN           1074.16          216.74  \n",
       "10           NaN           1025.87          110.03  \n",
       "11           NaN            204.67          375.14  \n",
       "12     6.12.1995            139.95          141.92  \n",
       "13           NaN            610.91         1782.06  \n",
       "14           NaN            714.43          407.08  \n",
       "15           NaN            165.68          778.84  \n",
       "16           NaN            216.82         1136.06  \n",
       "17           NaN            261.21          429.34  \n",
       "18           NaN           3390.49          920.44  \n",
       "19           NaN              0.00          889.68  "
      ]
     },
     "execution_count": 5,
     "metadata": {},
     "output_type": "execute_result"
    }
   ],
   "source": [
    "df_accounts.head(20)"
   ]
  },
  {
   "cell_type": "code",
   "execution_count": 6,
   "metadata": {},
   "outputs": [
    {
     "data": {
      "text/plain": [
       "(1409, 8)"
      ]
     },
     "execution_count": 6,
     "metadata": {},
     "output_type": "execute_result"
    }
   ],
   "source": [
    "df_accounts.shape"
   ]
  },
  {
   "cell_type": "code",
   "execution_count": 7,
   "metadata": {},
   "outputs": [
    {
     "data": {
      "text/plain": [
       "acct_nbr               0\n",
       "cust_id                0\n",
       "acct_type              0\n",
       "account_active         0\n",
       "acct_start_date        0\n",
       "acct_end_date       1266\n",
       "starting_balance       0\n",
       "ending_balance         0\n",
       "dtype: int64"
      ]
     },
     "execution_count": 7,
     "metadata": {},
     "output_type": "execute_result"
    }
   ],
   "source": [
    "df_accounts.isnull().sum()"
   ]
  },
  {
   "cell_type": "markdown",
   "metadata": {},
   "source": [
    "## twm_customer Exploration"
   ]
  },
  {
   "cell_type": "code",
   "execution_count": 8,
   "metadata": {},
   "outputs": [],
   "source": [
    "df_cust = pd.read_csv('mini-project-III/twm_customer.csv', sep=';')"
   ]
  },
  {
   "cell_type": "code",
   "execution_count": 9,
   "metadata": {},
   "outputs": [
    {
     "data": {
      "text/html": [
       "<div>\n",
       "<style scoped>\n",
       "    .dataframe tbody tr th:only-of-type {\n",
       "        vertical-align: middle;\n",
       "    }\n",
       "\n",
       "    .dataframe tbody tr th {\n",
       "        vertical-align: top;\n",
       "    }\n",
       "\n",
       "    .dataframe thead th {\n",
       "        text-align: right;\n",
       "    }\n",
       "</style>\n",
       "<table border=\"1\" class=\"dataframe\">\n",
       "  <thead>\n",
       "    <tr style=\"text-align: right;\">\n",
       "      <th></th>\n",
       "      <th>cust_id</th>\n",
       "      <th>income</th>\n",
       "      <th>age</th>\n",
       "      <th>years_with_bank</th>\n",
       "      <th>nbr_children</th>\n",
       "      <th>gender</th>\n",
       "      <th>marital_status</th>\n",
       "      <th>name_prefix</th>\n",
       "      <th>first_name</th>\n",
       "      <th>last_name</th>\n",
       "      <th>street_nbr</th>\n",
       "      <th>street_name</th>\n",
       "      <th>postal_code</th>\n",
       "      <th>city_name</th>\n",
       "      <th>state_code</th>\n",
       "    </tr>\n",
       "  </thead>\n",
       "  <tbody>\n",
       "    <tr>\n",
       "      <th>0</th>\n",
       "      <td>1362691</td>\n",
       "      <td>26150</td>\n",
       "      <td>46</td>\n",
       "      <td>5</td>\n",
       "      <td>1</td>\n",
       "      <td>M</td>\n",
       "      <td>2</td>\n",
       "      <td></td>\n",
       "      <td>Donald                                        ...</td>\n",
       "      <td>Marek                                         ...</td>\n",
       "      <td>8298</td>\n",
       "      <td>Second                                        ...</td>\n",
       "      <td>89194</td>\n",
       "      <td>Las Vegas</td>\n",
       "      <td>NV</td>\n",
       "    </tr>\n",
       "    <tr>\n",
       "      <th>1</th>\n",
       "      <td>1362487</td>\n",
       "      <td>6605</td>\n",
       "      <td>71</td>\n",
       "      <td>1</td>\n",
       "      <td>0</td>\n",
       "      <td>M</td>\n",
       "      <td>2</td>\n",
       "      <td></td>\n",
       "      <td>ChingDyi                                      ...</td>\n",
       "      <td>Moussavi                                      ...</td>\n",
       "      <td>10603</td>\n",
       "      <td>Daffodil                                      ...</td>\n",
       "      <td>90159</td>\n",
       "      <td>Los Angeles</td>\n",
       "      <td>CA</td>\n",
       "    </tr>\n",
       "    <tr>\n",
       "      <th>2</th>\n",
       "      <td>1363160</td>\n",
       "      <td>18548</td>\n",
       "      <td>38</td>\n",
       "      <td>8</td>\n",
       "      <td>0</td>\n",
       "      <td>F</td>\n",
       "      <td>1</td>\n",
       "      <td></td>\n",
       "      <td>Rosa                                          ...</td>\n",
       "      <td>Johnston                                      ...</td>\n",
       "      <td>8817</td>\n",
       "      <td>Figueroa                                      ...</td>\n",
       "      <td>90024</td>\n",
       "      <td>Los Angeles</td>\n",
       "      <td>CA</td>\n",
       "    </tr>\n",
       "    <tr>\n",
       "      <th>3</th>\n",
       "      <td>1362752</td>\n",
       "      <td>47668</td>\n",
       "      <td>54</td>\n",
       "      <td>3</td>\n",
       "      <td>0</td>\n",
       "      <td>F</td>\n",
       "      <td>1</td>\n",
       "      <td></td>\n",
       "      <td>Lisa                                          ...</td>\n",
       "      <td>Martin                                        ...</td>\n",
       "      <td>676</td>\n",
       "      <td>Humble                                        ...</td>\n",
       "      <td>90172</td>\n",
       "      <td>Los Angeles</td>\n",
       "      <td>CA</td>\n",
       "    </tr>\n",
       "    <tr>\n",
       "      <th>4</th>\n",
       "      <td>1362548</td>\n",
       "      <td>44554</td>\n",
       "      <td>59</td>\n",
       "      <td>9</td>\n",
       "      <td>2</td>\n",
       "      <td>F</td>\n",
       "      <td>4</td>\n",
       "      <td></td>\n",
       "      <td>Barbara                                       ...</td>\n",
       "      <td>O'Malley                                      ...</td>\n",
       "      <td>6578</td>\n",
       "      <td>C                                             ...</td>\n",
       "      <td>10138</td>\n",
       "      <td>New York City</td>\n",
       "      <td>NY</td>\n",
       "    </tr>\n",
       "    <tr>\n",
       "      <th>5</th>\n",
       "      <td>1362813</td>\n",
       "      <td>15684</td>\n",
       "      <td>53</td>\n",
       "      <td>3</td>\n",
       "      <td>2</td>\n",
       "      <td>F</td>\n",
       "      <td>2</td>\n",
       "      <td></td>\n",
       "      <td>Terry                                         ...</td>\n",
       "      <td>Eubanks                                       ...</td>\n",
       "      <td>6999</td>\n",
       "      <td>Begonia                                       ...</td>\n",
       "      <td>60654</td>\n",
       "      <td>Chicago</td>\n",
       "      <td>IL</td>\n",
       "    </tr>\n",
       "    <tr>\n",
       "      <th>6</th>\n",
       "      <td>1363017</td>\n",
       "      <td>0</td>\n",
       "      <td>16</td>\n",
       "      <td>1</td>\n",
       "      <td>0</td>\n",
       "      <td>M</td>\n",
       "      <td>1</td>\n",
       "      <td></td>\n",
       "      <td>Tim                                           ...</td>\n",
       "      <td>McMillen                                      ...</td>\n",
       "      <td>10274</td>\n",
       "      <td>Mission Gorge                                 ...</td>\n",
       "      <td>90095</td>\n",
       "      <td>Los Angeles</td>\n",
       "      <td>CA</td>\n",
       "    </tr>\n",
       "    <tr>\n",
       "      <th>7</th>\n",
       "      <td>1362609</td>\n",
       "      <td>1929</td>\n",
       "      <td>79</td>\n",
       "      <td>8</td>\n",
       "      <td>0</td>\n",
       "      <td>F</td>\n",
       "      <td>2</td>\n",
       "      <td></td>\n",
       "      <td>Sandy                                         ...</td>\n",
       "      <td>Rayhanian                                     ...</td>\n",
       "      <td>6168</td>\n",
       "      <td>Camellia                                      ...</td>\n",
       "      <td>96846</td>\n",
       "      <td>Honolulu</td>\n",
       "      <td>HI</td>\n",
       "    </tr>\n",
       "    <tr>\n",
       "      <th>8</th>\n",
       "      <td>1363486</td>\n",
       "      <td>39942</td>\n",
       "      <td>41</td>\n",
       "      <td>1</td>\n",
       "      <td>5</td>\n",
       "      <td>F</td>\n",
       "      <td>4</td>\n",
       "      <td></td>\n",
       "      <td>Jill                                          ...</td>\n",
       "      <td>Campbell                                      ...</td>\n",
       "      <td>3830</td>\n",
       "      <td>Tenth                                         ...</td>\n",
       "      <td>96802</td>\n",
       "      <td>Honolulu</td>\n",
       "      <td>HI</td>\n",
       "    </tr>\n",
       "    <tr>\n",
       "      <th>9</th>\n",
       "      <td>1363078</td>\n",
       "      <td>9622</td>\n",
       "      <td>46</td>\n",
       "      <td>6</td>\n",
       "      <td>1</td>\n",
       "      <td>M</td>\n",
       "      <td>2</td>\n",
       "      <td>Mr.</td>\n",
       "      <td>Christopher                                   ...</td>\n",
       "      <td>McVicker                                      ...</td>\n",
       "      <td>14382</td>\n",
       "      <td>Peach                                         ...</td>\n",
       "      <td>96822</td>\n",
       "      <td>Honolulu</td>\n",
       "      <td>HI</td>\n",
       "    </tr>\n",
       "    <tr>\n",
       "      <th>10</th>\n",
       "      <td>1363282</td>\n",
       "      <td>25829</td>\n",
       "      <td>29</td>\n",
       "      <td>8</td>\n",
       "      <td>0</td>\n",
       "      <td>F</td>\n",
       "      <td>1</td>\n",
       "      <td>Ms.</td>\n",
       "      <td>Betty                                         ...</td>\n",
       "      <td>Gausman                                       ...</td>\n",
       "      <td>3278</td>\n",
       "      <td>Capital                                       ...</td>\n",
       "      <td>20129</td>\n",
       "      <td>Washington</td>\n",
       "      <td>DC</td>\n",
       "    </tr>\n",
       "    <tr>\n",
       "      <th>11</th>\n",
       "      <td>1363343</td>\n",
       "      <td>0</td>\n",
       "      <td>15</td>\n",
       "      <td>0</td>\n",
       "      <td>0</td>\n",
       "      <td>M</td>\n",
       "      <td>1</td>\n",
       "      <td></td>\n",
       "      <td>Robin                                         ...</td>\n",
       "      <td>Shin                                          ...</td>\n",
       "      <td>1168</td>\n",
       "      <td>Cactus                                        ...</td>\n",
       "      <td>77061</td>\n",
       "      <td>Houston</td>\n",
       "      <td>TX</td>\n",
       "    </tr>\n",
       "    <tr>\n",
       "      <th>12</th>\n",
       "      <td>1362527</td>\n",
       "      <td>17622</td>\n",
       "      <td>44</td>\n",
       "      <td>1</td>\n",
       "      <td>0</td>\n",
       "      <td>M</td>\n",
       "      <td>2</td>\n",
       "      <td></td>\n",
       "      <td>Chuck                                         ...</td>\n",
       "      <td>Flynn                                         ...</td>\n",
       "      <td>1735</td>\n",
       "      <td>B                                             ...</td>\n",
       "      <td>94145</td>\n",
       "      <td>San Francisco</td>\n",
       "      <td>CA</td>\n",
       "    </tr>\n",
       "    <tr>\n",
       "      <th>13</th>\n",
       "      <td>1362670</td>\n",
       "      <td>8877</td>\n",
       "      <td>26</td>\n",
       "      <td>5</td>\n",
       "      <td>0</td>\n",
       "      <td>F</td>\n",
       "      <td>1</td>\n",
       "      <td></td>\n",
       "      <td>Lynn                                          ...</td>\n",
       "      <td>Wolf                                          ...</td>\n",
       "      <td>18743</td>\n",
       "      <td>First                                         ...</td>\n",
       "      <td>90025</td>\n",
       "      <td>Los Angeles</td>\n",
       "      <td>CA</td>\n",
       "    </tr>\n",
       "    <tr>\n",
       "      <th>14</th>\n",
       "      <td>1362996</td>\n",
       "      <td>23351</td>\n",
       "      <td>51</td>\n",
       "      <td>1</td>\n",
       "      <td>2</td>\n",
       "      <td>F</td>\n",
       "      <td>2</td>\n",
       "      <td>Mrs.</td>\n",
       "      <td>Robin                                         ...</td>\n",
       "      <td>Johnson                                       ...</td>\n",
       "      <td>5364</td>\n",
       "      <td>Capital                                       ...</td>\n",
       "      <td>19136</td>\n",
       "      <td>Philadelphia</td>\n",
       "      <td>PA</td>\n",
       "    </tr>\n",
       "    <tr>\n",
       "      <th>15</th>\n",
       "      <td>1362935</td>\n",
       "      <td>0</td>\n",
       "      <td>15</td>\n",
       "      <td>0</td>\n",
       "      <td>0</td>\n",
       "      <td>M</td>\n",
       "      <td>1</td>\n",
       "      <td></td>\n",
       "      <td>Duncan                                        ...</td>\n",
       "      <td>Paul                                          ...</td>\n",
       "      <td>15329</td>\n",
       "      <td>Spring Center                                 ...</td>\n",
       "      <td>97237</td>\n",
       "      <td>Portland</td>\n",
       "      <td>OR</td>\n",
       "    </tr>\n",
       "    <tr>\n",
       "      <th>16</th>\n",
       "      <td>1363465</td>\n",
       "      <td>10516</td>\n",
       "      <td>41</td>\n",
       "      <td>1</td>\n",
       "      <td>1</td>\n",
       "      <td>M</td>\n",
       "      <td>4</td>\n",
       "      <td></td>\n",
       "      <td>Harvey                                        ...</td>\n",
       "      <td>Hudson                                        ...</td>\n",
       "      <td>3593</td>\n",
       "      <td>Seventh                                       ...</td>\n",
       "      <td>92510</td>\n",
       "      <td>Riverside</td>\n",
       "      <td>CA</td>\n",
       "    </tr>\n",
       "    <tr>\n",
       "      <th>17</th>\n",
       "      <td>1363404</td>\n",
       "      <td>0</td>\n",
       "      <td>17</td>\n",
       "      <td>2</td>\n",
       "      <td>0</td>\n",
       "      <td>M</td>\n",
       "      <td>1</td>\n",
       "      <td></td>\n",
       "      <td>Jacob                                         ...</td>\n",
       "      <td>Matthews                                      ...</td>\n",
       "      <td>17238</td>\n",
       "      <td>Flower                                        ...</td>\n",
       "      <td>43688</td>\n",
       "      <td>Toledo</td>\n",
       "      <td>OH</td>\n",
       "    </tr>\n",
       "    <tr>\n",
       "      <th>18</th>\n",
       "      <td>1362588</td>\n",
       "      <td>6354</td>\n",
       "      <td>66</td>\n",
       "      <td>6</td>\n",
       "      <td>0</td>\n",
       "      <td>M</td>\n",
       "      <td>2</td>\n",
       "      <td></td>\n",
       "      <td>Geneve                                        ...</td>\n",
       "      <td>McGough                                       ...</td>\n",
       "      <td>10631</td>\n",
       "      <td>Park                                          ...</td>\n",
       "      <td>98137</td>\n",
       "      <td>Seattle</td>\n",
       "      <td>WA</td>\n",
       "    </tr>\n",
       "    <tr>\n",
       "      <th>19</th>\n",
       "      <td>1363200</td>\n",
       "      <td>21015</td>\n",
       "      <td>18</td>\n",
       "      <td>3</td>\n",
       "      <td>0</td>\n",
       "      <td>M</td>\n",
       "      <td>1</td>\n",
       "      <td></td>\n",
       "      <td>Owen                                          ...</td>\n",
       "      <td>Maloney                                       ...</td>\n",
       "      <td>18391</td>\n",
       "      <td>J                                             ...</td>\n",
       "      <td>94225</td>\n",
       "      <td>Sacramento</td>\n",
       "      <td>CA</td>\n",
       "    </tr>\n",
       "  </tbody>\n",
       "</table>\n",
       "</div>"
      ],
      "text/plain": [
       "    cust_id  income  age  years_with_bank  nbr_children gender  \\\n",
       "0   1362691   26150   46                5             1     M    \n",
       "1   1362487    6605   71                1             0     M    \n",
       "2   1363160   18548   38                8             0     F    \n",
       "3   1362752   47668   54                3             0     F    \n",
       "4   1362548   44554   59                9             2     F    \n",
       "5   1362813   15684   53                3             2     F    \n",
       "6   1363017       0   16                1             0     M    \n",
       "7   1362609    1929   79                8             0     F    \n",
       "8   1363486   39942   41                1             5     F    \n",
       "9   1363078    9622   46                6             1     M    \n",
       "10  1363282   25829   29                8             0     F    \n",
       "11  1363343       0   15                0             0     M    \n",
       "12  1362527   17622   44                1             0     M    \n",
       "13  1362670    8877   26                5             0     F    \n",
       "14  1362996   23351   51                1             2     F    \n",
       "15  1362935       0   15                0             0     M    \n",
       "16  1363465   10516   41                1             1     M    \n",
       "17  1363404       0   17                2             0     M    \n",
       "18  1362588    6354   66                6             0     M    \n",
       "19  1363200   21015   18                3             0     M    \n",
       "\n",
       "    marital_status name_prefix  \\\n",
       "0                2               \n",
       "1                2               \n",
       "2                1               \n",
       "3                1               \n",
       "4                4               \n",
       "5                2               \n",
       "6                1               \n",
       "7                2               \n",
       "8                4               \n",
       "9                2    Mr.        \n",
       "10               1    Ms.        \n",
       "11               1               \n",
       "12               2               \n",
       "13               1               \n",
       "14               2    Mrs.       \n",
       "15               1               \n",
       "16               4               \n",
       "17               1               \n",
       "18               2               \n",
       "19               1               \n",
       "\n",
       "                                           first_name  \\\n",
       "0   Donald                                        ...   \n",
       "1   ChingDyi                                      ...   \n",
       "2   Rosa                                          ...   \n",
       "3   Lisa                                          ...   \n",
       "4   Barbara                                       ...   \n",
       "5   Terry                                         ...   \n",
       "6   Tim                                           ...   \n",
       "7   Sandy                                         ...   \n",
       "8   Jill                                          ...   \n",
       "9   Christopher                                   ...   \n",
       "10  Betty                                         ...   \n",
       "11  Robin                                         ...   \n",
       "12  Chuck                                         ...   \n",
       "13  Lynn                                          ...   \n",
       "14  Robin                                         ...   \n",
       "15  Duncan                                        ...   \n",
       "16  Harvey                                        ...   \n",
       "17  Jacob                                         ...   \n",
       "18  Geneve                                        ...   \n",
       "19  Owen                                          ...   \n",
       "\n",
       "                                            last_name  street_nbr  \\\n",
       "0   Marek                                         ...        8298   \n",
       "1   Moussavi                                      ...       10603   \n",
       "2   Johnston                                      ...        8817   \n",
       "3   Martin                                        ...         676   \n",
       "4   O'Malley                                      ...        6578   \n",
       "5   Eubanks                                       ...        6999   \n",
       "6   McMillen                                      ...       10274   \n",
       "7   Rayhanian                                     ...        6168   \n",
       "8   Campbell                                      ...        3830   \n",
       "9   McVicker                                      ...       14382   \n",
       "10  Gausman                                       ...        3278   \n",
       "11  Shin                                          ...        1168   \n",
       "12  Flynn                                         ...        1735   \n",
       "13  Wolf                                          ...       18743   \n",
       "14  Johnson                                       ...        5364   \n",
       "15  Paul                                          ...       15329   \n",
       "16  Hudson                                        ...        3593   \n",
       "17  Matthews                                      ...       17238   \n",
       "18  McGough                                       ...       10631   \n",
       "19  Maloney                                       ...       18391   \n",
       "\n",
       "                                          street_name  postal_code  \\\n",
       "0   Second                                        ...        89194   \n",
       "1   Daffodil                                      ...        90159   \n",
       "2   Figueroa                                      ...        90024   \n",
       "3   Humble                                        ...        90172   \n",
       "4   C                                             ...        10138   \n",
       "5   Begonia                                       ...        60654   \n",
       "6   Mission Gorge                                 ...        90095   \n",
       "7   Camellia                                      ...        96846   \n",
       "8   Tenth                                         ...        96802   \n",
       "9   Peach                                         ...        96822   \n",
       "10  Capital                                       ...        20129   \n",
       "11  Cactus                                        ...        77061   \n",
       "12  B                                             ...        94145   \n",
       "13  First                                         ...        90025   \n",
       "14  Capital                                       ...        19136   \n",
       "15  Spring Center                                 ...        97237   \n",
       "16  Seventh                                       ...        92510   \n",
       "17  Flower                                        ...        43688   \n",
       "18  Park                                          ...        98137   \n",
       "19  J                                             ...        94225   \n",
       "\n",
       "                                   city_name state_code  \n",
       "0   Las Vegas                                      NV    \n",
       "1   Los Angeles                                    CA    \n",
       "2   Los Angeles                                    CA    \n",
       "3   Los Angeles                                    CA    \n",
       "4   New York City                                  NY    \n",
       "5   Chicago                                        IL    \n",
       "6   Los Angeles                                    CA    \n",
       "7   Honolulu                                       HI    \n",
       "8   Honolulu                                       HI    \n",
       "9   Honolulu                                       HI    \n",
       "10  Washington                                     DC    \n",
       "11  Houston                                        TX    \n",
       "12  San Francisco                                  CA    \n",
       "13  Los Angeles                                    CA    \n",
       "14  Philadelphia                                   PA    \n",
       "15  Portland                                       OR    \n",
       "16  Riverside                                      CA    \n",
       "17  Toledo                                         OH    \n",
       "18  Seattle                                        WA    \n",
       "19  Sacramento                                     CA    "
      ]
     },
     "execution_count": 9,
     "metadata": {},
     "output_type": "execute_result"
    }
   ],
   "source": [
    "df_cust.head(20)"
   ]
  },
  {
   "cell_type": "code",
   "execution_count": 10,
   "metadata": {},
   "outputs": [
    {
     "data": {
      "text/plain": [
       "(747, 15)"
      ]
     },
     "execution_count": 10,
     "metadata": {},
     "output_type": "execute_result"
    }
   ],
   "source": [
    "df_cust.shape"
   ]
  },
  {
   "cell_type": "code",
   "execution_count": 11,
   "metadata": {},
   "outputs": [
    {
     "data": {
      "text/plain": [
       "cust_id            0\n",
       "income             0\n",
       "age                0\n",
       "years_with_bank    0\n",
       "nbr_children       0\n",
       "gender             0\n",
       "marital_status     0\n",
       "name_prefix        0\n",
       "first_name         0\n",
       "last_name          0\n",
       "street_nbr         0\n",
       "street_name        0\n",
       "postal_code        0\n",
       "city_name          0\n",
       "state_code         0\n",
       "dtype: int64"
      ]
     },
     "execution_count": 11,
     "metadata": {},
     "output_type": "execute_result"
    }
   ],
   "source": [
    "df_cust.isnull().sum()"
   ]
  },
  {
   "cell_type": "markdown",
   "metadata": {},
   "source": [
    "### Try K-means to cluster customer demographics"
   ]
  },
  {
   "cell_type": "code",
   "execution_count": 12,
   "metadata": {},
   "outputs": [],
   "source": [
    "# filter for only numerical features\n",
    "df_cust_num = df_cust.iloc[:, 1:7].drop('gender', 1)"
   ]
  },
  {
   "cell_type": "code",
   "execution_count": 13,
   "metadata": {},
   "outputs": [
    {
     "data": {
      "text/plain": [
       "(747, 5)"
      ]
     },
     "execution_count": 13,
     "metadata": {},
     "output_type": "execute_result"
    }
   ],
   "source": [
    "df_cust_num.shape"
   ]
  },
  {
   "cell_type": "code",
   "execution_count": 14,
   "metadata": {},
   "outputs": [
    {
     "data": {
      "text/html": [
       "<div>\n",
       "<style scoped>\n",
       "    .dataframe tbody tr th:only-of-type {\n",
       "        vertical-align: middle;\n",
       "    }\n",
       "\n",
       "    .dataframe tbody tr th {\n",
       "        vertical-align: top;\n",
       "    }\n",
       "\n",
       "    .dataframe thead th {\n",
       "        text-align: right;\n",
       "    }\n",
       "</style>\n",
       "<table border=\"1\" class=\"dataframe\">\n",
       "  <thead>\n",
       "    <tr style=\"text-align: right;\">\n",
       "      <th></th>\n",
       "      <th>income</th>\n",
       "      <th>age</th>\n",
       "      <th>years_with_bank</th>\n",
       "      <th>nbr_children</th>\n",
       "      <th>marital_status</th>\n",
       "    </tr>\n",
       "  </thead>\n",
       "  <tbody>\n",
       "    <tr>\n",
       "      <th>0</th>\n",
       "      <td>26150</td>\n",
       "      <td>46</td>\n",
       "      <td>5</td>\n",
       "      <td>1</td>\n",
       "      <td>2</td>\n",
       "    </tr>\n",
       "    <tr>\n",
       "      <th>1</th>\n",
       "      <td>6605</td>\n",
       "      <td>71</td>\n",
       "      <td>1</td>\n",
       "      <td>0</td>\n",
       "      <td>2</td>\n",
       "    </tr>\n",
       "    <tr>\n",
       "      <th>2</th>\n",
       "      <td>18548</td>\n",
       "      <td>38</td>\n",
       "      <td>8</td>\n",
       "      <td>0</td>\n",
       "      <td>1</td>\n",
       "    </tr>\n",
       "    <tr>\n",
       "      <th>3</th>\n",
       "      <td>47668</td>\n",
       "      <td>54</td>\n",
       "      <td>3</td>\n",
       "      <td>0</td>\n",
       "      <td>1</td>\n",
       "    </tr>\n",
       "    <tr>\n",
       "      <th>4</th>\n",
       "      <td>44554</td>\n",
       "      <td>59</td>\n",
       "      <td>9</td>\n",
       "      <td>2</td>\n",
       "      <td>4</td>\n",
       "    </tr>\n",
       "    <tr>\n",
       "      <th>...</th>\n",
       "      <td>...</td>\n",
       "      <td>...</td>\n",
       "      <td>...</td>\n",
       "      <td>...</td>\n",
       "      <td>...</td>\n",
       "    </tr>\n",
       "    <tr>\n",
       "      <th>742</th>\n",
       "      <td>14795</td>\n",
       "      <td>36</td>\n",
       "      <td>6</td>\n",
       "      <td>1</td>\n",
       "      <td>4</td>\n",
       "    </tr>\n",
       "    <tr>\n",
       "      <th>743</th>\n",
       "      <td>26387</td>\n",
       "      <td>56</td>\n",
       "      <td>6</td>\n",
       "      <td>1</td>\n",
       "      <td>2</td>\n",
       "    </tr>\n",
       "    <tr>\n",
       "      <th>744</th>\n",
       "      <td>61300</td>\n",
       "      <td>50</td>\n",
       "      <td>0</td>\n",
       "      <td>2</td>\n",
       "      <td>2</td>\n",
       "    </tr>\n",
       "    <tr>\n",
       "      <th>745</th>\n",
       "      <td>15100</td>\n",
       "      <td>37</td>\n",
       "      <td>7</td>\n",
       "      <td>0</td>\n",
       "      <td>2</td>\n",
       "    </tr>\n",
       "    <tr>\n",
       "      <th>746</th>\n",
       "      <td>17875</td>\n",
       "      <td>18</td>\n",
       "      <td>3</td>\n",
       "      <td>0</td>\n",
       "      <td>1</td>\n",
       "    </tr>\n",
       "  </tbody>\n",
       "</table>\n",
       "<p>747 rows × 5 columns</p>\n",
       "</div>"
      ],
      "text/plain": [
       "     income  age  years_with_bank  nbr_children  marital_status\n",
       "0     26150   46                5             1               2\n",
       "1      6605   71                1             0               2\n",
       "2     18548   38                8             0               1\n",
       "3     47668   54                3             0               1\n",
       "4     44554   59                9             2               4\n",
       "..      ...  ...              ...           ...             ...\n",
       "742   14795   36                6             1               4\n",
       "743   26387   56                6             1               2\n",
       "744   61300   50                0             2               2\n",
       "745   15100   37                7             0               2\n",
       "746   17875   18                3             0               1\n",
       "\n",
       "[747 rows x 5 columns]"
      ]
     },
     "execution_count": 14,
     "metadata": {},
     "output_type": "execute_result"
    }
   ],
   "source": [
    "df_cust_num"
   ]
  },
  {
   "cell_type": "code",
   "execution_count": 15,
   "metadata": {},
   "outputs": [],
   "source": [
    "# scale result\n",
    "from sklearn.preprocessing import StandardScaler"
   ]
  },
  {
   "cell_type": "code",
   "execution_count": 16,
   "metadata": {},
   "outputs": [],
   "source": [
    "sc=StandardScaler()\n",
    "df_cust_scaled=sc.fit_transform(df_cust_num)"
   ]
  },
  {
   "cell_type": "code",
   "execution_count": 17,
   "metadata": {
    "jupyter": {
     "source_hidden": true
    }
   },
   "outputs": [
    {
     "data": {
      "text/plain": [
       "(747, 5)"
      ]
     },
     "execution_count": 17,
     "metadata": {},
     "output_type": "execute_result"
    }
   ],
   "source": [
    "df_cust_scaled.shape"
   ]
  },
  {
   "cell_type": "code",
   "execution_count": 18,
   "metadata": {},
   "outputs": [],
   "source": [
    "# use distortion plot to determine best number of clusters\n",
    "%matplotlib inline\n",
    "def plot_distortion(X,max_clusters = 10):\n",
    "    distortions = []\n",
    "    for i in range(1, max_clusters +1):\n",
    "        km = KMeans(n_clusters=i,\n",
    "                    init='k-means++',\n",
    "                    n_init=10,\n",
    "                    random_state=0)\n",
    "        km.fit(X)\n",
    "        distortions.append(km.inertia_)\n",
    "\n",
    "    plt.plot(range(1,max_clusters +1), distortions, marker='o')\n",
    "    plt.xlabel('Number of clusters')\n",
    "    plt.ylabel('Distortion')\n",
    "    plt.show()"
   ]
  },
  {
   "cell_type": "code",
   "execution_count": 19,
   "metadata": {},
   "outputs": [
    {
     "data": {
      "image/png": "[encoded data removed]",
      "text/plain": [
       "<Figure size 432x288 with 1 Axes>"
      ]
     },
     "metadata": {
      "needs_background": "light"
     },
     "output_type": "display_data"
    }
   ],
   "source": [
    "plot_distortion(df_cust_scaled)"
   ]
  },
  {
   "cell_type": "code",
   "execution_count": 20,
   "metadata": {},
   "outputs": [],
   "source": [
    "# going to choose k = 5 to start with"
   ]
  },
  {
   "cell_type": "code",
   "execution_count": null,
   "metadata": {},
   "outputs": [],
   "source": []
  },
  {
   "cell_type": "code",
   "execution_count": 21,
   "metadata": {},
   "outputs": [],
   "source": [
    "km_5=KMeans(n_clusters=5, n_init=10, random_state=12345)\n",
    "y_km = km_5.fit_predict(df_cust_scaled)"
   ]
  },
  {
   "cell_type": "code",
   "execution_count": null,
   "metadata": {},
   "outputs": [],
   "source": []
  },
  {
   "cell_type": "code",
   "execution_count": null,
   "metadata": {},
   "outputs": [],
   "source": []
  },
  {
   "cell_type": "code",
   "execution_count": 22,
   "metadata": {},
   "outputs": [],
   "source": [
    "def plot_clusters(X,y_res, plt_cluster_centers = False):\n",
    "    X_centroids = []\n",
    "    Y_centroids = []\n",
    "\n",
    "    for cluster in set(y_res):\n",
    "        x = X[y_res == cluster,0]\n",
    "        y = X[y_res == cluster,1]\n",
    "        X_centroids.append(np.mean(x))\n",
    "        Y_centroids.append(np.mean(y))\n",
    "\n",
    "        plt.scatter(x,\n",
    "                    y,\n",
    "                    s=50,\n",
    "                    marker='s',\n",
    "                    label=f'cluster {cluster}')\n",
    "\n",
    "    if plt_cluster_centers:\n",
    "        plt.scatter(X_centroids,\n",
    "                    Y_centroids,\n",
    "                    marker='*',\n",
    "                    c='red',\n",
    "                    s=250,\n",
    "                    label='centroids')\n",
    "    plt.legend()\n",
    "    plt.grid()\n",
    "    plt.show()"
   ]
  },
  {
   "cell_type": "code",
   "execution_count": 23,
   "metadata": {},
   "outputs": [],
   "source": [
    "# set figure size\n",
    "plt.rcParams[\"figure.figsize\"] = (12,8)"
   ]
  },
  {
   "cell_type": "code",
   "execution_count": 24,
   "metadata": {},
   "outputs": [
    {
     "data": {
      "image/png": "[encoded data removed]",
      "text/plain": [
       "<Figure size 864x576 with 1 Axes>"
      ]
     },
     "metadata": {
      "needs_background": "light"
     },
     "output_type": "display_data"
    }
   ],
   "source": [
    "plot_clusters(df_cust_scaled, y_km, plt_cluster_centers = True)"
   ]
  },
  {
   "cell_type": "code",
   "execution_count": 25,
   "metadata": {},
   "outputs": [],
   "source": [
    "# can't visualize this! Too many dimensions"
   ]
  },
  {
   "cell_type": "code",
   "execution_count": null,
   "metadata": {},
   "outputs": [],
   "source": []
  },
  {
   "cell_type": "code",
   "execution_count": 26,
   "metadata": {},
   "outputs": [],
   "source": [
    "# trim down further to just 2 columns\n",
    "# 'income' & 'age'\n",
    "df_inc_age = df_cust_num.iloc[:, :2]"
   ]
  },
  {
   "cell_type": "code",
   "execution_count": 27,
   "metadata": {},
   "outputs": [],
   "source": [
    "# scale\n",
    "df_inc_age_scaled=sc.fit_transform(df_inc_age)"
   ]
  },
  {
   "cell_type": "code",
   "execution_count": 28,
   "metadata": {},
   "outputs": [
    {
     "data": {
      "text/plain": [
       "array([[ 0.1541846 ,  0.18431237],\n",
       "       [-0.72652421,  1.49307037],\n",
       "       [-0.18836584, -0.23449019],\n",
       "       ...,\n",
       "       [ 1.73806357,  0.39371365],\n",
       "       [-0.34373468, -0.28684051],\n",
       "       [-0.21869161, -1.28149658]])"
      ]
     },
     "execution_count": 28,
     "metadata": {},
     "output_type": "execute_result"
    }
   ],
   "source": [
    "df_inc_age_scaled"
   ]
  },
  {
   "cell_type": "code",
   "execution_count": 29,
   "metadata": {},
   "outputs": [
    {
     "data": {
      "image/png": "[encoded data removed]",
      "text/plain": [
       "<Figure size 864x576 with 1 Axes>"
      ]
     },
     "metadata": {
      "needs_background": "light"
     },
     "output_type": "display_data"
    }
   ],
   "source": [
    "plot_distortion(df_inc_age_scaled)"
   ]
  },
  {
   "cell_type": "code",
   "execution_count": 30,
   "metadata": {},
   "outputs": [],
   "source": [
    "# choose k = 5\n",
    "km_5_inc_age=KMeans(n_clusters=5, n_init=10, random_state=1245)\n",
    "y_km_inc_age = km_5_inc_age.fit_predict(df_inc_age_scaled)"
   ]
  },
  {
   "cell_type": "code",
   "execution_count": 31,
   "metadata": {},
   "outputs": [
    {
     "data": {
      "image/png": "[encoded data removed]",
      "text/plain": [
       "<Figure size 864x576 with 1 Axes>"
      ]
     },
     "metadata": {
      "needs_background": "light"
     },
     "output_type": "display_data"
    }
   ],
   "source": [
    "plot_clusters(df_inc_age_scaled, y_km_inc_age, plt_cluster_centers = True)"
   ]
  },
  {
   "cell_type": "code",
   "execution_count": null,
   "metadata": {},
   "outputs": [],
   "source": []
  },
  {
   "cell_type": "markdown",
   "metadata": {},
   "source": [
    "## Create Numeric DataFrame for Customer Info"
   ]
  },
  {
   "cell_type": "code",
   "execution_count": 32,
   "metadata": {},
   "outputs": [],
   "source": [
    "df_customer_numeric = df_cust.iloc[:, 1:7]"
   ]
  },
  {
   "cell_type": "code",
   "execution_count": 33,
   "metadata": {},
   "outputs": [],
   "source": [
    "df_customer_numeric['gender'].replace({'F ':0,'M ':1},inplace=True)"
   ]
  },
  {
   "cell_type": "code",
   "execution_count": 34,
   "metadata": {},
   "outputs": [
    {
     "data": {
      "text/html": [
       "<div>\n",
       "<style scoped>\n",
       "    .dataframe tbody tr th:only-of-type {\n",
       "        vertical-align: middle;\n",
       "    }\n",
       "\n",
       "    .dataframe tbody tr th {\n",
       "        vertical-align: top;\n",
       "    }\n",
       "\n",
       "    .dataframe thead th {\n",
       "        text-align: right;\n",
       "    }\n",
       "</style>\n",
       "<table border=\"1\" class=\"dataframe\">\n",
       "  <thead>\n",
       "    <tr style=\"text-align: right;\">\n",
       "      <th></th>\n",
       "      <th>income</th>\n",
       "      <th>age</th>\n",
       "      <th>years_with_bank</th>\n",
       "      <th>nbr_children</th>\n",
       "      <th>gender</th>\n",
       "      <th>marital_status</th>\n",
       "    </tr>\n",
       "  </thead>\n",
       "  <tbody>\n",
       "    <tr>\n",
       "      <th>0</th>\n",
       "      <td>26150</td>\n",
       "      <td>46</td>\n",
       "      <td>5</td>\n",
       "      <td>1</td>\n",
       "      <td>1</td>\n",
       "      <td>2</td>\n",
       "    </tr>\n",
       "    <tr>\n",
       "      <th>1</th>\n",
       "      <td>6605</td>\n",
       "      <td>71</td>\n",
       "      <td>1</td>\n",
       "      <td>0</td>\n",
       "      <td>1</td>\n",
       "      <td>2</td>\n",
       "    </tr>\n",
       "    <tr>\n",
       "      <th>2</th>\n",
       "      <td>18548</td>\n",
       "      <td>38</td>\n",
       "      <td>8</td>\n",
       "      <td>0</td>\n",
       "      <td>0</td>\n",
       "      <td>1</td>\n",
       "    </tr>\n",
       "    <tr>\n",
       "      <th>3</th>\n",
       "      <td>47668</td>\n",
       "      <td>54</td>\n",
       "      <td>3</td>\n",
       "      <td>0</td>\n",
       "      <td>0</td>\n",
       "      <td>1</td>\n",
       "    </tr>\n",
       "    <tr>\n",
       "      <th>4</th>\n",
       "      <td>44554</td>\n",
       "      <td>59</td>\n",
       "      <td>9</td>\n",
       "      <td>2</td>\n",
       "      <td>0</td>\n",
       "      <td>4</td>\n",
       "    </tr>\n",
       "    <tr>\n",
       "      <th>...</th>\n",
       "      <td>...</td>\n",
       "      <td>...</td>\n",
       "      <td>...</td>\n",
       "      <td>...</td>\n",
       "      <td>...</td>\n",
       "      <td>...</td>\n",
       "    </tr>\n",
       "    <tr>\n",
       "      <th>742</th>\n",
       "      <td>14795</td>\n",
       "      <td>36</td>\n",
       "      <td>6</td>\n",
       "      <td>1</td>\n",
       "      <td>0</td>\n",
       "      <td>4</td>\n",
       "    </tr>\n",
       "    <tr>\n",
       "      <th>743</th>\n",
       "      <td>26387</td>\n",
       "      <td>56</td>\n",
       "      <td>6</td>\n",
       "      <td>1</td>\n",
       "      <td>1</td>\n",
       "      <td>2</td>\n",
       "    </tr>\n",
       "    <tr>\n",
       "      <th>744</th>\n",
       "      <td>61300</td>\n",
       "      <td>50</td>\n",
       "      <td>0</td>\n",
       "      <td>2</td>\n",
       "      <td>1</td>\n",
       "      <td>2</td>\n",
       "    </tr>\n",
       "    <tr>\n",
       "      <th>745</th>\n",
       "      <td>15100</td>\n",
       "      <td>37</td>\n",
       "      <td>7</td>\n",
       "      <td>0</td>\n",
       "      <td>0</td>\n",
       "      <td>2</td>\n",
       "    </tr>\n",
       "    <tr>\n",
       "      <th>746</th>\n",
       "      <td>17875</td>\n",
       "      <td>18</td>\n",
       "      <td>3</td>\n",
       "      <td>0</td>\n",
       "      <td>0</td>\n",
       "      <td>1</td>\n",
       "    </tr>\n",
       "  </tbody>\n",
       "</table>\n",
       "<p>747 rows × 6 columns</p>\n",
       "</div>"
      ],
      "text/plain": [
       "     income  age  years_with_bank  nbr_children  gender  marital_status\n",
       "0     26150   46                5             1       1               2\n",
       "1      6605   71                1             0       1               2\n",
       "2     18548   38                8             0       0               1\n",
       "3     47668   54                3             0       0               1\n",
       "4     44554   59                9             2       0               4\n",
       "..      ...  ...              ...           ...     ...             ...\n",
       "742   14795   36                6             1       0               4\n",
       "743   26387   56                6             1       1               2\n",
       "744   61300   50                0             2       1               2\n",
       "745   15100   37                7             0       0               2\n",
       "746   17875   18                3             0       0               1\n",
       "\n",
       "[747 rows x 6 columns]"
      ]
     },
     "execution_count": 34,
     "metadata": {},
     "output_type": "execute_result"
    }
   ],
   "source": [
    "df_customer_numeric"
   ]
  },
  {
   "cell_type": "code",
   "execution_count": 35,
   "metadata": {},
   "outputs": [],
   "source": [
    "# scale\n",
    "df_customer_numeric_scaled=sc.fit_transform(df_customer_numeric.iloc[:, :4])"
   ]
  },
  {
   "cell_type": "code",
   "execution_count": 36,
   "metadata": {},
   "outputs": [
    {
     "data": {
      "text/plain": [
       "array([[ 0.1541846 ,  0.18431237,  0.40853922,  0.25859076],\n",
       "       [-0.72652421,  1.49307037, -1.08743527, -0.64829796],\n",
       "       [-0.18836584, -0.23449019,  1.53052009, -0.64829796],\n",
       "       ...,\n",
       "       [ 1.73806357,  0.39371365, -1.4614289 ,  1.16547947],\n",
       "       [-0.34373468, -0.28684051,  1.15652647, -0.64829796],\n",
       "       [-0.21869161, -1.28149658, -0.33944803, -0.64829796]])"
      ]
     },
     "execution_count": 36,
     "metadata": {},
     "output_type": "execute_result"
    }
   ],
   "source": [
    "df_customer_numeric_scaled"
   ]
  },
  {
   "cell_type": "code",
   "execution_count": 37,
   "metadata": {},
   "outputs": [],
   "source": [
    "# try using min max scaling\n",
    "from sklearn.preprocessing import MinMaxScaler"
   ]
  },
  {
   "cell_type": "code",
   "execution_count": 38,
   "metadata": {},
   "outputs": [],
   "source": [
    "scaler = MinMaxScaler()\n",
    "df_customer_numeric_minmax = scaler.fit_transform(df_customer_numeric)"
   ]
  },
  {
   "cell_type": "code",
   "execution_count": 39,
   "metadata": {},
   "outputs": [
    {
     "data": {
      "text/plain": [
       "array([[0.18139945, 0.43421053, 0.55555556, 0.2       , 1.        ,\n",
       "        0.33333333],\n",
       "       [0.0458181 , 0.76315789, 0.11111111, 0.        , 1.        ,\n",
       "        0.33333333],\n",
       "       [0.12866527, 0.32894737, 0.88888889, 0.        , 0.        ,\n",
       "        0.        ],\n",
       "       ...,\n",
       "       [0.42523082, 0.48684211, 0.        , 0.4       , 1.        ,\n",
       "        0.33333333],\n",
       "       [0.10474691, 0.31578947, 0.77777778, 0.        , 0.        ,\n",
       "        0.33333333],\n",
       "       [0.12399675, 0.06578947, 0.33333333, 0.        , 0.        ,\n",
       "        0.        ]])"
      ]
     },
     "execution_count": 39,
     "metadata": {},
     "output_type": "execute_result"
    }
   ],
   "source": [
    "df_customer_numeric_minmax"
   ]
  },
  {
   "cell_type": "code",
   "execution_count": 40,
   "metadata": {},
   "outputs": [
    {
     "data": {
      "image/png": "[encoded data removed]",
      "text/plain": [
       "<Figure size 864x576 with 1 Axes>"
      ]
     },
     "metadata": {
      "needs_background": "light"
     },
     "output_type": "display_data"
    }
   ],
   "source": [
    "plot_distortion(df_customer_numeric_minmax)"
   ]
  },
  {
   "cell_type": "code",
   "execution_count": 41,
   "metadata": {},
   "outputs": [],
   "source": [
    "df_customer_numeric_minmax = pd.DataFrame(df_customer_numeric_minmax, columns=['income','age','years_with_bank','nbr_children','gender','marital_status'])"
   ]
  },
  {
   "cell_type": "code",
   "execution_count": 42,
   "metadata": {},
   "outputs": [],
   "source": [
    "# choose k = 5\n",
    "km_minmax=KMeans(n_clusters=5, n_init=10, random_state=1245)\n",
    "y_km_minmax = km_minmax.fit_predict(df_customer_numeric_minmax)"
   ]
  },
  {
   "cell_type": "code",
   "execution_count": 43,
   "metadata": {},
   "outputs": [],
   "source": [
    "df_customer_numeric_minmax['cluster'] = y_km_minmax"
   ]
  },
  {
   "cell_type": "code",
   "execution_count": 44,
   "metadata": {},
   "outputs": [
    {
     "data": {
      "text/html": [
       "<div>\n",
       "<style scoped>\n",
       "    .dataframe tbody tr th:only-of-type {\n",
       "        vertical-align: middle;\n",
       "    }\n",
       "\n",
       "    .dataframe tbody tr th {\n",
       "        vertical-align: top;\n",
       "    }\n",
       "\n",
       "    .dataframe thead th {\n",
       "        text-align: right;\n",
       "    }\n",
       "</style>\n",
       "<table border=\"1\" class=\"dataframe\">\n",
       "  <thead>\n",
       "    <tr style=\"text-align: right;\">\n",
       "      <th></th>\n",
       "      <th>income</th>\n",
       "      <th>age</th>\n",
       "      <th>years_with_bank</th>\n",
       "      <th>nbr_children</th>\n",
       "      <th>gender</th>\n",
       "      <th>marital_status</th>\n",
       "      <th>cluster</th>\n",
       "    </tr>\n",
       "  </thead>\n",
       "  <tbody>\n",
       "    <tr>\n",
       "      <th>0</th>\n",
       "      <td>0.181399</td>\n",
       "      <td>0.434211</td>\n",
       "      <td>0.555556</td>\n",
       "      <td>0.2</td>\n",
       "      <td>1.0</td>\n",
       "      <td>0.333333</td>\n",
       "      <td>1</td>\n",
       "    </tr>\n",
       "    <tr>\n",
       "      <th>1</th>\n",
       "      <td>0.045818</td>\n",
       "      <td>0.763158</td>\n",
       "      <td>0.111111</td>\n",
       "      <td>0.0</td>\n",
       "      <td>1.0</td>\n",
       "      <td>0.333333</td>\n",
       "      <td>1</td>\n",
       "    </tr>\n",
       "    <tr>\n",
       "      <th>2</th>\n",
       "      <td>0.128665</td>\n",
       "      <td>0.328947</td>\n",
       "      <td>0.888889</td>\n",
       "      <td>0.0</td>\n",
       "      <td>0.0</td>\n",
       "      <td>0.000000</td>\n",
       "      <td>4</td>\n",
       "    </tr>\n",
       "    <tr>\n",
       "      <th>3</th>\n",
       "      <td>0.330667</td>\n",
       "      <td>0.539474</td>\n",
       "      <td>0.333333</td>\n",
       "      <td>0.0</td>\n",
       "      <td>0.0</td>\n",
       "      <td>0.000000</td>\n",
       "      <td>0</td>\n",
       "    </tr>\n",
       "    <tr>\n",
       "      <th>4</th>\n",
       "      <td>0.309066</td>\n",
       "      <td>0.605263</td>\n",
       "      <td>1.000000</td>\n",
       "      <td>0.4</td>\n",
       "      <td>0.0</td>\n",
       "      <td>1.000000</td>\n",
       "      <td>4</td>\n",
       "    </tr>\n",
       "    <tr>\n",
       "      <th>...</th>\n",
       "      <td>...</td>\n",
       "      <td>...</td>\n",
       "      <td>...</td>\n",
       "      <td>...</td>\n",
       "      <td>...</td>\n",
       "      <td>...</td>\n",
       "      <td>...</td>\n",
       "    </tr>\n",
       "    <tr>\n",
       "      <th>742</th>\n",
       "      <td>0.102631</td>\n",
       "      <td>0.302632</td>\n",
       "      <td>0.666667</td>\n",
       "      <td>0.2</td>\n",
       "      <td>0.0</td>\n",
       "      <td>1.000000</td>\n",
       "      <td>2</td>\n",
       "    </tr>\n",
       "    <tr>\n",
       "      <th>743</th>\n",
       "      <td>0.183043</td>\n",
       "      <td>0.565789</td>\n",
       "      <td>0.666667</td>\n",
       "      <td>0.2</td>\n",
       "      <td>1.0</td>\n",
       "      <td>0.333333</td>\n",
       "      <td>1</td>\n",
       "    </tr>\n",
       "    <tr>\n",
       "      <th>744</th>\n",
       "      <td>0.425231</td>\n",
       "      <td>0.486842</td>\n",
       "      <td>0.000000</td>\n",
       "      <td>0.4</td>\n",
       "      <td>1.0</td>\n",
       "      <td>0.333333</td>\n",
       "      <td>1</td>\n",
       "    </tr>\n",
       "    <tr>\n",
       "      <th>745</th>\n",
       "      <td>0.104747</td>\n",
       "      <td>0.315789</td>\n",
       "      <td>0.777778</td>\n",
       "      <td>0.0</td>\n",
       "      <td>0.0</td>\n",
       "      <td>0.333333</td>\n",
       "      <td>4</td>\n",
       "    </tr>\n",
       "    <tr>\n",
       "      <th>746</th>\n",
       "      <td>0.123997</td>\n",
       "      <td>0.065789</td>\n",
       "      <td>0.333333</td>\n",
       "      <td>0.0</td>\n",
       "      <td>0.0</td>\n",
       "      <td>0.000000</td>\n",
       "      <td>0</td>\n",
       "    </tr>\n",
       "  </tbody>\n",
       "</table>\n",
       "<p>747 rows × 7 columns</p>\n",
       "</div>"
      ],
      "text/plain": [
       "       income       age  years_with_bank  nbr_children  gender  \\\n",
       "0    0.181399  0.434211         0.555556           0.2     1.0   \n",
       "1    0.045818  0.763158         0.111111           0.0     1.0   \n",
       "2    0.128665  0.328947         0.888889           0.0     0.0   \n",
       "3    0.330667  0.539474         0.333333           0.0     0.0   \n",
       "4    0.309066  0.605263         1.000000           0.4     0.0   \n",
       "..        ...       ...              ...           ...     ...   \n",
       "742  0.102631  0.302632         0.666667           0.2     0.0   \n",
       "743  0.183043  0.565789         0.666667           0.2     1.0   \n",
       "744  0.425231  0.486842         0.000000           0.4     1.0   \n",
       "745  0.104747  0.315789         0.777778           0.0     0.0   \n",
       "746  0.123997  0.065789         0.333333           0.0     0.0   \n",
       "\n",
       "     marital_status  cluster  \n",
       "0          0.333333        1  \n",
       "1          0.333333        1  \n",
       "2          0.000000        4  \n",
       "3          0.000000        0  \n",
       "4          1.000000        4  \n",
       "..              ...      ...  \n",
       "742        1.000000        2  \n",
       "743        0.333333        1  \n",
       "744        0.333333        1  \n",
       "745        0.333333        4  \n",
       "746        0.000000        0  \n",
       "\n",
       "[747 rows x 7 columns]"
      ]
     },
     "execution_count": 44,
     "metadata": {},
     "output_type": "execute_result"
    }
   ],
   "source": [
    "df_customer_numeric_minmax"
   ]
  },
  {
   "cell_type": "code",
   "execution_count": 45,
   "metadata": {},
   "outputs": [],
   "source": [
    "# use PCA to visualize in 2D\n",
    "from sklearn.decomposition import PCA"
   ]
  },
  {
   "cell_type": "code",
   "execution_count": 46,
   "metadata": {},
   "outputs": [],
   "source": [
    "reduced_data = PCA(n_components=2).fit_transform(df_customer_numeric_minmax)\n",
    "results = pd.DataFrame(reduced_data,columns=['pca1','pca2'])"
   ]
  },
  {
   "cell_type": "code",
   "execution_count": 47,
   "metadata": {},
   "outputs": [],
   "source": [
    "import seaborn as sns"
   ]
  },
  {
   "cell_type": "code",
   "execution_count": 48,
   "metadata": {},
   "outputs": [
    {
     "data": {
      "image/png": "[encoded data removed]",
      "text/plain": [
       "<Figure size 864x576 with 1 Axes>"
      ]
     },
     "metadata": {
      "needs_background": "light"
     },
     "output_type": "display_data"
    }
   ],
   "source": [
    "sns.scatterplot(x=\"pca1\", y=\"pca2\", hue=df_customer_numeric_minmax['cluster'], data=results, palette='deep')\n",
    "plt.title('K-means Clustering with 2 dimensions')\n",
    "plt.show()"
   ]
  },
  {
   "cell_type": "code",
   "execution_count": null,
   "metadata": {},
   "outputs": [],
   "source": []
  },
  {
   "cell_type": "markdown",
   "metadata": {},
   "source": [
    "## Radar Chart"
   ]
  },
  {
   "cell_type": "code",
   "execution_count": 84,
   "metadata": {},
   "outputs": [],
   "source": [
    "df_cust_mean = df_customer_numeric_minmax.groupby('cluster').mean()\n",
    "df_T = df_cust_mean.transpose().reset_index()"
   ]
  },
  {
   "cell_type": "code",
   "execution_count": 85,
   "metadata": {},
   "outputs": [
    {
     "data": {
      "text/html": [
       "<div>\n",
       "<style scoped>\n",
       "    .dataframe tbody tr th:only-of-type {\n",
       "        vertical-align: middle;\n",
       "    }\n",
       "\n",
       "    .dataframe tbody tr th {\n",
       "        vertical-align: top;\n",
       "    }\n",
       "\n",
       "    .dataframe thead th {\n",
       "        text-align: right;\n",
       "    }\n",
       "</style>\n",
       "<table border=\"1\" class=\"dataframe\">\n",
       "  <thead>\n",
       "    <tr style=\"text-align: right;\">\n",
       "      <th>cluster</th>\n",
       "      <th>index</th>\n",
       "      <th>0</th>\n",
       "      <th>1</th>\n",
       "      <th>2</th>\n",
       "      <th>3</th>\n",
       "      <th>4</th>\n",
       "    </tr>\n",
       "  </thead>\n",
       "  <tbody>\n",
       "    <tr>\n",
       "      <th>0</th>\n",
       "      <td>income</td>\n",
       "      <td>0.071942</td>\n",
       "      <td>0.229160</td>\n",
       "      <td>0.179589</td>\n",
       "      <td>0.110029</td>\n",
       "      <td>0.159328</td>\n",
       "    </tr>\n",
       "    <tr>\n",
       "      <th>1</th>\n",
       "      <td>age</td>\n",
       "      <td>0.166505</td>\n",
       "      <td>0.520388</td>\n",
       "      <td>0.428108</td>\n",
       "      <td>0.183382</td>\n",
       "      <td>0.552906</td>\n",
       "    </tr>\n",
       "    <tr>\n",
       "      <th>2</th>\n",
       "      <td>years_with_bank</td>\n",
       "      <td>0.347222</td>\n",
       "      <td>0.459846</td>\n",
       "      <td>0.203704</td>\n",
       "      <td>0.397200</td>\n",
       "      <td>0.733796</td>\n",
       "    </tr>\n",
       "    <tr>\n",
       "      <th>3</th>\n",
       "      <td>nbr_children</td>\n",
       "      <td>0.004412</td>\n",
       "      <td>0.229703</td>\n",
       "      <td>0.285507</td>\n",
       "      <td>0.011024</td>\n",
       "      <td>0.131944</td>\n",
       "    </tr>\n",
       "    <tr>\n",
       "      <th>4</th>\n",
       "      <td>gender</td>\n",
       "      <td>0.000000</td>\n",
       "      <td>1.000000</td>\n",
       "      <td>0.000000</td>\n",
       "      <td>1.000000</td>\n",
       "      <td>0.000000</td>\n",
       "    </tr>\n",
       "    <tr>\n",
       "      <th>5</th>\n",
       "      <td>marital_status</td>\n",
       "      <td>0.022059</td>\n",
       "      <td>0.453795</td>\n",
       "      <td>0.514493</td>\n",
       "      <td>0.039370</td>\n",
       "      <td>0.340278</td>\n",
       "    </tr>\n",
       "  </tbody>\n",
       "</table>\n",
       "</div>"
      ],
      "text/plain": [
       "cluster            index         0         1         2         3         4\n",
       "0                 income  0.071942  0.229160  0.179589  0.110029  0.159328\n",
       "1                    age  0.166505  0.520388  0.428108  0.183382  0.552906\n",
       "2        years_with_bank  0.347222  0.459846  0.203704  0.397200  0.733796\n",
       "3           nbr_children  0.004412  0.229703  0.285507  0.011024  0.131944\n",
       "4                 gender  0.000000  1.000000  0.000000  1.000000  0.000000\n",
       "5         marital_status  0.022059  0.453795  0.514493  0.039370  0.340278"
      ]
     },
     "execution_count": 85,
     "metadata": {},
     "output_type": "execute_result"
    }
   ],
   "source": [
    "df_T"
   ]
  },
  {
   "cell_type": "code",
   "execution_count": 75,
   "metadata": {},
   "outputs": [],
   "source": [
    "import plotly.graph_objects as go"
   ]
  },
  {
   "cell_type": "code",
   "execution_count": 86,
   "metadata": {},
   "outputs": [
    {
     "data": {
      "application/vnd.plotly.v1+json": {
       "config": {
        "plotlyServerURL": "https://plot.ly"
       },
       "data": [
        {
         "fill": "toself",
         "name": "Cluster 0",
         "r": [
          0.07194209009866286,
          0.1665054179566565,
          0.3472222222222224,
          0.004411764705882354,
          0,
          0.022058823529411766
         ],
         "theta": [
          "income",
          "age",
          "years_with_bank",
          "nbr_children",
          "gender",
          "marital_status"
         ],
         "type": "scatterpolar",
         "visible": true
        },
        {
         "fill": "toself",
         "name": "Cluster 1",
         "r": [
          0.22915977128072068,
          0.5203882230328299,
          0.45984598459845977,
          0.22970297029702966,
          1,
          0.4537953795379535
         ],
         "theta": [
          "income",
          "age",
          "years_with_bank",
          "nbr_children",
          "gender",
          "marital_status"
         ],
         "type": "scatterpolar",
         "visible": true
        },
        {
         "fill": "toself",
         "name": "Cluster 2",
         "r": [
          0.1795890209476725,
          0.4281083142639207,
          0.20370370370370347,
          0.28550724637681146,
          0,
          0.5144927536231886
         ],
         "theta": [
          "income",
          "age",
          "years_with_bank",
          "nbr_children",
          "gender",
          "marital_status"
         ],
         "type": "scatterpolar",
         "visible": true
        },
        {
         "fill": "toself",
         "name": "Cluster 3",
         "r": [
          0.11002909721296318,
          0.1833816825528388,
          0.3972003499562554,
          0.011023622047244096,
          1,
          0.03937007874015747
         ],
         "theta": [
          "income",
          "age",
          "years_with_bank",
          "nbr_children",
          "gender",
          "marital_status"
         ],
         "type": "scatterpolar",
         "visible": true
        },
        {
         "fill": "toself",
         "name": "Cluster 4",
         "r": [
          0.15932759075174985,
          0.5529057017543861,
          0.733796296296296,
          0.13194444444444436,
          0,
          0.34027777777777796
         ],
         "theta": [
          "income",
          "age",
          "years_with_bank",
          "nbr_children",
          "gender",
          "marital_status"
         ],
         "type": "scatterpolar",
         "visible": true
        }
       ],
       "layout": {
        "autosize": true,
        "polar": {
         "angularaxis": {
          "type": "category"
         },
         "radialaxis": {
          "autorange": true,
          "range": [
           0,
           1.0285714285714285
          ],
          "type": "linear",
          "visible": true
         }
        },
        "showlegend": true,
        "template": {
         "data": {
          "bar": [
           {
            "error_x": {
             "color": "#2a3f5f"
            },
            "error_y": {
             "color": "#2a3f5f"
            },
            "marker": {
             "line": {
              "color": "#E5ECF6",
              "width": 0.5
             }
            },
            "type": "bar"
           }
          ],
          "barpolar": [
           {
            "marker": {
             "line": {
              "color": "#E5ECF6",
              "width": 0.5
             }
            },
            "type": "barpolar"
           }
          ],
          "carpet": [
           {
            "aaxis": {
             "endlinecolor": "#2a3f5f",
             "gridcolor": "white",
             "linecolor": "white",
             "minorgridcolor": "white",
             "startlinecolor": "#2a3f5f"
            },
            "baxis": {
             "endlinecolor": "#2a3f5f",
             "gridcolor": "white",
             "linecolor": "white",
             "minorgridcolor": "white",
             "startlinecolor": "#2a3f5f"
            },
            "type": "carpet"
           }
          ],
          "choropleth": [
           {
            "colorbar": {
             "outlinewidth": 0,
             "ticks": ""
            },
            "type": "choropleth"
           }
          ],
          "contour": [
           {
            "colorbar": {
             "outlinewidth": 0,
             "ticks": ""
            },
            "colorscale": [
             [
              0,
              "#0d0887"
             ],
             [
              0.1111111111111111,
              "#46039f"
             ],
             [
              0.2222222222222222,
              "#7201a8"
             ],
             [
              0.3333333333333333,
              "#9c179e"
             ],
             [
              0.4444444444444444,
              "#bd3786"
             ],
             [
              0.5555555555555556,
              "#d8576b"
             ],
             [
              0.6666666666666666,
              "#ed7953"
             ],
             [
              0.7777777777777778,
              "#fb9f3a"
             ],
             [
              0.8888888888888888,
              "#fdca26"
             ],
             [
              1,
              "#f0f921"
             ]
            ],
            "type": "contour"
           }
          ],
          "contourcarpet": [
           {
            "colorbar": {
             "outlinewidth": 0,
             "ticks": ""
            },
            "type": "contourcarpet"
           }
          ],
          "heatmap": [
           {
            "colorbar": {
             "outlinewidth": 0,
             "ticks": ""
            },
            "colorscale": [
             [
              0,
              "#0d0887"
             ],
             [
              0.1111111111111111,
              "#46039f"
             ],
             [
              0.2222222222222222,
              "#7201a8"
             ],
             [
              0.3333333333333333,
              "#9c179e"
             ],
             [
              0.4444444444444444,
              "#bd3786"
             ],
             [
              0.5555555555555556,
              "#d8576b"
             ],
             [
              0.6666666666666666,
              "#ed7953"
             ],
             [
              0.7777777777777778,
              "#fb9f3a"
             ],
             [
              0.8888888888888888,
              "#fdca26"
             ],
             [
              1,
              "#f0f921"
             ]
            ],
            "type": "heatmap"
           }
          ],
          "heatmapgl": [
           {
            "colorbar": {
             "outlinewidth": 0,
             "ticks": ""
            },
            "colorscale": [
             [
              0,
              "#0d0887"
             ],
             [
              0.1111111111111111,
              "#46039f"
             ],
             [
              0.2222222222222222,
              "#7201a8"
             ],
             [
              0.3333333333333333,
              "#9c179e"
             ],
             [
              0.4444444444444444,
              "#bd3786"
             ],
             [
              0.5555555555555556,
              "#d8576b"
             ],
             [
              0.6666666666666666,
              "#ed7953"
             ],
             [
              0.7777777777777778,
              "#fb9f3a"
             ],
             [
              0.8888888888888888,
              "#fdca26"
             ],
             [
              1,
              "#f0f921"
             ]
            ],
            "type": "heatmapgl"
           }
          ],
          "histogram": [
           {
            "marker": {
             "colorbar": {
              "outlinewidth": 0,
              "ticks": ""
             }
            },
            "type": "histogram"
           }
          ],
          "histogram2d": [
           {
            "colorbar": {
             "outlinewidth": 0,
             "ticks": ""
            },
            "colorscale": [
             [
              0,
              "#0d0887"
             ],
             [
              0.1111111111111111,
              "#46039f"
             ],
             [
              0.2222222222222222,
              "#7201a8"
             ],
             [
              0.3333333333333333,
              "#9c179e"
             ],
             [
              0.4444444444444444,
              "#bd3786"
             ],
             [
              0.5555555555555556,
              "#d8576b"
             ],
             [
              0.6666666666666666,
              "#ed7953"
             ],
             [
              0.7777777777777778,
              "#fb9f3a"
             ],
             [
              0.8888888888888888,
              "#fdca26"
             ],
             [
              1,
              "#f0f921"
             ]
            ],
            "type": "histogram2d"
           }
          ],
          "histogram2dcontour": [
           {
            "colorbar": {
             "outlinewidth": 0,
             "ticks": ""
            },
            "colorscale": [
             [
              0,
              "#0d0887"
             ],
             [
              0.1111111111111111,
              "#46039f"
             ],
             [
              0.2222222222222222,
              "#7201a8"
             ],
             [
              0.3333333333333333,
              "#9c179e"
             ],
             [
              0.4444444444444444,
              "#bd3786"
             ],
             [
              0.5555555555555556,
              "#d8576b"
             ],
             [
              0.6666666666666666,
              "#ed7953"
             ],
             [
              0.7777777777777778,
              "#fb9f3a"
             ],
             [
              0.8888888888888888,
              "#fdca26"
             ],
             [
              1,
              "#f0f921"
             ]
            ],
            "type": "histogram2dcontour"
           }
          ],
          "mesh3d": [
           {
            "colorbar": {
             "outlinewidth": 0,
             "ticks": ""
            },
            "type": "mesh3d"
           }
          ],
          "parcoords": [
           {
            "line": {
             "colorbar": {
              "outlinewidth": 0,
              "ticks": ""
             }
            },
            "type": "parcoords"
           }
          ],
          "pie": [
           {
            "automargin": true,
            "type": "pie"
           }
          ],
          "scatter": [
           {
            "marker": {
             "colorbar": {
              "outlinewidth": 0,
              "ticks": ""
             }
            },
            "type": "scatter"
           }
          ],
          "scatter3d": [
           {
            "line": {
             "colorbar": {
              "outlinewidth": 0,
              "ticks": ""
             }
            },
            "marker": {
             "colorbar": {
              "outlinewidth": 0,
              "ticks": ""
             }
            },
            "type": "scatter3d"
           }
          ],
          "scattercarpet": [
           {
            "marker": {
             "colorbar": {
              "outlinewidth": 0,
              "ticks": ""
             }
            },
            "type": "scattercarpet"
           }
          ],
          "scattergeo": [
           {
            "marker": {
             "colorbar": {
              "outlinewidth": 0,
              "ticks": ""
             }
            },
            "type": "scattergeo"
           }
          ],
          "scattergl": [
           {
            "marker": {
             "colorbar": {
              "outlinewidth": 0,
              "ticks": ""
             }
            },
            "type": "scattergl"
           }
          ],
          "scattermapbox": [
           {
            "marker": {
             "colorbar": {
              "outlinewidth": 0,
              "ticks": ""
             }
            },
            "type": "scattermapbox"
           }
          ],
          "scatterpolar": [
           {
            "marker": {
             "colorbar": {
              "outlinewidth": 0,
              "ticks": ""
             }
            },
            "type": "scatterpolar"
           }
          ],
          "scatterpolargl": [
           {
            "marker": {
             "colorbar": {
              "outlinewidth": 0,
              "ticks": ""
             }
            },
            "type": "scatterpolargl"
           }
          ],
          "scatterternary": [
           {
            "marker": {
             "colorbar": {
              "outlinewidth": 0,
              "ticks": ""
             }
            },
            "type": "scatterternary"
           }
          ],
          "surface": [
           {
            "colorbar": {
             "outlinewidth": 0,
             "ticks": ""
            },
            "colorscale": [
             [
              0,
              "#0d0887"
             ],
             [
              0.1111111111111111,
              "#46039f"
             ],
             [
              0.2222222222222222,
              "#7201a8"
             ],
             [
              0.3333333333333333,
              "#9c179e"
             ],
             [
              0.4444444444444444,
              "#bd3786"
             ],
             [
              0.5555555555555556,
              "#d8576b"
             ],
             [
              0.6666666666666666,
              "#ed7953"
             ],
             [
              0.7777777777777778,
              "#fb9f3a"
             ],
             [
              0.8888888888888888,
              "#fdca26"
             ],
             [
              1,
              "#f0f921"
             ]
            ],
            "type": "surface"
           }
          ],
          "table": [
           {
            "cells": {
             "fill": {
              "color": "#EBF0F8"
             },
             "line": {
              "color": "white"
             }
            },
            "header": {
             "fill": {
              "color": "#C8D4E3"
             },
             "line": {
              "color": "white"
             }
            },
            "type": "table"
           }
          ]
         },
         "layout": {
          "annotationdefaults": {
           "arrowcolor": "#2a3f5f",
           "arrowhead": 0,
           "arrowwidth": 1
          },
          "autotypenumbers": "strict",
          "coloraxis": {
           "colorbar": {
            "outlinewidth": 0,
            "ticks": ""
           }
          },
          "colorscale": {
           "diverging": [
            [
             0,
             "#8e0152"
            ],
            [
             0.1,
             "#c51b7d"
            ],
            [
             0.2,
             "#de77ae"
            ],
            [
             0.3,
             "#f1b6da"
            ],
            [
             0.4,
             "#fde0ef"
            ],
            [
             0.5,
             "#f7f7f7"
            ],
            [
             0.6,
             "#e6f5d0"
            ],
            [
             0.7,
             "#b8e186"
            ],
            [
             0.8,
             "#7fbc41"
            ],
            [
             0.9,
             "#4d9221"
            ],
            [
             1,
             "#276419"
            ]
           ],
           "sequential": [
            [
             0,
             "#0d0887"
            ],
            [
             0.1111111111111111,
             "#46039f"
            ],
            [
             0.2222222222222222,
             "#7201a8"
            ],
            [
             0.3333333333333333,
             "#9c179e"
            ],
            [
             0.4444444444444444,
             "#bd3786"
            ],
            [
             0.5555555555555556,
             "#d8576b"
            ],
            [
             0.6666666666666666,
             "#ed7953"
            ],
            [
             0.7777777777777778,
             "#fb9f3a"
            ],
            [
             0.8888888888888888,
             "#fdca26"
            ],
            [
             1,
             "#f0f921"
            ]
           ],
           "sequentialminus": [
            [
             0,
             "#0d0887"
            ],
            [
             0.1111111111111111,
             "#46039f"
            ],
            [
             0.2222222222222222,
             "#7201a8"
            ],
            [
             0.3333333333333333,
             "#9c179e"
            ],
            [
             0.4444444444444444,
             "#bd3786"
            ],
            [
             0.5555555555555556,
             "#d8576b"
            ],
            [
             0.6666666666666666,
             "#ed7953"
            ],
            [
             0.7777777777777778,
             "#fb9f3a"
            ],
            [
             0.8888888888888888,
             "#fdca26"
            ],
            [
             1,
             "#f0f921"
            ]
           ]
          },
          "colorway": [
           "#636efa",
           "#EF553B",
           "#00cc96",
           "#ab63fa",
           "#FFA15A",
           "#19d3f3",
           "#FF6692",
           "#B6E880",
           "#FF97FF",
           "#FECB52"
          ],
          "font": {
           "color": "#2a3f5f"
          },
          "geo": {
           "bgcolor": "white",
           "lakecolor": "white",
           "landcolor": "#E5ECF6",
           "showlakes": true,
           "showland": true,
           "subunitcolor": "white"
          },
          "hoverlabel": {
           "align": "left"
          },
          "hovermode": "closest",
          "mapbox": {
           "style": "light"
          },
          "paper_bgcolor": "white",
          "plot_bgcolor": "#E5ECF6",
          "polar": {
           "angularaxis": {
            "gridcolor": "white",
            "linecolor": "white",
            "ticks": ""
           },
           "bgcolor": "#E5ECF6",
           "radialaxis": {
            "gridcolor": "white",
            "linecolor": "white",
            "ticks": ""
           }
          },
          "scene": {
           "xaxis": {
            "backgroundcolor": "#E5ECF6",
            "gridcolor": "white",
            "gridwidth": 2,
            "linecolor": "white",
            "showbackground": true,
            "ticks": "",
            "zerolinecolor": "white"
           },
           "yaxis": {
            "backgroundcolor": "#E5ECF6",
            "gridcolor": "white",
            "gridwidth": 2,
            "linecolor": "white",
            "showbackground": true,
            "ticks": "",
            "zerolinecolor": "white"
           },
           "zaxis": {
            "backgroundcolor": "#E5ECF6",
            "gridcolor": "white",
            "gridwidth": 2,
            "linecolor": "white",
            "showbackground": true,
            "ticks": "",
            "zerolinecolor": "white"
           }
          },
          "shapedefaults": {
           "line": {
            "color": "#2a3f5f"
           }
          },
          "ternary": {
           "aaxis": {
            "gridcolor": "white",
            "linecolor": "white",
            "ticks": ""
           },
           "baxis": {
            "gridcolor": "white",
            "linecolor": "white",
            "ticks": ""
           },
           "bgcolor": "#E5ECF6",
           "caxis": {
            "gridcolor": "white",
            "linecolor": "white",
            "ticks": ""
           }
          },
          "title": {
           "x": 0.05
          },
          "xaxis": {
           "automargin": true,
           "gridcolor": "white",
           "linecolor": "white",
           "ticks": "",
           "title": {
            "standoff": 15
           },
           "zerolinecolor": "white",
           "zerolinewidth": 2
          },
          "yaxis": {
           "automargin": true,
           "gridcolor": "white",
           "linecolor": "white",
           "ticks": "",
           "title": {
            "standoff": 15
           },
           "zerolinecolor": "white",
           "zerolinewidth": 2
          }
         }
        }
       }
      },
      "image/png": "[encoded data removed]",
      "text/html": [
       "<div>                            <div id=\"03a018b1-a368-41ed-8904-d7e928e18655\" class=\"plotly-graph-div\" style=\"height:525px; width:100%;\"></div>            <script type=\"text/javascript\">                require([\"plotly\"], function(Plotly) {                    window.PLOTLYENV=window.PLOTLYENV || {};                                    if (document.getElementById(\"03a018b1-a368-41ed-8904-d7e928e18655\")) {                    Plotly.newPlot(                        \"03a018b1-a368-41ed-8904-d7e928e18655\",                        [{\"fill\": \"toself\", \"name\": \"Cluster 0\", \"r\": [0.07194209009866286, 0.1665054179566565, 0.3472222222222224, 0.004411764705882354, 0.0, 0.022058823529411766], \"theta\": [\"income\", \"age\", \"years_with_bank\", \"nbr_children\", \"gender\", \"marital_status\"], \"type\": \"scatterpolar\"}, {\"fill\": \"toself\", \"name\": \"Cluster 1\", \"r\": [0.22915977128072068, 0.5203882230328299, 0.45984598459845977, 0.22970297029702966, 1.0, 0.4537953795379535], \"theta\": [\"income\", \"age\", \"years_with_bank\", \"nbr_children\", \"gender\", \"marital_status\"], \"type\": \"scatterpolar\"}, {\"fill\": \"toself\", \"name\": \"Cluster 2\", \"r\": [0.1795890209476725, 0.4281083142639207, 0.20370370370370347, 0.28550724637681146, 0.0, 0.5144927536231886], \"theta\": [\"income\", \"age\", \"years_with_bank\", \"nbr_children\", \"gender\", \"marital_status\"], \"type\": \"scatterpolar\"}, {\"fill\": \"toself\", \"name\": \"Cluster 3\", \"r\": [0.11002909721296318, 0.1833816825528388, 0.3972003499562554, 0.011023622047244096, 1.0, 0.03937007874015747], \"theta\": [\"income\", \"age\", \"years_with_bank\", \"nbr_children\", \"gender\", \"marital_status\"], \"type\": \"scatterpolar\"}, {\"fill\": \"toself\", \"name\": \"Cluster 4\", \"r\": [0.15932759075174985, 0.5529057017543861, 0.733796296296296, 0.13194444444444436, 0.0, 0.34027777777777796], \"theta\": [\"income\", \"age\", \"years_with_bank\", \"nbr_children\", \"gender\", \"marital_status\"], \"type\": \"scatterpolar\"}],                        {\"polar\": {\"radialaxis\": {\"visible\": true}}, \"showlegend\": true, \"template\": {\"data\": {\"bar\": [{\"error_x\": {\"color\": \"#2a3f5f\"}, \"error_y\": {\"color\": \"#2a3f5f\"}, \"marker\": {\"line\": {\"color\": \"#E5ECF6\", \"width\": 0.5}}, \"type\": \"bar\"}], \"barpolar\": [{\"marker\": {\"line\": {\"color\": \"#E5ECF6\", \"width\": 0.5}}, \"type\": \"barpolar\"}], \"carpet\": [{\"aaxis\": {\"endlinecolor\": \"#2a3f5f\", \"gridcolor\": \"white\", \"linecolor\": \"white\", \"minorgridcolor\": \"white\", \"startlinecolor\": \"#2a3f5f\"}, \"baxis\": {\"endlinecolor\": \"#2a3f5f\", \"gridcolor\": \"white\", \"linecolor\": \"white\", \"minorgridcolor\": \"white\", \"startlinecolor\": \"#2a3f5f\"}, \"type\": \"carpet\"}], \"choropleth\": [{\"colorbar\": {\"outlinewidth\": 0, \"ticks\": \"\"}, \"type\": \"choropleth\"}], \"contour\": [{\"colorbar\": {\"outlinewidth\": 0, \"ticks\": \"\"}, \"colorscale\": [[0.0, \"#0d0887\"], [0.1111111111111111, \"#46039f\"], [0.2222222222222222, \"#7201a8\"], [0.3333333333333333, \"#9c179e\"], [0.4444444444444444, \"#bd3786\"], [0.5555555555555556, \"#d8576b\"], [0.6666666666666666, \"#ed7953\"], [0.7777777777777778, \"#fb9f3a\"], [0.8888888888888888, \"#fdca26\"], [1.0, \"#f0f921\"]], \"type\": \"contour\"}], \"contourcarpet\": [{\"colorbar\": {\"outlinewidth\": 0, \"ticks\": \"\"}, \"type\": \"contourcarpet\"}], \"heatmap\": [{\"colorbar\": {\"outlinewidth\": 0, \"ticks\": \"\"}, \"colorscale\": [[0.0, \"#0d0887\"], [0.1111111111111111, \"#46039f\"], [0.2222222222222222, \"#7201a8\"], [0.3333333333333333, \"#9c179e\"], [0.4444444444444444, \"#bd3786\"], [0.5555555555555556, \"#d8576b\"], [0.6666666666666666, \"#ed7953\"], [0.7777777777777778, \"#fb9f3a\"], [0.8888888888888888, \"#fdca26\"], [1.0, \"#f0f921\"]], \"type\": \"heatmap\"}], \"heatmapgl\": [{\"colorbar\": {\"outlinewidth\": 0, \"ticks\": \"\"}, \"colorscale\": [[0.0, \"#0d0887\"], [0.1111111111111111, \"#46039f\"], [0.2222222222222222, \"#7201a8\"], [0.3333333333333333, \"#9c179e\"], [0.4444444444444444, \"#bd3786\"], [0.5555555555555556, \"#d8576b\"], [0.6666666666666666, \"#ed7953\"], [0.7777777777777778, \"#fb9f3a\"], [0.8888888888888888, \"#fdca26\"], [1.0, \"#f0f921\"]], \"type\": \"heatmapgl\"}], \"histogram\": [{\"marker\": {\"colorbar\": {\"outlinewidth\": 0, \"ticks\": \"\"}}, \"type\": \"histogram\"}], \"histogram2d\": [{\"colorbar\": {\"outlinewidth\": 0, \"ticks\": \"\"}, \"colorscale\": [[0.0, \"#0d0887\"], [0.1111111111111111, \"#46039f\"], [0.2222222222222222, \"#7201a8\"], [0.3333333333333333, \"#9c179e\"], [0.4444444444444444, \"#bd3786\"], [0.5555555555555556, \"#d8576b\"], [0.6666666666666666, \"#ed7953\"], [0.7777777777777778, \"#fb9f3a\"], [0.8888888888888888, \"#fdca26\"], [1.0, \"#f0f921\"]], \"type\": \"histogram2d\"}], \"histogram2dcontour\": [{\"colorbar\": {\"outlinewidth\": 0, \"ticks\": \"\"}, \"colorscale\": [[0.0, \"#0d0887\"], [0.1111111111111111, \"#46039f\"], [0.2222222222222222, \"#7201a8\"], [0.3333333333333333, \"#9c179e\"], [0.4444444444444444, \"#bd3786\"], [0.5555555555555556, \"#d8576b\"], [0.6666666666666666, \"#ed7953\"], [0.7777777777777778, \"#fb9f3a\"], [0.8888888888888888, \"#fdca26\"], [1.0, \"#f0f921\"]], \"type\": \"histogram2dcontour\"}], \"mesh3d\": [{\"colorbar\": {\"outlinewidth\": 0, \"ticks\": \"\"}, \"type\": \"mesh3d\"}], \"parcoords\": [{\"line\": {\"colorbar\": {\"outlinewidth\": 0, \"ticks\": \"\"}}, \"type\": \"parcoords\"}], \"pie\": [{\"automargin\": true, \"type\": \"pie\"}], \"scatter\": [{\"marker\": {\"colorbar\": {\"outlinewidth\": 0, \"ticks\": \"\"}}, \"type\": \"scatter\"}], \"scatter3d\": [{\"line\": {\"colorbar\": {\"outlinewidth\": 0, \"ticks\": \"\"}}, \"marker\": {\"colorbar\": {\"outlinewidth\": 0, \"ticks\": \"\"}}, \"type\": \"scatter3d\"}], \"scattercarpet\": [{\"marker\": {\"colorbar\": {\"outlinewidth\": 0, \"ticks\": \"\"}}, \"type\": \"scattercarpet\"}], \"scattergeo\": [{\"marker\": {\"colorbar\": {\"outlinewidth\": 0, \"ticks\": \"\"}}, \"type\": \"scattergeo\"}], \"scattergl\": [{\"marker\": {\"colorbar\": {\"outlinewidth\": 0, \"ticks\": \"\"}}, \"type\": \"scattergl\"}], \"scattermapbox\": [{\"marker\": {\"colorbar\": {\"outlinewidth\": 0, \"ticks\": \"\"}}, \"type\": \"scattermapbox\"}], \"scatterpolar\": [{\"marker\": {\"colorbar\": {\"outlinewidth\": 0, \"ticks\": \"\"}}, \"type\": \"scatterpolar\"}], \"scatterpolargl\": [{\"marker\": {\"colorbar\": {\"outlinewidth\": 0, \"ticks\": \"\"}}, \"type\": \"scatterpolargl\"}], \"scatterternary\": [{\"marker\": {\"colorbar\": {\"outlinewidth\": 0, \"ticks\": \"\"}}, \"type\": \"scatterternary\"}], \"surface\": [{\"colorbar\": {\"outlinewidth\": 0, \"ticks\": \"\"}, \"colorscale\": [[0.0, \"#0d0887\"], [0.1111111111111111, \"#46039f\"], [0.2222222222222222, \"#7201a8\"], [0.3333333333333333, \"#9c179e\"], [0.4444444444444444, \"#bd3786\"], [0.5555555555555556, \"#d8576b\"], [0.6666666666666666, \"#ed7953\"], [0.7777777777777778, \"#fb9f3a\"], [0.8888888888888888, \"#fdca26\"], [1.0, \"#f0f921\"]], \"type\": \"surface\"}], \"table\": [{\"cells\": {\"fill\": {\"color\": \"#EBF0F8\"}, \"line\": {\"color\": \"white\"}}, \"header\": {\"fill\": {\"color\": \"#C8D4E3\"}, \"line\": {\"color\": \"white\"}}, \"type\": \"table\"}]}, \"layout\": {\"annotationdefaults\": {\"arrowcolor\": \"#2a3f5f\", \"arrowhead\": 0, \"arrowwidth\": 1}, \"autotypenumbers\": \"strict\", \"coloraxis\": {\"colorbar\": {\"outlinewidth\": 0, \"ticks\": \"\"}}, \"colorscale\": {\"diverging\": [[0, \"#8e0152\"], [0.1, \"#c51b7d\"], [0.2, \"#de77ae\"], [0.3, \"#f1b6da\"], [0.4, \"#fde0ef\"], [0.5, \"#f7f7f7\"], [0.6, \"#e6f5d0\"], [0.7, \"#b8e186\"], [0.8, \"#7fbc41\"], [0.9, \"#4d9221\"], [1, \"#276419\"]], \"sequential\": [[0.0, \"#0d0887\"], [0.1111111111111111, \"#46039f\"], [0.2222222222222222, \"#7201a8\"], [0.3333333333333333, \"#9c179e\"], [0.4444444444444444, \"#bd3786\"], [0.5555555555555556, \"#d8576b\"], [0.6666666666666666, \"#ed7953\"], [0.7777777777777778, \"#fb9f3a\"], [0.8888888888888888, \"#fdca26\"], [1.0, \"#f0f921\"]], \"sequentialminus\": [[0.0, \"#0d0887\"], [0.1111111111111111, \"#46039f\"], [0.2222222222222222, \"#7201a8\"], [0.3333333333333333, \"#9c179e\"], [0.4444444444444444, \"#bd3786\"], [0.5555555555555556, \"#d8576b\"], [0.6666666666666666, \"#ed7953\"], [0.7777777777777778, \"#fb9f3a\"], [0.8888888888888888, \"#fdca26\"], [1.0, \"#f0f921\"]]}, \"colorway\": [\"#636efa\", \"#EF553B\", \"#00cc96\", \"#ab63fa\", \"#FFA15A\", \"#19d3f3\", \"#FF6692\", \"#B6E880\", \"#FF97FF\", \"#FECB52\"], \"font\": {\"color\": \"#2a3f5f\"}, \"geo\": {\"bgcolor\": \"white\", \"lakecolor\": \"white\", \"landcolor\": \"#E5ECF6\", \"showlakes\": true, \"showland\": true, \"subunitcolor\": \"white\"}, \"hoverlabel\": {\"align\": \"left\"}, \"hovermode\": \"closest\", \"mapbox\": {\"style\": \"light\"}, \"paper_bgcolor\": \"white\", \"plot_bgcolor\": \"#E5ECF6\", \"polar\": {\"angularaxis\": {\"gridcolor\": \"white\", \"linecolor\": \"white\", \"ticks\": \"\"}, \"bgcolor\": \"#E5ECF6\", \"radialaxis\": {\"gridcolor\": \"white\", \"linecolor\": \"white\", \"ticks\": \"\"}}, \"scene\": {\"xaxis\": {\"backgroundcolor\": \"#E5ECF6\", \"gridcolor\": \"white\", \"gridwidth\": 2, \"linecolor\": \"white\", \"showbackground\": true, \"ticks\": \"\", \"zerolinecolor\": \"white\"}, \"yaxis\": {\"backgroundcolor\": \"#E5ECF6\", \"gridcolor\": \"white\", \"gridwidth\": 2, \"linecolor\": \"white\", \"showbackground\": true, \"ticks\": \"\", \"zerolinecolor\": \"white\"}, \"zaxis\": {\"backgroundcolor\": \"#E5ECF6\", \"gridcolor\": \"white\", \"gridwidth\": 2, \"linecolor\": \"white\", \"showbackground\": true, \"ticks\": \"\", \"zerolinecolor\": \"white\"}}, \"shapedefaults\": {\"line\": {\"color\": \"#2a3f5f\"}}, \"ternary\": {\"aaxis\": {\"gridcolor\": \"white\", \"linecolor\": \"white\", \"ticks\": \"\"}, \"baxis\": {\"gridcolor\": \"white\", \"linecolor\": \"white\", \"ticks\": \"\"}, \"bgcolor\": \"#E5ECF6\", \"caxis\": {\"gridcolor\": \"white\", \"linecolor\": \"white\", \"ticks\": \"\"}}, \"title\": {\"x\": 0.05}, \"xaxis\": {\"automargin\": true, \"gridcolor\": \"white\", \"linecolor\": \"white\", \"ticks\": \"\", \"title\": {\"standoff\": 15}, \"zerolinecolor\": \"white\", \"zerolinewidth\": 2}, \"yaxis\": {\"automargin\": true, \"gridcolor\": \"white\", \"linecolor\": \"white\", \"ticks\": \"\", \"title\": {\"standoff\": 15}, \"zerolinecolor\": \"white\", \"zerolinewidth\": 2}}}},                        {\"responsive\": true}                    ).then(function(){\n",
       "                            \n",
       "var gd = document.getElementById('03a018b1-a368-41ed-8904-d7e928e18655');\n",
       "var x = new MutationObserver(function (mutations, observer) {{\n",
       "        var display = window.getComputedStyle(gd).display;\n",
       "        if (!display || display === 'none') {{\n",
       "            console.log([gd, 'removed!']);\n",
       "            Plotly.purge(gd);\n",
       "            observer.disconnect();\n",
       "        }}\n",
       "}});\n",
       "\n",
       "// Listen for the removal of the full notebook cells\n",
       "var notebookContainer = gd.closest('#notebook-container');\n",
       "if (notebookContainer) {{\n",
       "    x.observe(notebookContainer, {childList: true});\n",
       "}}\n",
       "\n",
       "// Listen for the clearing of the current output cell\n",
       "var outputEl = gd.closest('.output');\n",
       "if (outputEl) {{\n",
       "    x.observe(outputEl, {childList: true});\n",
       "}}\n",
       "\n",
       "                        })                };                });            </script>        </div>"
      ]
     },
     "metadata": {},
     "output_type": "display_data"
    }
   ],
   "source": [
    "fig = go.Figure()\n",
    "fig.add_trace(go.Scatterpolar(r=df_T[0], theta=df_T['index'], fill='toself', name='Cluster 0'))\n",
    "fig.add_trace(go.Scatterpolar(r=df_T[1], theta=df_T['index'], fill='toself', name='Cluster 1'))\n",
    "fig.add_trace(go.Scatterpolar(r=df_T[2], theta=df_T['index'], fill='toself', name='Cluster 2'))\n",
    "fig.add_trace(go.Scatterpolar(r=df_T[3], theta=df_T['index'], fill='toself', name='Cluster 3'))\n",
    "fig.add_trace(go.Scatterpolar(r=df_T[4], theta=df_T['index'], fill='toself', name='Cluster 4'))\n",
    "fig.update_layout(\n",
    "  polar=dict(\n",
    "    radialaxis=dict(\n",
    "      visible=True,\n",
    "    )),\n",
    "  showlegend=True\n",
    ")\n",
    "\n",
    "fig.show()"
   ]
  },
  {
   "cell_type": "code",
   "execution_count": null,
   "metadata": {},
   "outputs": [],
   "source": []
  }
 ],
 "metadata": {
  "kernelspec": {
   "display_name": "Python 3",
   "language": "python",
   "name": "python3"
  },
  "language_info": {
   "codemirror_mode": {
    "name": "ipython",
    "version": 3
   },
   "file_extension": ".py",
   "mimetype": "text/x-python",
   "name": "python",
   "nbconvert_exporter": "python",
   "pygments_lexer": "ipython3",
   "version": "3.8.5"
  }
 },
 "nbformat": 4,
 "nbformat_minor": 4
}
